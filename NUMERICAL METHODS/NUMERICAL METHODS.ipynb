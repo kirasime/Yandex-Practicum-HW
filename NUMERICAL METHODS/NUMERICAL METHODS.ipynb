{
 "cells": [
  {
   "cell_type": "markdown",
   "metadata": {},
   "source": [
    "<div style=\"border:solid Chocolate 2px; padding: 40px\">\n",
    "\n",
    "<b> Никита, привет!👋</b>\n",
    "\n",
    "Меня зовут Алексей Гриб, и я буду ревьюером твоего проекта. \n",
    "\n",
    "Сразу хочу предложить в дальнейшем общаться на \"ты\" - надеюсь, так будет комфортнее:) Но если это неудобно, обязательно дай знать, и мы придумаем что-нибудь ещё!\n",
    "    \n",
    "Цель ревью - не искать ошибки в твоём проекте, а помочь тебе сделать твою работу ещё лучше, устранив недочёты и приблизив её к реальным задачам специалиста по работе с данными. Поэтому не расстраивайся, если что-то не получилось с первого раза - это нормально, и это поможет тебе вырасти!\n",
    "    \n",
    "Ты можешь найти мои комментарии, обозначенные <font color='green'>зеленым</font>, <font color='gold'>желтым</font> и <font color='red'>красным</font> цветами, например:\n",
    "\n",
    "<br/>\n",
    "\n",
    "<div class=\"alert alert-success\">\n",
    "<h2> Комментарий ревьюера <a class=\"tocSkip\"> </h2>\n",
    "\n",
    "<b>Все отлично!👍:</b> похвала, рекомендации «со звёздочкой», полезные лайфхаки, которые сделают и без того красивое решение ещё более элегантным.\n",
    "</div>\n",
    "\n",
    "<br/>\n",
    "\n",
    "<div class=\"alert alert-warning\">\n",
    "    <h2> Комментарий ревьюера <a class=\"tocSkip\"> </h2>\n",
    "    \n",
    "<b>Некоторые замечания и рекомендации⚠️:</b> некритичные ошибки или развивающие рекомендации на будущее. \n",
    "</div>\n",
    "\n",
    "\n",
    "<br/>\n",
    "<div class=\"alert alert-block alert-danger\">\n",
    "<h2> Комментарий ревьюера <a class=\"tocSkip\"></h2>\n",
    "\n",
    "    \n",
    "<b>На доработку❌:</b>\n",
    "критичные ошибки, которые обязательно нужно исправить.\n",
    "</div>\n",
    "\n",
    "    \n",
    "Пожалуйста, не удаляй мои комментарии, они будут особенно полезны для нашей работы в случае повторной проверки проекта. \n",
    "    \n",
    "Ты также можешь задавать свои вопросы, реагировать на мои комментарии, делать пометки и пояснения - полная творческая свобода! Но маленькая просьба - пускай они будут отличаться от моих комментариев, это поможет избежать путаницы в нашем общении:)\n",
    "Например, вот так:\n",
    "    \n",
    "<div class=\"alert alert-info\">\n",
    "<h2> Комментарий студента <a class=\"tocSkip\"> </h2>\n",
    "\n",
    "*твой текст*\n",
    "</div>\n",
    "    \n",
    "Давай посмотрим на твой проект!"
   ]
  },
  {
   "cell_type": "markdown",
   "metadata": {},
   "source": [
    "# Определение стоимости автомобилей"
   ]
  },
  {
   "cell_type": "markdown",
   "metadata": {},
   "source": [
    "Сервис по продаже автомобилей с пробегом «Не бит, не крашен» разрабатывает приложение для привлечения новых клиентов. В нём можно быстро узнать рыночную стоимость своего автомобиля. В вашем распоряжении исторические данные: технические характеристики, комплектации и цены автомобилей. Вам нужно построить модель для определения стоимости. \n",
    "\n",
    "Заказчику важны:\n",
    "\n",
    "- качество предсказания;\n",
    "- скорость предсказания;\n",
    "- время обучения."
   ]
  },
  {
   "cell_type": "markdown",
   "metadata": {},
   "source": [
    "<div class=\"alert alert-success\">\n",
    "<h2> Комментарий ревьюера <a class=\"tocSkip\"> </h2>\n",
    "\n",
    "<b>Все отлично!👍:</b> Хорошее вступление!\n",
    "    \n",
    "В нём есть всё, что необходимо, чтобы понять суть проекта с первых строк отчёта!"
   ]
  },
  {
   "cell_type": "code",
   "execution_count": 1,
   "metadata": {},
   "outputs": [
    {
     "name": "stdout",
     "output_type": "stream",
     "text": [
      "Requirement already satisfied: scikit-learn==1.4.2 in /opt/conda/lib/python3.9/site-packages (1.4.2)\n",
      "Requirement already satisfied: joblib>=1.2.0 in /opt/conda/lib/python3.9/site-packages (from scikit-learn==1.4.2) (1.4.2)\n",
      "Requirement already satisfied: threadpoolctl>=2.0.0 in /opt/conda/lib/python3.9/site-packages (from scikit-learn==1.4.2) (3.1.0)\n",
      "Requirement already satisfied: numpy>=1.19.5 in /opt/conda/lib/python3.9/site-packages (from scikit-learn==1.4.2) (1.21.1)\n",
      "Requirement already satisfied: scipy>=1.6.0 in /opt/conda/lib/python3.9/site-packages (from scikit-learn==1.4.2) (1.9.1)\n",
      "Requirement already satisfied: lightgbm[scikit-learn] in /opt/conda/lib/python3.9/site-packages (3.3.1)\n",
      "\u001b[33mWARNING: lightgbm 3.3.1 does not provide the extra 'scikit-learn'\u001b[0m\n",
      "Requirement already satisfied: numpy in /opt/conda/lib/python3.9/site-packages (from lightgbm[scikit-learn]) (1.21.1)\n",
      "Requirement already satisfied: scikit-learn!=0.22.0 in /opt/conda/lib/python3.9/site-packages (from lightgbm[scikit-learn]) (1.4.2)\n",
      "Requirement already satisfied: wheel in /opt/conda/lib/python3.9/site-packages (from lightgbm[scikit-learn]) (0.36.2)\n",
      "Requirement already satisfied: scipy in /opt/conda/lib/python3.9/site-packages (from lightgbm[scikit-learn]) (1.9.1)\n",
      "Requirement already satisfied: joblib>=1.2.0 in /opt/conda/lib/python3.9/site-packages (from scikit-learn!=0.22.0->lightgbm[scikit-learn]) (1.4.2)\n",
      "Requirement already satisfied: threadpoolctl>=2.0.0 in /opt/conda/lib/python3.9/site-packages (from scikit-learn!=0.22.0->lightgbm[scikit-learn]) (3.1.0)\n"
     ]
    }
   ],
   "source": [
    "!pip install scikit-learn==1.4.2\n",
    "!pip install matplotlib==3.5.0 -q\n",
    "!pip install 'lightgbm[scikit-learn]'"
   ]
  },
  {
   "cell_type": "code",
   "execution_count": 2,
   "metadata": {},
   "outputs": [],
   "source": [
    "import pandas as pd\n",
    "import seaborn as sns\n",
    "import matplotlib.pyplot as plt\n",
    "import numpy as np\n",
    "import datetime\n",
    "\n",
    "from scipy import stats\n",
    "from scipy.stats import uniform\n",
    "\n",
    "from sklearn.model_selection import RandomizedSearchCV\n",
    "\n",
    "from sklearn.model_selection import train_test_split\n",
    "from sklearn.pipeline import Pipeline\n",
    "from sklearn.metrics import mean_squared_error\n",
    "from sklearn.compose import ColumnTransformer\n",
    "from sklearn.preprocessing import StandardScaler, MinMaxScaler, OneHotEncoder, OrdinalEncoder\n",
    "from sklearn.impute import SimpleImputer\n",
    "\n",
    "from lightgbm import LGBMRegressor\n",
    "from sklearn.svm import SVR\n",
    "from sklearn.tree import DecisionTreeRegressor\n",
    "from sklearn.dummy import DummyRegressor\n",
    "\n",
    "import time"
   ]
  },
  {
   "cell_type": "markdown",
   "metadata": {},
   "source": [
    "<div class=\"alert alert-success\">\n",
    "<h2> Комментарий ревьюера <a class=\"tocSkip\"> </h2>\n",
    "\n",
    "<b>Все отлично!👍:</b> Библиотеки импортировали - отлично!"
   ]
  },
  {
   "cell_type": "markdown",
   "metadata": {},
   "source": [
    "<div class=\"alert alert-block alert-danger\">\n",
    "<h2> Комментарий ревьюера <a class=\"tocSkip\"></h2>\n",
    "\n",
    "    \n",
    "<b>На доработку❌:</b>\n",
    "\n",
    "Я вижу, исполнение твоего кода начинается в ячейке с номером, который отличается от единицы. Перед отправкой проекта (особенно в случае работы локально или в другом окружении) стоит проверять работоспособность кода __на платформе__ — это можно сделать, нажав на панели Jupiter Hub ``Kernel`` и ``Restart & Run All`` (см скриншот ниже).\n",
    "\n",
    "![](https://i.postimg.cc/yd19rYf6/Screenshot-428.png)\n",
    "        \n",
    "Важно также убедиться, что все ячейки проекта исполнились - можно просто пролистать работу до конца и убедиться, что последняя ячейка исполнена. Такая проверка поможет тебе убедиться, что твоё решение будет должным образом воспроизведено во время ревью или во время передачи его заказчику - это очень важный этап, пренебрегать которым не стоит:)"
   ]
  },
  {
   "cell_type": "markdown",
   "metadata": {},
   "source": [
    "<div class=\"alert alert-success\">\n",
    "<h2> Комментарий ревьюера v.2 <a class=\"tocSkip\"> </h2>\n",
    "\n",
    "<b>Все отлично!👍:</b> Учтено."
   ]
  },
  {
   "cell_type": "code",
   "execution_count": 3,
   "metadata": {},
   "outputs": [],
   "source": [
    "def check_data(df, name):\n",
    "    \"\"\"\n",
    "    Проверяет информацию о каждом DataFrame (типы данных, пропущенные значения, полные дубликаты строк).\n",
    "    \n",
    "    Параметры:\n",
    "        df (pd.DataFrame): Исходный датафрейм\n",
    "        name (str): Названия датафрейма\n",
    "    \n",
    "    \"\"\"\n",
    "    print(f\"Информация о {name}:\")\n",
    "    print(f\"Пропущенные значения в {name}:\")\n",
    "    display(df.isnull().sum())\n",
    "    print(f\"Дубликаты в {name}: {df.duplicated().sum()}\")"
   ]
  },
  {
   "cell_type": "code",
   "execution_count": 4,
   "metadata": {},
   "outputs": [],
   "source": [
    "def get_unique_values(df, exclude_columns=None):\n",
    "    \"\"\"\n",
    "    Возвращает словарь, где ключи — это названия столбцов,\n",
    "    а значения — списки уникальных значений в каждом столбце.\n",
    "\n",
    "    Parameters:\n",
    "        df (pd.DataFrame): DataFrame для анализа.\n",
    "        exclude_columns (list, optional): Список столбцов, которые нужно исключить из анализа.\n",
    "\n",
    "    Returns:\n",
    "        dict: Словарь уникальных значений по столбцам.\n",
    "    \"\"\"\n",
    "    if exclude_columns is None:\n",
    "        exclude_columns = []\n",
    "\n",
    "    unique_values = {}\n",
    "    for column in df.columns:\n",
    "        if column not in exclude_columns:\n",
    "            unique_counts = df[column].value_counts()\n",
    "            unique_values[column] = {value: count for value, count in unique_counts.items()}\n",
    "\n",
    "    # Форматированный вывод\n",
    "    for column, values in unique_values.items():\n",
    "        print(f\"Столбец: {column}\")\n",
    "        print(f\"Уникальные значения ({len(values)}):\")\n",
    "        for value, count in values.items():\n",
    "            print(f\"  {value}: {count}\")\n",
    "        print()\n",
    "\n",
    "    return 1"
   ]
  },
  {
   "cell_type": "code",
   "execution_count": 5,
   "metadata": {},
   "outputs": [],
   "source": [
    "def calculate_missing_percentage(df):\n",
    "    # Вычисление доли пропусков в каждом столбце\n",
    "    missing_percentage = df.isnull().mean() * 100\n",
    "    \n",
    "    # Формирование красивого вывода\n",
    "    print(\"Доля пропусков в каждом столбце:\")\n",
    "    print(\"-\" * 50)\n",
    "    print(f\"{'Столбец':<25} {'Доля пропусков (%)'}\")\n",
    "    print(\"-\" * 50)\n",
    "    \n",
    "    for column, percentage in missing_percentage.items():\n",
    "        print(f\"{column:<25} {percentage:>20.2f}%\")\n",
    "    \n",
    "    print(\"-\" * 50)"
   ]
  },
  {
   "cell_type": "code",
   "execution_count": 6,
   "metadata": {},
   "outputs": [],
   "source": [
    "RANDOM_STATE = 42\n",
    "data_upload_date = datetime.datetime.now().year"
   ]
  },
  {
   "cell_type": "markdown",
   "metadata": {},
   "source": [
    "## Подготовка данных"
   ]
  },
  {
   "cell_type": "code",
   "execution_count": 7,
   "metadata": {},
   "outputs": [
    {
     "data": {
      "text/html": [
       "<div>\n",
       "<style scoped>\n",
       "    .dataframe tbody tr th:only-of-type {\n",
       "        vertical-align: middle;\n",
       "    }\n",
       "\n",
       "    .dataframe tbody tr th {\n",
       "        vertical-align: top;\n",
       "    }\n",
       "\n",
       "    .dataframe thead th {\n",
       "        text-align: right;\n",
       "    }\n",
       "</style>\n",
       "<table border=\"1\" class=\"dataframe\">\n",
       "  <thead>\n",
       "    <tr style=\"text-align: right;\">\n",
       "      <th></th>\n",
       "      <th>DateCrawled</th>\n",
       "      <th>Price</th>\n",
       "      <th>VehicleType</th>\n",
       "      <th>RegistrationYear</th>\n",
       "      <th>Gearbox</th>\n",
       "      <th>Power</th>\n",
       "      <th>Model</th>\n",
       "      <th>Kilometer</th>\n",
       "      <th>RegistrationMonth</th>\n",
       "      <th>FuelType</th>\n",
       "      <th>Brand</th>\n",
       "      <th>Repaired</th>\n",
       "      <th>DateCreated</th>\n",
       "      <th>NumberOfPictures</th>\n",
       "      <th>PostalCode</th>\n",
       "      <th>LastSeen</th>\n",
       "    </tr>\n",
       "  </thead>\n",
       "  <tbody>\n",
       "    <tr>\n",
       "      <th>0</th>\n",
       "      <td>2016-03-24 11:52:17</td>\n",
       "      <td>480</td>\n",
       "      <td>NaN</td>\n",
       "      <td>1993</td>\n",
       "      <td>manual</td>\n",
       "      <td>0</td>\n",
       "      <td>golf</td>\n",
       "      <td>150000</td>\n",
       "      <td>0</td>\n",
       "      <td>petrol</td>\n",
       "      <td>volkswagen</td>\n",
       "      <td>NaN</td>\n",
       "      <td>2016-03-24 00:00:00</td>\n",
       "      <td>0</td>\n",
       "      <td>70435</td>\n",
       "      <td>2016-04-07 03:16:57</td>\n",
       "    </tr>\n",
       "    <tr>\n",
       "      <th>1</th>\n",
       "      <td>2016-03-24 10:58:45</td>\n",
       "      <td>18300</td>\n",
       "      <td>coupe</td>\n",
       "      <td>2011</td>\n",
       "      <td>manual</td>\n",
       "      <td>190</td>\n",
       "      <td>NaN</td>\n",
       "      <td>125000</td>\n",
       "      <td>5</td>\n",
       "      <td>gasoline</td>\n",
       "      <td>audi</td>\n",
       "      <td>yes</td>\n",
       "      <td>2016-03-24 00:00:00</td>\n",
       "      <td>0</td>\n",
       "      <td>66954</td>\n",
       "      <td>2016-04-07 01:46:50</td>\n",
       "    </tr>\n",
       "    <tr>\n",
       "      <th>2</th>\n",
       "      <td>2016-03-14 12:52:21</td>\n",
       "      <td>9800</td>\n",
       "      <td>suv</td>\n",
       "      <td>2004</td>\n",
       "      <td>auto</td>\n",
       "      <td>163</td>\n",
       "      <td>grand</td>\n",
       "      <td>125000</td>\n",
       "      <td>8</td>\n",
       "      <td>gasoline</td>\n",
       "      <td>jeep</td>\n",
       "      <td>NaN</td>\n",
       "      <td>2016-03-14 00:00:00</td>\n",
       "      <td>0</td>\n",
       "      <td>90480</td>\n",
       "      <td>2016-04-05 12:47:46</td>\n",
       "    </tr>\n",
       "    <tr>\n",
       "      <th>3</th>\n",
       "      <td>2016-03-17 16:54:04</td>\n",
       "      <td>1500</td>\n",
       "      <td>small</td>\n",
       "      <td>2001</td>\n",
       "      <td>manual</td>\n",
       "      <td>75</td>\n",
       "      <td>golf</td>\n",
       "      <td>150000</td>\n",
       "      <td>6</td>\n",
       "      <td>petrol</td>\n",
       "      <td>volkswagen</td>\n",
       "      <td>no</td>\n",
       "      <td>2016-03-17 00:00:00</td>\n",
       "      <td>0</td>\n",
       "      <td>91074</td>\n",
       "      <td>2016-03-17 17:40:17</td>\n",
       "    </tr>\n",
       "    <tr>\n",
       "      <th>4</th>\n",
       "      <td>2016-03-31 17:25:20</td>\n",
       "      <td>3600</td>\n",
       "      <td>small</td>\n",
       "      <td>2008</td>\n",
       "      <td>manual</td>\n",
       "      <td>69</td>\n",
       "      <td>fabia</td>\n",
       "      <td>90000</td>\n",
       "      <td>7</td>\n",
       "      <td>gasoline</td>\n",
       "      <td>skoda</td>\n",
       "      <td>no</td>\n",
       "      <td>2016-03-31 00:00:00</td>\n",
       "      <td>0</td>\n",
       "      <td>60437</td>\n",
       "      <td>2016-04-06 10:17:21</td>\n",
       "    </tr>\n",
       "    <tr>\n",
       "      <th>5</th>\n",
       "      <td>2016-04-04 17:36:23</td>\n",
       "      <td>650</td>\n",
       "      <td>sedan</td>\n",
       "      <td>1995</td>\n",
       "      <td>manual</td>\n",
       "      <td>102</td>\n",
       "      <td>3er</td>\n",
       "      <td>150000</td>\n",
       "      <td>10</td>\n",
       "      <td>petrol</td>\n",
       "      <td>bmw</td>\n",
       "      <td>yes</td>\n",
       "      <td>2016-04-04 00:00:00</td>\n",
       "      <td>0</td>\n",
       "      <td>33775</td>\n",
       "      <td>2016-04-06 19:17:07</td>\n",
       "    </tr>\n",
       "    <tr>\n",
       "      <th>6</th>\n",
       "      <td>2016-04-01 20:48:51</td>\n",
       "      <td>2200</td>\n",
       "      <td>convertible</td>\n",
       "      <td>2004</td>\n",
       "      <td>manual</td>\n",
       "      <td>109</td>\n",
       "      <td>2_reihe</td>\n",
       "      <td>150000</td>\n",
       "      <td>8</td>\n",
       "      <td>petrol</td>\n",
       "      <td>peugeot</td>\n",
       "      <td>no</td>\n",
       "      <td>2016-04-01 00:00:00</td>\n",
       "      <td>0</td>\n",
       "      <td>67112</td>\n",
       "      <td>2016-04-05 18:18:39</td>\n",
       "    </tr>\n",
       "    <tr>\n",
       "      <th>7</th>\n",
       "      <td>2016-03-21 18:54:38</td>\n",
       "      <td>0</td>\n",
       "      <td>sedan</td>\n",
       "      <td>1980</td>\n",
       "      <td>manual</td>\n",
       "      <td>50</td>\n",
       "      <td>other</td>\n",
       "      <td>40000</td>\n",
       "      <td>7</td>\n",
       "      <td>petrol</td>\n",
       "      <td>volkswagen</td>\n",
       "      <td>no</td>\n",
       "      <td>2016-03-21 00:00:00</td>\n",
       "      <td>0</td>\n",
       "      <td>19348</td>\n",
       "      <td>2016-03-25 16:47:58</td>\n",
       "    </tr>\n",
       "  </tbody>\n",
       "</table>\n",
       "</div>"
      ],
      "text/plain": [
       "           DateCrawled  Price  VehicleType  RegistrationYear Gearbox  Power  \\\n",
       "0  2016-03-24 11:52:17    480          NaN              1993  manual      0   \n",
       "1  2016-03-24 10:58:45  18300        coupe              2011  manual    190   \n",
       "2  2016-03-14 12:52:21   9800          suv              2004    auto    163   \n",
       "3  2016-03-17 16:54:04   1500        small              2001  manual     75   \n",
       "4  2016-03-31 17:25:20   3600        small              2008  manual     69   \n",
       "5  2016-04-04 17:36:23    650        sedan              1995  manual    102   \n",
       "6  2016-04-01 20:48:51   2200  convertible              2004  manual    109   \n",
       "7  2016-03-21 18:54:38      0        sedan              1980  manual     50   \n",
       "\n",
       "     Model  Kilometer  RegistrationMonth  FuelType       Brand Repaired  \\\n",
       "0     golf     150000                  0    petrol  volkswagen      NaN   \n",
       "1      NaN     125000                  5  gasoline        audi      yes   \n",
       "2    grand     125000                  8  gasoline        jeep      NaN   \n",
       "3     golf     150000                  6    petrol  volkswagen       no   \n",
       "4    fabia      90000                  7  gasoline       skoda       no   \n",
       "5      3er     150000                 10    petrol         bmw      yes   \n",
       "6  2_reihe     150000                  8    petrol     peugeot       no   \n",
       "7    other      40000                  7    petrol  volkswagen       no   \n",
       "\n",
       "           DateCreated  NumberOfPictures  PostalCode             LastSeen  \n",
       "0  2016-03-24 00:00:00                 0       70435  2016-04-07 03:16:57  \n",
       "1  2016-03-24 00:00:00                 0       66954  2016-04-07 01:46:50  \n",
       "2  2016-03-14 00:00:00                 0       90480  2016-04-05 12:47:46  \n",
       "3  2016-03-17 00:00:00                 0       91074  2016-03-17 17:40:17  \n",
       "4  2016-03-31 00:00:00                 0       60437  2016-04-06 10:17:21  \n",
       "5  2016-04-04 00:00:00                 0       33775  2016-04-06 19:17:07  \n",
       "6  2016-04-01 00:00:00                 0       67112  2016-04-05 18:18:39  \n",
       "7  2016-03-21 00:00:00                 0       19348  2016-03-25 16:47:58  "
      ]
     },
     "execution_count": 7,
     "metadata": {},
     "output_type": "execute_result"
    }
   ],
   "source": [
    "data = pd.read_csv('/datasets/autos.csv')\n",
    "\n",
    "data.head(8)"
   ]
  },
  {
   "cell_type": "markdown",
   "metadata": {},
   "source": [
    "<div class=\"alert alert-success\">\n",
    "<h2> Комментарий ревьюера <a class=\"tocSkip\"> </h2>\n",
    "\n",
    "<b>Все отлично!👍</b> \n",
    "    \n",
    "Данные загрузили.\n",
    "    \n",
    "При считывании данных из файла здорово перестраховывать себя от ошибок, связанных, например, с неверным указанием пути к файлу. А иногда бывает, что работаешь с файлом локально, выгружаешь его на сервер, ожидая, что он будет принимать данные, которые лежат на том же сервере, а код падает с ошибкой, потому что путь к файлу не поменялся с локального на серверный.\n",
    "    \n",
    "Для этого, например, можно использовать конструкцию `try-except`: сначала пробуешь локальный путь, при возникновении ошибки используется серверный путь (подробнее можешь почитать тут: https://pythonworld.ru/tipy-dannyx-v-python/isklyucheniya-v-python-konstrukciya-try-except-dlya-obrabotki-isklyuchenij.html).\n",
    "    \n",
    "Но еще лучше использовать библиотеку `os` - её использование позволит тебе проверять существование указанных директорий (что может быть актуально при одновременной работа на локальном и сетевом окружении) и загружать данные из существующей директории, избегая ошибок. Как пример:\n",
    "    \n",
    "    import os\n",
    "\n",
    "    pth1 = '/folder_1/data.csv'\n",
    "    pth2 = '/folder_2/data.csv'\n",
    "    \n",
    "    if os.path.exists(pth1):\n",
    "        query_1 = pd.read_csv(pth1)\n",
    "    elif os.path.exists(pth2):\n",
    "        query_1 = pd.read_csv(pth2)\n",
    "    else:\n",
    "        print('Something is wrong')\n",
    "\n",
    "Ещё на этапе считывания данных можно спарсить дату: за это действие отвечает параметр `parse_dates` метода `read_csv()`, в него нужно передать список с названием полей-дат, и в большинстве случаев дата будет корректно преобразована в нужный формат сразу:)\n",
    "Также на этапе считывания данных можно задать индекс-столбец - за это действие отвечает параметр `index_col`."
   ]
  },
  {
   "cell_type": "code",
   "execution_count": 8,
   "metadata": {},
   "outputs": [
    {
     "name": "stdout",
     "output_type": "stream",
     "text": [
      "<class 'pandas.core.frame.DataFrame'>\n",
      "RangeIndex: 354369 entries, 0 to 354368\n",
      "Data columns (total 16 columns):\n",
      " #   Column             Non-Null Count   Dtype \n",
      "---  ------             --------------   ----- \n",
      " 0   DateCrawled        354369 non-null  object\n",
      " 1   Price              354369 non-null  int64 \n",
      " 2   VehicleType        316879 non-null  object\n",
      " 3   RegistrationYear   354369 non-null  int64 \n",
      " 4   Gearbox            334536 non-null  object\n",
      " 5   Power              354369 non-null  int64 \n",
      " 6   Model              334664 non-null  object\n",
      " 7   Kilometer          354369 non-null  int64 \n",
      " 8   RegistrationMonth  354369 non-null  int64 \n",
      " 9   FuelType           321474 non-null  object\n",
      " 10  Brand              354369 non-null  object\n",
      " 11  Repaired           283215 non-null  object\n",
      " 12  DateCreated        354369 non-null  object\n",
      " 13  NumberOfPictures   354369 non-null  int64 \n",
      " 14  PostalCode         354369 non-null  int64 \n",
      " 15  LastSeen           354369 non-null  object\n",
      "dtypes: int64(7), object(9)\n",
      "memory usage: 43.3+ MB\n"
     ]
    }
   ],
   "source": [
    "data.info()"
   ]
  },
  {
   "cell_type": "code",
   "execution_count": 9,
   "metadata": {},
   "outputs": [],
   "source": [
    "#Преобразование названий столбцов в стиль snake_case\n",
    "data.columns = data.columns.str.replace(r\"([A-Z])\", r\" \\1\", regex=True).str.lower().str.replace(' ', '_').str[1:]"
   ]
  },
  {
   "cell_type": "code",
   "execution_count": 10,
   "metadata": {},
   "outputs": [
    {
     "name": "stdout",
     "output_type": "stream",
     "text": [
      "Информация о data:\n",
      "Пропущенные значения в data:\n"
     ]
    },
    {
     "data": {
      "text/plain": [
       "date_crawled              0\n",
       "price                     0\n",
       "vehicle_type          37490\n",
       "registration_year         0\n",
       "gearbox               19833\n",
       "power                     0\n",
       "model                 19705\n",
       "kilometer                 0\n",
       "registration_month        0\n",
       "fuel_type             32895\n",
       "brand                     0\n",
       "repaired              71154\n",
       "date_created              0\n",
       "number_of_pictures        0\n",
       "postal_code               0\n",
       "last_seen                 0\n",
       "dtype: int64"
      ]
     },
     "metadata": {},
     "output_type": "display_data"
    },
    {
     "name": "stdout",
     "output_type": "stream",
     "text": [
      "Дубликаты в data: 4\n"
     ]
    }
   ],
   "source": [
    "check_data(data, 'data')"
   ]
  },
  {
   "cell_type": "markdown",
   "metadata": {},
   "source": [
    "Обнаружено 4 полных дубликата, удалим их."
   ]
  },
  {
   "cell_type": "code",
   "execution_count": 11,
   "metadata": {},
   "outputs": [],
   "source": [
    "data = data.drop_duplicates()"
   ]
  },
  {
   "cell_type": "markdown",
   "metadata": {},
   "source": [
    "<div class=\"alert alert-success\">\n",
    "<h2> Комментарий ревьюера <a class=\"tocSkip\"> </h2>\n",
    "\n",
    "<b>Все отлично!👍</b> Найдены и удалены явные дубликаты."
   ]
  },
  {
   "cell_type": "code",
   "execution_count": 12,
   "metadata": {},
   "outputs": [
    {
     "data": {
      "text/plain": [
       "[1000,\n",
       " 1001,\n",
       " 1039,\n",
       " 1111,\n",
       " 1200,\n",
       " 1234,\n",
       " 1253,\n",
       " 1255,\n",
       " 1300,\n",
       " 1400,\n",
       " 1500,\n",
       " 1600,\n",
       " 1602,\n",
       " 1688,\n",
       " 1800,\n",
       " 1910,\n",
       " 1915,\n",
       " 1919,\n",
       " 1920,\n",
       " 1923,\n",
       " 1925,\n",
       " 1927,\n",
       " 1928,\n",
       " 1929,\n",
       " 1930,\n",
       " 1931,\n",
       " 1932,\n",
       " 1933,\n",
       " 1934,\n",
       " 1935,\n",
       " 1936,\n",
       " 1937,\n",
       " 1938,\n",
       " 1940,\n",
       " 1941,\n",
       " 1942,\n",
       " 1943,\n",
       " 1944,\n",
       " 1945,\n",
       " 1946,\n",
       " 1947,\n",
       " 1948,\n",
       " 1949,\n",
       " 1950,\n",
       " 1951,\n",
       " 1952,\n",
       " 1953,\n",
       " 1954,\n",
       " 1955,\n",
       " 1956,\n",
       " 1957,\n",
       " 1958,\n",
       " 1959,\n",
       " 1960,\n",
       " 1961,\n",
       " 1962,\n",
       " 1963,\n",
       " 1964,\n",
       " 1965,\n",
       " 1966,\n",
       " 1967,\n",
       " 1968,\n",
       " 1969,\n",
       " 1970,\n",
       " 1971,\n",
       " 1972,\n",
       " 1973,\n",
       " 1974,\n",
       " 1975,\n",
       " 1976,\n",
       " 1977,\n",
       " 1978,\n",
       " 1979,\n",
       " 1980,\n",
       " 1981,\n",
       " 1982,\n",
       " 1983,\n",
       " 1984,\n",
       " 1985,\n",
       " 1986,\n",
       " 1987,\n",
       " 1988,\n",
       " 1989,\n",
       " 1990,\n",
       " 1991,\n",
       " 1992,\n",
       " 1993,\n",
       " 1994,\n",
       " 1995,\n",
       " 1996,\n",
       " 1997,\n",
       " 1998,\n",
       " 1999,\n",
       " 2000,\n",
       " 2001,\n",
       " 2002,\n",
       " 2003,\n",
       " 2004,\n",
       " 2005,\n",
       " 2006,\n",
       " 2007,\n",
       " 2008,\n",
       " 2009,\n",
       " 2010,\n",
       " 2011,\n",
       " 2012,\n",
       " 2013,\n",
       " 2014,\n",
       " 2015,\n",
       " 2016,\n",
       " 2017,\n",
       " 2018,\n",
       " 2019,\n",
       " 2066,\n",
       " 2200,\n",
       " 2222,\n",
       " 2290,\n",
       " 2500,\n",
       " 2800,\n",
       " 2900,\n",
       " 3000,\n",
       " 3200,\n",
       " 3500,\n",
       " 3700,\n",
       " 3800,\n",
       " 4000,\n",
       " 4100,\n",
       " 4500,\n",
       " 4800,\n",
       " 5000,\n",
       " 5300,\n",
       " 5555,\n",
       " 5600,\n",
       " 5900,\n",
       " 5911,\n",
       " 6000,\n",
       " 6500,\n",
       " 7000,\n",
       " 7100,\n",
       " 7500,\n",
       " 7800,\n",
       " 8000,\n",
       " 8200,\n",
       " 8455,\n",
       " 8500,\n",
       " 8888,\n",
       " 9000,\n",
       " 9229,\n",
       " 9450,\n",
       " 9996,\n",
       " 9999]"
      ]
     },
     "execution_count": 12,
     "metadata": {},
     "output_type": "execute_result"
    }
   ],
   "source": [
    "sorted(data['registration_year'].unique())"
   ]
  },
  {
   "cell_type": "markdown",
   "metadata": {},
   "source": [
    "Ограничим датафрейм от 1900 до текущей даты."
   ]
  },
  {
   "cell_type": "code",
   "execution_count": 13,
   "metadata": {},
   "outputs": [],
   "source": [
    "data['date_crawled'] = pd.to_datetime(data['date_crawled'], errors='coerce')\n",
    "\n",
    "data['crawled_year'] = data['date_crawled'].dt.year\n",
    "\n",
    "data = data.loc[\n",
    "    (data['registration_year'] <= data_upload_date) & \n",
    "    (data['registration_year'] >= 1900) &\n",
    "    (data['crawled_year'] >= data['registration_year'])\n",
    "]"
   ]
  },
  {
   "cell_type": "code",
   "execution_count": 14,
   "metadata": {},
   "outputs": [],
   "source": [
    "#Удалим все неинформативные столбцы\n",
    "data = data.drop(['number_of_pictures',\n",
    "                  'postal_code',\n",
    "                  'date_created',\n",
    "                  'last_seen',\n",
    "                  'registration_month',\n",
    "                  'date_crawled'], axis=1)"
   ]
  },
  {
   "cell_type": "code",
   "execution_count": 15,
   "metadata": {
    "scrolled": true
   },
   "outputs": [
    {
     "data": {
      "text/html": [
       "<div>\n",
       "<style scoped>\n",
       "    .dataframe tbody tr th:only-of-type {\n",
       "        vertical-align: middle;\n",
       "    }\n",
       "\n",
       "    .dataframe tbody tr th {\n",
       "        vertical-align: top;\n",
       "    }\n",
       "\n",
       "    .dataframe thead th {\n",
       "        text-align: right;\n",
       "    }\n",
       "</style>\n",
       "<table border=\"1\" class=\"dataframe\">\n",
       "  <thead>\n",
       "    <tr style=\"text-align: right;\">\n",
       "      <th></th>\n",
       "      <th>price</th>\n",
       "      <th>vehicle_type</th>\n",
       "      <th>registration_year</th>\n",
       "      <th>gearbox</th>\n",
       "      <th>power</th>\n",
       "      <th>model</th>\n",
       "      <th>kilometer</th>\n",
       "      <th>fuel_type</th>\n",
       "      <th>brand</th>\n",
       "      <th>repaired</th>\n",
       "      <th>crawled_year</th>\n",
       "    </tr>\n",
       "  </thead>\n",
       "  <tbody>\n",
       "    <tr>\n",
       "      <th>0</th>\n",
       "      <td>480</td>\n",
       "      <td>NaN</td>\n",
       "      <td>1993</td>\n",
       "      <td>manual</td>\n",
       "      <td>0</td>\n",
       "      <td>golf</td>\n",
       "      <td>150000</td>\n",
       "      <td>petrol</td>\n",
       "      <td>volkswagen</td>\n",
       "      <td>NaN</td>\n",
       "      <td>2016</td>\n",
       "    </tr>\n",
       "    <tr>\n",
       "      <th>1</th>\n",
       "      <td>18300</td>\n",
       "      <td>coupe</td>\n",
       "      <td>2011</td>\n",
       "      <td>manual</td>\n",
       "      <td>190</td>\n",
       "      <td>NaN</td>\n",
       "      <td>125000</td>\n",
       "      <td>gasoline</td>\n",
       "      <td>audi</td>\n",
       "      <td>yes</td>\n",
       "      <td>2016</td>\n",
       "    </tr>\n",
       "    <tr>\n",
       "      <th>2</th>\n",
       "      <td>9800</td>\n",
       "      <td>suv</td>\n",
       "      <td>2004</td>\n",
       "      <td>auto</td>\n",
       "      <td>163</td>\n",
       "      <td>grand</td>\n",
       "      <td>125000</td>\n",
       "      <td>gasoline</td>\n",
       "      <td>jeep</td>\n",
       "      <td>NaN</td>\n",
       "      <td>2016</td>\n",
       "    </tr>\n",
       "    <tr>\n",
       "      <th>3</th>\n",
       "      <td>1500</td>\n",
       "      <td>small</td>\n",
       "      <td>2001</td>\n",
       "      <td>manual</td>\n",
       "      <td>75</td>\n",
       "      <td>golf</td>\n",
       "      <td>150000</td>\n",
       "      <td>petrol</td>\n",
       "      <td>volkswagen</td>\n",
       "      <td>no</td>\n",
       "      <td>2016</td>\n",
       "    </tr>\n",
       "    <tr>\n",
       "      <th>4</th>\n",
       "      <td>3600</td>\n",
       "      <td>small</td>\n",
       "      <td>2008</td>\n",
       "      <td>manual</td>\n",
       "      <td>69</td>\n",
       "      <td>fabia</td>\n",
       "      <td>90000</td>\n",
       "      <td>gasoline</td>\n",
       "      <td>skoda</td>\n",
       "      <td>no</td>\n",
       "      <td>2016</td>\n",
       "    </tr>\n",
       "  </tbody>\n",
       "</table>\n",
       "</div>"
      ],
      "text/plain": [
       "   price vehicle_type  registration_year gearbox  power  model  kilometer  \\\n",
       "0    480          NaN               1993  manual      0   golf     150000   \n",
       "1  18300        coupe               2011  manual    190    NaN     125000   \n",
       "2   9800          suv               2004    auto    163  grand     125000   \n",
       "3   1500        small               2001  manual     75   golf     150000   \n",
       "4   3600        small               2008  manual     69  fabia      90000   \n",
       "\n",
       "  fuel_type       brand repaired  crawled_year  \n",
       "0    petrol  volkswagen      NaN          2016  \n",
       "1  gasoline        audi      yes          2016  \n",
       "2  gasoline        jeep      NaN          2016  \n",
       "3    petrol  volkswagen       no          2016  \n",
       "4  gasoline       skoda       no          2016  "
      ]
     },
     "execution_count": 15,
     "metadata": {},
     "output_type": "execute_result"
    }
   ],
   "source": [
    "data.head()"
   ]
  },
  {
   "cell_type": "markdown",
   "metadata": {},
   "source": [
    "<div class=\"alert alert-success\">\n",
    "<h2> Комментарий ревьюера <a class=\"tocSkip\"> </h2>\n",
    "\n",
    "<b>Все отлично!👍</b> Удалены лишние признаки."
   ]
  },
  {
   "cell_type": "code",
   "execution_count": 16,
   "metadata": {},
   "outputs": [],
   "source": [
    "# Удалим строки, у которых менее трёх ненулевых значений в столбцах\n",
    "data = data.dropna(subset=['vehicle_type', 'fuel_type', 'model', 'repaired','gearbox'], thresh = 3)"
   ]
  },
  {
   "cell_type": "code",
   "execution_count": 17,
   "metadata": {},
   "outputs": [
    {
     "name": "stdout",
     "output_type": "stream",
     "text": [
      "Информация о data:\n",
      "Пропущенные значения в data:\n"
     ]
    },
    {
     "data": {
      "text/plain": [
       "price                    0\n",
       "vehicle_type         11695\n",
       "registration_year        0\n",
       "gearbox               8594\n",
       "power                    0\n",
       "model                11575\n",
       "kilometer                0\n",
       "fuel_type            15958\n",
       "brand                    0\n",
       "repaired             52130\n",
       "crawled_year             0\n",
       "dtype: int64"
      ]
     },
     "metadata": {},
     "output_type": "display_data"
    },
    {
     "name": "stdout",
     "output_type": "stream",
     "text": [
      "Дубликаты в data: 42708\n"
     ]
    }
   ],
   "source": [
    "check_data(data, 'data')"
   ]
  },
  {
   "cell_type": "markdown",
   "metadata": {},
   "source": [
    "Обнаружены пропуски в столбцах 'vehicle_type', 'fuel_type', 'model', 'repaired','gearbox'. По возомжности заполним их, остальные удалим."
   ]
  },
  {
   "cell_type": "code",
   "execution_count": 18,
   "metadata": {},
   "outputs": [],
   "source": [
    "# Заполняем пропуски в vehicle_type на основе model и brand\n",
    "vehicle_type_mapping = (\n",
    "    data.groupby(['brand', 'model'])['vehicle_type']\n",
    "    .agg(lambda x: x.mode()[0] if not x.mode().empty else None)\n",
    "    .reset_index()\n",
    "    .rename(columns={'vehicle_type': 'most_common_vehicle_type'})\n",
    ")\n",
    "\n",
    "# Объединяем маппинг с основным DataFrame\n",
    "data = data.merge(vehicle_type_mapping, on=['brand', 'model'], how='left')\n",
    "\n",
    "# Заполняем пропуски в vehicle_type\n",
    "data['vehicle_type'] = data['vehicle_type'].fillna(data['most_common_vehicle_type'])\n",
    "\n",
    "# Удаляем вспомогательный столбец\n",
    "data = data.drop(columns=['most_common_vehicle_type'])"
   ]
  },
  {
   "cell_type": "code",
   "execution_count": 19,
   "metadata": {},
   "outputs": [
    {
     "name": "stdout",
     "output_type": "stream",
     "text": [
      "Информация о data:\n",
      "Пропущенные значения в data:\n"
     ]
    },
    {
     "data": {
      "text/plain": [
       "price                    0\n",
       "vehicle_type           510\n",
       "registration_year        0\n",
       "gearbox               8594\n",
       "power                    0\n",
       "model                11575\n",
       "kilometer                0\n",
       "fuel_type            15958\n",
       "brand                    0\n",
       "repaired             52130\n",
       "crawled_year             0\n",
       "dtype: int64"
      ]
     },
     "metadata": {},
     "output_type": "display_data"
    },
    {
     "name": "stdout",
     "output_type": "stream",
     "text": [
      "Дубликаты в data: 42923\n"
     ]
    }
   ],
   "source": [
    "check_data(data, 'data')"
   ]
  },
  {
   "cell_type": "code",
   "execution_count": 20,
   "metadata": {},
   "outputs": [
    {
     "name": "stdout",
     "output_type": "stream",
     "text": [
      "Доля пропусков в каждом столбце:\n",
      "--------------------------------------------------\n",
      "Столбец                   Доля пропусков (%)\n",
      "--------------------------------------------------\n",
      "price                                     0.00%\n",
      "vehicle_type                              0.16%\n",
      "registration_year                         0.00%\n",
      "gearbox                                   2.64%\n",
      "power                                     0.00%\n",
      "model                                     3.55%\n",
      "kilometer                                 0.00%\n",
      "fuel_type                                 4.90%\n",
      "brand                                     0.00%\n",
      "repaired                                 16.00%\n",
      "crawled_year                              0.00%\n",
      "--------------------------------------------------\n"
     ]
    }
   ],
   "source": [
    "calculate_missing_percentage(data)"
   ]
  },
  {
   "cell_type": "code",
   "execution_count": 21,
   "metadata": {
    "scrolled": true
   },
   "outputs": [
    {
     "name": "stdout",
     "output_type": "stream",
     "text": [
      "Столбец: vehicle_type\n",
      "Уникальные значения (8):\n",
      "  sedan: 95705\n",
      "  small: 82319\n",
      "  wagon: 65949\n",
      "  bus: 29874\n",
      "  convertible: 20096\n",
      "  coupe: 16189\n",
      "  suv: 12105\n",
      "  other: 3143\n",
      "\n",
      "Столбец: registration_year\n",
      "Уникальные значения (92):\n",
      "  1999: 22445\n",
      "  2000: 21174\n",
      "  2005: 20597\n",
      "  2001: 19940\n",
      "  2006: 19641\n",
      "  2003: 19638\n",
      "  2004: 19486\n",
      "  2002: 18937\n",
      "  1998: 17625\n",
      "  2007: 16988\n",
      "  2008: 15226\n",
      "  1997: 14444\n",
      "  2009: 14355\n",
      "  1996: 10671\n",
      "  2010: 10646\n",
      "  2011: 9820\n",
      "  1995: 8342\n",
      "  2012: 7128\n",
      "  2016: 6741\n",
      "  1994: 4754\n",
      "  2013: 4076\n",
      "  1993: 3381\n",
      "  1992: 2945\n",
      "  1991: 2699\n",
      "  2014: 2494\n",
      "  1990: 2122\n",
      "  1989: 1287\n",
      "  2015: 1107\n",
      "  1988: 916\n",
      "  1987: 654\n",
      "  1985: 551\n",
      "  1986: 518\n",
      "  1983: 416\n",
      "  1984: 392\n",
      "  1982: 308\n",
      "  1980: 301\n",
      "  1979: 273\n",
      "  1978: 272\n",
      "  1981: 247\n",
      "  1972: 205\n",
      "  1973: 167\n",
      "  1977: 166\n",
      "  1976: 166\n",
      "  1974: 165\n",
      "  1970: 162\n",
      "  1971: 162\n",
      "  1975: 140\n",
      "  1969: 114\n",
      "  1968: 104\n",
      "  1966: 104\n",
      "  1967: 96\n",
      "  1965: 76\n",
      "  1960: 71\n",
      "  1964: 58\n",
      "  1963: 50\n",
      "  1962: 41\n",
      "  1961: 37\n",
      "  1959: 31\n",
      "  1910: 23\n",
      "  1956: 22\n",
      "  1958: 21\n",
      "  1950: 18\n",
      "  1955: 14\n",
      "  1953: 12\n",
      "  1957: 11\n",
      "  1951: 11\n",
      "  1954: 10\n",
      "  1937: 9\n",
      "  1952: 8\n",
      "  1929: 7\n",
      "  1938: 7\n",
      "  1935: 4\n",
      "  1945: 4\n",
      "  1943: 4\n",
      "  1930: 3\n",
      "  1932: 3\n",
      "  1942: 3\n",
      "  1934: 3\n",
      "  1936: 3\n",
      "  1923: 2\n",
      "  1933: 2\n",
      "  1948: 2\n",
      "  1940: 2\n",
      "  1941: 2\n",
      "  1944: 1\n",
      "  1931: 1\n",
      "  1946: 1\n",
      "  1947: 1\n",
      "  1928: 1\n",
      "  1927: 1\n",
      "  1949: 1\n",
      "  1919: 1\n",
      "\n",
      "Столбец: gearbox\n",
      "Уникальные значения (2):\n",
      "  manual: 253709\n",
      "  auto: 63587\n",
      "\n",
      "Столбец: kilometer\n",
      "Уникальные значения (13):\n",
      "  150000: 218563\n",
      "  125000: 34176\n",
      "  100000: 13770\n",
      "  90000: 10993\n",
      "  80000: 9559\n",
      "  70000: 8228\n",
      "  60000: 7123\n",
      "  50000: 5919\n",
      "  40000: 4717\n",
      "  30000: 4191\n",
      "  5000: 4047\n",
      "  20000: 3582\n",
      "  10000: 1022\n",
      "\n",
      "Столбец: fuel_type\n",
      "Уникальные значения (7):\n",
      "  petrol: 208136\n",
      "  gasoline: 95664\n",
      "  lpg: 5121\n",
      "  cng: 539\n",
      "  hybrid: 224\n",
      "  other: 163\n",
      "  electric: 85\n",
      "\n",
      "Столбец: brand\n",
      "Уникальные значения (40):\n",
      "  volkswagen: 69977\n",
      "  opel: 36347\n",
      "  bmw: 34624\n",
      "  mercedes_benz: 30150\n",
      "  audi: 27636\n",
      "  ford: 23160\n",
      "  renault: 16183\n",
      "  peugeot: 10227\n",
      "  fiat: 8716\n",
      "  seat: 6323\n",
      "  skoda: 5275\n",
      "  mazda: 5174\n",
      "  smart: 4868\n",
      "  citroen: 4730\n",
      "  nissan: 4586\n",
      "  toyota: 4340\n",
      "  hyundai: 3367\n",
      "  mini: 3052\n",
      "  volvo: 3050\n",
      "  mitsubishi: 2777\n",
      "  honda: 2577\n",
      "  kia: 2306\n",
      "  suzuki: 2144\n",
      "  alfa_romeo: 2134\n",
      "  sonstige_autos: 2109\n",
      "  chevrolet: 1637\n",
      "  chrysler: 1339\n",
      "  dacia: 863\n",
      "  daihatsu: 742\n",
      "  subaru: 704\n",
      "  porsche: 687\n",
      "  jeep: 632\n",
      "  land_rover: 524\n",
      "  saab: 508\n",
      "  daewoo: 485\n",
      "  jaguar: 481\n",
      "  rover: 431\n",
      "  lancia: 427\n",
      "  trabant: 397\n",
      "  lada: 201\n",
      "\n",
      "Столбец: repaired\n",
      "Уникальные значения (2):\n",
      "  no: 239309\n",
      "  yes: 34451\n",
      "\n",
      "Столбец: crawled_year\n",
      "Уникальные значения (1):\n",
      "  2016: 325890\n",
      "\n"
     ]
    },
    {
     "data": {
      "text/plain": [
       "1"
      ]
     },
     "execution_count": 21,
     "metadata": {},
     "output_type": "execute_result"
    }
   ],
   "source": [
    "get_unique_values(data, ['price', 'power', 'model'])"
   ]
  },
  {
   "cell_type": "code",
   "execution_count": 22,
   "metadata": {},
   "outputs": [],
   "source": [
    "# Переименуем gasoline в petrol, поскольку оба слова означают бензин\n",
    "data['fuel_type'] = data['fuel_type'].replace(['gasoline'],'petrol')\n",
    "\n",
    "# Заполним пропуски значением other\n",
    "data.fuel_type.fillna('other', inplace=True)"
   ]
  },
  {
   "cell_type": "markdown",
   "metadata": {},
   "source": [
    "<div class=\"alert alert-success\">\n",
    "<h2> Комментарий ревьюера <a class=\"tocSkip\"> </h2>\n",
    "\n",
    "<b>Все отлично!👍</b> Молодец, что обработал неявный дубликат."
   ]
  },
  {
   "cell_type": "markdown",
   "metadata": {},
   "source": [
    "Модель и коробка передач - важнейшие факторы ценообразования. Мы не можем заменить их на unknown, поэтому удалим.\n",
    "Для моделей это 3.57%\n",
    "Для коробки - 2.66%"
   ]
  },
  {
   "cell_type": "code",
   "execution_count": 23,
   "metadata": {},
   "outputs": [],
   "source": [
    "data.dropna(subset=['model'], inplace=True)\n",
    "data.dropna(subset=['gearbox'], inplace=True)"
   ]
  },
  {
   "cell_type": "markdown",
   "metadata": {},
   "source": [
    "Заполним пропуски в repaired, удалить не можем так как пропуски занимают большой процент от данных"
   ]
  },
  {
   "cell_type": "code",
   "execution_count": 24,
   "metadata": {},
   "outputs": [],
   "source": [
    "data.fillna({'repaired':'no_info'}, inplace=True)"
   ]
  },
  {
   "cell_type": "code",
   "execution_count": 25,
   "metadata": {},
   "outputs": [],
   "source": [
    "# Заменим в repaired значение yes на 1, no на 0:\n",
    "#data.loc[(data.repaired == 'yes'), 'repaired'] = 1\n",
    "#data.loc[(data.repaired == 'no'), 'repaired'] = 0\n",
    "#data.loc[(data.repaired == 'no info'), 'repaired'] = 2"
   ]
  },
  {
   "cell_type": "markdown",
   "metadata": {},
   "source": [
    "<div class=\"alert alert-block alert-danger\">\n",
    "<h2> Комментарий ревьюера <a class=\"tocSkip\"></h2>\n",
    "\n",
    "    \n",
    "<b>На доработку❌:</b> Кодирование нельзя делать руками:\n",
    "- при появлении новых значений категориальных признаков, не предусмотренных твоим решением, модель или упадёт, или будет генерировать ошибки;\n",
    "- такое решение не сделаешь частью `Pipeline`, а все современные решения базируются на них.\n",
    "    \n",
    "Поэтому кодирование нужно делать только с применением обучаемых трансформеров. \n",
    "    \n",
    "Кодирование данных также нужно осуществлять только после сплитования - так мы не допускаем утечку данных из тестовой части, а также можем контролировать появление в `test` новых значений категориальных признаков.\n",
    "\n",
    "<div class=\"alert alert-info\">\n",
    "<h2> Комментарий студента <a class=\"tocSkip\"> </h2>\n",
    "\n",
    "Обработал данные ordinalencoder в pipeline\n",
    "</div>"
   ]
  },
  {
   "cell_type": "markdown",
   "metadata": {},
   "source": [
    "<div class=\"alert alert-success\">\n",
    "<h2> Комментарий ревьюера v.2 <a class=\"tocSkip\"> </h2>\n",
    "\n",
    "<b>Все отлично!👍:</b> Учтено."
   ]
  },
  {
   "cell_type": "code",
   "execution_count": 26,
   "metadata": {},
   "outputs": [
    {
     "data": {
      "text/plain": [
       "price                0\n",
       "vehicle_type         0\n",
       "registration_year    0\n",
       "gearbox              0\n",
       "power                0\n",
       "model                0\n",
       "kilometer            0\n",
       "fuel_type            0\n",
       "brand                0\n",
       "repaired             0\n",
       "crawled_year         0\n",
       "dtype: int64"
      ]
     },
     "execution_count": 26,
     "metadata": {},
     "output_type": "execute_result"
    }
   ],
   "source": [
    "# Проверка пропусков\n",
    "data.isna().sum()"
   ]
  },
  {
   "cell_type": "markdown",
   "metadata": {},
   "source": [
    "<div class=\"alert alert-success\">\n",
    "<h2> Комментарий ревьюера <a class=\"tocSkip\"> </h2>\n",
    "\n",
    "<b>Все отлично!👍</b> Пропуски обработаны."
   ]
  },
  {
   "cell_type": "markdown",
   "metadata": {},
   "source": [
    "<div class=\"alert alert-success\">\n",
    "<h2> Комментарий ревьюера <a class=\"tocSkip\"> </h2>\n",
    "\n",
    "<b>Все отлично!👍</b> \n",
    "    \n",
    "По нижней границе фильтрация корректна."
   ]
  },
  {
   "cell_type": "markdown",
   "metadata": {},
   "source": [
    "<div class=\"alert alert-block alert-danger\">\n",
    "<h2> Комментарий ревьюера <a class=\"tocSkip\"></h2>\n",
    "\n",
    "    \n",
    "<b>На доработку❌:</b>\n",
    "\n",
    "По верхней границе год регистрации нужно синхронизировать с датой выгрузки данных из базы: в таблице не может быть объявлений моложе даты выгрузки, иначе это были бы просто данные из будущего.\n",
    "    \n",
    "<div class=\"alert alert-info\">\n",
    "<h2> Комментарий студента <a class=\"tocSkip\"> </h2>\n",
    "\n",
    "Я удалял дату выгрузки ранее, переместил ячейки кода выше для последовательности. И не совсем понял что мне нужно сделать, потому что у меня стояло ограничение и по верхней границе `data = data.loc[(data['registration_year'] <= 2019) & (data['registration_year'] >= 1900)]`. Сделал фильтрацию registration_year по текущей дате выше\n",
    "</div>"
   ]
  },
  {
   "cell_type": "markdown",
   "metadata": {},
   "source": [
    "<div class=\"alert alert-block alert-danger\">\n",
    "<h2> Комментарий ревьюера v.2 <a class=\"tocSkip\"></h2>\n",
    "\n",
    "    \n",
    "<b>На доработку❌:</b> Убедись, что дата выгрузки определена корректно - значение можно узнать как раз из удалённого признака.\n",
    "    \n",
    "<div class=\"alert alert-info\">\n",
    "<h2> Комментарий студента <a class=\"tocSkip\"> </h2>\n",
    "\n",
    "Сделал, теперь у меня всегда год создания объявления равен или больше года регистрации \n",
    "</div>"
   ]
  },
  {
   "cell_type": "markdown",
   "metadata": {},
   "source": [
    "<div class=\"alert alert-success\">\n",
    "<h2> Комментарий ревьюера v.3 <a class=\"tocSkip\"> </h2>\n",
    "\n",
    "<b>Все отлично!👍</b> \n",
    "    \n",
    "Учтено."
   ]
  },
  {
   "cell_type": "code",
   "execution_count": 27,
   "metadata": {},
   "outputs": [
    {
     "data": {
      "text/html": [
       "<div>\n",
       "<style scoped>\n",
       "    .dataframe tbody tr th:only-of-type {\n",
       "        vertical-align: middle;\n",
       "    }\n",
       "\n",
       "    .dataframe tbody tr th {\n",
       "        vertical-align: top;\n",
       "    }\n",
       "\n",
       "    .dataframe thead th {\n",
       "        text-align: right;\n",
       "    }\n",
       "</style>\n",
       "<table border=\"1\" class=\"dataframe\">\n",
       "  <thead>\n",
       "    <tr style=\"text-align: right;\">\n",
       "      <th></th>\n",
       "      <th>price</th>\n",
       "      <th>registration_year</th>\n",
       "      <th>power</th>\n",
       "      <th>kilometer</th>\n",
       "      <th>crawled_year</th>\n",
       "    </tr>\n",
       "  </thead>\n",
       "  <tbody>\n",
       "    <tr>\n",
       "      <th>count</th>\n",
       "      <td>305939.000000</td>\n",
       "      <td>305939.000000</td>\n",
       "      <td>305939.000000</td>\n",
       "      <td>305939.000000</td>\n",
       "      <td>305939.0</td>\n",
       "    </tr>\n",
       "    <tr>\n",
       "      <th>mean</th>\n",
       "      <td>4674.670983</td>\n",
       "      <td>2002.698378</td>\n",
       "      <td>115.866055</td>\n",
       "      <td>128666.711338</td>\n",
       "      <td>2016.0</td>\n",
       "    </tr>\n",
       "    <tr>\n",
       "      <th>std</th>\n",
       "      <td>4594.588943</td>\n",
       "      <td>6.495460</td>\n",
       "      <td>181.100201</td>\n",
       "      <td>36663.774944</td>\n",
       "      <td>0.0</td>\n",
       "    </tr>\n",
       "    <tr>\n",
       "      <th>min</th>\n",
       "      <td>0.000000</td>\n",
       "      <td>1910.000000</td>\n",
       "      <td>0.000000</td>\n",
       "      <td>5000.000000</td>\n",
       "      <td>2016.0</td>\n",
       "    </tr>\n",
       "    <tr>\n",
       "      <th>25%</th>\n",
       "      <td>1200.000000</td>\n",
       "      <td>1999.000000</td>\n",
       "      <td>75.000000</td>\n",
       "      <td>125000.000000</td>\n",
       "      <td>2016.0</td>\n",
       "    </tr>\n",
       "    <tr>\n",
       "      <th>50%</th>\n",
       "      <td>2990.000000</td>\n",
       "      <td>2003.000000</td>\n",
       "      <td>107.000000</td>\n",
       "      <td>150000.000000</td>\n",
       "      <td>2016.0</td>\n",
       "    </tr>\n",
       "    <tr>\n",
       "      <th>75%</th>\n",
       "      <td>6800.000000</td>\n",
       "      <td>2007.000000</td>\n",
       "      <td>144.000000</td>\n",
       "      <td>150000.000000</td>\n",
       "      <td>2016.0</td>\n",
       "    </tr>\n",
       "    <tr>\n",
       "      <th>max</th>\n",
       "      <td>20000.000000</td>\n",
       "      <td>2016.000000</td>\n",
       "      <td>20000.000000</td>\n",
       "      <td>150000.000000</td>\n",
       "      <td>2016.0</td>\n",
       "    </tr>\n",
       "  </tbody>\n",
       "</table>\n",
       "</div>"
      ],
      "text/plain": [
       "               price  registration_year          power      kilometer  \\\n",
       "count  305939.000000      305939.000000  305939.000000  305939.000000   \n",
       "mean     4674.670983        2002.698378     115.866055  128666.711338   \n",
       "std      4594.588943           6.495460     181.100201   36663.774944   \n",
       "min         0.000000        1910.000000       0.000000    5000.000000   \n",
       "25%      1200.000000        1999.000000      75.000000  125000.000000   \n",
       "50%      2990.000000        2003.000000     107.000000  150000.000000   \n",
       "75%      6800.000000        2007.000000     144.000000  150000.000000   \n",
       "max     20000.000000        2016.000000   20000.000000  150000.000000   \n",
       "\n",
       "       crawled_year  \n",
       "count      305939.0  \n",
       "mean         2016.0  \n",
       "std             0.0  \n",
       "min          2016.0  \n",
       "25%          2016.0  \n",
       "50%          2016.0  \n",
       "75%          2016.0  \n",
       "max          2016.0  "
      ]
     },
     "execution_count": 27,
     "metadata": {},
     "output_type": "execute_result"
    }
   ],
   "source": [
    "data.describe()"
   ]
  },
  {
   "cell_type": "code",
   "execution_count": 28,
   "metadata": {},
   "outputs": [
    {
     "name": "stdout",
     "output_type": "stream",
     "text": [
      "<class 'pandas.core.frame.DataFrame'>\n",
      "Int64Index: 305939 entries, 0 to 325889\n",
      "Data columns (total 11 columns):\n",
      " #   Column             Non-Null Count   Dtype \n",
      "---  ------             --------------   ----- \n",
      " 0   price              305939 non-null  int64 \n",
      " 1   vehicle_type       305939 non-null  object\n",
      " 2   registration_year  305939 non-null  int64 \n",
      " 3   gearbox            305939 non-null  object\n",
      " 4   power              305939 non-null  int64 \n",
      " 5   model              305939 non-null  object\n",
      " 6   kilometer          305939 non-null  int64 \n",
      " 7   fuel_type          305939 non-null  object\n",
      " 8   brand              305939 non-null  object\n",
      " 9   repaired           305939 non-null  object\n",
      " 10  crawled_year       305939 non-null  int64 \n",
      "dtypes: int64(5), object(6)\n",
      "memory usage: 28.0+ MB\n"
     ]
    }
   ],
   "source": [
    "data.info()"
   ]
  },
  {
   "cell_type": "code",
   "execution_count": 29,
   "metadata": {},
   "outputs": [],
   "source": [
    "quantitative_columns = ['price', 'registration_year', 'power', 'kilometer']"
   ]
  },
  {
   "cell_type": "code",
   "execution_count": 30,
   "metadata": {},
   "outputs": [
    {
     "data": {
      "image/png": "[encoded data removed]",
      "text/plain": [
       "<Figure size 864x432 with 2 Axes>"
      ]
     },
     "metadata": {
      "needs_background": "light"
     },
     "output_type": "display_data"
    },
    {
     "data": {
      "image/png": "[encoded data removed]",
      "text/plain": [
       "<Figure size 864x432 with 2 Axes>"
      ]
     },
     "metadata": {
      "needs_background": "light"
     },
     "output_type": "display_data"
    },
    {
     "data": {
      "image/png": "[encoded data removed]",
      "text/plain": [
       "<Figure size 864x432 with 2 Axes>"
      ]
     },
     "metadata": {
      "needs_background": "light"
     },
     "output_type": "display_data"
    },
    {
     "data": {
      "image/png": "[encoded data removed]",
      "text/plain": [
       "<Figure size 864x432 with 2 Axes>"
      ]
     },
     "metadata": {
      "needs_background": "light"
     },
     "output_type": "display_data"
    }
   ],
   "source": [
    "for column in quantitative_columns:\n",
    "    plt.figure(figsize=(12, 6))\n",
    "    \n",
    "    # Гистограмма\n",
    "    plt.subplot(1, 2, 1)\n",
    "    sns.kdeplot(data[column])\n",
    "    plt.title(f'Гистограмма {column}')\n",
    "    \n",
    "    # Ящик с усами\n",
    "    plt.subplot(1, 2, 2)\n",
    "    sns.boxplot(x=data[column])\n",
    "    plt.title(f'Ящик с усами {column}')\n",
    "    \n",
    "    plt.show()"
   ]
  },
  {
   "cell_type": "markdown",
   "metadata": {},
   "source": [
    "Смущают значения мощности, наврядли люди у которых больше 1000 сил буду смотреть рыночную стоимость, да и машин с мощностью более 10000 сил не бывает. С этим нужно поработать. Самое малое количество л.с. у автомобиля Peel P50 = 4.2 л.с."
   ]
  },
  {
   "cell_type": "code",
   "execution_count": 31,
   "metadata": {},
   "outputs": [],
   "source": [
    "data = data.query('40 <= power <= 1000')"
   ]
  },
  {
   "cell_type": "markdown",
   "metadata": {},
   "source": [
    "<div class=\"alert alert-success\">\n",
    "<h2> Комментарий ревьюера <a class=\"tocSkip\"> </h2>\n",
    "\n",
    "<b>Все отлично!👍</b> \n",
    "    \n",
    "Фильтрация по мощности корректна."
   ]
  },
  {
   "cell_type": "markdown",
   "metadata": {},
   "source": [
    "<div class=\"alert alert-warning\">\n",
    "    <h2> Комментарий ревьюера <a class=\"tocSkip\"> </h2>\n",
    "    \n",
    "<b>Некоторые замечания и рекомендации⚠️:</b> \n",
    "\n",
    "Может быть полезно также удалить околонулевые значения мощности - некоторые значения этого признака в таблице напоминают, скорее, телегу с конём, чем автомобиль:)\n",
    "        \n",
    "<div class=\"alert alert-info\">\n",
    "<h2> Комментарий студента <a class=\"tocSkip\"> </h2>\n",
    "\n",
    "Сделал ограничение от 40 л.с. вместо 4\n",
    "</div>"
   ]
  },
  {
   "cell_type": "markdown",
   "metadata": {},
   "source": [
    "<div class=\"alert alert-success\">\n",
    "<h2> Комментарий ревьюера v.2 <a class=\"tocSkip\"> </h2>\n",
    "\n",
    "<b>Все отлично!👍</b> Учтено."
   ]
  },
  {
   "cell_type": "code",
   "execution_count": 32,
   "metadata": {},
   "outputs": [
    {
     "data": {
      "text/plain": [
       "0        5156\n",
       "1500     4089\n",
       "500      4054\n",
       "1200     3454\n",
       "2500     3435\n",
       "         ... \n",
       "10295       1\n",
       "17047       1\n",
       "415         1\n",
       "7217        1\n",
       "8188        1\n",
       "Name: price, Length: 3526, dtype: int64"
      ]
     },
     "execution_count": 32,
     "metadata": {},
     "output_type": "execute_result"
    }
   ],
   "source": [
    "# Посмотрим сколько значений 0 в цене\n",
    "data.price.value_counts()"
   ]
  },
  {
   "cell_type": "markdown",
   "metadata": {},
   "source": [
    "От общего количества строк - это небольшое количество, удалим."
   ]
  },
  {
   "cell_type": "code",
   "execution_count": 33,
   "metadata": {},
   "outputs": [],
   "source": [
    "data = data[(data['price'] > 1000)]"
   ]
  },
  {
   "cell_type": "markdown",
   "metadata": {},
   "source": [
    "<div class=\"alert alert-success\">\n",
    "<h2> Комментарий ревьюера <a class=\"tocSkip\"> </h2>\n",
    "\n",
    "<b>Все отлично!👍</b> \n",
    "    \n",
    "Удалены нулевые значения цен."
   ]
  },
  {
   "cell_type": "markdown",
   "metadata": {},
   "source": [
    "<div class=\"alert alert-warning\">\n",
    "    <h2> Комментарий ревьюера <a class=\"tocSkip\"> </h2>\n",
    "    \n",
    "<b>Некоторые замечания и рекомендации⚠️:</b> \n",
    "\n",
    "Может быть полезно также удалить неадекватно низкие значения цен: в пределах цен до 500-1000 евро вряд ли можно купить полноценный автомобиль.\n",
    "        \n",
    "<div class=\"alert alert-info\">\n",
    "<h2> Комментарий студента <a class=\"tocSkip\"> </h2>\n",
    "\n",
    "Сделано\n",
    "</div>"
   ]
  },
  {
   "cell_type": "markdown",
   "metadata": {},
   "source": [
    "<div class=\"alert alert-success\">\n",
    "<h2> Комментарий ревьюера v.2 <a class=\"tocSkip\"> </h2>\n",
    "\n",
    "<b>Все отлично!👍</b> Учтено."
   ]
  },
  {
   "cell_type": "code",
   "execution_count": 34,
   "metadata": {},
   "outputs": [
    {
     "data": {
      "text/plain": [
       "30712"
      ]
     },
     "execution_count": 34,
     "metadata": {},
     "output_type": "execute_result"
    }
   ],
   "source": [
    "data.duplicated().sum()"
   ]
  },
  {
   "cell_type": "code",
   "execution_count": 35,
   "metadata": {},
   "outputs": [
    {
     "data": {
      "text/plain": [
       "0"
      ]
     },
     "execution_count": 35,
     "metadata": {},
     "output_type": "execute_result"
    }
   ],
   "source": [
    "# Удалим полные дубликаты строк\n",
    "\n",
    "data = data.drop_duplicates().reset_index(drop=True)\n",
    "\n",
    "data.duplicated().sum()"
   ]
  },
  {
   "cell_type": "code",
   "execution_count": 36,
   "metadata": {},
   "outputs": [
    {
     "name": "stdout",
     "output_type": "stream",
     "text": [
      "<class 'pandas.core.frame.DataFrame'>\n",
      "RangeIndex: 195372 entries, 0 to 195371\n",
      "Data columns (total 11 columns):\n",
      " #   Column             Non-Null Count   Dtype \n",
      "---  ------             --------------   ----- \n",
      " 0   price              195372 non-null  int64 \n",
      " 1   vehicle_type       195372 non-null  object\n",
      " 2   registration_year  195372 non-null  int64 \n",
      " 3   gearbox            195372 non-null  object\n",
      " 4   power              195372 non-null  int64 \n",
      " 5   model              195372 non-null  object\n",
      " 6   kilometer          195372 non-null  int64 \n",
      " 7   fuel_type          195372 non-null  object\n",
      " 8   brand              195372 non-null  object\n",
      " 9   repaired           195372 non-null  object\n",
      " 10  crawled_year       195372 non-null  int64 \n",
      "dtypes: int64(5), object(6)\n",
      "memory usage: 16.4+ MB\n"
     ]
    }
   ],
   "source": [
    "data.info()"
   ]
  },
  {
   "cell_type": "markdown",
   "metadata": {},
   "source": [
    "<div class=\"alert alert-success\">\n",
    "<h2> Комментарий ревьюера <a class=\"tocSkip\"> </h2>\n",
    "\n",
    "<b>Все отлично!👍</b> \n",
    "    \n",
    "Молодец, что проверяешь дубликаты после удаления лишних признаков."
   ]
  },
  {
   "cell_type": "markdown",
   "metadata": {},
   "source": [
    "В данном разделе была выполнена предобработка данных. Исходный набор содержал более 350 тысяч строк и 16 столбцов. В рамках работы названия столбцов были приведены к формату \"змеиный_регистр\", удалены неинформативные столбцы, обработаны пропуски, устранены аномалии и дубликаты. В результате предобработки размер набора данных сократился до 200 тысяч строк. Датафрейм готов для дальнейшей работы."
   ]
  },
  {
   "cell_type": "markdown",
   "metadata": {},
   "source": [
    "## Обучение моделей"
   ]
  },
  {
   "cell_type": "code",
   "execution_count": 37,
   "metadata": {},
   "outputs": [],
   "source": [
    "num_columns = [\n",
    "    'registration_year', 'power', 'kilometer'\n",
    "]\n",
    "\n",
    "ohe_columns = [\n",
    "    'vehicle_type', 'gearbox', 'model', 'fuel_type', 'brand'\n",
    "]\n",
    "\n",
    "ord_columns = ['repaired']"
   ]
  },
  {
   "cell_type": "code",
   "execution_count": 38,
   "metadata": {},
   "outputs": [],
   "source": [
    "# Разделяем выборку на тестовую и обучающую\n",
    "train_data, test_data = train_test_split(data, test_size=0.25, random_state=RANDOM_STATE)\n",
    "\n",
    "train_target = train_data['price']\n",
    "test_target = test_data['price']\n",
    "\n",
    "train_features = train_data.drop(['price'], axis=1)\n",
    "test_features = test_data.drop(['price'], axis=1)"
   ]
  },
  {
   "cell_type": "markdown",
   "metadata": {},
   "source": [
    "<div class=\"alert alert-block alert-danger\">\n",
    "<h2> Комментарий ревьюера <a class=\"tocSkip\"></h2>\n",
    "\n",
    "    \n",
    "<b>На доработку❌:</b> Нужно соблюдать корректность наименований выборок: выделены `train` и `test`, выборка `valid` нужна для промежуточной оценки моделей, в этом проекте эту функцию выполняет кросс-валидация.\n",
    "\n",
    "<div class=\"alert alert-info\">\n",
    "<h2> Комментарий студента <a class=\"tocSkip\"> </h2>\n",
    "\n",
    "Сделано\n",
    "</div>"
   ]
  },
  {
   "cell_type": "markdown",
   "metadata": {},
   "source": [
    "<div class=\"alert alert-success\">\n",
    "<h2> Комментарий ревьюера v.2 <a class=\"tocSkip\"> </h2>\n",
    "\n",
    "<b>Все отлично!👍</b> Учтено."
   ]
  },
  {
   "cell_type": "code",
   "execution_count": 39,
   "metadata": {},
   "outputs": [],
   "source": [
    "num_pipe = Pipeline(\n",
    "    [\n",
    "    ('simpleImputer_num', SimpleImputer(strategy='median')),\n",
    "    ('scaler_standard', StandardScaler()) \n",
    "    ]\n",
    ")\n",
    "\n",
    "ohe_pipe = Pipeline(\n",
    "    [('simpleImputer_ohe', SimpleImputer(missing_values=np.nan, strategy='most_frequent')),\n",
    "     ('ohe', OneHotEncoder(drop='first', handle_unknown='ignore', sparse_output=False))\n",
    "    ]\n",
    ")\n",
    "\n",
    "# SimpleImputer + ORD + SimpleImputer\n",
    "ord_pipe = Pipeline(\n",
    "    [\n",
    "        ('simpleImputer_before_ord', SimpleImputer(strategy='most_frequent')),\n",
    "        ('ord', OrdinalEncoder(\n",
    "            categories=[['no_info', 'no', 'yes']], \n",
    "            handle_unknown='use_encoded_value', unknown_value=-1\n",
    "        )),\n",
    "        ('simpleImputer_after_ord', SimpleImputer(strategy='most_frequent'))\n",
    "    ]\n",
    ")\n",
    "\n",
    "preprocessor = ColumnTransformer(\n",
    "    [\n",
    "        ('num', num_pipe, num_columns),\n",
    "        ('ohe', ohe_pipe, ohe_columns),\n",
    "        ('ord', ord_pipe, ord_columns)\n",
    "    ],\n",
    "    remainder='passthrough'\n",
    ")"
   ]
  },
  {
   "cell_type": "markdown",
   "metadata": {},
   "source": [
    "<div class=\"alert alert-warning\">\n",
    "    <h2> Комментарий ревьюера <a class=\"tocSkip\"> </h2>\n",
    "    \n",
    "<b>Некоторые замечания и рекомендации⚠️:</b>\n",
    "\n",
    "Для древесных и бустинговых моделей не стоит использовать `OneHotEncoder()`: эта техника кодирования увеличивает количество признаков, в результате чего модели сложнее создавать разделяющие правила, поэтому время работы и расчётные характеристики моделей сильно страдают на больших наборах данных. Вместо этого нужно использовать `OrdinalEncoder()` - эта техника кодирует категориальные признаки так, что с ними удобнее работать в ходе создания разделяющих правил. \n",
    "    \n",
    "Для бустинговых алгоритмов альетрнатинва - использование внутренних кодировщиков, которые работают лучше сторонних. В случае `CatBoost` за это отвечает параметр `cat_features`. В случае `LightGBM` можно привести эти категориальные признаки к типу `category`, тогда модель будет работать с категориальными признаками автоматически."
   ]
  },
  {
   "cell_type": "markdown",
   "metadata": {},
   "source": [
    "### LightGBM"
   ]
  },
  {
   "cell_type": "code",
   "execution_count": 40,
   "metadata": {},
   "outputs": [],
   "source": [
    "train_features_lgb = train_features.copy()\n",
    "test_features_lgb = test_features.copy()\n",
    "\n",
    "# Преобразуем категориальные признаки в тип category\n",
    "categorical_columns = train_features_lgb.select_dtypes(include='object').columns\n",
    "\n",
    "train_features_lgb[categorical_columns] = train_features_lgb[categorical_columns].astype('category')\n",
    "test_features_lgb[categorical_columns] = test_features_lgb[categorical_columns].astype('category')"
   ]
  },
  {
   "cell_type": "code",
   "execution_count": 41,
   "metadata": {},
   "outputs": [],
   "source": [
    "pipeline = Pipeline(steps=[('lgbmr', LGBMRegressor(random_state=RANDOM_STATE, n_estimators=50))])\n",
    "\n",
    "param_dist = {\n",
    "    'lgbmr__num_leaves': [100, 150, 200],\n",
    "    'lgbmr__learning_rate': [0.1, 0.2, 0.3],\n",
    "    'lgbmr__max_depth': [5, 10, 15]\n",
    "}"
   ]
  },
  {
   "cell_type": "markdown",
   "metadata": {},
   "source": [
    "<div class=\"alert alert-block alert-danger\">\n",
    "<h2> Комментарий ревьюера <a class=\"tocSkip\"></h2>\n",
    "\n",
    "    \n",
    "<b>На доработку❌:</b> Гиперпараметры, у которых в сетке только одно значение, корректнее сразу настраивать при инициализации модели и не вносить в сетку: основная идея перебора - исследование нескольких значений, а когда значение одно, то и перебор фактически не происходит.\n",
    "    \n",
    "<div class=\"alert alert-info\">\n",
    "<h2> Комментарий студента <a class=\"tocSkip\"> </h2>\n",
    "\n",
    "Сделано\n",
    "</div>"
   ]
  },
  {
   "cell_type": "markdown",
   "metadata": {},
   "source": [
    "<div class=\"alert alert-success\">\n",
    "<h2> Комментарий ревьюера v.2 <a class=\"tocSkip\"> </h2>\n",
    "\n",
    "<b>Все отлично!👍</b> Учтено."
   ]
  },
  {
   "cell_type": "code",
   "execution_count": 42,
   "metadata": {
    "scrolled": true
   },
   "outputs": [
    {
     "name": "stdout",
     "output_type": "stream",
     "text": [
      "Замеряем RMSE на кросс-валидации: 1665.7655088261795\n",
      "Время обучения модели LightGBM: 27.80 секунд\n",
      "Время предсказания модели LightGBM: 1.40 секунд\n"
     ]
    }
   ],
   "source": [
    "clf = RandomizedSearchCV(\n",
    "    pipeline,\n",
    "    param_distributions=param_dist,\n",
    "    n_iter=5,\n",
    "    scoring='neg_mean_squared_error',\n",
    "    cv=3,\n",
    "    random_state=RANDOM_STATE\n",
    "    n_jobs=4\n",
    ")\n",
    "\n",
    "clf.fit(train_features_lgb, train_target)\n",
    "\n",
    "rmse_lgbm_cv = (-clf.best_score_) ** 0.5\n",
    "print(\"Замеряем RMSE на кросс-валидации:\", rmse_lgbm_cv)\n",
    "\n",
    "model_lgbm =clf.best_estimator_\n",
    "\n",
    "# Замер времени обучения модели LightGBM\n",
    "start = time.time()\n",
    "\n",
    "model_lgbm.fit(train_features_lgb, train_target)\n",
    "\n",
    "end = time.time()\n",
    "t_lgbm_train = end - start\n",
    "print(f\"Время обучения модели LightGBM: {t_lgbm_train:.2f} секунд\")\n",
    "\n",
    "# Оценка времени работы модели LightGBM на тренировочной выборке\n",
    "start = time.time()\n",
    "\n",
    "target_predict_gbm = model_lgbm.predict(train_features_lgb)\n",
    "\n",
    "end = time.time()\n",
    "t_lgbm_predict = end - start\n",
    "print(f\"Время предсказания модели LightGBM: {t_lgbm_predict:.2f} секунд\")"
   ]
  },
  {
   "cell_type": "markdown",
   "metadata": {},
   "source": [
    "<div class=\"alert alert-block alert-danger\">\n",
    "<h2> Комментарий ревьюера <a class=\"tocSkip\"></h2>\n",
    "\n",
    "    \n",
    "<b>На доработку❌:</b> Нужно вывести метрику лучшей модели на кросс-валидации.\n",
    "    \n",
    "<div class=\"alert alert-info\">\n",
    "<h2> Комментарий студента <a class=\"tocSkip\"> </h2>\n",
    "\n",
    "Сделано\n",
    "</div>"
   ]
  },
  {
   "cell_type": "markdown",
   "metadata": {},
   "source": [
    "<div class=\"alert alert-success\">\n",
    "<h2> Комментарий ревьюера v.2 <a class=\"tocSkip\"> </h2>\n",
    "\n",
    "<b>Все отлично!👍</b> Учтено."
   ]
  },
  {
   "cell_type": "markdown",
   "metadata": {},
   "source": [
    "### DecisionTreeRegressor"
   ]
  },
  {
   "cell_type": "code",
   "execution_count": 43,
   "metadata": {},
   "outputs": [],
   "source": [
    "# Пайплайн с DecisionTreeRegressor\n",
    "pipeline = Pipeline(steps=[('preprocessor', preprocessor),\n",
    "                           ('DecisionTreeRegressor',  DecisionTreeRegressor(random_state=RANDOM_STATE))])\n",
    "\n",
    "# Параметры для RandomizedSearchCV\n",
    "param_dist = {\n",
    "    'DecisionTreeRegressor__max_depth': range(2, 20),\n",
    "    'DecisionTreeRegressor__min_samples_split': range(2, 10),\n",
    "    'DecisionTreeRegressor__min_samples_leaf': range(1, 10)\n",
    "}"
   ]
  },
  {
   "cell_type": "code",
   "execution_count": 44,
   "metadata": {
    "scrolled": true
   },
   "outputs": [
    {
     "name": "stderr",
     "output_type": "stream",
     "text": [
      "/opt/conda/lib/python3.9/site-packages/sklearn/preprocessing/_encoders.py:241: UserWarning: Found unknown categories in columns [2] during transform. These unknown categories will be encoded as all zeros\n",
      "  warnings.warn(\n",
      "/opt/conda/lib/python3.9/site-packages/sklearn/preprocessing/_encoders.py:241: UserWarning: Found unknown categories in columns [2] during transform. These unknown categories will be encoded as all zeros\n",
      "  warnings.warn(\n",
      "/opt/conda/lib/python3.9/site-packages/sklearn/preprocessing/_encoders.py:241: UserWarning: Found unknown categories in columns [2] during transform. These unknown categories will be encoded as all zeros\n",
      "  warnings.warn(\n",
      "/opt/conda/lib/python3.9/site-packages/sklearn/preprocessing/_encoders.py:241: UserWarning: Found unknown categories in columns [2] during transform. These unknown categories will be encoded as all zeros\n",
      "  warnings.warn(\n",
      "/opt/conda/lib/python3.9/site-packages/sklearn/preprocessing/_encoders.py:241: UserWarning: Found unknown categories in columns [2] during transform. These unknown categories will be encoded as all zeros\n",
      "  warnings.warn(\n"
     ]
    },
    {
     "name": "stdout",
     "output_type": "stream",
     "text": [
      "Замеряем RMSE на кросс-валидации: 1915.985428597507\n",
      "Время обучения модели DecisionTreeRegressor: 6.29 секунд\n",
      "Время предсказания модели DecisionTreeRegressor: 1.04 секунд\n"
     ]
    }
   ],
   "source": [
    "random_search = RandomizedSearchCV(pipeline,\n",
    "                                   param_distributions=param_dist,\n",
    "                                   n_iter=5,\n",
    "                                   cv=3, \n",
    "                                   scoring='neg_mean_squared_error',\n",
    "                                   random_state=RANDOM_STATE,\n",
    "                                   n_jobs=-1\n",
    "                                  )\n",
    "\n",
    "random_search.fit(train_features, train_target)\n",
    "\n",
    "rmse_tree_cv = (-random_search.best_score_) ** 0.5\n",
    "print(\"Замеряем RMSE на кросс-валидации:\", rmse_tree_cv)\n",
    "\n",
    "model_tree =random_search.best_estimator_\n",
    "\n",
    "# Замер времени обучения модели DecisionTreeRegressor\n",
    "start = time.time()\n",
    "\n",
    "model_tree.fit(train_features, train_target)\n",
    "\n",
    "end = time.time()\n",
    "t_tree_train = end - start\n",
    "print(f\"Время обучения модели DecisionTreeRegressor: {t_tree_train:.2f} секунд\")\n",
    "\n",
    "# Оценка времени работы модели DecisionTreeRegressor на тренировочной выборке\n",
    "start = time.time()\n",
    "\n",
    "target_predict_tree = model_tree.predict(train_features)\n",
    "\n",
    "end = time.time()\n",
    "t_tree_predict = end - start\n",
    "print(f\"Время предсказания модели DecisionTreeRegressor: {t_tree_predict:.2f} секунд\")"
   ]
  },
  {
   "cell_type": "code",
   "execution_count": 45,
   "metadata": {},
   "outputs": [
    {
     "data": {
      "text/html": [
       "<div>\n",
       "<style scoped>\n",
       "    .dataframe tbody tr th:only-of-type {\n",
       "        vertical-align: middle;\n",
       "    }\n",
       "\n",
       "    .dataframe tbody tr th {\n",
       "        vertical-align: top;\n",
       "    }\n",
       "\n",
       "    .dataframe thead th {\n",
       "        text-align: right;\n",
       "    }\n",
       "</style>\n",
       "<table border=\"1\" class=\"dataframe\">\n",
       "  <thead>\n",
       "    <tr style=\"text-align: right;\">\n",
       "      <th></th>\n",
       "      <th>Model</th>\n",
       "      <th>Training Time (sec)</th>\n",
       "      <th>Prediction Time (sec)</th>\n",
       "      <th>RMSE(CROSS-VAL)</th>\n",
       "    </tr>\n",
       "  </thead>\n",
       "  <tbody>\n",
       "    <tr>\n",
       "      <th>0</th>\n",
       "      <td>LightGBM</td>\n",
       "      <td>27.803359</td>\n",
       "      <td>1.399709</td>\n",
       "      <td>1665.765509</td>\n",
       "    </tr>\n",
       "    <tr>\n",
       "      <th>1</th>\n",
       "      <td>DecisionTreeRegressor</td>\n",
       "      <td>6.286734</td>\n",
       "      <td>1.039931</td>\n",
       "      <td>1915.985429</td>\n",
       "    </tr>\n",
       "  </tbody>\n",
       "</table>\n",
       "</div>"
      ],
      "text/plain": [
       "                   Model  Training Time (sec)  Prediction Time (sec)  \\\n",
       "0               LightGBM            27.803359               1.399709   \n",
       "1  DecisionTreeRegressor             6.286734               1.039931   \n",
       "\n",
       "   RMSE(CROSS-VAL)  \n",
       "0      1665.765509  \n",
       "1      1915.985429  "
      ]
     },
     "execution_count": 45,
     "metadata": {},
     "output_type": "execute_result"
    }
   ],
   "source": [
    "results = pd.DataFrame({'Model': ['LightGBM', 'DecisionTreeRegressor'],\n",
    "                        'Training Time (sec)': [t_lgbm_train, t_tree_train],\n",
    "                        'Prediction Time (sec)': [t_lgbm_predict, t_tree_predict],\n",
    "                        'RMSE(CROSS-VAL)': [rmse_lgbm_cv, rmse_tree_cv]})\n",
    "\n",
    "results"
   ]
  },
  {
   "cell_type": "markdown",
   "metadata": {},
   "source": [
    "Модель LightGBM показывает лучший результат по метрике RMSE (1665.77 против 1915.99 у DecisionTreeRegressor), что означает более точные предсказания. Хотя LightGBM требует больше времени для обучения (27.80 секунды против 6.29 секунд у DecisionTreeRegressor), она значительно лучше по точности. В то время как DecisionTreeRegressor обучается быстрее, его точность ниже, что делает LightGBM предпочтительней для дальнейшего использования. Таким образом, LightGBM следует выбрать в качестве лучшей модели для дальнейшей оценки на тестовой выборке."
   ]
  },
  {
   "cell_type": "code",
   "execution_count": 46,
   "metadata": {},
   "outputs": [
    {
     "name": "stdout",
     "output_type": "stream",
     "text": [
      "RMSE для LightGBM: 1639.6137067198124\n"
     ]
    }
   ],
   "source": [
    "best_model_predictions = model_lgbm.predict(test_features_lgb)\n",
    "\n",
    "rmse_model = np.sqrt(mean_squared_error(test_target, best_model_predictions))\n",
    "print(f\"RMSE для LightGBM: {rmse_model}\")"
   ]
  },
  {
   "cell_type": "code",
   "execution_count": 47,
   "metadata": {},
   "outputs": [
    {
     "name": "stderr",
     "output_type": "stream",
     "text": [
      "/opt/conda/lib/python3.9/site-packages/sklearn/preprocessing/_encoders.py:241: UserWarning: Found unknown categories in columns [2] during transform. These unknown categories will be encoded as all zeros\n",
      "  warnings.warn(\n"
     ]
    },
    {
     "name": "stdout",
     "output_type": "stream",
     "text": [
      "RMSE для DummyRegressor с предварительной обработкой: 4613.923279899762\n"
     ]
    }
   ],
   "source": [
    "model_pipeline = Pipeline(\n",
    "    [\n",
    "        ('preprocessor', preprocessor),\n",
    "        ('model', DummyRegressor(strategy=\"mean\"))\n",
    "    ]\n",
    ")\n",
    "\n",
    "# Обучаем модель\n",
    "model_pipeline.fit(train_features, train_target)\n",
    "\n",
    "# Делаем предсказания\n",
    "dummy_predictions = model_pipeline.predict(test_features)\n",
    "\n",
    "# Вычисляем RMSE\n",
    "rmse_dummy = np.sqrt(mean_squared_error(test_target, dummy_predictions))\n",
    "\n",
    "print(f\"RMSE для DummyRegressor с предварительной обработкой: {rmse_dummy}\")"
   ]
  },
  {
   "cell_type": "markdown",
   "metadata": {},
   "source": [
    "Результаты показывают, что для модели LightGBM на тестовой выборке мы получили RMSE 1640.93, что делает её хорошим выбором для данной задачи. Мы выбрали LightGBM вместо DecisionTreeRegressor, так как она продемонстрировала лучшие результаты на промежуточных испытаниях. Кроме того, LightGBM обучалась быстрее (27.80 секунды против 6.29 секунд у DecisionTreeRegressor) и имела схожее время на предсказания (1.40 секунды против 1.04 секунд).\n",
    "\n",
    "Что касается кросс-валидации, то LightGBM показала RMSE 1663.76, в то время как DecisionTreeRegressor показал RMSE 1915.99, что также подтверждает превосходство LightGBM.\n",
    "\n",
    "Однако перед окончательным выбором модели важно проверить её эффективность на фоне модели, которая предсказывает константу (то есть использует среднее значение целевой переменной для всех наблюдений). Это необходимо для оценки адекватности модели — возможно, сложные модели, такие как LightGBM, не будут значительно превосходить такую простую модель. В таком случае можно было бы обойтись без тюнинга и создания новых признаков. В нашем случае DummyRegressor с предварительной обработкой показал RMSE 4613.92, что подтверждает значительную разницу в точности между простыми и более сложными моделями.\n",
    "\n",
    "Таким образом, несмотря на то, что DummyRegressor дал наихудший результат, его использование служит важной проверкой адекватности более сложных моделей."
   ]
  },
  {
   "cell_type": "markdown",
   "metadata": {},
   "source": [
    "<div class=\"alert alert-block alert-danger\">\n",
    "<h2> Комментарий ревьюера <a class=\"tocSkip\"></h2>\n",
    "\n",
    "    \n",
    "<b>На доработку❌:</b>\n",
    "\n",
    "По этому блоку будет несколько важных замечаний:\n",
    "1. Все модели этого блока оцениваются на тестовой выборке - это преждевременное решение, так как оценка на тестовой выборке - это финальное тестирование для лучшей модели, которая была отобрана в ходе промежуточного тестирования. Эта концепция находит своё отражение в условиях эксплуатации модели в реальной среде: в промышленной эксплуатации не работает несколько моделей одновременно - в промышленную эксплуатацию запускают только одну модель, которая была выбрана из нескольких в ходе промежуточной оценки. Так же и здесь - тестовая выборка имитирует поток реальных данных, и с этим потоком должна работать только одна модель. \n",
    "\n",
    "\n",
    "2. Лучшая модель должна быть выбрана по двум критериям - метрика `RMSE` и время работы модели. Далее сценарий работы с моделями в этом блоке зависит от выбранной стратегии валидации и оптимизации гиперпараметров:\n",
    "- для оптимизации гиперпараметров и промежуточной оценки моделей была выделена валидационная выборка;\n",
    "- для оптимизации гиперпараметров и промежуточной оценки моделей проводится кросс-валидация.\n",
    "    \n",
    "    В первом случае метрика промежуточной оценки модели - это метрика `RMSE` на валидационной выборке, полученная от использования на `valid` лучшей модели, а время - это время обучения модели с лучшими гиперпарметрами на `train` и время совершения ею предсказаний на `valid`.\n",
    "    \n",
    "    Во втором случае метрика промежуточной оценким модели - это метрика `RMSE` с кросс-валидации: в случае использования `cross_val_score` - это среднее из массива метрик (длина соответствует количеству фолдов для кросс-валидации), который возвращает инструмент, в случае использования `GridSearchCV` или `RandomizedSearchCV` - это метрика из атрибута `best_score_`. Временем работы лучшей модели может быть время обучения на `train` и время предсказания на `train` выборке (только время, метрика `RMSE` на тренировочной выборке не нужна).\n",
    "    \n",
    "    Тут часто студенты делают ошибку, принимая в качестве метрики времени время работы лучшей модели, а время оптимизации гиперпараметров в целом (то есть время выполнения всей ячейки кода цикла с `cross_val_score` или ячейки с `GridSearchCV`) - это некорректный подход: на практике модель не будет каждый раз переобучаться и выполнять оптимизацию гиперпараметров перед очередным предсказанием - сначала будет найдена лучшая модель, а она уже будет использоваться для обучения и предсказаний. Поэтому и в этом случае сначала определяется лучшая модель, а уже потом замеряется время её работы: кросс-валидации как альтернатива времени обучения и предсказания (потому что по сути кросс-валидация объединяет в себе обучение и предсказание) или время обучения и предсказания на `train`.\n",
    "    \n",
    "    Независимо от выбранной стратегии кросс-валидации алгоритм работы выглядит как:\n",
    "- оптимизация гиперпараметров и поиск лучшей модели;\n",
    "- оценка метрики `RMSE`;\n",
    "- оценка времени работы лучшей модели: на валидационной выборке (если она выделялась) или на кросс-валидации/тренировочной выборке (если проводилась кросс-валидация).\n",
    "    \n",
    "Концепт для `valid`:\n",
    "    \n",
    "    for ... in ...:\n",
    "    \n",
    "        #код для поиска лучшей модели\n",
    "    \n",
    "    model = ... #код для инициализации лучшей модели с оптимальными гиперпараметрами\n",
    "    \n",
    "    model.fit(X_train, Y_train) #замеряем время обучения\n",
    "    \n",
    "    pred = model.predict(X_valid) #замеряем время предсказания\n",
    "    \n",
    "    RMSE = (Y_valid, pred) #замеряем RMSE на valid\n",
    "    \n",
    "Концепт для кросс-валидации:\n",
    "    \n",
    "    model = #инициализируем модель\n",
    "    gs = GridSearchCV(...) #настраиваем поиск по сетке\n",
    "    \n",
    "    gs.fit(...) #находим лучшую модель\n",
    "    \n",
    "    gs.best_score_ #замеряем RMSE на  кросс-валидации\n",
    "    \n",
    "    model = gs.best_estimator_ #получаем лучшую модель из best_estimator\n",
    "    model = #YourModel(random_state = 42, **gs.best_params) #альтернативный способ получения лучшей модели\n",
    "    \n",
    "    model.fit(X_train, Y_train) #замеряем время обучения\n",
    "    model.predict(X_train) #замеряем время предсказания\n",
    "    \n",
    "    \n",
    "   По итогу нужно будет провести сравнительную характеристику моделей по критериям метрики `RMSE` и времени работы моделей и выбрать лучшую - именно эта лучшая модель должна будет оцениваться на тестовой выборке.\n",
    "    \n",
    "   Обрати также внимание, что при создании таблицы нельзя использовать вручную введённые значения - они потеряют актуальность при любом изменении в данных, их обработке или в моделях. Значения метрик лучше помещать в переменные и использовать их для создания таблиц. Для сохранения в переменные времени работы моделей можно использовать модуль `time`:\n",
    "    \n",
    "    from time import time\n",
    "    \n",
    "    start = time()\n",
    "    \n",
    "    #код модели\n",
    "    \n",
    "    end = time()\n",
    "    \n",
    "    model_time = (end-start)/60 #перевожу в минуты, так как по умолчанию секунды\n",
    "    \n",
    " Альтернативный подход - использование `cv_results_` после обучения `GridSearchCV` в качестве источика метрик (особенно удобно в случае рассмотрения нескольких моделей в пределах одного `Pipeline`). В таком случае можно выполнить группировку по столбцу с названием модели (предварительно извлечь его можно с помощью строкового метода `split()`), найти индексы строк с минимальным значением метрики с помощью `idxmin()` или `idxmax()` (в зависимости от того, был ли изменён знак метрики), и уже из этих строк с помощью `.loc` извлечь время обучения (`mean_fit_time`) и время предсказания (`mean_score_time`).\n",
    "    \n",
    "3. Итоговый вывод нужно поправить."
   ]
  },
  {
   "cell_type": "markdown",
   "metadata": {},
   "source": [
    "<div class=\"alert alert-block alert-danger\">\n",
    "<h2> Комментарий ревьюера v.2 <a class=\"tocSkip\"></h2>\n",
    "\n",
    "    \n",
    "<b>На доработку❌:</b> Не учтено ни по одному пункту."
   ]
  },
  {
   "cell_type": "markdown",
   "metadata": {},
   "source": [
    "<div class=\"alert alert-success\">\n",
    "<h2> Комментарий ревьюера v.3 <a class=\"tocSkip\"> </h2>\n",
    "\n",
    "<b>Все отлично!👍</b> Учтено."
   ]
  },
  {
   "cell_type": "markdown",
   "metadata": {},
   "source": [
    "<div class=\"alert alert-warning\">\n",
    "    <h2> Комментарий ревьюера <a class=\"tocSkip\"> </h2>\n",
    "    \n",
    "<b>Некоторые замечания и рекомендации⚠️:</b>\n",
    "Очень важно также проверить лучшую модель на адекватность, сравнив качество её предсказаний с качеством модели, которая предсказывала бы константу - вдруг окажется, что не было бы большого смысла заниматься созданием новых признаков, тюнингом и кросс-валидацией моделей, если можно было бы просто предсказывать среднее значение тренировочной выборки? \n",
    "    \n",
    "В качестве константной модели можно использовать `DummyRegressor` (https://scikit-learn.org/stable/modules/generated/sklearn.dummy.DummyRegressor.html) -  эта модель как раз создана для генерирования константных предсказаний.\n",
    "    \n",
    "Важно, чтобы результат тестирования нашей модели на тествой выборке был лучше, чем результат константной модели - в противном случае наша модель является бесполезной, так как все наши усилия над проектом не принесли результата, а можель, просто предсказывющая среднее на `train`, делает нашу работу лучше."
   ]
  },
  {
   "cell_type": "markdown",
   "metadata": {},
   "source": [
    "<div style=\"border:solid Chocolate 2px; padding: 40px\">\n",
    "\n",
    "# Комментарий ревьюера: общий вывод по проекту.\n",
    "\n",
    "Никита, проект получился на довольно хорошем уровне - отличная работа над проектом, молодец!\n",
    "\n",
    "Мне нравится твой аналитический подход к выполнению проекта, ты соблюдаешь структуру работы, выполняешь её последовательно - это очень хорошо! Шаги проекта выполнены по порядку согласно плану проекта, нет смысловых и структурных ям. Важно, что не забываешь про выводы.\n",
    "\n",
    "Работа с моделями также выполнена отлично: исследовано несколько алгоритмов, проведён подбор гиперпараметров с помощью `GridSearchCV`, выполнена промежуточная оценка моделей на кросс-валидации - молодец!\n",
    "    \n",
    "Над проектом ещё стоит поработать - есть рекомендации по дополнению некоторых твоих шагов проекта. Такие рекомендации я отметил жёлтыми комментариями. Будет здорово, если ты учтёшь их - так проект станет структурно и содержательно более совершенным.\n",
    "    \n",
    "Также в работе есть критические замечания. К этим замечаниям я оставил пояснительные комментарии красного цвета, в которых перечислил возможные варианты дальнейших действий. Уверен, ты быстро с этим управишься:)\n",
    "    \n",
    "Если о том, что нужно сделать в рамках комментариев, будут возникать вопросы - оставь их, пожалуйста, в комментариях, и я отвечу на них во время следующего ревью.\n",
    "    \n",
    "Также буду рад ответить на любые твои вопросы по проекту или на какие-либо другие, если они у тебя имеются - оставь их в комментариях, и я постараюсь ответить:)\n",
    "    \n",
    "Жду твой проект на повторном ревью. До встречи:)"
   ]
  },
  {
   "cell_type": "markdown",
   "metadata": {},
   "source": [
    "<div style=\"border:solid Chocolate 2px; padding: 40px\">\n",
    "\n",
    "# Комментарий ревьюера: итоговый вывод по проекту.\n",
    "\n",
    "Никита, все замечания учтены - проект принят!\n",
    "    \n",
    "Спасибо за хорошую работу над проектом, желаю успехов в дальнейшем обучении:)"
   ]
  }
 ],
 "metadata": {
  "ExecuteTimeLog": [
   {
    "duration": 1539,
    "start_time": "2024-12-28T05:01:25.151Z"
   },
   {
    "duration": 3347,
    "start_time": "2024-12-28T05:02:11.434Z"
   },
   {
    "duration": 3,
    "start_time": "2024-12-28T05:04:03.741Z"
   },
   {
    "duration": 3,
    "start_time": "2024-12-28T05:04:04.045Z"
   },
   {
    "duration": 3,
    "start_time": "2024-12-28T05:04:05.908Z"
   },
   {
    "duration": 827,
    "start_time": "2024-12-28T05:04:06.553Z"
   },
   {
    "duration": 852,
    "start_time": "2024-12-28T05:04:21.146Z"
   },
   {
    "duration": 133,
    "start_time": "2024-12-28T05:05:19.554Z"
   },
   {
    "duration": 109,
    "start_time": "2024-12-28T05:08:31.352Z"
   },
   {
    "duration": 5,
    "start_time": "2024-12-28T05:08:48.166Z"
   },
   {
    "duration": 3,
    "start_time": "2024-12-28T05:09:22.837Z"
   },
   {
    "duration": 140,
    "start_time": "2024-12-28T05:09:30.711Z"
   },
   {
    "duration": 811,
    "start_time": "2024-12-28T05:09:37.143Z"
   },
   {
    "duration": 139,
    "start_time": "2024-12-28T05:09:38.782Z"
   },
   {
    "duration": 147,
    "start_time": "2024-12-28T05:09:39.609Z"
   },
   {
    "duration": 3,
    "start_time": "2024-12-28T05:09:57.084Z"
   },
   {
    "duration": 16,
    "start_time": "2024-12-28T05:11:11.216Z"
   },
   {
    "duration": 1397,
    "start_time": "2024-12-28T05:11:26.274Z"
   },
   {
    "duration": 4,
    "start_time": "2024-12-28T05:11:27.673Z"
   },
   {
    "duration": 14,
    "start_time": "2024-12-28T05:11:27.678Z"
   },
   {
    "duration": 25,
    "start_time": "2024-12-28T05:11:27.694Z"
   },
   {
    "duration": 878,
    "start_time": "2024-12-28T05:11:27.721Z"
   },
   {
    "duration": 143,
    "start_time": "2024-12-28T05:11:28.600Z"
   },
   {
    "duration": 4,
    "start_time": "2024-12-28T05:11:28.745Z"
   },
   {
    "duration": 24,
    "start_time": "2024-12-28T05:11:28.750Z"
   },
   {
    "duration": 1380,
    "start_time": "2024-12-28T05:11:54.002Z"
   },
   {
    "duration": 3,
    "start_time": "2024-12-28T05:11:55.384Z"
   },
   {
    "duration": 24,
    "start_time": "2024-12-28T05:11:55.389Z"
   },
   {
    "duration": 6,
    "start_time": "2024-12-28T05:11:55.415Z"
   },
   {
    "duration": 877,
    "start_time": "2024-12-28T05:11:55.422Z"
   },
   {
    "duration": 151,
    "start_time": "2024-12-28T05:11:56.301Z"
   },
   {
    "duration": 4,
    "start_time": "2024-12-28T05:11:56.453Z"
   },
   {
    "duration": 28,
    "start_time": "2024-12-28T05:11:56.459Z"
   },
   {
    "duration": 11,
    "start_time": "2024-12-28T05:12:23.041Z"
   },
   {
    "duration": 103,
    "start_time": "2024-12-28T05:14:08.460Z"
   },
   {
    "duration": 418,
    "start_time": "2024-12-28T05:14:12.363Z"
   },
   {
    "duration": 3,
    "start_time": "2024-12-28T05:14:52.730Z"
   },
   {
    "duration": 292,
    "start_time": "2024-12-28T05:14:57.760Z"
   },
   {
    "duration": 276,
    "start_time": "2024-12-28T05:15:54.900Z"
   },
   {
    "duration": 1356,
    "start_time": "2024-12-28T05:16:55.323Z"
   },
   {
    "duration": 3,
    "start_time": "2024-12-28T05:16:56.681Z"
   },
   {
    "duration": 26,
    "start_time": "2024-12-28T05:16:56.686Z"
   },
   {
    "duration": 68,
    "start_time": "2024-12-28T05:16:56.713Z"
   },
   {
    "duration": 841,
    "start_time": "2024-12-28T05:16:56.783Z"
   },
   {
    "duration": 135,
    "start_time": "2024-12-28T05:16:57.625Z"
   },
   {
    "duration": 604,
    "start_time": "2024-12-28T05:16:57.762Z"
   },
   {
    "duration": 26,
    "start_time": "2024-12-28T05:16:58.367Z"
   },
   {
    "duration": 13,
    "start_time": "2024-12-28T05:16:58.395Z"
   },
   {
    "duration": 271,
    "start_time": "2024-12-28T05:16:58.421Z"
   },
   {
    "duration": 1326,
    "start_time": "2024-12-28T05:18:09.466Z"
   },
   {
    "duration": 4,
    "start_time": "2024-12-28T05:18:10.794Z"
   },
   {
    "duration": 14,
    "start_time": "2024-12-28T05:18:10.799Z"
   },
   {
    "duration": 10,
    "start_time": "2024-12-28T05:18:10.814Z"
   },
   {
    "duration": 847,
    "start_time": "2024-12-28T05:18:10.826Z"
   },
   {
    "duration": 136,
    "start_time": "2024-12-28T05:18:11.675Z"
   },
   {
    "duration": 4,
    "start_time": "2024-12-28T05:18:11.822Z"
   },
   {
    "duration": 600,
    "start_time": "2024-12-28T05:18:11.827Z"
   },
   {
    "duration": 27,
    "start_time": "2024-12-28T05:18:12.430Z"
   },
   {
    "duration": 25,
    "start_time": "2024-12-28T05:18:12.458Z"
   },
   {
    "duration": 309,
    "start_time": "2024-12-28T05:18:12.484Z"
   },
   {
    "duration": 211,
    "start_time": "2024-12-28T05:19:11.210Z"
   },
   {
    "duration": 1388,
    "start_time": "2024-12-28T05:19:16.084Z"
   },
   {
    "duration": 3,
    "start_time": "2024-12-28T05:19:17.474Z"
   },
   {
    "duration": 5,
    "start_time": "2024-12-28T05:19:17.478Z"
   },
   {
    "duration": 10,
    "start_time": "2024-12-28T05:19:17.484Z"
   },
   {
    "duration": 879,
    "start_time": "2024-12-28T05:19:17.496Z"
   },
   {
    "duration": 150,
    "start_time": "2024-12-28T05:19:18.377Z"
   },
   {
    "duration": 3,
    "start_time": "2024-12-28T05:19:18.529Z"
   },
   {
    "duration": 591,
    "start_time": "2024-12-28T05:19:18.534Z"
   },
   {
    "duration": 483,
    "start_time": "2024-12-28T05:19:19.127Z"
   },
   {
    "duration": 41,
    "start_time": "2024-12-28T05:19:19.612Z"
   },
   {
    "duration": 22,
    "start_time": "2024-12-28T05:19:19.654Z"
   },
   {
    "duration": 268,
    "start_time": "2024-12-28T05:19:47.638Z"
   },
   {
    "duration": 716,
    "start_time": "2024-12-28T05:26:53.190Z"
   },
   {
    "duration": 621,
    "start_time": "2024-12-28T05:27:27.503Z"
   },
   {
    "duration": 1401,
    "start_time": "2024-12-28T05:28:19.151Z"
   },
   {
    "duration": 3814,
    "start_time": "2024-12-28T05:28:50.067Z"
   },
   {
    "duration": 239,
    "start_time": "2024-12-28T05:29:04.655Z"
   },
   {
    "duration": 649,
    "start_time": "2024-12-28T05:29:40.807Z"
   },
   {
    "duration": 1422,
    "start_time": "2024-12-28T05:29:48.328Z"
   },
   {
    "duration": 3,
    "start_time": "2024-12-28T05:29:49.752Z"
   },
   {
    "duration": 22,
    "start_time": "2024-12-28T05:29:49.757Z"
   },
   {
    "duration": 4,
    "start_time": "2024-12-28T05:29:49.781Z"
   },
   {
    "duration": 848,
    "start_time": "2024-12-28T05:29:49.787Z"
   },
   {
    "duration": 148,
    "start_time": "2024-12-28T05:29:50.637Z"
   },
   {
    "duration": 5,
    "start_time": "2024-12-28T05:29:50.787Z"
   },
   {
    "duration": 593,
    "start_time": "2024-12-28T05:29:50.793Z"
   },
   {
    "duration": 500,
    "start_time": "2024-12-28T05:29:51.387Z"
   },
   {
    "duration": 41,
    "start_time": "2024-12-28T05:29:51.888Z"
   },
   {
    "duration": 19,
    "start_time": "2024-12-28T05:29:51.930Z"
   },
   {
    "duration": 288,
    "start_time": "2024-12-28T05:29:51.950Z"
   },
   {
    "duration": 713,
    "start_time": "2024-12-28T05:29:52.239Z"
   },
   {
    "duration": 0,
    "start_time": "2024-12-28T05:29:52.953Z"
   },
   {
    "duration": 626,
    "start_time": "2024-12-28T05:31:09.704Z"
   },
   {
    "duration": 1347,
    "start_time": "2024-12-28T05:31:18.213Z"
   },
   {
    "duration": 3,
    "start_time": "2024-12-28T05:31:19.562Z"
   },
   {
    "duration": 40,
    "start_time": "2024-12-28T05:31:19.567Z"
   },
   {
    "duration": 31,
    "start_time": "2024-12-28T05:31:19.608Z"
   },
   {
    "duration": 844,
    "start_time": "2024-12-28T05:31:19.642Z"
   },
   {
    "duration": 138,
    "start_time": "2024-12-28T05:31:20.487Z"
   },
   {
    "duration": 47,
    "start_time": "2024-12-28T05:31:20.627Z"
   },
   {
    "duration": 590,
    "start_time": "2024-12-28T05:31:20.676Z"
   },
   {
    "duration": 476,
    "start_time": "2024-12-28T05:31:21.268Z"
   },
   {
    "duration": 37,
    "start_time": "2024-12-28T05:31:21.746Z"
   },
   {
    "duration": 27,
    "start_time": "2024-12-28T05:31:21.784Z"
   },
   {
    "duration": 279,
    "start_time": "2024-12-28T05:31:21.813Z"
   },
   {
    "duration": 706,
    "start_time": "2024-12-28T05:31:22.094Z"
   },
   {
    "duration": 0,
    "start_time": "2024-12-28T05:31:22.802Z"
   },
   {
    "duration": 632,
    "start_time": "2024-12-28T05:31:45.092Z"
   },
   {
    "duration": 557,
    "start_time": "2024-12-28T05:32:15.211Z"
   },
   {
    "duration": 10,
    "start_time": "2024-12-28T05:32:59.595Z"
   },
   {
    "duration": 423,
    "start_time": "2024-12-28T05:33:26.286Z"
   },
   {
    "duration": 264,
    "start_time": "2024-12-28T05:33:28.170Z"
   },
   {
    "duration": 77,
    "start_time": "2024-12-28T05:35:17.326Z"
   },
   {
    "duration": 3,
    "start_time": "2024-12-28T05:36:42.741Z"
   },
   {
    "duration": 126,
    "start_time": "2024-12-28T05:37:04.459Z"
   },
   {
    "duration": 5,
    "start_time": "2024-12-28T05:38:12.483Z"
   },
   {
    "duration": 123,
    "start_time": "2024-12-28T05:38:22.432Z"
   },
   {
    "duration": 113,
    "start_time": "2024-12-28T05:38:52.165Z"
   },
   {
    "duration": 5,
    "start_time": "2024-12-28T05:40:25.503Z"
   },
   {
    "duration": 175,
    "start_time": "2024-12-28T05:40:29.735Z"
   },
   {
    "duration": 181,
    "start_time": "2024-12-28T05:41:42.034Z"
   },
   {
    "duration": 3,
    "start_time": "2024-12-28T05:42:06.779Z"
   },
   {
    "duration": 157,
    "start_time": "2024-12-28T05:42:11.171Z"
   },
   {
    "duration": 4,
    "start_time": "2024-12-28T05:42:28.477Z"
   },
   {
    "duration": 183,
    "start_time": "2024-12-28T05:42:32.892Z"
   },
   {
    "duration": 45,
    "start_time": "2024-12-28T05:44:00.645Z"
   },
   {
    "duration": 18,
    "start_time": "2024-12-28T05:45:25.130Z"
   },
   {
    "duration": 3,
    "start_time": "2024-12-28T05:46:23.483Z"
   },
   {
    "duration": 87,
    "start_time": "2024-12-28T05:46:45.088Z"
   },
   {
    "duration": 12,
    "start_time": "2024-12-28T05:49:20.364Z"
   },
   {
    "duration": 1346,
    "start_time": "2024-12-28T05:49:28.051Z"
   },
   {
    "duration": 4,
    "start_time": "2024-12-28T05:49:29.399Z"
   },
   {
    "duration": 19,
    "start_time": "2024-12-28T05:49:29.404Z"
   },
   {
    "duration": 51,
    "start_time": "2024-12-28T05:49:29.425Z"
   },
   {
    "duration": 37,
    "start_time": "2024-12-28T05:49:29.478Z"
   },
   {
    "duration": 859,
    "start_time": "2024-12-28T05:49:29.516Z"
   },
   {
    "duration": 153,
    "start_time": "2024-12-28T05:49:30.377Z"
   },
   {
    "duration": 4,
    "start_time": "2024-12-28T05:49:30.532Z"
   },
   {
    "duration": 626,
    "start_time": "2024-12-28T05:49:30.538Z"
   },
   {
    "duration": 493,
    "start_time": "2024-12-28T05:49:31.166Z"
   },
   {
    "duration": 37,
    "start_time": "2024-12-28T05:49:31.661Z"
   },
   {
    "duration": 24,
    "start_time": "2024-12-28T05:49:31.700Z"
   },
   {
    "duration": 275,
    "start_time": "2024-12-28T05:49:31.726Z"
   },
   {
    "duration": 416,
    "start_time": "2024-12-28T05:49:32.002Z"
   },
   {
    "duration": 266,
    "start_time": "2024-12-28T05:49:32.422Z"
   },
   {
    "duration": 89,
    "start_time": "2024-12-28T05:49:32.689Z"
   },
   {
    "duration": 111,
    "start_time": "2024-12-28T05:49:32.780Z"
   },
   {
    "duration": 179,
    "start_time": "2024-12-28T05:49:32.893Z"
   },
   {
    "duration": 62,
    "start_time": "2024-12-28T05:49:33.073Z"
   },
   {
    "duration": 16,
    "start_time": "2024-12-28T05:49:33.136Z"
   },
   {
    "duration": 1393,
    "start_time": "2024-12-28T05:50:27.398Z"
   },
   {
    "duration": 3,
    "start_time": "2024-12-28T05:50:28.792Z"
   },
   {
    "duration": 61,
    "start_time": "2024-12-28T05:50:28.797Z"
   },
   {
    "duration": 14,
    "start_time": "2024-12-28T05:50:28.860Z"
   },
   {
    "duration": 12,
    "start_time": "2024-12-28T05:50:28.875Z"
   },
   {
    "duration": 833,
    "start_time": "2024-12-28T05:50:28.889Z"
   },
   {
    "duration": 137,
    "start_time": "2024-12-28T05:50:29.723Z"
   },
   {
    "duration": 4,
    "start_time": "2024-12-28T05:50:29.861Z"
   },
   {
    "duration": 598,
    "start_time": "2024-12-28T05:50:29.867Z"
   },
   {
    "duration": 483,
    "start_time": "2024-12-28T05:50:30.467Z"
   },
   {
    "duration": 35,
    "start_time": "2024-12-28T05:50:30.952Z"
   },
   {
    "duration": 112,
    "start_time": "2024-12-28T05:50:30.988Z"
   },
   {
    "duration": 113,
    "start_time": "2024-12-28T05:50:31.102Z"
   },
   {
    "duration": 257,
    "start_time": "2024-12-28T05:50:31.216Z"
   },
   {
    "duration": 381,
    "start_time": "2024-12-28T05:50:31.474Z"
   },
   {
    "duration": 257,
    "start_time": "2024-12-28T05:50:31.857Z"
   },
   {
    "duration": 80,
    "start_time": "2024-12-28T05:50:32.116Z"
   },
   {
    "duration": 204,
    "start_time": "2024-12-28T05:50:32.198Z"
   },
   {
    "duration": 65,
    "start_time": "2024-12-28T05:50:32.404Z"
   },
   {
    "duration": 17,
    "start_time": "2024-12-28T05:50:32.470Z"
   },
   {
    "duration": 1338,
    "start_time": "2024-12-28T05:53:44.752Z"
   },
   {
    "duration": 5,
    "start_time": "2024-12-28T05:53:46.092Z"
   },
   {
    "duration": 17,
    "start_time": "2024-12-28T05:53:46.098Z"
   },
   {
    "duration": 5,
    "start_time": "2024-12-28T05:53:46.117Z"
   },
   {
    "duration": 14,
    "start_time": "2024-12-28T05:53:46.124Z"
   },
   {
    "duration": 859,
    "start_time": "2024-12-28T05:53:46.140Z"
   },
   {
    "duration": 148,
    "start_time": "2024-12-28T05:53:47.000Z"
   },
   {
    "duration": 3,
    "start_time": "2024-12-28T05:53:47.150Z"
   },
   {
    "duration": 587,
    "start_time": "2024-12-28T05:53:47.155Z"
   },
   {
    "duration": 504,
    "start_time": "2024-12-28T05:53:47.744Z"
   },
   {
    "duration": 36,
    "start_time": "2024-12-28T05:53:48.249Z"
   },
   {
    "duration": 22,
    "start_time": "2024-12-28T05:53:48.287Z"
   },
   {
    "duration": 119,
    "start_time": "2024-12-28T05:53:48.310Z"
   },
   {
    "duration": 238,
    "start_time": "2024-12-28T05:53:48.432Z"
   },
   {
    "duration": 365,
    "start_time": "2024-12-28T05:53:48.672Z"
   },
   {
    "duration": 238,
    "start_time": "2024-12-28T05:53:49.038Z"
   },
   {
    "duration": 84,
    "start_time": "2024-12-28T05:53:49.278Z"
   },
   {
    "duration": 41,
    "start_time": "2024-12-28T05:53:49.363Z"
   },
   {
    "duration": 175,
    "start_time": "2024-12-28T05:53:49.406Z"
   },
   {
    "duration": 60,
    "start_time": "2024-12-28T05:53:49.583Z"
   },
   {
    "duration": 17,
    "start_time": "2024-12-28T05:55:04.213Z"
   },
   {
    "duration": 46,
    "start_time": "2024-12-28T05:56:09.728Z"
   },
   {
    "duration": 81,
    "start_time": "2024-12-28T05:56:17.286Z"
   },
   {
    "duration": 80,
    "start_time": "2024-12-28T05:56:27.094Z"
   },
   {
    "duration": 11,
    "start_time": "2024-12-28T05:57:02.216Z"
   },
   {
    "duration": 19,
    "start_time": "2024-12-28T05:59:28.651Z"
   },
   {
    "duration": 24,
    "start_time": "2024-12-28T06:00:04.322Z"
   },
   {
    "duration": 10,
    "start_time": "2024-12-28T06:00:04.703Z"
   },
   {
    "duration": 84,
    "start_time": "2024-12-28T06:00:10.478Z"
   },
   {
    "duration": 155,
    "start_time": "2024-12-28T06:01:03.503Z"
   },
   {
    "duration": 51,
    "start_time": "2024-12-28T06:02:38.310Z"
   },
   {
    "duration": 148,
    "start_time": "2024-12-28T06:03:14.177Z"
   },
   {
    "duration": 1802,
    "start_time": "2024-12-28T06:06:17.334Z"
   },
   {
    "duration": 3,
    "start_time": "2024-12-28T06:06:19.138Z"
   },
   {
    "duration": 40,
    "start_time": "2024-12-28T06:06:19.143Z"
   },
   {
    "duration": 12,
    "start_time": "2024-12-28T06:06:19.184Z"
   },
   {
    "duration": 43,
    "start_time": "2024-12-28T06:06:19.198Z"
   },
   {
    "duration": 887,
    "start_time": "2024-12-28T06:06:19.242Z"
   },
   {
    "duration": 157,
    "start_time": "2024-12-28T06:06:20.130Z"
   },
   {
    "duration": 4,
    "start_time": "2024-12-28T06:06:20.289Z"
   },
   {
    "duration": 613,
    "start_time": "2024-12-28T06:06:20.294Z"
   },
   {
    "duration": 509,
    "start_time": "2024-12-28T06:06:20.909Z"
   },
   {
    "duration": 38,
    "start_time": "2024-12-28T06:06:21.419Z"
   },
   {
    "duration": 23,
    "start_time": "2024-12-28T06:06:21.458Z"
   },
   {
    "duration": 214,
    "start_time": "2024-12-28T06:06:21.483Z"
   },
   {
    "duration": 263,
    "start_time": "2024-12-28T06:06:21.700Z"
   },
   {
    "duration": 375,
    "start_time": "2024-12-28T06:06:21.965Z"
   },
   {
    "duration": 293,
    "start_time": "2024-12-28T06:06:22.342Z"
   },
   {
    "duration": 91,
    "start_time": "2024-12-28T06:06:22.637Z"
   },
   {
    "duration": 37,
    "start_time": "2024-12-28T06:06:22.730Z"
   },
   {
    "duration": 181,
    "start_time": "2024-12-28T06:06:22.769Z"
   },
   {
    "duration": 45,
    "start_time": "2024-12-28T06:06:22.952Z"
   },
   {
    "duration": 68,
    "start_time": "2024-12-28T06:06:22.999Z"
   },
   {
    "duration": 100,
    "start_time": "2024-12-28T06:06:23.069Z"
   },
   {
    "duration": 27,
    "start_time": "2024-12-28T06:06:23.171Z"
   },
   {
    "duration": 28,
    "start_time": "2024-12-28T06:06:23.200Z"
   },
   {
    "duration": 51,
    "start_time": "2024-12-28T06:06:23.229Z"
   },
   {
    "duration": 92,
    "start_time": "2024-12-28T06:06:23.282Z"
   },
   {
    "duration": 2,
    "start_time": "2024-12-28T06:06:23.376Z"
   },
   {
    "duration": 218,
    "start_time": "2024-12-28T06:06:23.379Z"
   },
   {
    "duration": 5493,
    "start_time": "2024-12-28T06:08:18.105Z"
   },
   {
    "duration": 8,
    "start_time": "2024-12-28T06:12:43.685Z"
   },
   {
    "duration": 10,
    "start_time": "2024-12-28T06:12:49.515Z"
   },
   {
    "duration": 16,
    "start_time": "2024-12-28T06:14:56.384Z"
   },
   {
    "duration": 9,
    "start_time": "2024-12-28T06:15:11.735Z"
   },
   {
    "duration": 15,
    "start_time": "2024-12-28T06:15:13.756Z"
   },
   {
    "duration": 12,
    "start_time": "2024-12-28T06:15:28.845Z"
   },
   {
    "duration": 14,
    "start_time": "2024-12-28T06:15:29.290Z"
   },
   {
    "duration": 11,
    "start_time": "2024-12-28T06:16:51.957Z"
   },
   {
    "duration": 1322,
    "start_time": "2024-12-28T06:16:58.974Z"
   },
   {
    "duration": 3,
    "start_time": "2024-12-28T06:17:00.298Z"
   },
   {
    "duration": 87,
    "start_time": "2024-12-28T06:17:00.303Z"
   },
   {
    "duration": 98,
    "start_time": "2024-12-28T06:17:00.392Z"
   },
   {
    "duration": 47,
    "start_time": "2024-12-28T06:17:00.491Z"
   },
   {
    "duration": 867,
    "start_time": "2024-12-28T06:17:00.540Z"
   },
   {
    "duration": 151,
    "start_time": "2024-12-28T06:17:01.408Z"
   },
   {
    "duration": 4,
    "start_time": "2024-12-28T06:17:01.560Z"
   },
   {
    "duration": 647,
    "start_time": "2024-12-28T06:17:01.565Z"
   },
   {
    "duration": 511,
    "start_time": "2024-12-28T06:17:02.221Z"
   },
   {
    "duration": 33,
    "start_time": "2024-12-28T06:17:02.734Z"
   },
   {
    "duration": 45,
    "start_time": "2024-12-28T06:17:02.768Z"
   },
   {
    "duration": 137,
    "start_time": "2024-12-28T06:17:02.814Z"
   },
   {
    "duration": 252,
    "start_time": "2024-12-28T06:17:02.952Z"
   },
   {
    "duration": 393,
    "start_time": "2024-12-28T06:17:03.206Z"
   },
   {
    "duration": 254,
    "start_time": "2024-12-28T06:17:03.601Z"
   },
   {
    "duration": 85,
    "start_time": "2024-12-28T06:17:03.857Z"
   },
   {
    "duration": 52,
    "start_time": "2024-12-28T06:17:03.943Z"
   },
   {
    "duration": 171,
    "start_time": "2024-12-28T06:17:03.996Z"
   },
   {
    "duration": 60,
    "start_time": "2024-12-28T06:17:04.169Z"
   },
   {
    "duration": 64,
    "start_time": "2024-12-28T06:17:04.230Z"
   },
   {
    "duration": 80,
    "start_time": "2024-12-28T06:17:04.296Z"
   },
   {
    "duration": 13,
    "start_time": "2024-12-28T06:17:04.378Z"
   },
   {
    "duration": 23,
    "start_time": "2024-12-28T06:17:04.392Z"
   },
   {
    "duration": 50,
    "start_time": "2024-12-28T06:17:04.421Z"
   },
   {
    "duration": 93,
    "start_time": "2024-12-28T06:17:04.472Z"
   },
   {
    "duration": 22,
    "start_time": "2024-12-28T06:17:04.567Z"
   },
   {
    "duration": 5610,
    "start_time": "2024-12-28T06:17:04.591Z"
   },
   {
    "duration": 109,
    "start_time": "2024-12-28T06:17:10.202Z"
   },
   {
    "duration": 0,
    "start_time": "2024-12-28T06:17:10.313Z"
   },
   {
    "duration": 1343,
    "start_time": "2024-12-28T06:17:29.568Z"
   },
   {
    "duration": 3,
    "start_time": "2024-12-28T06:17:30.913Z"
   },
   {
    "duration": 68,
    "start_time": "2024-12-28T06:17:30.917Z"
   },
   {
    "duration": 33,
    "start_time": "2024-12-28T06:17:30.987Z"
   },
   {
    "duration": 10,
    "start_time": "2024-12-28T06:17:31.021Z"
   },
   {
    "duration": 872,
    "start_time": "2024-12-28T06:17:31.032Z"
   },
   {
    "duration": 157,
    "start_time": "2024-12-28T06:17:31.906Z"
   },
   {
    "duration": 5,
    "start_time": "2024-12-28T06:17:32.065Z"
   },
   {
    "duration": 670,
    "start_time": "2024-12-28T06:17:32.071Z"
   },
   {
    "duration": 492,
    "start_time": "2024-12-28T06:17:32.744Z"
   },
   {
    "duration": 36,
    "start_time": "2024-12-28T06:17:33.238Z"
   },
   {
    "duration": 42,
    "start_time": "2024-12-28T06:17:33.275Z"
   },
   {
    "duration": 134,
    "start_time": "2024-12-28T06:17:33.319Z"
   },
   {
    "duration": 247,
    "start_time": "2024-12-28T06:17:33.454Z"
   },
   {
    "duration": 384,
    "start_time": "2024-12-28T06:17:33.702Z"
   },
   {
    "duration": 267,
    "start_time": "2024-12-28T06:17:34.087Z"
   },
   {
    "duration": 87,
    "start_time": "2024-12-28T06:17:34.356Z"
   },
   {
    "duration": 44,
    "start_time": "2024-12-28T06:17:34.445Z"
   },
   {
    "duration": 180,
    "start_time": "2024-12-28T06:17:34.490Z"
   },
   {
    "duration": 60,
    "start_time": "2024-12-28T06:17:34.672Z"
   },
   {
    "duration": 46,
    "start_time": "2024-12-28T06:17:34.734Z"
   },
   {
    "duration": 94,
    "start_time": "2024-12-28T06:17:34.781Z"
   },
   {
    "duration": 15,
    "start_time": "2024-12-28T06:17:34.877Z"
   },
   {
    "duration": 30,
    "start_time": "2024-12-28T06:17:34.893Z"
   },
   {
    "duration": 69,
    "start_time": "2024-12-28T06:17:34.924Z"
   },
   {
    "duration": 82,
    "start_time": "2024-12-28T06:17:34.995Z"
   },
   {
    "duration": 36,
    "start_time": "2024-12-28T06:17:35.079Z"
   },
   {
    "duration": 5687,
    "start_time": "2024-12-28T06:17:35.118Z"
   },
   {
    "duration": 29,
    "start_time": "2024-12-28T06:17:40.807Z"
   },
   {
    "duration": 70,
    "start_time": "2024-12-28T06:17:40.838Z"
   },
   {
    "duration": 5536,
    "start_time": "2024-12-28T06:18:02.380Z"
   },
   {
    "duration": 1306,
    "start_time": "2024-12-28T06:19:39.571Z"
   },
   {
    "duration": 3,
    "start_time": "2024-12-28T06:19:40.879Z"
   },
   {
    "duration": 94,
    "start_time": "2024-12-28T06:19:40.884Z"
   },
   {
    "duration": 26,
    "start_time": "2024-12-28T06:19:40.980Z"
   },
   {
    "duration": 7,
    "start_time": "2024-12-28T06:19:41.008Z"
   },
   {
    "duration": 841,
    "start_time": "2024-12-28T06:19:41.016Z"
   },
   {
    "duration": 150,
    "start_time": "2024-12-28T06:19:41.859Z"
   },
   {
    "duration": 10,
    "start_time": "2024-12-28T06:19:42.011Z"
   },
   {
    "duration": 636,
    "start_time": "2024-12-28T06:19:42.023Z"
   },
   {
    "duration": 485,
    "start_time": "2024-12-28T06:19:42.661Z"
   },
   {
    "duration": 34,
    "start_time": "2024-12-28T06:19:43.148Z"
   },
   {
    "duration": 38,
    "start_time": "2024-12-28T06:19:43.184Z"
   },
   {
    "duration": 114,
    "start_time": "2024-12-28T06:19:43.223Z"
   },
   {
    "duration": 248,
    "start_time": "2024-12-28T06:19:43.340Z"
   },
   {
    "duration": 381,
    "start_time": "2024-12-28T06:19:43.590Z"
   },
   {
    "duration": 250,
    "start_time": "2024-12-28T06:19:43.972Z"
   },
   {
    "duration": 81,
    "start_time": "2024-12-28T06:19:44.223Z"
   },
   {
    "duration": 51,
    "start_time": "2024-12-28T06:19:44.305Z"
   },
   {
    "duration": 173,
    "start_time": "2024-12-28T06:19:44.357Z"
   },
   {
    "duration": 42,
    "start_time": "2024-12-28T06:19:44.531Z"
   },
   {
    "duration": 66,
    "start_time": "2024-12-28T06:19:44.575Z"
   },
   {
    "duration": 86,
    "start_time": "2024-12-28T06:19:44.642Z"
   },
   {
    "duration": 5,
    "start_time": "2024-12-28T06:19:44.730Z"
   },
   {
    "duration": 25,
    "start_time": "2024-12-28T06:19:44.737Z"
   },
   {
    "duration": 63,
    "start_time": "2024-12-28T06:19:44.763Z"
   },
   {
    "duration": 94,
    "start_time": "2024-12-28T06:19:44.828Z"
   },
   {
    "duration": 3,
    "start_time": "2024-12-28T06:19:44.923Z"
   },
   {
    "duration": 5563,
    "start_time": "2024-12-28T06:19:44.927Z"
   },
   {
    "duration": 30,
    "start_time": "2024-12-28T06:19:50.492Z"
   },
   {
    "duration": 68,
    "start_time": "2024-12-28T06:19:50.523Z"
   },
   {
    "duration": 5558,
    "start_time": "2024-12-28T06:19:50.593Z"
   },
   {
    "duration": 9,
    "start_time": "2024-12-28T06:21:29.293Z"
   },
   {
    "duration": 7,
    "start_time": "2024-12-28T06:21:38.591Z"
   },
   {
    "duration": 21,
    "start_time": "2024-12-28T06:22:54.692Z"
   },
   {
    "duration": 5381,
    "start_time": "2024-12-28T06:23:56.188Z"
   },
   {
    "duration": 129,
    "start_time": "2024-12-28T06:24:51.613Z"
   },
   {
    "duration": 269,
    "start_time": "2024-12-28T06:26:02.745Z"
   },
   {
    "duration": 74,
    "start_time": "2024-12-28T06:26:55.782Z"
   },
   {
    "duration": 1483,
    "start_time": "2024-12-28T06:54:36.615Z"
   },
   {
    "duration": 3,
    "start_time": "2024-12-28T06:54:38.100Z"
   },
   {
    "duration": 27,
    "start_time": "2024-12-28T06:54:38.104Z"
   },
   {
    "duration": 48,
    "start_time": "2024-12-28T06:54:38.133Z"
   },
   {
    "duration": 16,
    "start_time": "2024-12-28T06:54:38.182Z"
   },
   {
    "duration": 905,
    "start_time": "2024-12-28T06:54:38.200Z"
   },
   {
    "duration": 164,
    "start_time": "2024-12-28T06:54:39.106Z"
   },
   {
    "duration": 4,
    "start_time": "2024-12-28T06:54:39.271Z"
   },
   {
    "duration": 713,
    "start_time": "2024-12-28T06:54:39.277Z"
   },
   {
    "duration": 542,
    "start_time": "2024-12-28T06:54:39.992Z"
   },
   {
    "duration": 35,
    "start_time": "2024-12-28T06:54:40.536Z"
   },
   {
    "duration": 10,
    "start_time": "2024-12-28T06:54:40.572Z"
   },
   {
    "duration": 131,
    "start_time": "2024-12-28T06:54:40.583Z"
   },
   {
    "duration": 275,
    "start_time": "2024-12-28T06:54:40.716Z"
   },
   {
    "duration": 412,
    "start_time": "2024-12-28T06:54:40.993Z"
   },
   {
    "duration": 260,
    "start_time": "2024-12-28T06:54:41.407Z"
   },
   {
    "duration": 93,
    "start_time": "2024-12-28T06:54:41.668Z"
   },
   {
    "duration": 35,
    "start_time": "2024-12-28T06:54:41.763Z"
   },
   {
    "duration": 223,
    "start_time": "2024-12-28T06:54:41.799Z"
   },
   {
    "duration": 51,
    "start_time": "2024-12-28T06:54:42.024Z"
   },
   {
    "duration": 64,
    "start_time": "2024-12-28T06:54:42.077Z"
   },
   {
    "duration": 80,
    "start_time": "2024-12-28T06:54:42.144Z"
   },
   {
    "duration": 15,
    "start_time": "2024-12-28T06:54:42.225Z"
   },
   {
    "duration": 36,
    "start_time": "2024-12-28T06:54:42.241Z"
   },
   {
    "duration": 59,
    "start_time": "2024-12-28T06:54:42.278Z"
   },
   {
    "duration": 111,
    "start_time": "2024-12-28T06:54:42.339Z"
   },
   {
    "duration": 3,
    "start_time": "2024-12-28T06:54:42.452Z"
   },
   {
    "duration": 5916,
    "start_time": "2024-12-28T06:54:42.457Z"
   },
   {
    "duration": 22,
    "start_time": "2024-12-28T06:54:48.374Z"
   },
   {
    "duration": 90,
    "start_time": "2024-12-28T06:54:48.397Z"
   },
   {
    "duration": 8,
    "start_time": "2024-12-28T06:54:48.489Z"
   },
   {
    "duration": 55,
    "start_time": "2024-12-28T06:54:48.498Z"
   },
   {
    "duration": 153,
    "start_time": "2024-12-28T06:54:48.555Z"
   },
   {
    "duration": 281,
    "start_time": "2024-12-28T06:54:48.711Z"
   },
   {
    "duration": 80,
    "start_time": "2024-12-28T06:54:48.993Z"
   },
   {
    "duration": 72,
    "start_time": "2024-12-28T07:03:54.297Z"
   },
   {
    "duration": 68,
    "start_time": "2024-12-28T07:04:00.326Z"
   },
   {
    "duration": 75,
    "start_time": "2024-12-28T07:04:06.663Z"
   },
   {
    "duration": 73,
    "start_time": "2024-12-28T07:04:11.764Z"
   },
   {
    "duration": 64,
    "start_time": "2024-12-28T07:04:15.102Z"
   },
   {
    "duration": 72,
    "start_time": "2024-12-28T07:04:52.875Z"
   },
   {
    "duration": 108,
    "start_time": "2024-12-28T07:22:20.989Z"
   },
   {
    "duration": 15,
    "start_time": "2024-12-28T07:23:06.966Z"
   },
   {
    "duration": 3,
    "start_time": "2024-12-28T07:23:14.331Z"
   },
   {
    "duration": 12,
    "start_time": "2024-12-28T07:23:18.576Z"
   },
   {
    "duration": 14978,
    "start_time": "2024-12-28T07:23:49.839Z"
   },
   {
    "duration": 1587,
    "start_time": "2024-12-28T07:24:04.820Z"
   },
   {
    "duration": 4,
    "start_time": "2024-12-28T07:24:06.409Z"
   },
   {
    "duration": 58,
    "start_time": "2024-12-28T07:24:06.415Z"
   },
   {
    "duration": 48,
    "start_time": "2024-12-28T07:24:06.474Z"
   },
   {
    "duration": 31,
    "start_time": "2024-12-28T07:24:06.524Z"
   },
   {
    "duration": 925,
    "start_time": "2024-12-28T07:24:06.556Z"
   },
   {
    "duration": 151,
    "start_time": "2024-12-28T07:24:07.482Z"
   },
   {
    "duration": 4,
    "start_time": "2024-12-28T07:24:07.635Z"
   },
   {
    "duration": 663,
    "start_time": "2024-12-28T07:24:07.641Z"
   },
   {
    "duration": 545,
    "start_time": "2024-12-28T07:24:08.307Z"
   },
   {
    "duration": 37,
    "start_time": "2024-12-28T07:24:08.854Z"
   },
   {
    "duration": 15,
    "start_time": "2024-12-28T07:24:08.893Z"
   },
   {
    "duration": 132,
    "start_time": "2024-12-28T07:24:08.910Z"
   },
   {
    "duration": 265,
    "start_time": "2024-12-28T07:24:09.044Z"
   },
   {
    "duration": 385,
    "start_time": "2024-12-28T07:24:09.311Z"
   },
   {
    "duration": 256,
    "start_time": "2024-12-28T07:24:09.697Z"
   },
   {
    "duration": 84,
    "start_time": "2024-12-28T07:24:09.955Z"
   },
   {
    "duration": 45,
    "start_time": "2024-12-28T07:24:10.041Z"
   },
   {
    "duration": 180,
    "start_time": "2024-12-28T07:24:10.087Z"
   },
   {
    "duration": 61,
    "start_time": "2024-12-28T07:24:10.268Z"
   },
   {
    "duration": 56,
    "start_time": "2024-12-28T07:24:10.330Z"
   },
   {
    "duration": 99,
    "start_time": "2024-12-28T07:24:10.388Z"
   },
   {
    "duration": 26,
    "start_time": "2024-12-28T07:24:10.488Z"
   },
   {
    "duration": 45,
    "start_time": "2024-12-28T07:24:10.515Z"
   },
   {
    "duration": 49,
    "start_time": "2024-12-28T07:24:10.561Z"
   },
   {
    "duration": 86,
    "start_time": "2024-12-28T07:24:10.611Z"
   },
   {
    "duration": 10,
    "start_time": "2024-12-28T07:24:10.700Z"
   },
   {
    "duration": 6100,
    "start_time": "2024-12-28T07:24:10.712Z"
   },
   {
    "duration": 20,
    "start_time": "2024-12-28T07:24:16.821Z"
   },
   {
    "duration": 70,
    "start_time": "2024-12-28T07:24:16.843Z"
   },
   {
    "duration": 12,
    "start_time": "2024-12-28T07:24:16.915Z"
   },
   {
    "duration": 21,
    "start_time": "2024-12-28T07:24:16.929Z"
   },
   {
    "duration": 149,
    "start_time": "2024-12-28T07:24:16.951Z"
   },
   {
    "duration": 284,
    "start_time": "2024-12-28T07:24:17.101Z"
   },
   {
    "duration": 78,
    "start_time": "2024-12-28T07:24:17.387Z"
   },
   {
    "duration": 133,
    "start_time": "2024-12-28T07:24:17.467Z"
   },
   {
    "duration": 0,
    "start_time": "2024-12-28T07:24:17.602Z"
   },
   {
    "duration": 4,
    "start_time": "2024-12-28T07:26:59.490Z"
   },
   {
    "duration": 5216,
    "start_time": "2024-12-28T07:27:03.183Z"
   },
   {
    "duration": 1620,
    "start_time": "2024-12-28T07:27:08.402Z"
   },
   {
    "duration": 4,
    "start_time": "2024-12-28T07:27:10.025Z"
   },
   {
    "duration": 29,
    "start_time": "2024-12-28T07:27:10.031Z"
   },
   {
    "duration": 36,
    "start_time": "2024-12-28T07:27:10.062Z"
   },
   {
    "duration": 33,
    "start_time": "2024-12-28T07:27:10.099Z"
   },
   {
    "duration": 884,
    "start_time": "2024-12-28T07:27:10.133Z"
   },
   {
    "duration": 139,
    "start_time": "2024-12-28T07:27:11.022Z"
   },
   {
    "duration": 38,
    "start_time": "2024-12-28T07:27:11.163Z"
   },
   {
    "duration": 608,
    "start_time": "2024-12-28T07:27:11.202Z"
   },
   {
    "duration": 496,
    "start_time": "2024-12-28T07:27:11.812Z"
   },
   {
    "duration": 39,
    "start_time": "2024-12-28T07:27:12.309Z"
   },
   {
    "duration": 27,
    "start_time": "2024-12-28T07:27:12.349Z"
   },
   {
    "duration": 147,
    "start_time": "2024-12-28T07:27:12.379Z"
   },
   {
    "duration": 258,
    "start_time": "2024-12-28T07:27:12.528Z"
   },
   {
    "duration": 385,
    "start_time": "2024-12-28T07:27:12.787Z"
   },
   {
    "duration": 261,
    "start_time": "2024-12-28T07:27:13.174Z"
   },
   {
    "duration": 91,
    "start_time": "2024-12-28T07:27:13.436Z"
   },
   {
    "duration": 38,
    "start_time": "2024-12-28T07:27:13.529Z"
   },
   {
    "duration": 186,
    "start_time": "2024-12-28T07:27:13.568Z"
   },
   {
    "duration": 44,
    "start_time": "2024-12-28T07:27:13.755Z"
   },
   {
    "duration": 137,
    "start_time": "2024-12-28T07:27:13.801Z"
   },
   {
    "duration": 86,
    "start_time": "2024-12-28T07:27:13.940Z"
   },
   {
    "duration": 6,
    "start_time": "2024-12-28T07:27:14.028Z"
   },
   {
    "duration": 25,
    "start_time": "2024-12-28T07:27:14.035Z"
   },
   {
    "duration": 66,
    "start_time": "2024-12-28T07:27:14.061Z"
   },
   {
    "duration": 93,
    "start_time": "2024-12-28T07:27:14.129Z"
   },
   {
    "duration": 3,
    "start_time": "2024-12-28T07:27:14.224Z"
   },
   {
    "duration": 6091,
    "start_time": "2024-12-28T07:27:14.228Z"
   },
   {
    "duration": 21,
    "start_time": "2024-12-28T07:27:20.323Z"
   },
   {
    "duration": 87,
    "start_time": "2024-12-28T07:27:20.346Z"
   },
   {
    "duration": 8,
    "start_time": "2024-12-28T07:27:20.435Z"
   },
   {
    "duration": 29,
    "start_time": "2024-12-28T07:27:20.444Z"
   },
   {
    "duration": 136,
    "start_time": "2024-12-28T07:27:20.475Z"
   },
   {
    "duration": 286,
    "start_time": "2024-12-28T07:27:20.613Z"
   },
   {
    "duration": 77,
    "start_time": "2024-12-28T07:27:20.900Z"
   },
   {
    "duration": 159,
    "start_time": "2024-12-28T07:27:20.979Z"
   },
   {
    "duration": 105,
    "start_time": "2024-12-28T07:27:21.139Z"
   },
   {
    "duration": 3,
    "start_time": "2024-12-28T07:32:34.951Z"
   },
   {
    "duration": 68,
    "start_time": "2024-12-28T07:32:35.366Z"
   },
   {
    "duration": 4,
    "start_time": "2024-12-28T07:32:35.617Z"
   },
   {
    "duration": 4,
    "start_time": "2024-12-28T07:43:17.923Z"
   },
   {
    "duration": 14,
    "start_time": "2024-12-28T07:43:18.209Z"
   },
   {
    "duration": 6,
    "start_time": "2024-12-28T07:44:30.797Z"
   },
   {
    "duration": 4,
    "start_time": "2024-12-28T07:47:01.762Z"
   },
   {
    "duration": 5,
    "start_time": "2024-12-28T07:47:06.521Z"
   },
   {
    "duration": 3,
    "start_time": "2024-12-28T07:47:06.827Z"
   },
   {
    "duration": 9,
    "start_time": "2024-12-28T07:47:07.220Z"
   },
   {
    "duration": 5244,
    "start_time": "2024-12-28T07:48:26.174Z"
   },
   {
    "duration": 2841,
    "start_time": "2024-12-28T07:48:31.422Z"
   },
   {
    "duration": 4,
    "start_time": "2024-12-28T07:48:34.264Z"
   },
   {
    "duration": 23,
    "start_time": "2024-12-28T07:48:34.271Z"
   },
   {
    "duration": 71,
    "start_time": "2024-12-28T07:48:34.296Z"
   },
   {
    "duration": 23,
    "start_time": "2024-12-28T07:48:34.369Z"
   },
   {
    "duration": 3029,
    "start_time": "2024-12-28T07:48:34.393Z"
   },
   {
    "duration": 154,
    "start_time": "2024-12-28T07:48:37.423Z"
   },
   {
    "duration": 4,
    "start_time": "2024-12-28T07:48:37.578Z"
   },
   {
    "duration": 601,
    "start_time": "2024-12-28T07:48:37.585Z"
   },
   {
    "duration": 516,
    "start_time": "2024-12-28T07:48:38.188Z"
   },
   {
    "duration": 44,
    "start_time": "2024-12-28T07:48:38.705Z"
   },
   {
    "duration": 16,
    "start_time": "2024-12-28T07:48:38.751Z"
   },
   {
    "duration": 135,
    "start_time": "2024-12-28T07:48:38.768Z"
   },
   {
    "duration": 258,
    "start_time": "2024-12-28T07:48:38.905Z"
   },
   {
    "duration": 394,
    "start_time": "2024-12-28T07:48:39.165Z"
   },
   {
    "duration": 254,
    "start_time": "2024-12-28T07:48:39.561Z"
   },
   {
    "duration": 79,
    "start_time": "2024-12-28T07:48:39.821Z"
   },
   {
    "duration": 104,
    "start_time": "2024-12-28T07:48:39.902Z"
   },
   {
    "duration": 175,
    "start_time": "2024-12-28T07:48:40.007Z"
   },
   {
    "duration": 67,
    "start_time": "2024-12-28T07:48:40.184Z"
   },
   {
    "duration": 45,
    "start_time": "2024-12-28T07:48:40.253Z"
   },
   {
    "duration": 91,
    "start_time": "2024-12-28T07:48:40.300Z"
   },
   {
    "duration": 38,
    "start_time": "2024-12-28T07:48:40.393Z"
   },
   {
    "duration": 34,
    "start_time": "2024-12-28T07:48:40.432Z"
   },
   {
    "duration": 71,
    "start_time": "2024-12-28T07:48:40.467Z"
   },
   {
    "duration": 93,
    "start_time": "2024-12-28T07:48:40.540Z"
   },
   {
    "duration": 3,
    "start_time": "2024-12-28T07:48:40.637Z"
   },
   {
    "duration": 5871,
    "start_time": "2024-12-28T07:48:40.642Z"
   },
   {
    "duration": 26,
    "start_time": "2024-12-28T07:48:46.515Z"
   },
   {
    "duration": 98,
    "start_time": "2024-12-28T07:48:46.543Z"
   },
   {
    "duration": 15,
    "start_time": "2024-12-28T07:48:46.642Z"
   },
   {
    "duration": 43,
    "start_time": "2024-12-28T07:48:46.658Z"
   },
   {
    "duration": 134,
    "start_time": "2024-12-28T07:48:46.702Z"
   },
   {
    "duration": 284,
    "start_time": "2024-12-28T07:48:46.838Z"
   },
   {
    "duration": 75,
    "start_time": "2024-12-28T07:48:47.124Z"
   },
   {
    "duration": 75,
    "start_time": "2024-12-28T07:48:47.200Z"
   },
   {
    "duration": 180,
    "start_time": "2024-12-28T07:48:47.276Z"
   },
   {
    "duration": 4,
    "start_time": "2024-12-28T07:48:47.458Z"
   },
   {
    "duration": 93,
    "start_time": "2024-12-28T07:48:47.463Z"
   },
   {
    "duration": 52,
    "start_time": "2024-12-28T07:48:47.557Z"
   },
   {
    "duration": 52,
    "start_time": "2024-12-28T07:49:37.016Z"
   },
   {
    "duration": 5152,
    "start_time": "2024-12-28T12:02:45.110Z"
   },
   {
    "duration": 2616,
    "start_time": "2024-12-28T12:02:50.264Z"
   },
   {
    "duration": 5,
    "start_time": "2024-12-28T12:02:52.882Z"
   },
   {
    "duration": 29,
    "start_time": "2024-12-28T12:02:52.889Z"
   },
   {
    "duration": 6,
    "start_time": "2024-12-28T12:02:52.920Z"
   },
   {
    "duration": 11,
    "start_time": "2024-12-28T12:02:52.928Z"
   },
   {
    "duration": 3129,
    "start_time": "2024-12-28T12:02:52.941Z"
   },
   {
    "duration": 132,
    "start_time": "2024-12-28T12:02:56.071Z"
   },
   {
    "duration": 4,
    "start_time": "2024-12-28T12:02:56.205Z"
   },
   {
    "duration": 566,
    "start_time": "2024-12-28T12:02:56.221Z"
   },
   {
    "duration": 471,
    "start_time": "2024-12-28T12:02:56.788Z"
   },
   {
    "duration": 33,
    "start_time": "2024-12-28T12:02:57.260Z"
   },
   {
    "duration": 13,
    "start_time": "2024-12-28T12:02:57.295Z"
   },
   {
    "duration": 120,
    "start_time": "2024-12-28T12:02:57.321Z"
   },
   {
    "duration": 254,
    "start_time": "2024-12-28T12:02:57.442Z"
   },
   {
    "duration": 407,
    "start_time": "2024-12-28T12:02:57.697Z"
   },
   {
    "duration": 288,
    "start_time": "2024-12-28T12:02:58.105Z"
   },
   {
    "duration": 109,
    "start_time": "2024-12-28T12:02:58.400Z"
   },
   {
    "duration": 102,
    "start_time": "2024-12-28T12:02:58.511Z"
   },
   {
    "duration": 180,
    "start_time": "2024-12-28T12:02:58.615Z"
   },
   {
    "duration": 56,
    "start_time": "2024-12-28T12:02:58.797Z"
   },
   {
    "duration": 100,
    "start_time": "2024-12-28T12:02:58.855Z"
   },
   {
    "duration": 84,
    "start_time": "2024-12-28T12:02:58.956Z"
   },
   {
    "duration": 14,
    "start_time": "2024-12-28T12:02:59.041Z"
   },
   {
    "duration": 38,
    "start_time": "2024-12-28T12:02:59.057Z"
   },
   {
    "duration": 48,
    "start_time": "2024-12-28T12:02:59.097Z"
   },
   {
    "duration": 91,
    "start_time": "2024-12-28T12:02:59.146Z"
   },
   {
    "duration": 25,
    "start_time": "2024-12-28T12:02:59.240Z"
   },
   {
    "duration": 5943,
    "start_time": "2024-12-28T12:02:59.266Z"
   },
   {
    "duration": 25,
    "start_time": "2024-12-28T12:03:05.211Z"
   },
   {
    "duration": 75,
    "start_time": "2024-12-28T12:03:05.237Z"
   },
   {
    "duration": 12,
    "start_time": "2024-12-28T12:03:05.314Z"
   },
   {
    "duration": 21,
    "start_time": "2024-12-28T12:03:05.327Z"
   },
   {
    "duration": 146,
    "start_time": "2024-12-28T12:03:05.350Z"
   },
   {
    "duration": 274,
    "start_time": "2024-12-28T12:03:05.498Z"
   },
   {
    "duration": 81,
    "start_time": "2024-12-28T12:03:05.774Z"
   },
   {
    "duration": 53,
    "start_time": "2024-12-28T12:03:05.856Z"
   },
   {
    "duration": 165,
    "start_time": "2024-12-28T12:03:05.910Z"
   },
   {
    "duration": 4,
    "start_time": "2024-12-28T12:03:06.076Z"
   },
   {
    "duration": 55,
    "start_time": "2024-12-28T12:03:06.081Z"
   },
   {
    "duration": 37,
    "start_time": "2024-12-28T12:03:06.137Z"
   },
   {
    "duration": 5371,
    "start_time": "2024-12-28T12:12:20.160Z"
   },
   {
    "duration": 2555,
    "start_time": "2024-12-28T12:12:25.534Z"
   },
   {
    "duration": 4,
    "start_time": "2024-12-28T12:12:28.091Z"
   },
   {
    "duration": 46,
    "start_time": "2024-12-28T12:12:28.097Z"
   },
   {
    "duration": 9,
    "start_time": "2024-12-28T12:12:28.145Z"
   },
   {
    "duration": 12,
    "start_time": "2024-12-28T12:12:28.156Z"
   },
   {
    "duration": 3175,
    "start_time": "2024-12-28T12:12:28.169Z"
   },
   {
    "duration": 136,
    "start_time": "2024-12-28T12:12:31.346Z"
   },
   {
    "duration": 22,
    "start_time": "2024-12-28T12:12:31.484Z"
   },
   {
    "duration": 626,
    "start_time": "2024-12-28T12:12:31.509Z"
   },
   {
    "duration": 526,
    "start_time": "2024-12-28T12:12:32.137Z"
   },
   {
    "duration": 37,
    "start_time": "2024-12-28T12:12:32.665Z"
   },
   {
    "duration": 23,
    "start_time": "2024-12-28T12:12:32.704Z"
   },
   {
    "duration": 136,
    "start_time": "2024-12-28T12:12:32.729Z"
   },
   {
    "duration": 268,
    "start_time": "2024-12-28T12:12:32.867Z"
   },
   {
    "duration": 409,
    "start_time": "2024-12-28T12:12:33.137Z"
   },
   {
    "duration": 281,
    "start_time": "2024-12-28T12:12:33.548Z"
   },
   {
    "duration": 100,
    "start_time": "2024-12-28T12:12:33.831Z"
   },
   {
    "duration": 56,
    "start_time": "2024-12-28T12:12:33.934Z"
   },
   {
    "duration": 184,
    "start_time": "2024-12-28T12:12:33.991Z"
   },
   {
    "duration": 83,
    "start_time": "2024-12-28T12:12:34.177Z"
   },
   {
    "duration": 48,
    "start_time": "2024-12-28T12:12:34.262Z"
   },
   {
    "duration": 130,
    "start_time": "2024-12-28T12:12:34.311Z"
   },
   {
    "duration": 55,
    "start_time": "2024-12-28T12:12:34.443Z"
   },
   {
    "duration": 33,
    "start_time": "2024-12-28T12:12:34.499Z"
   },
   {
    "duration": 161,
    "start_time": "2024-12-28T12:12:34.534Z"
   },
   {
    "duration": 116,
    "start_time": "2024-12-28T12:12:34.696Z"
   },
   {
    "duration": 52,
    "start_time": "2024-12-28T12:12:34.815Z"
   },
   {
    "duration": 5935,
    "start_time": "2024-12-28T12:12:34.869Z"
   },
   {
    "duration": 30,
    "start_time": "2024-12-28T12:12:40.806Z"
   },
   {
    "duration": 83,
    "start_time": "2024-12-28T12:12:40.838Z"
   },
   {
    "duration": 10,
    "start_time": "2024-12-28T12:12:40.923Z"
   },
   {
    "duration": 54,
    "start_time": "2024-12-28T12:12:40.934Z"
   },
   {
    "duration": 133,
    "start_time": "2024-12-28T12:12:40.989Z"
   },
   {
    "duration": 279,
    "start_time": "2024-12-28T12:12:41.124Z"
   },
   {
    "duration": 83,
    "start_time": "2024-12-28T12:12:41.405Z"
   },
   {
    "duration": 3,
    "start_time": "2024-12-28T12:12:41.489Z"
   },
   {
    "duration": 148,
    "start_time": "2024-12-28T12:12:41.494Z"
   },
   {
    "duration": 5,
    "start_time": "2024-12-28T12:12:41.643Z"
   },
   {
    "duration": 22,
    "start_time": "2024-12-28T12:12:41.650Z"
   },
   {
    "duration": 19,
    "start_time": "2024-12-28T12:12:41.673Z"
   },
   {
    "duration": 5360,
    "start_time": "2024-12-28T14:14:51.945Z"
   },
   {
    "duration": 2486,
    "start_time": "2024-12-28T14:14:57.308Z"
   },
   {
    "duration": 3,
    "start_time": "2024-12-28T14:14:59.795Z"
   },
   {
    "duration": 30,
    "start_time": "2024-12-28T14:14:59.800Z"
   },
   {
    "duration": 22,
    "start_time": "2024-12-28T14:14:59.833Z"
   },
   {
    "duration": 33,
    "start_time": "2024-12-28T14:14:59.856Z"
   },
   {
    "duration": 3225,
    "start_time": "2024-12-28T14:14:59.890Z"
   },
   {
    "duration": 136,
    "start_time": "2024-12-28T14:15:03.117Z"
   },
   {
    "duration": 26,
    "start_time": "2024-12-28T14:15:03.255Z"
   },
   {
    "duration": 627,
    "start_time": "2024-12-28T14:15:03.282Z"
   },
   {
    "duration": 507,
    "start_time": "2024-12-28T14:15:03.911Z"
   },
   {
    "duration": 36,
    "start_time": "2024-12-28T14:15:04.422Z"
   },
   {
    "duration": 71,
    "start_time": "2024-12-28T14:15:04.459Z"
   },
   {
    "duration": 132,
    "start_time": "2024-12-28T14:15:04.534Z"
   },
   {
    "duration": 249,
    "start_time": "2024-12-28T14:15:04.668Z"
   },
   {
    "duration": 400,
    "start_time": "2024-12-28T14:15:04.923Z"
   },
   {
    "duration": 284,
    "start_time": "2024-12-28T14:15:05.326Z"
   },
   {
    "duration": 97,
    "start_time": "2024-12-28T14:15:05.611Z"
   },
   {
    "duration": 64,
    "start_time": "2024-12-28T14:15:05.709Z"
   },
   {
    "duration": 187,
    "start_time": "2024-12-28T14:15:05.775Z"
   },
   {
    "duration": 62,
    "start_time": "2024-12-28T14:15:05.963Z"
   },
   {
    "duration": 58,
    "start_time": "2024-12-28T14:15:06.026Z"
   },
   {
    "duration": 108,
    "start_time": "2024-12-28T14:15:06.086Z"
   },
   {
    "duration": 6,
    "start_time": "2024-12-28T14:15:06.196Z"
   },
   {
    "duration": 64,
    "start_time": "2024-12-28T14:15:06.203Z"
   },
   {
    "duration": 48,
    "start_time": "2024-12-28T14:15:06.268Z"
   },
   {
    "duration": 149,
    "start_time": "2024-12-28T14:15:06.317Z"
   },
   {
    "duration": 21,
    "start_time": "2024-12-28T14:15:06.467Z"
   },
   {
    "duration": 6537,
    "start_time": "2024-12-28T14:15:06.489Z"
   },
   {
    "duration": 21,
    "start_time": "2024-12-28T14:15:13.028Z"
   },
   {
    "duration": 77,
    "start_time": "2024-12-28T14:15:13.051Z"
   },
   {
    "duration": 10,
    "start_time": "2024-12-28T14:15:13.130Z"
   },
   {
    "duration": 24,
    "start_time": "2024-12-28T14:15:13.142Z"
   },
   {
    "duration": 155,
    "start_time": "2024-12-28T14:15:13.168Z"
   },
   {
    "duration": 319,
    "start_time": "2024-12-28T14:15:13.325Z"
   },
   {
    "duration": 85,
    "start_time": "2024-12-28T14:15:13.646Z"
   },
   {
    "duration": 4,
    "start_time": "2024-12-28T14:15:13.734Z"
   },
   {
    "duration": 153,
    "start_time": "2024-12-28T14:15:13.740Z"
   },
   {
    "duration": 4,
    "start_time": "2024-12-28T14:15:13.894Z"
   },
   {
    "duration": 27,
    "start_time": "2024-12-28T14:15:13.899Z"
   },
   {
    "duration": 5,
    "start_time": "2024-12-28T14:15:13.931Z"
   },
   {
    "duration": 46,
    "start_time": "2024-12-28T14:25:57.526Z"
   },
   {
    "duration": 5176,
    "start_time": "2024-12-28T14:26:18.694Z"
   },
   {
    "duration": 2500,
    "start_time": "2024-12-28T14:26:23.873Z"
   },
   {
    "duration": 4,
    "start_time": "2024-12-28T14:26:26.375Z"
   },
   {
    "duration": 29,
    "start_time": "2024-12-28T14:26:26.380Z"
   },
   {
    "duration": 11,
    "start_time": "2024-12-28T14:26:26.412Z"
   },
   {
    "duration": 8,
    "start_time": "2024-12-28T14:26:26.425Z"
   },
   {
    "duration": 3004,
    "start_time": "2024-12-28T14:26:26.434Z"
   },
   {
    "duration": 134,
    "start_time": "2024-12-28T14:26:29.440Z"
   },
   {
    "duration": 5,
    "start_time": "2024-12-28T14:26:29.576Z"
   },
   {
    "duration": 618,
    "start_time": "2024-12-28T14:26:29.583Z"
   },
   {
    "duration": 500,
    "start_time": "2024-12-28T14:26:30.203Z"
   },
   {
    "duration": 37,
    "start_time": "2024-12-28T14:26:30.704Z"
   },
   {
    "duration": 34,
    "start_time": "2024-12-28T14:26:30.743Z"
   },
   {
    "duration": 132,
    "start_time": "2024-12-28T14:26:30.780Z"
   },
   {
    "duration": 253,
    "start_time": "2024-12-28T14:26:30.913Z"
   },
   {
    "duration": 392,
    "start_time": "2024-12-28T14:26:31.167Z"
   },
   {
    "duration": 241,
    "start_time": "2024-12-28T14:26:31.561Z"
   },
   {
    "duration": 88,
    "start_time": "2024-12-28T14:26:31.803Z"
   },
   {
    "duration": 51,
    "start_time": "2024-12-28T14:26:31.892Z"
   },
   {
    "duration": 185,
    "start_time": "2024-12-28T14:26:31.945Z"
   },
   {
    "duration": 46,
    "start_time": "2024-12-28T14:26:32.131Z"
   },
   {
    "duration": 76,
    "start_time": "2024-12-28T14:26:32.179Z"
   },
   {
    "duration": 126,
    "start_time": "2024-12-28T14:26:32.257Z"
   },
   {
    "duration": 50,
    "start_time": "2024-12-28T14:26:32.391Z"
   },
   {
    "duration": 55,
    "start_time": "2024-12-28T14:26:32.443Z"
   },
   {
    "duration": 52,
    "start_time": "2024-12-28T14:26:32.500Z"
   },
   {
    "duration": 89,
    "start_time": "2024-12-28T14:26:32.554Z"
   },
   {
    "duration": 13,
    "start_time": "2024-12-28T14:26:32.645Z"
   },
   {
    "duration": 6262,
    "start_time": "2024-12-28T14:26:32.662Z"
   },
   {
    "duration": 26,
    "start_time": "2024-12-28T14:26:38.926Z"
   },
   {
    "duration": 85,
    "start_time": "2024-12-28T14:26:38.954Z"
   },
   {
    "duration": 14,
    "start_time": "2024-12-28T14:26:39.041Z"
   },
   {
    "duration": 78,
    "start_time": "2024-12-28T14:26:39.057Z"
   },
   {
    "duration": 164,
    "start_time": "2024-12-28T14:26:39.137Z"
   },
   {
    "duration": 292,
    "start_time": "2024-12-28T14:26:39.303Z"
   },
   {
    "duration": 83,
    "start_time": "2024-12-28T14:26:39.596Z"
   },
   {
    "duration": 6,
    "start_time": "2024-12-28T14:26:39.681Z"
   },
   {
    "duration": 156,
    "start_time": "2024-12-28T14:26:39.688Z"
   },
   {
    "duration": 7,
    "start_time": "2024-12-28T14:26:39.846Z"
   },
   {
    "duration": 18,
    "start_time": "2024-12-28T14:26:39.855Z"
   },
   {
    "duration": 37,
    "start_time": "2024-12-28T14:26:39.879Z"
   },
   {
    "duration": 5229,
    "start_time": "2024-12-28T14:26:39.918Z"
   },
   {
    "duration": 64,
    "start_time": "2024-12-28T14:27:03.380Z"
   },
   {
    "duration": 5,
    "start_time": "2024-12-28T14:27:19.710Z"
   },
   {
    "duration": 5345,
    "start_time": "2024-12-28T14:28:08.250Z"
   },
   {
    "duration": 5,
    "start_time": "2024-12-28T14:28:15.629Z"
   },
   {
    "duration": 35,
    "start_time": "2024-12-28T14:28:24.994Z"
   },
   {
    "duration": 5557,
    "start_time": "2024-12-28T14:34:24.734Z"
   },
   {
    "duration": 1640,
    "start_time": "2024-12-28T14:34:30.293Z"
   },
   {
    "duration": 4,
    "start_time": "2024-12-28T14:34:31.934Z"
   },
   {
    "duration": 10,
    "start_time": "2024-12-28T14:34:31.940Z"
   },
   {
    "duration": 27,
    "start_time": "2024-12-28T14:34:31.952Z"
   },
   {
    "duration": 12,
    "start_time": "2024-12-28T14:34:31.981Z"
   },
   {
    "duration": 880,
    "start_time": "2024-12-28T14:34:31.994Z"
   },
   {
    "duration": 151,
    "start_time": "2024-12-28T14:34:32.875Z"
   },
   {
    "duration": 6,
    "start_time": "2024-12-28T14:34:33.028Z"
   },
   {
    "duration": 603,
    "start_time": "2024-12-28T14:34:33.039Z"
   },
   {
    "duration": 486,
    "start_time": "2024-12-28T14:34:33.644Z"
   },
   {
    "duration": 33,
    "start_time": "2024-12-28T14:34:34.132Z"
   },
   {
    "duration": 30,
    "start_time": "2024-12-28T14:34:34.167Z"
   },
   {
    "duration": 129,
    "start_time": "2024-12-28T14:34:34.199Z"
   },
   {
    "duration": 283,
    "start_time": "2024-12-28T14:34:34.330Z"
   },
   {
    "duration": 420,
    "start_time": "2024-12-28T14:34:34.615Z"
   },
   {
    "duration": 279,
    "start_time": "2024-12-28T14:34:35.037Z"
   },
   {
    "duration": 81,
    "start_time": "2024-12-28T14:34:35.322Z"
   },
   {
    "duration": 122,
    "start_time": "2024-12-28T14:34:35.404Z"
   },
   {
    "duration": 239,
    "start_time": "2024-12-28T14:34:35.528Z"
   },
   {
    "duration": 59,
    "start_time": "2024-12-28T14:34:35.769Z"
   },
   {
    "duration": 51,
    "start_time": "2024-12-28T14:34:35.830Z"
   },
   {
    "duration": 96,
    "start_time": "2024-12-28T14:34:35.883Z"
   },
   {
    "duration": 38,
    "start_time": "2024-12-28T14:34:35.980Z"
   },
   {
    "duration": 58,
    "start_time": "2024-12-28T14:34:36.019Z"
   },
   {
    "duration": 63,
    "start_time": "2024-12-28T14:34:36.079Z"
   },
   {
    "duration": 92,
    "start_time": "2024-12-28T14:34:36.143Z"
   },
   {
    "duration": 47,
    "start_time": "2024-12-28T14:34:36.239Z"
   },
   {
    "duration": 6397,
    "start_time": "2024-12-28T14:34:36.287Z"
   },
   {
    "duration": 39,
    "start_time": "2024-12-28T14:34:42.686Z"
   },
   {
    "duration": 77,
    "start_time": "2024-12-28T14:34:42.727Z"
   },
   {
    "duration": 21,
    "start_time": "2024-12-28T14:34:42.806Z"
   },
   {
    "duration": 24,
    "start_time": "2024-12-28T14:34:42.828Z"
   },
   {
    "duration": 152,
    "start_time": "2024-12-28T14:34:42.854Z"
   },
   {
    "duration": 303,
    "start_time": "2024-12-28T14:34:43.007Z"
   },
   {
    "duration": 90,
    "start_time": "2024-12-28T14:34:43.312Z"
   },
   {
    "duration": 3,
    "start_time": "2024-12-28T14:34:43.404Z"
   },
   {
    "duration": 153,
    "start_time": "2024-12-28T14:34:43.409Z"
   },
   {
    "duration": 4,
    "start_time": "2024-12-28T14:34:43.563Z"
   },
   {
    "duration": 20,
    "start_time": "2024-12-28T14:34:43.569Z"
   },
   {
    "duration": 24867,
    "start_time": "2024-12-28T14:34:43.591Z"
   },
   {
    "duration": 3,
    "start_time": "2024-12-28T14:35:08.459Z"
   },
   {
    "duration": 11,
    "start_time": "2024-12-28T14:36:59.717Z"
   },
   {
    "duration": 6,
    "start_time": "2024-12-28T14:37:21.743Z"
   },
   {
    "duration": 23,
    "start_time": "2024-12-28T14:37:53.833Z"
   },
   {
    "duration": 6,
    "start_time": "2024-12-28T14:38:17.631Z"
   },
   {
    "duration": 7,
    "start_time": "2024-12-28T14:58:09.153Z"
   },
   {
    "duration": 203,
    "start_time": "2024-12-28T14:58:19.664Z"
   },
   {
    "duration": 5042,
    "start_time": "2024-12-28T14:59:15.958Z"
   },
   {
    "duration": 1606,
    "start_time": "2024-12-28T14:59:21.003Z"
   },
   {
    "duration": 3,
    "start_time": "2024-12-28T14:59:22.611Z"
   },
   {
    "duration": 51,
    "start_time": "2024-12-28T14:59:22.621Z"
   },
   {
    "duration": 101,
    "start_time": "2024-12-28T14:59:22.674Z"
   },
   {
    "duration": 19,
    "start_time": "2024-12-28T14:59:22.776Z"
   },
   {
    "duration": 811,
    "start_time": "2024-12-28T14:59:22.797Z"
   },
   {
    "duration": 136,
    "start_time": "2024-12-28T14:59:23.609Z"
   },
   {
    "duration": 14,
    "start_time": "2024-12-28T14:59:23.746Z"
   },
   {
    "duration": 611,
    "start_time": "2024-12-28T14:59:23.762Z"
   },
   {
    "duration": 466,
    "start_time": "2024-12-28T14:59:24.375Z"
   },
   {
    "duration": 32,
    "start_time": "2024-12-28T14:59:24.843Z"
   },
   {
    "duration": 37,
    "start_time": "2024-12-28T14:59:24.878Z"
   },
   {
    "duration": 138,
    "start_time": "2024-12-28T14:59:24.919Z"
   },
   {
    "duration": 256,
    "start_time": "2024-12-28T14:59:25.058Z"
   },
   {
    "duration": 367,
    "start_time": "2024-12-28T14:59:25.316Z"
   },
   {
    "duration": 255,
    "start_time": "2024-12-28T14:59:25.684Z"
   },
   {
    "duration": 88,
    "start_time": "2024-12-28T14:59:25.941Z"
   },
   {
    "duration": 102,
    "start_time": "2024-12-28T14:59:26.031Z"
   },
   {
    "duration": 171,
    "start_time": "2024-12-28T14:59:26.134Z"
   },
   {
    "duration": 43,
    "start_time": "2024-12-28T14:59:26.322Z"
   },
   {
    "duration": 78,
    "start_time": "2024-12-28T14:59:26.367Z"
   },
   {
    "duration": 137,
    "start_time": "2024-12-28T14:59:26.447Z"
   },
   {
    "duration": 35,
    "start_time": "2024-12-28T14:59:26.585Z"
   },
   {
    "duration": 127,
    "start_time": "2024-12-28T14:59:26.622Z"
   },
   {
    "duration": 87,
    "start_time": "2024-12-28T14:59:26.751Z"
   },
   {
    "duration": 94,
    "start_time": "2024-12-28T14:59:26.840Z"
   },
   {
    "duration": 28,
    "start_time": "2024-12-28T14:59:26.935Z"
   },
   {
    "duration": 5871,
    "start_time": "2024-12-28T14:59:26.965Z"
   },
   {
    "duration": 20,
    "start_time": "2024-12-28T14:59:32.838Z"
   },
   {
    "duration": 86,
    "start_time": "2024-12-28T14:59:32.860Z"
   },
   {
    "duration": 8,
    "start_time": "2024-12-28T14:59:32.947Z"
   },
   {
    "duration": 48,
    "start_time": "2024-12-28T14:59:32.957Z"
   },
   {
    "duration": 128,
    "start_time": "2024-12-28T14:59:33.006Z"
   },
   {
    "duration": 272,
    "start_time": "2024-12-28T14:59:33.135Z"
   },
   {
    "duration": 77,
    "start_time": "2024-12-28T14:59:33.408Z"
   },
   {
    "duration": 85,
    "start_time": "2024-12-28T14:59:33.487Z"
   },
   {
    "duration": 135,
    "start_time": "2024-12-28T14:59:33.574Z"
   },
   {
    "duration": 10,
    "start_time": "2024-12-28T14:59:33.711Z"
   },
   {
    "duration": 21,
    "start_time": "2024-12-28T14:59:33.723Z"
   },
   {
    "duration": 17,
    "start_time": "2024-12-28T14:59:33.747Z"
   },
   {
    "duration": 164986,
    "start_time": "2024-12-28T14:59:33.765Z"
   },
   {
    "duration": 0,
    "start_time": "2024-12-28T15:02:18.752Z"
   },
   {
    "duration": 35,
    "start_time": "2024-12-28T15:02:26.137Z"
   },
   {
    "duration": 5221,
    "start_time": "2024-12-28T15:11:02.602Z"
   },
   {
    "duration": 1663,
    "start_time": "2024-12-28T15:11:07.826Z"
   },
   {
    "duration": 4,
    "start_time": "2024-12-28T15:11:09.491Z"
   },
   {
    "duration": 6,
    "start_time": "2024-12-28T15:11:09.497Z"
   },
   {
    "duration": 17,
    "start_time": "2024-12-28T15:11:09.506Z"
   },
   {
    "duration": 3,
    "start_time": "2024-12-28T15:11:09.525Z"
   },
   {
    "duration": 972,
    "start_time": "2024-12-28T15:11:09.530Z"
   },
   {
    "duration": 142,
    "start_time": "2024-12-28T15:11:10.504Z"
   },
   {
    "duration": 5,
    "start_time": "2024-12-28T15:11:10.648Z"
   },
   {
    "duration": 678,
    "start_time": "2024-12-28T15:11:10.655Z"
   },
   {
    "duration": 508,
    "start_time": "2024-12-28T15:11:11.335Z"
   },
   {
    "duration": 37,
    "start_time": "2024-12-28T15:11:11.844Z"
   },
   {
    "duration": 20,
    "start_time": "2024-12-28T15:11:11.882Z"
   },
   {
    "duration": 119,
    "start_time": "2024-12-28T15:11:11.905Z"
   },
   {
    "duration": 265,
    "start_time": "2024-12-28T15:11:12.026Z"
   },
   {
    "duration": 421,
    "start_time": "2024-12-28T15:11:12.293Z"
   },
   {
    "duration": 255,
    "start_time": "2024-12-28T15:11:12.716Z"
   },
   {
    "duration": 106,
    "start_time": "2024-12-28T15:11:12.973Z"
   },
   {
    "duration": 73,
    "start_time": "2024-12-28T15:11:13.082Z"
   },
   {
    "duration": 188,
    "start_time": "2024-12-28T15:11:13.157Z"
   },
   {
    "duration": 47,
    "start_time": "2024-12-28T15:11:13.346Z"
   },
   {
    "duration": 70,
    "start_time": "2024-12-28T15:11:13.394Z"
   },
   {
    "duration": 115,
    "start_time": "2024-12-28T15:11:13.466Z"
   },
   {
    "duration": 60,
    "start_time": "2024-12-28T15:11:13.583Z"
   },
   {
    "duration": 23,
    "start_time": "2024-12-28T15:11:13.645Z"
   },
   {
    "duration": 52,
    "start_time": "2024-12-28T15:11:13.670Z"
   },
   {
    "duration": 98,
    "start_time": "2024-12-28T15:11:13.724Z"
   },
   {
    "duration": 3,
    "start_time": "2024-12-28T15:11:13.824Z"
   },
   {
    "duration": 6692,
    "start_time": "2024-12-28T15:11:13.829Z"
   },
   {
    "duration": 23,
    "start_time": "2024-12-28T15:11:20.522Z"
   },
   {
    "duration": 89,
    "start_time": "2024-12-28T15:11:20.547Z"
   },
   {
    "duration": 11,
    "start_time": "2024-12-28T15:11:20.637Z"
   },
   {
    "duration": 30,
    "start_time": "2024-12-28T15:11:20.650Z"
   },
   {
    "duration": 153,
    "start_time": "2024-12-28T15:11:20.682Z"
   },
   {
    "duration": 296,
    "start_time": "2024-12-28T15:11:20.837Z"
   },
   {
    "duration": 87,
    "start_time": "2024-12-28T15:11:21.135Z"
   },
   {
    "duration": 89,
    "start_time": "2024-12-28T15:11:21.224Z"
   },
   {
    "duration": 156,
    "start_time": "2024-12-28T15:11:21.314Z"
   },
   {
    "duration": 4,
    "start_time": "2024-12-28T15:11:21.472Z"
   },
   {
    "duration": 16,
    "start_time": "2024-12-28T15:11:21.478Z"
   },
   {
    "duration": 50,
    "start_time": "2024-12-28T15:11:21.498Z"
   },
   {
    "duration": 152266,
    "start_time": "2024-12-28T15:11:21.549Z"
   },
   {
    "duration": 0,
    "start_time": "2024-12-28T15:13:53.817Z"
   },
   {
    "duration": 5208,
    "start_time": "2024-12-28T15:14:32.096Z"
   },
   {
    "duration": 1602,
    "start_time": "2024-12-28T15:14:37.307Z"
   },
   {
    "duration": 4,
    "start_time": "2024-12-28T15:14:38.911Z"
   },
   {
    "duration": 37,
    "start_time": "2024-12-28T15:14:38.917Z"
   },
   {
    "duration": 21,
    "start_time": "2024-12-28T15:14:38.956Z"
   },
   {
    "duration": 9,
    "start_time": "2024-12-28T15:14:38.978Z"
   },
   {
    "duration": 837,
    "start_time": "2024-12-28T15:14:38.988Z"
   },
   {
    "duration": 148,
    "start_time": "2024-12-28T15:14:39.827Z"
   },
   {
    "duration": 4,
    "start_time": "2024-12-28T15:14:39.976Z"
   },
   {
    "duration": 621,
    "start_time": "2024-12-28T15:14:39.983Z"
   },
   {
    "duration": 492,
    "start_time": "2024-12-28T15:14:40.605Z"
   },
   {
    "duration": 39,
    "start_time": "2024-12-28T15:14:41.098Z"
   },
   {
    "duration": 10,
    "start_time": "2024-12-28T15:14:41.139Z"
   },
   {
    "duration": 125,
    "start_time": "2024-12-28T15:14:41.150Z"
   },
   {
    "duration": 280,
    "start_time": "2024-12-28T15:14:41.277Z"
   },
   {
    "duration": 380,
    "start_time": "2024-12-28T15:14:41.558Z"
   },
   {
    "duration": 263,
    "start_time": "2024-12-28T15:14:41.940Z"
   },
   {
    "duration": 87,
    "start_time": "2024-12-28T15:14:42.205Z"
   },
   {
    "duration": 46,
    "start_time": "2024-12-28T15:14:42.294Z"
   },
   {
    "duration": 191,
    "start_time": "2024-12-28T15:14:42.342Z"
   },
   {
    "duration": 46,
    "start_time": "2024-12-28T15:14:42.535Z"
   },
   {
    "duration": 67,
    "start_time": "2024-12-28T15:14:42.582Z"
   },
   {
    "duration": 87,
    "start_time": "2024-12-28T15:14:42.651Z"
   },
   {
    "duration": 101,
    "start_time": "2024-12-28T15:14:42.739Z"
   },
   {
    "duration": 21,
    "start_time": "2024-12-28T15:14:42.841Z"
   },
   {
    "duration": 48,
    "start_time": "2024-12-28T15:14:42.864Z"
   },
   {
    "duration": 86,
    "start_time": "2024-12-28T15:14:42.914Z"
   },
   {
    "duration": 2,
    "start_time": "2024-12-28T15:14:43.003Z"
   },
   {
    "duration": 6087,
    "start_time": "2024-12-28T15:14:43.007Z"
   },
   {
    "duration": 25,
    "start_time": "2024-12-28T15:14:49.096Z"
   },
   {
    "duration": 73,
    "start_time": "2024-12-28T15:14:49.123Z"
   },
   {
    "duration": 9,
    "start_time": "2024-12-28T15:14:49.197Z"
   },
   {
    "duration": 39,
    "start_time": "2024-12-28T15:14:49.208Z"
   },
   {
    "duration": 227,
    "start_time": "2024-12-28T15:14:49.249Z"
   },
   {
    "duration": 276,
    "start_time": "2024-12-28T15:14:49.478Z"
   },
   {
    "duration": 80,
    "start_time": "2024-12-28T15:14:49.755Z"
   },
   {
    "duration": 3,
    "start_time": "2024-12-28T15:14:49.837Z"
   },
   {
    "duration": 167,
    "start_time": "2024-12-28T15:14:49.842Z"
   },
   {
    "duration": 4,
    "start_time": "2024-12-28T15:14:50.010Z"
   },
   {
    "duration": 39,
    "start_time": "2024-12-28T15:14:50.015Z"
   },
   {
    "duration": 0,
    "start_time": "2024-12-28T15:14:50.056Z"
   },
   {
    "duration": 0,
    "start_time": "2024-12-28T15:14:50.057Z"
   },
   {
    "duration": 5190,
    "start_time": "2024-12-28T15:16:16.761Z"
   },
   {
    "duration": 1510,
    "start_time": "2024-12-28T15:16:21.954Z"
   },
   {
    "duration": 3,
    "start_time": "2024-12-28T15:16:23.465Z"
   },
   {
    "duration": 26,
    "start_time": "2024-12-28T15:16:23.469Z"
   },
   {
    "duration": 13,
    "start_time": "2024-12-28T15:16:23.497Z"
   },
   {
    "duration": 10,
    "start_time": "2024-12-28T15:16:23.511Z"
   },
   {
    "duration": 823,
    "start_time": "2024-12-28T15:16:23.522Z"
   },
   {
    "duration": 152,
    "start_time": "2024-12-28T15:16:24.346Z"
   },
   {
    "duration": 6,
    "start_time": "2024-12-28T15:16:24.500Z"
   },
   {
    "duration": 609,
    "start_time": "2024-12-28T15:16:24.507Z"
   },
   {
    "duration": 490,
    "start_time": "2024-12-28T15:16:25.118Z"
   },
   {
    "duration": 38,
    "start_time": "2024-12-28T15:16:25.609Z"
   },
   {
    "duration": 34,
    "start_time": "2024-12-28T15:16:25.649Z"
   },
   {
    "duration": 117,
    "start_time": "2024-12-28T15:16:25.685Z"
   },
   {
    "duration": 255,
    "start_time": "2024-12-28T15:16:25.803Z"
   },
   {
    "duration": 374,
    "start_time": "2024-12-28T15:16:26.060Z"
   },
   {
    "duration": 257,
    "start_time": "2024-12-28T15:16:26.435Z"
   },
   {
    "duration": 84,
    "start_time": "2024-12-28T15:16:26.693Z"
   },
   {
    "duration": 65,
    "start_time": "2024-12-28T15:16:26.778Z"
   },
   {
    "duration": 179,
    "start_time": "2024-12-28T15:16:26.845Z"
   },
   {
    "duration": 43,
    "start_time": "2024-12-28T15:16:27.026Z"
   },
   {
    "duration": 75,
    "start_time": "2024-12-28T15:16:27.070Z"
   },
   {
    "duration": 95,
    "start_time": "2024-12-28T15:16:27.147Z"
   },
   {
    "duration": 110,
    "start_time": "2024-12-28T15:16:27.244Z"
   },
   {
    "duration": 54,
    "start_time": "2024-12-28T15:16:27.355Z"
   },
   {
    "duration": 49,
    "start_time": "2024-12-28T15:16:27.410Z"
   },
   {
    "duration": 83,
    "start_time": "2024-12-28T15:16:27.461Z"
   },
   {
    "duration": 125,
    "start_time": "2024-12-28T15:16:27.546Z"
   },
   {
    "duration": 5947,
    "start_time": "2024-12-28T15:16:27.672Z"
   },
   {
    "duration": 21,
    "start_time": "2024-12-28T15:16:33.621Z"
   },
   {
    "duration": 91,
    "start_time": "2024-12-28T15:16:33.643Z"
   },
   {
    "duration": 9,
    "start_time": "2024-12-28T15:16:33.735Z"
   },
   {
    "duration": 40,
    "start_time": "2024-12-28T15:16:33.745Z"
   },
   {
    "duration": 145,
    "start_time": "2024-12-28T15:16:33.786Z"
   },
   {
    "duration": 275,
    "start_time": "2024-12-28T15:16:33.933Z"
   },
   {
    "duration": 77,
    "start_time": "2024-12-28T15:16:34.209Z"
   },
   {
    "duration": 5,
    "start_time": "2024-12-28T15:16:34.288Z"
   },
   {
    "duration": 158,
    "start_time": "2024-12-28T15:16:34.295Z"
   },
   {
    "duration": 4,
    "start_time": "2024-12-28T15:16:34.454Z"
   },
   {
    "duration": 38,
    "start_time": "2024-12-28T15:16:34.459Z"
   },
   {
    "duration": 21,
    "start_time": "2024-12-28T15:16:34.500Z"
   },
   {
    "duration": 132351,
    "start_time": "2024-12-28T15:16:34.522Z"
   },
   {
    "duration": 16,
    "start_time": "2024-12-28T15:18:59.258Z"
   },
   {
    "duration": 616,
    "start_time": "2024-12-28T15:22:50.330Z"
   },
   {
    "duration": 5228,
    "start_time": "2024-12-28T15:23:23.576Z"
   },
   {
    "duration": 1596,
    "start_time": "2024-12-28T15:23:28.807Z"
   },
   {
    "duration": 3,
    "start_time": "2024-12-28T15:23:30.404Z"
   },
   {
    "duration": 42,
    "start_time": "2024-12-28T15:23:30.421Z"
   },
   {
    "duration": 50,
    "start_time": "2024-12-28T15:23:30.464Z"
   },
   {
    "duration": 40,
    "start_time": "2024-12-28T15:23:30.515Z"
   },
   {
    "duration": 885,
    "start_time": "2024-12-28T15:23:30.556Z"
   },
   {
    "duration": 150,
    "start_time": "2024-12-28T15:23:31.443Z"
   },
   {
    "duration": 4,
    "start_time": "2024-12-28T15:23:31.595Z"
   },
   {
    "duration": 630,
    "start_time": "2024-12-28T15:23:31.601Z"
   },
   {
    "duration": 554,
    "start_time": "2024-12-28T15:23:32.232Z"
   },
   {
    "duration": 39,
    "start_time": "2024-12-28T15:23:32.787Z"
   },
   {
    "duration": 29,
    "start_time": "2024-12-28T15:23:32.828Z"
   },
   {
    "duration": 115,
    "start_time": "2024-12-28T15:23:32.859Z"
   },
   {
    "duration": 260,
    "start_time": "2024-12-28T15:23:32.975Z"
   },
   {
    "duration": 418,
    "start_time": "2024-12-28T15:23:33.237Z"
   },
   {
    "duration": 255,
    "start_time": "2024-12-28T15:23:33.657Z"
   },
   {
    "duration": 82,
    "start_time": "2024-12-28T15:23:33.913Z"
   },
   {
    "duration": 52,
    "start_time": "2024-12-28T15:23:33.997Z"
   },
   {
    "duration": 181,
    "start_time": "2024-12-28T15:23:34.050Z"
   },
   {
    "duration": 45,
    "start_time": "2024-12-28T15:23:34.232Z"
   },
   {
    "duration": 64,
    "start_time": "2024-12-28T15:23:34.278Z"
   },
   {
    "duration": 711,
    "start_time": "2024-12-28T15:23:34.344Z"
   },
   {
    "duration": 104,
    "start_time": "2024-12-28T15:23:35.056Z"
   },
   {
    "duration": 34,
    "start_time": "2024-12-28T15:23:35.162Z"
   },
   {
    "duration": 22,
    "start_time": "2024-12-28T15:23:35.197Z"
   },
   {
    "duration": 50,
    "start_time": "2024-12-28T15:23:35.221Z"
   },
   {
    "duration": 92,
    "start_time": "2024-12-28T15:23:35.274Z"
   },
   {
    "duration": 24,
    "start_time": "2024-12-28T15:23:35.367Z"
   },
   {
    "duration": 6013,
    "start_time": "2024-12-28T15:23:35.393Z"
   },
   {
    "duration": 26,
    "start_time": "2024-12-28T15:23:41.407Z"
   },
   {
    "duration": 81,
    "start_time": "2024-12-28T15:23:41.434Z"
   },
   {
    "duration": 8,
    "start_time": "2024-12-28T15:23:41.521Z"
   },
   {
    "duration": 23,
    "start_time": "2024-12-28T15:23:41.531Z"
   },
   {
    "duration": 158,
    "start_time": "2024-12-28T15:23:41.555Z"
   },
   {
    "duration": 285,
    "start_time": "2024-12-28T15:23:41.715Z"
   },
   {
    "duration": 80,
    "start_time": "2024-12-28T15:23:42.002Z"
   },
   {
    "duration": 8,
    "start_time": "2024-12-28T15:23:42.083Z"
   },
   {
    "duration": 158,
    "start_time": "2024-12-28T15:23:42.092Z"
   },
   {
    "duration": 4,
    "start_time": "2024-12-28T15:23:42.251Z"
   },
   {
    "duration": 6,
    "start_time": "2024-12-28T15:23:42.257Z"
   },
   {
    "duration": 16,
    "start_time": "2024-12-28T15:23:42.264Z"
   },
   {
    "duration": 56894,
    "start_time": "2024-12-28T15:23:42.282Z"
   },
   {
    "duration": 20,
    "start_time": "2024-12-28T15:25:10.323Z"
   },
   {
    "duration": 19,
    "start_time": "2024-12-28T15:25:23.263Z"
   },
   {
    "duration": 91,
    "start_time": "2024-12-28T15:26:45.473Z"
   },
   {
    "duration": 255,
    "start_time": "2024-12-28T15:27:11.626Z"
   },
   {
    "duration": 106,
    "start_time": "2024-12-28T15:28:48.212Z"
   },
   {
    "duration": 69,
    "start_time": "2024-12-28T15:28:56.026Z"
   },
   {
    "duration": 136,
    "start_time": "2024-12-28T15:29:02.381Z"
   },
   {
    "duration": 167,
    "start_time": "2024-12-28T15:36:51.465Z"
   },
   {
    "duration": 4,
    "start_time": "2024-12-28T15:37:07.529Z"
   },
   {
    "duration": 4,
    "start_time": "2024-12-28T15:37:15.359Z"
   },
   {
    "duration": 5165,
    "start_time": "2024-12-28T15:45:13.491Z"
   },
   {
    "duration": 1506,
    "start_time": "2024-12-28T15:45:18.658Z"
   },
   {
    "duration": 4,
    "start_time": "2024-12-28T15:45:20.166Z"
   },
   {
    "duration": 17,
    "start_time": "2024-12-28T15:45:20.171Z"
   },
   {
    "duration": 19,
    "start_time": "2024-12-28T15:45:20.190Z"
   },
   {
    "duration": 33,
    "start_time": "2024-12-28T15:45:20.210Z"
   },
   {
    "duration": 864,
    "start_time": "2024-12-28T15:45:20.244Z"
   },
   {
    "duration": 145,
    "start_time": "2024-12-28T15:45:21.110Z"
   },
   {
    "duration": 4,
    "start_time": "2024-12-28T15:45:21.256Z"
   },
   {
    "duration": 614,
    "start_time": "2024-12-28T15:45:21.262Z"
   },
   {
    "duration": 487,
    "start_time": "2024-12-28T15:45:21.878Z"
   },
   {
    "duration": 41,
    "start_time": "2024-12-28T15:45:22.367Z"
   },
   {
    "duration": 29,
    "start_time": "2024-12-28T15:45:22.411Z"
   },
   {
    "duration": 133,
    "start_time": "2024-12-28T15:45:22.444Z"
   },
   {
    "duration": 296,
    "start_time": "2024-12-28T15:45:22.579Z"
   },
   {
    "duration": 400,
    "start_time": "2024-12-28T15:45:22.877Z"
   },
   {
    "duration": 264,
    "start_time": "2024-12-28T15:45:23.278Z"
   },
   {
    "duration": 90,
    "start_time": "2024-12-28T15:45:23.544Z"
   },
   {
    "duration": 36,
    "start_time": "2024-12-28T15:45:23.636Z"
   },
   {
    "duration": 235,
    "start_time": "2024-12-28T15:45:23.674Z"
   },
   {
    "duration": 54,
    "start_time": "2024-12-28T15:45:23.910Z"
   },
   {
    "duration": 65,
    "start_time": "2024-12-28T15:45:23.965Z"
   },
   {
    "duration": 89,
    "start_time": "2024-12-28T15:45:24.032Z"
   },
   {
    "duration": 6,
    "start_time": "2024-12-28T15:45:24.123Z"
   },
   {
    "duration": 25,
    "start_time": "2024-12-28T15:45:24.131Z"
   },
   {
    "duration": 66,
    "start_time": "2024-12-28T15:45:24.157Z"
   },
   {
    "duration": 100,
    "start_time": "2024-12-28T15:45:24.225Z"
   },
   {
    "duration": 3,
    "start_time": "2024-12-28T15:45:24.327Z"
   },
   {
    "duration": 6088,
    "start_time": "2024-12-28T15:45:24.331Z"
   },
   {
    "duration": 21,
    "start_time": "2024-12-28T15:45:30.422Z"
   },
   {
    "duration": 160,
    "start_time": "2024-12-28T15:45:30.445Z"
   },
   {
    "duration": 8,
    "start_time": "2024-12-28T15:45:30.607Z"
   },
   {
    "duration": 33,
    "start_time": "2024-12-28T15:45:30.617Z"
   },
   {
    "duration": 136,
    "start_time": "2024-12-28T15:45:30.651Z"
   },
   {
    "duration": 299,
    "start_time": "2024-12-28T15:45:30.789Z"
   },
   {
    "duration": 80,
    "start_time": "2024-12-28T15:45:31.090Z"
   },
   {
    "duration": 10,
    "start_time": "2024-12-28T15:45:31.171Z"
   },
   {
    "duration": 172,
    "start_time": "2024-12-28T15:45:31.182Z"
   },
   {
    "duration": 4,
    "start_time": "2024-12-28T15:45:31.356Z"
   },
   {
    "duration": 226,
    "start_time": "2024-12-28T15:45:31.362Z"
   },
   {
    "duration": 40,
    "start_time": "2024-12-28T15:45:31.593Z"
   },
   {
    "duration": 21344,
    "start_time": "2024-12-28T15:45:31.635Z"
   },
   {
    "duration": 75,
    "start_time": "2024-12-28T15:48:25.702Z"
   },
   {
    "duration": 21589,
    "start_time": "2024-12-28T15:54:51.551Z"
   },
   {
    "duration": 8641,
    "start_time": "2024-12-28T15:55:13.142Z"
   },
   {
    "duration": 4,
    "start_time": "2024-12-28T15:55:21.784Z"
   },
   {
    "duration": 11,
    "start_time": "2024-12-28T15:55:21.790Z"
   },
   {
    "duration": 28,
    "start_time": "2024-12-28T15:55:21.803Z"
   },
   {
    "duration": 14,
    "start_time": "2024-12-28T15:55:21.833Z"
   },
   {
    "duration": 883,
    "start_time": "2024-12-28T15:55:21.848Z"
   },
   {
    "duration": 148,
    "start_time": "2024-12-28T15:55:22.733Z"
   },
   {
    "duration": 20,
    "start_time": "2024-12-28T15:55:22.883Z"
   },
   {
    "duration": 586,
    "start_time": "2024-12-28T15:55:22.905Z"
   },
   {
    "duration": 529,
    "start_time": "2024-12-28T15:55:23.493Z"
   },
   {
    "duration": 40,
    "start_time": "2024-12-28T15:55:24.023Z"
   },
   {
    "duration": 18,
    "start_time": "2024-12-28T15:55:24.064Z"
   },
   {
    "duration": 117,
    "start_time": "2024-12-28T15:55:24.085Z"
   },
   {
    "duration": 257,
    "start_time": "2024-12-28T15:55:24.204Z"
   },
   {
    "duration": 388,
    "start_time": "2024-12-28T15:55:24.463Z"
   },
   {
    "duration": 257,
    "start_time": "2024-12-28T15:55:24.853Z"
   },
   {
    "duration": 80,
    "start_time": "2024-12-28T15:55:25.112Z"
   },
   {
    "duration": 59,
    "start_time": "2024-12-28T15:55:25.194Z"
   },
   {
    "duration": 173,
    "start_time": "2024-12-28T15:55:25.254Z"
   },
   {
    "duration": 43,
    "start_time": "2024-12-28T15:55:25.428Z"
   },
   {
    "duration": 60,
    "start_time": "2024-12-28T15:55:25.473Z"
   },
   {
    "duration": 92,
    "start_time": "2024-12-28T15:55:25.534Z"
   },
   {
    "duration": 6,
    "start_time": "2024-12-28T15:55:25.627Z"
   },
   {
    "duration": 32,
    "start_time": "2024-12-28T15:55:25.635Z"
   },
   {
    "duration": 56,
    "start_time": "2024-12-28T15:55:25.669Z"
   },
   {
    "duration": 121,
    "start_time": "2024-12-28T15:55:25.727Z"
   },
   {
    "duration": 2,
    "start_time": "2024-12-28T15:55:25.850Z"
   },
   {
    "duration": 5980,
    "start_time": "2024-12-28T15:55:25.854Z"
   },
   {
    "duration": 21,
    "start_time": "2024-12-28T15:55:31.836Z"
   },
   {
    "duration": 92,
    "start_time": "2024-12-28T15:55:31.859Z"
   },
   {
    "duration": 8,
    "start_time": "2024-12-28T15:55:31.953Z"
   },
   {
    "duration": 21,
    "start_time": "2024-12-28T15:55:31.962Z"
   },
   {
    "duration": 151,
    "start_time": "2024-12-28T15:55:31.985Z"
   },
   {
    "duration": 300,
    "start_time": "2024-12-28T15:55:32.138Z"
   },
   {
    "duration": 103,
    "start_time": "2024-12-28T15:55:32.441Z"
   },
   {
    "duration": 10,
    "start_time": "2024-12-28T15:55:32.546Z"
   },
   {
    "duration": 150,
    "start_time": "2024-12-28T15:55:32.558Z"
   },
   {
    "duration": 1698,
    "start_time": "2024-12-28T15:55:32.709Z"
   },
   {
    "duration": 4,
    "start_time": "2024-12-28T15:55:34.409Z"
   },
   {
    "duration": 4,
    "start_time": "2024-12-28T15:55:34.421Z"
   },
   {
    "duration": 4,
    "start_time": "2024-12-28T15:56:48.947Z"
   },
   {
    "duration": 4,
    "start_time": "2024-12-28T15:58:07.457Z"
   },
   {
    "duration": 104,
    "start_time": "2024-12-28T16:17:27.034Z"
   },
   {
    "duration": 153,
    "start_time": "2024-12-28T16:17:47.247Z"
   },
   {
    "duration": 10,
    "start_time": "2024-12-28T16:17:47.613Z"
   },
   {
    "duration": 4,
    "start_time": "2024-12-28T16:17:51.629Z"
   },
   {
    "duration": 3,
    "start_time": "2024-12-28T16:20:57.268Z"
   },
   {
    "duration": 5037,
    "start_time": "2024-12-28T16:43:24.876Z"
   },
   {
    "duration": 1545,
    "start_time": "2024-12-28T16:43:29.915Z"
   },
   {
    "duration": 3,
    "start_time": "2024-12-28T16:43:31.461Z"
   },
   {
    "duration": 21,
    "start_time": "2024-12-28T16:43:31.466Z"
   },
   {
    "duration": 22,
    "start_time": "2024-12-28T16:43:31.489Z"
   },
   {
    "duration": 28,
    "start_time": "2024-12-28T16:43:31.512Z"
   },
   {
    "duration": 839,
    "start_time": "2024-12-28T16:43:31.541Z"
   },
   {
    "duration": 172,
    "start_time": "2024-12-28T16:43:32.382Z"
   },
   {
    "duration": 4,
    "start_time": "2024-12-28T16:43:32.555Z"
   },
   {
    "duration": 593,
    "start_time": "2024-12-28T16:43:32.561Z"
   },
   {
    "duration": 455,
    "start_time": "2024-12-28T16:43:33.156Z"
   },
   {
    "duration": 41,
    "start_time": "2024-12-28T16:43:33.612Z"
   },
   {
    "duration": 11,
    "start_time": "2024-12-28T16:43:33.655Z"
   },
   {
    "duration": 120,
    "start_time": "2024-12-28T16:43:33.669Z"
   },
   {
    "duration": 245,
    "start_time": "2024-12-28T16:43:33.790Z"
   },
   {
    "duration": 389,
    "start_time": "2024-12-28T16:43:34.037Z"
   },
   {
    "duration": 257,
    "start_time": "2024-12-28T16:43:34.427Z"
   },
   {
    "duration": 83,
    "start_time": "2024-12-28T16:43:34.686Z"
   },
   {
    "duration": 51,
    "start_time": "2024-12-28T16:43:34.770Z"
   },
   {
    "duration": 167,
    "start_time": "2024-12-28T16:43:34.822Z"
   },
   {
    "duration": 56,
    "start_time": "2024-12-28T16:43:34.990Z"
   },
   {
    "duration": 88,
    "start_time": "2024-12-28T16:43:35.047Z"
   },
   {
    "duration": 95,
    "start_time": "2024-12-28T16:43:35.136Z"
   },
   {
    "duration": 17,
    "start_time": "2024-12-28T16:43:35.232Z"
   },
   {
    "duration": 36,
    "start_time": "2024-12-28T16:43:35.250Z"
   },
   {
    "duration": 49,
    "start_time": "2024-12-28T16:43:35.288Z"
   },
   {
    "duration": 88,
    "start_time": "2024-12-28T16:43:35.339Z"
   },
   {
    "duration": 15,
    "start_time": "2024-12-28T16:43:35.429Z"
   },
   {
    "duration": 5850,
    "start_time": "2024-12-28T16:43:35.445Z"
   },
   {
    "duration": 26,
    "start_time": "2024-12-28T16:43:41.296Z"
   },
   {
    "duration": 68,
    "start_time": "2024-12-28T16:43:41.323Z"
   },
   {
    "duration": 8,
    "start_time": "2024-12-28T16:43:41.393Z"
   },
   {
    "duration": 32,
    "start_time": "2024-12-28T16:43:41.402Z"
   },
   {
    "duration": 138,
    "start_time": "2024-12-28T16:43:41.436Z"
   },
   {
    "duration": 269,
    "start_time": "2024-12-28T16:43:41.575Z"
   },
   {
    "duration": 84,
    "start_time": "2024-12-28T16:43:41.846Z"
   },
   {
    "duration": 28,
    "start_time": "2024-12-28T16:43:41.931Z"
   },
   {
    "duration": 137,
    "start_time": "2024-12-28T16:43:41.960Z"
   },
   {
    "duration": 3,
    "start_time": "2024-12-28T16:43:42.098Z"
   },
   {
    "duration": 5,
    "start_time": "2024-12-28T16:43:42.102Z"
   },
   {
    "duration": 164,
    "start_time": "2024-12-28T16:43:42.110Z"
   },
   {
    "duration": 4,
    "start_time": "2024-12-28T16:43:42.276Z"
   },
   {
    "duration": 7,
    "start_time": "2024-12-28T16:43:42.281Z"
   },
   {
    "duration": 86,
    "start_time": "2024-12-28T16:45:48.380Z"
   },
   {
    "duration": 0,
    "start_time": "2024-12-28T16:45:48.468Z"
   },
   {
    "duration": 0,
    "start_time": "2024-12-28T16:45:48.470Z"
   },
   {
    "duration": 0,
    "start_time": "2024-12-28T16:45:48.472Z"
   },
   {
    "duration": 0,
    "start_time": "2024-12-28T16:45:48.472Z"
   },
   {
    "duration": 0,
    "start_time": "2024-12-28T16:45:48.473Z"
   },
   {
    "duration": 0,
    "start_time": "2024-12-28T16:45:48.474Z"
   },
   {
    "duration": 0,
    "start_time": "2024-12-28T16:45:48.476Z"
   },
   {
    "duration": 0,
    "start_time": "2024-12-28T16:45:48.477Z"
   },
   {
    "duration": 0,
    "start_time": "2024-12-28T16:45:48.478Z"
   },
   {
    "duration": 0,
    "start_time": "2024-12-28T16:45:48.479Z"
   },
   {
    "duration": 0,
    "start_time": "2024-12-28T16:45:48.479Z"
   },
   {
    "duration": 0,
    "start_time": "2024-12-28T16:45:48.481Z"
   },
   {
    "duration": 0,
    "start_time": "2024-12-28T16:45:48.481Z"
   },
   {
    "duration": 0,
    "start_time": "2024-12-28T16:45:48.482Z"
   },
   {
    "duration": 0,
    "start_time": "2024-12-28T16:45:48.483Z"
   },
   {
    "duration": 0,
    "start_time": "2024-12-28T16:45:48.484Z"
   },
   {
    "duration": 0,
    "start_time": "2024-12-28T16:45:48.485Z"
   },
   {
    "duration": 0,
    "start_time": "2024-12-28T16:45:48.486Z"
   },
   {
    "duration": 0,
    "start_time": "2024-12-28T16:45:48.487Z"
   },
   {
    "duration": 0,
    "start_time": "2024-12-28T16:45:48.487Z"
   },
   {
    "duration": 0,
    "start_time": "2024-12-28T16:45:48.488Z"
   },
   {
    "duration": 0,
    "start_time": "2024-12-28T16:45:48.489Z"
   },
   {
    "duration": 0,
    "start_time": "2024-12-28T16:45:48.490Z"
   },
   {
    "duration": 0,
    "start_time": "2024-12-28T16:45:48.491Z"
   },
   {
    "duration": 0,
    "start_time": "2024-12-28T16:45:48.492Z"
   },
   {
    "duration": 0,
    "start_time": "2024-12-28T16:45:48.493Z"
   },
   {
    "duration": 0,
    "start_time": "2024-12-28T16:45:48.494Z"
   },
   {
    "duration": 0,
    "start_time": "2024-12-28T16:45:48.495Z"
   },
   {
    "duration": 0,
    "start_time": "2024-12-28T16:45:48.496Z"
   },
   {
    "duration": 0,
    "start_time": "2024-12-28T16:45:48.496Z"
   },
   {
    "duration": 0,
    "start_time": "2024-12-28T16:45:48.497Z"
   },
   {
    "duration": 0,
    "start_time": "2024-12-28T16:45:48.498Z"
   },
   {
    "duration": 0,
    "start_time": "2024-12-28T16:45:48.499Z"
   },
   {
    "duration": 0,
    "start_time": "2024-12-28T16:45:48.500Z"
   },
   {
    "duration": 0,
    "start_time": "2024-12-28T16:45:48.501Z"
   },
   {
    "duration": 0,
    "start_time": "2024-12-28T16:45:48.502Z"
   },
   {
    "duration": 1,
    "start_time": "2024-12-28T16:45:48.521Z"
   },
   {
    "duration": 0,
    "start_time": "2024-12-28T16:45:48.522Z"
   },
   {
    "duration": 0,
    "start_time": "2024-12-28T16:45:48.523Z"
   },
   {
    "duration": 0,
    "start_time": "2024-12-28T16:45:48.524Z"
   },
   {
    "duration": 0,
    "start_time": "2024-12-28T16:45:48.525Z"
   },
   {
    "duration": 0,
    "start_time": "2024-12-28T16:45:48.526Z"
   },
   {
    "duration": 0,
    "start_time": "2024-12-28T16:45:48.527Z"
   },
   {
    "duration": 83,
    "start_time": "2024-12-28T16:50:49.533Z"
   },
   {
    "duration": 0,
    "start_time": "2024-12-28T16:50:49.619Z"
   },
   {
    "duration": 0,
    "start_time": "2024-12-28T16:50:49.620Z"
   },
   {
    "duration": 0,
    "start_time": "2024-12-28T16:50:49.621Z"
   },
   {
    "duration": 0,
    "start_time": "2024-12-28T16:50:49.622Z"
   },
   {
    "duration": 0,
    "start_time": "2024-12-28T16:50:49.623Z"
   },
   {
    "duration": 0,
    "start_time": "2024-12-28T16:50:49.624Z"
   },
   {
    "duration": 0,
    "start_time": "2024-12-28T16:50:49.625Z"
   },
   {
    "duration": 0,
    "start_time": "2024-12-28T16:50:49.626Z"
   },
   {
    "duration": 0,
    "start_time": "2024-12-28T16:50:49.627Z"
   },
   {
    "duration": 0,
    "start_time": "2024-12-28T16:50:49.628Z"
   },
   {
    "duration": 0,
    "start_time": "2024-12-28T16:50:49.629Z"
   },
   {
    "duration": 0,
    "start_time": "2024-12-28T16:50:49.630Z"
   },
   {
    "duration": 0,
    "start_time": "2024-12-28T16:50:49.631Z"
   },
   {
    "duration": 0,
    "start_time": "2024-12-28T16:50:49.632Z"
   },
   {
    "duration": 0,
    "start_time": "2024-12-28T16:50:49.633Z"
   },
   {
    "duration": 0,
    "start_time": "2024-12-28T16:50:49.634Z"
   },
   {
    "duration": 0,
    "start_time": "2024-12-28T16:50:49.635Z"
   },
   {
    "duration": 0,
    "start_time": "2024-12-28T16:50:49.636Z"
   },
   {
    "duration": 0,
    "start_time": "2024-12-28T16:50:49.637Z"
   },
   {
    "duration": 0,
    "start_time": "2024-12-28T16:50:49.638Z"
   },
   {
    "duration": 0,
    "start_time": "2024-12-28T16:50:49.639Z"
   },
   {
    "duration": 0,
    "start_time": "2024-12-28T16:50:49.640Z"
   },
   {
    "duration": 0,
    "start_time": "2024-12-28T16:50:49.641Z"
   },
   {
    "duration": 0,
    "start_time": "2024-12-28T16:50:49.642Z"
   },
   {
    "duration": 0,
    "start_time": "2024-12-28T16:50:49.643Z"
   },
   {
    "duration": 0,
    "start_time": "2024-12-28T16:50:49.644Z"
   },
   {
    "duration": 0,
    "start_time": "2024-12-28T16:50:49.645Z"
   },
   {
    "duration": 0,
    "start_time": "2024-12-28T16:50:49.646Z"
   },
   {
    "duration": 0,
    "start_time": "2024-12-28T16:50:49.647Z"
   },
   {
    "duration": 0,
    "start_time": "2024-12-28T16:50:49.648Z"
   },
   {
    "duration": 0,
    "start_time": "2024-12-28T16:50:49.649Z"
   },
   {
    "duration": 0,
    "start_time": "2024-12-28T16:50:49.650Z"
   },
   {
    "duration": 0,
    "start_time": "2024-12-28T16:50:49.651Z"
   },
   {
    "duration": 0,
    "start_time": "2024-12-28T16:50:49.652Z"
   },
   {
    "duration": 0,
    "start_time": "2024-12-28T16:50:49.652Z"
   },
   {
    "duration": 0,
    "start_time": "2024-12-28T16:50:49.653Z"
   },
   {
    "duration": 0,
    "start_time": "2024-12-28T16:50:49.654Z"
   },
   {
    "duration": 0,
    "start_time": "2024-12-28T16:50:49.655Z"
   },
   {
    "duration": 0,
    "start_time": "2024-12-28T16:50:49.656Z"
   },
   {
    "duration": 0,
    "start_time": "2024-12-28T16:50:49.657Z"
   },
   {
    "duration": 0,
    "start_time": "2024-12-28T16:50:49.658Z"
   },
   {
    "duration": 0,
    "start_time": "2024-12-28T16:50:49.659Z"
   },
   {
    "duration": 0,
    "start_time": "2024-12-28T16:50:49.660Z"
   },
   {
    "duration": 31690,
    "start_time": "2024-12-28T16:51:17.805Z"
   },
   {
    "duration": 1643,
    "start_time": "2024-12-28T16:51:49.498Z"
   },
   {
    "duration": 4,
    "start_time": "2024-12-28T16:51:51.142Z"
   },
   {
    "duration": 7,
    "start_time": "2024-12-28T16:51:51.147Z"
   },
   {
    "duration": 4,
    "start_time": "2024-12-28T16:51:51.156Z"
   },
   {
    "duration": 22,
    "start_time": "2024-12-28T16:51:51.161Z"
   },
   {
    "duration": 857,
    "start_time": "2024-12-28T16:51:51.185Z"
   },
   {
    "duration": 151,
    "start_time": "2024-12-28T16:51:52.043Z"
   },
   {
    "duration": 4,
    "start_time": "2024-12-28T16:51:52.196Z"
   },
   {
    "duration": 637,
    "start_time": "2024-12-28T16:51:52.201Z"
   },
   {
    "duration": 509,
    "start_time": "2024-12-28T16:51:52.839Z"
   },
   {
    "duration": 37,
    "start_time": "2024-12-28T16:51:53.350Z"
   },
   {
    "duration": 33,
    "start_time": "2024-12-28T16:51:53.388Z"
   },
   {
    "duration": 127,
    "start_time": "2024-12-28T16:51:53.424Z"
   },
   {
    "duration": 256,
    "start_time": "2024-12-28T16:51:53.553Z"
   },
   {
    "duration": 403,
    "start_time": "2024-12-28T16:51:53.811Z"
   },
   {
    "duration": 263,
    "start_time": "2024-12-28T16:51:54.215Z"
   },
   {
    "duration": 87,
    "start_time": "2024-12-28T16:51:54.480Z"
   },
   {
    "duration": 37,
    "start_time": "2024-12-28T16:51:54.569Z"
   },
   {
    "duration": 176,
    "start_time": "2024-12-28T16:51:54.622Z"
   },
   {
    "duration": 61,
    "start_time": "2024-12-28T16:51:54.799Z"
   },
   {
    "duration": 47,
    "start_time": "2024-12-28T16:51:54.861Z"
   },
   {
    "duration": 91,
    "start_time": "2024-12-28T16:51:54.909Z"
   },
   {
    "duration": 69,
    "start_time": "2024-12-28T16:51:55.002Z"
   },
   {
    "duration": 22,
    "start_time": "2024-12-28T16:51:55.072Z"
   },
   {
    "duration": 48,
    "start_time": "2024-12-28T16:51:55.096Z"
   },
   {
    "duration": 95,
    "start_time": "2024-12-28T16:51:55.146Z"
   },
   {
    "duration": 2,
    "start_time": "2024-12-28T16:51:55.243Z"
   },
   {
    "duration": 6060,
    "start_time": "2024-12-28T16:51:55.246Z"
   },
   {
    "duration": 30,
    "start_time": "2024-12-28T16:52:01.307Z"
   },
   {
    "duration": 69,
    "start_time": "2024-12-28T16:52:01.339Z"
   },
   {
    "duration": 16,
    "start_time": "2024-12-28T16:52:01.410Z"
   },
   {
    "duration": 28,
    "start_time": "2024-12-28T16:52:01.427Z"
   },
   {
    "duration": 143,
    "start_time": "2024-12-28T16:52:01.457Z"
   },
   {
    "duration": 282,
    "start_time": "2024-12-28T16:52:01.602Z"
   },
   {
    "duration": 79,
    "start_time": "2024-12-28T16:52:01.885Z"
   },
   {
    "duration": 2,
    "start_time": "2024-12-28T16:52:01.966Z"
   },
   {
    "duration": 86,
    "start_time": "2024-12-28T16:52:01.970Z"
   },
   {
    "duration": 4,
    "start_time": "2024-12-28T16:52:02.057Z"
   },
   {
    "duration": 36,
    "start_time": "2024-12-28T16:52:02.062Z"
   },
   {
    "duration": 187,
    "start_time": "2024-12-28T16:52:02.102Z"
   },
   {
    "duration": 5,
    "start_time": "2024-12-28T16:52:02.290Z"
   },
   {
    "duration": 3,
    "start_time": "2024-12-28T16:52:02.296Z"
   },
   {
    "duration": 592104,
    "start_time": "2024-12-28T16:52:02.301Z"
   },
   {
    "duration": 102,
    "start_time": "2024-12-28T17:08:59.894Z"
   },
   {
    "duration": 3,
    "start_time": "2024-12-28T17:09:09.085Z"
   },
   {
    "duration": 8,
    "start_time": "2024-12-28T17:15:12.962Z"
   },
   {
    "duration": 4,
    "start_time": "2024-12-28T17:15:25.419Z"
   },
   {
    "duration": 3,
    "start_time": "2024-12-28T17:15:25.944Z"
   },
   {
    "duration": 15763,
    "start_time": "2024-12-28T17:17:08.918Z"
   },
   {
    "duration": 1550,
    "start_time": "2024-12-28T17:17:24.683Z"
   },
   {
    "duration": 113,
    "start_time": "2024-12-28T17:17:26.234Z"
   },
   {
    "duration": 0,
    "start_time": "2024-12-28T17:17:26.350Z"
   },
   {
    "duration": 0,
    "start_time": "2024-12-28T17:17:26.351Z"
   },
   {
    "duration": 0,
    "start_time": "2024-12-28T17:17:26.353Z"
   },
   {
    "duration": 0,
    "start_time": "2024-12-28T17:17:26.353Z"
   },
   {
    "duration": 0,
    "start_time": "2024-12-28T17:17:26.354Z"
   },
   {
    "duration": 0,
    "start_time": "2024-12-28T17:17:26.355Z"
   },
   {
    "duration": 0,
    "start_time": "2024-12-28T17:17:26.356Z"
   },
   {
    "duration": 0,
    "start_time": "2024-12-28T17:17:26.357Z"
   },
   {
    "duration": 0,
    "start_time": "2024-12-28T17:17:26.358Z"
   },
   {
    "duration": 0,
    "start_time": "2024-12-28T17:17:26.359Z"
   },
   {
    "duration": 0,
    "start_time": "2024-12-28T17:17:26.360Z"
   },
   {
    "duration": 0,
    "start_time": "2024-12-28T17:17:26.362Z"
   },
   {
    "duration": 0,
    "start_time": "2024-12-28T17:17:26.363Z"
   },
   {
    "duration": 0,
    "start_time": "2024-12-28T17:17:26.364Z"
   },
   {
    "duration": 0,
    "start_time": "2024-12-28T17:17:26.365Z"
   },
   {
    "duration": 0,
    "start_time": "2024-12-28T17:17:26.366Z"
   },
   {
    "duration": 0,
    "start_time": "2024-12-28T17:17:26.366Z"
   },
   {
    "duration": 0,
    "start_time": "2024-12-28T17:17:26.367Z"
   },
   {
    "duration": 0,
    "start_time": "2024-12-28T17:17:26.368Z"
   },
   {
    "duration": 0,
    "start_time": "2024-12-28T17:17:26.369Z"
   },
   {
    "duration": 0,
    "start_time": "2024-12-28T17:17:26.370Z"
   },
   {
    "duration": 0,
    "start_time": "2024-12-28T17:17:26.371Z"
   },
   {
    "duration": 0,
    "start_time": "2024-12-28T17:17:26.372Z"
   },
   {
    "duration": 0,
    "start_time": "2024-12-28T17:17:26.372Z"
   },
   {
    "duration": 0,
    "start_time": "2024-12-28T17:17:26.373Z"
   },
   {
    "duration": 0,
    "start_time": "2024-12-28T17:17:26.374Z"
   },
   {
    "duration": 0,
    "start_time": "2024-12-28T17:17:26.375Z"
   },
   {
    "duration": 0,
    "start_time": "2024-12-28T17:17:26.376Z"
   },
   {
    "duration": 0,
    "start_time": "2024-12-28T17:17:26.377Z"
   },
   {
    "duration": 0,
    "start_time": "2024-12-28T17:17:26.378Z"
   },
   {
    "duration": 0,
    "start_time": "2024-12-28T17:17:26.422Z"
   },
   {
    "duration": 0,
    "start_time": "2024-12-28T17:17:26.423Z"
   },
   {
    "duration": 0,
    "start_time": "2024-12-28T17:17:26.424Z"
   },
   {
    "duration": 0,
    "start_time": "2024-12-28T17:17:26.425Z"
   },
   {
    "duration": 0,
    "start_time": "2024-12-28T17:17:26.426Z"
   },
   {
    "duration": 0,
    "start_time": "2024-12-28T17:17:26.427Z"
   },
   {
    "duration": 0,
    "start_time": "2024-12-28T17:17:26.428Z"
   },
   {
    "duration": 0,
    "start_time": "2024-12-28T17:17:26.429Z"
   },
   {
    "duration": 0,
    "start_time": "2024-12-28T17:17:26.430Z"
   },
   {
    "duration": 0,
    "start_time": "2024-12-28T17:17:26.431Z"
   },
   {
    "duration": 0,
    "start_time": "2024-12-28T17:17:26.432Z"
   },
   {
    "duration": 0,
    "start_time": "2024-12-28T17:17:26.434Z"
   },
   {
    "duration": 12851,
    "start_time": "2024-12-28T17:17:45.792Z"
   },
   {
    "duration": 1595,
    "start_time": "2024-12-28T17:17:58.646Z"
   },
   {
    "duration": 4,
    "start_time": "2024-12-28T17:18:00.242Z"
   },
   {
    "duration": 56,
    "start_time": "2024-12-28T17:18:00.247Z"
   },
   {
    "duration": 51,
    "start_time": "2024-12-28T17:18:00.305Z"
   },
   {
    "duration": 69,
    "start_time": "2024-12-28T17:18:00.357Z"
   },
   {
    "duration": 879,
    "start_time": "2024-12-28T17:18:00.427Z"
   },
   {
    "duration": 148,
    "start_time": "2024-12-28T17:18:01.308Z"
   },
   {
    "duration": 3,
    "start_time": "2024-12-28T17:18:01.458Z"
   },
   {
    "duration": 619,
    "start_time": "2024-12-28T17:18:01.463Z"
   },
   {
    "duration": 528,
    "start_time": "2024-12-28T17:18:02.084Z"
   },
   {
    "duration": 40,
    "start_time": "2024-12-28T17:18:02.613Z"
   },
   {
    "duration": 54,
    "start_time": "2024-12-28T17:18:02.655Z"
   },
   {
    "duration": 144,
    "start_time": "2024-12-28T17:18:02.712Z"
   },
   {
    "duration": 277,
    "start_time": "2024-12-28T17:18:02.857Z"
   },
   {
    "duration": 376,
    "start_time": "2024-12-28T17:18:03.136Z"
   },
   {
    "duration": 257,
    "start_time": "2024-12-28T17:18:03.514Z"
   },
   {
    "duration": 83,
    "start_time": "2024-12-28T17:18:03.772Z"
   },
   {
    "duration": 36,
    "start_time": "2024-12-28T17:18:03.857Z"
   },
   {
    "duration": 177,
    "start_time": "2024-12-28T17:18:03.895Z"
   },
   {
    "duration": 60,
    "start_time": "2024-12-28T17:18:04.074Z"
   },
   {
    "duration": 48,
    "start_time": "2024-12-28T17:18:04.135Z"
   },
   {
    "duration": 87,
    "start_time": "2024-12-28T17:18:04.185Z"
   },
   {
    "duration": 20,
    "start_time": "2024-12-28T17:18:04.273Z"
   },
   {
    "duration": 22,
    "start_time": "2024-12-28T17:18:04.294Z"
   },
   {
    "duration": 51,
    "start_time": "2024-12-28T17:18:04.322Z"
   },
   {
    "duration": 95,
    "start_time": "2024-12-28T17:18:04.374Z"
   },
   {
    "duration": 10,
    "start_time": "2024-12-28T17:18:04.471Z"
   },
   {
    "duration": 7617,
    "start_time": "2024-12-28T17:18:11.774Z"
   },
   {
    "duration": 1579,
    "start_time": "2024-12-28T17:18:19.393Z"
   },
   {
    "duration": 4,
    "start_time": "2024-12-28T17:18:20.973Z"
   },
   {
    "duration": 35,
    "start_time": "2024-12-28T17:18:20.978Z"
   },
   {
    "duration": 34,
    "start_time": "2024-12-28T17:18:21.014Z"
   },
   {
    "duration": 83,
    "start_time": "2024-12-28T17:18:21.049Z"
   },
   {
    "duration": 840,
    "start_time": "2024-12-28T17:18:21.133Z"
   },
   {
    "duration": 140,
    "start_time": "2024-12-28T17:18:21.974Z"
   },
   {
    "duration": 4,
    "start_time": "2024-12-28T17:18:22.121Z"
   },
   {
    "duration": 600,
    "start_time": "2024-12-28T17:18:22.127Z"
   },
   {
    "duration": 479,
    "start_time": "2024-12-28T17:18:22.728Z"
   },
   {
    "duration": 39,
    "start_time": "2024-12-28T17:18:23.209Z"
   },
   {
    "duration": 10,
    "start_time": "2024-12-28T17:18:23.250Z"
   },
   {
    "duration": 121,
    "start_time": "2024-12-28T17:18:23.261Z"
   },
   {
    "duration": 250,
    "start_time": "2024-12-28T17:18:23.383Z"
   },
   {
    "duration": 370,
    "start_time": "2024-12-28T17:18:23.635Z"
   },
   {
    "duration": 252,
    "start_time": "2024-12-28T17:18:24.006Z"
   },
   {
    "duration": 88,
    "start_time": "2024-12-28T17:18:24.259Z"
   },
   {
    "duration": 37,
    "start_time": "2024-12-28T17:18:24.349Z"
   },
   {
    "duration": 177,
    "start_time": "2024-12-28T17:18:24.387Z"
   },
   {
    "duration": 62,
    "start_time": "2024-12-28T17:18:24.566Z"
   },
   {
    "duration": 45,
    "start_time": "2024-12-28T17:18:24.630Z"
   },
   {
    "duration": 91,
    "start_time": "2024-12-28T17:18:24.677Z"
   },
   {
    "duration": 8,
    "start_time": "2024-12-28T17:18:24.770Z"
   },
   {
    "duration": 28,
    "start_time": "2024-12-28T17:18:24.779Z"
   },
   {
    "duration": 60,
    "start_time": "2024-12-28T17:18:24.808Z"
   },
   {
    "duration": 92,
    "start_time": "2024-12-28T17:18:24.869Z"
   },
   {
    "duration": 2,
    "start_time": "2024-12-28T17:18:24.965Z"
   },
   {
    "duration": 5826,
    "start_time": "2024-12-28T17:18:24.969Z"
   },
   {
    "duration": 29,
    "start_time": "2024-12-28T17:18:30.797Z"
   },
   {
    "duration": 102,
    "start_time": "2024-12-28T17:18:30.828Z"
   },
   {
    "duration": 10,
    "start_time": "2024-12-28T17:18:30.931Z"
   },
   {
    "duration": 45,
    "start_time": "2024-12-28T17:18:30.942Z"
   },
   {
    "duration": 133,
    "start_time": "2024-12-28T17:18:30.989Z"
   },
   {
    "duration": 268,
    "start_time": "2024-12-28T17:18:31.124Z"
   },
   {
    "duration": 82,
    "start_time": "2024-12-28T17:18:31.394Z"
   },
   {
    "duration": 17,
    "start_time": "2024-12-28T17:18:31.478Z"
   },
   {
    "duration": 168,
    "start_time": "2024-12-28T17:18:31.497Z"
   },
   {
    "duration": 112,
    "start_time": "2024-12-28T17:18:31.667Z"
   },
   {
    "duration": 0,
    "start_time": "2024-12-28T17:18:31.781Z"
   },
   {
    "duration": 0,
    "start_time": "2024-12-28T17:18:31.783Z"
   },
   {
    "duration": 0,
    "start_time": "2024-12-28T17:18:31.784Z"
   },
   {
    "duration": 0,
    "start_time": "2024-12-28T17:18:31.785Z"
   },
   {
    "duration": 0,
    "start_time": "2024-12-28T17:18:31.787Z"
   },
   {
    "duration": 23831,
    "start_time": "2024-12-28T17:20:23.006Z"
   },
   {
    "duration": 1625,
    "start_time": "2024-12-28T17:20:46.839Z"
   },
   {
    "duration": 4,
    "start_time": "2024-12-28T17:20:48.466Z"
   },
   {
    "duration": 15,
    "start_time": "2024-12-28T17:20:48.472Z"
   },
   {
    "duration": 5,
    "start_time": "2024-12-28T17:20:48.489Z"
   },
   {
    "duration": 3,
    "start_time": "2024-12-28T17:20:48.495Z"
   },
   {
    "duration": 842,
    "start_time": "2024-12-28T17:20:48.500Z"
   },
   {
    "duration": 151,
    "start_time": "2024-12-28T17:20:49.344Z"
   },
   {
    "duration": 4,
    "start_time": "2024-12-28T17:20:49.497Z"
   },
   {
    "duration": 605,
    "start_time": "2024-12-28T17:20:49.503Z"
   },
   {
    "duration": 502,
    "start_time": "2024-12-28T17:20:50.110Z"
   },
   {
    "duration": 40,
    "start_time": "2024-12-28T17:20:50.614Z"
   },
   {
    "duration": 23,
    "start_time": "2024-12-28T17:20:50.656Z"
   },
   {
    "duration": 112,
    "start_time": "2024-12-28T17:20:50.681Z"
   },
   {
    "duration": 261,
    "start_time": "2024-12-28T17:20:50.795Z"
   },
   {
    "duration": 379,
    "start_time": "2024-12-28T17:20:51.058Z"
   },
   {
    "duration": 253,
    "start_time": "2024-12-28T17:20:51.439Z"
   },
   {
    "duration": 88,
    "start_time": "2024-12-28T17:20:51.694Z"
   },
   {
    "duration": 59,
    "start_time": "2024-12-28T17:20:51.783Z"
   },
   {
    "duration": 180,
    "start_time": "2024-12-28T17:20:51.843Z"
   },
   {
    "duration": 43,
    "start_time": "2024-12-28T17:20:52.025Z"
   },
   {
    "duration": 64,
    "start_time": "2024-12-28T17:20:52.070Z"
   },
   {
    "duration": 91,
    "start_time": "2024-12-28T17:20:52.135Z"
   },
   {
    "duration": 7,
    "start_time": "2024-12-28T17:20:52.228Z"
   },
   {
    "duration": 22,
    "start_time": "2024-12-28T17:20:52.237Z"
   },
   {
    "duration": 71,
    "start_time": "2024-12-28T17:20:52.261Z"
   },
   {
    "duration": 119,
    "start_time": "2024-12-28T17:20:52.334Z"
   },
   {
    "duration": 2,
    "start_time": "2024-12-28T17:20:52.455Z"
   },
   {
    "duration": 5934,
    "start_time": "2024-12-28T17:20:52.458Z"
   },
   {
    "duration": 28,
    "start_time": "2024-12-28T17:20:58.394Z"
   },
   {
    "duration": 68,
    "start_time": "2024-12-28T17:20:58.424Z"
   },
   {
    "duration": 8,
    "start_time": "2024-12-28T17:20:58.493Z"
   },
   {
    "duration": 36,
    "start_time": "2024-12-28T17:20:58.502Z"
   },
   {
    "duration": 133,
    "start_time": "2024-12-28T17:20:58.539Z"
   },
   {
    "duration": 267,
    "start_time": "2024-12-28T17:20:58.674Z"
   },
   {
    "duration": 85,
    "start_time": "2024-12-28T17:20:58.942Z"
   },
   {
    "duration": 3,
    "start_time": "2024-12-28T17:20:59.029Z"
   },
   {
    "duration": 78,
    "start_time": "2024-12-28T17:20:59.033Z"
   },
   {
    "duration": 3,
    "start_time": "2024-12-28T17:20:59.112Z"
   },
   {
    "duration": 68,
    "start_time": "2024-12-28T17:20:59.116Z"
   },
   {
    "duration": 155,
    "start_time": "2024-12-28T17:20:59.187Z"
   },
   {
    "duration": 4,
    "start_time": "2024-12-28T17:20:59.343Z"
   },
   {
    "duration": 5,
    "start_time": "2024-12-28T17:20:59.349Z"
   },
   {
    "duration": 410973,
    "start_time": "2024-12-28T17:20:59.355Z"
   },
   {
    "duration": 6759,
    "start_time": "2024-12-28T17:43:29.450Z"
   },
   {
    "duration": 1615,
    "start_time": "2024-12-28T17:43:36.211Z"
   },
   {
    "duration": 4,
    "start_time": "2024-12-28T17:43:37.827Z"
   },
   {
    "duration": 47,
    "start_time": "2024-12-28T17:43:37.832Z"
   },
   {
    "duration": 23,
    "start_time": "2024-12-28T17:43:37.881Z"
   },
   {
    "duration": 39,
    "start_time": "2024-12-28T17:43:37.905Z"
   },
   {
    "duration": 877,
    "start_time": "2024-12-28T17:43:37.946Z"
   },
   {
    "duration": 135,
    "start_time": "2024-12-28T17:43:38.824Z"
   },
   {
    "duration": 4,
    "start_time": "2024-12-28T17:43:38.961Z"
   },
   {
    "duration": 574,
    "start_time": "2024-12-28T17:43:38.966Z"
   },
   {
    "duration": 467,
    "start_time": "2024-12-28T17:43:39.541Z"
   },
   {
    "duration": 39,
    "start_time": "2024-12-28T17:43:40.010Z"
   },
   {
    "duration": 86,
    "start_time": "2024-12-28T17:43:40.051Z"
   },
   {
    "duration": 114,
    "start_time": "2024-12-28T17:43:40.140Z"
   },
   {
    "duration": 271,
    "start_time": "2024-12-28T17:43:40.256Z"
   },
   {
    "duration": 372,
    "start_time": "2024-12-28T17:43:40.528Z"
   },
   {
    "duration": 259,
    "start_time": "2024-12-28T17:43:40.901Z"
   },
   {
    "duration": 85,
    "start_time": "2024-12-28T17:43:41.161Z"
   },
   {
    "duration": 182,
    "start_time": "2024-12-28T17:43:41.247Z"
   },
   {
    "duration": 43,
    "start_time": "2024-12-28T17:43:41.431Z"
   },
   {
    "duration": 91,
    "start_time": "2024-12-28T17:43:41.475Z"
   },
   {
    "duration": 17,
    "start_time": "2024-12-28T17:43:41.567Z"
   },
   {
    "duration": 98,
    "start_time": "2024-12-28T17:43:41.586Z"
   },
   {
    "duration": 31,
    "start_time": "2024-12-28T17:43:41.686Z"
   },
   {
    "duration": 27,
    "start_time": "2024-12-28T17:43:41.719Z"
   },
   {
    "duration": 51,
    "start_time": "2024-12-28T17:43:41.747Z"
   },
   {
    "duration": 115,
    "start_time": "2024-12-28T17:43:41.799Z"
   },
   {
    "duration": 3,
    "start_time": "2024-12-28T17:43:41.915Z"
   },
   {
    "duration": 5707,
    "start_time": "2024-12-28T17:43:41.919Z"
   },
   {
    "duration": 21,
    "start_time": "2024-12-28T17:43:47.628Z"
   },
   {
    "duration": 8,
    "start_time": "2024-12-28T17:43:47.651Z"
   },
   {
    "duration": 30,
    "start_time": "2024-12-28T17:43:47.660Z"
   },
   {
    "duration": 119,
    "start_time": "2024-12-28T17:43:47.692Z"
   },
   {
    "duration": 235,
    "start_time": "2024-12-28T17:43:47.812Z"
   },
   {
    "duration": 74,
    "start_time": "2024-12-28T17:43:48.048Z"
   },
   {
    "duration": 2,
    "start_time": "2024-12-28T17:43:48.124Z"
   },
   {
    "duration": 65,
    "start_time": "2024-12-28T17:43:48.128Z"
   },
   {
    "duration": 9,
    "start_time": "2024-12-28T17:43:48.195Z"
   },
   {
    "duration": 5,
    "start_time": "2024-12-28T17:43:48.205Z"
   },
   {
    "duration": 168,
    "start_time": "2024-12-28T17:43:48.211Z"
   },
   {
    "duration": 4,
    "start_time": "2024-12-28T17:43:48.383Z"
   },
   {
    "duration": 20,
    "start_time": "2024-12-28T17:43:48.388Z"
   },
   {
    "duration": 356157,
    "start_time": "2024-12-28T17:43:48.409Z"
   },
   {
    "duration": 0,
    "start_time": "2024-12-28T17:49:44.568Z"
   },
   {
    "duration": 20,
    "start_time": "2024-12-28T17:52:02.559Z"
   },
   {
    "duration": 11,
    "start_time": "2024-12-28T17:56:17.104Z"
   },
   {
    "duration": 34802,
    "start_time": "2024-12-28T17:56:22.142Z"
   },
   {
    "duration": 0,
    "start_time": "2024-12-28T18:05:56.654Z"
   },
   {
    "duration": 0,
    "start_time": "2024-12-28T18:05:56.656Z"
   },
   {
    "duration": 0,
    "start_time": "2024-12-28T18:05:56.656Z"
   },
   {
    "duration": 0,
    "start_time": "2024-12-28T18:05:56.658Z"
   },
   {
    "duration": 0,
    "start_time": "2024-12-28T18:05:56.659Z"
   },
   {
    "duration": 0,
    "start_time": "2024-12-28T18:05:56.660Z"
   },
   {
    "duration": 0,
    "start_time": "2024-12-28T18:05:56.662Z"
   },
   {
    "duration": 0,
    "start_time": "2024-12-28T18:05:56.663Z"
   },
   {
    "duration": 0,
    "start_time": "2024-12-28T18:05:56.664Z"
   },
   {
    "duration": 0,
    "start_time": "2024-12-28T18:05:56.666Z"
   },
   {
    "duration": 0,
    "start_time": "2024-12-28T18:05:56.667Z"
   },
   {
    "duration": 0,
    "start_time": "2024-12-28T18:05:56.669Z"
   },
   {
    "duration": 0,
    "start_time": "2024-12-28T18:05:56.670Z"
   },
   {
    "duration": 0,
    "start_time": "2024-12-28T18:05:56.671Z"
   },
   {
    "duration": 0,
    "start_time": "2024-12-28T18:05:56.673Z"
   },
   {
    "duration": 0,
    "start_time": "2024-12-28T18:05:56.674Z"
   },
   {
    "duration": 0,
    "start_time": "2024-12-28T18:05:56.675Z"
   },
   {
    "duration": 0,
    "start_time": "2024-12-28T18:05:56.677Z"
   },
   {
    "duration": 0,
    "start_time": "2024-12-28T18:05:56.678Z"
   },
   {
    "duration": 0,
    "start_time": "2024-12-28T18:05:56.680Z"
   },
   {
    "duration": 0,
    "start_time": "2024-12-28T18:05:56.681Z"
   },
   {
    "duration": 0,
    "start_time": "2024-12-28T18:05:56.682Z"
   },
   {
    "duration": 0,
    "start_time": "2024-12-28T18:05:56.683Z"
   },
   {
    "duration": 0,
    "start_time": "2024-12-28T18:05:56.721Z"
   },
   {
    "duration": 0,
    "start_time": "2024-12-28T18:05:56.722Z"
   },
   {
    "duration": 0,
    "start_time": "2024-12-28T18:05:56.724Z"
   },
   {
    "duration": 0,
    "start_time": "2024-12-28T18:05:56.725Z"
   },
   {
    "duration": 0,
    "start_time": "2024-12-28T18:05:56.726Z"
   },
   {
    "duration": 0,
    "start_time": "2024-12-28T18:05:56.727Z"
   },
   {
    "duration": 0,
    "start_time": "2024-12-28T18:05:56.728Z"
   },
   {
    "duration": 0,
    "start_time": "2024-12-28T18:05:56.729Z"
   },
   {
    "duration": 0,
    "start_time": "2024-12-28T18:05:56.731Z"
   },
   {
    "duration": 0,
    "start_time": "2024-12-28T18:05:56.732Z"
   },
   {
    "duration": 0,
    "start_time": "2024-12-28T18:05:56.733Z"
   },
   {
    "duration": 0,
    "start_time": "2024-12-28T18:05:56.734Z"
   },
   {
    "duration": 0,
    "start_time": "2024-12-28T18:05:56.736Z"
   },
   {
    "duration": 0,
    "start_time": "2024-12-28T18:05:56.737Z"
   },
   {
    "duration": 0,
    "start_time": "2024-12-28T18:05:56.739Z"
   },
   {
    "duration": 0,
    "start_time": "2024-12-28T18:05:56.740Z"
   },
   {
    "duration": 0,
    "start_time": "2024-12-28T18:05:56.741Z"
   },
   {
    "duration": 0,
    "start_time": "2024-12-28T18:05:56.742Z"
   },
   {
    "duration": 0,
    "start_time": "2024-12-28T18:05:56.743Z"
   },
   {
    "duration": 0,
    "start_time": "2024-12-28T18:05:56.744Z"
   },
   {
    "duration": 0,
    "start_time": "2024-12-28T18:05:56.745Z"
   },
   {
    "duration": 1,
    "start_time": "2024-12-28T18:05:56.746Z"
   },
   {
    "duration": 0,
    "start_time": "2024-12-28T18:05:56.748Z"
   },
   {
    "duration": 6946,
    "start_time": "2024-12-28T18:07:48.766Z"
   },
   {
    "duration": 1553,
    "start_time": "2024-12-28T18:07:55.714Z"
   },
   {
    "duration": 3,
    "start_time": "2024-12-28T18:07:57.269Z"
   },
   {
    "duration": 36,
    "start_time": "2024-12-28T18:07:57.273Z"
   },
   {
    "duration": 5,
    "start_time": "2024-12-28T18:07:57.311Z"
   },
   {
    "duration": 8,
    "start_time": "2024-12-28T18:07:57.317Z"
   },
   {
    "duration": 818,
    "start_time": "2024-12-28T18:07:57.326Z"
   },
   {
    "duration": 144,
    "start_time": "2024-12-28T18:07:58.146Z"
   },
   {
    "duration": 14,
    "start_time": "2024-12-28T18:07:58.292Z"
   },
   {
    "duration": 574,
    "start_time": "2024-12-28T18:07:58.308Z"
   },
   {
    "duration": 475,
    "start_time": "2024-12-28T18:07:58.884Z"
   },
   {
    "duration": 38,
    "start_time": "2024-12-28T18:07:59.360Z"
   },
   {
    "duration": 23,
    "start_time": "2024-12-28T18:07:59.399Z"
   },
   {
    "duration": 113,
    "start_time": "2024-12-28T18:07:59.425Z"
   },
   {
    "duration": 256,
    "start_time": "2024-12-28T18:07:59.540Z"
   },
   {
    "duration": 381,
    "start_time": "2024-12-28T18:07:59.797Z"
   },
   {
    "duration": 243,
    "start_time": "2024-12-28T18:08:00.180Z"
   },
   {
    "duration": 81,
    "start_time": "2024-12-28T18:08:00.425Z"
   },
   {
    "duration": 192,
    "start_time": "2024-12-28T18:08:00.508Z"
   },
   {
    "duration": 51,
    "start_time": "2024-12-28T18:08:00.702Z"
   },
   {
    "duration": 88,
    "start_time": "2024-12-28T18:08:00.754Z"
   },
   {
    "duration": 17,
    "start_time": "2024-12-28T18:08:00.844Z"
   },
   {
    "duration": 93,
    "start_time": "2024-12-28T18:08:00.863Z"
   },
   {
    "duration": 75,
    "start_time": "2024-12-28T18:08:00.957Z"
   },
   {
    "duration": 14,
    "start_time": "2024-12-28T18:08:01.034Z"
   },
   {
    "duration": 35,
    "start_time": "2024-12-28T18:08:01.050Z"
   },
   {
    "duration": 50,
    "start_time": "2024-12-28T18:08:01.087Z"
   },
   {
    "duration": 92,
    "start_time": "2024-12-28T18:08:01.139Z"
   },
   {
    "duration": 15,
    "start_time": "2024-12-28T18:08:01.233Z"
   },
   {
    "duration": 5840,
    "start_time": "2024-12-28T18:08:01.250Z"
   },
   {
    "duration": 37,
    "start_time": "2024-12-28T18:08:07.091Z"
   },
   {
    "duration": 54,
    "start_time": "2024-12-28T18:08:07.130Z"
   },
   {
    "duration": 23,
    "start_time": "2024-12-28T18:08:07.186Z"
   },
   {
    "duration": 146,
    "start_time": "2024-12-28T18:08:07.210Z"
   },
   {
    "duration": 237,
    "start_time": "2024-12-28T18:08:07.358Z"
   },
   {
    "duration": 152,
    "start_time": "2024-12-28T18:08:07.597Z"
   },
   {
    "duration": 3,
    "start_time": "2024-12-28T18:08:07.751Z"
   },
   {
    "duration": 52,
    "start_time": "2024-12-28T18:08:07.755Z"
   },
   {
    "duration": 14,
    "start_time": "2024-12-28T18:08:07.808Z"
   },
   {
    "duration": 387,
    "start_time": "2024-12-28T18:08:07.823Z"
   },
   {
    "duration": 3268,
    "start_time": "2024-12-28T18:08:08.213Z"
   },
   {
    "duration": 82,
    "start_time": "2024-12-28T18:08:11.483Z"
   },
   {
    "duration": 133,
    "start_time": "2024-12-28T18:08:11.566Z"
   },
   {
    "duration": 3,
    "start_time": "2024-12-28T18:08:11.701Z"
   },
   {
    "duration": 4,
    "start_time": "2024-12-28T18:08:11.706Z"
   },
   {
    "duration": 17,
    "start_time": "2024-12-28T18:08:11.711Z"
   },
   {
    "duration": 106,
    "start_time": "2024-12-28T18:08:45.002Z"
   },
   {
    "duration": 884,
    "start_time": "2024-12-28T18:09:23.061Z"
   },
   {
    "duration": 3068,
    "start_time": "2024-12-28T18:09:23.946Z"
   },
   {
    "duration": 123,
    "start_time": "2024-12-28T18:09:27.016Z"
   },
   {
    "duration": 6728,
    "start_time": "2024-12-28T18:45:30.767Z"
   },
   {
    "duration": 1662,
    "start_time": "2024-12-28T18:45:37.497Z"
   },
   {
    "duration": 4,
    "start_time": "2024-12-28T18:45:39.160Z"
   },
   {
    "duration": 14,
    "start_time": "2024-12-28T18:45:39.165Z"
   },
   {
    "duration": 6,
    "start_time": "2024-12-28T18:45:39.180Z"
   },
   {
    "duration": 3,
    "start_time": "2024-12-28T18:45:39.188Z"
   },
   {
    "duration": 858,
    "start_time": "2024-12-28T18:45:39.192Z"
   },
   {
    "duration": 165,
    "start_time": "2024-12-28T18:45:40.051Z"
   },
   {
    "duration": 6,
    "start_time": "2024-12-28T18:45:40.217Z"
   },
   {
    "duration": 590,
    "start_time": "2024-12-28T18:45:40.225Z"
   },
   {
    "duration": 494,
    "start_time": "2024-12-28T18:45:40.821Z"
   },
   {
    "duration": 40,
    "start_time": "2024-12-28T18:45:41.316Z"
   },
   {
    "duration": 77,
    "start_time": "2024-12-28T18:45:41.357Z"
   },
   {
    "duration": 117,
    "start_time": "2024-12-28T18:45:41.435Z"
   },
   {
    "duration": 257,
    "start_time": "2024-12-28T18:45:41.553Z"
   },
   {
    "duration": 371,
    "start_time": "2024-12-28T18:45:41.811Z"
   },
   {
    "duration": 280,
    "start_time": "2024-12-28T18:45:42.184Z"
   },
   {
    "duration": 77,
    "start_time": "2024-12-28T18:45:42.466Z"
   },
   {
    "duration": 178,
    "start_time": "2024-12-28T18:45:42.545Z"
   },
   {
    "duration": 41,
    "start_time": "2024-12-28T18:45:42.725Z"
   },
   {
    "duration": 81,
    "start_time": "2024-12-28T18:45:42.767Z"
   },
   {
    "duration": 16,
    "start_time": "2024-12-28T18:45:42.849Z"
   },
   {
    "duration": 70,
    "start_time": "2024-12-28T18:45:42.867Z"
   },
   {
    "duration": 85,
    "start_time": "2024-12-28T18:45:42.939Z"
   },
   {
    "duration": 8,
    "start_time": "2024-12-28T18:45:43.025Z"
   },
   {
    "duration": 21,
    "start_time": "2024-12-28T18:45:43.034Z"
   },
   {
    "duration": 68,
    "start_time": "2024-12-28T18:45:43.057Z"
   },
   {
    "duration": 93,
    "start_time": "2024-12-28T18:45:43.129Z"
   },
   {
    "duration": 3,
    "start_time": "2024-12-28T18:45:43.223Z"
   },
   {
    "duration": 5782,
    "start_time": "2024-12-28T18:45:43.227Z"
   },
   {
    "duration": 37,
    "start_time": "2024-12-28T18:45:49.010Z"
   },
   {
    "duration": 13,
    "start_time": "2024-12-28T18:45:49.049Z"
   },
   {
    "duration": 38,
    "start_time": "2024-12-28T18:45:49.064Z"
   },
   {
    "duration": 120,
    "start_time": "2024-12-28T18:45:49.105Z"
   },
   {
    "duration": 239,
    "start_time": "2024-12-28T18:45:49.226Z"
   },
   {
    "duration": 70,
    "start_time": "2024-12-28T18:45:49.467Z"
   },
   {
    "duration": 3,
    "start_time": "2024-12-28T18:45:49.539Z"
   },
   {
    "duration": 172,
    "start_time": "2024-12-28T18:45:49.543Z"
   },
   {
    "duration": 6,
    "start_time": "2024-12-28T18:45:49.716Z"
   },
   {
    "duration": 114,
    "start_time": "2024-12-28T18:45:49.724Z"
   },
   {
    "duration": 0,
    "start_time": "2024-12-28T18:45:49.839Z"
   },
   {
    "duration": 0,
    "start_time": "2024-12-28T18:45:49.841Z"
   },
   {
    "duration": 0,
    "start_time": "2024-12-28T18:45:49.841Z"
   },
   {
    "duration": 0,
    "start_time": "2024-12-28T18:45:49.842Z"
   },
   {
    "duration": 137,
    "start_time": "2024-12-28T18:46:37.770Z"
   },
   {
    "duration": 91,
    "start_time": "2024-12-28T18:46:39.786Z"
   },
   {
    "duration": 92,
    "start_time": "2024-12-28T18:47:27.054Z"
   },
   {
    "duration": 91792,
    "start_time": "2024-12-28T18:47:41.399Z"
   },
   {
    "duration": 36199,
    "start_time": "2024-12-28T18:49:21.862Z"
   },
   {
    "duration": 20009,
    "start_time": "2024-12-28T18:50:04.488Z"
   },
   {
    "duration": 87,
    "start_time": "2024-12-28T18:50:24.499Z"
   },
   {
    "duration": 79,
    "start_time": "2024-12-28T18:50:24.588Z"
   },
   {
    "duration": 7,
    "start_time": "2024-12-28T18:50:24.669Z"
   },
   {
    "duration": 6828,
    "start_time": "2024-12-28T18:51:32.513Z"
   },
   {
    "duration": 1581,
    "start_time": "2024-12-28T18:51:39.344Z"
   },
   {
    "duration": 3,
    "start_time": "2024-12-28T18:51:40.927Z"
   },
   {
    "duration": 13,
    "start_time": "2024-12-28T18:51:40.932Z"
   },
   {
    "duration": 12,
    "start_time": "2024-12-28T18:51:40.947Z"
   },
   {
    "duration": 18,
    "start_time": "2024-12-28T18:51:40.960Z"
   },
   {
    "duration": 829,
    "start_time": "2024-12-28T18:51:40.980Z"
   },
   {
    "duration": 158,
    "start_time": "2024-12-28T18:51:41.811Z"
   },
   {
    "duration": 4,
    "start_time": "2024-12-28T18:51:41.971Z"
   },
   {
    "duration": 623,
    "start_time": "2024-12-28T18:51:41.977Z"
   },
   {
    "duration": 490,
    "start_time": "2024-12-28T18:51:42.601Z"
   },
   {
    "duration": 41,
    "start_time": "2024-12-28T18:51:43.093Z"
   },
   {
    "duration": 11,
    "start_time": "2024-12-28T18:51:43.135Z"
   },
   {
    "duration": 125,
    "start_time": "2024-12-28T18:51:43.147Z"
   },
   {
    "duration": 259,
    "start_time": "2024-12-28T18:51:43.273Z"
   },
   {
    "duration": 389,
    "start_time": "2024-12-28T18:51:43.533Z"
   },
   {
    "duration": 253,
    "start_time": "2024-12-28T18:51:43.923Z"
   },
   {
    "duration": 88,
    "start_time": "2024-12-28T18:51:44.177Z"
   },
   {
    "duration": 185,
    "start_time": "2024-12-28T18:51:44.267Z"
   },
   {
    "duration": 43,
    "start_time": "2024-12-28T18:51:44.454Z"
   },
   {
    "duration": 88,
    "start_time": "2024-12-28T18:51:44.499Z"
   },
   {
    "duration": 33,
    "start_time": "2024-12-28T18:51:44.589Z"
   },
   {
    "duration": 76,
    "start_time": "2024-12-28T18:51:44.623Z"
   },
   {
    "duration": 75,
    "start_time": "2024-12-28T18:51:44.700Z"
   },
   {
    "duration": 27,
    "start_time": "2024-12-28T18:51:44.777Z"
   },
   {
    "duration": 44,
    "start_time": "2024-12-28T18:51:44.806Z"
   },
   {
    "duration": 46,
    "start_time": "2024-12-28T18:51:44.851Z"
   },
   {
    "duration": 79,
    "start_time": "2024-12-28T18:51:44.900Z"
   },
   {
    "duration": 2,
    "start_time": "2024-12-28T18:51:44.981Z"
   },
   {
    "duration": 5879,
    "start_time": "2024-12-28T18:51:44.985Z"
   },
   {
    "duration": 23,
    "start_time": "2024-12-28T18:51:50.865Z"
   },
   {
    "duration": 9,
    "start_time": "2024-12-28T18:51:50.889Z"
   },
   {
    "duration": 34,
    "start_time": "2024-12-28T18:51:50.900Z"
   },
   {
    "duration": 116,
    "start_time": "2024-12-28T18:51:50.936Z"
   },
   {
    "duration": 248,
    "start_time": "2024-12-28T18:51:51.054Z"
   },
   {
    "duration": 68,
    "start_time": "2024-12-28T18:51:51.303Z"
   },
   {
    "duration": 89,
    "start_time": "2024-12-28T18:51:51.373Z"
   },
   {
    "duration": 62,
    "start_time": "2024-12-28T18:51:51.463Z"
   },
   {
    "duration": 3,
    "start_time": "2024-12-28T18:51:51.526Z"
   },
   {
    "duration": 154,
    "start_time": "2024-12-28T18:51:51.531Z"
   },
   {
    "duration": 36367,
    "start_time": "2024-12-28T18:51:51.687Z"
   },
   {
    "duration": 3,
    "start_time": "2024-12-28T18:52:28.055Z"
   },
   {
    "duration": 183,
    "start_time": "2024-12-28T18:52:28.060Z"
   },
   {
    "duration": 9,
    "start_time": "2024-12-28T18:52:28.244Z"
   },
   {
    "duration": 85,
    "start_time": "2024-12-28T18:53:45.505Z"
   },
   {
    "duration": 3,
    "start_time": "2024-12-28T18:54:10.751Z"
   },
   {
    "duration": 61663,
    "start_time": "2024-12-28T18:54:20.647Z"
   },
   {
    "duration": 11,
    "start_time": "2024-12-28T18:55:22.312Z"
   },
   {
    "duration": 1829,
    "start_time": "2024-12-28T18:57:37.515Z"
   },
   {
    "duration": 548,
    "start_time": "2024-12-28T18:58:00.106Z"
   },
   {
    "duration": 4,
    "start_time": "2024-12-28T18:58:20.045Z"
   },
   {
    "duration": 3,
    "start_time": "2024-12-28T18:58:53.503Z"
   },
   {
    "duration": 6,
    "start_time": "2024-12-28T18:58:58.269Z"
   },
   {
    "duration": 19395,
    "start_time": "2025-01-04T02:59:48.482Z"
   },
   {
    "duration": 1838,
    "start_time": "2025-01-04T03:00:07.880Z"
   },
   {
    "duration": 3,
    "start_time": "2025-01-04T03:00:09.720Z"
   },
   {
    "duration": 120,
    "start_time": "2025-01-04T03:00:09.726Z"
   },
   {
    "duration": 26,
    "start_time": "2025-01-04T03:00:09.848Z"
   },
   {
    "duration": 13,
    "start_time": "2025-01-04T03:00:09.876Z"
   },
   {
    "duration": 3101,
    "start_time": "2025-01-04T03:00:09.891Z"
   },
   {
    "duration": 149,
    "start_time": "2025-01-04T03:00:12.994Z"
   },
   {
    "duration": 5,
    "start_time": "2025-01-04T03:00:13.145Z"
   },
   {
    "duration": 636,
    "start_time": "2025-01-04T03:00:13.152Z"
   },
   {
    "duration": 544,
    "start_time": "2025-01-04T03:00:13.789Z"
   },
   {
    "duration": 34,
    "start_time": "2025-01-04T03:00:14.335Z"
   },
   {
    "duration": 92,
    "start_time": "2025-01-04T03:00:14.371Z"
   },
   {
    "duration": 114,
    "start_time": "2025-01-04T03:00:14.465Z"
   },
   {
    "duration": 255,
    "start_time": "2025-01-04T03:00:14.581Z"
   },
   {
    "duration": 417,
    "start_time": "2025-01-04T03:00:14.838Z"
   },
   {
    "duration": 260,
    "start_time": "2025-01-04T03:00:15.257Z"
   },
   {
    "duration": 99,
    "start_time": "2025-01-04T03:00:15.519Z"
   },
   {
    "duration": 253,
    "start_time": "2025-01-04T03:00:15.619Z"
   },
   {
    "duration": 70,
    "start_time": "2025-01-04T03:00:15.874Z"
   },
   {
    "duration": 82,
    "start_time": "2025-01-04T03:00:15.946Z"
   },
   {
    "duration": 20,
    "start_time": "2025-01-04T03:00:16.030Z"
   },
   {
    "duration": 86,
    "start_time": "2025-01-04T03:00:16.051Z"
   },
   {
    "duration": 87,
    "start_time": "2025-01-04T03:00:16.138Z"
   },
   {
    "duration": 18,
    "start_time": "2025-01-04T03:00:16.227Z"
   },
   {
    "duration": 26,
    "start_time": "2025-01-04T03:00:16.247Z"
   },
   {
    "duration": 61,
    "start_time": "2025-01-04T03:00:16.275Z"
   },
   {
    "duration": 95,
    "start_time": "2025-01-04T03:00:16.341Z"
   },
   {
    "duration": 40,
    "start_time": "2025-01-04T03:00:16.438Z"
   },
   {
    "duration": 6031,
    "start_time": "2025-01-04T03:00:16.480Z"
   },
   {
    "duration": 23,
    "start_time": "2025-01-04T03:00:22.514Z"
   },
   {
    "duration": 8,
    "start_time": "2025-01-04T03:00:22.539Z"
   },
   {
    "duration": 20,
    "start_time": "2025-01-04T03:00:22.548Z"
   },
   {
    "duration": 137,
    "start_time": "2025-01-04T03:00:22.570Z"
   },
   {
    "duration": 258,
    "start_time": "2025-01-04T03:00:22.708Z"
   },
   {
    "duration": 73,
    "start_time": "2025-01-04T03:00:22.967Z"
   },
   {
    "duration": 17,
    "start_time": "2025-01-04T03:00:23.042Z"
   },
   {
    "duration": 153,
    "start_time": "2025-01-04T03:00:23.061Z"
   },
   {
    "duration": 4,
    "start_time": "2025-01-04T03:00:23.216Z"
   },
   {
    "duration": 141,
    "start_time": "2025-01-04T03:00:23.222Z"
   },
   {
    "duration": 301063,
    "start_time": "2025-01-04T03:00:23.365Z"
   },
   {
    "duration": 9199,
    "start_time": "2025-01-04T03:05:24.430Z"
   },
   {
    "duration": 232,
    "start_time": "2025-01-04T03:05:33.631Z"
   },
   {
    "duration": 10,
    "start_time": "2025-01-04T03:05:33.865Z"
   },
   {
    "duration": 19030,
    "start_time": "2025-01-11T12:57:36.046Z"
   },
   {
    "duration": 1861,
    "start_time": "2025-01-11T12:57:55.078Z"
   },
   {
    "duration": 3,
    "start_time": "2025-01-11T12:57:56.941Z"
   },
   {
    "duration": 21,
    "start_time": "2025-01-11T12:57:56.947Z"
   },
   {
    "duration": 25,
    "start_time": "2025-01-11T12:57:56.970Z"
   },
   {
    "duration": 4,
    "start_time": "2025-01-11T12:57:56.997Z"
   },
   {
    "duration": 3017,
    "start_time": "2025-01-11T12:57:57.003Z"
   },
   {
    "duration": 155,
    "start_time": "2025-01-11T12:58:00.022Z"
   },
   {
    "duration": 4,
    "start_time": "2025-01-11T12:58:00.178Z"
   },
   {
    "duration": 680,
    "start_time": "2025-01-11T12:58:00.185Z"
   },
   {
    "duration": 590,
    "start_time": "2025-01-11T12:58:00.867Z"
   },
   {
    "duration": 41,
    "start_time": "2025-01-11T12:58:01.459Z"
   },
   {
    "duration": 19,
    "start_time": "2025-01-11T12:58:01.502Z"
   },
   {
    "duration": 204,
    "start_time": "2025-01-11T12:58:01.524Z"
   },
   {
    "duration": 287,
    "start_time": "2025-01-11T12:58:01.729Z"
   },
   {
    "duration": 429,
    "start_time": "2025-01-11T12:58:02.018Z"
   },
   {
    "duration": 291,
    "start_time": "2025-01-11T12:58:02.449Z"
   },
   {
    "duration": 101,
    "start_time": "2025-01-11T12:58:02.742Z"
   },
   {
    "duration": 198,
    "start_time": "2025-01-11T12:58:02.845Z"
   },
   {
    "duration": 49,
    "start_time": "2025-01-11T12:58:03.044Z"
   },
   {
    "duration": 97,
    "start_time": "2025-01-11T12:58:03.095Z"
   },
   {
    "duration": 19,
    "start_time": "2025-01-11T12:58:03.194Z"
   },
   {
    "duration": 84,
    "start_time": "2025-01-11T12:58:03.215Z"
   },
   {
    "duration": 88,
    "start_time": "2025-01-11T12:58:03.300Z"
   },
   {
    "duration": 7,
    "start_time": "2025-01-11T12:58:03.390Z"
   },
   {
    "duration": 39,
    "start_time": "2025-01-11T12:58:03.398Z"
   },
   {
    "duration": 51,
    "start_time": "2025-01-11T12:58:03.439Z"
   },
   {
    "duration": 97,
    "start_time": "2025-01-11T12:58:03.494Z"
   },
   {
    "duration": 2,
    "start_time": "2025-01-11T12:58:03.593Z"
   },
   {
    "duration": 6114,
    "start_time": "2025-01-11T12:58:03.597Z"
   },
   {
    "duration": 32,
    "start_time": "2025-01-11T12:58:09.712Z"
   },
   {
    "duration": 9,
    "start_time": "2025-01-11T12:58:09.746Z"
   },
   {
    "duration": 19,
    "start_time": "2025-01-11T12:58:09.756Z"
   },
   {
    "duration": 141,
    "start_time": "2025-01-11T12:58:09.777Z"
   },
   {
    "duration": 263,
    "start_time": "2025-01-11T12:58:09.919Z"
   },
   {
    "duration": 78,
    "start_time": "2025-01-11T12:58:10.183Z"
   },
   {
    "duration": 3,
    "start_time": "2025-01-11T12:58:10.262Z"
   },
   {
    "duration": 73,
    "start_time": "2025-01-11T12:58:10.267Z"
   },
   {
    "duration": 5,
    "start_time": "2025-01-11T12:58:10.342Z"
   },
   {
    "duration": 210,
    "start_time": "2025-01-11T12:58:10.348Z"
   },
   {
    "duration": 313779,
    "start_time": "2025-01-11T12:58:10.560Z"
   },
   {
    "duration": 9309,
    "start_time": "2025-01-11T13:03:24.341Z"
   },
   {
    "duration": 232,
    "start_time": "2025-01-11T13:03:33.652Z"
   },
   {
    "duration": 11,
    "start_time": "2025-01-11T13:03:33.886Z"
   },
   {
    "duration": 806,
    "start_time": "2025-01-11T13:43:04.145Z"
   },
   {
    "duration": 6,
    "start_time": "2025-01-11T13:43:51.410Z"
   },
   {
    "duration": 6,
    "start_time": "2025-01-11T13:44:54.749Z"
   },
   {
    "duration": 5,
    "start_time": "2025-01-11T13:45:03.575Z"
   },
   {
    "duration": 58,
    "start_time": "2025-01-12T02:39:33.900Z"
   },
   {
    "duration": 20450,
    "start_time": "2025-01-12T02:45:07.683Z"
   },
   {
    "duration": 1919,
    "start_time": "2025-01-12T02:45:28.136Z"
   },
   {
    "duration": 4,
    "start_time": "2025-01-12T02:45:30.057Z"
   },
   {
    "duration": 17,
    "start_time": "2025-01-12T02:45:30.063Z"
   },
   {
    "duration": 21,
    "start_time": "2025-01-12T02:45:30.082Z"
   },
   {
    "duration": 13,
    "start_time": "2025-01-12T02:45:30.105Z"
   },
   {
    "duration": 3176,
    "start_time": "2025-01-12T02:45:30.119Z"
   },
   {
    "duration": 162,
    "start_time": "2025-01-12T02:45:33.296Z"
   },
   {
    "duration": 4,
    "start_time": "2025-01-12T02:45:33.460Z"
   },
   {
    "duration": 685,
    "start_time": "2025-01-12T02:45:33.466Z"
   },
   {
    "duration": 558,
    "start_time": "2025-01-12T02:45:34.153Z"
   },
   {
    "duration": 41,
    "start_time": "2025-01-12T02:45:34.715Z"
   },
   {
    "duration": 50,
    "start_time": "2025-01-12T02:45:34.758Z"
   },
   {
    "duration": 124,
    "start_time": "2025-01-12T02:45:34.812Z"
   },
   {
    "duration": 317,
    "start_time": "2025-01-12T02:45:34.937Z"
   },
   {
    "duration": 411,
    "start_time": "2025-01-12T02:45:35.256Z"
   },
   {
    "duration": 289,
    "start_time": "2025-01-12T02:45:35.669Z"
   },
   {
    "duration": 97,
    "start_time": "2025-01-12T02:45:35.960Z"
   },
   {
    "duration": 210,
    "start_time": "2025-01-12T02:45:36.059Z"
   },
   {
    "duration": 73,
    "start_time": "2025-01-12T02:45:36.270Z"
   },
   {
    "duration": 82,
    "start_time": "2025-01-12T02:45:36.345Z"
   },
   {
    "duration": 18,
    "start_time": "2025-01-12T02:45:36.428Z"
   },
   {
    "duration": 102,
    "start_time": "2025-01-12T02:45:36.447Z"
   },
   {
    "duration": 107,
    "start_time": "2025-01-12T02:45:36.551Z"
   },
   {
    "duration": 26,
    "start_time": "2025-01-12T02:45:36.660Z"
   },
   {
    "duration": 56,
    "start_time": "2025-01-12T02:45:36.687Z"
   },
   {
    "duration": 139,
    "start_time": "2025-01-12T02:45:36.745Z"
   },
   {
    "duration": 89,
    "start_time": "2025-01-12T02:45:36.886Z"
   },
   {
    "duration": 3,
    "start_time": "2025-01-12T02:45:36.977Z"
   },
   {
    "duration": 6379,
    "start_time": "2025-01-12T02:45:36.981Z"
   },
   {
    "duration": 24,
    "start_time": "2025-01-12T02:45:43.361Z"
   },
   {
    "duration": 9,
    "start_time": "2025-01-12T02:45:43.387Z"
   },
   {
    "duration": 38,
    "start_time": "2025-01-12T02:45:43.397Z"
   },
   {
    "duration": 129,
    "start_time": "2025-01-12T02:45:43.437Z"
   },
   {
    "duration": 261,
    "start_time": "2025-01-12T02:45:43.568Z"
   },
   {
    "duration": 67,
    "start_time": "2025-01-12T02:45:43.830Z"
   },
   {
    "duration": 2,
    "start_time": "2025-01-12T02:45:43.899Z"
   },
   {
    "duration": 73,
    "start_time": "2025-01-12T02:45:43.902Z"
   },
   {
    "duration": 3,
    "start_time": "2025-01-12T02:45:43.977Z"
   },
   {
    "duration": 169,
    "start_time": "2025-01-12T02:45:43.982Z"
   },
   {
    "duration": 2614785,
    "start_time": "2025-01-12T02:45:44.156Z"
   },
   {
    "duration": 109185,
    "start_time": "2025-01-12T03:29:18.942Z"
   },
   {
    "duration": 798,
    "start_time": "2025-01-12T03:31:08.129Z"
   },
   {
    "duration": 6,
    "start_time": "2025-01-12T03:31:08.930Z"
   },
   {
    "duration": 171,
    "start_time": "2025-01-12T03:31:08.938Z"
   },
   {
    "duration": 0,
    "start_time": "2025-01-12T03:31:09.111Z"
   },
   {
    "duration": 0,
    "start_time": "2025-01-12T03:31:09.112Z"
   },
   {
    "duration": 0,
    "start_time": "2025-01-12T03:31:09.114Z"
   },
   {
    "duration": 0,
    "start_time": "2025-01-12T03:31:09.115Z"
   },
   {
    "duration": 5,
    "start_time": "2025-01-12T03:37:46.992Z"
   },
   {
    "duration": 389,
    "start_time": "2025-01-12T03:37:53.280Z"
   },
   {
    "duration": 6,
    "start_time": "2025-01-12T03:37:54.041Z"
   },
   {
    "duration": 108,
    "start_time": "2025-01-12T03:38:08.461Z"
   },
   {
    "duration": 14,
    "start_time": "2025-01-12T03:38:23.302Z"
   },
   {
    "duration": 333,
    "start_time": "2025-01-12T03:38:29.901Z"
   },
   {
    "duration": 291,
    "start_time": "2025-01-12T03:39:01.350Z"
   },
   {
    "duration": 5796,
    "start_time": "2025-01-12T03:40:09.135Z"
   },
   {
    "duration": 255,
    "start_time": "2025-01-12T03:40:14.934Z"
   },
   {
    "duration": 742,
    "start_time": "2025-01-12T03:40:15.191Z"
   },
   {
    "duration": 4,
    "start_time": "2025-01-12T03:40:15.936Z"
   },
   {
    "duration": 447,
    "start_time": "2025-01-12T03:44:06.875Z"
   },
   {
    "duration": 5946,
    "start_time": "2025-01-12T03:44:07.324Z"
   },
   {
    "duration": 358,
    "start_time": "2025-01-12T03:44:13.272Z"
   },
   {
    "duration": 806,
    "start_time": "2025-01-12T03:44:13.633Z"
   },
   {
    "duration": 6,
    "start_time": "2025-01-12T03:44:14.441Z"
   },
   {
    "duration": 399,
    "start_time": "2025-01-12T03:44:45.788Z"
   },
   {
    "duration": 5895,
    "start_time": "2025-01-12T03:44:46.189Z"
   },
   {
    "duration": 340,
    "start_time": "2025-01-12T03:44:52.086Z"
   },
   {
    "duration": 14,
    "start_time": "2025-01-12T03:44:52.428Z"
   },
   {
    "duration": 12,
    "start_time": "2025-01-12T03:44:52.444Z"
   },
   {
    "duration": 18722,
    "start_time": "2025-01-14T17:02:41.633Z"
   },
   {
    "duration": 1714,
    "start_time": "2025-01-14T17:03:00.357Z"
   },
   {
    "duration": 4,
    "start_time": "2025-01-14T17:03:02.074Z"
   },
   {
    "duration": 38,
    "start_time": "2025-01-14T17:03:02.080Z"
   },
   {
    "duration": 8,
    "start_time": "2025-01-14T17:03:02.120Z"
   },
   {
    "duration": 49,
    "start_time": "2025-01-14T17:03:02.130Z"
   },
   {
    "duration": 1079,
    "start_time": "2025-01-14T17:03:02.180Z"
   },
   {
    "duration": 128,
    "start_time": "2025-01-14T17:03:03.261Z"
   },
   {
    "duration": 4,
    "start_time": "2025-01-14T17:03:03.391Z"
   },
   {
    "duration": 564,
    "start_time": "2025-01-14T17:03:03.397Z"
   },
   {
    "duration": 449,
    "start_time": "2025-01-14T17:03:03.964Z"
   },
   {
    "duration": 42,
    "start_time": "2025-01-14T17:03:04.415Z"
   },
   {
    "duration": 32,
    "start_time": "2025-01-14T17:03:04.459Z"
   },
   {
    "duration": 107,
    "start_time": "2025-01-14T17:03:04.493Z"
   },
   {
    "duration": 236,
    "start_time": "2025-01-14T17:03:04.602Z"
   },
   {
    "duration": 393,
    "start_time": "2025-01-14T17:03:04.839Z"
   },
   {
    "duration": 234,
    "start_time": "2025-01-14T17:03:05.234Z"
   },
   {
    "duration": 71,
    "start_time": "2025-01-14T17:03:05.470Z"
   },
   {
    "duration": 157,
    "start_time": "2025-01-14T17:03:05.553Z"
   },
   {
    "duration": 63,
    "start_time": "2025-01-14T17:03:05.711Z"
   },
   {
    "duration": 77,
    "start_time": "2025-01-14T17:03:05.776Z"
   },
   {
    "duration": 17,
    "start_time": "2025-01-14T17:03:05.854Z"
   },
   {
    "duration": 106,
    "start_time": "2025-01-14T17:03:05.872Z"
   },
   {
    "duration": 78,
    "start_time": "2025-01-14T17:03:05.979Z"
   },
   {
    "duration": 6,
    "start_time": "2025-01-14T17:03:06.059Z"
   },
   {
    "duration": 51,
    "start_time": "2025-01-14T17:03:06.066Z"
   },
   {
    "duration": 55,
    "start_time": "2025-01-14T17:03:06.118Z"
   },
   {
    "duration": 77,
    "start_time": "2025-01-14T17:03:06.176Z"
   },
   {
    "duration": 2,
    "start_time": "2025-01-14T17:03:06.254Z"
   },
   {
    "duration": 5826,
    "start_time": "2025-01-14T17:03:06.258Z"
   },
   {
    "duration": 22,
    "start_time": "2025-01-14T17:03:12.085Z"
   },
   {
    "duration": 7,
    "start_time": "2025-01-14T17:03:12.109Z"
   },
   {
    "duration": 37,
    "start_time": "2025-01-14T17:03:12.118Z"
   },
   {
    "duration": 123,
    "start_time": "2025-01-14T17:03:12.157Z"
   },
   {
    "duration": 258,
    "start_time": "2025-01-14T17:03:12.281Z"
   },
   {
    "duration": 61,
    "start_time": "2025-01-14T17:03:12.540Z"
   },
   {
    "duration": 2,
    "start_time": "2025-01-14T17:03:12.602Z"
   },
   {
    "duration": 54,
    "start_time": "2025-01-14T17:03:12.606Z"
   },
   {
    "duration": 3,
    "start_time": "2025-01-14T17:03:12.661Z"
   },
   {
    "duration": 150,
    "start_time": "2025-01-14T17:03:12.665Z"
   },
   {
    "duration": 309245,
    "start_time": "2025-01-14T17:03:12.816Z"
   },
   {
    "duration": 11206,
    "start_time": "2025-01-14T17:08:22.154Z"
   },
   {
    "duration": 814,
    "start_time": "2025-01-14T17:08:33.454Z"
   },
   {
    "duration": 4,
    "start_time": "2025-01-14T17:08:34.354Z"
   },
   {
    "duration": 368,
    "start_time": "2025-01-14T17:08:34.360Z"
   },
   {
    "duration": 6029,
    "start_time": "2025-01-14T17:08:34.730Z"
   },
   {
    "duration": 356,
    "start_time": "2025-01-14T17:08:40.761Z"
   },
   {
    "duration": 14,
    "start_time": "2025-01-14T17:08:41.118Z"
   },
   {
    "duration": 31,
    "start_time": "2025-01-14T17:08:41.133Z"
   },
   {
    "duration": 5818,
    "start_time": "2025-01-14T17:11:58.856Z"
   },
   {
    "duration": 5814,
    "start_time": "2025-01-14T17:12:24.503Z"
   },
   {
    "duration": 6,
    "start_time": "2025-01-14T17:13:50.790Z"
   },
   {
    "duration": 68010,
    "start_time": "2025-01-14T17:14:03.186Z"
   },
   {
    "duration": 83479,
    "start_time": "2025-01-14T17:16:36.190Z"
   },
   {
    "duration": 18222,
    "start_time": "2025-01-15T20:16:37.114Z"
   },
   {
    "duration": 1921,
    "start_time": "2025-01-15T20:16:55.339Z"
   },
   {
    "duration": 4,
    "start_time": "2025-01-15T20:16:57.262Z"
   },
   {
    "duration": 40,
    "start_time": "2025-01-15T20:16:57.268Z"
   },
   {
    "duration": 29,
    "start_time": "2025-01-15T20:16:57.310Z"
   },
   {
    "duration": 29,
    "start_time": "2025-01-15T20:16:57.341Z"
   },
   {
    "duration": 3057,
    "start_time": "2025-01-15T20:16:57.372Z"
   },
   {
    "duration": 160,
    "start_time": "2025-01-15T20:17:00.431Z"
   },
   {
    "duration": 5,
    "start_time": "2025-01-15T20:17:00.593Z"
   },
   {
    "duration": 687,
    "start_time": "2025-01-15T20:17:00.600Z"
   },
   {
    "duration": 597,
    "start_time": "2025-01-15T20:17:01.289Z"
   },
   {
    "duration": 47,
    "start_time": "2025-01-15T20:17:01.887Z"
   },
   {
    "duration": 16,
    "start_time": "2025-01-15T20:17:01.936Z"
   },
   {
    "duration": 150,
    "start_time": "2025-01-15T20:17:01.954Z"
   },
   {
    "duration": 288,
    "start_time": "2025-01-15T20:17:02.106Z"
   },
   {
    "duration": 415,
    "start_time": "2025-01-15T20:17:02.395Z"
   },
   {
    "duration": 281,
    "start_time": "2025-01-15T20:17:02.811Z"
   },
   {
    "duration": 97,
    "start_time": "2025-01-15T20:17:03.094Z"
   },
   {
    "duration": 292,
    "start_time": "2025-01-15T20:17:03.193Z"
   },
   {
    "duration": 67,
    "start_time": "2025-01-15T20:17:03.486Z"
   },
   {
    "duration": 84,
    "start_time": "2025-01-15T20:17:03.554Z"
   },
   {
    "duration": 24,
    "start_time": "2025-01-15T20:17:03.639Z"
   },
   {
    "duration": 76,
    "start_time": "2025-01-15T20:17:03.664Z"
   },
   {
    "duration": 93,
    "start_time": "2025-01-15T20:17:03.741Z"
   },
   {
    "duration": 7,
    "start_time": "2025-01-15T20:17:03.835Z"
   },
   {
    "duration": 22,
    "start_time": "2025-01-15T20:17:03.844Z"
   },
   {
    "duration": 82,
    "start_time": "2025-01-15T20:17:03.868Z"
   },
   {
    "duration": 97,
    "start_time": "2025-01-15T20:17:03.954Z"
   },
   {
    "duration": 3,
    "start_time": "2025-01-15T20:17:04.052Z"
   },
   {
    "duration": 6448,
    "start_time": "2025-01-15T20:17:04.057Z"
   },
   {
    "duration": 33,
    "start_time": "2025-01-15T20:17:10.507Z"
   },
   {
    "duration": 8,
    "start_time": "2025-01-15T20:17:10.542Z"
   },
   {
    "duration": 20,
    "start_time": "2025-01-15T20:17:10.552Z"
   },
   {
    "duration": 145,
    "start_time": "2025-01-15T20:17:10.574Z"
   },
   {
    "duration": 294,
    "start_time": "2025-01-15T20:17:10.721Z"
   },
   {
    "duration": 128,
    "start_time": "2025-01-15T20:17:11.018Z"
   },
   {
    "duration": 4,
    "start_time": "2025-01-15T20:17:11.148Z"
   },
   {
    "duration": 87,
    "start_time": "2025-01-15T20:17:11.154Z"
   },
   {
    "duration": 4,
    "start_time": "2025-01-15T20:17:11.243Z"
   },
   {
    "duration": 182,
    "start_time": "2025-01-15T20:17:11.249Z"
   },
   {
    "duration": 350201,
    "start_time": "2025-01-15T20:17:11.433Z"
   },
   {
    "duration": 9395,
    "start_time": "2025-01-15T20:23:01.636Z"
   },
   {
    "duration": 810,
    "start_time": "2025-01-15T20:23:11.033Z"
   },
   {
    "duration": 5,
    "start_time": "2025-01-15T20:23:11.846Z"
   },
   {
    "duration": 476,
    "start_time": "2025-01-15T20:23:11.854Z"
   },
   {
    "duration": 84102,
    "start_time": "2025-01-15T20:23:12.331Z"
   },
   {
    "duration": 355,
    "start_time": "2025-01-15T20:24:36.434Z"
   },
   {
    "duration": 13,
    "start_time": "2025-01-15T20:24:36.791Z"
   },
   {
    "duration": 4,
    "start_time": "2025-01-15T20:24:36.806Z"
   },
   {
    "duration": 7753,
    "start_time": "2025-01-15T20:30:29.493Z"
   },
   {
    "duration": 1746,
    "start_time": "2025-01-15T20:30:37.249Z"
   },
   {
    "duration": 4,
    "start_time": "2025-01-15T20:30:38.996Z"
   },
   {
    "duration": 10,
    "start_time": "2025-01-15T20:30:39.002Z"
   },
   {
    "duration": 16,
    "start_time": "2025-01-15T20:30:39.013Z"
   },
   {
    "duration": 98,
    "start_time": "2025-01-15T20:30:39.031Z"
   },
   {
    "duration": 954,
    "start_time": "2025-01-15T20:30:39.130Z"
   },
   {
    "duration": 157,
    "start_time": "2025-01-15T20:30:40.085Z"
   },
   {
    "duration": 4,
    "start_time": "2025-01-15T20:30:40.244Z"
   },
   {
    "duration": 667,
    "start_time": "2025-01-15T20:30:40.251Z"
   },
   {
    "duration": 530,
    "start_time": "2025-01-15T20:30:40.920Z"
   },
   {
    "duration": 35,
    "start_time": "2025-01-15T20:30:41.451Z"
   },
   {
    "duration": 102,
    "start_time": "2025-01-15T20:30:41.488Z"
   },
   {
    "duration": 207,
    "start_time": "2025-01-15T20:30:41.592Z"
   },
   {
    "duration": 323,
    "start_time": "2025-01-15T20:30:41.801Z"
   },
   {
    "duration": 419,
    "start_time": "2025-01-15T20:30:42.129Z"
   },
   {
    "duration": 282,
    "start_time": "2025-01-15T20:30:42.550Z"
   },
   {
    "duration": 102,
    "start_time": "2025-01-15T20:30:42.834Z"
   },
   {
    "duration": 198,
    "start_time": "2025-01-15T20:30:42.938Z"
   },
   {
    "duration": 51,
    "start_time": "2025-01-15T20:30:43.138Z"
   },
   {
    "duration": 100,
    "start_time": "2025-01-15T20:30:43.190Z"
   },
   {
    "duration": 19,
    "start_time": "2025-01-15T20:30:43.291Z"
   },
   {
    "duration": 111,
    "start_time": "2025-01-15T20:30:43.312Z"
   },
   {
    "duration": 84,
    "start_time": "2025-01-15T20:30:43.425Z"
   },
   {
    "duration": 171,
    "start_time": "2025-01-15T20:30:43.511Z"
   },
   {
    "duration": 28,
    "start_time": "2025-01-15T20:30:43.684Z"
   },
   {
    "duration": 55,
    "start_time": "2025-01-15T20:30:43.714Z"
   },
   {
    "duration": 92,
    "start_time": "2025-01-15T20:30:43.772Z"
   },
   {
    "duration": 4,
    "start_time": "2025-01-15T20:30:43.866Z"
   },
   {
    "duration": 6185,
    "start_time": "2025-01-15T20:30:43.872Z"
   },
   {
    "duration": 25,
    "start_time": "2025-01-15T20:30:50.059Z"
   },
   {
    "duration": 10,
    "start_time": "2025-01-15T20:30:50.085Z"
   },
   {
    "duration": 45,
    "start_time": "2025-01-15T20:30:50.096Z"
   },
   {
    "duration": 130,
    "start_time": "2025-01-15T20:30:50.143Z"
   },
   {
    "duration": 266,
    "start_time": "2025-01-15T20:30:50.275Z"
   },
   {
    "duration": 71,
    "start_time": "2025-01-15T20:30:50.543Z"
   },
   {
    "duration": 15,
    "start_time": "2025-01-15T20:30:50.616Z"
   },
   {
    "duration": 163,
    "start_time": "2025-01-15T20:30:50.633Z"
   },
   {
    "duration": 5,
    "start_time": "2025-01-15T20:30:50.798Z"
   },
   {
    "duration": 178,
    "start_time": "2025-01-15T20:30:50.804Z"
   },
   {
    "duration": 1180351,
    "start_time": "2025-01-15T20:30:50.984Z"
   },
   {
    "duration": 9399,
    "start_time": "2025-01-15T20:50:31.337Z"
   },
   {
    "duration": 892,
    "start_time": "2025-01-15T20:50:40.738Z"
   },
   {
    "duration": 5,
    "start_time": "2025-01-15T20:50:41.632Z"
   },
   {
    "duration": 515,
    "start_time": "2025-01-15T20:50:41.638Z"
   },
   {
    "duration": 57191,
    "start_time": "2025-01-15T20:50:42.155Z"
   },
   {
    "duration": 362,
    "start_time": "2025-01-15T20:51:39.348Z"
   },
   {
    "duration": 30,
    "start_time": "2025-01-15T20:51:39.712Z"
   },
   {
    "duration": 5,
    "start_time": "2025-01-15T20:51:39.744Z"
   },
   {
    "duration": 16,
    "start_time": "2025-01-15T21:30:36.886Z"
   },
   {
    "duration": 4,
    "start_time": "2025-01-15T21:31:05.025Z"
   },
   {
    "duration": 116,
    "start_time": "2025-01-15T21:31:14.525Z"
   },
   {
    "duration": 5,
    "start_time": "2025-01-15T21:31:27.399Z"
   },
   {
    "duration": 5,
    "start_time": "2025-01-15T21:31:29.593Z"
   },
   {
    "duration": 7663,
    "start_time": "2025-01-15T21:31:36.954Z"
   },
   {
    "duration": 5,
    "start_time": "2025-01-15T21:31:44.620Z"
   },
   {
    "duration": 7,
    "start_time": "2025-01-15T21:31:44.627Z"
   },
   {
    "duration": 26,
    "start_time": "2025-01-15T21:31:44.636Z"
   },
   {
    "duration": 8,
    "start_time": "2025-01-15T21:31:44.664Z"
   },
   {
    "duration": 5,
    "start_time": "2025-01-15T21:31:44.674Z"
   },
   {
    "duration": 882,
    "start_time": "2025-01-15T21:31:44.681Z"
   },
   {
    "duration": 153,
    "start_time": "2025-01-15T21:31:45.565Z"
   },
   {
    "duration": 5,
    "start_time": "2025-01-15T21:31:45.729Z"
   },
   {
    "duration": 601,
    "start_time": "2025-01-15T21:31:45.736Z"
   },
   {
    "duration": 492,
    "start_time": "2025-01-15T21:31:46.338Z"
   },
   {
    "duration": 26,
    "start_time": "2025-01-15T21:31:46.831Z"
   },
   {
    "duration": 11,
    "start_time": "2025-01-15T21:31:46.859Z"
   },
   {
    "duration": 123,
    "start_time": "2025-01-15T21:31:46.871Z"
   },
   {
    "duration": 256,
    "start_time": "2025-01-15T21:31:46.995Z"
   },
   {
    "duration": 439,
    "start_time": "2025-01-15T21:31:47.253Z"
   },
   {
    "duration": 277,
    "start_time": "2025-01-15T21:31:47.694Z"
   },
   {
    "duration": 92,
    "start_time": "2025-01-15T21:31:47.972Z"
   },
   {
    "duration": 219,
    "start_time": "2025-01-15T21:31:48.066Z"
   },
   {
    "duration": 68,
    "start_time": "2025-01-15T21:31:48.287Z"
   },
   {
    "duration": 84,
    "start_time": "2025-01-15T21:31:48.356Z"
   },
   {
    "duration": 18,
    "start_time": "2025-01-15T21:31:48.442Z"
   },
   {
    "duration": 81,
    "start_time": "2025-01-15T21:31:48.463Z"
   },
   {
    "duration": 87,
    "start_time": "2025-01-15T21:31:48.546Z"
   },
   {
    "duration": 8,
    "start_time": "2025-01-15T21:31:48.635Z"
   },
   {
    "duration": 23,
    "start_time": "2025-01-15T21:31:48.645Z"
   },
   {
    "duration": 82,
    "start_time": "2025-01-15T21:31:48.670Z"
   },
   {
    "duration": 90,
    "start_time": "2025-01-15T21:31:48.754Z"
   },
   {
    "duration": 3,
    "start_time": "2025-01-15T21:31:48.847Z"
   },
   {
    "duration": 5934,
    "start_time": "2025-01-15T21:31:49.505Z"
   },
   {
    "duration": 7,
    "start_time": "2025-01-16T22:33:28.619Z"
   },
   {
    "duration": 3,
    "start_time": "2025-01-16T22:33:33.920Z"
   },
   {
    "duration": 40,
    "start_time": "2025-01-16T22:33:41.621Z"
   },
   {
    "duration": 5,
    "start_time": "2025-01-16T22:38:27.306Z"
   },
   {
    "duration": 8,
    "start_time": "2025-01-16T22:41:41.793Z"
   },
   {
    "duration": 90,
    "start_time": "2025-01-16T23:08:18.110Z"
   },
   {
    "duration": 17186,
    "start_time": "2025-01-16T23:17:47.243Z"
   },
   {
    "duration": 1749,
    "start_time": "2025-01-16T23:18:04.431Z"
   },
   {
    "duration": 3,
    "start_time": "2025-01-16T23:18:06.182Z"
   },
   {
    "duration": 42,
    "start_time": "2025-01-16T23:18:06.187Z"
   },
   {
    "duration": 26,
    "start_time": "2025-01-16T23:18:06.230Z"
   },
   {
    "duration": 8,
    "start_time": "2025-01-16T23:18:06.258Z"
   },
   {
    "duration": 3014,
    "start_time": "2025-01-16T23:18:06.267Z"
   },
   {
    "duration": 135,
    "start_time": "2025-01-16T23:18:09.282Z"
   },
   {
    "duration": 7,
    "start_time": "2025-01-16T23:18:09.419Z"
   },
   {
    "duration": 585,
    "start_time": "2025-01-16T23:18:09.428Z"
   },
   {
    "duration": 484,
    "start_time": "2025-01-16T23:18:10.015Z"
   },
   {
    "duration": 7,
    "start_time": "2025-01-16T23:18:10.500Z"
   },
   {
    "duration": 74,
    "start_time": "2025-01-16T23:18:10.509Z"
   },
   {
    "duration": 36,
    "start_time": "2025-01-16T23:18:10.585Z"
   },
   {
    "duration": 18,
    "start_time": "2025-01-16T23:18:10.622Z"
   },
   {
    "duration": 120,
    "start_time": "2025-01-16T23:18:10.641Z"
   },
   {
    "duration": 250,
    "start_time": "2025-01-16T23:18:10.762Z"
   },
   {
    "duration": 400,
    "start_time": "2025-01-16T23:18:11.013Z"
   },
   {
    "duration": 256,
    "start_time": "2025-01-16T23:18:11.414Z"
   },
   {
    "duration": 84,
    "start_time": "2025-01-16T23:18:11.672Z"
   },
   {
    "duration": 169,
    "start_time": "2025-01-16T23:18:11.758Z"
   },
   {
    "duration": 54,
    "start_time": "2025-01-16T23:18:11.929Z"
   },
   {
    "duration": 82,
    "start_time": "2025-01-16T23:18:11.985Z"
   },
   {
    "duration": 17,
    "start_time": "2025-01-16T23:18:12.068Z"
   },
   {
    "duration": 10,
    "start_time": "2025-01-16T23:18:12.086Z"
   },
   {
    "duration": 102,
    "start_time": "2025-01-16T23:18:12.098Z"
   },
   {
    "duration": 47,
    "start_time": "2025-01-16T23:18:12.201Z"
   },
   {
    "duration": 80,
    "start_time": "2025-01-16T23:18:12.253Z"
   },
   {
    "duration": 3,
    "start_time": "2025-01-16T23:18:12.334Z"
   },
   {
    "duration": 5910,
    "start_time": "2025-01-16T23:18:12.353Z"
   },
   {
    "duration": 23,
    "start_time": "2025-01-16T23:18:18.265Z"
   },
   {
    "duration": 9,
    "start_time": "2025-01-16T23:18:18.290Z"
   },
   {
    "duration": 17,
    "start_time": "2025-01-16T23:18:18.300Z"
   },
   {
    "duration": 125,
    "start_time": "2025-01-16T23:18:18.319Z"
   },
   {
    "duration": 203,
    "start_time": "2025-01-16T23:18:18.445Z"
   },
   {
    "duration": 61,
    "start_time": "2025-01-16T23:18:18.650Z"
   },
   {
    "duration": 3,
    "start_time": "2025-01-16T23:18:18.713Z"
   },
   {
    "duration": 61,
    "start_time": "2025-01-16T23:18:18.717Z"
   },
   {
    "duration": 124,
    "start_time": "2025-01-16T23:18:18.780Z"
   },
   {
    "duration": 0,
    "start_time": "2025-01-16T23:18:18.906Z"
   },
   {
    "duration": 0,
    "start_time": "2025-01-16T23:18:18.907Z"
   },
   {
    "duration": 0,
    "start_time": "2025-01-16T23:18:18.909Z"
   },
   {
    "duration": 0,
    "start_time": "2025-01-16T23:18:18.910Z"
   },
   {
    "duration": 0,
    "start_time": "2025-01-16T23:18:18.911Z"
   },
   {
    "duration": 0,
    "start_time": "2025-01-16T23:18:18.912Z"
   },
   {
    "duration": 0,
    "start_time": "2025-01-16T23:18:18.913Z"
   },
   {
    "duration": 0,
    "start_time": "2025-01-16T23:18:18.915Z"
   },
   {
    "duration": 0,
    "start_time": "2025-01-16T23:18:18.915Z"
   },
   {
    "duration": 0,
    "start_time": "2025-01-16T23:18:18.917Z"
   },
   {
    "duration": 0,
    "start_time": "2025-01-16T23:18:18.918Z"
   },
   {
    "duration": 3,
    "start_time": "2025-01-16T23:19:23.346Z"
   },
   {
    "duration": 745,
    "start_time": "2025-01-16T23:19:31.676Z"
   },
   {
    "duration": 0,
    "start_time": "2025-01-16T23:19:32.423Z"
   },
   {
    "duration": 0,
    "start_time": "2025-01-16T23:19:32.424Z"
   },
   {
    "duration": 11,
    "start_time": "2025-01-16T23:19:32.738Z"
   },
   {
    "duration": 95,
    "start_time": "2025-01-16T23:19:33.094Z"
   },
   {
    "duration": 83,
    "start_time": "2025-01-16T23:19:33.266Z"
   },
   {
    "duration": 10,
    "start_time": "2025-01-16T23:19:33.458Z"
   },
   {
    "duration": 10,
    "start_time": "2025-01-16T23:19:33.826Z"
   },
   {
    "duration": 84,
    "start_time": "2025-01-16T23:19:34.004Z"
   },
   {
    "duration": 86,
    "start_time": "2025-01-16T23:19:34.186Z"
   },
   {
    "duration": 83,
    "start_time": "2025-01-16T23:19:34.372Z"
   },
   {
    "duration": 9,
    "start_time": "2025-01-16T23:19:34.552Z"
   },
   {
    "duration": 1255,
    "start_time": "2025-01-16T23:20:06.914Z"
   },
   {
    "duration": 15,
    "start_time": "2025-01-16T23:20:32.823Z"
   },
   {
    "duration": 15,
    "start_time": "2025-01-16T23:21:07.663Z"
   },
   {
    "duration": 24,
    "start_time": "2025-01-16T23:21:47.255Z"
   },
   {
    "duration": 10,
    "start_time": "2025-01-16T23:22:44.618Z"
   },
   {
    "duration": 12,
    "start_time": "2025-01-16T23:23:00.349Z"
   },
   {
    "duration": 11,
    "start_time": "2025-01-16T23:23:06.142Z"
   },
   {
    "duration": 10,
    "start_time": "2025-01-16T23:23:14.429Z"
   },
   {
    "duration": 10,
    "start_time": "2025-01-16T23:24:00.629Z"
   },
   {
    "duration": 6794,
    "start_time": "2025-01-16T23:24:07.309Z"
   },
   {
    "duration": 1497,
    "start_time": "2025-01-16T23:24:14.106Z"
   },
   {
    "duration": 3,
    "start_time": "2025-01-16T23:24:15.605Z"
   },
   {
    "duration": 17,
    "start_time": "2025-01-16T23:24:15.610Z"
   },
   {
    "duration": 7,
    "start_time": "2025-01-16T23:24:15.629Z"
   },
   {
    "duration": 3,
    "start_time": "2025-01-16T23:24:15.637Z"
   },
   {
    "duration": 846,
    "start_time": "2025-01-16T23:24:15.642Z"
   },
   {
    "duration": 152,
    "start_time": "2025-01-16T23:24:16.489Z"
   },
   {
    "duration": 4,
    "start_time": "2025-01-16T23:24:16.643Z"
   },
   {
    "duration": 604,
    "start_time": "2025-01-16T23:24:16.653Z"
   },
   {
    "duration": 488,
    "start_time": "2025-01-16T23:24:17.259Z"
   },
   {
    "duration": 9,
    "start_time": "2025-01-16T23:24:17.749Z"
   },
   {
    "duration": 63,
    "start_time": "2025-01-16T23:24:17.759Z"
   },
   {
    "duration": 45,
    "start_time": "2025-01-16T23:24:17.826Z"
   },
   {
    "duration": 11,
    "start_time": "2025-01-16T23:24:17.872Z"
   },
   {
    "duration": 136,
    "start_time": "2025-01-16T23:24:17.884Z"
   },
   {
    "duration": 248,
    "start_time": "2025-01-16T23:24:18.022Z"
   },
   {
    "duration": 398,
    "start_time": "2025-01-16T23:24:18.272Z"
   },
   {
    "duration": 256,
    "start_time": "2025-01-16T23:24:18.671Z"
   },
   {
    "duration": 88,
    "start_time": "2025-01-16T23:24:18.929Z"
   },
   {
    "duration": 181,
    "start_time": "2025-01-16T23:24:19.018Z"
   },
   {
    "duration": 55,
    "start_time": "2025-01-16T23:24:19.200Z"
   },
   {
    "duration": 69,
    "start_time": "2025-01-16T23:24:19.257Z"
   },
   {
    "duration": 31,
    "start_time": "2025-01-16T23:24:19.328Z"
   },
   {
    "duration": 3,
    "start_time": "2025-01-16T23:24:19.360Z"
   },
   {
    "duration": 81,
    "start_time": "2025-01-16T23:24:19.364Z"
   },
   {
    "duration": 54,
    "start_time": "2025-01-16T23:24:19.446Z"
   },
   {
    "duration": 92,
    "start_time": "2025-01-16T23:24:19.501Z"
   },
   {
    "duration": 3,
    "start_time": "2025-01-16T23:24:19.594Z"
   },
   {
    "duration": 5724,
    "start_time": "2025-01-16T23:24:19.598Z"
   },
   {
    "duration": 22,
    "start_time": "2025-01-16T23:24:25.324Z"
   },
   {
    "duration": 10,
    "start_time": "2025-01-16T23:24:25.353Z"
   },
   {
    "duration": 18,
    "start_time": "2025-01-16T23:24:25.364Z"
   },
   {
    "duration": 116,
    "start_time": "2025-01-16T23:24:25.383Z"
   },
   {
    "duration": 189,
    "start_time": "2025-01-16T23:24:25.501Z"
   },
   {
    "duration": 145,
    "start_time": "2025-01-16T23:24:25.692Z"
   },
   {
    "duration": 4,
    "start_time": "2025-01-16T23:24:25.839Z"
   },
   {
    "duration": 51,
    "start_time": "2025-01-16T23:24:25.844Z"
   },
   {
    "duration": 1288,
    "start_time": "2025-01-16T23:24:25.897Z"
   },
   {
    "duration": 110,
    "start_time": "2025-01-16T23:24:27.186Z"
   },
   {
    "duration": 4,
    "start_time": "2025-01-16T23:24:27.300Z"
   },
   {
    "duration": 6845,
    "start_time": "2025-01-16T23:25:54.457Z"
   },
   {
    "duration": 1488,
    "start_time": "2025-01-16T23:26:01.304Z"
   },
   {
    "duration": 4,
    "start_time": "2025-01-16T23:26:02.794Z"
   },
   {
    "duration": 25,
    "start_time": "2025-01-16T23:26:02.799Z"
   },
   {
    "duration": 15,
    "start_time": "2025-01-16T23:26:02.826Z"
   },
   {
    "duration": 18,
    "start_time": "2025-01-16T23:26:02.842Z"
   },
   {
    "duration": 832,
    "start_time": "2025-01-16T23:26:02.862Z"
   },
   {
    "duration": 146,
    "start_time": "2025-01-16T23:26:03.696Z"
   },
   {
    "duration": 10,
    "start_time": "2025-01-16T23:26:03.844Z"
   },
   {
    "duration": 623,
    "start_time": "2025-01-16T23:26:03.855Z"
   },
   {
    "duration": 500,
    "start_time": "2025-01-16T23:26:04.479Z"
   },
   {
    "duration": 7,
    "start_time": "2025-01-16T23:26:04.980Z"
   },
   {
    "duration": 68,
    "start_time": "2025-01-16T23:26:04.989Z"
   },
   {
    "duration": 37,
    "start_time": "2025-01-16T23:26:05.060Z"
   },
   {
    "duration": 29,
    "start_time": "2025-01-16T23:26:05.099Z"
   },
   {
    "duration": 124,
    "start_time": "2025-01-16T23:26:05.130Z"
   },
   {
    "duration": 267,
    "start_time": "2025-01-16T23:26:05.255Z"
   },
   {
    "duration": 400,
    "start_time": "2025-01-16T23:26:05.524Z"
   },
   {
    "duration": 262,
    "start_time": "2025-01-16T23:26:05.925Z"
   },
   {
    "duration": 85,
    "start_time": "2025-01-16T23:26:06.189Z"
   },
   {
    "duration": 183,
    "start_time": "2025-01-16T23:26:06.275Z"
   },
   {
    "duration": 44,
    "start_time": "2025-01-16T23:26:06.459Z"
   },
   {
    "duration": 83,
    "start_time": "2025-01-16T23:26:06.505Z"
   },
   {
    "duration": 17,
    "start_time": "2025-01-16T23:26:06.589Z"
   },
   {
    "duration": 5,
    "start_time": "2025-01-16T23:26:06.608Z"
   },
   {
    "duration": 89,
    "start_time": "2025-01-16T23:26:06.614Z"
   },
   {
    "duration": 51,
    "start_time": "2025-01-16T23:26:06.704Z"
   },
   {
    "duration": 97,
    "start_time": "2025-01-16T23:26:06.757Z"
   },
   {
    "duration": 21,
    "start_time": "2025-01-16T23:26:06.856Z"
   },
   {
    "duration": 5753,
    "start_time": "2025-01-16T23:26:06.879Z"
   },
   {
    "duration": 27,
    "start_time": "2025-01-16T23:26:12.633Z"
   },
   {
    "duration": 8,
    "start_time": "2025-01-16T23:26:12.661Z"
   },
   {
    "duration": 17,
    "start_time": "2025-01-16T23:26:12.671Z"
   },
   {
    "duration": 115,
    "start_time": "2025-01-16T23:26:12.689Z"
   },
   {
    "duration": 195,
    "start_time": "2025-01-16T23:26:12.805Z"
   },
   {
    "duration": 152,
    "start_time": "2025-01-16T23:26:13.002Z"
   },
   {
    "duration": 2,
    "start_time": "2025-01-16T23:26:13.156Z"
   },
   {
    "duration": 42,
    "start_time": "2025-01-16T23:26:13.160Z"
   },
   {
    "duration": 1225,
    "start_time": "2025-01-16T23:26:13.203Z"
   },
   {
    "duration": 113,
    "start_time": "2025-01-16T23:26:14.430Z"
   },
   {
    "duration": 9,
    "start_time": "2025-01-16T23:26:14.546Z"
   },
   {
    "duration": 6943,
    "start_time": "2025-01-16T23:26:25.834Z"
   },
   {
    "duration": 1511,
    "start_time": "2025-01-16T23:26:32.779Z"
   },
   {
    "duration": 3,
    "start_time": "2025-01-16T23:26:34.291Z"
   },
   {
    "duration": 27,
    "start_time": "2025-01-16T23:26:34.295Z"
   },
   {
    "duration": 25,
    "start_time": "2025-01-16T23:26:34.324Z"
   },
   {
    "duration": 11,
    "start_time": "2025-01-16T23:26:34.350Z"
   },
   {
    "duration": 841,
    "start_time": "2025-01-16T23:26:34.362Z"
   },
   {
    "duration": 151,
    "start_time": "2025-01-16T23:26:35.205Z"
   },
   {
    "duration": 4,
    "start_time": "2025-01-16T23:26:35.357Z"
   },
   {
    "duration": 605,
    "start_time": "2025-01-16T23:26:35.363Z"
   },
   {
    "duration": 499,
    "start_time": "2025-01-16T23:26:35.969Z"
   },
   {
    "duration": 6,
    "start_time": "2025-01-16T23:26:36.470Z"
   },
   {
    "duration": 77,
    "start_time": "2025-01-16T23:26:36.477Z"
   },
   {
    "duration": 38,
    "start_time": "2025-01-16T23:26:36.557Z"
   },
   {
    "duration": 16,
    "start_time": "2025-01-16T23:26:36.597Z"
   },
   {
    "duration": 121,
    "start_time": "2025-01-16T23:26:36.615Z"
   },
   {
    "duration": 287,
    "start_time": "2025-01-16T23:26:36.738Z"
   },
   {
    "duration": 390,
    "start_time": "2025-01-16T23:26:37.027Z"
   },
   {
    "duration": 264,
    "start_time": "2025-01-16T23:26:37.419Z"
   },
   {
    "duration": 84,
    "start_time": "2025-01-16T23:26:37.684Z"
   },
   {
    "duration": 193,
    "start_time": "2025-01-16T23:26:37.770Z"
   },
   {
    "duration": 44,
    "start_time": "2025-01-16T23:26:37.965Z"
   },
   {
    "duration": 87,
    "start_time": "2025-01-16T23:26:38.011Z"
   },
   {
    "duration": 17,
    "start_time": "2025-01-16T23:26:38.100Z"
   },
   {
    "duration": 4,
    "start_time": "2025-01-16T23:26:38.118Z"
   },
   {
    "duration": 88,
    "start_time": "2025-01-16T23:26:38.123Z"
   },
   {
    "duration": 54,
    "start_time": "2025-01-16T23:26:38.212Z"
   },
   {
    "duration": 87,
    "start_time": "2025-01-16T23:26:38.267Z"
   },
   {
    "duration": 2,
    "start_time": "2025-01-16T23:26:38.356Z"
   },
   {
    "duration": 5726,
    "start_time": "2025-01-16T23:26:38.359Z"
   },
   {
    "duration": 22,
    "start_time": "2025-01-16T23:26:44.086Z"
   },
   {
    "duration": 8,
    "start_time": "2025-01-16T23:26:44.110Z"
   },
   {
    "duration": 34,
    "start_time": "2025-01-16T23:26:44.120Z"
   },
   {
    "duration": 100,
    "start_time": "2025-01-16T23:26:44.155Z"
   },
   {
    "duration": 210,
    "start_time": "2025-01-16T23:26:44.256Z"
   },
   {
    "duration": 141,
    "start_time": "2025-01-16T23:26:44.467Z"
   },
   {
    "duration": 3,
    "start_time": "2025-01-16T23:26:44.609Z"
   },
   {
    "duration": 51,
    "start_time": "2025-01-16T23:26:44.613Z"
   },
   {
    "duration": 1203,
    "start_time": "2025-01-16T23:26:44.666Z"
   },
   {
    "duration": 113,
    "start_time": "2025-01-16T23:26:45.871Z"
   },
   {
    "duration": 4,
    "start_time": "2025-01-16T23:26:45.987Z"
   },
   {
    "duration": 7123,
    "start_time": "2025-01-16T23:28:51.276Z"
   },
   {
    "duration": 1506,
    "start_time": "2025-01-16T23:28:58.402Z"
   },
   {
    "duration": 3,
    "start_time": "2025-01-16T23:28:59.910Z"
   },
   {
    "duration": 16,
    "start_time": "2025-01-16T23:28:59.915Z"
   },
   {
    "duration": 5,
    "start_time": "2025-01-16T23:28:59.932Z"
   },
   {
    "duration": 4,
    "start_time": "2025-01-16T23:28:59.939Z"
   },
   {
    "duration": 854,
    "start_time": "2025-01-16T23:28:59.954Z"
   },
   {
    "duration": 144,
    "start_time": "2025-01-16T23:29:00.809Z"
   },
   {
    "duration": 5,
    "start_time": "2025-01-16T23:29:00.954Z"
   },
   {
    "duration": 606,
    "start_time": "2025-01-16T23:29:00.961Z"
   },
   {
    "duration": 488,
    "start_time": "2025-01-16T23:29:01.569Z"
   },
   {
    "duration": 7,
    "start_time": "2025-01-16T23:29:02.059Z"
   },
   {
    "duration": 78,
    "start_time": "2025-01-16T23:29:02.067Z"
   },
   {
    "duration": 35,
    "start_time": "2025-01-16T23:29:02.147Z"
   },
   {
    "duration": 24,
    "start_time": "2025-01-16T23:29:02.184Z"
   },
   {
    "duration": 128,
    "start_time": "2025-01-16T23:29:02.209Z"
   },
   {
    "duration": 251,
    "start_time": "2025-01-16T23:29:02.339Z"
   },
   {
    "duration": 379,
    "start_time": "2025-01-16T23:29:02.592Z"
   },
   {
    "duration": 238,
    "start_time": "2025-01-16T23:29:02.973Z"
   },
   {
    "duration": 84,
    "start_time": "2025-01-16T23:29:03.213Z"
   },
   {
    "duration": 169,
    "start_time": "2025-01-16T23:29:03.298Z"
   },
   {
    "duration": 42,
    "start_time": "2025-01-16T23:29:03.469Z"
   },
   {
    "duration": 93,
    "start_time": "2025-01-16T23:29:03.512Z"
   },
   {
    "duration": 17,
    "start_time": "2025-01-16T23:29:03.606Z"
   },
   {
    "duration": 3,
    "start_time": "2025-01-16T23:29:03.624Z"
   },
   {
    "duration": 87,
    "start_time": "2025-01-16T23:29:03.628Z"
   },
   {
    "duration": 55,
    "start_time": "2025-01-16T23:29:03.716Z"
   },
   {
    "duration": 86,
    "start_time": "2025-01-16T23:29:03.774Z"
   },
   {
    "duration": 3,
    "start_time": "2025-01-16T23:29:03.861Z"
   },
   {
    "duration": 5661,
    "start_time": "2025-01-16T23:29:03.865Z"
   },
   {
    "duration": 36,
    "start_time": "2025-01-16T23:29:09.527Z"
   },
   {
    "duration": 8,
    "start_time": "2025-01-16T23:29:09.565Z"
   },
   {
    "duration": 17,
    "start_time": "2025-01-16T23:29:09.574Z"
   },
   {
    "duration": 109,
    "start_time": "2025-01-16T23:29:09.592Z"
   },
   {
    "duration": 188,
    "start_time": "2025-01-16T23:29:09.702Z"
   },
   {
    "duration": 64,
    "start_time": "2025-01-16T23:29:09.891Z"
   },
   {
    "duration": 2,
    "start_time": "2025-01-16T23:29:09.957Z"
   },
   {
    "duration": 147,
    "start_time": "2025-01-16T23:29:09.961Z"
   },
   {
    "duration": 1207,
    "start_time": "2025-01-16T23:29:10.110Z"
   },
   {
    "duration": 124,
    "start_time": "2025-01-16T23:29:11.319Z"
   },
   {
    "duration": 0,
    "start_time": "2025-01-16T23:29:11.445Z"
   },
   {
    "duration": 0,
    "start_time": "2025-01-16T23:29:11.453Z"
   },
   {
    "duration": 0,
    "start_time": "2025-01-16T23:29:11.455Z"
   },
   {
    "duration": 0,
    "start_time": "2025-01-16T23:29:11.455Z"
   },
   {
    "duration": 0,
    "start_time": "2025-01-16T23:29:11.456Z"
   },
   {
    "duration": 0,
    "start_time": "2025-01-16T23:29:11.457Z"
   },
   {
    "duration": 0,
    "start_time": "2025-01-16T23:29:11.458Z"
   },
   {
    "duration": 0,
    "start_time": "2025-01-16T23:29:11.459Z"
   },
   {
    "duration": 0,
    "start_time": "2025-01-16T23:29:11.461Z"
   },
   {
    "duration": 0,
    "start_time": "2025-01-16T23:29:11.462Z"
   },
   {
    "duration": 103,
    "start_time": "2025-01-16T23:30:41.386Z"
   },
   {
    "duration": 4,
    "start_time": "2025-01-16T23:30:44.370Z"
   },
   {
    "duration": 4,
    "start_time": "2025-01-16T23:30:51.015Z"
   },
   {
    "duration": 122877,
    "start_time": "2025-01-16T23:30:51.398Z"
   },
   {
    "duration": 0,
    "start_time": "2025-01-16T23:32:54.278Z"
   },
   {
    "duration": 0,
    "start_time": "2025-01-16T23:32:54.279Z"
   },
   {
    "duration": 0,
    "start_time": "2025-01-16T23:32:54.280Z"
   },
   {
    "duration": 0,
    "start_time": "2025-01-16T23:32:54.281Z"
   },
   {
    "duration": 0,
    "start_time": "2025-01-16T23:32:54.282Z"
   },
   {
    "duration": 0,
    "start_time": "2025-01-16T23:32:54.283Z"
   },
   {
    "duration": 0,
    "start_time": "2025-01-16T23:32:54.284Z"
   },
   {
    "duration": 0,
    "start_time": "2025-01-16T23:32:54.284Z"
   },
   {
    "duration": 0,
    "start_time": "2025-01-16T23:32:54.285Z"
   },
   {
    "duration": 106,
    "start_time": "2025-01-16T23:32:56.465Z"
   },
   {
    "duration": 4,
    "start_time": "2025-01-16T23:32:56.656Z"
   },
   {
    "duration": 44031,
    "start_time": "2025-01-16T23:32:57.027Z"
   },
   {
    "duration": 0,
    "start_time": "2025-01-16T23:33:41.060Z"
   },
   {
    "duration": 0,
    "start_time": "2025-01-16T23:33:41.061Z"
   },
   {
    "duration": 0,
    "start_time": "2025-01-16T23:33:41.062Z"
   },
   {
    "duration": 0,
    "start_time": "2025-01-16T23:33:41.064Z"
   },
   {
    "duration": 0,
    "start_time": "2025-01-16T23:33:41.065Z"
   },
   {
    "duration": 0,
    "start_time": "2025-01-16T23:33:41.066Z"
   },
   {
    "duration": 0,
    "start_time": "2025-01-16T23:33:41.067Z"
   },
   {
    "duration": 0,
    "start_time": "2025-01-16T23:33:41.068Z"
   },
   {
    "duration": 111,
    "start_time": "2025-01-16T23:33:42.822Z"
   },
   {
    "duration": 3,
    "start_time": "2025-01-16T23:33:43.243Z"
   },
   {
    "duration": 41230,
    "start_time": "2025-01-16T23:33:43.640Z"
   },
   {
    "duration": 0,
    "start_time": "2025-01-16T23:34:24.871Z"
   },
   {
    "duration": 0,
    "start_time": "2025-01-16T23:34:24.873Z"
   },
   {
    "duration": 0,
    "start_time": "2025-01-16T23:34:24.874Z"
   },
   {
    "duration": 0,
    "start_time": "2025-01-16T23:34:24.875Z"
   },
   {
    "duration": 0,
    "start_time": "2025-01-16T23:34:24.876Z"
   },
   {
    "duration": 0,
    "start_time": "2025-01-16T23:34:24.877Z"
   },
   {
    "duration": 0,
    "start_time": "2025-01-16T23:34:24.878Z"
   },
   {
    "duration": 0,
    "start_time": "2025-01-16T23:34:24.879Z"
   },
   {
    "duration": 3,
    "start_time": "2025-01-16T23:34:26.162Z"
   },
   {
    "duration": 6961,
    "start_time": "2025-01-16T23:35:59.101Z"
   },
   {
    "duration": 1556,
    "start_time": "2025-01-16T23:36:06.064Z"
   },
   {
    "duration": 4,
    "start_time": "2025-01-16T23:36:07.621Z"
   },
   {
    "duration": 5,
    "start_time": "2025-01-16T23:36:07.628Z"
   },
   {
    "duration": 19,
    "start_time": "2025-01-16T23:36:07.635Z"
   },
   {
    "duration": 4,
    "start_time": "2025-01-16T23:36:07.655Z"
   },
   {
    "duration": 840,
    "start_time": "2025-01-16T23:36:07.660Z"
   },
   {
    "duration": 142,
    "start_time": "2025-01-16T23:36:08.502Z"
   },
   {
    "duration": 4,
    "start_time": "2025-01-16T23:36:08.654Z"
   },
   {
    "duration": 585,
    "start_time": "2025-01-16T23:36:08.662Z"
   },
   {
    "duration": 478,
    "start_time": "2025-01-16T23:36:09.249Z"
   },
   {
    "duration": 9,
    "start_time": "2025-01-16T23:36:09.728Z"
   },
   {
    "duration": 73,
    "start_time": "2025-01-16T23:36:09.738Z"
   },
   {
    "duration": 45,
    "start_time": "2025-01-16T23:36:09.812Z"
   },
   {
    "duration": 15,
    "start_time": "2025-01-16T23:36:09.859Z"
   },
   {
    "duration": 113,
    "start_time": "2025-01-16T23:36:09.875Z"
   },
   {
    "duration": 283,
    "start_time": "2025-01-16T23:36:09.989Z"
   },
   {
    "duration": 383,
    "start_time": "2025-01-16T23:36:10.274Z"
   },
   {
    "duration": 233,
    "start_time": "2025-01-16T23:36:10.658Z"
   },
   {
    "duration": 83,
    "start_time": "2025-01-16T23:36:10.893Z"
   },
   {
    "duration": 183,
    "start_time": "2025-01-16T23:36:10.977Z"
   },
   {
    "duration": 44,
    "start_time": "2025-01-16T23:36:11.162Z"
   },
   {
    "duration": 90,
    "start_time": "2025-01-16T23:36:11.207Z"
   },
   {
    "duration": 16,
    "start_time": "2025-01-16T23:36:11.299Z"
   },
   {
    "duration": 3,
    "start_time": "2025-01-16T23:36:11.317Z"
   },
   {
    "duration": 91,
    "start_time": "2025-01-16T23:36:11.321Z"
   },
   {
    "duration": 56,
    "start_time": "2025-01-16T23:36:11.414Z"
   },
   {
    "duration": 89,
    "start_time": "2025-01-16T23:36:11.473Z"
   },
   {
    "duration": 34,
    "start_time": "2025-01-16T23:36:11.564Z"
   },
   {
    "duration": 5747,
    "start_time": "2025-01-16T23:36:11.599Z"
   },
   {
    "duration": 27,
    "start_time": "2025-01-16T23:36:17.348Z"
   },
   {
    "duration": 8,
    "start_time": "2025-01-16T23:36:17.377Z"
   },
   {
    "duration": 17,
    "start_time": "2025-01-16T23:36:17.386Z"
   },
   {
    "duration": 120,
    "start_time": "2025-01-16T23:36:17.405Z"
   },
   {
    "duration": 198,
    "start_time": "2025-01-16T23:36:17.526Z"
   },
   {
    "duration": 60,
    "start_time": "2025-01-16T23:36:17.726Z"
   },
   {
    "duration": 3,
    "start_time": "2025-01-16T23:36:17.788Z"
   },
   {
    "duration": 148,
    "start_time": "2025-01-16T23:36:17.792Z"
   },
   {
    "duration": 1206,
    "start_time": "2025-01-16T23:36:17.942Z"
   },
   {
    "duration": 108,
    "start_time": "2025-01-16T23:36:19.154Z"
   },
   {
    "duration": 3,
    "start_time": "2025-01-16T23:36:19.264Z"
   },
   {
    "duration": 19178,
    "start_time": "2025-01-17T09:43:28.801Z"
   },
   {
    "duration": 1791,
    "start_time": "2025-01-17T09:43:47.981Z"
   },
   {
    "duration": 3,
    "start_time": "2025-01-17T09:43:49.774Z"
   },
   {
    "duration": 11,
    "start_time": "2025-01-17T09:43:49.786Z"
   },
   {
    "duration": 5,
    "start_time": "2025-01-17T09:43:49.799Z"
   },
   {
    "duration": 25,
    "start_time": "2025-01-17T09:43:49.806Z"
   },
   {
    "duration": 1059,
    "start_time": "2025-01-17T09:43:49.832Z"
   },
   {
    "duration": 113,
    "start_time": "2025-01-17T09:43:50.892Z"
   },
   {
    "duration": 4,
    "start_time": "2025-01-17T09:43:51.008Z"
   },
   {
    "duration": 532,
    "start_time": "2025-01-17T09:43:51.016Z"
   },
   {
    "duration": 444,
    "start_time": "2025-01-17T09:43:51.550Z"
   },
   {
    "duration": 9,
    "start_time": "2025-01-17T09:43:51.996Z"
   },
   {
    "duration": 61,
    "start_time": "2025-01-17T09:43:52.006Z"
   },
   {
    "duration": 51,
    "start_time": "2025-01-17T09:43:52.069Z"
   },
   {
    "duration": 11,
    "start_time": "2025-01-17T09:43:52.121Z"
   },
   {
    "duration": 117,
    "start_time": "2025-01-17T09:43:52.133Z"
   },
   {
    "duration": 229,
    "start_time": "2025-01-17T09:43:52.252Z"
   },
   {
    "duration": 390,
    "start_time": "2025-01-17T09:43:52.486Z"
   },
   {
    "duration": 215,
    "start_time": "2025-01-17T09:43:52.877Z"
   },
   {
    "duration": 66,
    "start_time": "2025-01-17T09:43:53.093Z"
   },
   {
    "duration": 161,
    "start_time": "2025-01-17T09:43:53.160Z"
   },
   {
    "duration": 41,
    "start_time": "2025-01-17T09:43:53.322Z"
   },
   {
    "duration": 90,
    "start_time": "2025-01-17T09:43:53.365Z"
   },
   {
    "duration": 16,
    "start_time": "2025-01-17T09:43:53.456Z"
   },
   {
    "duration": 129,
    "start_time": "2025-01-17T09:43:53.473Z"
   },
   {
    "duration": 103,
    "start_time": "2025-01-17T09:43:53.604Z"
   },
   {
    "duration": 98,
    "start_time": "2025-01-17T09:43:53.708Z"
   },
   {
    "duration": 67,
    "start_time": "2025-01-17T09:43:53.810Z"
   },
   {
    "duration": 9,
    "start_time": "2025-01-17T09:43:53.878Z"
   },
   {
    "duration": 6051,
    "start_time": "2025-01-17T09:43:53.889Z"
   },
   {
    "duration": 29,
    "start_time": "2025-01-17T09:43:59.942Z"
   },
   {
    "duration": 16,
    "start_time": "2025-01-17T09:43:59.973Z"
   },
   {
    "duration": 18,
    "start_time": "2025-01-17T09:43:59.990Z"
   },
   {
    "duration": 118,
    "start_time": "2025-01-17T09:44:00.009Z"
   },
   {
    "duration": 206,
    "start_time": "2025-01-17T09:44:00.128Z"
   },
   {
    "duration": 58,
    "start_time": "2025-01-17T09:44:00.335Z"
   },
   {
    "duration": 26,
    "start_time": "2025-01-17T09:44:00.395Z"
   },
   {
    "duration": 51,
    "start_time": "2025-01-17T09:44:00.422Z"
   },
   {
    "duration": 11,
    "start_time": "2025-01-17T09:44:00.475Z"
   },
   {
    "duration": 229,
    "start_time": "2025-01-17T09:44:00.487Z"
   },
   {
    "duration": 4,
    "start_time": "2025-01-17T09:44:00.717Z"
   },
   {
    "duration": 79927,
    "start_time": "2025-01-17T09:44:00.722Z"
   },
   {
    "duration": 0,
    "start_time": "2025-01-17T09:45:20.651Z"
   },
   {
    "duration": 0,
    "start_time": "2025-01-17T09:45:20.652Z"
   },
   {
    "duration": 0,
    "start_time": "2025-01-17T09:45:20.653Z"
   },
   {
    "duration": 0,
    "start_time": "2025-01-17T09:45:20.654Z"
   },
   {
    "duration": 0,
    "start_time": "2025-01-17T09:45:20.655Z"
   },
   {
    "duration": 0,
    "start_time": "2025-01-17T09:45:20.656Z"
   },
   {
    "duration": 0,
    "start_time": "2025-01-17T09:45:20.657Z"
   },
   {
    "duration": 0,
    "start_time": "2025-01-17T09:45:20.658Z"
   },
   {
    "duration": 289,
    "start_time": "2025-01-17T09:47:11.686Z"
   },
   {
    "duration": 118,
    "start_time": "2025-01-17T09:47:15.816Z"
   },
   {
    "duration": 3,
    "start_time": "2025-01-17T09:47:15.982Z"
   },
   {
    "duration": 3495,
    "start_time": "2025-01-17T09:47:16.762Z"
   },
   {
    "duration": 3,
    "start_time": "2025-01-17T09:48:39.370Z"
   },
   {
    "duration": 8281,
    "start_time": "2025-01-17T09:49:22.131Z"
   },
   {
    "duration": 1551,
    "start_time": "2025-01-17T09:49:30.415Z"
   },
   {
    "duration": 4,
    "start_time": "2025-01-17T09:49:31.967Z"
   },
   {
    "duration": 22,
    "start_time": "2025-01-17T09:49:31.972Z"
   },
   {
    "duration": 29,
    "start_time": "2025-01-17T09:49:31.996Z"
   },
   {
    "duration": 9,
    "start_time": "2025-01-17T09:49:32.027Z"
   },
   {
    "duration": 801,
    "start_time": "2025-01-17T09:49:32.038Z"
   },
   {
    "duration": 117,
    "start_time": "2025-01-17T09:49:32.841Z"
   },
   {
    "duration": 4,
    "start_time": "2025-01-17T09:49:32.960Z"
   },
   {
    "duration": 525,
    "start_time": "2025-01-17T09:49:32.966Z"
   },
   {
    "duration": 439,
    "start_time": "2025-01-17T09:49:33.493Z"
   },
   {
    "duration": 9,
    "start_time": "2025-01-17T09:49:33.933Z"
   },
   {
    "duration": 131,
    "start_time": "2025-01-17T09:49:33.944Z"
   },
   {
    "duration": 38,
    "start_time": "2025-01-17T09:49:34.079Z"
   },
   {
    "duration": 13,
    "start_time": "2025-01-17T09:49:34.119Z"
   },
   {
    "duration": 119,
    "start_time": "2025-01-17T09:49:34.134Z"
   },
   {
    "duration": 234,
    "start_time": "2025-01-17T09:49:34.255Z"
   },
   {
    "duration": 390,
    "start_time": "2025-01-17T09:49:34.491Z"
   },
   {
    "duration": 222,
    "start_time": "2025-01-17T09:49:34.882Z"
   },
   {
    "duration": 67,
    "start_time": "2025-01-17T09:49:35.106Z"
   },
   {
    "duration": 160,
    "start_time": "2025-01-17T09:49:35.175Z"
   },
   {
    "duration": 58,
    "start_time": "2025-01-17T09:49:35.336Z"
   },
   {
    "duration": 71,
    "start_time": "2025-01-17T09:49:35.395Z"
   },
   {
    "duration": 24,
    "start_time": "2025-01-17T09:49:35.468Z"
   },
   {
    "duration": 16,
    "start_time": "2025-01-17T09:49:35.493Z"
   },
   {
    "duration": 254,
    "start_time": "2025-01-17T09:49:35.510Z"
   },
   {
    "duration": 74,
    "start_time": "2025-01-17T09:49:35.765Z"
   },
   {
    "duration": 69,
    "start_time": "2025-01-17T09:49:35.840Z"
   },
   {
    "duration": 30,
    "start_time": "2025-01-17T09:49:35.910Z"
   },
   {
    "duration": 5996,
    "start_time": "2025-01-17T09:49:35.941Z"
   },
   {
    "duration": 30,
    "start_time": "2025-01-17T09:49:41.939Z"
   },
   {
    "duration": 38,
    "start_time": "2025-01-17T09:49:41.971Z"
   },
   {
    "duration": 30,
    "start_time": "2025-01-17T09:49:42.011Z"
   },
   {
    "duration": 100,
    "start_time": "2025-01-17T09:49:42.043Z"
   },
   {
    "duration": 206,
    "start_time": "2025-01-17T09:49:42.144Z"
   },
   {
    "duration": 118,
    "start_time": "2025-01-17T09:49:42.351Z"
   },
   {
    "duration": 3,
    "start_time": "2025-01-17T09:49:42.470Z"
   },
   {
    "duration": 44,
    "start_time": "2025-01-17T09:49:42.474Z"
   },
   {
    "duration": 5,
    "start_time": "2025-01-17T09:49:42.519Z"
   },
   {
    "duration": 128,
    "start_time": "2025-01-17T09:49:42.526Z"
   },
   {
    "duration": 3,
    "start_time": "2025-01-17T09:49:42.657Z"
   },
   {
    "duration": 217890,
    "start_time": "2025-01-17T09:49:42.661Z"
   },
   {
    "duration": 82,
    "start_time": "2025-01-17T09:53:20.553Z"
   },
   {
    "duration": 79,
    "start_time": "2025-01-17T09:53:20.638Z"
   },
   {
    "duration": 10,
    "start_time": "2025-01-17T09:53:20.719Z"
   },
   {
    "duration": 0,
    "start_time": "2025-01-17T09:53:20.730Z"
   },
   {
    "duration": 0,
    "start_time": "2025-01-17T09:53:20.732Z"
   },
   {
    "duration": 0,
    "start_time": "2025-01-17T09:53:20.733Z"
   },
   {
    "duration": 1,
    "start_time": "2025-01-17T09:53:20.734Z"
   },
   {
    "duration": 0,
    "start_time": "2025-01-17T09:53:20.736Z"
   },
   {
    "duration": 9,
    "start_time": "2025-01-17T09:53:25.875Z"
   },
   {
    "duration": 10,
    "start_time": "2025-01-17T09:54:01.748Z"
   },
   {
    "duration": 4,
    "start_time": "2025-01-17T09:54:52.987Z"
   },
   {
    "duration": 10,
    "start_time": "2025-01-17T09:54:59.739Z"
   },
   {
    "duration": 4,
    "start_time": "2025-01-17T09:55:29.777Z"
   },
   {
    "duration": 5,
    "start_time": "2025-01-17T09:55:35.441Z"
   },
   {
    "duration": 18546,
    "start_time": "2025-01-17T09:55:36.287Z"
   },
   {
    "duration": 115,
    "start_time": "2025-01-17T09:57:59.262Z"
   },
   {
    "duration": 5,
    "start_time": "2025-01-17T09:57:59.426Z"
   },
   {
    "duration": 21348,
    "start_time": "2025-01-17T09:58:00.293Z"
   },
   {
    "duration": 62989,
    "start_time": "2025-01-17T09:58:23.597Z"
   },
   {
    "duration": 37416,
    "start_time": "2025-01-17T09:59:36.922Z"
   },
   {
    "duration": 111,
    "start_time": "2025-01-17T10:00:16.466Z"
   },
   {
    "duration": 4,
    "start_time": "2025-01-17T10:00:16.636Z"
   },
   {
    "duration": 158972,
    "start_time": "2025-01-17T10:00:17.406Z"
   },
   {
    "duration": 8371,
    "start_time": "2025-01-17T10:05:18.416Z"
   },
   {
    "duration": 1607,
    "start_time": "2025-01-17T10:05:26.790Z"
   },
   {
    "duration": 5,
    "start_time": "2025-01-17T10:05:28.399Z"
   },
   {
    "duration": 16,
    "start_time": "2025-01-17T10:05:28.406Z"
   },
   {
    "duration": 7,
    "start_time": "2025-01-17T10:05:28.424Z"
   },
   {
    "duration": 11,
    "start_time": "2025-01-17T10:05:28.432Z"
   },
   {
    "duration": 797,
    "start_time": "2025-01-17T10:05:28.445Z"
   },
   {
    "duration": 116,
    "start_time": "2025-01-17T10:05:29.243Z"
   },
   {
    "duration": 4,
    "start_time": "2025-01-17T10:05:29.360Z"
   },
   {
    "duration": 558,
    "start_time": "2025-01-17T10:05:29.366Z"
   },
   {
    "duration": 452,
    "start_time": "2025-01-17T10:05:29.925Z"
   },
   {
    "duration": 8,
    "start_time": "2025-01-17T10:05:30.379Z"
   },
   {
    "duration": 84,
    "start_time": "2025-01-17T10:05:30.388Z"
   },
   {
    "duration": 38,
    "start_time": "2025-01-17T10:05:30.475Z"
   },
   {
    "duration": 47,
    "start_time": "2025-01-17T10:05:30.514Z"
   },
   {
    "duration": 120,
    "start_time": "2025-01-17T10:05:30.562Z"
   },
   {
    "duration": 232,
    "start_time": "2025-01-17T10:05:30.684Z"
   },
   {
    "duration": 391,
    "start_time": "2025-01-17T10:05:30.918Z"
   },
   {
    "duration": 233,
    "start_time": "2025-01-17T10:05:31.311Z"
   },
   {
    "duration": 70,
    "start_time": "2025-01-17T10:05:31.546Z"
   },
   {
    "duration": 171,
    "start_time": "2025-01-17T10:05:31.618Z"
   },
   {
    "duration": 43,
    "start_time": "2025-01-17T10:05:31.790Z"
   },
   {
    "duration": 86,
    "start_time": "2025-01-17T10:05:31.835Z"
   },
   {
    "duration": 16,
    "start_time": "2025-01-17T10:05:31.922Z"
   },
   {
    "duration": 7,
    "start_time": "2025-01-17T10:05:31.939Z"
   },
   {
    "duration": 70,
    "start_time": "2025-01-17T10:05:31.947Z"
   },
   {
    "duration": 98,
    "start_time": "2025-01-17T10:05:32.018Z"
   },
   {
    "duration": 77,
    "start_time": "2025-01-17T10:05:32.118Z"
   },
   {
    "duration": 3,
    "start_time": "2025-01-17T10:05:32.196Z"
   },
   {
    "duration": 5984,
    "start_time": "2025-01-17T10:05:32.200Z"
   },
   {
    "duration": 24,
    "start_time": "2025-01-17T10:05:38.186Z"
   },
   {
    "duration": 9,
    "start_time": "2025-01-17T10:05:38.212Z"
   },
   {
    "duration": 18,
    "start_time": "2025-01-17T10:05:38.223Z"
   },
   {
    "duration": 122,
    "start_time": "2025-01-17T10:05:38.242Z"
   },
   {
    "duration": 208,
    "start_time": "2025-01-17T10:05:38.366Z"
   },
   {
    "duration": 133,
    "start_time": "2025-01-17T10:05:38.575Z"
   },
   {
    "duration": 2,
    "start_time": "2025-01-17T10:05:38.710Z"
   },
   {
    "duration": 40,
    "start_time": "2025-01-17T10:05:38.714Z"
   },
   {
    "duration": 6,
    "start_time": "2025-01-17T10:05:38.756Z"
   },
   {
    "duration": 136,
    "start_time": "2025-01-17T10:05:38.763Z"
   },
   {
    "duration": 3,
    "start_time": "2025-01-17T10:05:38.903Z"
   },
   {
    "duration": 221780,
    "start_time": "2025-01-17T10:05:38.908Z"
   },
   {
    "duration": 18003,
    "start_time": "2025-01-17T10:09:20.689Z"
   },
   {
    "duration": 2192,
    "start_time": "2025-01-17T10:09:38.694Z"
   },
   {
    "duration": 138,
    "start_time": "2025-01-17T10:09:40.888Z"
   },
   {
    "duration": 0,
    "start_time": "2025-01-17T10:09:41.027Z"
   },
   {
    "duration": 0,
    "start_time": "2025-01-17T10:09:41.028Z"
   },
   {
    "duration": 0,
    "start_time": "2025-01-17T10:09:41.029Z"
   },
   {
    "duration": 0,
    "start_time": "2025-01-17T10:09:41.030Z"
   },
   {
    "duration": 0,
    "start_time": "2025-01-17T10:09:41.031Z"
   },
   {
    "duration": 4,
    "start_time": "2025-01-17T10:10:33.107Z"
   },
   {
    "duration": 4,
    "start_time": "2025-01-17T10:11:10.826Z"
   },
   {
    "duration": 18774,
    "start_time": "2025-01-17T10:11:11.816Z"
   },
   {
    "duration": 17449,
    "start_time": "2025-01-17T10:11:34.578Z"
   },
   {
    "duration": 183,
    "start_time": "2025-01-17T10:11:52.029Z"
   },
   {
    "duration": 166,
    "start_time": "2025-01-17T10:11:52.213Z"
   },
   {
    "duration": 10,
    "start_time": "2025-01-17T10:11:52.380Z"
   },
   {
    "duration": 18233,
    "start_time": "2025-01-17T10:12:55.446Z"
   },
   {
    "duration": 79,
    "start_time": "2025-01-17T10:13:13.680Z"
   },
   {
    "duration": 88,
    "start_time": "2025-01-17T10:13:13.760Z"
   },
   {
    "duration": 8,
    "start_time": "2025-01-17T10:13:13.849Z"
   },
   {
    "duration": 13,
    "start_time": "2025-01-17T10:17:31.751Z"
   },
   {
    "duration": 5,
    "start_time": "2025-01-17T10:17:51.571Z"
   },
   {
    "duration": 4,
    "start_time": "2025-01-17T10:17:59.134Z"
   },
   {
    "duration": 18107,
    "start_time": "2025-01-17T10:17:59.836Z"
   },
   {
    "duration": 82,
    "start_time": "2025-01-17T10:18:17.944Z"
   },
   {
    "duration": 96,
    "start_time": "2025-01-17T10:18:18.027Z"
   },
   {
    "duration": 8,
    "start_time": "2025-01-17T10:18:18.125Z"
   },
   {
    "duration": 5,
    "start_time": "2025-01-17T10:21:50.720Z"
   },
   {
    "duration": 5,
    "start_time": "2025-01-17T10:21:54.049Z"
   },
   {
    "duration": 8366,
    "start_time": "2025-01-17T10:33:47.975Z"
   },
   {
    "duration": 1732,
    "start_time": "2025-01-17T10:33:56.343Z"
   },
   {
    "duration": 4,
    "start_time": "2025-01-17T10:33:58.077Z"
   },
   {
    "duration": 12,
    "start_time": "2025-01-17T10:33:58.086Z"
   },
   {
    "duration": 9,
    "start_time": "2025-01-17T10:33:58.100Z"
   },
   {
    "duration": 11,
    "start_time": "2025-01-17T10:33:58.110Z"
   },
   {
    "duration": 840,
    "start_time": "2025-01-17T10:33:58.123Z"
   },
   {
    "duration": 130,
    "start_time": "2025-01-17T10:33:58.964Z"
   },
   {
    "duration": 4,
    "start_time": "2025-01-17T10:33:59.096Z"
   },
   {
    "duration": 557,
    "start_time": "2025-01-17T10:33:59.101Z"
   },
   {
    "duration": 469,
    "start_time": "2025-01-17T10:33:59.660Z"
   },
   {
    "duration": 8,
    "start_time": "2025-01-17T10:34:00.130Z"
   },
   {
    "duration": 105,
    "start_time": "2025-01-17T10:34:00.139Z"
   },
   {
    "duration": 42,
    "start_time": "2025-01-17T10:34:00.247Z"
   },
   {
    "duration": 84,
    "start_time": "2025-01-17T10:34:00.291Z"
   },
   {
    "duration": 200,
    "start_time": "2025-01-17T10:34:00.377Z"
   },
   {
    "duration": 241,
    "start_time": "2025-01-17T10:34:00.578Z"
   },
   {
    "duration": 386,
    "start_time": "2025-01-17T10:34:00.820Z"
   },
   {
    "duration": 240,
    "start_time": "2025-01-17T10:34:01.208Z"
   },
   {
    "duration": 75,
    "start_time": "2025-01-17T10:34:01.450Z"
   },
   {
    "duration": 226,
    "start_time": "2025-01-17T10:34:01.527Z"
   },
   {
    "duration": 59,
    "start_time": "2025-01-17T10:34:01.755Z"
   },
   {
    "duration": 76,
    "start_time": "2025-01-17T10:34:01.816Z"
   },
   {
    "duration": 57,
    "start_time": "2025-01-17T10:34:01.894Z"
   },
   {
    "duration": 20,
    "start_time": "2025-01-17T10:34:01.952Z"
   },
   {
    "duration": 116,
    "start_time": "2025-01-17T10:34:01.974Z"
   },
   {
    "duration": 83,
    "start_time": "2025-01-17T10:34:02.091Z"
   },
   {
    "duration": 100,
    "start_time": "2025-01-17T10:34:02.175Z"
   },
   {
    "duration": 18,
    "start_time": "2025-01-17T10:34:02.276Z"
   },
   {
    "duration": 5936,
    "start_time": "2025-01-17T10:34:02.295Z"
   },
   {
    "duration": 23,
    "start_time": "2025-01-17T10:34:08.233Z"
   },
   {
    "duration": 9,
    "start_time": "2025-01-17T10:34:08.257Z"
   },
   {
    "duration": 33,
    "start_time": "2025-01-17T10:34:08.268Z"
   },
   {
    "duration": 108,
    "start_time": "2025-01-17T10:34:08.303Z"
   },
   {
    "duration": 216,
    "start_time": "2025-01-17T10:34:08.413Z"
   },
   {
    "duration": 129,
    "start_time": "2025-01-17T10:34:08.631Z"
   },
   {
    "duration": 3,
    "start_time": "2025-01-17T10:34:08.762Z"
   },
   {
    "duration": 49,
    "start_time": "2025-01-17T10:34:08.766Z"
   },
   {
    "duration": 5,
    "start_time": "2025-01-17T10:34:08.817Z"
   },
   {
    "duration": 121,
    "start_time": "2025-01-17T10:34:08.824Z"
   },
   {
    "duration": 3,
    "start_time": "2025-01-17T10:34:08.949Z"
   },
   {
    "duration": 175241,
    "start_time": "2025-01-17T10:34:08.953Z"
   },
   {
    "duration": 18492,
    "start_time": "2025-01-17T10:37:04.196Z"
   },
   {
    "duration": 1811,
    "start_time": "2025-01-17T10:37:22.690Z"
   },
   {
    "duration": 5,
    "start_time": "2025-01-17T10:37:24.587Z"
   },
   {
    "duration": 24,
    "start_time": "2025-01-17T10:37:24.593Z"
   },
   {
    "duration": 51,
    "start_time": "2025-01-17T10:50:12.681Z"
   },
   {
    "duration": 0,
    "start_time": "2025-01-17T10:50:12.734Z"
   },
   {
    "duration": 0,
    "start_time": "2025-01-17T10:50:12.735Z"
   },
   {
    "duration": 0,
    "start_time": "2025-01-17T10:50:12.736Z"
   },
   {
    "duration": 0,
    "start_time": "2025-01-17T10:50:12.737Z"
   },
   {
    "duration": 0,
    "start_time": "2025-01-17T10:50:12.738Z"
   },
   {
    "duration": 0,
    "start_time": "2025-01-17T10:50:12.739Z"
   },
   {
    "duration": 8424,
    "start_time": "2025-01-17T10:50:12.950Z"
   },
   {
    "duration": 1674,
    "start_time": "2025-01-17T10:50:21.377Z"
   },
   {
    "duration": 4,
    "start_time": "2025-01-17T10:50:23.052Z"
   },
   {
    "duration": 6,
    "start_time": "2025-01-17T10:50:23.058Z"
   },
   {
    "duration": 6,
    "start_time": "2025-01-17T10:50:23.065Z"
   },
   {
    "duration": 14,
    "start_time": "2025-01-17T10:50:23.072Z"
   },
   {
    "duration": 844,
    "start_time": "2025-01-17T10:50:23.088Z"
   },
   {
    "duration": 131,
    "start_time": "2025-01-17T10:50:23.933Z"
   },
   {
    "duration": 5,
    "start_time": "2025-01-17T10:50:24.065Z"
   },
   {
    "duration": 555,
    "start_time": "2025-01-17T10:50:24.072Z"
   },
   {
    "duration": 488,
    "start_time": "2025-01-17T10:50:24.629Z"
   },
   {
    "duration": 8,
    "start_time": "2025-01-17T10:50:25.119Z"
   },
   {
    "duration": 76,
    "start_time": "2025-01-17T10:50:25.128Z"
   },
   {
    "duration": 38,
    "start_time": "2025-01-17T10:50:25.206Z"
   },
   {
    "duration": 12,
    "start_time": "2025-01-17T10:50:25.245Z"
   },
   {
    "duration": 122,
    "start_time": "2025-01-17T10:50:25.258Z"
   },
   {
    "duration": 242,
    "start_time": "2025-01-17T10:50:25.382Z"
   },
   {
    "duration": 387,
    "start_time": "2025-01-17T10:50:25.626Z"
   },
   {
    "duration": 230,
    "start_time": "2025-01-17T10:50:26.015Z"
   },
   {
    "duration": 73,
    "start_time": "2025-01-17T10:50:26.247Z"
   },
   {
    "duration": 169,
    "start_time": "2025-01-17T10:50:26.321Z"
   },
   {
    "duration": 43,
    "start_time": "2025-01-17T10:50:26.492Z"
   },
   {
    "duration": 79,
    "start_time": "2025-01-17T10:50:26.537Z"
   },
   {
    "duration": 16,
    "start_time": "2025-01-17T10:50:26.617Z"
   },
   {
    "duration": 6,
    "start_time": "2025-01-17T10:50:26.634Z"
   },
   {
    "duration": 73,
    "start_time": "2025-01-17T10:50:26.641Z"
   },
   {
    "duration": 51,
    "start_time": "2025-01-17T10:50:26.715Z"
   },
   {
    "duration": 67,
    "start_time": "2025-01-17T10:50:26.785Z"
   },
   {
    "duration": 15,
    "start_time": "2025-01-17T10:50:26.854Z"
   },
   {
    "duration": 5944,
    "start_time": "2025-01-17T10:50:26.870Z"
   },
   {
    "duration": 26,
    "start_time": "2025-01-17T10:50:32.815Z"
   },
   {
    "duration": 8,
    "start_time": "2025-01-17T10:50:32.843Z"
   },
   {
    "duration": 39,
    "start_time": "2025-01-17T10:50:32.852Z"
   },
   {
    "duration": 110,
    "start_time": "2025-01-17T10:50:32.893Z"
   },
   {
    "duration": 223,
    "start_time": "2025-01-17T10:50:33.005Z"
   },
   {
    "duration": 45,
    "start_time": "2025-01-17T10:50:33.230Z"
   },
   {
    "duration": 13,
    "start_time": "2025-01-17T10:50:33.276Z"
   },
   {
    "duration": 47,
    "start_time": "2025-01-17T10:50:33.291Z"
   },
   {
    "duration": 5,
    "start_time": "2025-01-17T10:50:33.340Z"
   },
   {
    "duration": 116,
    "start_time": "2025-01-17T10:50:33.346Z"
   },
   {
    "duration": 3,
    "start_time": "2025-01-17T10:50:33.464Z"
   },
   {
    "duration": 157817,
    "start_time": "2025-01-17T10:50:33.469Z"
   },
   {
    "duration": 11604,
    "start_time": "2025-01-17T10:53:11.288Z"
   },
   {
    "duration": 1602,
    "start_time": "2025-01-17T10:53:22.894Z"
   },
   {
    "duration": 90,
    "start_time": "2025-01-17T10:53:24.498Z"
   },
   {
    "duration": 79,
    "start_time": "2025-01-17T10:53:24.589Z"
   },
   {
    "duration": 0,
    "start_time": "2025-01-17T10:53:24.669Z"
   },
   {
    "duration": 0,
    "start_time": "2025-01-17T10:53:24.685Z"
   },
   {
    "duration": 0,
    "start_time": "2025-01-17T10:53:24.687Z"
   },
   {
    "duration": 0,
    "start_time": "2025-01-17T10:53:24.688Z"
   },
   {
    "duration": 0,
    "start_time": "2025-01-17T10:53:24.689Z"
   },
   {
    "duration": 0,
    "start_time": "2025-01-17T10:53:24.690Z"
   },
   {
    "duration": 5,
    "start_time": "2025-01-17T10:54:16.790Z"
   },
   {
    "duration": 8319,
    "start_time": "2025-01-17T11:05:53.170Z"
   },
   {
    "duration": 1641,
    "start_time": "2025-01-17T11:06:01.491Z"
   },
   {
    "duration": 4,
    "start_time": "2025-01-17T11:06:03.134Z"
   },
   {
    "duration": 62,
    "start_time": "2025-01-17T11:06:03.140Z"
   },
   {
    "duration": 35,
    "start_time": "2025-01-17T11:06:03.203Z"
   },
   {
    "duration": 57,
    "start_time": "2025-01-17T11:06:03.239Z"
   },
   {
    "duration": 836,
    "start_time": "2025-01-17T11:06:03.298Z"
   },
   {
    "duration": 127,
    "start_time": "2025-01-17T11:06:04.136Z"
   },
   {
    "duration": 4,
    "start_time": "2025-01-17T11:06:04.265Z"
   },
   {
    "duration": 549,
    "start_time": "2025-01-17T11:06:04.271Z"
   },
   {
    "duration": 489,
    "start_time": "2025-01-17T11:06:04.822Z"
   },
   {
    "duration": 9,
    "start_time": "2025-01-17T11:06:05.312Z"
   },
   {
    "duration": 72,
    "start_time": "2025-01-17T11:06:05.323Z"
   },
   {
    "duration": 40,
    "start_time": "2025-01-17T11:06:05.397Z"
   },
   {
    "duration": 13,
    "start_time": "2025-01-17T11:06:05.439Z"
   },
   {
    "duration": 149,
    "start_time": "2025-01-17T11:06:05.454Z"
   },
   {
    "duration": 245,
    "start_time": "2025-01-17T11:06:05.605Z"
   },
   {
    "duration": 396,
    "start_time": "2025-01-17T11:06:05.852Z"
   },
   {
    "duration": 217,
    "start_time": "2025-01-17T11:06:06.250Z"
   },
   {
    "duration": 75,
    "start_time": "2025-01-17T11:06:06.468Z"
   },
   {
    "duration": 168,
    "start_time": "2025-01-17T11:06:06.545Z"
   },
   {
    "duration": 43,
    "start_time": "2025-01-17T11:06:06.715Z"
   },
   {
    "duration": 110,
    "start_time": "2025-01-17T11:06:06.760Z"
   },
   {
    "duration": 25,
    "start_time": "2025-01-17T11:06:06.871Z"
   },
   {
    "duration": 16,
    "start_time": "2025-01-17T11:06:06.897Z"
   },
   {
    "duration": 67,
    "start_time": "2025-01-17T11:06:06.915Z"
   },
   {
    "duration": 56,
    "start_time": "2025-01-17T11:06:06.984Z"
   },
   {
    "duration": 71,
    "start_time": "2025-01-17T11:06:07.044Z"
   },
   {
    "duration": 4,
    "start_time": "2025-01-17T11:06:07.116Z"
   },
   {
    "duration": 5877,
    "start_time": "2025-01-17T11:06:07.122Z"
   },
   {
    "duration": 24,
    "start_time": "2025-01-17T11:06:13.000Z"
   },
   {
    "duration": 9,
    "start_time": "2025-01-17T11:06:13.025Z"
   },
   {
    "duration": 18,
    "start_time": "2025-01-17T11:06:13.035Z"
   },
   {
    "duration": 119,
    "start_time": "2025-01-17T11:06:13.055Z"
   },
   {
    "duration": 201,
    "start_time": "2025-01-17T11:06:13.176Z"
   },
   {
    "duration": 44,
    "start_time": "2025-01-17T11:06:13.387Z"
   },
   {
    "duration": 2,
    "start_time": "2025-01-17T11:06:13.433Z"
   },
   {
    "duration": 115,
    "start_time": "2025-01-17T11:06:13.437Z"
   },
   {
    "duration": 4,
    "start_time": "2025-01-17T11:06:13.554Z"
   },
   {
    "duration": 129,
    "start_time": "2025-01-17T11:06:13.560Z"
   },
   {
    "duration": 3,
    "start_time": "2025-01-17T11:06:13.691Z"
   },
   {
    "duration": 150211,
    "start_time": "2025-01-17T11:06:13.695Z"
   },
   {
    "duration": 14902,
    "start_time": "2025-01-17T11:08:43.987Z"
   },
   {
    "duration": 1806,
    "start_time": "2025-01-17T11:08:58.891Z"
   },
   {
    "duration": 4,
    "start_time": "2025-01-17T11:09:00.699Z"
   },
   {
    "duration": 117,
    "start_time": "2025-01-17T11:09:00.704Z"
   },
   {
    "duration": 5,
    "start_time": "2025-01-17T11:09:00.823Z"
   },
   {
    "duration": 8616405,
    "start_time": "2025-01-17T11:09:00.830Z"
   },
   {
    "duration": 132,
    "start_time": "2025-01-17T13:32:37.237Z"
   },
   {
    "duration": 1,
    "start_time": "2025-01-17T13:32:37.370Z"
   },
   {
    "duration": 0,
    "start_time": "2025-01-17T13:32:37.372Z"
   },
   {
    "duration": 0,
    "start_time": "2025-01-17T13:32:37.373Z"
   },
   {
    "duration": 0,
    "start_time": "2025-01-17T13:32:37.386Z"
   },
   {
    "duration": 8224,
    "start_time": "2025-01-17T15:53:22.055Z"
   },
   {
    "duration": 1581,
    "start_time": "2025-01-17T15:53:30.282Z"
   },
   {
    "duration": 4,
    "start_time": "2025-01-17T15:53:31.865Z"
   },
   {
    "duration": 32,
    "start_time": "2025-01-17T15:53:31.870Z"
   },
   {
    "duration": 12,
    "start_time": "2025-01-17T15:53:31.903Z"
   },
   {
    "duration": 17,
    "start_time": "2025-01-17T15:53:31.916Z"
   },
   {
    "duration": 805,
    "start_time": "2025-01-17T15:53:31.934Z"
   },
   {
    "duration": 115,
    "start_time": "2025-01-17T15:53:32.741Z"
   },
   {
    "duration": 46,
    "start_time": "2025-01-17T15:53:32.857Z"
   },
   {
    "duration": 539,
    "start_time": "2025-01-17T15:53:32.905Z"
   },
   {
    "duration": 446,
    "start_time": "2025-01-17T15:53:33.445Z"
   },
   {
    "duration": 7,
    "start_time": "2025-01-17T15:53:33.893Z"
   },
   {
    "duration": 70,
    "start_time": "2025-01-17T15:53:33.902Z"
   },
   {
    "duration": 44,
    "start_time": "2025-01-17T15:53:33.975Z"
   },
   {
    "duration": 10,
    "start_time": "2025-01-17T15:53:34.020Z"
   },
   {
    "duration": 119,
    "start_time": "2025-01-17T15:53:34.031Z"
   },
   {
    "duration": 237,
    "start_time": "2025-01-17T15:53:34.151Z"
   },
   {
    "duration": 392,
    "start_time": "2025-01-17T15:53:34.390Z"
   },
   {
    "duration": 219,
    "start_time": "2025-01-17T15:53:34.783Z"
   },
   {
    "duration": 68,
    "start_time": "2025-01-17T15:53:35.004Z"
   },
   {
    "duration": 153,
    "start_time": "2025-01-17T15:53:35.087Z"
   },
   {
    "duration": 63,
    "start_time": "2025-01-17T15:53:35.242Z"
   },
   {
    "duration": 80,
    "start_time": "2025-01-17T15:53:35.306Z"
   },
   {
    "duration": 16,
    "start_time": "2025-01-17T15:53:35.388Z"
   },
   {
    "duration": 39,
    "start_time": "2025-01-17T15:53:35.406Z"
   },
   {
    "duration": 70,
    "start_time": "2025-01-17T15:53:35.446Z"
   },
   {
    "duration": 62,
    "start_time": "2025-01-17T15:53:35.518Z"
   },
   {
    "duration": 78,
    "start_time": "2025-01-17T15:53:35.587Z"
   },
   {
    "duration": 23,
    "start_time": "2025-01-17T15:53:35.667Z"
   },
   {
    "duration": 5890,
    "start_time": "2025-01-17T15:53:35.691Z"
   },
   {
    "duration": 25,
    "start_time": "2025-01-17T15:53:41.586Z"
   },
   {
    "duration": 18,
    "start_time": "2025-01-17T15:53:41.613Z"
   },
   {
    "duration": 17,
    "start_time": "2025-01-17T15:53:41.633Z"
   },
   {
    "duration": 107,
    "start_time": "2025-01-17T15:53:41.652Z"
   },
   {
    "duration": 218,
    "start_time": "2025-01-17T15:53:41.761Z"
   },
   {
    "duration": 124,
    "start_time": "2025-01-17T15:53:41.980Z"
   },
   {
    "duration": 3,
    "start_time": "2025-01-17T15:53:42.106Z"
   },
   {
    "duration": 36,
    "start_time": "2025-01-17T15:53:42.110Z"
   },
   {
    "duration": 4,
    "start_time": "2025-01-17T15:53:42.148Z"
   },
   {
    "duration": 134,
    "start_time": "2025-01-17T15:53:42.154Z"
   },
   {
    "duration": 3,
    "start_time": "2025-01-17T15:53:42.292Z"
   },
   {
    "duration": 192190,
    "start_time": "2025-01-17T15:53:42.297Z"
   },
   {
    "duration": 14099,
    "start_time": "2025-01-17T15:56:54.489Z"
   },
   {
    "duration": 1999,
    "start_time": "2025-01-17T15:57:08.590Z"
   },
   {
    "duration": 5,
    "start_time": "2025-01-17T15:57:10.591Z"
   },
   {
    "duration": 94,
    "start_time": "2025-01-17T15:57:10.597Z"
   },
   {
    "duration": 5,
    "start_time": "2025-01-17T15:57:10.692Z"
   },
   {
    "duration": 8324,
    "start_time": "2025-01-17T17:02:13.438Z"
   },
   {
    "duration": 1595,
    "start_time": "2025-01-17T17:02:21.765Z"
   },
   {
    "duration": 4,
    "start_time": "2025-01-17T17:02:23.361Z"
   },
   {
    "duration": 11,
    "start_time": "2025-01-17T17:02:23.367Z"
   },
   {
    "duration": 7,
    "start_time": "2025-01-17T17:02:23.379Z"
   },
   {
    "duration": 18,
    "start_time": "2025-01-17T17:02:23.388Z"
   },
   {
    "duration": 819,
    "start_time": "2025-01-17T17:02:23.407Z"
   },
   {
    "duration": 128,
    "start_time": "2025-01-17T17:02:24.228Z"
   },
   {
    "duration": 4,
    "start_time": "2025-01-17T17:02:24.357Z"
   },
   {
    "duration": 569,
    "start_time": "2025-01-17T17:02:24.364Z"
   },
   {
    "duration": 479,
    "start_time": "2025-01-17T17:02:24.935Z"
   },
   {
    "duration": 8,
    "start_time": "2025-01-17T17:02:25.415Z"
   },
   {
    "duration": 75,
    "start_time": "2025-01-17T17:02:25.424Z"
   },
   {
    "duration": 42,
    "start_time": "2025-01-17T17:02:25.501Z"
   },
   {
    "duration": 30,
    "start_time": "2025-01-17T17:02:25.545Z"
   },
   {
    "duration": 141,
    "start_time": "2025-01-17T17:02:25.577Z"
   },
   {
    "duration": 253,
    "start_time": "2025-01-17T17:02:25.720Z"
   },
   {
    "duration": 384,
    "start_time": "2025-01-17T17:02:25.975Z"
   },
   {
    "duration": 211,
    "start_time": "2025-01-17T17:02:26.361Z"
   },
   {
    "duration": 67,
    "start_time": "2025-01-17T17:02:26.573Z"
   },
   {
    "duration": 156,
    "start_time": "2025-01-17T17:02:26.642Z"
   },
   {
    "duration": 43,
    "start_time": "2025-01-17T17:02:26.799Z"
   },
   {
    "duration": 104,
    "start_time": "2025-01-17T17:02:26.844Z"
   },
   {
    "duration": 16,
    "start_time": "2025-01-17T17:02:26.950Z"
   },
   {
    "duration": 4,
    "start_time": "2025-01-17T17:02:26.968Z"
   },
   {
    "duration": 69,
    "start_time": "2025-01-17T17:02:26.974Z"
   },
   {
    "duration": 102,
    "start_time": "2025-01-17T17:02:27.045Z"
   },
   {
    "duration": 67,
    "start_time": "2025-01-17T17:02:27.150Z"
   },
   {
    "duration": 2,
    "start_time": "2025-01-17T17:02:27.219Z"
   },
   {
    "duration": 5945,
    "start_time": "2025-01-17T17:02:27.223Z"
   },
   {
    "duration": 32,
    "start_time": "2025-01-17T17:02:33.170Z"
   },
   {
    "duration": 9,
    "start_time": "2025-01-17T17:02:33.203Z"
   },
   {
    "duration": 32,
    "start_time": "2025-01-17T17:02:33.213Z"
   },
   {
    "duration": 104,
    "start_time": "2025-01-17T17:02:33.246Z"
   },
   {
    "duration": 204,
    "start_time": "2025-01-17T17:02:33.351Z"
   },
   {
    "duration": 48,
    "start_time": "2025-01-17T17:02:33.556Z"
   },
   {
    "duration": 3,
    "start_time": "2025-01-17T17:02:33.605Z"
   },
   {
    "duration": 112,
    "start_time": "2025-01-17T17:02:33.609Z"
   },
   {
    "duration": 4,
    "start_time": "2025-01-17T17:02:33.723Z"
   },
   {
    "duration": 129,
    "start_time": "2025-01-17T17:02:33.728Z"
   },
   {
    "duration": 3,
    "start_time": "2025-01-17T17:02:33.859Z"
   },
   {
    "duration": 151532,
    "start_time": "2025-01-17T17:02:33.863Z"
   },
   {
    "duration": 10211,
    "start_time": "2025-01-17T17:05:05.486Z"
   },
   {
    "duration": 1199,
    "start_time": "2025-01-17T17:05:15.787Z"
   },
   {
    "duration": 4,
    "start_time": "2025-01-17T17:05:16.988Z"
   },
   {
    "duration": 127,
    "start_time": "2025-01-17T17:05:16.993Z"
   },
   {
    "duration": 0,
    "start_time": "2025-01-17T17:05:17.122Z"
   },
   {
    "duration": 0,
    "start_time": "2025-01-17T17:05:17.123Z"
   },
   {
    "duration": 0,
    "start_time": "2025-01-17T17:05:17.124Z"
   },
   {
    "duration": 0,
    "start_time": "2025-01-17T17:05:17.125Z"
   },
   {
    "duration": 4,
    "start_time": "2025-01-17T17:06:16.896Z"
   },
   {
    "duration": 3,
    "start_time": "2025-01-17T17:06:25.940Z"
   },
   {
    "duration": 8514,
    "start_time": "2025-01-17T17:15:09.186Z"
   },
   {
    "duration": 1634,
    "start_time": "2025-01-17T17:15:17.703Z"
   },
   {
    "duration": 3,
    "start_time": "2025-01-17T17:15:19.338Z"
   },
   {
    "duration": 12,
    "start_time": "2025-01-17T17:15:19.343Z"
   },
   {
    "duration": 4,
    "start_time": "2025-01-17T17:15:19.357Z"
   },
   {
    "duration": 4,
    "start_time": "2025-01-17T17:15:19.362Z"
   },
   {
    "duration": 836,
    "start_time": "2025-01-17T17:15:19.367Z"
   },
   {
    "duration": 135,
    "start_time": "2025-01-17T17:15:20.205Z"
   },
   {
    "duration": 6,
    "start_time": "2025-01-17T17:15:20.342Z"
   },
   {
    "duration": 566,
    "start_time": "2025-01-17T17:15:20.351Z"
   },
   {
    "duration": 492,
    "start_time": "2025-01-17T17:15:20.919Z"
   },
   {
    "duration": 10,
    "start_time": "2025-01-17T17:15:21.413Z"
   },
   {
    "duration": 78,
    "start_time": "2025-01-17T17:15:21.425Z"
   },
   {
    "duration": 38,
    "start_time": "2025-01-17T17:15:21.505Z"
   },
   {
    "duration": 13,
    "start_time": "2025-01-17T17:15:21.545Z"
   },
   {
    "duration": 135,
    "start_time": "2025-01-17T17:15:21.559Z"
   },
   {
    "duration": 242,
    "start_time": "2025-01-17T17:15:21.696Z"
   },
   {
    "duration": 395,
    "start_time": "2025-01-17T17:15:21.940Z"
   },
   {
    "duration": 242,
    "start_time": "2025-01-17T17:15:22.337Z"
   },
   {
    "duration": 72,
    "start_time": "2025-01-17T17:15:22.581Z"
   },
   {
    "duration": 164,
    "start_time": "2025-01-17T17:15:22.655Z"
   },
   {
    "duration": 65,
    "start_time": "2025-01-17T17:15:22.821Z"
   },
   {
    "duration": 82,
    "start_time": "2025-01-17T17:15:22.888Z"
   },
   {
    "duration": 24,
    "start_time": "2025-01-17T17:15:22.972Z"
   },
   {
    "duration": 3,
    "start_time": "2025-01-17T17:15:22.997Z"
   },
   {
    "duration": 65,
    "start_time": "2025-01-17T17:15:23.001Z"
   },
   {
    "duration": 68,
    "start_time": "2025-01-17T17:15:23.067Z"
   },
   {
    "duration": 81,
    "start_time": "2025-01-17T17:15:23.139Z"
   },
   {
    "duration": 2,
    "start_time": "2025-01-17T17:15:23.222Z"
   },
   {
    "duration": 5865,
    "start_time": "2025-01-17T17:15:23.225Z"
   },
   {
    "duration": 24,
    "start_time": "2025-01-17T17:15:29.091Z"
   },
   {
    "duration": 44,
    "start_time": "2025-01-17T17:15:29.117Z"
   },
   {
    "duration": 18,
    "start_time": "2025-01-17T17:15:29.163Z"
   },
   {
    "duration": 99,
    "start_time": "2025-01-17T17:15:29.182Z"
   },
   {
    "duration": 237,
    "start_time": "2025-01-17T17:15:29.286Z"
   },
   {
    "duration": 62,
    "start_time": "2025-01-17T17:15:29.524Z"
   },
   {
    "duration": 3,
    "start_time": "2025-01-17T17:15:29.588Z"
   },
   {
    "duration": 109,
    "start_time": "2025-01-17T17:15:29.593Z"
   },
   {
    "duration": 6,
    "start_time": "2025-01-17T17:15:29.704Z"
   },
   {
    "duration": 134,
    "start_time": "2025-01-17T17:15:29.712Z"
   },
   {
    "duration": 4,
    "start_time": "2025-01-17T17:15:29.848Z"
   },
   {
    "duration": 154441,
    "start_time": "2025-01-17T17:15:29.854Z"
   },
   {
    "duration": 14091,
    "start_time": "2025-01-17T17:18:04.296Z"
   },
   {
    "duration": 1901,
    "start_time": "2025-01-17T17:18:18.389Z"
   },
   {
    "duration": 4,
    "start_time": "2025-01-17T17:18:20.292Z"
   },
   {
    "duration": 30,
    "start_time": "2025-01-17T17:18:20.298Z"
   },
   {
    "duration": 8383,
    "start_time": "2025-01-17T17:26:38.274Z"
   },
   {
    "duration": 1601,
    "start_time": "2025-01-17T17:26:46.659Z"
   },
   {
    "duration": 3,
    "start_time": "2025-01-17T17:26:48.262Z"
   },
   {
    "duration": 6,
    "start_time": "2025-01-17T17:26:48.267Z"
   },
   {
    "duration": 4,
    "start_time": "2025-01-17T17:26:48.286Z"
   },
   {
    "duration": 12,
    "start_time": "2025-01-17T17:26:48.291Z"
   },
   {
    "duration": 830,
    "start_time": "2025-01-17T17:26:48.304Z"
   },
   {
    "duration": 138,
    "start_time": "2025-01-17T17:26:49.136Z"
   },
   {
    "duration": 12,
    "start_time": "2025-01-17T17:26:49.275Z"
   },
   {
    "duration": 590,
    "start_time": "2025-01-17T17:26:49.290Z"
   },
   {
    "duration": 486,
    "start_time": "2025-01-17T17:26:49.886Z"
   },
   {
    "duration": 16,
    "start_time": "2025-01-17T17:26:50.373Z"
   },
   {
    "duration": 64,
    "start_time": "2025-01-17T17:26:50.390Z"
   },
   {
    "duration": 64,
    "start_time": "2025-01-17T17:26:50.455Z"
   },
   {
    "duration": 10,
    "start_time": "2025-01-17T17:26:50.520Z"
   },
   {
    "duration": 144,
    "start_time": "2025-01-17T17:26:50.531Z"
   },
   {
    "duration": 252,
    "start_time": "2025-01-17T17:26:50.677Z"
   },
   {
    "duration": 405,
    "start_time": "2025-01-17T17:26:50.931Z"
   },
   {
    "duration": 248,
    "start_time": "2025-01-17T17:26:51.338Z"
   },
   {
    "duration": 66,
    "start_time": "2025-01-17T17:26:51.588Z"
   },
   {
    "duration": 188,
    "start_time": "2025-01-17T17:26:51.656Z"
   },
   {
    "duration": 62,
    "start_time": "2025-01-17T17:26:51.845Z"
   },
   {
    "duration": 94,
    "start_time": "2025-01-17T17:26:51.908Z"
   },
   {
    "duration": 16,
    "start_time": "2025-01-17T17:26:52.004Z"
   },
   {
    "duration": 5,
    "start_time": "2025-01-17T17:26:52.022Z"
   },
   {
    "duration": 96,
    "start_time": "2025-01-17T17:26:52.028Z"
   },
   {
    "duration": 73,
    "start_time": "2025-01-17T17:26:52.125Z"
   },
   {
    "duration": 86,
    "start_time": "2025-01-17T17:26:52.201Z"
   },
   {
    "duration": 2,
    "start_time": "2025-01-17T17:26:52.289Z"
   },
   {
    "duration": 3011,
    "start_time": "2025-01-17T17:26:52.292Z"
   },
   {
    "duration": 0,
    "start_time": "2025-01-17T17:26:55.304Z"
   },
   {
    "duration": 0,
    "start_time": "2025-01-17T17:26:55.305Z"
   },
   {
    "duration": 0,
    "start_time": "2025-01-17T17:26:55.306Z"
   },
   {
    "duration": 0,
    "start_time": "2025-01-17T17:26:55.307Z"
   },
   {
    "duration": 0,
    "start_time": "2025-01-17T17:26:55.308Z"
   },
   {
    "duration": 0,
    "start_time": "2025-01-17T17:26:55.309Z"
   },
   {
    "duration": 0,
    "start_time": "2025-01-17T17:26:55.310Z"
   },
   {
    "duration": 0,
    "start_time": "2025-01-17T17:26:55.311Z"
   },
   {
    "duration": 0,
    "start_time": "2025-01-17T17:26:55.311Z"
   },
   {
    "duration": 0,
    "start_time": "2025-01-17T17:26:55.312Z"
   },
   {
    "duration": 0,
    "start_time": "2025-01-17T17:26:55.313Z"
   },
   {
    "duration": 0,
    "start_time": "2025-01-17T17:26:55.314Z"
   },
   {
    "duration": 0,
    "start_time": "2025-01-17T17:26:55.315Z"
   },
   {
    "duration": 0,
    "start_time": "2025-01-17T17:26:55.316Z"
   },
   {
    "duration": 0,
    "start_time": "2025-01-17T17:26:55.317Z"
   },
   {
    "duration": 0,
    "start_time": "2025-01-17T17:26:55.318Z"
   },
   {
    "duration": 0,
    "start_time": "2025-01-17T17:26:55.319Z"
   },
   {
    "duration": 0,
    "start_time": "2025-01-17T17:26:55.320Z"
   },
   {
    "duration": 0,
    "start_time": "2025-01-17T17:26:55.321Z"
   },
   {
    "duration": 0,
    "start_time": "2025-01-17T17:26:55.322Z"
   },
   {
    "duration": 8224,
    "start_time": "2025-01-17T17:27:36.234Z"
   },
   {
    "duration": 1647,
    "start_time": "2025-01-17T17:27:44.460Z"
   },
   {
    "duration": 5,
    "start_time": "2025-01-17T17:27:46.108Z"
   },
   {
    "duration": 6,
    "start_time": "2025-01-17T17:27:46.115Z"
   },
   {
    "duration": 5,
    "start_time": "2025-01-17T17:27:46.124Z"
   },
   {
    "duration": 6,
    "start_time": "2025-01-17T17:27:46.130Z"
   },
   {
    "duration": 877,
    "start_time": "2025-01-17T17:27:46.138Z"
   },
   {
    "duration": 116,
    "start_time": "2025-01-17T17:27:47.017Z"
   },
   {
    "duration": 27,
    "start_time": "2025-01-17T17:27:47.134Z"
   },
   {
    "duration": 556,
    "start_time": "2025-01-17T17:27:47.162Z"
   },
   {
    "duration": 482,
    "start_time": "2025-01-17T17:27:47.720Z"
   },
   {
    "duration": 8,
    "start_time": "2025-01-17T17:27:48.204Z"
   },
   {
    "duration": 95,
    "start_time": "2025-01-17T17:27:48.213Z"
   },
   {
    "duration": 39,
    "start_time": "2025-01-17T17:27:48.312Z"
   },
   {
    "duration": 34,
    "start_time": "2025-01-17T17:27:48.353Z"
   },
   {
    "duration": 118,
    "start_time": "2025-01-17T17:27:48.388Z"
   },
   {
    "duration": 250,
    "start_time": "2025-01-17T17:27:48.508Z"
   },
   {
    "duration": 391,
    "start_time": "2025-01-17T17:27:48.760Z"
   },
   {
    "duration": 244,
    "start_time": "2025-01-17T17:27:49.153Z"
   },
   {
    "duration": 100,
    "start_time": "2025-01-17T17:27:49.399Z"
   },
   {
    "duration": 188,
    "start_time": "2025-01-17T17:27:49.500Z"
   },
   {
    "duration": 50,
    "start_time": "2025-01-17T17:27:49.690Z"
   },
   {
    "duration": 109,
    "start_time": "2025-01-17T17:27:49.742Z"
   },
   {
    "duration": 37,
    "start_time": "2025-01-17T17:27:49.853Z"
   },
   {
    "duration": 64,
    "start_time": "2025-01-17T17:27:49.892Z"
   },
   {
    "duration": 69,
    "start_time": "2025-01-17T17:27:49.958Z"
   },
   {
    "duration": 63,
    "start_time": "2025-01-17T17:27:50.029Z"
   },
   {
    "duration": 92,
    "start_time": "2025-01-17T17:27:50.094Z"
   },
   {
    "duration": 3,
    "start_time": "2025-01-17T17:27:50.188Z"
   },
   {
    "duration": 5942,
    "start_time": "2025-01-17T17:27:50.193Z"
   },
   {
    "duration": 23,
    "start_time": "2025-01-17T17:27:56.136Z"
   },
   {
    "duration": 33,
    "start_time": "2025-01-17T17:27:56.160Z"
   },
   {
    "duration": 18,
    "start_time": "2025-01-17T17:27:56.195Z"
   },
   {
    "duration": 136,
    "start_time": "2025-01-17T17:27:56.214Z"
   },
   {
    "duration": 219,
    "start_time": "2025-01-17T17:27:56.351Z"
   },
   {
    "duration": 127,
    "start_time": "2025-01-17T17:27:56.572Z"
   },
   {
    "duration": 3,
    "start_time": "2025-01-17T17:27:56.700Z"
   },
   {
    "duration": 45,
    "start_time": "2025-01-17T17:27:56.704Z"
   },
   {
    "duration": 5,
    "start_time": "2025-01-17T17:27:56.751Z"
   },
   {
    "duration": 148,
    "start_time": "2025-01-17T17:27:56.786Z"
   },
   {
    "duration": 3,
    "start_time": "2025-01-17T17:27:56.938Z"
   },
   {
    "duration": 154482,
    "start_time": "2025-01-17T17:27:56.943Z"
   },
   {
    "duration": 80,
    "start_time": "2025-01-17T17:30:31.426Z"
   },
   {
    "duration": 81,
    "start_time": "2025-01-17T17:30:31.508Z"
   },
   {
    "duration": 10,
    "start_time": "2025-01-17T17:30:31.591Z"
   },
   {
    "duration": 0,
    "start_time": "2025-01-17T17:30:31.602Z"
   },
   {
    "duration": 0,
    "start_time": "2025-01-17T17:30:31.603Z"
   },
   {
    "duration": 0,
    "start_time": "2025-01-17T17:30:31.604Z"
   },
   {
    "duration": 0,
    "start_time": "2025-01-17T17:30:31.605Z"
   },
   {
    "duration": 0,
    "start_time": "2025-01-17T17:30:31.606Z"
   },
   {
    "duration": 8433,
    "start_time": "2025-01-17T17:55:47.857Z"
   },
   {
    "duration": 1590,
    "start_time": "2025-01-17T17:55:56.292Z"
   },
   {
    "duration": 3,
    "start_time": "2025-01-17T17:55:57.884Z"
   },
   {
    "duration": 74,
    "start_time": "2025-01-17T17:55:57.889Z"
   },
   {
    "duration": 5,
    "start_time": "2025-01-17T17:55:57.964Z"
   },
   {
    "duration": 8,
    "start_time": "2025-01-17T17:55:57.970Z"
   },
   {
    "duration": 820,
    "start_time": "2025-01-17T17:55:57.980Z"
   },
   {
    "duration": 126,
    "start_time": "2025-01-17T17:55:58.802Z"
   },
   {
    "duration": 5,
    "start_time": "2025-01-17T17:55:58.930Z"
   },
   {
    "duration": 569,
    "start_time": "2025-01-17T17:55:58.938Z"
   },
   {
    "duration": 463,
    "start_time": "2025-01-17T17:55:59.509Z"
   },
   {
    "duration": 18,
    "start_time": "2025-01-17T17:55:59.973Z"
   },
   {
    "duration": 64,
    "start_time": "2025-01-17T17:55:59.993Z"
   },
   {
    "duration": 47,
    "start_time": "2025-01-17T17:56:00.059Z"
   },
   {
    "duration": 26,
    "start_time": "2025-01-17T17:56:00.108Z"
   },
   {
    "duration": 153,
    "start_time": "2025-01-17T17:56:00.136Z"
   },
   {
    "duration": 251,
    "start_time": "2025-01-17T17:56:00.290Z"
   },
   {
    "duration": 395,
    "start_time": "2025-01-17T17:56:00.543Z"
   },
   {
    "duration": 227,
    "start_time": "2025-01-17T17:56:00.940Z"
   },
   {
    "duration": 73,
    "start_time": "2025-01-17T17:56:01.169Z"
   },
   {
    "duration": 201,
    "start_time": "2025-01-17T17:56:01.244Z"
   },
   {
    "duration": 60,
    "start_time": "2025-01-17T17:56:01.447Z"
   },
   {
    "duration": 94,
    "start_time": "2025-01-17T17:56:01.509Z"
   },
   {
    "duration": 17,
    "start_time": "2025-01-17T17:56:01.605Z"
   },
   {
    "duration": 6,
    "start_time": "2025-01-17T17:56:01.624Z"
   },
   {
    "duration": 75,
    "start_time": "2025-01-17T17:56:01.631Z"
   },
   {
    "duration": 55,
    "start_time": "2025-01-17T17:56:01.708Z"
   },
   {
    "duration": 81,
    "start_time": "2025-01-17T17:56:01.767Z"
   },
   {
    "duration": 3,
    "start_time": "2025-01-17T17:56:01.850Z"
   },
   {
    "duration": 6393,
    "start_time": "2025-01-17T17:56:01.855Z"
   },
   {
    "duration": 24,
    "start_time": "2025-01-17T17:56:08.249Z"
   },
   {
    "duration": 16,
    "start_time": "2025-01-17T17:56:08.274Z"
   },
   {
    "duration": 17,
    "start_time": "2025-01-17T17:56:08.292Z"
   },
   {
    "duration": 111,
    "start_time": "2025-01-17T17:56:08.311Z"
   },
   {
    "duration": 208,
    "start_time": "2025-01-17T17:56:08.424Z"
   },
   {
    "duration": 55,
    "start_time": "2025-01-17T17:56:08.634Z"
   },
   {
    "duration": 3,
    "start_time": "2025-01-17T17:56:08.691Z"
   },
   {
    "duration": 120,
    "start_time": "2025-01-17T17:56:08.696Z"
   },
   {
    "duration": 5,
    "start_time": "2025-01-17T17:56:08.817Z"
   },
   {
    "duration": 131,
    "start_time": "2025-01-17T17:56:08.824Z"
   },
   {
    "duration": 3,
    "start_time": "2025-01-17T17:56:08.957Z"
   },
   {
    "duration": 18485,
    "start_time": "2025-01-18T11:56:31.148Z"
   },
   {
    "duration": 1915,
    "start_time": "2025-01-18T11:56:49.635Z"
   },
   {
    "duration": 5,
    "start_time": "2025-01-18T11:56:51.553Z"
   },
   {
    "duration": 6,
    "start_time": "2025-01-18T11:56:51.560Z"
   },
   {
    "duration": 5,
    "start_time": "2025-01-18T11:56:51.567Z"
   },
   {
    "duration": 21,
    "start_time": "2025-01-18T11:56:51.575Z"
   },
   {
    "duration": 3077,
    "start_time": "2025-01-18T11:56:51.598Z"
   },
   {
    "duration": 162,
    "start_time": "2025-01-18T11:56:54.678Z"
   },
   {
    "duration": 18,
    "start_time": "2025-01-18T11:56:54.842Z"
   },
   {
    "duration": 606,
    "start_time": "2025-01-18T11:56:54.863Z"
   },
   {
    "duration": 498,
    "start_time": "2025-01-18T11:56:55.471Z"
   },
   {
    "duration": 8,
    "start_time": "2025-01-18T11:56:55.971Z"
   },
   {
    "duration": 62,
    "start_time": "2025-01-18T11:56:55.980Z"
   },
   {
    "duration": 40,
    "start_time": "2025-01-18T11:56:56.044Z"
   },
   {
    "duration": 11,
    "start_time": "2025-01-18T11:56:56.086Z"
   },
   {
    "duration": 131,
    "start_time": "2025-01-18T11:56:56.098Z"
   },
   {
    "duration": 284,
    "start_time": "2025-01-18T11:56:56.230Z"
   },
   {
    "duration": 428,
    "start_time": "2025-01-18T11:56:56.515Z"
   },
   {
    "duration": 288,
    "start_time": "2025-01-18T11:56:56.945Z"
   },
   {
    "duration": 100,
    "start_time": "2025-01-18T11:56:57.235Z"
   },
   {
    "duration": 250,
    "start_time": "2025-01-18T11:56:57.337Z"
   },
   {
    "duration": 45,
    "start_time": "2025-01-18T11:56:57.588Z"
   },
   {
    "duration": 98,
    "start_time": "2025-01-18T11:56:57.634Z"
   },
   {
    "duration": 35,
    "start_time": "2025-01-18T11:56:57.734Z"
   },
   {
    "duration": 12,
    "start_time": "2025-01-18T11:56:57.771Z"
   },
   {
    "duration": 95,
    "start_time": "2025-01-18T11:56:57.785Z"
   },
   {
    "duration": 51,
    "start_time": "2025-01-18T11:56:57.882Z"
   },
   {
    "duration": 102,
    "start_time": "2025-01-18T11:56:57.937Z"
   },
   {
    "duration": 2,
    "start_time": "2025-01-18T11:56:58.041Z"
   },
   {
    "duration": 6235,
    "start_time": "2025-01-18T11:56:58.045Z"
   },
   {
    "duration": 22,
    "start_time": "2025-01-18T11:57:04.281Z"
   },
   {
    "duration": 8,
    "start_time": "2025-01-18T11:57:04.305Z"
   },
   {
    "duration": 47,
    "start_time": "2025-01-18T11:57:04.314Z"
   },
   {
    "duration": 137,
    "start_time": "2025-01-18T11:57:04.376Z"
   },
   {
    "duration": 210,
    "start_time": "2025-01-18T11:57:04.514Z"
   },
   {
    "duration": 70,
    "start_time": "2025-01-18T11:57:04.725Z"
   },
   {
    "duration": 2,
    "start_time": "2025-01-18T11:57:04.797Z"
   },
   {
    "duration": 67,
    "start_time": "2025-01-18T11:57:04.801Z"
   },
   {
    "duration": 5,
    "start_time": "2025-01-18T11:57:04.870Z"
   },
   {
    "duration": 126,
    "start_time": "2025-01-18T11:57:04.877Z"
   },
   {
    "duration": 3,
    "start_time": "2025-01-18T11:57:05.005Z"
   },
   {
    "duration": 7390,
    "start_time": "2025-01-18T13:00:48.809Z"
   },
   {
    "duration": 1679,
    "start_time": "2025-01-18T13:00:56.201Z"
   },
   {
    "duration": 4,
    "start_time": "2025-01-18T13:00:57.882Z"
   },
   {
    "duration": 11,
    "start_time": "2025-01-18T13:00:57.888Z"
   },
   {
    "duration": 21,
    "start_time": "2025-01-18T13:00:57.900Z"
   },
   {
    "duration": 7,
    "start_time": "2025-01-18T13:00:57.923Z"
   },
   {
    "duration": 915,
    "start_time": "2025-01-18T13:00:57.931Z"
   },
   {
    "duration": 160,
    "start_time": "2025-01-18T13:00:58.848Z"
   },
   {
    "duration": 5,
    "start_time": "2025-01-18T13:00:59.010Z"
   },
   {
    "duration": 659,
    "start_time": "2025-01-18T13:00:59.018Z"
   },
   {
    "duration": 523,
    "start_time": "2025-01-18T13:00:59.679Z"
   },
   {
    "duration": 7,
    "start_time": "2025-01-18T13:01:00.204Z"
   },
   {
    "duration": 112,
    "start_time": "2025-01-18T13:01:00.213Z"
   },
   {
    "duration": 46,
    "start_time": "2025-01-18T13:01:00.326Z"
   },
   {
    "duration": 25,
    "start_time": "2025-01-18T13:01:00.373Z"
   },
   {
    "duration": 143,
    "start_time": "2025-01-18T13:01:00.399Z"
   },
   {
    "duration": 323,
    "start_time": "2025-01-18T13:01:00.544Z"
   },
   {
    "duration": 425,
    "start_time": "2025-01-18T13:01:00.868Z"
   },
   {
    "duration": 286,
    "start_time": "2025-01-18T13:01:01.294Z"
   },
   {
    "duration": 96,
    "start_time": "2025-01-18T13:01:01.582Z"
   },
   {
    "duration": 224,
    "start_time": "2025-01-18T13:01:01.679Z"
   },
   {
    "duration": 76,
    "start_time": "2025-01-18T13:01:01.905Z"
   },
   {
    "duration": 70,
    "start_time": "2025-01-18T13:01:01.982Z"
   },
   {
    "duration": 22,
    "start_time": "2025-01-18T13:01:02.062Z"
   },
   {
    "duration": 3,
    "start_time": "2025-01-18T13:01:02.086Z"
   },
   {
    "duration": 100,
    "start_time": "2025-01-18T13:01:02.091Z"
   },
   {
    "duration": 83,
    "start_time": "2025-01-18T13:01:02.193Z"
   },
   {
    "duration": 94,
    "start_time": "2025-01-18T13:01:02.279Z"
   },
   {
    "duration": 5,
    "start_time": "2025-01-18T13:01:02.375Z"
   },
   {
    "duration": 6310,
    "start_time": "2025-01-18T13:01:02.382Z"
   },
   {
    "duration": 22,
    "start_time": "2025-01-18T13:01:08.694Z"
   },
   {
    "duration": 7,
    "start_time": "2025-01-18T13:01:08.718Z"
   },
   {
    "duration": 37,
    "start_time": "2025-01-18T13:01:08.727Z"
   },
   {
    "duration": 106,
    "start_time": "2025-01-18T13:01:08.766Z"
   },
   {
    "duration": 206,
    "start_time": "2025-01-18T13:01:08.873Z"
   },
   {
    "duration": 55,
    "start_time": "2025-01-18T13:01:09.081Z"
   },
   {
    "duration": 3,
    "start_time": "2025-01-18T13:01:09.137Z"
   },
   {
    "duration": 132,
    "start_time": "2025-01-18T13:01:09.158Z"
   },
   {
    "duration": 4,
    "start_time": "2025-01-18T13:01:09.292Z"
   },
   {
    "duration": 166,
    "start_time": "2025-01-18T13:01:09.298Z"
   },
   {
    "duration": 5,
    "start_time": "2025-01-18T13:01:09.470Z"
   },
   {
    "duration": 7387,
    "start_time": "2025-01-18T13:16:39.415Z"
   },
   {
    "duration": 1582,
    "start_time": "2025-01-18T13:16:46.805Z"
   },
   {
    "duration": 4,
    "start_time": "2025-01-18T13:16:48.388Z"
   },
   {
    "duration": 12,
    "start_time": "2025-01-18T13:16:48.395Z"
   },
   {
    "duration": 4,
    "start_time": "2025-01-18T13:16:48.408Z"
   },
   {
    "duration": 8,
    "start_time": "2025-01-18T13:16:48.413Z"
   },
   {
    "duration": 885,
    "start_time": "2025-01-18T13:16:48.422Z"
   },
   {
    "duration": 159,
    "start_time": "2025-01-18T13:16:49.309Z"
   },
   {
    "duration": 4,
    "start_time": "2025-01-18T13:16:49.470Z"
   },
   {
    "duration": 596,
    "start_time": "2025-01-18T13:16:49.477Z"
   },
   {
    "duration": 516,
    "start_time": "2025-01-18T13:16:50.075Z"
   },
   {
    "duration": 7,
    "start_time": "2025-01-18T13:16:50.592Z"
   },
   {
    "duration": 70,
    "start_time": "2025-01-18T13:16:50.601Z"
   },
   {
    "duration": 37,
    "start_time": "2025-01-18T13:16:50.673Z"
   },
   {
    "duration": 26,
    "start_time": "2025-01-18T13:16:50.712Z"
   },
   {
    "duration": 136,
    "start_time": "2025-01-18T13:16:50.739Z"
   },
   {
    "duration": 266,
    "start_time": "2025-01-18T13:16:50.877Z"
   },
   {
    "duration": 394,
    "start_time": "2025-01-18T13:16:51.144Z"
   },
   {
    "duration": 256,
    "start_time": "2025-01-18T13:16:51.539Z"
   },
   {
    "duration": 89,
    "start_time": "2025-01-18T13:16:51.797Z"
   },
   {
    "duration": 200,
    "start_time": "2025-01-18T13:16:51.888Z"
   },
   {
    "duration": 66,
    "start_time": "2025-01-18T13:16:52.089Z"
   },
   {
    "duration": 71,
    "start_time": "2025-01-18T13:16:52.157Z"
   },
   {
    "duration": 32,
    "start_time": "2025-01-18T13:16:52.229Z"
   },
   {
    "duration": 3,
    "start_time": "2025-01-18T13:16:52.265Z"
   },
   {
    "duration": 100,
    "start_time": "2025-01-18T13:16:52.270Z"
   },
   {
    "duration": 49,
    "start_time": "2025-01-18T13:16:52.371Z"
   },
   {
    "duration": 93,
    "start_time": "2025-01-18T13:16:52.423Z"
   },
   {
    "duration": 3,
    "start_time": "2025-01-18T13:16:52.518Z"
   },
   {
    "duration": 6144,
    "start_time": "2025-01-18T13:16:52.522Z"
   },
   {
    "duration": 23,
    "start_time": "2025-01-18T13:16:58.667Z"
   },
   {
    "duration": 9,
    "start_time": "2025-01-18T13:16:58.691Z"
   },
   {
    "duration": 17,
    "start_time": "2025-01-18T13:16:58.701Z"
   },
   {
    "duration": 121,
    "start_time": "2025-01-18T13:16:58.719Z"
   },
   {
    "duration": 195,
    "start_time": "2025-01-18T13:16:58.841Z"
   },
   {
    "duration": 65,
    "start_time": "2025-01-18T13:16:59.038Z"
   },
   {
    "duration": 39,
    "start_time": "2025-01-18T13:16:59.104Z"
   },
   {
    "duration": 132,
    "start_time": "2025-01-18T13:16:59.144Z"
   },
   {
    "duration": 5,
    "start_time": "2025-01-18T13:16:59.278Z"
   },
   {
    "duration": 123,
    "start_time": "2025-01-18T13:16:59.285Z"
   },
   {
    "duration": 4,
    "start_time": "2025-01-18T13:16:59.410Z"
   },
   {
    "duration": 21735,
    "start_time": "2025-01-18T13:16:59.415Z"
   },
   {
    "duration": 91,
    "start_time": "2025-01-18T13:17:21.151Z"
   },
   {
    "duration": 89,
    "start_time": "2025-01-18T13:17:21.244Z"
   },
   {
    "duration": 8,
    "start_time": "2025-01-18T13:17:21.335Z"
   },
   {
    "duration": 0,
    "start_time": "2025-01-18T13:17:21.345Z"
   },
   {
    "duration": 0,
    "start_time": "2025-01-18T13:17:21.346Z"
   },
   {
    "duration": 0,
    "start_time": "2025-01-18T13:17:21.347Z"
   },
   {
    "duration": 0,
    "start_time": "2025-01-18T13:17:21.348Z"
   },
   {
    "duration": 0,
    "start_time": "2025-01-18T13:17:21.349Z"
   },
   {
    "duration": 4,
    "start_time": "2025-01-18T13:17:26.828Z"
   },
   {
    "duration": 3,
    "start_time": "2025-01-18T13:17:30.648Z"
   },
   {
    "duration": 96,
    "start_time": "2025-01-18T13:18:06.757Z"
   },
   {
    "duration": 95,
    "start_time": "2025-01-18T13:18:06.854Z"
   },
   {
    "duration": 8,
    "start_time": "2025-01-18T13:18:06.952Z"
   },
   {
    "duration": 0,
    "start_time": "2025-01-18T13:18:06.961Z"
   },
   {
    "duration": 0,
    "start_time": "2025-01-18T13:18:06.963Z"
   },
   {
    "duration": 0,
    "start_time": "2025-01-18T13:18:06.964Z"
   },
   {
    "duration": 0,
    "start_time": "2025-01-18T13:18:06.966Z"
   },
   {
    "duration": 0,
    "start_time": "2025-01-18T13:18:06.967Z"
   },
   {
    "duration": 0,
    "start_time": "2025-01-18T13:18:06.969Z"
   },
   {
    "duration": 403613,
    "start_time": "2025-01-18T13:18:08.351Z"
   },
   {
    "duration": 184305,
    "start_time": "2025-01-18T13:24:55.258Z"
   },
   {
    "duration": 400,
    "start_time": "2025-01-18T13:27:59.565Z"
   },
   {
    "duration": 5,
    "start_time": "2025-01-18T13:27:59.966Z"
   },
   {
    "duration": 7,
    "start_time": "2025-01-18T13:27:59.972Z"
   },
   {
    "duration": 7685,
    "start_time": "2025-01-18T13:53:11.208Z"
   },
   {
    "duration": 1630,
    "start_time": "2025-01-18T13:53:18.895Z"
   },
   {
    "duration": 5,
    "start_time": "2025-01-18T13:53:20.526Z"
   },
   {
    "duration": 5,
    "start_time": "2025-01-18T13:53:20.533Z"
   },
   {
    "duration": 4,
    "start_time": "2025-01-18T13:53:20.540Z"
   },
   {
    "duration": 13,
    "start_time": "2025-01-18T13:53:20.558Z"
   },
   {
    "duration": 916,
    "start_time": "2025-01-18T13:53:20.573Z"
   },
   {
    "duration": 148,
    "start_time": "2025-01-18T13:53:21.491Z"
   },
   {
    "duration": 17,
    "start_time": "2025-01-18T13:53:21.641Z"
   },
   {
    "duration": 624,
    "start_time": "2025-01-18T13:53:21.668Z"
   },
   {
    "duration": 540,
    "start_time": "2025-01-18T13:53:22.294Z"
   },
   {
    "duration": 8,
    "start_time": "2025-01-18T13:53:22.836Z"
   },
   {
    "duration": 64,
    "start_time": "2025-01-18T13:53:22.862Z"
   },
   {
    "duration": 36,
    "start_time": "2025-01-18T13:53:22.928Z"
   },
   {
    "duration": 15,
    "start_time": "2025-01-18T13:53:22.966Z"
   },
   {
    "duration": 156,
    "start_time": "2025-01-18T13:53:22.983Z"
   },
   {
    "duration": 297,
    "start_time": "2025-01-18T13:53:23.140Z"
   },
   {
    "duration": 424,
    "start_time": "2025-01-18T13:53:23.438Z"
   },
   {
    "duration": 304,
    "start_time": "2025-01-18T13:53:23.863Z"
   },
   {
    "duration": 89,
    "start_time": "2025-01-18T13:53:24.170Z"
   },
   {
    "duration": 216,
    "start_time": "2025-01-18T13:53:24.267Z"
   },
   {
    "duration": 96,
    "start_time": "2025-01-18T13:53:24.486Z"
   },
   {
    "duration": 91,
    "start_time": "2025-01-18T13:53:24.583Z"
   },
   {
    "duration": 17,
    "start_time": "2025-01-18T13:53:24.676Z"
   },
   {
    "duration": 7,
    "start_time": "2025-01-18T13:53:24.694Z"
   },
   {
    "duration": 98,
    "start_time": "2025-01-18T13:53:24.702Z"
   },
   {
    "duration": 69,
    "start_time": "2025-01-18T13:53:24.801Z"
   },
   {
    "duration": 153,
    "start_time": "2025-01-18T13:53:24.876Z"
   },
   {
    "duration": 3,
    "start_time": "2025-01-18T13:53:25.031Z"
   },
   {
    "duration": 6524,
    "start_time": "2025-01-18T13:53:25.036Z"
   },
   {
    "duration": 22,
    "start_time": "2025-01-18T13:53:31.566Z"
   },
   {
    "duration": 8,
    "start_time": "2025-01-18T13:53:31.590Z"
   },
   {
    "duration": 16,
    "start_time": "2025-01-18T13:53:31.600Z"
   },
   {
    "duration": 145,
    "start_time": "2025-01-18T13:53:31.617Z"
   },
   {
    "duration": 198,
    "start_time": "2025-01-18T13:53:31.766Z"
   },
   {
    "duration": 62,
    "start_time": "2025-01-18T13:53:31.966Z"
   },
   {
    "duration": 4,
    "start_time": "2025-01-18T13:53:32.031Z"
   },
   {
    "duration": 154,
    "start_time": "2025-01-18T13:53:32.036Z"
   },
   {
    "duration": 4,
    "start_time": "2025-01-18T13:53:32.192Z"
   },
   {
    "duration": 132,
    "start_time": "2025-01-18T13:53:32.198Z"
   },
   {
    "duration": 3,
    "start_time": "2025-01-18T13:53:32.332Z"
   },
   {
    "duration": 644929,
    "start_time": "2025-01-18T13:53:32.337Z"
   },
   {
    "duration": 7896,
    "start_time": "2025-01-18T14:16:02.741Z"
   },
   {
    "duration": 1754,
    "start_time": "2025-01-18T14:16:10.639Z"
   },
   {
    "duration": 4,
    "start_time": "2025-01-18T14:16:12.395Z"
   },
   {
    "duration": 5,
    "start_time": "2025-01-18T14:16:12.401Z"
   },
   {
    "duration": 5,
    "start_time": "2025-01-18T14:16:12.408Z"
   },
   {
    "duration": 3,
    "start_time": "2025-01-18T14:16:12.415Z"
   },
   {
    "duration": 957,
    "start_time": "2025-01-18T14:16:12.420Z"
   },
   {
    "duration": 159,
    "start_time": "2025-01-18T14:16:13.379Z"
   },
   {
    "duration": 24,
    "start_time": "2025-01-18T14:16:13.539Z"
   },
   {
    "duration": 696,
    "start_time": "2025-01-18T14:16:13.569Z"
   },
   {
    "duration": 596,
    "start_time": "2025-01-18T14:16:14.267Z"
   },
   {
    "duration": 9,
    "start_time": "2025-01-18T14:16:14.874Z"
   },
   {
    "duration": 88,
    "start_time": "2025-01-18T14:16:14.885Z"
   },
   {
    "duration": 46,
    "start_time": "2025-01-18T14:16:14.976Z"
   },
   {
    "duration": 41,
    "start_time": "2025-01-18T14:16:15.024Z"
   },
   {
    "duration": 163,
    "start_time": "2025-01-18T14:16:15.066Z"
   },
   {
    "duration": 317,
    "start_time": "2025-01-18T14:16:15.231Z"
   },
   {
    "duration": 481,
    "start_time": "2025-01-18T14:16:15.554Z"
   },
   {
    "duration": 299,
    "start_time": "2025-01-18T14:16:16.037Z"
   },
   {
    "duration": 102,
    "start_time": "2025-01-18T14:16:16.337Z"
   },
   {
    "duration": 232,
    "start_time": "2025-01-18T14:16:16.440Z"
   },
   {
    "duration": 47,
    "start_time": "2025-01-18T14:16:16.674Z"
   },
   {
    "duration": 101,
    "start_time": "2025-01-18T14:16:16.722Z"
   },
   {
    "duration": 22,
    "start_time": "2025-01-18T14:16:16.828Z"
   },
   {
    "duration": 9,
    "start_time": "2025-01-18T14:16:16.857Z"
   },
   {
    "duration": 137,
    "start_time": "2025-01-18T14:16:16.870Z"
   },
   {
    "duration": 65,
    "start_time": "2025-01-18T14:16:17.009Z"
   },
   {
    "duration": 119,
    "start_time": "2025-01-18T14:16:17.079Z"
   },
   {
    "duration": 3,
    "start_time": "2025-01-18T14:16:17.200Z"
   },
   {
    "duration": 6593,
    "start_time": "2025-01-18T14:16:17.204Z"
   },
   {
    "duration": 22,
    "start_time": "2025-01-18T14:16:23.799Z"
   },
   {
    "duration": 9,
    "start_time": "2025-01-18T14:16:23.822Z"
   },
   {
    "duration": 80,
    "start_time": "2025-01-18T14:16:23.832Z"
   },
   {
    "duration": 114,
    "start_time": "2025-01-18T14:16:23.913Z"
   },
   {
    "duration": 233,
    "start_time": "2025-01-18T14:16:24.029Z"
   },
   {
    "duration": 77,
    "start_time": "2025-01-18T14:16:24.264Z"
   },
   {
    "duration": 14,
    "start_time": "2025-01-18T14:16:24.343Z"
   },
   {
    "duration": 169,
    "start_time": "2025-01-18T14:16:24.362Z"
   },
   {
    "duration": 6,
    "start_time": "2025-01-18T14:16:24.533Z"
   },
   {
    "duration": 129,
    "start_time": "2025-01-18T14:16:24.541Z"
   },
   {
    "duration": 4,
    "start_time": "2025-01-18T14:16:24.672Z"
   },
   {
    "duration": 830304,
    "start_time": "2025-01-18T14:16:24.678Z"
   },
   {
    "duration": 953091,
    "start_time": "2025-01-18T14:30:14.984Z"
   },
   {
    "duration": 496,
    "start_time": "2025-01-18T14:46:08.077Z"
   },
   {
    "duration": 5,
    "start_time": "2025-01-18T14:46:08.577Z"
   },
   {
    "duration": 146,
    "start_time": "2025-01-18T14:46:08.584Z"
   },
   {
    "duration": 0,
    "start_time": "2025-01-18T14:46:08.732Z"
   },
   {
    "duration": 0,
    "start_time": "2025-01-18T14:46:08.733Z"
   },
   {
    "duration": 0,
    "start_time": "2025-01-18T14:46:08.735Z"
   },
   {
    "duration": 0,
    "start_time": "2025-01-18T14:46:08.736Z"
   },
   {
    "duration": 13,
    "start_time": "2025-01-18T17:19:13.304Z"
   },
   {
    "duration": 5,
    "start_time": "2025-01-18T17:20:16.954Z"
   },
   {
    "duration": 6,
    "start_time": "2025-01-18T17:20:20.861Z"
   },
   {
    "duration": 66748,
    "start_time": "2025-01-18T17:20:21.252Z"
   },
   {
    "duration": 6168,
    "start_time": "2025-01-18T17:21:28.002Z"
   },
   {
    "duration": 409,
    "start_time": "2025-01-18T17:21:34.172Z"
   },
   {
    "duration": 4,
    "start_time": "2025-01-18T17:21:34.583Z"
   },
   {
    "duration": 10,
    "start_time": "2025-01-18T17:31:05.914Z"
   },
   {
    "duration": 10,
    "start_time": "2025-01-18T17:31:22.910Z"
   },
   {
    "duration": 10,
    "start_time": "2025-01-18T17:31:34.903Z"
   },
   {
    "duration": 10,
    "start_time": "2025-01-18T17:32:44.640Z"
   },
   {
    "duration": 7252,
    "start_time": "2025-01-18T17:33:18.915Z"
   },
   {
    "duration": 1627,
    "start_time": "2025-01-18T17:33:26.169Z"
   },
   {
    "duration": 5,
    "start_time": "2025-01-18T17:33:27.797Z"
   },
   {
    "duration": 6,
    "start_time": "2025-01-18T17:33:27.804Z"
   },
   {
    "duration": 5,
    "start_time": "2025-01-18T17:33:27.811Z"
   },
   {
    "duration": 6,
    "start_time": "2025-01-18T17:33:27.817Z"
   },
   {
    "duration": 869,
    "start_time": "2025-01-18T17:33:27.825Z"
   },
   {
    "duration": 160,
    "start_time": "2025-01-18T17:33:28.696Z"
   },
   {
    "duration": 6,
    "start_time": "2025-01-18T17:33:28.865Z"
   },
   {
    "duration": 608,
    "start_time": "2025-01-18T17:33:28.874Z"
   },
   {
    "duration": 514,
    "start_time": "2025-01-18T17:33:29.484Z"
   },
   {
    "duration": 10,
    "start_time": "2025-01-18T17:33:29.999Z"
   },
   {
    "duration": 123,
    "start_time": "2025-01-18T17:33:30.010Z"
   },
   {
    "duration": 40,
    "start_time": "2025-01-18T17:33:30.135Z"
   },
   {
    "duration": 26,
    "start_time": "2025-01-18T17:33:30.176Z"
   },
   {
    "duration": 132,
    "start_time": "2025-01-18T17:33:30.204Z"
   },
   {
    "duration": 279,
    "start_time": "2025-01-18T17:33:30.338Z"
   },
   {
    "duration": 418,
    "start_time": "2025-01-18T17:33:30.619Z"
   },
   {
    "duration": 280,
    "start_time": "2025-01-18T17:33:31.038Z"
   },
   {
    "duration": 89,
    "start_time": "2025-01-18T17:33:31.319Z"
   },
   {
    "duration": 199,
    "start_time": "2025-01-18T17:33:31.410Z"
   },
   {
    "duration": 66,
    "start_time": "2025-01-18T17:33:31.610Z"
   },
   {
    "duration": 90,
    "start_time": "2025-01-18T17:33:31.678Z"
   },
   {
    "duration": 17,
    "start_time": "2025-01-18T17:33:31.769Z"
   },
   {
    "duration": 4,
    "start_time": "2025-01-18T17:33:31.787Z"
   },
   {
    "duration": 102,
    "start_time": "2025-01-18T17:33:31.792Z"
   },
   {
    "duration": 50,
    "start_time": "2025-01-18T17:33:31.895Z"
   },
   {
    "duration": 86,
    "start_time": "2025-01-18T17:33:31.956Z"
   },
   {
    "duration": 14,
    "start_time": "2025-01-18T17:33:32.043Z"
   },
   {
    "duration": 6218,
    "start_time": "2025-01-18T17:33:32.059Z"
   },
   {
    "duration": 22,
    "start_time": "2025-01-18T17:33:38.279Z"
   },
   {
    "duration": 9,
    "start_time": "2025-01-18T17:33:38.302Z"
   },
   {
    "duration": 15,
    "start_time": "2025-01-18T17:33:38.313Z"
   },
   {
    "duration": 132,
    "start_time": "2025-01-18T17:33:38.330Z"
   },
   {
    "duration": 189,
    "start_time": "2025-01-18T17:33:38.469Z"
   },
   {
    "duration": 62,
    "start_time": "2025-01-18T17:33:38.660Z"
   },
   {
    "duration": 66,
    "start_time": "2025-01-18T17:33:38.723Z"
   },
   {
    "duration": 134,
    "start_time": "2025-01-18T17:33:38.790Z"
   },
   {
    "duration": 4,
    "start_time": "2025-01-18T17:33:38.926Z"
   },
   {
    "duration": 131,
    "start_time": "2025-01-18T17:33:38.932Z"
   },
   {
    "duration": 6,
    "start_time": "2025-01-18T17:33:39.064Z"
   },
   {
    "duration": 296513,
    "start_time": "2025-01-18T17:33:39.071Z"
   },
   {
    "duration": 307577,
    "start_time": "2025-01-18T17:38:35.587Z"
   },
   {
    "duration": 402,
    "start_time": "2025-01-18T17:43:43.165Z"
   },
   {
    "duration": 89,
    "start_time": "2025-01-18T17:43:43.568Z"
   },
   {
    "duration": 4,
    "start_time": "2025-01-18T17:43:43.658Z"
   },
   {
    "duration": 64584,
    "start_time": "2025-01-18T17:43:43.663Z"
   },
   {
    "duration": 5986,
    "start_time": "2025-01-18T17:44:48.253Z"
   },
   {
    "duration": 384,
    "start_time": "2025-01-18T17:44:54.241Z"
   },
   {
    "duration": 5,
    "start_time": "2025-01-18T17:44:54.627Z"
   },
   {
    "duration": 22,
    "start_time": "2025-01-18T17:44:54.633Z"
   },
   {
    "duration": 59,
    "start_time": "2025-01-19T22:39:05.554Z"
   },
   {
    "duration": 8,
    "start_time": "2025-01-19T22:41:03.529Z"
   },
   {
    "duration": 18818,
    "start_time": "2025-01-19T22:51:09.122Z"
   },
   {
    "duration": 1846,
    "start_time": "2025-01-19T22:51:27.942Z"
   },
   {
    "duration": 4,
    "start_time": "2025-01-19T22:51:29.789Z"
   },
   {
    "duration": 13,
    "start_time": "2025-01-19T22:51:29.795Z"
   },
   {
    "duration": 8,
    "start_time": "2025-01-19T22:51:29.810Z"
   },
   {
    "duration": 2,
    "start_time": "2025-01-19T22:51:29.820Z"
   },
   {
    "duration": 3040,
    "start_time": "2025-01-19T22:51:29.823Z"
   },
   {
    "duration": 151,
    "start_time": "2025-01-19T22:51:32.864Z"
   },
   {
    "duration": 4,
    "start_time": "2025-01-19T22:51:33.017Z"
   },
   {
    "duration": 628,
    "start_time": "2025-01-19T22:51:33.024Z"
   },
   {
    "duration": 537,
    "start_time": "2025-01-19T22:51:33.654Z"
   },
   {
    "duration": 9,
    "start_time": "2025-01-19T22:51:34.193Z"
   },
   {
    "duration": 217,
    "start_time": "2025-01-19T22:51:34.203Z"
   },
   {
    "duration": 20,
    "start_time": "2025-01-19T22:51:34.422Z"
   },
   {
    "duration": 13,
    "start_time": "2025-01-19T22:51:34.444Z"
   },
   {
    "duration": 111,
    "start_time": "2025-01-19T22:51:34.459Z"
   },
   {
    "duration": 261,
    "start_time": "2025-01-19T22:51:34.572Z"
   },
   {
    "duration": 439,
    "start_time": "2025-01-19T22:51:34.835Z"
   },
   {
    "duration": 264,
    "start_time": "2025-01-19T22:51:35.275Z"
   },
   {
    "duration": 92,
    "start_time": "2025-01-19T22:51:35.540Z"
   },
   {
    "duration": 201,
    "start_time": "2025-01-19T22:51:35.633Z"
   },
   {
    "duration": 44,
    "start_time": "2025-01-19T22:51:35.836Z"
   },
   {
    "duration": 109,
    "start_time": "2025-01-19T22:51:35.882Z"
   },
   {
    "duration": 18,
    "start_time": "2025-01-19T22:51:35.992Z"
   },
   {
    "duration": 42,
    "start_time": "2025-01-19T22:51:36.014Z"
   },
   {
    "duration": 108,
    "start_time": "2025-01-19T22:51:36.058Z"
   },
   {
    "duration": 80,
    "start_time": "2025-01-19T22:51:36.167Z"
   },
   {
    "duration": 94,
    "start_time": "2025-01-19T22:51:36.250Z"
   },
   {
    "duration": 36,
    "start_time": "2025-01-19T22:51:36.345Z"
   },
   {
    "duration": 6028,
    "start_time": "2025-01-19T22:51:36.383Z"
   },
   {
    "duration": 25,
    "start_time": "2025-01-19T22:51:42.414Z"
   },
   {
    "duration": 10,
    "start_time": "2025-01-19T22:51:42.441Z"
   },
   {
    "duration": 18,
    "start_time": "2025-01-19T22:51:42.453Z"
   },
   {
    "duration": 129,
    "start_time": "2025-01-19T22:51:42.473Z"
   },
   {
    "duration": 196,
    "start_time": "2025-01-19T22:51:42.604Z"
   },
   {
    "duration": 61,
    "start_time": "2025-01-19T22:51:42.802Z"
   },
   {
    "duration": 17,
    "start_time": "2025-01-19T22:51:42.865Z"
   },
   {
    "duration": 50,
    "start_time": "2025-01-19T22:51:42.883Z"
   },
   {
    "duration": 5,
    "start_time": "2025-01-19T22:51:42.935Z"
   },
   {
    "duration": 122,
    "start_time": "2025-01-19T22:51:42.941Z"
   },
   {
    "duration": 4,
    "start_time": "2025-01-19T22:51:43.064Z"
   },
   {
    "duration": 19558,
    "start_time": "2025-01-19T22:51:43.070Z"
   },
   {
    "duration": 0,
    "start_time": "2025-01-19T22:52:02.630Z"
   },
   {
    "duration": 0,
    "start_time": "2025-01-19T22:52:02.631Z"
   },
   {
    "duration": 0,
    "start_time": "2025-01-19T22:52:02.632Z"
   },
   {
    "duration": 18640,
    "start_time": "2025-01-19T22:53:12.786Z"
   },
   {
    "duration": 7370,
    "start_time": "2025-01-19T22:53:38.436Z"
   },
   {
    "duration": 1699,
    "start_time": "2025-01-19T22:53:45.809Z"
   },
   {
    "duration": 4,
    "start_time": "2025-01-19T22:53:47.510Z"
   },
   {
    "duration": 6,
    "start_time": "2025-01-19T22:53:47.517Z"
   },
   {
    "duration": 4,
    "start_time": "2025-01-19T22:53:47.525Z"
   },
   {
    "duration": 4,
    "start_time": "2025-01-19T22:53:47.531Z"
   },
   {
    "duration": 923,
    "start_time": "2025-01-19T22:53:47.537Z"
   },
   {
    "duration": 141,
    "start_time": "2025-01-19T22:53:48.462Z"
   },
   {
    "duration": 4,
    "start_time": "2025-01-19T22:53:48.614Z"
   },
   {
    "duration": 636,
    "start_time": "2025-01-19T22:53:48.621Z"
   },
   {
    "duration": 542,
    "start_time": "2025-01-19T22:53:49.258Z"
   },
   {
    "duration": 17,
    "start_time": "2025-01-19T22:53:49.801Z"
   },
   {
    "duration": 221,
    "start_time": "2025-01-19T22:53:49.819Z"
   },
   {
    "duration": 30,
    "start_time": "2025-01-19T22:53:50.042Z"
   },
   {
    "duration": 19,
    "start_time": "2025-01-19T22:53:50.074Z"
   },
   {
    "duration": 108,
    "start_time": "2025-01-19T22:53:50.094Z"
   },
   {
    "duration": 265,
    "start_time": "2025-01-19T22:53:50.204Z"
   },
   {
    "duration": 413,
    "start_time": "2025-01-19T22:53:50.471Z"
   },
   {
    "duration": 254,
    "start_time": "2025-01-19T22:53:50.886Z"
   },
   {
    "duration": 86,
    "start_time": "2025-01-19T22:53:51.142Z"
   },
   {
    "duration": 190,
    "start_time": "2025-01-19T22:53:51.229Z"
   },
   {
    "duration": 45,
    "start_time": "2025-01-19T22:53:51.420Z"
   },
   {
    "duration": 89,
    "start_time": "2025-01-19T22:53:51.467Z"
   },
   {
    "duration": 19,
    "start_time": "2025-01-19T22:53:51.557Z"
   },
   {
    "duration": 15,
    "start_time": "2025-01-19T22:53:51.577Z"
   },
   {
    "duration": 79,
    "start_time": "2025-01-19T22:53:51.593Z"
   },
   {
    "duration": 82,
    "start_time": "2025-01-19T22:53:51.673Z"
   },
   {
    "duration": 89,
    "start_time": "2025-01-19T22:53:51.758Z"
   },
   {
    "duration": 28,
    "start_time": "2025-01-19T22:53:51.848Z"
   },
   {
    "duration": 5832,
    "start_time": "2025-01-19T22:53:51.878Z"
   },
   {
    "duration": 23,
    "start_time": "2025-01-19T22:53:57.712Z"
   },
   {
    "duration": 8,
    "start_time": "2025-01-19T22:53:57.737Z"
   },
   {
    "duration": 17,
    "start_time": "2025-01-19T22:53:57.747Z"
   },
   {
    "duration": 122,
    "start_time": "2025-01-19T22:53:57.765Z"
   },
   {
    "duration": 204,
    "start_time": "2025-01-19T22:53:57.888Z"
   },
   {
    "duration": 60,
    "start_time": "2025-01-19T22:53:58.094Z"
   },
   {
    "duration": 3,
    "start_time": "2025-01-19T22:53:58.156Z"
   },
   {
    "duration": 160,
    "start_time": "2025-01-19T22:53:58.160Z"
   },
   {
    "duration": 5,
    "start_time": "2025-01-19T22:53:58.322Z"
   },
   {
    "duration": 124,
    "start_time": "2025-01-19T22:53:58.329Z"
   },
   {
    "duration": 3,
    "start_time": "2025-01-19T22:53:58.455Z"
   },
   {
    "duration": 28981,
    "start_time": "2025-01-19T22:53:58.460Z"
   },
   {
    "duration": 3,
    "start_time": "2025-01-19T22:54:27.443Z"
   },
   {
    "duration": 7299,
    "start_time": "2025-01-19T22:55:48.382Z"
   },
   {
    "duration": 1767,
    "start_time": "2025-01-19T22:55:55.684Z"
   },
   {
    "duration": 4,
    "start_time": "2025-01-19T22:55:57.453Z"
   },
   {
    "duration": 14,
    "start_time": "2025-01-19T22:55:57.459Z"
   },
   {
    "duration": 14,
    "start_time": "2025-01-19T22:55:57.475Z"
   },
   {
    "duration": 7,
    "start_time": "2025-01-19T22:55:57.491Z"
   },
   {
    "duration": 946,
    "start_time": "2025-01-19T22:55:57.499Z"
   },
   {
    "duration": 160,
    "start_time": "2025-01-19T22:55:58.446Z"
   },
   {
    "duration": 7,
    "start_time": "2025-01-19T22:55:58.608Z"
   },
   {
    "duration": 661,
    "start_time": "2025-01-19T22:55:58.618Z"
   },
   {
    "duration": 569,
    "start_time": "2025-01-19T22:55:59.281Z"
   },
   {
    "duration": 7,
    "start_time": "2025-01-19T22:55:59.852Z"
   },
   {
    "duration": 232,
    "start_time": "2025-01-19T22:55:59.861Z"
   },
   {
    "duration": 28,
    "start_time": "2025-01-19T22:56:00.095Z"
   },
   {
    "duration": 37,
    "start_time": "2025-01-19T22:56:00.125Z"
   },
   {
    "duration": 142,
    "start_time": "2025-01-19T22:56:00.164Z"
   },
   {
    "duration": 271,
    "start_time": "2025-01-19T22:56:00.307Z"
   },
   {
    "duration": 420,
    "start_time": "2025-01-19T22:56:00.580Z"
   },
   {
    "duration": 260,
    "start_time": "2025-01-19T22:56:01.001Z"
   },
   {
    "duration": 94,
    "start_time": "2025-01-19T22:56:01.263Z"
   },
   {
    "duration": 177,
    "start_time": "2025-01-19T22:56:01.358Z"
   },
   {
    "duration": 46,
    "start_time": "2025-01-19T22:56:01.537Z"
   },
   {
    "duration": 98,
    "start_time": "2025-01-19T22:56:01.585Z"
   },
   {
    "duration": 30,
    "start_time": "2025-01-19T22:56:01.685Z"
   },
   {
    "duration": 53,
    "start_time": "2025-01-19T22:56:01.717Z"
   },
   {
    "duration": 90,
    "start_time": "2025-01-19T22:56:01.772Z"
   },
   {
    "duration": 111,
    "start_time": "2025-01-19T22:56:01.864Z"
   },
   {
    "duration": 81,
    "start_time": "2025-01-19T22:56:01.979Z"
   },
   {
    "duration": 15,
    "start_time": "2025-01-19T22:56:02.061Z"
   },
   {
    "duration": 5794,
    "start_time": "2025-01-19T22:56:02.077Z"
   },
   {
    "duration": 25,
    "start_time": "2025-01-19T22:56:07.872Z"
   },
   {
    "duration": 22,
    "start_time": "2025-01-19T22:56:07.898Z"
   },
   {
    "duration": 18,
    "start_time": "2025-01-19T22:56:07.921Z"
   },
   {
    "duration": 113,
    "start_time": "2025-01-19T22:56:07.941Z"
   },
   {
    "duration": 201,
    "start_time": "2025-01-19T22:56:08.056Z"
   },
   {
    "duration": 65,
    "start_time": "2025-01-19T22:56:08.259Z"
   },
   {
    "duration": 3,
    "start_time": "2025-01-19T22:56:08.325Z"
   },
   {
    "duration": 153,
    "start_time": "2025-01-19T22:56:08.330Z"
   },
   {
    "duration": 4,
    "start_time": "2025-01-19T22:56:08.485Z"
   },
   {
    "duration": 118,
    "start_time": "2025-01-19T22:56:08.491Z"
   },
   {
    "duration": 3,
    "start_time": "2025-01-19T22:56:08.614Z"
   },
   {
    "duration": 27400,
    "start_time": "2025-01-19T22:56:08.619Z"
   },
   {
    "duration": 5,
    "start_time": "2025-01-19T22:56:36.021Z"
   },
   {
    "duration": 76792,
    "start_time": "2025-01-19T22:56:36.027Z"
   },
   {
    "duration": 127,
    "start_time": "2025-01-19T22:57:52.820Z"
   },
   {
    "duration": 7425,
    "start_time": "2025-01-19T22:58:51.838Z"
   },
   {
    "duration": 1677,
    "start_time": "2025-01-19T22:58:59.266Z"
   },
   {
    "duration": 4,
    "start_time": "2025-01-19T22:59:00.944Z"
   },
   {
    "duration": 17,
    "start_time": "2025-01-19T22:59:00.950Z"
   },
   {
    "duration": 11,
    "start_time": "2025-01-19T22:59:00.969Z"
   },
   {
    "duration": 3,
    "start_time": "2025-01-19T22:59:00.982Z"
   },
   {
    "duration": 959,
    "start_time": "2025-01-19T22:59:00.987Z"
   },
   {
    "duration": 146,
    "start_time": "2025-01-19T22:59:01.947Z"
   },
   {
    "duration": 4,
    "start_time": "2025-01-19T22:59:02.095Z"
   },
   {
    "duration": 650,
    "start_time": "2025-01-19T22:59:02.115Z"
   },
   {
    "duration": 558,
    "start_time": "2025-01-19T22:59:02.767Z"
   },
   {
    "duration": 8,
    "start_time": "2025-01-19T22:59:03.326Z"
   },
   {
    "duration": 230,
    "start_time": "2025-01-19T22:59:03.336Z"
   },
   {
    "duration": 30,
    "start_time": "2025-01-19T22:59:03.568Z"
   },
   {
    "duration": 19,
    "start_time": "2025-01-19T22:59:03.600Z"
   },
   {
    "duration": 112,
    "start_time": "2025-01-19T22:59:03.621Z"
   },
   {
    "duration": 258,
    "start_time": "2025-01-19T22:59:03.735Z"
   },
   {
    "duration": 422,
    "start_time": "2025-01-19T22:59:03.994Z"
   },
   {
    "duration": 248,
    "start_time": "2025-01-19T22:59:04.418Z"
   },
   {
    "duration": 91,
    "start_time": "2025-01-19T22:59:04.667Z"
   },
   {
    "duration": 188,
    "start_time": "2025-01-19T22:59:04.759Z"
   },
   {
    "duration": 47,
    "start_time": "2025-01-19T22:59:04.948Z"
   },
   {
    "duration": 102,
    "start_time": "2025-01-19T22:59:05.016Z"
   },
   {
    "duration": 18,
    "start_time": "2025-01-19T22:59:05.120Z"
   },
   {
    "duration": 28,
    "start_time": "2025-01-19T22:59:05.139Z"
   },
   {
    "duration": 79,
    "start_time": "2025-01-19T22:59:05.169Z"
   },
   {
    "duration": 80,
    "start_time": "2025-01-19T22:59:05.249Z"
   },
   {
    "duration": 88,
    "start_time": "2025-01-19T22:59:05.334Z"
   },
   {
    "duration": 3,
    "start_time": "2025-01-19T22:59:05.425Z"
   },
   {
    "duration": 5890,
    "start_time": "2025-01-19T22:59:05.429Z"
   },
   {
    "duration": 24,
    "start_time": "2025-01-19T22:59:11.321Z"
   },
   {
    "duration": 22,
    "start_time": "2025-01-19T22:59:11.347Z"
   },
   {
    "duration": 19,
    "start_time": "2025-01-19T22:59:11.370Z"
   },
   {
    "duration": 118,
    "start_time": "2025-01-19T22:59:11.391Z"
   },
   {
    "duration": 211,
    "start_time": "2025-01-19T22:59:11.514Z"
   },
   {
    "duration": 58,
    "start_time": "2025-01-19T22:59:11.728Z"
   },
   {
    "duration": 3,
    "start_time": "2025-01-19T22:59:11.788Z"
   },
   {
    "duration": 180,
    "start_time": "2025-01-19T22:59:11.793Z"
   },
   {
    "duration": 6,
    "start_time": "2025-01-19T22:59:11.975Z"
   },
   {
    "duration": 186,
    "start_time": "2025-01-19T22:59:11.982Z"
   },
   {
    "duration": 3,
    "start_time": "2025-01-19T22:59:12.170Z"
   },
   {
    "duration": 30458,
    "start_time": "2025-01-19T22:59:12.175Z"
   },
   {
    "duration": 4,
    "start_time": "2025-01-19T22:59:42.635Z"
   },
   {
    "duration": 75801,
    "start_time": "2025-01-19T22:59:42.640Z"
   },
   {
    "duration": 11,
    "start_time": "2025-01-19T23:00:58.443Z"
   },
   {
    "duration": 120,
    "start_time": "2025-01-20T01:22:05.614Z"
   },
   {
    "duration": 21,
    "start_time": "2025-01-20T01:23:33.020Z"
   },
   {
    "duration": 361,
    "start_time": "2025-01-20T01:24:30.970Z"
   },
   {
    "duration": 5,
    "start_time": "2025-01-20T01:24:54.208Z"
   },
   {
    "duration": 6,
    "start_time": "2025-01-20T01:26:11.299Z"
   },
   {
    "duration": 14,
    "start_time": "2025-01-20T01:30:34.491Z"
   },
   {
    "duration": 50,
    "start_time": "2025-01-20T01:31:12.132Z"
   },
   {
    "duration": 1345,
    "start_time": "2025-01-20T01:33:31.514Z"
   },
   {
    "duration": 7625,
    "start_time": "2025-01-20T01:38:37.391Z"
   },
   {
    "duration": 1766,
    "start_time": "2025-01-20T01:38:45.020Z"
   },
   {
    "duration": 4,
    "start_time": "2025-01-20T01:38:46.788Z"
   },
   {
    "duration": 46,
    "start_time": "2025-01-20T01:38:46.794Z"
   },
   {
    "duration": 6,
    "start_time": "2025-01-20T01:38:46.842Z"
   },
   {
    "duration": 9,
    "start_time": "2025-01-20T01:38:46.850Z"
   },
   {
    "duration": 995,
    "start_time": "2025-01-20T01:38:46.860Z"
   },
   {
    "duration": 145,
    "start_time": "2025-01-20T01:38:47.857Z"
   },
   {
    "duration": 13,
    "start_time": "2025-01-20T01:38:48.003Z"
   },
   {
    "duration": 671,
    "start_time": "2025-01-20T01:38:48.019Z"
   },
   {
    "duration": 532,
    "start_time": "2025-01-20T01:38:48.692Z"
   },
   {
    "duration": 9,
    "start_time": "2025-01-20T01:38:49.226Z"
   },
   {
    "duration": 219,
    "start_time": "2025-01-20T01:38:49.237Z"
   },
   {
    "duration": 28,
    "start_time": "2025-01-20T01:38:49.458Z"
   },
   {
    "duration": 49,
    "start_time": "2025-01-20T01:38:49.488Z"
   },
   {
    "duration": 97,
    "start_time": "2025-01-20T01:38:49.539Z"
   },
   {
    "duration": 267,
    "start_time": "2025-01-20T01:38:49.638Z"
   },
   {
    "duration": 409,
    "start_time": "2025-01-20T01:38:49.908Z"
   },
   {
    "duration": 252,
    "start_time": "2025-01-20T01:38:50.319Z"
   },
   {
    "duration": 92,
    "start_time": "2025-01-20T01:38:50.573Z"
   },
   {
    "duration": 187,
    "start_time": "2025-01-20T01:38:50.667Z"
   },
   {
    "duration": 68,
    "start_time": "2025-01-20T01:38:50.856Z"
   },
   {
    "duration": 75,
    "start_time": "2025-01-20T01:38:50.926Z"
   },
   {
    "duration": 30,
    "start_time": "2025-01-20T01:38:51.003Z"
   },
   {
    "duration": 17,
    "start_time": "2025-01-20T01:38:51.035Z"
   },
   {
    "duration": 81,
    "start_time": "2025-01-20T01:38:51.055Z"
   },
   {
    "duration": 62,
    "start_time": "2025-01-20T01:38:51.137Z"
   },
   {
    "duration": 93,
    "start_time": "2025-01-20T01:38:51.203Z"
   },
   {
    "duration": 16,
    "start_time": "2025-01-20T01:38:51.299Z"
   },
   {
    "duration": 6084,
    "start_time": "2025-01-20T01:38:51.317Z"
   },
   {
    "duration": 33,
    "start_time": "2025-01-20T01:38:57.402Z"
   },
   {
    "duration": 9,
    "start_time": "2025-01-20T01:38:57.436Z"
   },
   {
    "duration": 18,
    "start_time": "2025-01-20T01:38:57.447Z"
   },
   {
    "duration": 120,
    "start_time": "2025-01-20T01:38:57.467Z"
   },
   {
    "duration": 203,
    "start_time": "2025-01-20T01:38:57.589Z"
   },
   {
    "duration": 71,
    "start_time": "2025-01-20T01:38:57.794Z"
   },
   {
    "duration": 6,
    "start_time": "2025-01-20T01:38:57.867Z"
   },
   {
    "duration": 163,
    "start_time": "2025-01-20T01:38:57.875Z"
   },
   {
    "duration": 5,
    "start_time": "2025-01-20T01:38:58.040Z"
   },
   {
    "duration": 128,
    "start_time": "2025-01-20T01:38:58.046Z"
   },
   {
    "duration": 4,
    "start_time": "2025-01-20T01:38:58.176Z"
   },
   {
    "duration": 470446,
    "start_time": "2025-01-20T01:38:58.182Z"
   },
   {
    "duration": 4,
    "start_time": "2025-01-20T01:46:48.630Z"
   },
   {
    "duration": 76031,
    "start_time": "2025-01-20T01:46:48.635Z"
   },
   {
    "duration": 11,
    "start_time": "2025-01-20T01:48:04.668Z"
   },
   {
    "duration": 534,
    "start_time": "2025-01-20T01:48:04.681Z"
   },
   {
    "duration": 1421,
    "start_time": "2025-01-20T01:48:05.216Z"
   }
  ],
  "kernelspec": {
   "display_name": "Python 3 (ipykernel)",
   "language": "python",
   "name": "python3"
  },
  "language_info": {
   "codemirror_mode": {
    "name": "ipython",
    "version": 3
   },
   "file_extension": ".py",
   "mimetype": "text/x-python",
   "name": "python",
   "nbconvert_exporter": "python",
   "pygments_lexer": "ipython3",
   "version": "3.9.5"
  },
  "toc": {
   "base_numbering": 1,
   "nav_menu": {},
   "number_sections": true,
   "sideBar": true,
   "skip_h1_title": true,
   "title_cell": "Table of Contents",
   "title_sidebar": "Contents",
   "toc_cell": false,
   "toc_position": {
    "height": "calc(100% - 180px)",
    "left": "10px",
    "top": "150px",
    "width": "228.673px"
   },
   "toc_section_display": true,
   "toc_window_display": true
  }
 },
 "nbformat": 4,
 "nbformat_minor": 2
}
