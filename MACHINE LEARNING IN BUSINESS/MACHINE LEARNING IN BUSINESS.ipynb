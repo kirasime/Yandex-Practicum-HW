{
 "cells": [
  {
   "cell_type": "markdown",
   "metadata": {},
   "source": [
    "# Выбор локации для скважины"
   ]
  },
  {
   "cell_type": "markdown",
   "metadata": {},
   "source": [
    "Допустим, вы работаете в добывающей компании «ГлавРосГосНефть». Нужно решить, где бурить новую скважину.\n",
    "\n",
    "Вам предоставлены пробы нефти в трёх регионах: в каждом 10 000 месторождений, где измерили качество нефти и объём её запасов. Постройте модель машинного обучения, которая поможет определить регион, где добыча принесёт наибольшую прибыль. Проанализируйте возможную прибыль и риски техникой *Bootstrap.*\n",
    "\n",
    "Шаги для выбора локации:\n",
    "\n",
    "- В избранном регионе ищут месторождения, для каждого определяют значения признаков;\n",
    "- Строят модель и оценивают объём запасов;\n",
    "- Выбирают месторождения с самым высокими оценками значений. Количество месторождений зависит от бюджета компании и стоимости разработки одной скважины;\n",
    "- Прибыль равна суммарной прибыли отобранных месторождений."
   ]
  },
  {
   "cell_type": "markdown",
   "metadata": {},
   "source": [
    "# Используемые библиотеки"
   ]
  },
  {
   "cell_type": "code",
   "execution_count": 1,
   "metadata": {},
   "outputs": [
    {
     "name": "stdout",
     "output_type": "stream",
     "text": [
      "Collecting phik\n",
      "  Downloading phik-0.12.4-cp39-cp39-manylinux_2_17_x86_64.manylinux2014_x86_64.whl (686 kB)\n",
      "\u001b[K     |████████████████████████████████| 686 kB 1.2 MB/s eta 0:00:01\n",
      "\u001b[?25hRequirement already satisfied: scipy>=1.5.2 in /opt/conda/lib/python3.9/site-packages (from phik) (1.9.1)\n",
      "Requirement already satisfied: pandas>=0.25.1 in /opt/conda/lib/python3.9/site-packages (from phik) (1.2.4)\n",
      "Requirement already satisfied: matplotlib>=2.2.3 in /opt/conda/lib/python3.9/site-packages (from phik) (3.5.0)\n",
      "Requirement already satisfied: numpy>=1.18.0 in /opt/conda/lib/python3.9/site-packages (from phik) (1.21.1)\n",
      "Requirement already satisfied: joblib>=0.14.1 in /opt/conda/lib/python3.9/site-packages (from phik) (1.4.2)\n",
      "Requirement already satisfied: python-dateutil>=2.7 in /opt/conda/lib/python3.9/site-packages (from matplotlib>=2.2.3->phik) (2.8.1)\n",
      "Requirement already satisfied: pyparsing>=2.2.1 in /opt/conda/lib/python3.9/site-packages (from matplotlib>=2.2.3->phik) (2.4.7)\n",
      "Requirement already satisfied: packaging>=20.0 in /opt/conda/lib/python3.9/site-packages (from matplotlib>=2.2.3->phik) (21.3)\n",
      "Requirement already satisfied: pillow>=6.2.0 in /opt/conda/lib/python3.9/site-packages (from matplotlib>=2.2.3->phik) (8.4.0)\n",
      "Requirement already satisfied: fonttools>=4.22.0 in /opt/conda/lib/python3.9/site-packages (from matplotlib>=2.2.3->phik) (4.55.0)\n",
      "Requirement already satisfied: setuptools-scm>=4 in /opt/conda/lib/python3.9/site-packages (from matplotlib>=2.2.3->phik) (8.1.0)\n",
      "Requirement already satisfied: kiwisolver>=1.0.1 in /opt/conda/lib/python3.9/site-packages (from matplotlib>=2.2.3->phik) (1.4.4)\n",
      "Requirement already satisfied: cycler>=0.10 in /opt/conda/lib/python3.9/site-packages (from matplotlib>=2.2.3->phik) (0.11.0)\n",
      "Requirement already satisfied: pytz>=2017.3 in /opt/conda/lib/python3.9/site-packages (from pandas>=0.25.1->phik) (2021.1)\n",
      "Requirement already satisfied: six>=1.5 in /opt/conda/lib/python3.9/site-packages (from python-dateutil>=2.7->matplotlib>=2.2.3->phik) (1.16.0)\n",
      "Requirement already satisfied: setuptools in /opt/conda/lib/python3.9/site-packages (from setuptools-scm>=4->matplotlib>=2.2.3->phik) (49.6.0.post20210108)\n",
      "Requirement already satisfied: tomli>=1 in /opt/conda/lib/python3.9/site-packages (from setuptools-scm>=4->matplotlib>=2.2.3->phik) (2.2.1)\n",
      "Requirement already satisfied: typing-extensions in /opt/conda/lib/python3.9/site-packages (from setuptools-scm>=4->matplotlib>=2.2.3->phik) (4.3.0)\n",
      "Installing collected packages: phik\n",
      "Successfully installed phik-0.12.4\n"
     ]
    }
   ],
   "source": [
    "!pip install -Uq scikit-learn\n",
    "!pip install matplotlib==3.5.0 -q\n",
    "!pip install phik"
   ]
  },
  {
   "cell_type": "code",
   "execution_count": 2,
   "metadata": {},
   "outputs": [],
   "source": [
    "import pandas as pd\n",
    "import seaborn as sns\n",
    "import matplotlib.pyplot as plt\n",
    "import numpy as np\n",
    "\n",
    "from sklearn.model_selection import GridSearchCV, RandomizedSearchCV\n",
    "\n",
    "from sklearn.pipeline import Pipeline\n",
    "from sklearn.metrics import make_scorer, mean_squared_error\n",
    "from sklearn.compose import ColumnTransformer\n",
    "from sklearn.preprocessing import StandardScaler, MinMaxScaler, OneHotEncoder, OrdinalEncoder, LabelEncoder\n",
    "from sklearn.impute import SimpleImputer\n",
    "\n",
    "from sklearn.model_selection import train_test_split\n",
    "from sklearn.linear_model import LinearRegression, ElasticNet\n",
    "\n",
    "from phik import phik_matrix\n",
    "from phik.report import plot_correlation_matrix"
   ]
  },
  {
   "cell_type": "code",
   "execution_count": 3,
   "metadata": {},
   "outputs": [],
   "source": [
    "def check_data(df, name):\n",
    "    \"\"\"\n",
    "    Проверяет информацию о каждом DataFrame (типы данных, пропущенные значения, полные дубликаты строк).\n",
    "    \n",
    "    Параметры:\n",
    "        df (pd.DataFrame): Исходный датафрейм\n",
    "        name (str): Названия датафрейма\n",
    "    \n",
    "    \"\"\"\n",
    "    print(f\"Информация о {name}:\")\n",
    "    df.info()\n",
    "    print(f\"Пропущенные значения в {name}:\")\n",
    "    display(df.isnull().sum())\n",
    "    print(f\"Дубликаты в {name}: {df.duplicated().sum()}\")"
   ]
  },
  {
   "cell_type": "code",
   "execution_count": 4,
   "metadata": {},
   "outputs": [],
   "source": [
    "def duplicated_values(df, df_name):\n",
    "    \"\"\"\n",
    "    Проверяет дубликаты по столбцам\n",
    "    \n",
    "    Параметры:\n",
    "        df (pd.DataFrame): Исходный датафрейм\n",
    "        df_name (str): Названия датафрейма\n",
    "    \n",
    "    \"\"\"\n",
    "    print(f\"Дубликаты таблицы {df_name}:\")\n",
    "    for col in df.select_dtypes(include='object').columns:\n",
    "        duplic_values = df[col].duplicated().sum()\n",
    "        print(f\"Столбцы '{col}': {duplic_values}\")"
   ]
  },
  {
   "cell_type": "code",
   "execution_count": 5,
   "metadata": {},
   "outputs": [],
   "source": [
    "def remove_outliers(dataframe, column, verbose=True):\n",
    "    \"\"\"\n",
    "    Удаляет выбросы из указанного столбца датафрейма на основе метода межквартильного размаха (IQR).\n",
    "    \n",
    "    Параметры:\n",
    "        dataframe (pd.DataFrame): Исходный датафрейм.\n",
    "        column (str): Название столбца, из которого нужно удалить выбросы.\n",
    "        verbose (bool): Если True, выводит количество найденных выбросов и их процент от общего числа строк.\n",
    "    \n",
    "    Возвращает:\n",
    "        list: Индексы строк с выбросами.\n",
    "    \"\"\"\n",
    "    q1 = dataframe[column].quantile(0.25)  # Первый квартиль (25%)\n",
    "    q3 = dataframe[column].quantile(0.75)  # Третий квартиль (75%)\n",
    "    iqr = q3 - q1  # Межквартильный размах\n",
    "\n",
    "    lower_bound = q1 - 1.5 * iqr  # Нижняя граница\n",
    "    upper_bound = q3 + 1.5 * iqr  # Верхняя граница\n",
    "\n",
    "    # Вычисление индексов строк с выбросами\n",
    "    outlier_indices = dataframe[\n",
    "        (dataframe[column] < lower_bound) | (dataframe[column] > upper_bound)\n",
    "    ].index.tolist()\n",
    "\n",
    "    if verbose:\n",
    "        num_outliers = len(outlier_indices)\n",
    "        total_rows = len(dataframe)\n",
    "        outlier_percentage = (num_outliers / total_rows) * 100\n",
    "        print(f'Количество строк с выбросами в столбце \"{column}\": {num_outliers}')\n",
    "        print(f'Процент выбросов от общего числа строк: {outlier_percentage:.2f}%')\n",
    "\n",
    "    return outlier_indices\n"
   ]
  },
  {
   "cell_type": "code",
   "execution_count": 6,
   "metadata": {},
   "outputs": [],
   "source": [
    "def calculate_profit(predictions, target, budget, income_per_thousand_barrels, selected_points):\n",
    "    \"\"\"\n",
    "    Расчёт прибыли для выбранных скважин.\n",
    "    \n",
    "    Параметры:\n",
    "        predictions (pandas.Series): Предсказанные значения объёма сырья для всех скважин.\n",
    "        target (pandas.Series): Истинные значения объёма сырья для скважин.\n",
    "        budget (float): Общий бюджет на разработку.\n",
    "        income_per_thousand_barrels (float): Доход от 1000 баррелей сырья.\n",
    "        selected_points (int): Количество скважин, которые будут выбраны для разработки.\n",
    "    \n",
    "    Возвращает: \n",
    "        profit (float): Прибыль с выбранных скважин.\n",
    "    \"\"\"\n",
    "    # Выбираем скважины с максимальными предсказаниями\n",
    "    selected_indices = predictions.nlargest(selected_points).index\n",
    "    selected_volume = target[selected_indices].sum()\n",
    "    \n",
    "    # Расчёт прибыли\n",
    "    revenue = selected_volume * income_per_thousand_barrels\n",
    "    profit = revenue - budget\n",
    "\n",
    "    return profit"
   ]
  },
  {
   "cell_type": "code",
   "execution_count": 7,
   "metadata": {},
   "outputs": [],
   "source": [
    "def bootstrap_profit(predictions, target, budget, income_per_thousand_barrels, selected_points, total_points, n_bootstrap=1000):\n",
    "    \"\"\"\n",
    "    Бутстреп-анализ прибыли.\n",
    "    \n",
    "    Параметры:\n",
    "        predictions (pandas.Series): Предсказанные значения объёма сырья для всех скважин.\n",
    "        target (pandas.Series): Истинные значения объёма сырья для скважин.\n",
    "        budget (float): Общий бюджет на разработку.\n",
    "        income_per_thousand_barrels (float): Доход от 1000 баррелей сырья.\n",
    "        selected_points (int): Количество скважин, которые будут выбраны для разработки.\n",
    "        total_poins (int): Общее количество скважин для исследования.\n",
    "        n_bootstrap (int, default=1000): Количество случайных выборок, создаваемых бутстрепом.\n",
    "\n",
    "    Возвращает:\n",
    "        mean_profit (float): Средняя прибыль по результатам бутстрепа.\n",
    "        confidence_interval (tuple): Доверительный интервал.\n",
    "        risk_of_loss (float): Вероятность убытков (доля бутстреп-выборок с отрицательной прибылью).\n",
    "    \"\"\"\n",
    "    state = np.random.RandomState(12345)\n",
    "    profits = []\n",
    "    \n",
    "    for _ in range(n_bootstrap):\n",
    "        # Создаём случайную выборку\n",
    "        sample_target = target.sample(n=total_points, replace=True, random_state=state)\n",
    "        sample_predictions = predictions[sample_target.index]\n",
    "        \n",
    "        # Вычисляем прибыль\n",
    "        profit = calculate_profit(sample_predictions, sample_target, budget, income_per_thousand_barrels, selected_points)\n",
    "        profits.append(profit)\n",
    "    \n",
    "    profits = pd.Series(profits)\n",
    "    mean_profit = profits.mean()\n",
    "    lower_quartile = np.percentile(profits, 2.5)  # Нижний граница\n",
    "    upper_quartile = np.percentile(profits, 97.5)\n",
    "    #risk_of_loss = profits.apply(lambda x: x < 0).sum()/len(profits)*100,\"%\"  # Доля убыточных сценариев\n",
    "    \n",
    "    print(f\"--- Результаты бутстреп-анализа ---\")\n",
    "    print(f\"Средняя прибыль: {mean_profit:,.2f} руб.\")\n",
    "    print(f\"Квартильный диапазон (2.5% - 97.5%): {lower_quartile:,.2f} руб. - {upper_quartile:,.2f} руб.\")\n",
    "    print(f\"Риск убытков: {profits.apply(lambda x: x < 0).sum()/len(profits)*100}\")\n",
    "    print('-'*50)\n",
    "    \n",
    "    \n",
    "    return mean_profit, (lower_quartile, upper_quartile)"
   ]
  },
  {
   "cell_type": "code",
   "execution_count": 8,
   "metadata": {},
   "outputs": [],
   "source": [
    "RANDOM_STATE = 42\n",
    "\n",
    "TOTAL_POINTS = 500\n",
    "\n",
    "SELECTED_POINTS = 200\n",
    "\n",
    "BUDGET = 10e9\n",
    "\n",
    "INCOME_PER_BARREL = 450\n",
    "\n",
    "INCOME_PER_THOUSAND_BARRELS = 45e4"
   ]
  },
  {
   "cell_type": "markdown",
   "metadata": {},
   "source": [
    "## Загрузка и подготовка данных"
   ]
  },
  {
   "cell_type": "code",
   "execution_count": 9,
   "metadata": {},
   "outputs": [
    {
     "data": {
      "text/html": [
       "<div>\n",
       "<style scoped>\n",
       "    .dataframe tbody tr th:only-of-type {\n",
       "        vertical-align: middle;\n",
       "    }\n",
       "\n",
       "    .dataframe tbody tr th {\n",
       "        vertical-align: top;\n",
       "    }\n",
       "\n",
       "    .dataframe thead th {\n",
       "        text-align: right;\n",
       "    }\n",
       "</style>\n",
       "<table border=\"1\" class=\"dataframe\">\n",
       "  <thead>\n",
       "    <tr style=\"text-align: right;\">\n",
       "      <th></th>\n",
       "      <th>id</th>\n",
       "      <th>f0</th>\n",
       "      <th>f1</th>\n",
       "      <th>f2</th>\n",
       "      <th>product</th>\n",
       "    </tr>\n",
       "  </thead>\n",
       "  <tbody>\n",
       "    <tr>\n",
       "      <th>0</th>\n",
       "      <td>txEyH</td>\n",
       "      <td>0.705745</td>\n",
       "      <td>-0.497823</td>\n",
       "      <td>1.221170</td>\n",
       "      <td>105.280062</td>\n",
       "    </tr>\n",
       "    <tr>\n",
       "      <th>1</th>\n",
       "      <td>2acmU</td>\n",
       "      <td>1.334711</td>\n",
       "      <td>-0.340164</td>\n",
       "      <td>4.365080</td>\n",
       "      <td>73.037750</td>\n",
       "    </tr>\n",
       "    <tr>\n",
       "      <th>2</th>\n",
       "      <td>409Wp</td>\n",
       "      <td>1.022732</td>\n",
       "      <td>0.151990</td>\n",
       "      <td>1.419926</td>\n",
       "      <td>85.265647</td>\n",
       "    </tr>\n",
       "    <tr>\n",
       "      <th>3</th>\n",
       "      <td>iJLyR</td>\n",
       "      <td>-0.032172</td>\n",
       "      <td>0.139033</td>\n",
       "      <td>2.978566</td>\n",
       "      <td>168.620776</td>\n",
       "    </tr>\n",
       "    <tr>\n",
       "      <th>4</th>\n",
       "      <td>Xdl7t</td>\n",
       "      <td>1.988431</td>\n",
       "      <td>0.155413</td>\n",
       "      <td>4.751769</td>\n",
       "      <td>154.036647</td>\n",
       "    </tr>\n",
       "  </tbody>\n",
       "</table>\n",
       "</div>"
      ],
      "text/plain": [
       "      id        f0        f1        f2     product\n",
       "0  txEyH  0.705745 -0.497823  1.221170  105.280062\n",
       "1  2acmU  1.334711 -0.340164  4.365080   73.037750\n",
       "2  409Wp  1.022732  0.151990  1.419926   85.265647\n",
       "3  iJLyR -0.032172  0.139033  2.978566  168.620776\n",
       "4  Xdl7t  1.988431  0.155413  4.751769  154.036647"
      ]
     },
     "execution_count": 9,
     "metadata": {},
     "output_type": "execute_result"
    }
   ],
   "source": [
    "df0 = pd.read_csv('/datasets/geo_data_0.csv')\n",
    "\n",
    "df0.head()"
   ]
  },
  {
   "cell_type": "code",
   "execution_count": 10,
   "metadata": {},
   "outputs": [
    {
     "data": {
      "text/html": [
       "<div>\n",
       "<style scoped>\n",
       "    .dataframe tbody tr th:only-of-type {\n",
       "        vertical-align: middle;\n",
       "    }\n",
       "\n",
       "    .dataframe tbody tr th {\n",
       "        vertical-align: top;\n",
       "    }\n",
       "\n",
       "    .dataframe thead th {\n",
       "        text-align: right;\n",
       "    }\n",
       "</style>\n",
       "<table border=\"1\" class=\"dataframe\">\n",
       "  <thead>\n",
       "    <tr style=\"text-align: right;\">\n",
       "      <th></th>\n",
       "      <th>id</th>\n",
       "      <th>f0</th>\n",
       "      <th>f1</th>\n",
       "      <th>f2</th>\n",
       "      <th>product</th>\n",
       "    </tr>\n",
       "  </thead>\n",
       "  <tbody>\n",
       "    <tr>\n",
       "      <th>0</th>\n",
       "      <td>kBEdx</td>\n",
       "      <td>-15.001348</td>\n",
       "      <td>-8.276000</td>\n",
       "      <td>-0.005876</td>\n",
       "      <td>3.179103</td>\n",
       "    </tr>\n",
       "    <tr>\n",
       "      <th>1</th>\n",
       "      <td>62mP7</td>\n",
       "      <td>14.272088</td>\n",
       "      <td>-3.475083</td>\n",
       "      <td>0.999183</td>\n",
       "      <td>26.953261</td>\n",
       "    </tr>\n",
       "    <tr>\n",
       "      <th>2</th>\n",
       "      <td>vyE1P</td>\n",
       "      <td>6.263187</td>\n",
       "      <td>-5.948386</td>\n",
       "      <td>5.001160</td>\n",
       "      <td>134.766305</td>\n",
       "    </tr>\n",
       "    <tr>\n",
       "      <th>3</th>\n",
       "      <td>KcrkZ</td>\n",
       "      <td>-13.081196</td>\n",
       "      <td>-11.506057</td>\n",
       "      <td>4.999415</td>\n",
       "      <td>137.945408</td>\n",
       "    </tr>\n",
       "    <tr>\n",
       "      <th>4</th>\n",
       "      <td>AHL4O</td>\n",
       "      <td>12.702195</td>\n",
       "      <td>-8.147433</td>\n",
       "      <td>5.004363</td>\n",
       "      <td>134.766305</td>\n",
       "    </tr>\n",
       "  </tbody>\n",
       "</table>\n",
       "</div>"
      ],
      "text/plain": [
       "      id         f0         f1        f2     product\n",
       "0  kBEdx -15.001348  -8.276000 -0.005876    3.179103\n",
       "1  62mP7  14.272088  -3.475083  0.999183   26.953261\n",
       "2  vyE1P   6.263187  -5.948386  5.001160  134.766305\n",
       "3  KcrkZ -13.081196 -11.506057  4.999415  137.945408\n",
       "4  AHL4O  12.702195  -8.147433  5.004363  134.766305"
      ]
     },
     "execution_count": 10,
     "metadata": {},
     "output_type": "execute_result"
    }
   ],
   "source": [
    "df1 = pd.read_csv('/datasets/geo_data_1.csv')\n",
    "\n",
    "df1.head()"
   ]
  },
  {
   "cell_type": "code",
   "execution_count": 11,
   "metadata": {},
   "outputs": [
    {
     "data": {
      "text/html": [
       "<div>\n",
       "<style scoped>\n",
       "    .dataframe tbody tr th:only-of-type {\n",
       "        vertical-align: middle;\n",
       "    }\n",
       "\n",
       "    .dataframe tbody tr th {\n",
       "        vertical-align: top;\n",
       "    }\n",
       "\n",
       "    .dataframe thead th {\n",
       "        text-align: right;\n",
       "    }\n",
       "</style>\n",
       "<table border=\"1\" class=\"dataframe\">\n",
       "  <thead>\n",
       "    <tr style=\"text-align: right;\">\n",
       "      <th></th>\n",
       "      <th>id</th>\n",
       "      <th>f0</th>\n",
       "      <th>f1</th>\n",
       "      <th>f2</th>\n",
       "      <th>product</th>\n",
       "    </tr>\n",
       "  </thead>\n",
       "  <tbody>\n",
       "    <tr>\n",
       "      <th>0</th>\n",
       "      <td>fwXo0</td>\n",
       "      <td>-1.146987</td>\n",
       "      <td>0.963328</td>\n",
       "      <td>-0.828965</td>\n",
       "      <td>27.758673</td>\n",
       "    </tr>\n",
       "    <tr>\n",
       "      <th>1</th>\n",
       "      <td>WJtFt</td>\n",
       "      <td>0.262778</td>\n",
       "      <td>0.269839</td>\n",
       "      <td>-2.530187</td>\n",
       "      <td>56.069697</td>\n",
       "    </tr>\n",
       "    <tr>\n",
       "      <th>2</th>\n",
       "      <td>ovLUW</td>\n",
       "      <td>0.194587</td>\n",
       "      <td>0.289035</td>\n",
       "      <td>-5.586433</td>\n",
       "      <td>62.871910</td>\n",
       "    </tr>\n",
       "    <tr>\n",
       "      <th>3</th>\n",
       "      <td>q6cA6</td>\n",
       "      <td>2.236060</td>\n",
       "      <td>-0.553760</td>\n",
       "      <td>0.930038</td>\n",
       "      <td>114.572842</td>\n",
       "    </tr>\n",
       "    <tr>\n",
       "      <th>4</th>\n",
       "      <td>WPMUX</td>\n",
       "      <td>-0.515993</td>\n",
       "      <td>1.716266</td>\n",
       "      <td>5.899011</td>\n",
       "      <td>149.600746</td>\n",
       "    </tr>\n",
       "  </tbody>\n",
       "</table>\n",
       "</div>"
      ],
      "text/plain": [
       "      id        f0        f1        f2     product\n",
       "0  fwXo0 -1.146987  0.963328 -0.828965   27.758673\n",
       "1  WJtFt  0.262778  0.269839 -2.530187   56.069697\n",
       "2  ovLUW  0.194587  0.289035 -5.586433   62.871910\n",
       "3  q6cA6  2.236060 -0.553760  0.930038  114.572842\n",
       "4  WPMUX -0.515993  1.716266  5.899011  149.600746"
      ]
     },
     "execution_count": 11,
     "metadata": {},
     "output_type": "execute_result"
    }
   ],
   "source": [
    "df2 = pd.read_csv('/datasets/geo_data_2.csv')\n",
    "\n",
    "df2.head()"
   ]
  },
  {
   "cell_type": "code",
   "execution_count": 12,
   "metadata": {},
   "outputs": [
    {
     "name": "stdout",
     "output_type": "stream",
     "text": [
      "Информация о df0:\n",
      "<class 'pandas.core.frame.DataFrame'>\n",
      "RangeIndex: 100000 entries, 0 to 99999\n",
      "Data columns (total 5 columns):\n",
      " #   Column   Non-Null Count   Dtype  \n",
      "---  ------   --------------   -----  \n",
      " 0   id       100000 non-null  object \n",
      " 1   f0       100000 non-null  float64\n",
      " 2   f1       100000 non-null  float64\n",
      " 3   f2       100000 non-null  float64\n",
      " 4   product  100000 non-null  float64\n",
      "dtypes: float64(4), object(1)\n",
      "memory usage: 3.8+ MB\n",
      "Пропущенные значения в df0:\n"
     ]
    },
    {
     "data": {
      "text/plain": [
       "id         0\n",
       "f0         0\n",
       "f1         0\n",
       "f2         0\n",
       "product    0\n",
       "dtype: int64"
      ]
     },
     "metadata": {},
     "output_type": "display_data"
    },
    {
     "name": "stdout",
     "output_type": "stream",
     "text": [
      "Дубликаты в df0: 0\n"
     ]
    }
   ],
   "source": [
    "check_data(df0, 'df0')"
   ]
  },
  {
   "cell_type": "code",
   "execution_count": 13,
   "metadata": {},
   "outputs": [
    {
     "name": "stdout",
     "output_type": "stream",
     "text": [
      "Дубликаты таблицы df0:\n",
      "Столбцы 'id': 10\n"
     ]
    }
   ],
   "source": [
    "duplicated_values(df0, 'df0')"
   ]
  },
  {
   "cell_type": "code",
   "execution_count": 14,
   "metadata": {},
   "outputs": [
    {
     "data": {
      "text/html": [
       "<div>\n",
       "<style scoped>\n",
       "    .dataframe tbody tr th:only-of-type {\n",
       "        vertical-align: middle;\n",
       "    }\n",
       "\n",
       "    .dataframe tbody tr th {\n",
       "        vertical-align: top;\n",
       "    }\n",
       "\n",
       "    .dataframe thead th {\n",
       "        text-align: right;\n",
       "    }\n",
       "</style>\n",
       "<table border=\"1\" class=\"dataframe\">\n",
       "  <thead>\n",
       "    <tr style=\"text-align: right;\">\n",
       "      <th></th>\n",
       "      <th>id</th>\n",
       "      <th>f0</th>\n",
       "      <th>f1</th>\n",
       "      <th>f2</th>\n",
       "      <th>product</th>\n",
       "    </tr>\n",
       "  </thead>\n",
       "  <tbody>\n",
       "    <tr>\n",
       "      <th>64022</th>\n",
       "      <td>74z30</td>\n",
       "      <td>0.741456</td>\n",
       "      <td>0.459229</td>\n",
       "      <td>5.153109</td>\n",
       "      <td>140.771492</td>\n",
       "    </tr>\n",
       "    <tr>\n",
       "      <th>66136</th>\n",
       "      <td>74z30</td>\n",
       "      <td>1.084962</td>\n",
       "      <td>-0.312358</td>\n",
       "      <td>6.990771</td>\n",
       "      <td>127.643327</td>\n",
       "    </tr>\n",
       "    <tr>\n",
       "      <th>3389</th>\n",
       "      <td>A5aEY</td>\n",
       "      <td>-0.039949</td>\n",
       "      <td>0.156872</td>\n",
       "      <td>0.209861</td>\n",
       "      <td>89.249364</td>\n",
       "    </tr>\n",
       "    <tr>\n",
       "      <th>51970</th>\n",
       "      <td>A5aEY</td>\n",
       "      <td>-0.180335</td>\n",
       "      <td>0.935548</td>\n",
       "      <td>-2.094773</td>\n",
       "      <td>33.020205</td>\n",
       "    </tr>\n",
       "    <tr>\n",
       "      <th>42529</th>\n",
       "      <td>AGS9W</td>\n",
       "      <td>1.454747</td>\n",
       "      <td>-0.479651</td>\n",
       "      <td>0.683380</td>\n",
       "      <td>126.370504</td>\n",
       "    </tr>\n",
       "    <tr>\n",
       "      <th>69163</th>\n",
       "      <td>AGS9W</td>\n",
       "      <td>-0.933795</td>\n",
       "      <td>0.116194</td>\n",
       "      <td>-3.655896</td>\n",
       "      <td>19.230453</td>\n",
       "    </tr>\n",
       "    <tr>\n",
       "      <th>931</th>\n",
       "      <td>HZww2</td>\n",
       "      <td>0.755284</td>\n",
       "      <td>0.368511</td>\n",
       "      <td>1.863211</td>\n",
       "      <td>30.681774</td>\n",
       "    </tr>\n",
       "    <tr>\n",
       "      <th>7530</th>\n",
       "      <td>HZww2</td>\n",
       "      <td>1.061194</td>\n",
       "      <td>-0.373969</td>\n",
       "      <td>10.430210</td>\n",
       "      <td>158.828695</td>\n",
       "    </tr>\n",
       "    <tr>\n",
       "      <th>1949</th>\n",
       "      <td>QcMuo</td>\n",
       "      <td>0.506563</td>\n",
       "      <td>-0.323775</td>\n",
       "      <td>-2.215583</td>\n",
       "      <td>75.496502</td>\n",
       "    </tr>\n",
       "    <tr>\n",
       "      <th>63593</th>\n",
       "      <td>QcMuo</td>\n",
       "      <td>0.635635</td>\n",
       "      <td>-0.473422</td>\n",
       "      <td>0.862670</td>\n",
       "      <td>64.578675</td>\n",
       "    </tr>\n",
       "    <tr>\n",
       "      <th>21426</th>\n",
       "      <td>Tdehs</td>\n",
       "      <td>0.829407</td>\n",
       "      <td>0.298807</td>\n",
       "      <td>-0.049563</td>\n",
       "      <td>96.035308</td>\n",
       "    </tr>\n",
       "    <tr>\n",
       "      <th>75715</th>\n",
       "      <td>Tdehs</td>\n",
       "      <td>0.112079</td>\n",
       "      <td>0.430296</td>\n",
       "      <td>3.218993</td>\n",
       "      <td>60.964018</td>\n",
       "    </tr>\n",
       "    <tr>\n",
       "      <th>60140</th>\n",
       "      <td>TtcGQ</td>\n",
       "      <td>0.569276</td>\n",
       "      <td>-0.104876</td>\n",
       "      <td>6.440215</td>\n",
       "      <td>85.350186</td>\n",
       "    </tr>\n",
       "    <tr>\n",
       "      <th>92341</th>\n",
       "      <td>TtcGQ</td>\n",
       "      <td>0.110711</td>\n",
       "      <td>1.022689</td>\n",
       "      <td>0.911381</td>\n",
       "      <td>101.318008</td>\n",
       "    </tr>\n",
       "    <tr>\n",
       "      <th>89582</th>\n",
       "      <td>bsk9y</td>\n",
       "      <td>0.398908</td>\n",
       "      <td>-0.400253</td>\n",
       "      <td>10.122376</td>\n",
       "      <td>163.433078</td>\n",
       "    </tr>\n",
       "    <tr>\n",
       "      <th>97785</th>\n",
       "      <td>bsk9y</td>\n",
       "      <td>0.378429</td>\n",
       "      <td>0.005837</td>\n",
       "      <td>0.160827</td>\n",
       "      <td>160.637302</td>\n",
       "    </tr>\n",
       "    <tr>\n",
       "      <th>1364</th>\n",
       "      <td>bxg6G</td>\n",
       "      <td>0.411645</td>\n",
       "      <td>0.856830</td>\n",
       "      <td>-3.653440</td>\n",
       "      <td>73.604260</td>\n",
       "    </tr>\n",
       "    <tr>\n",
       "      <th>41724</th>\n",
       "      <td>bxg6G</td>\n",
       "      <td>-0.823752</td>\n",
       "      <td>0.546319</td>\n",
       "      <td>3.630479</td>\n",
       "      <td>93.007798</td>\n",
       "    </tr>\n",
       "    <tr>\n",
       "      <th>16633</th>\n",
       "      <td>fiKDv</td>\n",
       "      <td>0.157341</td>\n",
       "      <td>1.028359</td>\n",
       "      <td>5.585586</td>\n",
       "      <td>95.817889</td>\n",
       "    </tr>\n",
       "    <tr>\n",
       "      <th>90815</th>\n",
       "      <td>fiKDv</td>\n",
       "      <td>0.049883</td>\n",
       "      <td>0.841313</td>\n",
       "      <td>6.394613</td>\n",
       "      <td>137.346586</td>\n",
       "    </tr>\n",
       "  </tbody>\n",
       "</table>\n",
       "</div>"
      ],
      "text/plain": [
       "          id        f0        f1         f2     product\n",
       "64022  74z30  0.741456  0.459229   5.153109  140.771492\n",
       "66136  74z30  1.084962 -0.312358   6.990771  127.643327\n",
       "3389   A5aEY -0.039949  0.156872   0.209861   89.249364\n",
       "51970  A5aEY -0.180335  0.935548  -2.094773   33.020205\n",
       "42529  AGS9W  1.454747 -0.479651   0.683380  126.370504\n",
       "69163  AGS9W -0.933795  0.116194  -3.655896   19.230453\n",
       "931    HZww2  0.755284  0.368511   1.863211   30.681774\n",
       "7530   HZww2  1.061194 -0.373969  10.430210  158.828695\n",
       "1949   QcMuo  0.506563 -0.323775  -2.215583   75.496502\n",
       "63593  QcMuo  0.635635 -0.473422   0.862670   64.578675\n",
       "21426  Tdehs  0.829407  0.298807  -0.049563   96.035308\n",
       "75715  Tdehs  0.112079  0.430296   3.218993   60.964018\n",
       "60140  TtcGQ  0.569276 -0.104876   6.440215   85.350186\n",
       "92341  TtcGQ  0.110711  1.022689   0.911381  101.318008\n",
       "89582  bsk9y  0.398908 -0.400253  10.122376  163.433078\n",
       "97785  bsk9y  0.378429  0.005837   0.160827  160.637302\n",
       "1364   bxg6G  0.411645  0.856830  -3.653440   73.604260\n",
       "41724  bxg6G -0.823752  0.546319   3.630479   93.007798\n",
       "16633  fiKDv  0.157341  1.028359   5.585586   95.817889\n",
       "90815  fiKDv  0.049883  0.841313   6.394613  137.346586"
      ]
     },
     "execution_count": 14,
     "metadata": {},
     "output_type": "execute_result"
    }
   ],
   "source": [
    "pd.concat(g for _, g in df0.groupby(\"id\") if len(g) > 1)"
   ]
  },
  {
   "cell_type": "code",
   "execution_count": 15,
   "metadata": {},
   "outputs": [
    {
     "name": "stdout",
     "output_type": "stream",
     "text": [
      "Информация о df1:\n",
      "<class 'pandas.core.frame.DataFrame'>\n",
      "RangeIndex: 100000 entries, 0 to 99999\n",
      "Data columns (total 5 columns):\n",
      " #   Column   Non-Null Count   Dtype  \n",
      "---  ------   --------------   -----  \n",
      " 0   id       100000 non-null  object \n",
      " 1   f0       100000 non-null  float64\n",
      " 2   f1       100000 non-null  float64\n",
      " 3   f2       100000 non-null  float64\n",
      " 4   product  100000 non-null  float64\n",
      "dtypes: float64(4), object(1)\n",
      "memory usage: 3.8+ MB\n",
      "Пропущенные значения в df1:\n"
     ]
    },
    {
     "data": {
      "text/plain": [
       "id         0\n",
       "f0         0\n",
       "f1         0\n",
       "f2         0\n",
       "product    0\n",
       "dtype: int64"
      ]
     },
     "metadata": {},
     "output_type": "display_data"
    },
    {
     "name": "stdout",
     "output_type": "stream",
     "text": [
      "Дубликаты в df1: 0\n"
     ]
    }
   ],
   "source": [
    "check_data(df1, 'df1')"
   ]
  },
  {
   "cell_type": "code",
   "execution_count": 16,
   "metadata": {},
   "outputs": [
    {
     "name": "stdout",
     "output_type": "stream",
     "text": [
      "Дубликаты таблицы df1:\n",
      "Столбцы 'id': 4\n"
     ]
    }
   ],
   "source": [
    "duplicated_values(df1, 'df1')"
   ]
  },
  {
   "cell_type": "code",
   "execution_count": 17,
   "metadata": {},
   "outputs": [
    {
     "data": {
      "text/html": [
       "<div>\n",
       "<style scoped>\n",
       "    .dataframe tbody tr th:only-of-type {\n",
       "        vertical-align: middle;\n",
       "    }\n",
       "\n",
       "    .dataframe tbody tr th {\n",
       "        vertical-align: top;\n",
       "    }\n",
       "\n",
       "    .dataframe thead th {\n",
       "        text-align: right;\n",
       "    }\n",
       "</style>\n",
       "<table border=\"1\" class=\"dataframe\">\n",
       "  <thead>\n",
       "    <tr style=\"text-align: right;\">\n",
       "      <th></th>\n",
       "      <th>id</th>\n",
       "      <th>f0</th>\n",
       "      <th>f1</th>\n",
       "      <th>f2</th>\n",
       "      <th>product</th>\n",
       "    </tr>\n",
       "  </thead>\n",
       "  <tbody>\n",
       "    <tr>\n",
       "      <th>5849</th>\n",
       "      <td>5ltQ6</td>\n",
       "      <td>-3.435401</td>\n",
       "      <td>-12.296043</td>\n",
       "      <td>1.999796</td>\n",
       "      <td>57.085625</td>\n",
       "    </tr>\n",
       "    <tr>\n",
       "      <th>84461</th>\n",
       "      <td>5ltQ6</td>\n",
       "      <td>18.213839</td>\n",
       "      <td>2.191999</td>\n",
       "      <td>3.993869</td>\n",
       "      <td>107.813044</td>\n",
       "    </tr>\n",
       "    <tr>\n",
       "      <th>1305</th>\n",
       "      <td>LHZR0</td>\n",
       "      <td>11.170835</td>\n",
       "      <td>-1.945066</td>\n",
       "      <td>3.002872</td>\n",
       "      <td>80.859783</td>\n",
       "    </tr>\n",
       "    <tr>\n",
       "      <th>41906</th>\n",
       "      <td>LHZR0</td>\n",
       "      <td>-8.989672</td>\n",
       "      <td>-4.286607</td>\n",
       "      <td>2.009139</td>\n",
       "      <td>57.085625</td>\n",
       "    </tr>\n",
       "    <tr>\n",
       "      <th>2721</th>\n",
       "      <td>bfPNe</td>\n",
       "      <td>-9.494442</td>\n",
       "      <td>-5.463692</td>\n",
       "      <td>4.006042</td>\n",
       "      <td>110.992147</td>\n",
       "    </tr>\n",
       "    <tr>\n",
       "      <th>82178</th>\n",
       "      <td>bfPNe</td>\n",
       "      <td>-6.202799</td>\n",
       "      <td>-4.820045</td>\n",
       "      <td>2.995107</td>\n",
       "      <td>84.038886</td>\n",
       "    </tr>\n",
       "    <tr>\n",
       "      <th>47591</th>\n",
       "      <td>wt4Uk</td>\n",
       "      <td>-9.091098</td>\n",
       "      <td>-8.109279</td>\n",
       "      <td>-0.002314</td>\n",
       "      <td>3.179103</td>\n",
       "    </tr>\n",
       "    <tr>\n",
       "      <th>82873</th>\n",
       "      <td>wt4Uk</td>\n",
       "      <td>10.259972</td>\n",
       "      <td>-9.376355</td>\n",
       "      <td>4.994297</td>\n",
       "      <td>134.766305</td>\n",
       "    </tr>\n",
       "  </tbody>\n",
       "</table>\n",
       "</div>"
      ],
      "text/plain": [
       "          id         f0         f1        f2     product\n",
       "5849   5ltQ6  -3.435401 -12.296043  1.999796   57.085625\n",
       "84461  5ltQ6  18.213839   2.191999  3.993869  107.813044\n",
       "1305   LHZR0  11.170835  -1.945066  3.002872   80.859783\n",
       "41906  LHZR0  -8.989672  -4.286607  2.009139   57.085625\n",
       "2721   bfPNe  -9.494442  -5.463692  4.006042  110.992147\n",
       "82178  bfPNe  -6.202799  -4.820045  2.995107   84.038886\n",
       "47591  wt4Uk  -9.091098  -8.109279 -0.002314    3.179103\n",
       "82873  wt4Uk  10.259972  -9.376355  4.994297  134.766305"
      ]
     },
     "execution_count": 17,
     "metadata": {},
     "output_type": "execute_result"
    }
   ],
   "source": [
    "pd.concat(g for _, g in df1.groupby(\"id\") if len(g) > 1)"
   ]
  },
  {
   "cell_type": "code",
   "execution_count": 18,
   "metadata": {},
   "outputs": [
    {
     "name": "stdout",
     "output_type": "stream",
     "text": [
      "Информация о df2:\n",
      "<class 'pandas.core.frame.DataFrame'>\n",
      "RangeIndex: 100000 entries, 0 to 99999\n",
      "Data columns (total 5 columns):\n",
      " #   Column   Non-Null Count   Dtype  \n",
      "---  ------   --------------   -----  \n",
      " 0   id       100000 non-null  object \n",
      " 1   f0       100000 non-null  float64\n",
      " 2   f1       100000 non-null  float64\n",
      " 3   f2       100000 non-null  float64\n",
      " 4   product  100000 non-null  float64\n",
      "dtypes: float64(4), object(1)\n",
      "memory usage: 3.8+ MB\n",
      "Пропущенные значения в df2:\n"
     ]
    },
    {
     "data": {
      "text/plain": [
       "id         0\n",
       "f0         0\n",
       "f1         0\n",
       "f2         0\n",
       "product    0\n",
       "dtype: int64"
      ]
     },
     "metadata": {},
     "output_type": "display_data"
    },
    {
     "name": "stdout",
     "output_type": "stream",
     "text": [
      "Дубликаты в df2: 0\n"
     ]
    }
   ],
   "source": [
    "check_data(df2, 'df2')"
   ]
  },
  {
   "cell_type": "code",
   "execution_count": 19,
   "metadata": {},
   "outputs": [
    {
     "name": "stdout",
     "output_type": "stream",
     "text": [
      "Дубликаты таблицы df2:\n",
      "Столбцы 'id': 4\n"
     ]
    }
   ],
   "source": [
    "duplicated_values(df2, 'df2')"
   ]
  },
  {
   "cell_type": "code",
   "execution_count": 20,
   "metadata": {},
   "outputs": [
    {
     "data": {
      "text/html": [
       "<div>\n",
       "<style scoped>\n",
       "    .dataframe tbody tr th:only-of-type {\n",
       "        vertical-align: middle;\n",
       "    }\n",
       "\n",
       "    .dataframe tbody tr th {\n",
       "        vertical-align: top;\n",
       "    }\n",
       "\n",
       "    .dataframe thead th {\n",
       "        text-align: right;\n",
       "    }\n",
       "</style>\n",
       "<table border=\"1\" class=\"dataframe\">\n",
       "  <thead>\n",
       "    <tr style=\"text-align: right;\">\n",
       "      <th></th>\n",
       "      <th>id</th>\n",
       "      <th>f0</th>\n",
       "      <th>f1</th>\n",
       "      <th>f2</th>\n",
       "      <th>product</th>\n",
       "    </tr>\n",
       "  </thead>\n",
       "  <tbody>\n",
       "    <tr>\n",
       "      <th>45404</th>\n",
       "      <td>KUPhW</td>\n",
       "      <td>0.231846</td>\n",
       "      <td>-1.698941</td>\n",
       "      <td>4.990775</td>\n",
       "      <td>11.716299</td>\n",
       "    </tr>\n",
       "    <tr>\n",
       "      <th>55967</th>\n",
       "      <td>KUPhW</td>\n",
       "      <td>1.211150</td>\n",
       "      <td>3.176408</td>\n",
       "      <td>5.543540</td>\n",
       "      <td>132.831802</td>\n",
       "    </tr>\n",
       "    <tr>\n",
       "      <th>11449</th>\n",
       "      <td>VF7Jo</td>\n",
       "      <td>2.122656</td>\n",
       "      <td>-0.858275</td>\n",
       "      <td>5.746001</td>\n",
       "      <td>181.716817</td>\n",
       "    </tr>\n",
       "    <tr>\n",
       "      <th>49564</th>\n",
       "      <td>VF7Jo</td>\n",
       "      <td>-0.883115</td>\n",
       "      <td>0.560537</td>\n",
       "      <td>0.723601</td>\n",
       "      <td>136.233420</td>\n",
       "    </tr>\n",
       "    <tr>\n",
       "      <th>44378</th>\n",
       "      <td>Vcm5J</td>\n",
       "      <td>-1.229484</td>\n",
       "      <td>-2.439204</td>\n",
       "      <td>1.222909</td>\n",
       "      <td>137.968290</td>\n",
       "    </tr>\n",
       "    <tr>\n",
       "      <th>95090</th>\n",
       "      <td>Vcm5J</td>\n",
       "      <td>2.587702</td>\n",
       "      <td>1.986875</td>\n",
       "      <td>2.482245</td>\n",
       "      <td>92.327572</td>\n",
       "    </tr>\n",
       "    <tr>\n",
       "      <th>28039</th>\n",
       "      <td>xCHr8</td>\n",
       "      <td>1.633027</td>\n",
       "      <td>0.368135</td>\n",
       "      <td>-2.378367</td>\n",
       "      <td>6.120525</td>\n",
       "    </tr>\n",
       "    <tr>\n",
       "      <th>43233</th>\n",
       "      <td>xCHr8</td>\n",
       "      <td>-0.847066</td>\n",
       "      <td>2.101796</td>\n",
       "      <td>5.597130</td>\n",
       "      <td>184.388641</td>\n",
       "    </tr>\n",
       "  </tbody>\n",
       "</table>\n",
       "</div>"
      ],
      "text/plain": [
       "          id        f0        f1        f2     product\n",
       "45404  KUPhW  0.231846 -1.698941  4.990775   11.716299\n",
       "55967  KUPhW  1.211150  3.176408  5.543540  132.831802\n",
       "11449  VF7Jo  2.122656 -0.858275  5.746001  181.716817\n",
       "49564  VF7Jo -0.883115  0.560537  0.723601  136.233420\n",
       "44378  Vcm5J -1.229484 -2.439204  1.222909  137.968290\n",
       "95090  Vcm5J  2.587702  1.986875  2.482245   92.327572\n",
       "28039  xCHr8  1.633027  0.368135 -2.378367    6.120525\n",
       "43233  xCHr8 -0.847066  2.101796  5.597130  184.388641"
      ]
     },
     "execution_count": 20,
     "metadata": {},
     "output_type": "execute_result"
    }
   ],
   "source": [
    "pd.concat(g for _, g in df2.groupby(\"id\") if len(g) > 1)"
   ]
  },
  {
   "cell_type": "markdown",
   "metadata": {},
   "source": [
    "Вывод:\n",
    "\n",
    "- В датафреймах не обнаружно пропусков, полных дубликатов. Все столбцы имеют нужный тип данных.\n",
    "\n",
    "\n",
    "- Появилась дилемма, по условию, id - это уникальный индетификатор скважинЫ, но были обнаружены скважины с одними и теме же id, скорее всего, придется убрать эти дубликаты, оставив строки с максимальным product.\n",
    "\n",
    "\n",
    "- Также нужно добавить новый столбец с регионом, так как данные мы будем объединять, чтобы получить более универсальную модель."
   ]
  },
  {
   "cell_type": "code",
   "execution_count": 21,
   "metadata": {},
   "outputs": [],
   "source": [
    "max_product_index = df0.groupby('id')['product'].idxmax()\n",
    "\n",
    "df0 = df0.loc[max_product_index].reset_index(drop=True)\n",
    "\n",
    "max_product_index = df1.groupby('id')['product'].idxmax()\n",
    "\n",
    "df1 = df1.loc[max_product_index].reset_index(drop=True)\n",
    "\n",
    "max_product_index = df2.groupby('id')['product'].idxmax()\n",
    "\n",
    "df2 = df2.loc[max_product_index].reset_index(drop=True)"
   ]
  },
  {
   "cell_type": "markdown",
   "metadata": {},
   "source": [
    "Отобрали строки, дубликатов по id больше нет (взял по максимальному product)"
   ]
  },
  {
   "cell_type": "code",
   "execution_count": 22,
   "metadata": {},
   "outputs": [],
   "source": [
    "df0['region'] = 'region_0'\n",
    "\n",
    "df1['region'] = 'region_1'\n",
    "\n",
    "df2['region'] = 'region_2'"
   ]
  },
  {
   "cell_type": "markdown",
   "metadata": {},
   "source": [
    "Был добавлен столбец с регионом"
   ]
  },
  {
   "cell_type": "markdown",
   "metadata": {},
   "source": [
    "Проведем исследовательский анализ данных\n"
   ]
  },
  {
   "cell_type": "code",
   "execution_count": 23,
   "metadata": {},
   "outputs": [],
   "source": [
    "quantitative_columns = ['f0', 'f1', 'f2', 'product']"
   ]
  },
  {
   "cell_type": "code",
   "execution_count": 24,
   "metadata": {
    "scrolled": true
   },
   "outputs": [
    {
     "data": {
      "image/png": "[encoded data removed]",
      "text/plain": [
       "<Figure size 864x432 with 2 Axes>"
      ]
     },
     "metadata": {
      "needs_background": "light"
     },
     "output_type": "display_data"
    },
    {
     "data": {
      "image/png": "[encoded data removed]",
      "text/plain": [
       "<Figure size 864x432 with 2 Axes>"
      ]
     },
     "metadata": {
      "needs_background": "light"
     },
     "output_type": "display_data"
    },
    {
     "data": {
      "image/png": "[encoded data removed]",
      "text/plain": [
       "<Figure size 864x432 with 2 Axes>"
      ]
     },
     "metadata": {
      "needs_background": "light"
     },
     "output_type": "display_data"
    },
    {
     "data": {
      "image/png": "[encoded data removed]",
      "text/plain": [
       "<Figure size 864x432 with 2 Axes>"
      ]
     },
     "metadata": {
      "needs_background": "light"
     },
     "output_type": "display_data"
    }
   ],
   "source": [
    "for column in quantitative_columns:\n",
    "    plt.figure(figsize=(12, 6))\n",
    "    \n",
    "    # Гистограмма\n",
    "    plt.subplot(1, 2, 1)\n",
    "    sns.kdeplot(df0[column])\n",
    "    plt.title(f'Гистограмма {column} для фрейма df0')\n",
    "    \n",
    "    # Ящик с усами\n",
    "    plt.subplot(1, 2, 2)\n",
    "    sns.boxplot(x=df0[column])\n",
    "    plt.title(f'Ящик с усами {column} для фрейма df0')\n",
    "    \n",
    "    plt.show()"
   ]
  },
  {
   "cell_type": "code",
   "execution_count": 25,
   "metadata": {
    "scrolled": true
   },
   "outputs": [
    {
     "data": {
      "image/png": "[encoded data removed]",
      "text/plain": [
       "<Figure size 864x432 with 2 Axes>"
      ]
     },
     "metadata": {
      "needs_background": "light"
     },
     "output_type": "display_data"
    },
    {
     "data": {
      "image/png": "[encoded data removed]",
      "text/plain": [
       "<Figure size 864x432 with 2 Axes>"
      ]
     },
     "metadata": {
      "needs_background": "light"
     },
     "output_type": "display_data"
    },
    {
     "data": {
      "image/png": "[encoded data removed]",
      "text/plain": [
       "<Figure size 864x432 with 2 Axes>"
      ]
     },
     "metadata": {
      "needs_background": "light"
     },
     "output_type": "display_data"
    },
    {
     "data": {
      "image/png": "[encoded data removed]",
      "text/plain": [
       "<Figure size 864x432 with 2 Axes>"
      ]
     },
     "metadata": {
      "needs_background": "light"
     },
     "output_type": "display_data"
    }
   ],
   "source": [
    "for column in quantitative_columns:\n",
    "    plt.figure(figsize=(12, 6))\n",
    "    \n",
    "    # Гистограмма\n",
    "    plt.subplot(1, 2, 1)\n",
    "    sns.kdeplot(df1[column])\n",
    "    plt.title(f'Гистограмма {column} для фрейма df1')\n",
    "    \n",
    "    # Ящик с усами\n",
    "    plt.subplot(1, 2, 2)\n",
    "    sns.boxplot(x=df1[column])\n",
    "    plt.title(f'Ящик с усами {column} для фрейма df1')\n",
    "    \n",
    "    plt.show()"
   ]
  },
  {
   "cell_type": "code",
   "execution_count": 26,
   "metadata": {
    "scrolled": false
   },
   "outputs": [
    {
     "data": {
      "image/png": "[encoded data removed]",
      "text/plain": [
       "<Figure size 864x432 with 2 Axes>"
      ]
     },
     "metadata": {
      "needs_background": "light"
     },
     "output_type": "display_data"
    },
    {
     "data": {
      "image/png": "[encoded data removed]",
      "text/plain": [
       "<Figure size 864x432 with 2 Axes>"
      ]
     },
     "metadata": {
      "needs_background": "light"
     },
     "output_type": "display_data"
    },
    {
     "data": {
      "image/png": "[encoded data removed]",
      "text/plain": [
       "<Figure size 864x432 with 2 Axes>"
      ]
     },
     "metadata": {
      "needs_background": "light"
     },
     "output_type": "display_data"
    },
    {
     "data": {
      "image/png": "[encoded data removed]",
      "text/plain": [
       "<Figure size 864x432 with 2 Axes>"
      ]
     },
     "metadata": {
      "needs_background": "light"
     },
     "output_type": "display_data"
    }
   ],
   "source": [
    "for column in quantitative_columns:\n",
    "    plt.figure(figsize=(12, 6))\n",
    "    \n",
    "    # Гистограмма\n",
    "    plt.subplot(1, 2, 1)\n",
    "    sns.kdeplot(df2[column])\n",
    "    plt.title(f'Гистограмма {column} для фрейма df2')\n",
    "    \n",
    "    # Ящик с усами\n",
    "    plt.subplot(1, 2, 2)\n",
    "    sns.boxplot(x=df2[column])\n",
    "    plt.title(f'Ящик с усами {column} для фрейма df2')\n",
    "    \n",
    "    plt.show()"
   ]
  },
  {
   "cell_type": "markdown",
   "metadata": {},
   "source": [
    "Удалим значения, выходящие за 25 и 75 квантили, это позволит обучить модель более качественно, в количестве данных мы особо не теряем"
   ]
  },
  {
   "cell_type": "code",
   "execution_count": 27,
   "metadata": {
    "scrolled": false
   },
   "outputs": [
    {
     "name": "stdout",
     "output_type": "stream",
     "text": [
      "Количество строк с выбросами в столбце \"f0\": 0\n",
      "Процент выбросов от общего числа строк: 0.00%\n",
      "                 \n",
      "Количество строк с выбросами в столбце \"f1\": 0\n",
      "Процент выбросов от общего числа строк: 0.00%\n",
      "                 \n",
      "Количество строк с выбросами в столбце \"f2\": 507\n",
      "Процент выбросов от общего числа строк: 0.51%\n",
      "                 \n"
     ]
    }
   ],
   "source": [
    "columns_to_check = ['f0', 'f1', 'f2']\n",
    "for column in columns_to_check:\n",
    "    outliers = remove_outliers(df0, column)\n",
    "    df0 = df0.drop(index=outliers)\n",
    "    print('                 ')"
   ]
  },
  {
   "cell_type": "code",
   "execution_count": 28,
   "metadata": {},
   "outputs": [
    {
     "name": "stdout",
     "output_type": "stream",
     "text": [
      "Количество строк с выбросами в столбце \"f0\": 1\n",
      "Процент выбросов от общего числа строк: 0.00%\n",
      "                 \n",
      "Количество строк с выбросами в столбце \"f1\": 636\n",
      "Процент выбросов от общего числа строк: 0.64%\n",
      "                 \n",
      "Количество строк с выбросами в столбце \"f2\": 0\n",
      "Процент выбросов от общего числа строк: 0.00%\n",
      "                 \n"
     ]
    }
   ],
   "source": [
    "for column in columns_to_check:\n",
    "    outliers = remove_outliers(df1, column)\n",
    "    df1 = df1.drop(index=outliers)\n",
    "    print('                 ')"
   ]
  },
  {
   "cell_type": "code",
   "execution_count": 29,
   "metadata": {},
   "outputs": [
    {
     "name": "stdout",
     "output_type": "stream",
     "text": [
      "Количество строк с выбросами в столбце \"f0\": 733\n",
      "Процент выбросов от общего числа строк: 0.73%\n",
      "                 \n",
      "Количество строк с выбросами в столбце \"f1\": 682\n",
      "Процент выбросов от общего числа строк: 0.69%\n",
      "                 \n",
      "Количество строк с выбросами в столбце \"f2\": 582\n",
      "Процент выбросов от общего числа строк: 0.59%\n",
      "                 \n"
     ]
    }
   ],
   "source": [
    "for column in columns_to_check:\n",
    "    outliers = remove_outliers(df2, column)\n",
    "    df2 = df2.drop(index=outliers)\n",
    "    print('                 ')"
   ]
  },
  {
   "cell_type": "markdown",
   "metadata": {},
   "source": [
    "Удалив значения, выходящие за 25 и 75 квантили, мы получили более качественные датафреймы, что позволит лучше обучить модель.\n",
    "\n",
    "Потери данных при этом составили не более 2 процентов на датафрейм."
   ]
  },
  {
   "cell_type": "code",
   "execution_count": 30,
   "metadata": {},
   "outputs": [
    {
     "name": "stdout",
     "output_type": "stream",
     "text": [
      "interval columns not set, guessing: ['f0', 'f1', 'f2', 'product']\n",
      "interval columns not set, guessing: ['f0', 'f1', 'f2', 'product']\n",
      "interval columns not set, guessing: ['f0', 'f1', 'f2', 'product']\n"
     ]
    },
    {
     "data": {
      "image/png": "[encoded data removed]",
      "text/plain": [
       "<Figure size 432x432 with 2 Axes>"
      ]
     },
     "metadata": {
      "needs_background": "light"
     },
     "output_type": "display_data"
    },
    {
     "data": {
      "image/png": "[encoded data removed]",
      "text/plain": [
       "<Figure size 432x432 with 2 Axes>"
      ]
     },
     "metadata": {
      "needs_background": "light"
     },
     "output_type": "display_data"
    },
    {
     "data": {
      "image/png": "[encoded data removed]",
      "text/plain": [
       "<Figure size 432x432 with 2 Axes>"
      ]
     },
     "metadata": {
      "needs_background": "light"
     },
     "output_type": "display_data"
    }
   ],
   "source": [
    "for df in [df0, df1, df2]:\n",
    "    data_phik = df.set_index('id')\n",
    "    \n",
    "    data_phik = data_phik.drop(['region'], axis=1)\n",
    "    \n",
    "    phik_overview = phik_matrix(data_phik)\n",
    "    \n",
    "    plot_correlation_matrix(\n",
    "        phik_overview.values,\n",
    "        x_labels=phik_overview.columns,\n",
    "        y_labels=phik_overview.index,\n",
    "        vmin=0, vmax=1, color_map='coolwarm',\n",
    "        fontsize_factor=1.5,\n",
    "        figsize=(6, 6)\n",
    "    )"
   ]
  },
  {
   "cell_type": "markdown",
   "metadata": {},
   "source": [
    "Выводы:\n",
    "\n",
    "- Обнаружено странное распределение у признаков f2 и product в df1\n",
    "\n",
    "\n",
    "- Возможна утечка целевого признака в df1, так как корреляция между f2 и целевым product достигает 0.98. Удалим признак f2."
   ]
  },
  {
   "cell_type": "markdown",
   "metadata": {},
   "source": [
    "## Обучение и проверка модели"
   ]
  },
  {
   "cell_type": "code",
   "execution_count": 31,
   "metadata": {},
   "outputs": [],
   "source": [
    "train_data0, valid_data0 = train_test_split(df0, test_size=0.25, random_state=RANDOM_STATE)\n",
    "\n",
    "target_train0 = train_data0['product']\n",
    "target_valid0 = valid_data0['product']\n",
    "\n",
    "train_features0 = train_data0.drop(['region', 'product', 'id'], axis=1)\n",
    "valid_features0 = valid_data0.drop(['region', 'product', 'id'], axis=1)\n",
    "\n",
    "\n",
    "train_data1, valid_data1 = train_test_split(df1, test_size=0.25, random_state=RANDOM_STATE)\n",
    "\n",
    "target_train1 = train_data1['product']\n",
    "target_valid1 = valid_data1['product']\n",
    "\n",
    "train_features1 = train_data1.drop(['region', 'product', 'id'], axis=1)\n",
    "valid_features1 = valid_data1.drop(['region', 'product', 'id'], axis=1)\n",
    "\n",
    "\n",
    "train_data2, valid_data2 = train_test_split(df2, test_size=0.25, random_state=RANDOM_STATE)\n",
    "\n",
    "target_train2 = train_data2['product']\n",
    "target_valid2 = valid_data2['product']\n",
    "\n",
    "train_features2 = train_data2.drop(['region', 'product', 'id'], axis=1)\n",
    "valid_features2 = valid_data2.drop(['region', 'product', 'id'], axis=1)"
   ]
  },
  {
   "cell_type": "code",
   "execution_count": 32,
   "metadata": {
    "scrolled": true
   },
   "outputs": [],
   "source": [
    "num_columns_0 = ['f0', 'f1', 'f2']\n",
    "num_columns_1 = ['f0', 'f1', 'f2']      \n",
    "num_columns_2 = ['f0', 'f1', 'f2']\n",
    "\n",
    "# упакуем в список для удобства\n",
    "datasets = [\n",
    "    (\"Dataset 0\", train_features0, target_train0, valid_features0, num_columns_0),\n",
    "    (\"Dataset 1\", train_features1, target_train1, valid_features1, num_columns_1),\n",
    "    (\"Dataset 2\", train_features2, target_train2, valid_features2, num_columns_2)\n",
    "]"
   ]
  },
  {
   "cell_type": "code",
   "execution_count": 33,
   "metadata": {},
   "outputs": [],
   "source": [
    "num_pipe = Pipeline(\n",
    "    [\n",
    "    ('simpleImputer_num', SimpleImputer(strategy='median')),\n",
    "    ('scaler_standard', StandardScaler()),  \n",
    "    ('scaler_minmax', MinMaxScaler())   \n",
    "    ]\n",
    ")"
   ]
  },
  {
   "cell_type": "code",
   "execution_count": 34,
   "metadata": {},
   "outputs": [],
   "source": [
    "param_grid = [\n",
    "        # ElasticNet Regression\n",
    "    {\n",
    "        'models': [ElasticNet(random_state=RANDOM_STATE)],\n",
    "        'models__alpha': [0.01, 0.1, 0.5, 1.0, 10.0, 100.0],\n",
    "        'models__l1_ratio': [0.1, 0.3, 0.5, 0.7, 0.9, 1.0],\n",
    "        'preprocessor__num': [StandardScaler(), MinMaxScaler(), 'passthrough']\n",
    "    },\n",
    "    # LinearRegression\n",
    "    {\n",
    "        'models': [LinearRegression()],\n",
    "        'preprocessor__num': [StandardScaler(), MinMaxScaler(), 'passthrough']\n",
    "    }\n",
    "]"
   ]
  },
  {
   "cell_type": "code",
   "execution_count": 35,
   "metadata": {},
   "outputs": [
    {
     "name": "stdout",
     "output_type": "stream",
     "text": [
      "Processing Dataset 0...\n",
      "Best score for Dataset 0: 37.7558\n",
      "Best params for Dataset 0: {'preprocessor__num': MinMaxScaler(), 'models': LinearRegression()}\n",
      "//////////////////////////////////////////////////\n",
      "Processing Dataset 1...\n",
      "Best score for Dataset 1: 0.8886\n",
      "Best params for Dataset 1: {'preprocessor__num': MinMaxScaler(), 'models': LinearRegression()}\n",
      "//////////////////////////////////////////////////\n",
      "Processing Dataset 2...\n",
      "Best score for Dataset 2: 40.0474\n",
      "Best params for Dataset 2: {'preprocessor__num': 'passthrough', 'models__l1_ratio': 1.0, 'models__alpha': 0.1, 'models': ElasticNet(random_state=42)}\n",
      "//////////////////////////////////////////////////\n"
     ]
    }
   ],
   "source": [
    "results_train = {}\n",
    "\n",
    "for name, train_features, train_target, valid_features, num_columns in datasets:\n",
    "    print(f\"Processing {name}...\")\n",
    "    \n",
    "    # Обновляем числовые признаки в ColumnTransformer\n",
    "    data_preprocessor = ColumnTransformer(\n",
    "        transformers=[\n",
    "            ('num', num_pipe, num_columns),\n",
    "        ],\n",
    "        remainder='passthrough'\n",
    "    )\n",
    "    \n",
    "    # Обновляем основной pipeline\n",
    "    pipe_final = Pipeline([\n",
    "        ('preprocessor', data_preprocessor),\n",
    "        ('models', ElasticNet(random_state=RANDOM_STATE))\n",
    "    ])\n",
    "    \n",
    "    # Создаем RandomizedSearchCV\n",
    "    random_search = RandomizedSearchCV(\n",
    "        pipe_final, \n",
    "        param_distributions=param_grid, \n",
    "        scoring='neg_root_mean_squared_error',\n",
    "        cv=6,\n",
    "        n_jobs=-1,\n",
    "        n_iter=50,\n",
    "        random_state=RANDOM_STATE\n",
    "    )\n",
    "    \n",
    "    # Обучаем RandomizedSearchCV на текущем наборе данных\n",
    "    random_search.fit(train_features, train_target)\n",
    "    \n",
    "    # Сохраняем результаты\n",
    "    result = pd.DataFrame(random_search.cv_results_)\n",
    "    results_train[name] = {\n",
    "        \"cv_results\": result,\n",
    "        \"best_model\": random_search.best_estimator_,\n",
    "        \"best_score\": random_search.best_score_,\n",
    "        \"best_params\": random_search.best_params_,\n",
    "    }\n",
    "    \n",
    "    print(f\"Best score for {name}: {-random_search.best_score_:.4f}\")\n",
    "    print(f\"Best params for {name}: {random_search.best_params_}\")\n",
    "    print('/'*50)\n"
   ]
  },
  {
   "cell_type": "code",
   "execution_count": 36,
   "metadata": {},
   "outputs": [
    {
     "name": "stdout",
     "output_type": "stream",
     "text": [
      "Метрика RMSE для лучшей модели (Dataset 0): 37.75575005869676\n",
      "RMSE для валидационной выборки (Dataset 0): 37.6468745761372\n",
      "Средний запас предсказанного сырья (Dataset 0): 92.36620322417748\n",
      "Средний запас РЕАЛЬНОГО сырья (Dataset 0): 92.16815683223362\n",
      "//////////////////////////////////////////////////\n",
      "Метрика RMSE для лучшей модели (Dataset 1): 0.8885780079190004\n",
      "RMSE для валидационной выборки (Dataset 1): 0.8968322754782144\n",
      "Средний запас предсказанного сырья (Dataset 1): 69.02404995665546\n",
      "Средний запас РЕАЛЬНОГО сырья (Dataset 1): 69.02272304205623\n",
      "//////////////////////////////////////////////////\n",
      "Метрика RMSE для лучшей модели (Dataset 2): 40.04744811511386\n",
      "RMSE для валидационной выборки (Dataset 2): 40.25728537411474\n",
      "Средний запас предсказанного сырья (Dataset 2): 94.86854215305894\n",
      "Средний запас РЕАЛЬНОГО сырья (Dataset 2): 94.86143851098832\n",
      "//////////////////////////////////////////////////\n"
     ]
    }
   ],
   "source": [
    "datasets = [0, 1, 2]\n",
    "\n",
    "for i in datasets:\n",
    "    valid_data = eval(f'valid_data{i}')\n",
    "    valid_features = eval(f'valid_features{i}')\n",
    "    best_model = results_train[f'Dataset {i}']['best_model']\n",
    "    best_score = results_train[f'Dataset {i}']['best_score']\n",
    "    \n",
    "    valid_data['pred_product'] = best_model.predict(valid_features)\n",
    "    rmse = np.sqrt(mean_squared_error(valid_data['product'], valid_data['pred_product']))\n",
    "    \n",
    "    print(f'Метрика RMSE для лучшей модели (Dataset {i}): {-best_score}')\n",
    "    print(f'RMSE для валидационной выборки (Dataset {i}): {rmse}')\n",
    "    print(f'Средний запас предсказанного сырья (Dataset {i}): {valid_data[\"pred_product\"].mean()}')\n",
    "    print(f'Средний запас РЕАЛЬНОГО сырья (Dataset {i}): {valid_data[\"product\"].mean()}')\n",
    "    print('/'*50)"
   ]
  },
  {
   "cell_type": "markdown",
   "metadata": {},
   "source": [
    "Вывод:\n",
    "\n",
    "- Dataset 0: Лучшая модель — Linear Regression с нормализацией (MinMaxScaler). RMSE на обучении — 37.76, на валидации — 37.65. Средний предсказанный запас сырья — 92.37, средний реальный запас сырья — 92.17.\n",
    "\n",
    "\n",
    "- Dataset 1: Лучшая модель — Linear Regression с нормализацией (MinMaxScaler). RMSE на обучении — 0.8886, на валидации — 0.8968. Средний предсказанный запас сырья — 69.024, средний реальный запас сырья — 69.02.\n",
    "\n",
    "\n",
    "- Dataset 2: Лучшая модель — ElasticNet (l1_ratio=1.0, alpha=0.1). RMSE на обучении — 40.05, на валидации — 40.26. Средний предсказанный запас сырья — 94.87, средний реальный запас сырья — 94.86.\n",
    "\n",
    "\n",
    "Различия между предсказанным и реальным запасом сырья во всех случаях минимальны"
   ]
  },
  {
   "cell_type": "markdown",
   "metadata": {},
   "source": [
    "## Подготовка к расчёту прибыли"
   ]
  },
  {
   "cell_type": "code",
   "execution_count": 37,
   "metadata": {},
   "outputs": [],
   "source": [
    "sufficient_volume = BUDGET / (INCOME_PER_THOUSAND_BARRELS * SELECTED_POINTS)"
   ]
  },
  {
   "cell_type": "code",
   "execution_count": 38,
   "metadata": {},
   "outputs": [
    {
     "name": "stdout",
     "output_type": "stream",
     "text": [
      "Достаточный объем сырья для безубыточной разработки новой скважины: 111.11\n"
     ]
    }
   ],
   "source": [
    "print(f'Достаточный объем сырья для безубыточной разработки новой скважины: {round(sufficient_volume, 2)}')"
   ]
  },
  {
   "cell_type": "markdown",
   "metadata": {},
   "source": [
    "Вывод:\n",
    "\n",
    "- Средний объём сырья во всех регионах ниже уровня безубыточности (111.11 тыс. баррелей), что указывает на риск убытков при разработке новых скважин.\n",
    "\n",
    "\n",
    "- Наиболее низкий запас предсказан в Dataset 1, что делает этот регион наименее привлекательным, но из за прямой корреляции признака f1 с целевой переменной, мы получили наилучший показатель RMSE в 0.88\n",
    "\n",
    "\n",
    "- Dataset 0 и Dataset 2 показывают близкие значения среднего запаса сырья, но всё же их объём не достигает порога для покрытия затрат.\n",
    "\n",
    "\n",
    "- Метрика RMSE (ошибка модели) достаточно велика у Dataset 0 и Dataset 2, что увеличивает неопределённость в оценках. Особенно высокая ошибка у Dataset 2, что снижает доверие к прогнозам для этого региона.\n",
    "\n",
    "\n",
    "- Так как различия между предсказанным средним и реальным средним для каждого региона минимальны, то текст выше актуален как для предсказанных так и для с реальных значений."
   ]
  },
  {
   "cell_type": "markdown",
   "metadata": {},
   "source": [
    "## Расчёт прибыли и рисков "
   ]
  },
  {
   "cell_type": "code",
   "execution_count": 39,
   "metadata": {
    "scrolled": false
   },
   "outputs": [
    {
     "name": "stdout",
     "output_type": "stream",
     "text": [
      "Регион номер 0\n",
      "Прибыль с 200 лучших скважин: 3320215552\n",
      "--------------------------------------------------\n",
      "Регион номер 1\n",
      "Прибыль с 200 лучших скважин: 2415086697\n",
      "--------------------------------------------------\n",
      "Регион номер 2\n",
      "Прибыль с 200 лучших скважин: 2386909268\n",
      "--------------------------------------------------\n"
     ]
    }
   ],
   "source": [
    "for i in datasets:\n",
    "    valid_data = eval(f'valid_data{i}')\n",
    "    print(f'Регион номер {i}')\n",
    "    print('Прибыль с 200 лучших скважин:', round(calculate_profit(valid_data['pred_product'],\n",
    "                                                           valid_data['product'],\n",
    "                                                           BUDGET,\n",
    "                                                           INCOME_PER_THOUSAND_BARRELS,\n",
    "                                                           SELECTED_POINTS)))\n",
    "    print('-'*50)"
   ]
  },
  {
   "cell_type": "code",
   "execution_count": 40,
   "metadata": {
    "scrolled": false
   },
   "outputs": [
    {
     "name": "stdout",
     "output_type": "stream",
     "text": [
      "Регион номер 0\n",
      "--- Результаты бутстреп-анализа ---\n",
      "Средняя прибыль: 616,264,906.81 руб.\n",
      "Квартильный диапазон (2.5% - 97.5%): 2,919,225.83 руб. - 1,229,660,714.15 руб.\n",
      "Риск убытков: 2.4\n",
      "--------------------------------------------------\n",
      "--------------------------------------------------\n",
      "Регион номер 1\n",
      "--- Результаты бутстреп-анализа ---\n",
      "Средняя прибыль: 644,667,592.61 руб.\n",
      "Квартильный диапазон (2.5% - 97.5%): 136,608,843.67 руб. - 1,198,307,125.68 руб.\n",
      "Риск убытков: 0.7000000000000001\n",
      "--------------------------------------------------\n",
      "--------------------------------------------------\n",
      "Регион номер 2\n",
      "--- Результаты бутстреп-анализа ---\n",
      "Средняя прибыль: 527,274,975.00 руб.\n",
      "Квартильный диапазон (2.5% - 97.5%): -128,388,140.74 руб. - 1,212,580,167.47 руб.\n",
      "Риск убытков: 5.0\n",
      "--------------------------------------------------\n",
      "--------------------------------------------------\n"
     ]
    }
   ],
   "source": [
    "for i in datasets:\n",
    "    valid_data = eval(f'valid_data{i}')\n",
    "    print(f'Регион номер {i}')\n",
    "    bootstrap_profit(valid_data['pred_product'], valid_data['product'],\n",
    "                     BUDGET, INCOME_PER_THOUSAND_BARRELS, SELECTED_POINTS, TOTAL_POINTS, n_bootstrap=1000)\n",
    "    print('-'*50)"
   ]
  },
  {
   "cell_type": "markdown",
   "metadata": {},
   "source": [
    "Вывод:\n",
    "\n",
    "Для разработки скважин рекомендуется выбрать регион 1. Этот регион соответствует всем необходимым критериям для минимизации рисков и получения максимальной прибыли.\n",
    "\n",
    "- Средняя прибыль в регионе 1 составляет 644,667,592.61 руб. Это наибольший показатель среди всех регионов, что делает его наиболее привлекательным для разработки.\n",
    "Риск убытков в регионе 1 составляет 0.7%, что значительно ниже установленного порога в 2.4%. Это гарантирует минимизацию вероятности потерь.\n",
    "\n",
    "\n",
    "Регион 0 также является потенциально привлекательным:\n",
    "\n",
    "- Средняя прибыль в регионе 0 составляет 616,264,906.81 руб., что лишь немного меньше, чем в регионе 1.\n",
    "Риск убытков в регионе 2.4%, что находится на грани допустимого порога, но все еще является приемлемым.\n",
    "\n",
    "\n",
    "Регион 2 следует исключить из рассмотрения:\n",
    "\n",
    "- Несмотря на положительную среднюю прибыль (527,274,975.00 руб.), риск убытков составляет 5%, что превышает допустимый уровень в 2.4%.\n",
    "Кроме того, нижняя граница квартильного диапазона указывает на возможные убытки в этом регионе.\n",
    "\n",
    "\n",
    "Таким образом, для минимизации рисков и получения максимальной прибыли рекомендуется сосредоточиться на разработке региона 1, а регион 0 можно рассмотреть как альтернативу."
   ]
  }
 ],
 "metadata": {
  "ExecuteTimeLog": [
   {
    "duration": 49,
    "start_time": "2024-11-19T10:47:37.442Z"
   },
   {
    "duration": 1509,
    "start_time": "2024-11-19T10:47:40.882Z"
   },
   {
    "duration": 913,
    "start_time": "2024-11-19T10:47:42.393Z"
   },
   {
    "duration": 443,
    "start_time": "2024-11-19T10:49:35.114Z"
   },
   {
    "duration": 1189,
    "start_time": "2024-11-19T10:50:42.585Z"
   },
   {
    "duration": 162,
    "start_time": "2024-11-19T10:50:43.777Z"
   },
   {
    "duration": 135,
    "start_time": "2024-11-19T10:50:43.941Z"
   },
   {
    "duration": 136,
    "start_time": "2024-11-19T10:50:44.078Z"
   },
   {
    "duration": 4,
    "start_time": "2024-11-19T10:56:46.520Z"
   },
   {
    "duration": 109,
    "start_time": "2024-11-19T10:57:04.280Z"
   },
   {
    "duration": 75,
    "start_time": "2024-11-19T10:57:22.369Z"
   },
   {
    "duration": 4,
    "start_time": "2024-11-19T10:58:25.411Z"
   },
   {
    "duration": 80,
    "start_time": "2024-11-19T10:58:30.945Z"
   },
   {
    "duration": 4,
    "start_time": "2024-11-19T11:01:31.481Z"
   },
   {
    "duration": 4,
    "start_time": "2024-11-19T11:01:31.757Z"
   },
   {
    "duration": 105,
    "start_time": "2024-11-19T11:01:37.302Z"
   },
   {
    "duration": 12,
    "start_time": "2024-11-19T11:02:44.542Z"
   },
   {
    "duration": 19,
    "start_time": "2024-11-19T11:02:53.160Z"
   },
   {
    "duration": 67,
    "start_time": "2024-11-19T11:03:34.640Z"
   },
   {
    "duration": 62,
    "start_time": "2024-11-19T11:03:54.469Z"
   },
   {
    "duration": 4,
    "start_time": "2024-11-19T11:13:22.423Z"
   },
   {
    "duration": 27,
    "start_time": "2024-11-19T11:13:37.280Z"
   },
   {
    "duration": 4,
    "start_time": "2024-11-19T11:15:00.072Z"
   },
   {
    "duration": 17,
    "start_time": "2024-11-19T11:15:07.339Z"
   },
   {
    "duration": 1781,
    "start_time": "2024-11-19T11:18:46.412Z"
   },
   {
    "duration": 18,
    "start_time": "2024-11-19T11:21:11.455Z"
   },
   {
    "duration": 1571,
    "start_time": "2024-11-19T11:21:36.971Z"
   },
   {
    "duration": 25,
    "start_time": "2024-11-19T11:22:14.721Z"
   },
   {
    "duration": 1707,
    "start_time": "2024-11-19T11:22:50.635Z"
   },
   {
    "duration": 53,
    "start_time": "2024-11-26T19:56:30.052Z"
   },
   {
    "duration": 1346,
    "start_time": "2024-11-26T19:56:40.320Z"
   },
   {
    "duration": 4,
    "start_time": "2024-11-26T19:56:41.668Z"
   },
   {
    "duration": 12,
    "start_time": "2024-11-26T19:56:41.674Z"
   },
   {
    "duration": 524,
    "start_time": "2024-11-26T19:56:41.688Z"
   },
   {
    "duration": 224,
    "start_time": "2024-11-26T19:56:42.214Z"
   },
   {
    "duration": 251,
    "start_time": "2024-11-26T19:56:42.439Z"
   },
   {
    "duration": 79,
    "start_time": "2024-11-26T19:56:42.692Z"
   },
   {
    "duration": 18,
    "start_time": "2024-11-26T19:56:42.772Z"
   },
   {
    "duration": 1597,
    "start_time": "2024-11-26T19:56:42.792Z"
   },
   {
    "duration": 76,
    "start_time": "2024-11-26T19:56:44.390Z"
   },
   {
    "duration": 19,
    "start_time": "2024-11-26T19:56:44.467Z"
   },
   {
    "duration": 1643,
    "start_time": "2024-11-26T19:56:44.487Z"
   },
   {
    "duration": 69,
    "start_time": "2024-11-26T19:56:46.133Z"
   },
   {
    "duration": 18,
    "start_time": "2024-11-26T19:56:46.217Z"
   },
   {
    "duration": 1676,
    "start_time": "2024-11-26T19:56:46.237Z"
   },
   {
    "duration": 22406,
    "start_time": "2024-11-26T19:56:47.917Z"
   },
   {
    "duration": 22,
    "start_time": "2024-11-26T19:57:30.076Z"
   },
   {
    "duration": 22,
    "start_time": "2024-11-26T19:57:57.638Z"
   },
   {
    "duration": 11,
    "start_time": "2024-11-26T19:58:54.707Z"
   },
   {
    "duration": 1150,
    "start_time": "2024-11-26T19:59:04.354Z"
   },
   {
    "duration": 3,
    "start_time": "2024-11-26T19:59:05.506Z"
   },
   {
    "duration": 9,
    "start_time": "2024-11-26T19:59:05.517Z"
   },
   {
    "duration": 197,
    "start_time": "2024-11-26T19:59:05.528Z"
   },
   {
    "duration": 144,
    "start_time": "2024-11-26T19:59:05.728Z"
   },
   {
    "duration": 150,
    "start_time": "2024-11-26T19:59:05.874Z"
   },
   {
    "duration": 67,
    "start_time": "2024-11-26T19:59:06.026Z"
   },
   {
    "duration": 38,
    "start_time": "2024-11-26T19:59:06.095Z"
   },
   {
    "duration": 1569,
    "start_time": "2024-11-26T19:59:06.135Z"
   },
   {
    "duration": 79,
    "start_time": "2024-11-26T19:59:07.706Z"
   },
   {
    "duration": 41,
    "start_time": "2024-11-26T19:59:07.787Z"
   },
   {
    "duration": 1633,
    "start_time": "2024-11-26T19:59:07.830Z"
   },
   {
    "duration": 74,
    "start_time": "2024-11-26T19:59:09.464Z"
   },
   {
    "duration": 16,
    "start_time": "2024-11-26T19:59:09.541Z"
   },
   {
    "duration": 8461,
    "start_time": "2024-11-26T19:59:09.559Z"
   },
   {
    "duration": 21016,
    "start_time": "2024-11-26T19:59:18.021Z"
   },
   {
    "duration": 110,
    "start_time": "2024-11-26T19:59:53.788Z"
   },
   {
    "duration": 1170,
    "start_time": "2024-11-26T20:00:06.463Z"
   },
   {
    "duration": 4,
    "start_time": "2024-11-26T20:00:07.636Z"
   },
   {
    "duration": 14,
    "start_time": "2024-11-26T20:00:07.642Z"
   },
   {
    "duration": 182,
    "start_time": "2024-11-26T20:00:07.657Z"
   },
   {
    "duration": 148,
    "start_time": "2024-11-26T20:00:07.842Z"
   },
   {
    "duration": 152,
    "start_time": "2024-11-26T20:00:07.992Z"
   },
   {
    "duration": 92,
    "start_time": "2024-11-26T20:00:08.146Z"
   },
   {
    "duration": 21,
    "start_time": "2024-11-26T20:00:08.240Z"
   },
   {
    "duration": 1672,
    "start_time": "2024-11-26T20:00:08.263Z"
   },
   {
    "duration": 91,
    "start_time": "2024-11-26T20:00:09.937Z"
   },
   {
    "duration": 20,
    "start_time": "2024-11-26T20:00:10.030Z"
   },
   {
    "duration": 1655,
    "start_time": "2024-11-26T20:00:10.052Z"
   },
   {
    "duration": 95,
    "start_time": "2024-11-26T20:00:11.709Z"
   },
   {
    "duration": 21,
    "start_time": "2024-11-26T20:00:11.817Z"
   },
   {
    "duration": 9105,
    "start_time": "2024-11-26T20:00:11.840Z"
   },
   {
    "duration": 22035,
    "start_time": "2024-11-26T20:00:20.946Z"
   },
   {
    "duration": 98,
    "start_time": "2024-11-26T20:02:12.742Z"
   },
   {
    "duration": 1190,
    "start_time": "2024-11-26T20:02:39.801Z"
   },
   {
    "duration": 4,
    "start_time": "2024-11-26T20:02:40.993Z"
   },
   {
    "duration": 38,
    "start_time": "2024-11-26T20:02:40.998Z"
   },
   {
    "duration": 183,
    "start_time": "2024-11-26T20:02:41.038Z"
   },
   {
    "duration": 138,
    "start_time": "2024-11-26T20:02:41.223Z"
   },
   {
    "duration": 145,
    "start_time": "2024-11-26T20:02:41.363Z"
   },
   {
    "duration": 94,
    "start_time": "2024-11-26T20:02:41.509Z"
   },
   {
    "duration": 31,
    "start_time": "2024-11-26T20:02:41.605Z"
   },
   {
    "duration": 1602,
    "start_time": "2024-11-26T20:02:41.638Z"
   },
   {
    "duration": 60,
    "start_time": "2024-11-26T20:02:43.241Z"
   },
   {
    "duration": 32,
    "start_time": "2024-11-26T20:02:43.302Z"
   },
   {
    "duration": 1590,
    "start_time": "2024-11-26T20:02:43.336Z"
   },
   {
    "duration": 63,
    "start_time": "2024-11-26T20:02:44.928Z"
   },
   {
    "duration": 36,
    "start_time": "2024-11-26T20:02:44.993Z"
   },
   {
    "duration": 1673,
    "start_time": "2024-11-26T20:02:45.031Z"
   },
   {
    "duration": 21372,
    "start_time": "2024-11-26T20:02:46.706Z"
   },
   {
    "duration": 21243,
    "start_time": "2024-11-26T20:14:11.284Z"
   },
   {
    "duration": 5,
    "start_time": "2024-11-26T20:14:45.951Z"
   },
   {
    "duration": 99,
    "start_time": "2024-11-26T20:17:03.333Z"
   },
   {
    "duration": 60,
    "start_time": "2024-11-26T20:17:10.710Z"
   },
   {
    "duration": 249,
    "start_time": "2024-11-26T20:19:02.794Z"
   },
   {
    "duration": 21345,
    "start_time": "2024-11-26T20:21:00.331Z"
   },
   {
    "duration": 33,
    "start_time": "2024-11-26T20:21:38.778Z"
   },
   {
    "duration": 8285,
    "start_time": "2024-11-26T20:21:57.295Z"
   },
   {
    "duration": 22,
    "start_time": "2024-11-26T20:22:05.583Z"
   },
   {
    "duration": 8126,
    "start_time": "2024-11-26T20:25:50.645Z"
   },
   {
    "duration": 1552,
    "start_time": "2024-11-26T20:25:58.774Z"
   },
   {
    "duration": 3,
    "start_time": "2024-11-26T20:26:00.328Z"
   },
   {
    "duration": 28,
    "start_time": "2024-11-26T20:26:00.333Z"
   },
   {
    "duration": 171,
    "start_time": "2024-11-26T20:26:00.363Z"
   },
   {
    "duration": 139,
    "start_time": "2024-11-26T20:26:00.535Z"
   },
   {
    "duration": 145,
    "start_time": "2024-11-26T20:26:00.676Z"
   },
   {
    "duration": 67,
    "start_time": "2024-11-26T20:26:00.823Z"
   },
   {
    "duration": 37,
    "start_time": "2024-11-26T20:26:00.891Z"
   },
   {
    "duration": 1641,
    "start_time": "2024-11-26T20:26:00.930Z"
   },
   {
    "duration": 75,
    "start_time": "2024-11-26T20:26:02.572Z"
   },
   {
    "duration": 22,
    "start_time": "2024-11-26T20:26:02.649Z"
   },
   {
    "duration": 1632,
    "start_time": "2024-11-26T20:26:02.673Z"
   },
   {
    "duration": 63,
    "start_time": "2024-11-26T20:26:04.308Z"
   },
   {
    "duration": 19,
    "start_time": "2024-11-26T20:26:04.372Z"
   },
   {
    "duration": 1595,
    "start_time": "2024-11-26T20:26:04.393Z"
   },
   {
    "duration": 21331,
    "start_time": "2024-11-26T20:26:05.990Z"
   },
   {
    "duration": 6,
    "start_time": "2024-11-26T20:26:27.323Z"
   },
   {
    "duration": 83,
    "start_time": "2024-11-26T20:26:27.331Z"
   },
   {
    "duration": 17,
    "start_time": "2024-11-26T20:26:27.416Z"
   },
   {
    "duration": 99,
    "start_time": "2024-11-26T20:26:37.383Z"
   },
   {
    "duration": 38,
    "start_time": "2024-11-26T20:27:17.012Z"
   },
   {
    "duration": 96,
    "start_time": "2024-11-26T20:27:38.912Z"
   },
   {
    "duration": 3,
    "start_time": "2024-11-26T20:32:57.797Z"
   },
   {
    "duration": 3,
    "start_time": "2024-11-26T20:33:57.638Z"
   },
   {
    "duration": 3895,
    "start_time": "2024-11-26T20:33:59.334Z"
   },
   {
    "duration": 3905,
    "start_time": "2024-11-26T20:34:58.501Z"
   },
   {
    "duration": 3813,
    "start_time": "2024-11-26T20:35:25.563Z"
   },
   {
    "duration": 4398,
    "start_time": "2024-11-26T20:36:13.823Z"
   },
   {
    "duration": 47,
    "start_time": "2024-11-26T20:40:39.193Z"
   },
   {
    "duration": 222,
    "start_time": "2024-11-26T20:43:29.758Z"
   },
   {
    "duration": 296,
    "start_time": "2024-11-26T20:45:08.406Z"
   },
   {
    "duration": 8300,
    "start_time": "2024-11-26T20:45:24.879Z"
   },
   {
    "duration": 1730,
    "start_time": "2024-11-26T20:45:33.182Z"
   },
   {
    "duration": 3,
    "start_time": "2024-11-26T20:45:34.914Z"
   },
   {
    "duration": 9,
    "start_time": "2024-11-26T20:45:34.919Z"
   },
   {
    "duration": 166,
    "start_time": "2024-11-26T20:45:34.930Z"
   },
   {
    "duration": 136,
    "start_time": "2024-11-26T20:45:35.098Z"
   },
   {
    "duration": 140,
    "start_time": "2024-11-26T20:45:35.236Z"
   },
   {
    "duration": 76,
    "start_time": "2024-11-26T20:45:35.378Z"
   },
   {
    "duration": 18,
    "start_time": "2024-11-26T20:45:35.456Z"
   },
   {
    "duration": 1572,
    "start_time": "2024-11-26T20:45:35.476Z"
   },
   {
    "duration": 72,
    "start_time": "2024-11-26T20:45:37.050Z"
   },
   {
    "duration": 18,
    "start_time": "2024-11-26T20:45:37.123Z"
   },
   {
    "duration": 1578,
    "start_time": "2024-11-26T20:45:37.143Z"
   },
   {
    "duration": 60,
    "start_time": "2024-11-26T20:45:38.724Z"
   },
   {
    "duration": 33,
    "start_time": "2024-11-26T20:45:38.786Z"
   },
   {
    "duration": 1634,
    "start_time": "2024-11-26T20:45:38.820Z"
   },
   {
    "duration": 21521,
    "start_time": "2024-11-26T20:45:40.455Z"
   },
   {
    "duration": 6,
    "start_time": "2024-11-26T20:46:01.978Z"
   },
   {
    "duration": 74,
    "start_time": "2024-11-26T20:46:01.986Z"
   },
   {
    "duration": 3,
    "start_time": "2024-11-26T20:46:02.062Z"
   },
   {
    "duration": 4015,
    "start_time": "2024-11-26T20:46:02.066Z"
   },
   {
    "duration": 3825,
    "start_time": "2024-11-26T20:46:06.082Z"
   },
   {
    "duration": 4399,
    "start_time": "2024-11-26T20:46:09.909Z"
   },
   {
    "duration": 303,
    "start_time": "2024-11-26T20:46:14.310Z"
   },
   {
    "duration": 0,
    "start_time": "2024-11-26T20:46:14.615Z"
   },
   {
    "duration": 8094,
    "start_time": "2024-11-26T20:46:26.355Z"
   },
   {
    "duration": 1811,
    "start_time": "2024-11-26T20:46:34.452Z"
   },
   {
    "duration": 3,
    "start_time": "2024-11-26T20:46:36.264Z"
   },
   {
    "duration": 11,
    "start_time": "2024-11-26T20:46:36.269Z"
   },
   {
    "duration": 163,
    "start_time": "2024-11-26T20:46:36.281Z"
   },
   {
    "duration": 143,
    "start_time": "2024-11-26T20:46:36.446Z"
   },
   {
    "duration": 139,
    "start_time": "2024-11-26T20:46:36.591Z"
   },
   {
    "duration": 63,
    "start_time": "2024-11-26T20:46:36.732Z"
   },
   {
    "duration": 36,
    "start_time": "2024-11-26T20:46:36.797Z"
   },
   {
    "duration": 1588,
    "start_time": "2024-11-26T20:46:36.836Z"
   },
   {
    "duration": 61,
    "start_time": "2024-11-26T20:46:38.426Z"
   },
   {
    "duration": 37,
    "start_time": "2024-11-26T20:46:38.489Z"
   },
   {
    "duration": 1572,
    "start_time": "2024-11-26T20:46:38.528Z"
   },
   {
    "duration": 75,
    "start_time": "2024-11-26T20:46:40.101Z"
   },
   {
    "duration": 17,
    "start_time": "2024-11-26T20:46:40.177Z"
   },
   {
    "duration": 1588,
    "start_time": "2024-11-26T20:46:40.195Z"
   },
   {
    "duration": 21528,
    "start_time": "2024-11-26T20:46:41.784Z"
   },
   {
    "duration": 6,
    "start_time": "2024-11-26T20:47:03.317Z"
   },
   {
    "duration": 66,
    "start_time": "2024-11-26T20:47:03.325Z"
   },
   {
    "duration": 3,
    "start_time": "2024-11-26T20:47:03.392Z"
   },
   {
    "duration": 3997,
    "start_time": "2024-11-26T20:47:03.396Z"
   },
   {
    "duration": 3911,
    "start_time": "2024-11-26T20:47:07.394Z"
   },
   {
    "duration": 4351,
    "start_time": "2024-11-26T20:47:11.307Z"
   },
   {
    "duration": 322,
    "start_time": "2024-11-26T20:47:15.660Z"
   },
   {
    "duration": 0,
    "start_time": "2024-11-26T20:47:15.983Z"
   },
   {
    "duration": 229,
    "start_time": "2024-11-26T20:48:30.582Z"
   },
   {
    "duration": 1433,
    "start_time": "2024-11-26T20:48:38.888Z"
   },
   {
    "duration": 1270,
    "start_time": "2024-11-26T22:42:49.197Z"
   },
   {
    "duration": 1194,
    "start_time": "2024-11-26T22:43:10.129Z"
   },
   {
    "duration": 1206,
    "start_time": "2024-11-26T22:43:19.696Z"
   },
   {
    "duration": 1305,
    "start_time": "2024-11-26T22:43:31.026Z"
   },
   {
    "duration": 1142,
    "start_time": "2024-11-26T23:09:57.859Z"
   },
   {
    "duration": 1273,
    "start_time": "2024-11-26T23:10:13.570Z"
   },
   {
    "duration": 1189,
    "start_time": "2024-11-26T23:10:25.804Z"
   },
   {
    "duration": 132,
    "start_time": "2024-11-26T23:11:38.982Z"
   },
   {
    "duration": 81,
    "start_time": "2024-11-26T23:11:54.443Z"
   },
   {
    "duration": 68,
    "start_time": "2024-11-26T23:12:52.180Z"
   },
   {
    "duration": 73,
    "start_time": "2024-11-26T23:13:08.764Z"
   },
   {
    "duration": 71,
    "start_time": "2024-11-26T23:13:14.225Z"
   },
   {
    "duration": 66,
    "start_time": "2024-11-26T23:24:59.476Z"
   },
   {
    "duration": 17,
    "start_time": "2024-11-26T23:25:19.061Z"
   },
   {
    "duration": 3,
    "start_time": "2024-11-26T23:31:24.941Z"
   },
   {
    "duration": 3,
    "start_time": "2024-11-26T23:31:25.643Z"
   },
   {
    "duration": 57,
    "start_time": "2024-11-26T23:38:16.364Z"
   },
   {
    "duration": 48,
    "start_time": "2024-11-26T23:38:29.065Z"
   },
   {
    "duration": 69,
    "start_time": "2024-11-26T23:38:48.713Z"
   },
   {
    "duration": 81,
    "start_time": "2024-11-26T23:38:59.742Z"
   },
   {
    "duration": 67,
    "start_time": "2024-11-26T23:39:21.928Z"
   },
   {
    "duration": 56,
    "start_time": "2024-11-26T23:39:34.976Z"
   },
   {
    "duration": 57,
    "start_time": "2024-11-26T23:39:38.043Z"
   },
   {
    "duration": 60,
    "start_time": "2024-11-26T23:39:44.991Z"
   },
   {
    "duration": 59,
    "start_time": "2024-11-26T23:39:52.921Z"
   },
   {
    "duration": 8071,
    "start_time": "2024-11-26T23:40:07.994Z"
   },
   {
    "duration": 1695,
    "start_time": "2024-11-26T23:40:16.068Z"
   },
   {
    "duration": 4,
    "start_time": "2024-11-26T23:40:17.765Z"
   },
   {
    "duration": 12,
    "start_time": "2024-11-26T23:40:17.770Z"
   },
   {
    "duration": 167,
    "start_time": "2024-11-26T23:40:17.784Z"
   },
   {
    "duration": 138,
    "start_time": "2024-11-26T23:40:17.952Z"
   },
   {
    "duration": 141,
    "start_time": "2024-11-26T23:40:18.092Z"
   },
   {
    "duration": 66,
    "start_time": "2024-11-26T23:40:18.235Z"
   },
   {
    "duration": 19,
    "start_time": "2024-11-26T23:40:18.317Z"
   },
   {
    "duration": 1553,
    "start_time": "2024-11-26T23:40:18.337Z"
   },
   {
    "duration": 68,
    "start_time": "2024-11-26T23:40:19.892Z"
   },
   {
    "duration": 19,
    "start_time": "2024-11-26T23:40:19.961Z"
   },
   {
    "duration": 1563,
    "start_time": "2024-11-26T23:40:19.982Z"
   },
   {
    "duration": 77,
    "start_time": "2024-11-26T23:40:21.548Z"
   },
   {
    "duration": 18,
    "start_time": "2024-11-26T23:40:21.627Z"
   },
   {
    "duration": 1591,
    "start_time": "2024-11-26T23:40:21.647Z"
   },
   {
    "duration": 20908,
    "start_time": "2024-11-26T23:40:23.239Z"
   },
   {
    "duration": 5,
    "start_time": "2024-11-26T23:40:44.149Z"
   },
   {
    "duration": 63,
    "start_time": "2024-11-26T23:40:44.155Z"
   },
   {
    "duration": 2,
    "start_time": "2024-11-26T23:40:44.220Z"
   },
   {
    "duration": 3780,
    "start_time": "2024-11-26T23:40:44.224Z"
   },
   {
    "duration": 3813,
    "start_time": "2024-11-26T23:40:48.006Z"
   },
   {
    "duration": 4367,
    "start_time": "2024-11-26T23:40:51.821Z"
   },
   {
    "duration": 1199,
    "start_time": "2024-11-26T23:40:56.189Z"
   },
   {
    "duration": 107,
    "start_time": "2024-11-26T23:40:57.390Z"
   },
   {
    "duration": 3,
    "start_time": "2024-11-26T23:40:57.498Z"
   },
   {
    "duration": 15,
    "start_time": "2024-11-26T23:40:57.502Z"
   },
   {
    "duration": 78,
    "start_time": "2024-11-26T23:44:44.079Z"
   },
   {
    "duration": 71,
    "start_time": "2024-11-26T23:45:04.995Z"
   },
   {
    "duration": 119,
    "start_time": "2024-11-26T23:55:42.041Z"
   },
   {
    "duration": 15,
    "start_time": "2024-11-26T23:56:22.598Z"
   },
   {
    "duration": 11,
    "start_time": "2024-11-26T23:56:38.791Z"
   },
   {
    "duration": 3,
    "start_time": "2024-11-26T23:57:04.388Z"
   },
   {
    "duration": 12,
    "start_time": "2024-11-26T23:57:09.605Z"
   },
   {
    "duration": 4,
    "start_time": "2024-11-26T23:57:36.077Z"
   },
   {
    "duration": 4,
    "start_time": "2024-11-26T23:58:48.984Z"
   },
   {
    "duration": 3,
    "start_time": "2024-11-27T00:00:28.551Z"
   },
   {
    "duration": 63,
    "start_time": "2024-11-27T00:02:24.834Z"
   },
   {
    "duration": 232774,
    "start_time": "2024-11-27T00:02:44.769Z"
   },
   {
    "duration": 0,
    "start_time": "2024-11-27T00:06:37.545Z"
   },
   {
    "duration": 0,
    "start_time": "2024-11-27T00:06:37.546Z"
   },
   {
    "duration": 4,
    "start_time": "2024-11-27T00:06:43.972Z"
   },
   {
    "duration": 63316,
    "start_time": "2024-11-27T00:06:45.403Z"
   },
   {
    "duration": 8051,
    "start_time": "2024-11-27T00:09:12.506Z"
   },
   {
    "duration": 1742,
    "start_time": "2024-11-27T00:09:20.559Z"
   },
   {
    "duration": 3,
    "start_time": "2024-11-27T00:09:22.305Z"
   },
   {
    "duration": 12,
    "start_time": "2024-11-27T00:09:22.310Z"
   },
   {
    "duration": 167,
    "start_time": "2024-11-27T00:09:22.323Z"
   },
   {
    "duration": 134,
    "start_time": "2024-11-27T00:09:22.492Z"
   },
   {
    "duration": 135,
    "start_time": "2024-11-27T00:09:22.628Z"
   },
   {
    "duration": 71,
    "start_time": "2024-11-27T00:09:22.765Z"
   },
   {
    "duration": 18,
    "start_time": "2024-11-27T00:09:22.837Z"
   },
   {
    "duration": 1652,
    "start_time": "2024-11-27T00:09:22.857Z"
   },
   {
    "duration": 61,
    "start_time": "2024-11-27T00:09:24.511Z"
   },
   {
    "duration": 18,
    "start_time": "2024-11-27T00:09:24.574Z"
   },
   {
    "duration": 1576,
    "start_time": "2024-11-27T00:09:24.595Z"
   },
   {
    "duration": 76,
    "start_time": "2024-11-27T00:09:26.173Z"
   },
   {
    "duration": 15,
    "start_time": "2024-11-27T00:09:26.251Z"
   },
   {
    "duration": 1621,
    "start_time": "2024-11-27T00:09:26.268Z"
   },
   {
    "duration": 21037,
    "start_time": "2024-11-27T00:09:27.891Z"
   },
   {
    "duration": 5,
    "start_time": "2024-11-27T00:09:48.930Z"
   },
   {
    "duration": 56,
    "start_time": "2024-11-27T00:09:48.936Z"
   },
   {
    "duration": 3,
    "start_time": "2024-11-27T00:09:48.994Z"
   },
   {
    "duration": 3814,
    "start_time": "2024-11-27T00:09:48.998Z"
   },
   {
    "duration": 3982,
    "start_time": "2024-11-27T00:09:52.814Z"
   },
   {
    "duration": 4122,
    "start_time": "2024-11-27T00:09:56.798Z"
   },
   {
    "duration": 1206,
    "start_time": "2024-11-27T00:10:00.921Z"
   },
   {
    "duration": 103,
    "start_time": "2024-11-27T00:10:02.128Z"
   },
   {
    "duration": 2,
    "start_time": "2024-11-27T00:10:02.233Z"
   },
   {
    "duration": 19,
    "start_time": "2024-11-27T00:10:02.237Z"
   },
   {
    "duration": 43,
    "start_time": "2024-11-27T00:10:02.258Z"
   },
   {
    "duration": 23,
    "start_time": "2024-11-27T00:10:02.303Z"
   },
   {
    "duration": 300742,
    "start_time": "2024-11-27T00:10:02.327Z"
   },
   {
    "duration": 0,
    "start_time": "2024-11-27T00:15:03.072Z"
   },
   {
    "duration": 258857,
    "start_time": "2024-11-27T00:17:01.783Z"
   },
   {
    "duration": 0,
    "start_time": "2024-11-27T00:21:20.642Z"
   },
   {
    "duration": 4,
    "start_time": "2024-11-27T00:21:55.553Z"
   },
   {
    "duration": 10,
    "start_time": "2024-11-27T00:22:17.968Z"
   },
   {
    "duration": 14,
    "start_time": "2024-11-27T00:22:33.694Z"
   },
   {
    "duration": 10,
    "start_time": "2024-11-27T00:23:59.910Z"
   },
   {
    "duration": 149363,
    "start_time": "2024-11-27T00:24:15.389Z"
   },
   {
    "duration": 20,
    "start_time": "2024-11-27T00:26:44.753Z"
   },
   {
    "duration": 14,
    "start_time": "2024-11-27T00:30:19.164Z"
   },
   {
    "duration": 0,
    "start_time": "2024-11-27T00:30:19.180Z"
   },
   {
    "duration": 73630,
    "start_time": "2024-11-27T00:31:45.228Z"
   },
   {
    "duration": 58,
    "start_time": "2024-11-27T00:32:58.860Z"
   },
   {
    "duration": 11,
    "start_time": "2024-11-27T00:48:02.642Z"
   },
   {
    "duration": 10,
    "start_time": "2024-11-27T00:48:13.652Z"
   },
   {
    "duration": 25,
    "start_time": "2024-11-27T01:30:02.900Z"
   },
   {
    "duration": 73,
    "start_time": "2024-11-27T01:33:36.473Z"
   },
   {
    "duration": 2091,
    "start_time": "2024-11-27T01:33:40.951Z"
   },
   {
    "duration": 20,
    "start_time": "2024-11-27T01:40:02.396Z"
   },
   {
    "duration": 19,
    "start_time": "2024-11-27T01:40:03.100Z"
   },
   {
    "duration": 19,
    "start_time": "2024-11-27T01:40:03.482Z"
   },
   {
    "duration": 12,
    "start_time": "2024-11-27T01:48:44.086Z"
   },
   {
    "duration": 10,
    "start_time": "2024-11-27T01:49:43.123Z"
   },
   {
    "duration": 15,
    "start_time": "2024-11-27T01:49:50.471Z"
   },
   {
    "duration": 4,
    "start_time": "2024-11-27T01:50:13.229Z"
   },
   {
    "duration": 4,
    "start_time": "2024-11-27T01:50:20.894Z"
   },
   {
    "duration": 92,
    "start_time": "2024-11-27T01:52:02.264Z"
   },
   {
    "duration": 60,
    "start_time": "2024-11-27T01:52:09.928Z"
   },
   {
    "duration": 55017,
    "start_time": "2024-11-27T01:52:28.603Z"
   },
   {
    "duration": 58114,
    "start_time": "2024-11-27T01:53:59.709Z"
   },
   {
    "duration": 19999,
    "start_time": "2024-11-28T16:55:42.003Z"
   },
   {
    "duration": 2073,
    "start_time": "2024-11-28T16:56:02.005Z"
   },
   {
    "duration": 4,
    "start_time": "2024-11-28T16:56:04.080Z"
   },
   {
    "duration": 22,
    "start_time": "2024-11-28T16:56:04.086Z"
   },
   {
    "duration": 683,
    "start_time": "2024-11-28T16:56:04.110Z"
   },
   {
    "duration": 593,
    "start_time": "2024-11-28T16:56:04.794Z"
   },
   {
    "duration": 581,
    "start_time": "2024-11-28T16:56:05.389Z"
   },
   {
    "duration": 77,
    "start_time": "2024-11-28T16:56:05.971Z"
   },
   {
    "duration": 22,
    "start_time": "2024-11-28T16:56:06.049Z"
   },
   {
    "duration": 1742,
    "start_time": "2024-11-28T16:56:06.074Z"
   },
   {
    "duration": 80,
    "start_time": "2024-11-28T16:56:07.818Z"
   },
   {
    "duration": 23,
    "start_time": "2024-11-28T16:56:07.900Z"
   },
   {
    "duration": 1728,
    "start_time": "2024-11-28T16:56:07.925Z"
   },
   {
    "duration": 71,
    "start_time": "2024-11-28T16:56:09.654Z"
   },
   {
    "duration": 40,
    "start_time": "2024-11-28T16:56:09.727Z"
   },
   {
    "duration": 1704,
    "start_time": "2024-11-28T16:56:09.769Z"
   },
   {
    "duration": 22238,
    "start_time": "2024-11-28T16:56:11.475Z"
   },
   {
    "duration": 5,
    "start_time": "2024-11-28T16:56:33.715Z"
   },
   {
    "duration": 76,
    "start_time": "2024-11-28T16:56:33.722Z"
   },
   {
    "duration": 3,
    "start_time": "2024-11-28T16:56:33.800Z"
   },
   {
    "duration": 4099,
    "start_time": "2024-11-28T16:56:33.805Z"
   },
   {
    "duration": 3830,
    "start_time": "2024-11-28T16:56:37.906Z"
   },
   {
    "duration": 4496,
    "start_time": "2024-11-28T16:56:41.738Z"
   },
   {
    "duration": 2068,
    "start_time": "2024-11-28T16:56:46.236Z"
   },
   {
    "duration": 18,
    "start_time": "2024-11-28T16:56:48.305Z"
   },
   {
    "duration": 37,
    "start_time": "2024-11-28T16:56:48.325Z"
   },
   {
    "duration": 23,
    "start_time": "2024-11-28T16:56:48.363Z"
   },
   {
    "duration": 3,
    "start_time": "2024-11-28T16:56:48.389Z"
   },
   {
    "duration": 4,
    "start_time": "2024-11-28T16:56:48.393Z"
   },
   {
    "duration": 9,
    "start_time": "2024-11-28T16:56:48.398Z"
   },
   {
    "duration": 6,
    "start_time": "2024-11-28T16:56:48.409Z"
   },
   {
    "duration": 62772,
    "start_time": "2024-11-28T16:56:48.416Z"
   },
   {
    "duration": 0,
    "start_time": "2024-11-28T16:57:51.190Z"
   },
   {
    "duration": 180034,
    "start_time": "2024-11-28T16:58:06.825Z"
   },
   {
    "duration": 673,
    "start_time": "2024-11-28T17:02:21.732Z"
   },
   {
    "duration": 3190,
    "start_time": "2024-11-28T17:03:34.114Z"
   },
   {
    "duration": 756,
    "start_time": "2024-11-28T17:03:44.516Z"
   },
   {
    "duration": 3408,
    "start_time": "2024-11-28T17:03:56.391Z"
   },
   {
    "duration": 3517,
    "start_time": "2024-11-28T17:03:59.801Z"
   },
   {
    "duration": 84,
    "start_time": "2024-11-28T17:08:08.470Z"
   },
   {
    "duration": 70,
    "start_time": "2024-11-28T17:08:23.684Z"
   },
   {
    "duration": 97,
    "start_time": "2024-11-28T17:08:44.957Z"
   },
   {
    "duration": 62,
    "start_time": "2024-11-28T17:10:12.092Z"
   },
   {
    "duration": 4,
    "start_time": "2024-11-28T17:10:13.659Z"
   },
   {
    "duration": 20,
    "start_time": "2024-11-28T17:10:15.854Z"
   },
   {
    "duration": 20,
    "start_time": "2024-11-28T17:10:16.644Z"
   },
   {
    "duration": 5,
    "start_time": "2024-11-28T17:15:47.185Z"
   },
   {
    "duration": 6,
    "start_time": "2024-11-28T17:16:03.964Z"
   },
   {
    "duration": 5,
    "start_time": "2024-11-28T17:16:28.207Z"
   },
   {
    "duration": 4,
    "start_time": "2024-11-28T17:16:35.550Z"
   },
   {
    "duration": 5,
    "start_time": "2024-11-28T17:16:38.133Z"
   },
   {
    "duration": 4,
    "start_time": "2024-11-28T17:16:46.017Z"
   },
   {
    "duration": 4,
    "start_time": "2024-11-28T17:16:51.188Z"
   },
   {
    "duration": 4,
    "start_time": "2024-11-28T17:16:54.663Z"
   },
   {
    "duration": 3,
    "start_time": "2024-11-28T17:20:04.492Z"
   },
   {
    "duration": 63,
    "start_time": "2024-11-28T17:20:41.844Z"
   },
   {
    "duration": 69,
    "start_time": "2024-11-28T17:20:42.204Z"
   },
   {
    "duration": 24,
    "start_time": "2024-11-28T17:21:20.547Z"
   },
   {
    "duration": 24,
    "start_time": "2024-11-28T17:21:21.816Z"
   },
   {
    "duration": 25,
    "start_time": "2024-11-28T17:21:22.270Z"
   },
   {
    "duration": 11,
    "start_time": "2024-11-28T17:24:27.055Z"
   },
   {
    "duration": 1144,
    "start_time": "2024-11-28T17:24:42.383Z"
   },
   {
    "duration": 100,
    "start_time": "2024-11-28T17:24:56.554Z"
   },
   {
    "duration": 6,
    "start_time": "2024-11-28T17:25:01.601Z"
   },
   {
    "duration": 68,
    "start_time": "2024-11-28T17:26:07.563Z"
   },
   {
    "duration": 61,
    "start_time": "2024-11-28T17:26:26.389Z"
   },
   {
    "duration": 6,
    "start_time": "2024-11-28T17:26:56.343Z"
   },
   {
    "duration": 988,
    "start_time": "2024-11-28T17:27:24.236Z"
   },
   {
    "duration": 75,
    "start_time": "2024-11-28T17:27:28.279Z"
   },
   {
    "duration": 7,
    "start_time": "2024-11-28T17:27:28.993Z"
   },
   {
    "duration": 31,
    "start_time": "2024-11-28T17:27:44.322Z"
   },
   {
    "duration": 7,
    "start_time": "2024-11-28T17:28:03.738Z"
   },
   {
    "duration": 7,
    "start_time": "2024-11-28T17:28:17.370Z"
   },
   {
    "duration": 6,
    "start_time": "2024-11-28T17:28:42.319Z"
   },
   {
    "duration": 51,
    "start_time": "2024-11-28T17:28:42.903Z"
   },
   {
    "duration": 6,
    "start_time": "2024-11-28T17:28:43.274Z"
   },
   {
    "duration": 19,
    "start_time": "2024-11-28T17:28:43.541Z"
   },
   {
    "duration": 7,
    "start_time": "2024-11-28T17:28:43.757Z"
   },
   {
    "duration": 8489,
    "start_time": "2024-11-28T17:43:36.285Z"
   },
   {
    "duration": 1840,
    "start_time": "2024-11-28T17:43:44.776Z"
   },
   {
    "duration": 3,
    "start_time": "2024-11-28T17:43:46.618Z"
   },
   {
    "duration": 18,
    "start_time": "2024-11-28T17:43:46.623Z"
   },
   {
    "duration": 4,
    "start_time": "2024-11-28T17:43:46.643Z"
   },
   {
    "duration": 176,
    "start_time": "2024-11-28T17:43:46.648Z"
   },
   {
    "duration": 148,
    "start_time": "2024-11-28T17:43:46.825Z"
   },
   {
    "duration": 146,
    "start_time": "2024-11-28T17:43:46.975Z"
   },
   {
    "duration": 74,
    "start_time": "2024-11-28T17:43:47.122Z"
   },
   {
    "duration": 20,
    "start_time": "2024-11-28T17:43:47.197Z"
   },
   {
    "duration": 1747,
    "start_time": "2024-11-28T17:43:47.218Z"
   },
   {
    "duration": 66,
    "start_time": "2024-11-28T17:43:48.967Z"
   },
   {
    "duration": 36,
    "start_time": "2024-11-28T17:43:49.035Z"
   },
   {
    "duration": 1683,
    "start_time": "2024-11-28T17:43:49.074Z"
   },
   {
    "duration": 67,
    "start_time": "2024-11-28T17:43:50.758Z"
   },
   {
    "duration": 39,
    "start_time": "2024-11-28T17:43:50.827Z"
   },
   {
    "duration": 1730,
    "start_time": "2024-11-28T17:43:50.868Z"
   },
   {
    "duration": 22186,
    "start_time": "2024-11-28T17:43:52.599Z"
   },
   {
    "duration": 5,
    "start_time": "2024-11-28T17:44:14.786Z"
   },
   {
    "duration": 70,
    "start_time": "2024-11-28T17:44:14.793Z"
   },
   {
    "duration": 2,
    "start_time": "2024-11-28T17:44:14.865Z"
   },
   {
    "duration": 3138,
    "start_time": "2024-11-28T17:44:14.869Z"
   },
   {
    "duration": 3307,
    "start_time": "2024-11-28T17:44:18.009Z"
   },
   {
    "duration": 3592,
    "start_time": "2024-11-28T17:44:21.318Z"
   },
   {
    "duration": 2199,
    "start_time": "2024-11-28T17:44:24.911Z"
   },
   {
    "duration": 17,
    "start_time": "2024-11-28T17:44:27.112Z"
   },
   {
    "duration": 33,
    "start_time": "2024-11-28T17:44:27.131Z"
   },
   {
    "duration": 22,
    "start_time": "2024-11-28T17:44:27.166Z"
   },
   {
    "duration": 3,
    "start_time": "2024-11-28T17:44:27.190Z"
   },
   {
    "duration": 4,
    "start_time": "2024-11-28T17:44:27.194Z"
   },
   {
    "duration": 5,
    "start_time": "2024-11-28T17:44:27.200Z"
   },
   {
    "duration": 64,
    "start_time": "2024-11-28T17:44:27.207Z"
   },
   {
    "duration": 0,
    "start_time": "2024-11-28T17:44:27.272Z"
   },
   {
    "duration": 0,
    "start_time": "2024-11-28T17:44:27.273Z"
   },
   {
    "duration": 0,
    "start_time": "2024-11-28T17:44:27.274Z"
   },
   {
    "duration": 0,
    "start_time": "2024-11-28T17:44:27.275Z"
   },
   {
    "duration": 0,
    "start_time": "2024-11-28T17:44:27.277Z"
   },
   {
    "duration": 0,
    "start_time": "2024-11-28T17:44:27.277Z"
   },
   {
    "duration": 1,
    "start_time": "2024-11-28T17:44:27.278Z"
   },
   {
    "duration": 3,
    "start_time": "2024-11-28T17:48:19.350Z"
   },
   {
    "duration": 220547,
    "start_time": "2024-11-28T17:48:19.513Z"
   },
   {
    "duration": 201,
    "start_time": "2024-11-28T17:52:00.152Z"
   },
   {
    "duration": 9,
    "start_time": "2024-11-28T17:52:00.356Z"
   },
   {
    "duration": 102,
    "start_time": "2024-11-28T17:52:00.453Z"
   },
   {
    "duration": 99,
    "start_time": "2024-11-28T17:52:00.557Z"
   },
   {
    "duration": 97,
    "start_time": "2024-11-28T17:52:00.657Z"
   },
   {
    "duration": 100,
    "start_time": "2024-11-28T17:52:00.756Z"
   },
   {
    "duration": 8,
    "start_time": "2024-11-28T18:15:31.443Z"
   },
   {
    "duration": 4,
    "start_time": "2024-11-28T18:20:26.727Z"
   },
   {
    "duration": 12,
    "start_time": "2024-11-28T18:23:06.891Z"
   },
   {
    "duration": 5,
    "start_time": "2024-11-28T18:24:05.022Z"
   },
   {
    "duration": 164,
    "start_time": "2024-11-28T18:24:10.073Z"
   },
   {
    "duration": 161,
    "start_time": "2024-11-28T18:24:19.813Z"
   },
   {
    "duration": 11,
    "start_time": "2024-11-28T18:24:24.828Z"
   },
   {
    "duration": 13,
    "start_time": "2024-11-28T18:25:44.987Z"
   },
   {
    "duration": 23,
    "start_time": "2024-11-28T18:26:19.828Z"
   },
   {
    "duration": 155,
    "start_time": "2024-11-28T18:26:28.146Z"
   },
   {
    "duration": 144,
    "start_time": "2024-11-28T18:26:28.520Z"
   },
   {
    "duration": 145,
    "start_time": "2024-11-28T18:26:28.973Z"
   },
   {
    "duration": 11,
    "start_time": "2024-11-28T18:26:34.727Z"
   },
   {
    "duration": 10,
    "start_time": "2024-11-28T18:26:35.155Z"
   },
   {
    "duration": 21,
    "start_time": "2024-11-28T18:26:35.559Z"
   },
   {
    "duration": 15,
    "start_time": "2024-11-28T18:27:04.134Z"
   },
   {
    "duration": 14,
    "start_time": "2024-11-28T18:27:39.528Z"
   },
   {
    "duration": 159,
    "start_time": "2024-11-28T18:27:47.236Z"
   },
   {
    "duration": 17,
    "start_time": "2024-11-28T18:27:52.263Z"
   },
   {
    "duration": 159,
    "start_time": "2024-11-28T18:29:30.870Z"
   },
   {
    "duration": 143,
    "start_time": "2024-11-28T18:29:31.242Z"
   },
   {
    "duration": 148,
    "start_time": "2024-11-28T18:29:31.715Z"
   },
   {
    "duration": 57,
    "start_time": "2024-11-28T18:29:36.896Z"
   },
   {
    "duration": 53,
    "start_time": "2024-11-28T18:30:09.492Z"
   },
   {
    "duration": 46,
    "start_time": "2024-11-28T18:30:11.674Z"
   },
   {
    "duration": 153,
    "start_time": "2024-11-28T18:30:40.930Z"
   },
   {
    "duration": 140,
    "start_time": "2024-11-28T18:30:41.145Z"
   },
   {
    "duration": 145,
    "start_time": "2024-11-28T18:30:41.330Z"
   },
   {
    "duration": 62,
    "start_time": "2024-11-28T18:30:41.509Z"
   },
   {
    "duration": 64,
    "start_time": "2024-11-28T18:30:45.777Z"
   },
   {
    "duration": 42,
    "start_time": "2024-11-28T18:30:45.997Z"
   },
   {
    "duration": 41,
    "start_time": "2024-11-28T18:30:46.245Z"
   },
   {
    "duration": 28,
    "start_time": "2024-11-28T18:32:46.692Z"
   },
   {
    "duration": 8484,
    "start_time": "2024-11-28T18:32:56.536Z"
   },
   {
    "duration": 1836,
    "start_time": "2024-11-28T18:33:05.023Z"
   },
   {
    "duration": 3,
    "start_time": "2024-11-28T18:33:06.861Z"
   },
   {
    "duration": 43,
    "start_time": "2024-11-28T18:33:06.865Z"
   },
   {
    "duration": 28,
    "start_time": "2024-11-28T18:33:06.910Z"
   },
   {
    "duration": 18,
    "start_time": "2024-11-28T18:33:06.939Z"
   },
   {
    "duration": 190,
    "start_time": "2024-11-28T18:33:06.958Z"
   },
   {
    "duration": 147,
    "start_time": "2024-11-28T18:33:07.150Z"
   },
   {
    "duration": 149,
    "start_time": "2024-11-28T18:33:07.299Z"
   },
   {
    "duration": 74,
    "start_time": "2024-11-28T18:33:07.450Z"
   },
   {
    "duration": 34,
    "start_time": "2024-11-28T18:33:07.526Z"
   },
   {
    "duration": 1696,
    "start_time": "2024-11-28T18:33:07.562Z"
   },
   {
    "duration": 68,
    "start_time": "2024-11-28T18:33:09.259Z"
   },
   {
    "duration": 41,
    "start_time": "2024-11-28T18:33:09.330Z"
   },
   {
    "duration": 1607,
    "start_time": "2024-11-28T18:33:09.373Z"
   },
   {
    "duration": 82,
    "start_time": "2024-11-28T18:33:10.982Z"
   },
   {
    "duration": 18,
    "start_time": "2024-11-28T18:33:11.066Z"
   },
   {
    "duration": 1639,
    "start_time": "2024-11-28T18:33:11.085Z"
   },
   {
    "duration": 22264,
    "start_time": "2024-11-28T18:33:12.726Z"
   },
   {
    "duration": 5,
    "start_time": "2024-11-28T18:33:34.992Z"
   },
   {
    "duration": 75,
    "start_time": "2024-11-28T18:33:34.999Z"
   },
   {
    "duration": 3,
    "start_time": "2024-11-28T18:33:35.075Z"
   },
   {
    "duration": 3425,
    "start_time": "2024-11-28T18:33:35.080Z"
   },
   {
    "duration": 3394,
    "start_time": "2024-11-28T18:33:38.506Z"
   },
   {
    "duration": 3395,
    "start_time": "2024-11-28T18:33:41.902Z"
   },
   {
    "duration": 68,
    "start_time": "2024-11-28T18:33:45.299Z"
   },
   {
    "duration": 57,
    "start_time": "2024-11-28T18:33:45.368Z"
   },
   {
    "duration": 71,
    "start_time": "2024-11-28T18:33:45.427Z"
   },
   {
    "duration": 2088,
    "start_time": "2024-11-28T18:33:45.500Z"
   },
   {
    "duration": 6,
    "start_time": "2024-11-28T18:33:47.590Z"
   },
   {
    "duration": 24,
    "start_time": "2024-11-28T18:33:47.598Z"
   },
   {
    "duration": 30,
    "start_time": "2024-11-28T18:33:47.624Z"
   },
   {
    "duration": 21,
    "start_time": "2024-11-28T18:33:47.656Z"
   },
   {
    "duration": 3,
    "start_time": "2024-11-28T18:33:47.679Z"
   },
   {
    "duration": 11,
    "start_time": "2024-11-28T18:33:47.683Z"
   },
   {
    "duration": 28,
    "start_time": "2024-11-28T18:33:47.695Z"
   },
   {
    "duration": 10,
    "start_time": "2024-11-28T18:33:47.725Z"
   },
   {
    "duration": 114893,
    "start_time": "2024-11-28T18:33:47.737Z"
   },
   {
    "duration": 0,
    "start_time": "2024-11-28T18:35:42.632Z"
   },
   {
    "duration": 0,
    "start_time": "2024-11-28T18:35:42.633Z"
   },
   {
    "duration": 0,
    "start_time": "2024-11-28T18:35:42.634Z"
   },
   {
    "duration": 0,
    "start_time": "2024-11-28T18:35:42.635Z"
   },
   {
    "duration": 0,
    "start_time": "2024-11-28T18:35:42.636Z"
   },
   {
    "duration": 0,
    "start_time": "2024-11-28T18:35:42.653Z"
   },
   {
    "duration": 8427,
    "start_time": "2024-11-28T18:46:47.596Z"
   },
   {
    "duration": 1900,
    "start_time": "2024-11-28T18:46:56.025Z"
   },
   {
    "duration": 3,
    "start_time": "2024-11-28T18:46:57.928Z"
   },
   {
    "duration": 11,
    "start_time": "2024-11-28T18:46:57.933Z"
   },
   {
    "duration": 69,
    "start_time": "2024-11-28T18:46:57.946Z"
   },
   {
    "duration": 8,
    "start_time": "2024-11-28T18:46:58.017Z"
   },
   {
    "duration": 188,
    "start_time": "2024-11-28T18:46:58.026Z"
   },
   {
    "duration": 145,
    "start_time": "2024-11-28T18:46:58.215Z"
   },
   {
    "duration": 147,
    "start_time": "2024-11-28T18:46:58.362Z"
   },
   {
    "duration": 77,
    "start_time": "2024-11-28T18:46:58.513Z"
   },
   {
    "duration": 22,
    "start_time": "2024-11-28T18:46:58.592Z"
   },
   {
    "duration": 1705,
    "start_time": "2024-11-28T18:46:58.616Z"
   },
   {
    "duration": 78,
    "start_time": "2024-11-28T18:47:00.323Z"
   },
   {
    "duration": 23,
    "start_time": "2024-11-28T18:47:00.403Z"
   },
   {
    "duration": 1730,
    "start_time": "2024-11-28T18:47:00.427Z"
   },
   {
    "duration": 70,
    "start_time": "2024-11-28T18:47:02.158Z"
   },
   {
    "duration": 38,
    "start_time": "2024-11-28T18:47:02.229Z"
   },
   {
    "duration": 1841,
    "start_time": "2024-11-28T18:47:02.269Z"
   },
   {
    "duration": 22395,
    "start_time": "2024-11-28T18:47:04.112Z"
   },
   {
    "duration": 6,
    "start_time": "2024-11-28T18:47:26.508Z"
   },
   {
    "duration": 65,
    "start_time": "2024-11-28T18:47:26.515Z"
   },
   {
    "duration": 2,
    "start_time": "2024-11-28T18:47:26.582Z"
   },
   {
    "duration": 3204,
    "start_time": "2024-11-28T18:47:26.586Z"
   },
   {
    "duration": 3314,
    "start_time": "2024-11-28T18:47:29.792Z"
   },
   {
    "duration": 3499,
    "start_time": "2024-11-28T18:47:33.108Z"
   },
   {
    "duration": 70,
    "start_time": "2024-11-28T18:47:36.608Z"
   },
   {
    "duration": 57,
    "start_time": "2024-11-28T18:47:36.679Z"
   },
   {
    "duration": 65,
    "start_time": "2024-11-28T18:47:36.739Z"
   },
   {
    "duration": 2194,
    "start_time": "2024-11-28T18:47:36.805Z"
   },
   {
    "duration": 7,
    "start_time": "2024-11-28T18:47:39.000Z"
   },
   {
    "duration": 27,
    "start_time": "2024-11-28T18:47:39.009Z"
   },
   {
    "duration": 28,
    "start_time": "2024-11-28T18:47:39.038Z"
   },
   {
    "duration": 22,
    "start_time": "2024-11-28T18:47:39.068Z"
   },
   {
    "duration": 4,
    "start_time": "2024-11-28T18:47:39.092Z"
   },
   {
    "duration": 139,
    "start_time": "2024-11-28T18:47:39.097Z"
   },
   {
    "duration": 0,
    "start_time": "2024-11-28T18:47:39.237Z"
   },
   {
    "duration": 0,
    "start_time": "2024-11-28T18:47:39.238Z"
   },
   {
    "duration": 0,
    "start_time": "2024-11-28T18:47:39.251Z"
   },
   {
    "duration": 0,
    "start_time": "2024-11-28T18:47:39.252Z"
   },
   {
    "duration": 0,
    "start_time": "2024-11-28T18:47:39.254Z"
   },
   {
    "duration": 0,
    "start_time": "2024-11-28T18:47:39.255Z"
   },
   {
    "duration": 0,
    "start_time": "2024-11-28T18:47:39.256Z"
   },
   {
    "duration": 0,
    "start_time": "2024-11-28T18:47:39.257Z"
   },
   {
    "duration": 4,
    "start_time": "2024-11-28T18:49:35.901Z"
   },
   {
    "duration": 3,
    "start_time": "2024-11-28T18:49:36.371Z"
   },
   {
    "duration": 4,
    "start_time": "2024-11-28T18:49:37.019Z"
   },
   {
    "duration": 8631,
    "start_time": "2024-11-28T18:51:49.958Z"
   },
   {
    "duration": 1799,
    "start_time": "2024-11-28T18:51:58.592Z"
   },
   {
    "duration": 3,
    "start_time": "2024-11-28T18:52:00.395Z"
   },
   {
    "duration": 35,
    "start_time": "2024-11-28T18:52:00.400Z"
   },
   {
    "duration": 6,
    "start_time": "2024-11-28T18:52:00.437Z"
   },
   {
    "duration": 10,
    "start_time": "2024-11-28T18:52:00.445Z"
   },
   {
    "duration": 183,
    "start_time": "2024-11-28T18:52:00.457Z"
   },
   {
    "duration": 146,
    "start_time": "2024-11-28T18:52:00.642Z"
   },
   {
    "duration": 152,
    "start_time": "2024-11-28T18:52:00.791Z"
   },
   {
    "duration": 71,
    "start_time": "2024-11-28T18:52:00.945Z"
   },
   {
    "duration": 39,
    "start_time": "2024-11-28T18:52:01.018Z"
   },
   {
    "duration": 1701,
    "start_time": "2024-11-28T18:52:01.059Z"
   },
   {
    "duration": 66,
    "start_time": "2024-11-28T18:52:02.762Z"
   },
   {
    "duration": 38,
    "start_time": "2024-11-28T18:52:02.829Z"
   },
   {
    "duration": 1784,
    "start_time": "2024-11-28T18:52:02.869Z"
   },
   {
    "duration": 71,
    "start_time": "2024-11-28T18:52:04.654Z"
   },
   {
    "duration": 38,
    "start_time": "2024-11-28T18:52:04.726Z"
   },
   {
    "duration": 1742,
    "start_time": "2024-11-28T18:52:04.766Z"
   },
   {
    "duration": 22034,
    "start_time": "2024-11-28T18:52:06.510Z"
   },
   {
    "duration": 9,
    "start_time": "2024-11-28T18:52:28.545Z"
   },
   {
    "duration": 56,
    "start_time": "2024-11-28T18:52:28.555Z"
   },
   {
    "duration": 2,
    "start_time": "2024-11-28T18:52:28.613Z"
   },
   {
    "duration": 3210,
    "start_time": "2024-11-28T18:52:28.616Z"
   },
   {
    "duration": 3477,
    "start_time": "2024-11-28T18:52:31.829Z"
   },
   {
    "duration": 3427,
    "start_time": "2024-11-28T18:52:35.307Z"
   },
   {
    "duration": 67,
    "start_time": "2024-11-28T18:52:38.736Z"
   },
   {
    "duration": 63,
    "start_time": "2024-11-28T18:52:38.806Z"
   },
   {
    "duration": 49,
    "start_time": "2024-11-28T18:52:38.871Z"
   },
   {
    "duration": 2155,
    "start_time": "2024-11-28T18:52:38.921Z"
   },
   {
    "duration": 6,
    "start_time": "2024-11-28T18:52:41.078Z"
   },
   {
    "duration": 22,
    "start_time": "2024-11-28T18:52:41.085Z"
   },
   {
    "duration": 18,
    "start_time": "2024-11-28T18:52:41.108Z"
   },
   {
    "duration": 39,
    "start_time": "2024-11-28T18:52:41.127Z"
   },
   {
    "duration": 3,
    "start_time": "2024-11-28T18:52:41.168Z"
   },
   {
    "duration": 23,
    "start_time": "2024-11-28T18:52:41.173Z"
   },
   {
    "duration": 22,
    "start_time": "2024-11-28T18:52:41.198Z"
   },
   {
    "duration": 209642,
    "start_time": "2024-11-28T18:52:41.221Z"
   },
   {
    "duration": 391,
    "start_time": "2024-11-28T18:56:10.865Z"
   },
   {
    "duration": 28,
    "start_time": "2024-11-28T18:57:53.828Z"
   },
   {
    "duration": 27835,
    "start_time": "2024-11-29T14:17:30.205Z"
   },
   {
    "duration": 1895,
    "start_time": "2024-11-29T14:17:58.042Z"
   },
   {
    "duration": 4,
    "start_time": "2024-11-29T14:17:59.939Z"
   },
   {
    "duration": 14,
    "start_time": "2024-11-29T14:17:59.945Z"
   },
   {
    "duration": 7,
    "start_time": "2024-11-29T14:17:59.961Z"
   },
   {
    "duration": 16,
    "start_time": "2024-11-29T14:17:59.970Z"
   },
   {
    "duration": 542,
    "start_time": "2024-11-29T14:17:59.987Z"
   },
   {
    "duration": 235,
    "start_time": "2024-11-29T14:18:00.531Z"
   },
   {
    "duration": 222,
    "start_time": "2024-11-29T14:18:00.768Z"
   },
   {
    "duration": 69,
    "start_time": "2024-11-29T14:18:00.993Z"
   },
   {
    "duration": 19,
    "start_time": "2024-11-29T14:18:01.063Z"
   },
   {
    "duration": 1547,
    "start_time": "2024-11-29T14:18:01.083Z"
   },
   {
    "duration": 65,
    "start_time": "2024-11-29T14:18:02.632Z"
   },
   {
    "duration": 18,
    "start_time": "2024-11-29T14:18:02.699Z"
   },
   {
    "duration": 1588,
    "start_time": "2024-11-29T14:18:02.718Z"
   },
   {
    "duration": 77,
    "start_time": "2024-11-29T14:18:04.308Z"
   },
   {
    "duration": 17,
    "start_time": "2024-11-29T14:18:04.386Z"
   },
   {
    "duration": 1531,
    "start_time": "2024-11-29T14:18:04.405Z"
   },
   {
    "duration": 20781,
    "start_time": "2024-11-29T14:18:05.937Z"
   },
   {
    "duration": 7,
    "start_time": "2024-11-29T14:18:26.720Z"
   },
   {
    "duration": 14,
    "start_time": "2024-11-29T14:18:26.729Z"
   },
   {
    "duration": 3364,
    "start_time": "2024-11-29T14:18:26.745Z"
   },
   {
    "duration": 3368,
    "start_time": "2024-11-29T14:18:30.111Z"
   },
   {
    "duration": 3430,
    "start_time": "2024-11-29T14:18:33.481Z"
   },
   {
    "duration": 76,
    "start_time": "2024-11-29T14:18:36.913Z"
   },
   {
    "duration": 91,
    "start_time": "2024-11-29T14:18:36.991Z"
   },
   {
    "duration": 62,
    "start_time": "2024-11-29T14:18:37.084Z"
   },
   {
    "duration": 2024,
    "start_time": "2024-11-29T14:18:37.149Z"
   },
   {
    "duration": 7,
    "start_time": "2024-11-29T14:18:39.175Z"
   },
   {
    "duration": 24,
    "start_time": "2024-11-29T14:18:39.184Z"
   },
   {
    "duration": 34,
    "start_time": "2024-11-29T14:18:39.209Z"
   },
   {
    "duration": 23,
    "start_time": "2024-11-29T14:18:39.244Z"
   },
   {
    "duration": 23,
    "start_time": "2024-11-29T14:18:39.268Z"
   },
   {
    "duration": 7,
    "start_time": "2024-11-29T14:18:39.293Z"
   },
   {
    "duration": 4,
    "start_time": "2024-11-29T14:18:39.301Z"
   },
   {
    "duration": 210545,
    "start_time": "2024-11-29T14:18:39.306Z"
   },
   {
    "duration": 299,
    "start_time": "2024-11-29T14:22:09.853Z"
   },
   {
    "duration": 6,
    "start_time": "2024-11-29T17:12:00.620Z"
   },
   {
    "duration": 3,
    "start_time": "2024-11-29T17:16:06.120Z"
   },
   {
    "duration": 4,
    "start_time": "2024-11-29T17:17:09.924Z"
   },
   {
    "duration": 98,
    "start_time": "2024-11-29T17:19:01.177Z"
   },
   {
    "duration": 91,
    "start_time": "2024-11-29T17:19:19.554Z"
   },
   {
    "duration": 97,
    "start_time": "2024-11-29T17:20:07.479Z"
   },
   {
    "duration": 3,
    "start_time": "2024-11-29T17:20:20.702Z"
   },
   {
    "duration": 3,
    "start_time": "2024-11-29T17:20:47.347Z"
   },
   {
    "duration": 3,
    "start_time": "2024-11-29T17:20:49.268Z"
   },
   {
    "duration": 3,
    "start_time": "2024-11-29T17:21:18.824Z"
   },
   {
    "duration": 3,
    "start_time": "2024-11-29T17:21:33.019Z"
   },
   {
    "duration": 5,
    "start_time": "2024-11-29T17:59:08.131Z"
   },
   {
    "duration": 18386,
    "start_time": "2024-11-30T09:25:12.590Z"
   },
   {
    "duration": 2030,
    "start_time": "2024-11-30T09:25:30.978Z"
   },
   {
    "duration": 3,
    "start_time": "2024-11-30T09:25:33.010Z"
   },
   {
    "duration": 61,
    "start_time": "2024-11-30T09:25:33.015Z"
   },
   {
    "duration": 7,
    "start_time": "2024-11-30T09:25:33.077Z"
   },
   {
    "duration": 6,
    "start_time": "2024-11-30T09:25:33.086Z"
   },
   {
    "duration": 558,
    "start_time": "2024-11-30T09:25:33.093Z"
   },
   {
    "duration": 239,
    "start_time": "2024-11-30T09:25:33.652Z"
   },
   {
    "duration": 219,
    "start_time": "2024-11-30T09:25:33.893Z"
   },
   {
    "duration": 62,
    "start_time": "2024-11-30T09:25:34.115Z"
   },
   {
    "duration": 18,
    "start_time": "2024-11-30T09:25:34.179Z"
   },
   {
    "duration": 1598,
    "start_time": "2024-11-30T09:25:34.198Z"
   },
   {
    "duration": 95,
    "start_time": "2024-11-30T09:25:35.798Z"
   },
   {
    "duration": 19,
    "start_time": "2024-11-30T09:25:35.895Z"
   },
   {
    "duration": 1658,
    "start_time": "2024-11-30T09:25:35.916Z"
   },
   {
    "duration": 66,
    "start_time": "2024-11-30T09:25:37.576Z"
   },
   {
    "duration": 36,
    "start_time": "2024-11-30T09:25:37.644Z"
   },
   {
    "duration": 1572,
    "start_time": "2024-11-30T09:25:37.682Z"
   },
   {
    "duration": 21656,
    "start_time": "2024-11-30T09:25:39.256Z"
   },
   {
    "duration": 7,
    "start_time": "2024-11-30T09:26:00.913Z"
   },
   {
    "duration": 42,
    "start_time": "2024-11-30T09:26:00.921Z"
   },
   {
    "duration": 3339,
    "start_time": "2024-11-30T09:26:00.965Z"
   },
   {
    "duration": 3319,
    "start_time": "2024-11-30T09:26:04.305Z"
   },
   {
    "duration": 3389,
    "start_time": "2024-11-30T09:26:07.626Z"
   },
   {
    "duration": 69,
    "start_time": "2024-11-30T09:26:11.016Z"
   },
   {
    "duration": 54,
    "start_time": "2024-11-30T09:26:11.086Z"
   },
   {
    "duration": 62,
    "start_time": "2024-11-30T09:26:11.142Z"
   },
   {
    "duration": 1990,
    "start_time": "2024-11-30T09:26:11.208Z"
   },
   {
    "duration": 10,
    "start_time": "2024-11-30T09:26:13.200Z"
   },
   {
    "duration": 26,
    "start_time": "2024-11-30T09:26:13.212Z"
   },
   {
    "duration": 35,
    "start_time": "2024-11-30T09:26:13.240Z"
   },
   {
    "duration": 22,
    "start_time": "2024-11-30T09:26:13.277Z"
   },
   {
    "duration": 4,
    "start_time": "2024-11-30T09:26:13.300Z"
   },
   {
    "duration": 4,
    "start_time": "2024-11-30T09:26:13.305Z"
   },
   {
    "duration": 6,
    "start_time": "2024-11-30T09:26:13.311Z"
   },
   {
    "duration": 212461,
    "start_time": "2024-11-30T09:26:13.319Z"
   },
   {
    "duration": 291,
    "start_time": "2024-11-30T09:29:45.782Z"
   },
   {
    "duration": 92,
    "start_time": "2024-11-30T09:29:46.075Z"
   },
   {
    "duration": 5,
    "start_time": "2024-11-30T09:29:46.170Z"
   },
   {
    "duration": 148,
    "start_time": "2024-11-30T09:29:46.265Z"
   },
   {
    "duration": 0,
    "start_time": "2024-11-30T09:29:46.419Z"
   },
   {
    "duration": 0,
    "start_time": "2024-11-30T09:29:46.420Z"
   },
   {
    "duration": 1,
    "start_time": "2024-11-30T09:29:46.421Z"
   },
   {
    "duration": 6,
    "start_time": "2024-11-30T09:47:06.574Z"
   },
   {
    "duration": 6,
    "start_time": "2024-11-30T10:13:34.031Z"
   },
   {
    "duration": 3,
    "start_time": "2024-11-30T10:17:21.832Z"
   },
   {
    "duration": 5,
    "start_time": "2024-11-30T10:17:22.612Z"
   },
   {
    "duration": 4,
    "start_time": "2024-11-30T10:17:24.023Z"
   },
   {
    "duration": 9,
    "start_time": "2024-11-30T10:17:25.849Z"
   },
   {
    "duration": 3,
    "start_time": "2024-11-30T10:17:26.028Z"
   },
   {
    "duration": 21,
    "start_time": "2024-11-30T10:20:38.260Z"
   },
   {
    "duration": 8,
    "start_time": "2024-11-30T10:21:33.316Z"
   },
   {
    "duration": 5,
    "start_time": "2024-11-30T10:23:23.951Z"
   },
   {
    "duration": 6,
    "start_time": "2024-11-30T10:23:31.880Z"
   },
   {
    "duration": 8,
    "start_time": "2024-11-30T10:24:32.261Z"
   },
   {
    "duration": 88,
    "start_time": "2024-11-30T10:27:27.449Z"
   },
   {
    "duration": 1371,
    "start_time": "2024-11-30T10:27:35.679Z"
   },
   {
    "duration": 1737,
    "start_time": "2024-11-30T10:29:33.048Z"
   },
   {
    "duration": 3,
    "start_time": "2024-11-30T10:29:52.876Z"
   },
   {
    "duration": 3,
    "start_time": "2024-11-30T10:29:54.951Z"
   },
   {
    "duration": 3,
    "start_time": "2024-11-30T10:29:56.289Z"
   },
   {
    "duration": 1546,
    "start_time": "2024-11-30T10:29:57.273Z"
   },
   {
    "duration": 0,
    "start_time": "2024-11-30T10:29:58.821Z"
   },
   {
    "duration": 8,
    "start_time": "2024-11-30T10:30:03.362Z"
   },
   {
    "duration": 12,
    "start_time": "2024-11-30T10:30:28.345Z"
   },
   {
    "duration": 10,
    "start_time": "2024-11-30T10:30:46.306Z"
   },
   {
    "duration": 11,
    "start_time": "2024-11-30T10:31:20.212Z"
   },
   {
    "duration": 7231,
    "start_time": "2024-11-30T10:32:49.480Z"
   },
   {
    "duration": 6,
    "start_time": "2024-11-30T10:35:45.051Z"
   },
   {
    "duration": 21357,
    "start_time": "2024-11-30T10:35:50.975Z"
   },
   {
    "duration": 8382,
    "start_time": "2024-11-30T10:38:39.775Z"
   },
   {
    "duration": 1901,
    "start_time": "2024-11-30T10:38:48.159Z"
   },
   {
    "duration": 4,
    "start_time": "2024-11-30T10:38:50.062Z"
   },
   {
    "duration": 14,
    "start_time": "2024-11-30T10:38:50.068Z"
   },
   {
    "duration": 6,
    "start_time": "2024-11-30T10:38:50.084Z"
   },
   {
    "duration": 7,
    "start_time": "2024-11-30T10:38:50.091Z"
   },
   {
    "duration": 6,
    "start_time": "2024-11-30T10:38:50.099Z"
   },
   {
    "duration": 7,
    "start_time": "2024-11-30T10:38:50.107Z"
   },
   {
    "duration": 172,
    "start_time": "2024-11-30T10:38:50.115Z"
   },
   {
    "duration": 142,
    "start_time": "2024-11-30T10:38:50.288Z"
   },
   {
    "duration": 146,
    "start_time": "2024-11-30T10:38:50.431Z"
   },
   {
    "duration": 65,
    "start_time": "2024-11-30T10:38:50.578Z"
   },
   {
    "duration": 39,
    "start_time": "2024-11-30T10:38:50.644Z"
   },
   {
    "duration": 1737,
    "start_time": "2024-11-30T10:38:50.687Z"
   },
   {
    "duration": 75,
    "start_time": "2024-11-30T10:38:52.426Z"
   },
   {
    "duration": 20,
    "start_time": "2024-11-30T10:38:52.503Z"
   },
   {
    "duration": 1633,
    "start_time": "2024-11-30T10:38:52.524Z"
   },
   {
    "duration": 74,
    "start_time": "2024-11-30T10:38:54.159Z"
   },
   {
    "duration": 31,
    "start_time": "2024-11-30T10:38:54.235Z"
   },
   {
    "duration": 1655,
    "start_time": "2024-11-30T10:38:54.268Z"
   },
   {
    "duration": 21961,
    "start_time": "2024-11-30T10:38:55.925Z"
   },
   {
    "duration": 6,
    "start_time": "2024-11-30T10:39:17.887Z"
   },
   {
    "duration": 4,
    "start_time": "2024-11-30T10:39:17.895Z"
   },
   {
    "duration": 3131,
    "start_time": "2024-11-30T10:39:17.900Z"
   },
   {
    "duration": 3279,
    "start_time": "2024-11-30T10:39:21.033Z"
   },
   {
    "duration": 3498,
    "start_time": "2024-11-30T10:39:24.314Z"
   },
   {
    "duration": 74,
    "start_time": "2024-11-30T10:39:27.814Z"
   },
   {
    "duration": 57,
    "start_time": "2024-11-30T10:39:27.890Z"
   },
   {
    "duration": 51,
    "start_time": "2024-11-30T10:39:27.965Z"
   },
   {
    "duration": 2180,
    "start_time": "2024-11-30T10:39:28.018Z"
   },
   {
    "duration": 8,
    "start_time": "2024-11-30T10:39:30.200Z"
   },
   {
    "duration": 48,
    "start_time": "2024-11-30T10:39:30.210Z"
   },
   {
    "duration": 70,
    "start_time": "2024-11-30T10:39:30.260Z"
   },
   {
    "duration": 24,
    "start_time": "2024-11-30T10:39:30.331Z"
   },
   {
    "duration": 23,
    "start_time": "2024-11-30T10:39:30.357Z"
   },
   {
    "duration": 12,
    "start_time": "2024-11-30T10:39:30.382Z"
   },
   {
    "duration": 28,
    "start_time": "2024-11-30T10:39:30.395Z"
   },
   {
    "duration": 208945,
    "start_time": "2024-11-30T10:39:30.426Z"
   },
   {
    "duration": 203,
    "start_time": "2024-11-30T10:42:59.374Z"
   },
   {
    "duration": 4,
    "start_time": "2024-11-30T10:42:59.667Z"
   },
   {
    "duration": 88,
    "start_time": "2024-11-30T10:42:59.679Z"
   },
   {
    "duration": 15,
    "start_time": "2024-11-30T10:42:59.769Z"
   },
   {
    "duration": 21731,
    "start_time": "2024-11-30T10:42:59.785Z"
   },
   {
    "duration": 4,
    "start_time": "2024-11-30T10:48:39.576Z"
   },
   {
    "duration": 129,
    "start_time": "2024-11-30T10:48:54.277Z"
   },
   {
    "duration": 9,
    "start_time": "2024-11-30T10:49:07.378Z"
   },
   {
    "duration": 18626,
    "start_time": "2024-11-30T10:49:13.902Z"
   },
   {
    "duration": 122,
    "start_time": "2024-11-30T10:56:59.266Z"
   },
   {
    "duration": 91,
    "start_time": "2024-11-30T10:57:12.529Z"
   },
   {
    "duration": 126,
    "start_time": "2024-11-30T10:57:35.694Z"
   },
   {
    "duration": 9,
    "start_time": "2024-11-30T10:57:42.563Z"
   },
   {
    "duration": 10,
    "start_time": "2024-11-30T10:58:28.938Z"
   },
   {
    "duration": 11,
    "start_time": "2024-11-30T10:58:39.744Z"
   },
   {
    "duration": 10,
    "start_time": "2024-11-30T10:58:43.323Z"
   },
   {
    "duration": 10,
    "start_time": "2024-11-30T10:58:59.219Z"
   },
   {
    "duration": 18295,
    "start_time": "2024-11-30T10:59:24.391Z"
   },
   {
    "duration": 6,
    "start_time": "2024-11-30T10:59:47.070Z"
   },
   {
    "duration": 18855,
    "start_time": "2024-11-30T11:00:01.174Z"
   },
   {
    "duration": 6,
    "start_time": "2024-11-30T11:12:09.632Z"
   },
   {
    "duration": 10,
    "start_time": "2024-11-30T11:12:16.512Z"
   },
   {
    "duration": 6542,
    "start_time": "2024-11-30T11:12:20.728Z"
   },
   {
    "duration": 6,
    "start_time": "2024-11-30T11:13:01.070Z"
   },
   {
    "duration": 6027,
    "start_time": "2024-11-30T11:13:12.700Z"
   },
   {
    "duration": 10,
    "start_time": "2024-11-30T11:14:25.171Z"
   },
   {
    "duration": 6505,
    "start_time": "2024-11-30T11:14:31.265Z"
   },
   {
    "duration": 113,
    "start_time": "2024-11-30T11:15:38.224Z"
   },
   {
    "duration": 119,
    "start_time": "2024-11-30T11:15:57.945Z"
   },
   {
    "duration": 7,
    "start_time": "2024-11-30T11:16:05.130Z"
   },
   {
    "duration": 6732,
    "start_time": "2024-11-30T11:16:12.129Z"
   },
   {
    "duration": 6,
    "start_time": "2024-11-30T11:17:57.272Z"
   },
   {
    "duration": 19407,
    "start_time": "2024-11-30T11:18:03.342Z"
   },
   {
    "duration": 6,
    "start_time": "2024-11-30T11:28:10.428Z"
   },
   {
    "duration": 12,
    "start_time": "2024-11-30T11:29:02.002Z"
   },
   {
    "duration": 12,
    "start_time": "2024-11-30T11:29:02.229Z"
   },
   {
    "duration": 3606,
    "start_time": "2024-11-30T11:29:32.753Z"
   },
   {
    "duration": 6,
    "start_time": "2024-11-30T11:33:22.341Z"
   },
   {
    "duration": 2,
    "start_time": "2024-11-30T11:33:24.636Z"
   },
   {
    "duration": 8334,
    "start_time": "2024-11-30T11:33:30.644Z"
   },
   {
    "duration": 1786,
    "start_time": "2024-11-30T11:33:38.980Z"
   },
   {
    "duration": 4,
    "start_time": "2024-11-30T11:33:40.768Z"
   },
   {
    "duration": 6,
    "start_time": "2024-11-30T11:33:40.774Z"
   },
   {
    "duration": 6,
    "start_time": "2024-11-30T11:33:40.782Z"
   },
   {
    "duration": 6,
    "start_time": "2024-11-30T11:33:40.789Z"
   },
   {
    "duration": 8,
    "start_time": "2024-11-30T11:33:40.796Z"
   },
   {
    "duration": 4,
    "start_time": "2024-11-30T11:33:40.805Z"
   },
   {
    "duration": 175,
    "start_time": "2024-11-30T11:33:40.810Z"
   },
   {
    "duration": 143,
    "start_time": "2024-11-30T11:33:40.988Z"
   },
   {
    "duration": 142,
    "start_time": "2024-11-30T11:33:41.133Z"
   },
   {
    "duration": 64,
    "start_time": "2024-11-30T11:33:41.277Z"
   },
   {
    "duration": 34,
    "start_time": "2024-11-30T11:33:41.343Z"
   },
   {
    "duration": 1609,
    "start_time": "2024-11-30T11:33:41.378Z"
   },
   {
    "duration": 79,
    "start_time": "2024-11-30T11:33:42.990Z"
   },
   {
    "duration": 17,
    "start_time": "2024-11-30T11:33:43.072Z"
   },
   {
    "duration": 1598,
    "start_time": "2024-11-30T11:33:43.091Z"
   },
   {
    "duration": 79,
    "start_time": "2024-11-30T11:33:44.691Z"
   },
   {
    "duration": 17,
    "start_time": "2024-11-30T11:33:44.773Z"
   },
   {
    "duration": 1644,
    "start_time": "2024-11-30T11:33:44.792Z"
   },
   {
    "duration": 21484,
    "start_time": "2024-11-30T11:33:46.438Z"
   },
   {
    "duration": 5,
    "start_time": "2024-11-30T11:34:07.924Z"
   },
   {
    "duration": 3,
    "start_time": "2024-11-30T11:34:07.930Z"
   },
   {
    "duration": 3176,
    "start_time": "2024-11-30T11:34:07.935Z"
   },
   {
    "duration": 3180,
    "start_time": "2024-11-30T11:34:11.112Z"
   },
   {
    "duration": 3424,
    "start_time": "2024-11-30T11:34:14.293Z"
   },
   {
    "duration": 81,
    "start_time": "2024-11-30T11:34:17.719Z"
   },
   {
    "duration": 80,
    "start_time": "2024-11-30T11:34:17.807Z"
   },
   {
    "duration": 50,
    "start_time": "2024-11-30T11:34:17.889Z"
   },
   {
    "duration": 2218,
    "start_time": "2024-11-30T11:34:17.941Z"
   },
   {
    "duration": 9,
    "start_time": "2024-11-30T11:34:20.160Z"
   },
   {
    "duration": 19,
    "start_time": "2024-11-30T11:34:20.172Z"
   },
   {
    "duration": 19,
    "start_time": "2024-11-30T11:34:20.192Z"
   },
   {
    "duration": 21,
    "start_time": "2024-11-30T11:34:20.213Z"
   },
   {
    "duration": 4,
    "start_time": "2024-11-30T11:34:20.236Z"
   },
   {
    "duration": 4,
    "start_time": "2024-11-30T11:34:20.265Z"
   },
   {
    "duration": 7,
    "start_time": "2024-11-30T11:34:20.270Z"
   },
   {
    "duration": 209887,
    "start_time": "2024-11-30T11:34:20.279Z"
   },
   {
    "duration": 115,
    "start_time": "2024-11-30T11:37:50.169Z"
   },
   {
    "duration": 4,
    "start_time": "2024-11-30T11:37:50.366Z"
   },
   {
    "duration": 3,
    "start_time": "2024-11-30T11:37:50.373Z"
   },
   {
    "duration": 101,
    "start_time": "2024-11-30T11:37:50.379Z"
   },
   {
    "duration": 3702,
    "start_time": "2024-11-30T11:37:50.482Z"
   },
   {
    "duration": 8238,
    "start_time": "2024-11-30T11:42:11.517Z"
   },
   {
    "duration": 1917,
    "start_time": "2024-11-30T11:42:19.757Z"
   },
   {
    "duration": 4,
    "start_time": "2024-11-30T11:42:21.675Z"
   },
   {
    "duration": 13,
    "start_time": "2024-11-30T11:42:21.681Z"
   },
   {
    "duration": 8,
    "start_time": "2024-11-30T11:42:21.695Z"
   },
   {
    "duration": 19,
    "start_time": "2024-11-30T11:42:21.704Z"
   },
   {
    "duration": 22,
    "start_time": "2024-11-30T11:42:21.725Z"
   },
   {
    "duration": 11,
    "start_time": "2024-11-30T11:42:21.749Z"
   },
   {
    "duration": 194,
    "start_time": "2024-11-30T11:42:21.761Z"
   },
   {
    "duration": 159,
    "start_time": "2024-11-30T11:42:21.957Z"
   },
   {
    "duration": 147,
    "start_time": "2024-11-30T11:42:22.118Z"
   },
   {
    "duration": 75,
    "start_time": "2024-11-30T11:42:22.267Z"
   },
   {
    "duration": 37,
    "start_time": "2024-11-30T11:42:22.345Z"
   },
   {
    "duration": 1618,
    "start_time": "2024-11-30T11:42:22.384Z"
   },
   {
    "duration": 73,
    "start_time": "2024-11-30T11:42:24.004Z"
   },
   {
    "duration": 21,
    "start_time": "2024-11-30T11:42:24.079Z"
   },
   {
    "duration": 1679,
    "start_time": "2024-11-30T11:42:24.102Z"
   },
   {
    "duration": 69,
    "start_time": "2024-11-30T11:42:25.783Z"
   },
   {
    "duration": 20,
    "start_time": "2024-11-30T11:42:25.866Z"
   },
   {
    "duration": 1657,
    "start_time": "2024-11-30T11:42:25.888Z"
   },
   {
    "duration": 21969,
    "start_time": "2024-11-30T11:42:27.546Z"
   },
   {
    "duration": 6,
    "start_time": "2024-11-30T11:42:49.517Z"
   },
   {
    "duration": 4,
    "start_time": "2024-11-30T11:42:49.524Z"
   },
   {
    "duration": 3370,
    "start_time": "2024-11-30T11:42:49.530Z"
   },
   {
    "duration": 3225,
    "start_time": "2024-11-30T11:42:52.901Z"
   },
   {
    "duration": 3285,
    "start_time": "2024-11-30T11:42:56.128Z"
   },
   {
    "duration": 78,
    "start_time": "2024-11-30T11:42:59.415Z"
   },
   {
    "duration": 71,
    "start_time": "2024-11-30T11:42:59.497Z"
   },
   {
    "duration": 79,
    "start_time": "2024-11-30T11:42:59.570Z"
   },
   {
    "duration": 2274,
    "start_time": "2024-11-30T11:42:59.665Z"
   },
   {
    "duration": 7,
    "start_time": "2024-11-30T11:43:01.941Z"
   },
   {
    "duration": 40,
    "start_time": "2024-11-30T11:43:01.950Z"
   },
   {
    "duration": 18,
    "start_time": "2024-11-30T11:43:01.992Z"
   },
   {
    "duration": 21,
    "start_time": "2024-11-30T11:43:02.012Z"
   },
   {
    "duration": 3,
    "start_time": "2024-11-30T11:43:02.035Z"
   },
   {
    "duration": 32,
    "start_time": "2024-11-30T11:43:02.040Z"
   },
   {
    "duration": 27,
    "start_time": "2024-11-30T11:43:02.074Z"
   },
   {
    "duration": 207564,
    "start_time": "2024-11-30T11:43:02.102Z"
   },
   {
    "duration": 299,
    "start_time": "2024-11-30T11:46:29.669Z"
   },
   {
    "duration": 5,
    "start_time": "2024-11-30T11:46:29.970Z"
   },
   {
    "duration": 92,
    "start_time": "2024-11-30T11:46:29.977Z"
   },
   {
    "duration": 25,
    "start_time": "2024-11-30T11:46:30.071Z"
   },
   {
    "duration": 3778,
    "start_time": "2024-11-30T11:46:30.098Z"
   },
   {
    "duration": 15,
    "start_time": "2024-12-01T06:28:24.225Z"
   },
   {
    "duration": 142,
    "start_time": "2024-12-01T11:59:18.836Z"
   },
   {
    "duration": 10,
    "start_time": "2024-12-01T13:43:23.999Z"
   },
   {
    "duration": 21628,
    "start_time": "2024-12-01T13:43:43.112Z"
   },
   {
    "duration": 2101,
    "start_time": "2024-12-01T13:44:04.743Z"
   },
   {
    "duration": 4,
    "start_time": "2024-12-01T13:44:06.846Z"
   },
   {
    "duration": 24,
    "start_time": "2024-12-01T13:44:06.852Z"
   },
   {
    "duration": 6,
    "start_time": "2024-12-01T13:44:06.878Z"
   },
   {
    "duration": 37,
    "start_time": "2024-12-01T13:44:06.887Z"
   },
   {
    "duration": 10,
    "start_time": "2024-12-01T13:44:06.926Z"
   },
   {
    "duration": 24,
    "start_time": "2024-12-01T13:44:06.938Z"
   },
   {
    "duration": 674,
    "start_time": "2024-12-01T13:44:06.964Z"
   },
   {
    "duration": 596,
    "start_time": "2024-12-01T13:44:07.641Z"
   },
   {
    "duration": 578,
    "start_time": "2024-12-01T13:44:08.239Z"
   },
   {
    "duration": 99,
    "start_time": "2024-12-01T13:44:08.820Z"
   },
   {
    "duration": 22,
    "start_time": "2024-12-01T13:44:08.920Z"
   },
   {
    "duration": 1799,
    "start_time": "2024-12-01T13:44:08.944Z"
   },
   {
    "duration": 91,
    "start_time": "2024-12-01T13:44:10.745Z"
   },
   {
    "duration": 34,
    "start_time": "2024-12-01T13:44:10.837Z"
   },
   {
    "duration": 1755,
    "start_time": "2024-12-01T13:44:10.873Z"
   },
   {
    "duration": 82,
    "start_time": "2024-12-01T13:44:12.630Z"
   },
   {
    "duration": 22,
    "start_time": "2024-12-01T13:44:12.713Z"
   },
   {
    "duration": 1756,
    "start_time": "2024-12-01T13:44:12.737Z"
   },
   {
    "duration": 23083,
    "start_time": "2024-12-01T13:44:14.495Z"
   },
   {
    "duration": 5,
    "start_time": "2024-12-01T13:44:37.580Z"
   },
   {
    "duration": 28,
    "start_time": "2024-12-01T13:44:37.587Z"
   },
   {
    "duration": 3516,
    "start_time": "2024-12-01T13:44:37.617Z"
   },
   {
    "duration": 3393,
    "start_time": "2024-12-01T13:44:41.135Z"
   },
   {
    "duration": 3779,
    "start_time": "2024-12-01T13:44:44.529Z"
   },
   {
    "duration": 83,
    "start_time": "2024-12-01T13:44:48.310Z"
   },
   {
    "duration": 107,
    "start_time": "2024-12-01T13:44:48.396Z"
   },
   {
    "duration": 70,
    "start_time": "2024-12-01T13:44:48.505Z"
   },
   {
    "duration": 2133,
    "start_time": "2024-12-01T13:44:48.576Z"
   },
   {
    "duration": 9,
    "start_time": "2024-12-01T13:44:50.711Z"
   },
   {
    "duration": 100,
    "start_time": "2024-12-01T13:44:50.722Z"
   },
   {
    "duration": 3,
    "start_time": "2024-12-01T13:44:50.823Z"
   },
   {
    "duration": 9,
    "start_time": "2024-12-01T13:44:50.828Z"
   },
   {
    "duration": 208325,
    "start_time": "2024-12-01T13:44:50.838Z"
   },
   {
    "duration": 291,
    "start_time": "2024-12-01T13:48:19.167Z"
   },
   {
    "duration": 0,
    "start_time": "2024-12-01T13:48:19.459Z"
   },
   {
    "duration": 0,
    "start_time": "2024-12-01T13:48:19.461Z"
   },
   {
    "duration": 0,
    "start_time": "2024-12-01T13:48:19.462Z"
   },
   {
    "duration": 0,
    "start_time": "2024-12-01T13:48:19.463Z"
   },
   {
    "duration": 79,
    "start_time": "2024-12-01T13:51:08.415Z"
   },
   {
    "duration": 75,
    "start_time": "2024-12-01T13:55:12.485Z"
   },
   {
    "duration": 11,
    "start_time": "2024-12-01T13:55:16.178Z"
   },
   {
    "duration": 13,
    "start_time": "2024-12-01T13:57:11.708Z"
   },
   {
    "duration": 12,
    "start_time": "2024-12-01T13:58:04.476Z"
   },
   {
    "duration": 75,
    "start_time": "2024-12-01T13:58:39.415Z"
   },
   {
    "duration": 12,
    "start_time": "2024-12-01T13:58:48.678Z"
   },
   {
    "duration": 92,
    "start_time": "2024-12-01T14:01:52.374Z"
   },
   {
    "duration": 32,
    "start_time": "2024-12-01T14:01:57.034Z"
   },
   {
    "duration": 8061,
    "start_time": "2024-12-01T14:02:11.848Z"
   },
   {
    "duration": 1640,
    "start_time": "2024-12-01T14:02:19.911Z"
   },
   {
    "duration": 4,
    "start_time": "2024-12-01T14:02:21.552Z"
   },
   {
    "duration": 35,
    "start_time": "2024-12-01T14:02:21.558Z"
   },
   {
    "duration": 20,
    "start_time": "2024-12-01T14:02:21.594Z"
   },
   {
    "duration": 29,
    "start_time": "2024-12-01T14:02:21.615Z"
   },
   {
    "duration": 50,
    "start_time": "2024-12-01T14:02:21.645Z"
   },
   {
    "duration": 13,
    "start_time": "2024-12-01T14:02:21.697Z"
   },
   {
    "duration": 185,
    "start_time": "2024-12-01T14:02:21.711Z"
   },
   {
    "duration": 139,
    "start_time": "2024-12-01T14:02:21.899Z"
   },
   {
    "duration": 150,
    "start_time": "2024-12-01T14:02:22.039Z"
   },
   {
    "duration": 80,
    "start_time": "2024-12-01T14:02:22.190Z"
   },
   {
    "duration": 19,
    "start_time": "2024-12-01T14:02:22.271Z"
   },
   {
    "duration": 1566,
    "start_time": "2024-12-01T14:02:22.291Z"
   },
   {
    "duration": 69,
    "start_time": "2024-12-01T14:02:23.861Z"
   },
   {
    "duration": 42,
    "start_time": "2024-12-01T14:02:23.932Z"
   },
   {
    "duration": 1611,
    "start_time": "2024-12-01T14:02:23.976Z"
   },
   {
    "duration": 77,
    "start_time": "2024-12-01T14:02:25.588Z"
   },
   {
    "duration": 20,
    "start_time": "2024-12-01T14:02:25.666Z"
   },
   {
    "duration": 1567,
    "start_time": "2024-12-01T14:02:25.688Z"
   },
   {
    "duration": 20524,
    "start_time": "2024-12-01T14:02:27.257Z"
   },
   {
    "duration": 5,
    "start_time": "2024-12-01T14:02:47.783Z"
   },
   {
    "duration": 15,
    "start_time": "2024-12-01T14:02:47.790Z"
   },
   {
    "duration": 3200,
    "start_time": "2024-12-01T14:02:47.807Z"
   },
   {
    "duration": 3180,
    "start_time": "2024-12-01T14:02:51.009Z"
   },
   {
    "duration": 3211,
    "start_time": "2024-12-01T14:02:54.190Z"
   },
   {
    "duration": 68,
    "start_time": "2024-12-01T14:02:57.402Z"
   },
   {
    "duration": 54,
    "start_time": "2024-12-01T14:02:57.474Z"
   },
   {
    "duration": 71,
    "start_time": "2024-12-01T14:02:57.530Z"
   },
   {
    "duration": 2042,
    "start_time": "2024-12-01T14:02:57.602Z"
   },
   {
    "duration": 7,
    "start_time": "2024-12-01T14:02:59.646Z"
   },
   {
    "duration": 72,
    "start_time": "2024-12-01T14:02:59.661Z"
   },
   {
    "duration": 3,
    "start_time": "2024-12-01T14:02:59.735Z"
   },
   {
    "duration": 20,
    "start_time": "2024-12-01T14:02:59.739Z"
   },
   {
    "duration": 1126,
    "start_time": "2024-12-01T14:02:59.761Z"
   },
   {
    "duration": 0,
    "start_time": "2024-12-01T14:03:00.889Z"
   },
   {
    "duration": 0,
    "start_time": "2024-12-01T14:03:00.890Z"
   },
   {
    "duration": 0,
    "start_time": "2024-12-01T14:03:00.891Z"
   },
   {
    "duration": 0,
    "start_time": "2024-12-01T14:03:00.892Z"
   },
   {
    "duration": 0,
    "start_time": "2024-12-01T14:03:00.893Z"
   },
   {
    "duration": 57,
    "start_time": "2024-12-01T14:06:14.950Z"
   },
   {
    "duration": 3,
    "start_time": "2024-12-01T14:06:18.996Z"
   },
   {
    "duration": 3,
    "start_time": "2024-12-01T14:06:20.364Z"
   },
   {
    "duration": 4,
    "start_time": "2024-12-01T14:06:20.720Z"
   },
   {
    "duration": 208165,
    "start_time": "2024-12-01T14:06:20.897Z"
   },
   {
    "duration": 97,
    "start_time": "2024-12-01T14:09:49.066Z"
   },
   {
    "duration": 77,
    "start_time": "2024-12-01T14:12:04.396Z"
   },
   {
    "duration": 68,
    "start_time": "2024-12-01T14:13:09.209Z"
   },
   {
    "duration": 66,
    "start_time": "2024-12-01T14:13:27.814Z"
   },
   {
    "duration": 176,
    "start_time": "2024-12-01T14:13:35.693Z"
   },
   {
    "duration": 112,
    "start_time": "2024-12-01T14:14:32.556Z"
   },
   {
    "duration": 188,
    "start_time": "2024-12-01T14:14:36.673Z"
   },
   {
    "duration": 3,
    "start_time": "2024-12-01T14:20:32.513Z"
   },
   {
    "duration": 3,
    "start_time": "2024-12-01T14:21:10.254Z"
   },
   {
    "duration": 4,
    "start_time": "2024-12-01T14:21:13.452Z"
   },
   {
    "duration": 12,
    "start_time": "2024-12-01T14:25:10.962Z"
   },
   {
    "duration": 3637,
    "start_time": "2024-12-01T14:25:11.226Z"
   },
   {
    "duration": 3,
    "start_time": "2024-12-01T14:26:52.556Z"
   },
   {
    "duration": 9,
    "start_time": "2024-12-01T14:26:57.868Z"
   },
   {
    "duration": 3629,
    "start_time": "2024-12-01T14:26:58.632Z"
   },
   {
    "duration": 7,
    "start_time": "2024-12-01T14:27:34.617Z"
   },
   {
    "duration": 3,
    "start_time": "2024-12-01T14:27:35.284Z"
   },
   {
    "duration": 155,
    "start_time": "2024-12-01T14:27:36.420Z"
   },
   {
    "duration": 144,
    "start_time": "2024-12-01T14:27:36.590Z"
   },
   {
    "duration": 141,
    "start_time": "2024-12-01T14:27:36.753Z"
   },
   {
    "duration": 68,
    "start_time": "2024-12-01T14:27:37.452Z"
   },
   {
    "duration": 20,
    "start_time": "2024-12-01T14:27:37.655Z"
   },
   {
    "duration": 1650,
    "start_time": "2024-12-01T14:27:37.950Z"
   },
   {
    "duration": 69,
    "start_time": "2024-12-01T14:27:39.602Z"
   },
   {
    "duration": 18,
    "start_time": "2024-12-01T14:27:39.673Z"
   },
   {
    "duration": 8290,
    "start_time": "2024-12-01T14:27:43.076Z"
   },
   {
    "duration": 1833,
    "start_time": "2024-12-01T14:27:51.369Z"
   },
   {
    "duration": 4,
    "start_time": "2024-12-01T14:27:53.204Z"
   },
   {
    "duration": 19,
    "start_time": "2024-12-01T14:27:53.210Z"
   },
   {
    "duration": 5,
    "start_time": "2024-12-01T14:27:53.231Z"
   },
   {
    "duration": 13,
    "start_time": "2024-12-01T14:27:53.238Z"
   },
   {
    "duration": 9,
    "start_time": "2024-12-01T14:27:53.252Z"
   },
   {
    "duration": 13,
    "start_time": "2024-12-01T14:27:53.263Z"
   },
   {
    "duration": 172,
    "start_time": "2024-12-01T14:27:53.277Z"
   },
   {
    "duration": 147,
    "start_time": "2024-12-01T14:27:53.452Z"
   },
   {
    "duration": 147,
    "start_time": "2024-12-01T14:27:53.600Z"
   },
   {
    "duration": 78,
    "start_time": "2024-12-01T14:27:53.749Z"
   },
   {
    "duration": 20,
    "start_time": "2024-12-01T14:27:53.829Z"
   },
   {
    "duration": 1623,
    "start_time": "2024-12-01T14:27:53.850Z"
   },
   {
    "duration": 64,
    "start_time": "2024-12-01T14:27:55.475Z"
   },
   {
    "duration": 41,
    "start_time": "2024-12-01T14:27:55.540Z"
   },
   {
    "duration": 1565,
    "start_time": "2024-12-01T14:27:55.582Z"
   },
   {
    "duration": 74,
    "start_time": "2024-12-01T14:27:57.149Z"
   },
   {
    "duration": 19,
    "start_time": "2024-12-01T14:27:57.224Z"
   },
   {
    "duration": 1566,
    "start_time": "2024-12-01T14:27:57.244Z"
   },
   {
    "duration": 22666,
    "start_time": "2024-12-01T14:27:58.812Z"
   },
   {
    "duration": 5,
    "start_time": "2024-12-01T14:28:21.480Z"
   },
   {
    "duration": 7,
    "start_time": "2024-12-01T14:28:21.487Z"
   },
   {
    "duration": 3119,
    "start_time": "2024-12-01T14:28:21.496Z"
   },
   {
    "duration": 3192,
    "start_time": "2024-12-01T14:28:24.617Z"
   },
   {
    "duration": 3428,
    "start_time": "2024-12-01T14:28:27.810Z"
   },
   {
    "duration": 78,
    "start_time": "2024-12-01T14:28:31.240Z"
   },
   {
    "duration": 69,
    "start_time": "2024-12-01T14:28:31.321Z"
   },
   {
    "duration": 70,
    "start_time": "2024-12-01T14:28:31.392Z"
   },
   {
    "duration": 8647,
    "start_time": "2024-12-01T14:28:33.071Z"
   },
   {
    "duration": 1758,
    "start_time": "2024-12-01T14:28:41.720Z"
   },
   {
    "duration": 3,
    "start_time": "2024-12-01T14:28:43.480Z"
   },
   {
    "duration": 4,
    "start_time": "2024-12-01T14:28:43.485Z"
   },
   {
    "duration": 11,
    "start_time": "2024-12-01T14:28:43.491Z"
   },
   {
    "duration": 12,
    "start_time": "2024-12-01T14:28:43.504Z"
   },
   {
    "duration": 6,
    "start_time": "2024-12-01T14:28:43.518Z"
   },
   {
    "duration": 6,
    "start_time": "2024-12-01T14:28:43.525Z"
   },
   {
    "duration": 177,
    "start_time": "2024-12-01T14:28:43.532Z"
   },
   {
    "duration": 140,
    "start_time": "2024-12-01T14:28:43.712Z"
   },
   {
    "duration": 145,
    "start_time": "2024-12-01T14:28:43.853Z"
   },
   {
    "duration": 76,
    "start_time": "2024-12-01T14:28:44.000Z"
   },
   {
    "duration": 20,
    "start_time": "2024-12-01T14:28:44.078Z"
   },
   {
    "duration": 1680,
    "start_time": "2024-12-01T14:28:44.099Z"
   },
   {
    "duration": 64,
    "start_time": "2024-12-01T14:28:45.781Z"
   },
   {
    "duration": 34,
    "start_time": "2024-12-01T14:28:45.847Z"
   },
   {
    "duration": 1602,
    "start_time": "2024-12-01T14:28:45.883Z"
   },
   {
    "duration": 77,
    "start_time": "2024-12-01T14:28:47.487Z"
   },
   {
    "duration": 19,
    "start_time": "2024-12-01T14:28:47.566Z"
   },
   {
    "duration": 1752,
    "start_time": "2024-12-01T14:28:47.587Z"
   },
   {
    "duration": 21157,
    "start_time": "2024-12-01T14:28:49.341Z"
   },
   {
    "duration": 6,
    "start_time": "2024-12-01T14:29:10.499Z"
   },
   {
    "duration": 33,
    "start_time": "2024-12-01T14:29:10.506Z"
   },
   {
    "duration": 3268,
    "start_time": "2024-12-01T14:29:10.540Z"
   },
   {
    "duration": 3348,
    "start_time": "2024-12-01T14:29:13.810Z"
   },
   {
    "duration": 3351,
    "start_time": "2024-12-01T14:29:17.160Z"
   },
   {
    "duration": 75,
    "start_time": "2024-12-01T14:29:20.513Z"
   },
   {
    "duration": 73,
    "start_time": "2024-12-01T14:29:20.591Z"
   },
   {
    "duration": 74,
    "start_time": "2024-12-01T14:29:20.667Z"
   },
   {
    "duration": 2255,
    "start_time": "2024-12-01T14:29:20.743Z"
   },
   {
    "duration": 7,
    "start_time": "2024-12-01T14:29:23.000Z"
   },
   {
    "duration": 59,
    "start_time": "2024-12-01T14:29:23.008Z"
   },
   {
    "duration": 3,
    "start_time": "2024-12-01T14:29:23.069Z"
   },
   {
    "duration": 3,
    "start_time": "2024-12-01T14:29:23.074Z"
   },
   {
    "duration": 17,
    "start_time": "2024-12-01T14:29:23.079Z"
   },
   {
    "duration": 215565,
    "start_time": "2024-12-01T14:29:23.098Z"
   },
   {
    "duration": 298,
    "start_time": "2024-12-01T14:32:58.665Z"
   },
   {
    "duration": 3,
    "start_time": "2024-12-01T14:32:58.966Z"
   },
   {
    "duration": 107,
    "start_time": "2024-12-01T14:32:58.971Z"
   },
   {
    "duration": 43,
    "start_time": "2024-12-01T14:32:59.079Z"
   },
   {
    "duration": 3648,
    "start_time": "2024-12-01T14:32:59.124Z"
   },
   {
    "duration": 16032,
    "start_time": "2024-12-02T10:37:35.127Z"
   },
   {
    "duration": 1802,
    "start_time": "2024-12-02T10:37:51.163Z"
   },
   {
    "duration": 4,
    "start_time": "2024-12-02T10:37:52.967Z"
   },
   {
    "duration": 20,
    "start_time": "2024-12-02T10:37:52.973Z"
   },
   {
    "duration": 15,
    "start_time": "2024-12-02T10:37:52.995Z"
   },
   {
    "duration": 14,
    "start_time": "2024-12-02T10:37:53.011Z"
   },
   {
    "duration": 29,
    "start_time": "2024-12-02T10:37:53.027Z"
   },
   {
    "duration": 12,
    "start_time": "2024-12-02T10:37:53.058Z"
   },
   {
    "duration": 646,
    "start_time": "2024-12-02T10:37:53.071Z"
   },
   {
    "duration": 606,
    "start_time": "2024-12-02T10:37:53.718Z"
   },
   {
    "duration": 559,
    "start_time": "2024-12-02T10:37:54.326Z"
   },
   {
    "duration": 70,
    "start_time": "2024-12-02T10:37:54.887Z"
   },
   {
    "duration": 29,
    "start_time": "2024-12-02T10:37:54.959Z"
   },
   {
    "duration": 577,
    "start_time": "2024-12-02T10:37:54.992Z"
   },
   {
    "duration": 0,
    "start_time": "2024-12-02T10:37:55.571Z"
   },
   {
    "duration": 0,
    "start_time": "2024-12-02T10:37:55.572Z"
   },
   {
    "duration": 0,
    "start_time": "2024-12-02T10:37:55.573Z"
   },
   {
    "duration": 0,
    "start_time": "2024-12-02T10:37:55.574Z"
   },
   {
    "duration": 0,
    "start_time": "2024-12-02T10:37:55.576Z"
   },
   {
    "duration": 0,
    "start_time": "2024-12-02T10:37:55.577Z"
   },
   {
    "duration": 0,
    "start_time": "2024-12-02T10:37:55.578Z"
   },
   {
    "duration": 0,
    "start_time": "2024-12-02T10:37:55.579Z"
   },
   {
    "duration": 0,
    "start_time": "2024-12-02T10:37:55.581Z"
   },
   {
    "duration": 0,
    "start_time": "2024-12-02T10:37:55.582Z"
   },
   {
    "duration": 0,
    "start_time": "2024-12-02T10:37:55.583Z"
   },
   {
    "duration": 0,
    "start_time": "2024-12-02T10:37:55.585Z"
   },
   {
    "duration": 0,
    "start_time": "2024-12-02T10:37:55.586Z"
   },
   {
    "duration": 0,
    "start_time": "2024-12-02T10:37:55.587Z"
   },
   {
    "duration": 0,
    "start_time": "2024-12-02T10:37:55.588Z"
   },
   {
    "duration": 0,
    "start_time": "2024-12-02T10:37:55.590Z"
   },
   {
    "duration": 0,
    "start_time": "2024-12-02T10:37:55.591Z"
   },
   {
    "duration": 0,
    "start_time": "2024-12-02T10:37:55.592Z"
   },
   {
    "duration": 0,
    "start_time": "2024-12-02T10:37:55.593Z"
   },
   {
    "duration": 0,
    "start_time": "2024-12-02T10:37:55.594Z"
   },
   {
    "duration": 0,
    "start_time": "2024-12-02T10:37:55.595Z"
   },
   {
    "duration": 0,
    "start_time": "2024-12-02T10:37:55.596Z"
   },
   {
    "duration": 0,
    "start_time": "2024-12-02T10:37:55.598Z"
   },
   {
    "duration": 0,
    "start_time": "2024-12-02T10:37:55.599Z"
   },
   {
    "duration": 0,
    "start_time": "2024-12-02T10:37:55.652Z"
   },
   {
    "duration": 0,
    "start_time": "2024-12-02T10:37:55.653Z"
   },
   {
    "duration": 0,
    "start_time": "2024-12-02T10:37:55.654Z"
   },
   {
    "duration": 14728,
    "start_time": "2024-12-02T10:38:20.443Z"
   },
   {
    "duration": 4,
    "start_time": "2024-12-02T10:38:35.174Z"
   },
   {
    "duration": 7,
    "start_time": "2024-12-02T10:38:35.180Z"
   },
   {
    "duration": 17,
    "start_time": "2024-12-02T10:38:35.189Z"
   },
   {
    "duration": 25,
    "start_time": "2024-12-02T10:38:35.209Z"
   },
   {
    "duration": 37,
    "start_time": "2024-12-02T10:38:35.237Z"
   },
   {
    "duration": 12,
    "start_time": "2024-12-02T10:38:35.276Z"
   },
   {
    "duration": 22,
    "start_time": "2024-12-02T10:38:35.289Z"
   },
   {
    "duration": 175,
    "start_time": "2024-12-02T10:38:35.312Z"
   },
   {
    "duration": 145,
    "start_time": "2024-12-02T10:38:35.488Z"
   },
   {
    "duration": 146,
    "start_time": "2024-12-02T10:38:35.635Z"
   },
   {
    "duration": 84,
    "start_time": "2024-12-02T10:38:35.783Z"
   },
   {
    "duration": 22,
    "start_time": "2024-12-02T10:38:35.869Z"
   },
   {
    "duration": 1668,
    "start_time": "2024-12-02T10:38:35.896Z"
   },
   {
    "duration": 66,
    "start_time": "2024-12-02T10:38:37.566Z"
   },
   {
    "duration": 35,
    "start_time": "2024-12-02T10:38:37.634Z"
   },
   {
    "duration": 1633,
    "start_time": "2024-12-02T10:38:37.670Z"
   },
   {
    "duration": 83,
    "start_time": "2024-12-02T10:38:39.304Z"
   },
   {
    "duration": 18,
    "start_time": "2024-12-02T10:38:39.389Z"
   },
   {
    "duration": 1638,
    "start_time": "2024-12-02T10:38:39.408Z"
   },
   {
    "duration": 22262,
    "start_time": "2024-12-02T10:38:41.048Z"
   },
   {
    "duration": 6,
    "start_time": "2024-12-02T10:39:03.312Z"
   },
   {
    "duration": 49,
    "start_time": "2024-12-02T10:39:03.319Z"
   },
   {
    "duration": 3057,
    "start_time": "2024-12-02T10:39:03.370Z"
   },
   {
    "duration": 2840,
    "start_time": "2024-12-02T10:39:06.429Z"
   },
   {
    "duration": 3170,
    "start_time": "2024-12-02T10:39:09.270Z"
   },
   {
    "duration": 78,
    "start_time": "2024-12-02T10:39:12.442Z"
   },
   {
    "duration": 78,
    "start_time": "2024-12-02T10:39:12.523Z"
   },
   {
    "duration": 68,
    "start_time": "2024-12-02T10:39:12.602Z"
   },
   {
    "duration": 2183,
    "start_time": "2024-12-02T10:39:12.672Z"
   },
   {
    "duration": 8,
    "start_time": "2024-12-02T10:39:14.857Z"
   },
   {
    "duration": 77,
    "start_time": "2024-12-02T10:39:14.866Z"
   },
   {
    "duration": 16,
    "start_time": "2024-12-02T10:39:14.945Z"
   },
   {
    "duration": 5,
    "start_time": "2024-12-02T10:39:14.963Z"
   },
   {
    "duration": 4,
    "start_time": "2024-12-02T10:39:14.969Z"
   },
   {
    "duration": 217394,
    "start_time": "2024-12-02T10:39:14.975Z"
   },
   {
    "duration": 202,
    "start_time": "2024-12-02T10:42:52.453Z"
   },
   {
    "duration": 6,
    "start_time": "2024-12-02T10:42:52.657Z"
   },
   {
    "duration": 95,
    "start_time": "2024-12-02T10:42:52.666Z"
   },
   {
    "duration": 37,
    "start_time": "2024-12-02T10:42:52.763Z"
   },
   {
    "duration": 4011,
    "start_time": "2024-12-02T10:42:52.804Z"
   },
   {
    "duration": 9179,
    "start_time": "2024-12-02T10:46:16.780Z"
   },
   {
    "duration": 5,
    "start_time": "2024-12-02T10:46:25.961Z"
   },
   {
    "duration": 39,
    "start_time": "2024-12-02T10:46:25.967Z"
   },
   {
    "duration": 19,
    "start_time": "2024-12-02T10:46:26.008Z"
   },
   {
    "duration": 10,
    "start_time": "2024-12-02T10:46:26.029Z"
   },
   {
    "duration": 13,
    "start_time": "2024-12-02T10:46:26.040Z"
   },
   {
    "duration": 20,
    "start_time": "2024-12-02T10:46:26.056Z"
   },
   {
    "duration": 19,
    "start_time": "2024-12-02T10:46:26.077Z"
   },
   {
    "duration": 181,
    "start_time": "2024-12-02T10:46:26.098Z"
   },
   {
    "duration": 151,
    "start_time": "2024-12-02T10:46:26.281Z"
   },
   {
    "duration": 152,
    "start_time": "2024-12-02T10:46:26.434Z"
   },
   {
    "duration": 93,
    "start_time": "2024-12-02T10:46:26.588Z"
   },
   {
    "duration": 25,
    "start_time": "2024-12-02T10:46:26.683Z"
   },
   {
    "duration": 1703,
    "start_time": "2024-12-02T10:46:26.711Z"
   },
   {
    "duration": 80,
    "start_time": "2024-12-02T10:46:28.416Z"
   },
   {
    "duration": 23,
    "start_time": "2024-12-02T10:46:28.498Z"
   },
   {
    "duration": 1658,
    "start_time": "2024-12-02T10:46:28.522Z"
   },
   {
    "duration": 91,
    "start_time": "2024-12-02T10:46:30.181Z"
   },
   {
    "duration": 23,
    "start_time": "2024-12-02T10:46:30.274Z"
   },
   {
    "duration": 1672,
    "start_time": "2024-12-02T10:46:30.298Z"
   },
   {
    "duration": 22630,
    "start_time": "2024-12-02T10:46:31.972Z"
   },
   {
    "duration": 5,
    "start_time": "2024-12-02T10:46:54.604Z"
   },
   {
    "duration": 48,
    "start_time": "2024-12-02T10:46:54.611Z"
   },
   {
    "duration": 2953,
    "start_time": "2024-12-02T10:46:54.661Z"
   },
   {
    "duration": 2995,
    "start_time": "2024-12-02T10:46:57.616Z"
   },
   {
    "duration": 3328,
    "start_time": "2024-12-02T10:47:00.613Z"
   },
   {
    "duration": 100,
    "start_time": "2024-12-02T10:47:03.944Z"
   },
   {
    "duration": 87,
    "start_time": "2024-12-02T10:47:04.046Z"
   },
   {
    "duration": 85,
    "start_time": "2024-12-02T10:47:04.135Z"
   },
   {
    "duration": 2115,
    "start_time": "2024-12-02T10:47:04.222Z"
   },
   {
    "duration": 14,
    "start_time": "2024-12-02T10:47:06.339Z"
   },
   {
    "duration": 123,
    "start_time": "2024-12-02T10:47:06.354Z"
   },
   {
    "duration": 4,
    "start_time": "2024-12-02T10:47:06.479Z"
   },
   {
    "duration": 45,
    "start_time": "2024-12-02T10:47:06.485Z"
   },
   {
    "duration": 38,
    "start_time": "2024-12-02T10:47:06.532Z"
   },
   {
    "duration": 214786,
    "start_time": "2024-12-02T10:47:06.572Z"
   },
   {
    "duration": 292,
    "start_time": "2024-12-02T10:50:41.361Z"
   },
   {
    "duration": 3,
    "start_time": "2024-12-02T10:50:41.656Z"
   },
   {
    "duration": 100,
    "start_time": "2024-12-02T10:50:41.661Z"
   },
   {
    "duration": 15,
    "start_time": "2024-12-02T10:50:41.763Z"
   },
   {
    "duration": 3902,
    "start_time": "2024-12-02T10:50:41.783Z"
   },
   {
    "duration": 21640,
    "start_time": "2024-12-02T18:20:04.732Z"
   },
   {
    "duration": 2141,
    "start_time": "2024-12-02T18:20:26.374Z"
   },
   {
    "duration": 16,
    "start_time": "2024-12-02T18:20:28.516Z"
   },
   {
    "duration": 9,
    "start_time": "2024-12-02T18:20:28.538Z"
   },
   {
    "duration": 20,
    "start_time": "2024-12-02T18:20:28.549Z"
   },
   {
    "duration": 8,
    "start_time": "2024-12-02T18:20:28.571Z"
   },
   {
    "duration": 8,
    "start_time": "2024-12-02T18:20:28.580Z"
   },
   {
    "duration": 10,
    "start_time": "2024-12-02T18:20:28.590Z"
   },
   {
    "duration": 618,
    "start_time": "2024-12-02T18:20:28.601Z"
   },
   {
    "duration": 247,
    "start_time": "2024-12-02T18:20:29.221Z"
   },
   {
    "duration": 268,
    "start_time": "2024-12-02T18:20:29.469Z"
   },
   {
    "duration": 103,
    "start_time": "2024-12-02T18:20:29.739Z"
   },
   {
    "duration": 31,
    "start_time": "2024-12-02T18:20:29.844Z"
   },
   {
    "duration": 1864,
    "start_time": "2024-12-02T18:20:29.877Z"
   },
   {
    "duration": 90,
    "start_time": "2024-12-02T18:20:31.744Z"
   },
   {
    "duration": 30,
    "start_time": "2024-12-02T18:20:31.836Z"
   },
   {
    "duration": 1909,
    "start_time": "2024-12-02T18:20:31.868Z"
   },
   {
    "duration": 96,
    "start_time": "2024-12-02T18:20:33.779Z"
   },
   {
    "duration": 28,
    "start_time": "2024-12-02T18:20:33.878Z"
   },
   {
    "duration": 1914,
    "start_time": "2024-12-02T18:20:33.922Z"
   },
   {
    "duration": 24085,
    "start_time": "2024-12-02T18:20:35.839Z"
   },
   {
    "duration": 10,
    "start_time": "2024-12-02T18:20:59.931Z"
   },
   {
    "duration": 25,
    "start_time": "2024-12-02T18:20:59.943Z"
   },
   {
    "duration": 3805,
    "start_time": "2024-12-02T18:20:59.970Z"
   },
   {
    "duration": 3916,
    "start_time": "2024-12-02T18:21:03.777Z"
   },
   {
    "duration": 3904,
    "start_time": "2024-12-02T18:21:07.695Z"
   },
   {
    "duration": 96,
    "start_time": "2024-12-02T18:21:11.600Z"
   },
   {
    "duration": 74,
    "start_time": "2024-12-02T18:21:11.700Z"
   },
   {
    "duration": 81,
    "start_time": "2024-12-02T18:21:11.776Z"
   },
   {
    "duration": 2258,
    "start_time": "2024-12-02T18:21:11.859Z"
   },
   {
    "duration": 57,
    "start_time": "2024-12-02T18:21:14.132Z"
   },
   {
    "duration": 4,
    "start_time": "2024-12-02T18:21:14.191Z"
   },
   {
    "duration": 16,
    "start_time": "2024-12-02T18:21:14.197Z"
   },
   {
    "duration": 10,
    "start_time": "2024-12-02T18:21:14.215Z"
   },
   {
    "duration": 240297,
    "start_time": "2024-12-02T18:21:14.227Z"
   },
   {
    "duration": 207,
    "start_time": "2024-12-02T18:25:14.526Z"
   },
   {
    "duration": 8,
    "start_time": "2024-12-02T18:25:14.735Z"
   },
   {
    "duration": 86,
    "start_time": "2024-12-02T18:25:14.748Z"
   },
   {
    "duration": 14,
    "start_time": "2024-12-02T18:25:14.837Z"
   },
   {
    "duration": 4050,
    "start_time": "2024-12-02T18:25:14.852Z"
   }
  ],
  "kernelspec": {
   "display_name": "Python 3 (ipykernel)",
   "language": "python",
   "name": "python3"
  },
  "language_info": {
   "codemirror_mode": {
    "name": "ipython",
    "version": 3
   },
   "file_extension": ".py",
   "mimetype": "text/x-python",
   "name": "python",
   "nbconvert_exporter": "python",
   "pygments_lexer": "ipython3",
   "version": "3.9.5"
  },
  "toc": {
   "base_numbering": 1,
   "nav_menu": {},
   "number_sections": true,
   "sideBar": true,
   "skip_h1_title": true,
   "title_cell": "Table of Contents",
   "title_sidebar": "Contents",
   "toc_cell": false,
   "toc_position": {
    "height": "calc(100% - 180px)",
    "left": "10px",
    "top": "150px",
    "width": "248px"
   },
   "toc_section_display": true,
   "toc_window_display": true
  }
 },
 "nbformat": 4,
 "nbformat_minor": 2
}
