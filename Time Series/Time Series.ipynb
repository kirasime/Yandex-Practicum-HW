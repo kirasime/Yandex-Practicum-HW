{
 "cells": [
  {
   "cell_type": "markdown",
   "metadata": {},
   "source": [
    "#  Прогнозирование заказов такси"
   ]
  },
  {
   "cell_type": "markdown",
   "metadata": {},
   "source": [
    "**Описание исследования:**\n",
    "\n",
    "Компания «Чётенькое такси» собрала данные о заказах такси в аэропортах. Цель исследования – построить модель для прогнозирования количества заказов такси на следующий час с использованием исторических данных.\n",
    "\n",
    "**Цель исследования:**\n",
    "\n",
    "Разработать модель для предсказания числа заказов такси на следующий час с помощью машинного обучения и оценить её точность по метрике RMSE.\n",
    "\n",
    "**Суть исследования:**\n",
    "\n",
    "Анализируем данные о заказах такси, ресемплируем их по одному часу, обучаем различные модели и оцениваем их производительность.\n",
    "\n",
    "**Задачи исследования:**\n",
    "\n",
    "1) Загрузить и подготовить данные.\n",
    "\n",
    "2) Проанализировать и очистить данные (поиск пропусков, аномалий и ошибок).\n",
    "\n",
    "3) Построить несколько моделей машинного обучения (LightGBM, DecisionTreeRegressor, CatBoost, RandomForestRegressor).\n",
    "\n",
    "4) Проверить точность моделей на тестовой выборке и выбрать лучшую модель для прогнозирования.\n",
    "\n",
    "**Исходные данные:**\n",
    "\n",
    "Данные находятся в файле taxi.csv. Основной столбец, интересующий нас, это num_orders (число заказов)."
   ]
  },
  {
   "cell_type": "markdown",
   "metadata": {},
   "source": [
    "<h1>Содержание<span class=\"tocSkip\"></span></h1>\n",
    "<div class=\"toc\"><ul class=\"toc-item\"><li><span><a href=\"#Подготовка\" data-toc-modified-id=\"Подготовка-1\"><span class=\"toc-item-num\">1&nbsp;&nbsp;</span>Подготовка</a></span></li><li><span><a href=\"#Анализ\" data-toc-modified-id=\"Анализ-2\"><span class=\"toc-item-num\">2&nbsp;&nbsp;</span>Анализ</a></span></li><li><span><a href=\"#Обучение\" data-toc-modified-id=\"Обучение-3\"><span class=\"toc-item-num\">3&nbsp;&nbsp;</span>Обучение</a></span><ul class=\"toc-item\"><li><span><a href=\"#LightGBM\" data-toc-modified-id=\"LightGBM-3.1\"><span class=\"toc-item-num\">3.1&nbsp;&nbsp;</span>LightGBM</a></span></li><li><span><a href=\"#DecisionTreeRegressor\" data-toc-modified-id=\"DecisionTreeRegressor-3.2\"><span class=\"toc-item-num\">3.2&nbsp;&nbsp;</span>DecisionTreeRegressor</a></span></li><li><span><a href=\"#CatBoost\" data-toc-modified-id=\"CatBoost-3.3\"><span class=\"toc-item-num\">3.3&nbsp;&nbsp;</span>CatBoost</a></span></li></ul></li><li><span><a href=\"#Тестирование\" data-toc-modified-id=\"Тестирование-4\"><span class=\"toc-item-num\">4&nbsp;&nbsp;</span>Тестирование</a></span></li></ul></div>"
   ]
  },
  {
   "cell_type": "markdown",
   "metadata": {},
   "source": [
    "<h1>Импорт библиотек, функций и констант<span class=\"tocSkip\"></span></h1>"
   ]
  },
  {
   "cell_type": "code",
   "execution_count": 1,
   "metadata": {},
   "outputs": [],
   "source": [
    "import pandas as pd\n",
    "import matplotlib.pyplot as plt\n",
    "import seaborn as sns\n",
    "import numpy as np\n",
    "\n",
    "from scipy import stats\n",
    "\n",
    "from sklearn.model_selection import RandomizedSearchCV\n",
    "from sklearn.model_selection import GridSearchCV\n",
    "from sklearn.model_selection import TimeSeriesSplit, train_test_split\n",
    "\n",
    "from sklearn.pipeline import Pipeline\n",
    "from sklearn.metrics import mean_squared_error\n",
    "from sklearn.preprocessing import StandardScaler\n",
    "from sklearn.impute import SimpleImputer\n",
    "\n",
    "from lightgbm import LGBMRegressor\n",
    "from sklearn.tree import DecisionTreeRegressor\n",
    "from catboost import CatBoostRegressor\n",
    "from sklearn.ensemble import RandomForestRegressor\n",
    "\n",
    "from statsmodels.tsa.seasonal import seasonal_decompose"
   ]
  },
  {
   "cell_type": "code",
   "execution_count": 2,
   "metadata": {},
   "outputs": [],
   "source": [
    "def liner(data, title, xlabel='X', ylabel='Y'):\n",
    "    \"\"\"\n",
    "    Строит линейный график с заданными данными и заголовком.\n",
    "\n",
    "    Параметры:\n",
    "    - data: Данные для построения графика (pandas Series или DataFrame)\n",
    "    - title: Заголовок графика\n",
    "    - xlabel: Метка для оси X (по умолчанию 'X')\n",
    "    - ylabel: Метка для оси Y (по умолчанию 'Y')\n",
    "    \"\"\"\n",
    "    sns.set(rc={'figure.figsize':(15,4)})\n",
    "    data.plot()\n",
    "    plt.title(title)\n",
    "    plt.xlabel(xlabel)\n",
    "    plt.ylabel(ylabel)\n",
    "    plt.grid(True)\n",
    "    plt.show()"
   ]
  },
  {
   "cell_type": "code",
   "execution_count": 3,
   "metadata": {},
   "outputs": [],
   "source": [
    "def make_features(data, max_lag, rolling_mean_size):\n",
    "    \"\"\"\n",
    "    Создаёт дополнительные признаки для временного ряда: лаги, день недели, день месяца и скользящее среднее.\n",
    "\n",
    "    Параметры:\n",
    "    - data: pd.DataFrame — Исходные данные с индексом в формате datetime\n",
    "    - max_lag: int — Максимальное количество лагов для добавления\n",
    "    - rolling_mean_size: int — Размер окна для вычисления скользящего среднего\n",
    "\n",
    "    Возвращает:\n",
    "    - pd.DataFrame — Данные с добавленными признаками.\n",
    "    \"\"\"\n",
    "    data['dayofweek'] = data.index.dayofweek\n",
    "    data['day'] = data.index.day\n",
    "    data['hour'] = data.index.hour\n",
    "\n",
    "    for lag in range(1, max_lag + 1):\n",
    "        data[f'lag_{lag}'] = data['num_orders'].shift(lag)\n",
    "\n",
    "    data['rolling_mean'] = data['num_orders'].shift().rolling(rolling_mean_size).mean()\n",
    "    \n",
    "    data.dropna(inplace=True)\n",
    "\n",
    "    return data"
   ]
  },
  {
   "cell_type": "code",
   "execution_count": 4,
   "metadata": {},
   "outputs": [],
   "source": [
    "def display_result(target, pred, rmse):\n",
    "    result = target[['datetime']].copy()\n",
    "    result['prediction'] = pred\n",
    "    result.set_index('datetime', inplace=True)\n",
    "    \n",
    "    print(f\"RMSE: {rmse}\")\n",
    "    \n",
    "    liner(result, 'RMSE=' + str(rmse))\n",
    "\n",
    "    return result"
   ]
  },
  {
   "cell_type": "code",
   "execution_count": 5,
   "metadata": {},
   "outputs": [],
   "source": [
    "RANDOM_STATE = 42\n",
    "tss_cv = TimeSeriesSplit(gap=0, max_train_size=1000, n_splits=3, test_size=1000)"
   ]
  },
  {
   "cell_type": "markdown",
   "metadata": {},
   "source": [
    "## Подготовка"
   ]
  },
  {
   "cell_type": "markdown",
   "metadata": {},
   "source": [
    "Читаем файл, назначив даты индексом"
   ]
  },
  {
   "cell_type": "code",
   "execution_count": 6,
   "metadata": {},
   "outputs": [],
   "source": [
    "data = pd.read_csv('/datasets/taxi.csv', index_col=[0], parse_dates=[0])\n",
    "\n",
    "data.sort_index(inplace=True)"
   ]
  },
  {
   "cell_type": "markdown",
   "metadata": {},
   "source": [
    "Посмотрим первые 5 сторк и общую информацию"
   ]
  },
  {
   "cell_type": "code",
   "execution_count": 7,
   "metadata": {},
   "outputs": [
    {
     "data": {
      "text/html": [
       "<div>\n",
       "<style scoped>\n",
       "    .dataframe tbody tr th:only-of-type {\n",
       "        vertical-align: middle;\n",
       "    }\n",
       "\n",
       "    .dataframe tbody tr th {\n",
       "        vertical-align: top;\n",
       "    }\n",
       "\n",
       "    .dataframe thead th {\n",
       "        text-align: right;\n",
       "    }\n",
       "</style>\n",
       "<table border=\"1\" class=\"dataframe\">\n",
       "  <thead>\n",
       "    <tr style=\"text-align: right;\">\n",
       "      <th></th>\n",
       "      <th>num_orders</th>\n",
       "    </tr>\n",
       "    <tr>\n",
       "      <th>datetime</th>\n",
       "      <th></th>\n",
       "    </tr>\n",
       "  </thead>\n",
       "  <tbody>\n",
       "    <tr>\n",
       "      <th>2018-03-01 00:00:00</th>\n",
       "      <td>9</td>\n",
       "    </tr>\n",
       "    <tr>\n",
       "      <th>2018-03-01 00:10:00</th>\n",
       "      <td>14</td>\n",
       "    </tr>\n",
       "    <tr>\n",
       "      <th>2018-03-01 00:20:00</th>\n",
       "      <td>28</td>\n",
       "    </tr>\n",
       "    <tr>\n",
       "      <th>2018-03-01 00:30:00</th>\n",
       "      <td>20</td>\n",
       "    </tr>\n",
       "    <tr>\n",
       "      <th>2018-03-01 00:40:00</th>\n",
       "      <td>32</td>\n",
       "    </tr>\n",
       "  </tbody>\n",
       "</table>\n",
       "</div>"
      ],
      "text/plain": [
       "                     num_orders\n",
       "datetime                       \n",
       "2018-03-01 00:00:00           9\n",
       "2018-03-01 00:10:00          14\n",
       "2018-03-01 00:20:00          28\n",
       "2018-03-01 00:30:00          20\n",
       "2018-03-01 00:40:00          32"
      ]
     },
     "execution_count": 7,
     "metadata": {},
     "output_type": "execute_result"
    }
   ],
   "source": [
    "data.head()"
   ]
  },
  {
   "cell_type": "code",
   "execution_count": 8,
   "metadata": {},
   "outputs": [
    {
     "name": "stdout",
     "output_type": "stream",
     "text": [
      "<class 'pandas.core.frame.DataFrame'>\n",
      "DatetimeIndex: 26496 entries, 2018-03-01 00:00:00 to 2018-08-31 23:50:00\n",
      "Data columns (total 1 columns):\n",
      " #   Column      Non-Null Count  Dtype\n",
      "---  ------      --------------  -----\n",
      " 0   num_orders  26496 non-null  int64\n",
      "dtypes: int64(1)\n",
      "memory usage: 414.0 KB\n"
     ]
    }
   ],
   "source": [
    "data.info()"
   ]
  },
  {
   "cell_type": "markdown",
   "metadata": {},
   "source": [
    "Проверим индексы на монотонность"
   ]
  },
  {
   "cell_type": "code",
   "execution_count": 9,
   "metadata": {},
   "outputs": [
    {
     "data": {
      "text/plain": [
       "True"
      ]
     },
     "execution_count": 9,
     "metadata": {},
     "output_type": "execute_result"
    }
   ],
   "source": [
    "data.index.is_monotonic"
   ]
  },
  {
   "cell_type": "markdown",
   "metadata": {},
   "source": [
    "Проверим фрейм на пропуски"
   ]
  },
  {
   "cell_type": "code",
   "execution_count": 10,
   "metadata": {},
   "outputs": [
    {
     "data": {
      "text/plain": [
       "num_orders    0\n",
       "dtype: int64"
      ]
     },
     "execution_count": 10,
     "metadata": {},
     "output_type": "execute_result"
    }
   ],
   "source": [
    "data.isna().sum()"
   ]
  },
  {
   "cell_type": "markdown",
   "metadata": {},
   "source": [
    "Ресемплируем данные по часу и по дню"
   ]
  },
  {
   "cell_type": "code",
   "execution_count": 11,
   "metadata": {},
   "outputs": [],
   "source": [
    "data_day = data.copy()\n",
    "\n",
    "data_day = data_day.resample('1D').sum()\n",
    "\n",
    "data = data.resample('1H').sum()"
   ]
  },
  {
   "cell_type": "markdown",
   "metadata": {},
   "source": [
    "## Анализ"
   ]
  },
  {
   "cell_type": "markdown",
   "metadata": {},
   "source": [
    "Разложим временной ряд на трендовую и сезонную компоненту, проанализируем каждую из них"
   ]
  },
  {
   "cell_type": "code",
   "execution_count": 12,
   "metadata": {},
   "outputs": [],
   "source": [
    "decomposed = seasonal_decompose(data)"
   ]
  },
  {
   "cell_type": "code",
   "execution_count": 13,
   "metadata": {},
   "outputs": [
    {
     "data": {
      "image/png": "[encoded data removed]",
      "text/plain": [
       "<Figure size 1080x288 with 1 Axes>"
      ]
     },
     "metadata": {},
     "output_type": "display_data"
    }
   ],
   "source": [
    "liner(decomposed.trend.rolling(24*7).mean(), 'Тренд', xlabel='Время', ylabel='Количество заказов')"
   ]
  },
  {
   "cell_type": "code",
   "execution_count": 14,
   "metadata": {},
   "outputs": [
    {
     "data": {
      "image/png": "[encoded data removed]",
      "text/plain": [
       "<Figure size 1080x288 with 1 Axes>"
      ]
     },
     "metadata": {},
     "output_type": "display_data"
    }
   ],
   "source": [
    "liner(decomposed.trend.head(24*7), 'Тренд за 7 дней', xlabel='Время', ylabel='Количество заказов')"
   ]
  },
  {
   "cell_type": "code",
   "execution_count": 15,
   "metadata": {},
   "outputs": [
    {
     "data": {
      "image/png": "[encoded data removed]",
      "text/plain": [
       "<Figure size 1080x288 with 1 Axes>"
      ]
     },
     "metadata": {},
     "output_type": "display_data"
    }
   ],
   "source": [
    "liner(decomposed.seasonal.head(24*7), 'Сезонность за 7 дней', xlabel='Время', ylabel='Количество заказов')"
   ]
  },
  {
   "cell_type": "code",
   "execution_count": 16,
   "metadata": {},
   "outputs": [
    {
     "data": {
      "image/png": "[encoded data removed]",
      "text/plain": [
       "<Figure size 1080x288 with 1 Axes>"
      ]
     },
     "metadata": {},
     "output_type": "display_data"
    }
   ],
   "source": [
    "liner(decomposed.resid, 'Шумы', xlabel='Время', ylabel='Количество заказов')"
   ]
  },
  {
   "cell_type": "markdown",
   "metadata": {},
   "source": [
    "Выводы:\n",
    "\n",
    "- Наблюдается общий тренд на увеличение количество заказов\n",
    "\n",
    "- Присутствует сезонность, а именно: c 00:00 наблюдается спад количества заказов примерно до 6 утра, после чего количество заказов начинает расти. Самый пик приходится с 22 до 23."
   ]
  },
  {
   "cell_type": "code",
   "execution_count": 17,
   "metadata": {},
   "outputs": [],
   "source": [
    "day_decomposed = seasonal_decompose(data_day)"
   ]
  },
  {
   "cell_type": "code",
   "execution_count": 18,
   "metadata": {},
   "outputs": [
    {
     "data": {
      "image/png": "[encoded data removed]",
      "text/plain": [
       "<Figure size 1080x288 with 1 Axes>"
      ]
     },
     "metadata": {},
     "output_type": "display_data"
    }
   ],
   "source": [
    "liner(day_decomposed.trend, 'Тренд', xlabel='Время', ylabel='Количество заказов')"
   ]
  },
  {
   "cell_type": "code",
   "execution_count": 19,
   "metadata": {},
   "outputs": [
    {
     "data": {
      "image/png": "[encoded data removed]",
      "text/plain": [
       "<Figure size 1080x288 with 1 Axes>"
      ]
     },
     "metadata": {},
     "output_type": "display_data"
    }
   ],
   "source": [
    "liner(day_decomposed.seasonal, 'Сезонность', xlabel='Время', ylabel='Количество заказов')"
   ]
  },
  {
   "cell_type": "code",
   "execution_count": 20,
   "metadata": {},
   "outputs": [
    {
     "data": {
      "image/png": "[encoded data removed]",
      "text/plain": [
       "<Figure size 1080x288 with 1 Axes>"
      ]
     },
     "metadata": {},
     "output_type": "display_data"
    }
   ],
   "source": [
    "liner(day_decomposed.resid, 'Шумы', xlabel='Время', ylabel='Количество заказов')"
   ]
  },
  {
   "cell_type": "markdown",
   "metadata": {},
   "source": [
    "## Обучение"
   ]
  },
  {
   "cell_type": "markdown",
   "metadata": {},
   "source": [
    "Создадим датафрейм с признаками для горизонта прогнозирования в один шаг"
   ]
  },
  {
   "cell_type": "code",
   "execution_count": 21,
   "metadata": {},
   "outputs": [],
   "source": [
    "data_features = data.copy()\n",
    "\n",
    "data_features = make_features(data_features, 7, 3)"
   ]
  },
  {
   "cell_type": "markdown",
   "metadata": {},
   "source": [
    "Проверим размерности исходного датафрейма и датафрейма с признаками"
   ]
  },
  {
   "cell_type": "code",
   "execution_count": 22,
   "metadata": {},
   "outputs": [
    {
     "data": {
      "text/plain": [
       "(4416, 1)"
      ]
     },
     "execution_count": 22,
     "metadata": {},
     "output_type": "execute_result"
    }
   ],
   "source": [
    "data.shape"
   ]
  },
  {
   "cell_type": "code",
   "execution_count": 23,
   "metadata": {},
   "outputs": [
    {
     "data": {
      "text/plain": [
       "(4409, 12)"
      ]
     },
     "execution_count": 23,
     "metadata": {},
     "output_type": "execute_result"
    }
   ],
   "source": [
    "data_features.shape"
   ]
  },
  {
   "cell_type": "markdown",
   "metadata": {},
   "source": [
    "Разделим данные на тренировочную и тестовые выборки"
   ]
  },
  {
   "cell_type": "code",
   "execution_count": 24,
   "metadata": {},
   "outputs": [],
   "source": [
    "train, test = train_test_split(data_features, shuffle=False, test_size=0.1)"
   ]
  },
  {
   "cell_type": "code",
   "execution_count": 25,
   "metadata": {},
   "outputs": [],
   "source": [
    "train_target = train['num_orders']\n",
    "train_features = train.drop('num_orders', axis=1)\n",
    "\n",
    "test_target = test['num_orders']\n",
    "test_features = test.drop('num_orders', axis=1)"
   ]
  },
  {
   "cell_type": "code",
   "execution_count": 26,
   "metadata": {},
   "outputs": [],
   "source": [
    "models = []\n",
    "rmse_cross = []"
   ]
  },
  {
   "cell_type": "markdown",
   "metadata": {},
   "source": [
    "### LightGBM"
   ]
  },
  {
   "cell_type": "code",
   "execution_count": 27,
   "metadata": {},
   "outputs": [],
   "source": [
    "train_features_lgb = train_features.copy()\n",
    "test_features_lgb = test_features.copy()"
   ]
  },
  {
   "cell_type": "code",
   "execution_count": 28,
   "metadata": {},
   "outputs": [],
   "source": [
    "pipeline = Pipeline(steps=[\n",
    "    ('preprocessor', Pipeline(steps=[\n",
    "        ('simpleImputer_num', SimpleImputer(strategy='median'))\n",
    "    ])),\n",
    "    ('lgbmr', LGBMRegressor(random_state=42, n_estimators=150))\n",
    "])\n",
    "\n",
    "param_grid = {\n",
    "    'lgbmr__num_leaves': [10, 20, 30],\n",
    "    'lgbmr__learning_rate': [0.01, 0.05],\n",
    "    'lgbmr__max_depth': [-1, 5, 10, 15]\n",
    "}"
   ]
  },
  {
   "cell_type": "code",
   "execution_count": 29,
   "metadata": {},
   "outputs": [
    {
     "name": "stdout",
     "output_type": "stream",
     "text": [
      "Замеряем RMSE на кросс-валидации: 27.40701938253634\n"
     ]
    }
   ],
   "source": [
    "clf = RandomizedSearchCV(pipeline,\n",
    "                                   param_distributions=param_grid,\n",
    "                                   n_iter=5,\n",
    "                                   cv=tss_cv, \n",
    "                                   scoring='neg_mean_squared_error',\n",
    "                                   random_state=RANDOM_STATE,\n",
    "                                   n_jobs=-1)\n",
    "\n",
    "clf.fit(train_features_lgb, train_target)\n",
    "\n",
    "rmse_lgbm_cv = (-clf.best_score_) ** 0.5\n",
    "print(\"Замеряем RMSE на кросс-валидации:\", rmse_lgbm_cv)\n",
    "\n",
    "model_lgbm = clf.best_estimator_\n",
    "\n",
    "models.append(model_lgbm)\n",
    "rmse_cross.append(rmse_lgbm_cv)"
   ]
  },
  {
   "cell_type": "markdown",
   "metadata": {},
   "source": [
    "### DecisionTreeRegressor"
   ]
  },
  {
   "cell_type": "code",
   "execution_count": 30,
   "metadata": {},
   "outputs": [],
   "source": [
    "pipeline = Pipeline(steps=[\n",
    "    ('preprocessor', Pipeline(steps=[\n",
    "        ('simpleImputer_num', SimpleImputer(strategy='median'))\n",
    "    ])),\n",
    "    ('DecisionTreeRegressor', DecisionTreeRegressor(random_state=42))\n",
    "])\n",
    "\n",
    "param_dist = {\n",
    "    'DecisionTreeRegressor__max_depth': range(2, 20),\n",
    "    'DecisionTreeRegressor__min_samples_split': range(2, 10),\n",
    "    'DecisionTreeRegressor__min_samples_leaf': range(1, 10)\n",
    "}"
   ]
  },
  {
   "cell_type": "code",
   "execution_count": 31,
   "metadata": {},
   "outputs": [
    {
     "name": "stdout",
     "output_type": "stream",
     "text": [
      "Замеряем RMSE на кросс-валидации: 29.374595018705225\n"
     ]
    }
   ],
   "source": [
    "random_search = RandomizedSearchCV(pipeline,\n",
    "                                   param_distributions=param_dist,\n",
    "                                   n_iter=5,\n",
    "                                   cv=tss_cv, \n",
    "                                   scoring='neg_mean_squared_error',\n",
    "                                   random_state=RANDOM_STATE,\n",
    "                                   n_jobs=-1\n",
    "                                  )\n",
    "\n",
    "random_search.fit(train_features, train_target)\n",
    "\n",
    "rmse_tree_cv = (-random_search.best_score_) ** 0.5\n",
    "print(\"Замеряем RMSE на кросс-валидации:\", rmse_tree_cv)\n",
    "\n",
    "model_tree =random_search.best_estimator_\n",
    "\n",
    "models.append(model_tree)\n",
    "rmse_cross.append(rmse_tree_cv)"
   ]
  },
  {
   "cell_type": "markdown",
   "metadata": {},
   "source": [
    "### CatBoost"
   ]
  },
  {
   "cell_type": "code",
   "execution_count": 32,
   "metadata": {},
   "outputs": [],
   "source": [
    "pipeline = Pipeline(steps=[\n",
    "    ('preprocessor', Pipeline(steps=[\n",
    "        ('simpleImputer_num', SimpleImputer(strategy='median'))\n",
    "    ])),\n",
    "    ('CatBoostRegressor', CatBoostRegressor(random_state=42, verbose=0))\n",
    "])\n",
    "\n",
    "param_dist = {\n",
    "    'CatBoostRegressor__depth': [3, 5, 7],\n",
    "    'CatBoostRegressor__learning_rate': [0.1, 0.2],\n",
    "}"
   ]
  },
  {
   "cell_type": "code",
   "execution_count": 33,
   "metadata": {},
   "outputs": [
    {
     "name": "stdout",
     "output_type": "stream",
     "text": [
      "Замеряем RMSE на кросс-валидации для CatBoost: 27.715056072841676\n"
     ]
    }
   ],
   "source": [
    "random_cat = RandomizedSearchCV(pipeline,\n",
    "                                   param_distributions=param_dist,\n",
    "                                   n_iter=3,\n",
    "                                   cv=tss_cv, \n",
    "                                   scoring='neg_mean_squared_error',\n",
    "                                   random_state=RANDOM_STATE,\n",
    "                                   n_jobs=-1)\n",
    "\n",
    "random_cat.fit(train_features, train_target)\n",
    "\n",
    "rmse_catboost_cv = (-random_cat.best_score_) ** 0.5\n",
    "print(\"Замеряем RMSE на кросс-валидации для CatBoost:\", rmse_catboost_cv)\n",
    "\n",
    "model_catboost = random_cat.best_estimator_\n",
    "\n",
    "models.append(model_catboost)\n",
    "rmse_cross.append(rmse_catboost_cv)"
   ]
  },
  {
   "cell_type": "code",
   "execution_count": 34,
   "metadata": {},
   "outputs": [],
   "source": [
    "results = []\n",
    "\n",
    "for model, rmse in zip(models, rmse_cross):\n",
    "    \n",
    "    model_name = type(model.steps[-1][1]).__name__\n",
    "    \n",
    "    results.append({\"Model\": model_name, \"RMSE\": rmse})\n",
    "\n",
    "results_df = pd.DataFrame(results)"
   ]
  },
  {
   "cell_type": "code",
   "execution_count": 35,
   "metadata": {},
   "outputs": [
    {
     "data": {
      "text/plain": [
       "[Pipeline(steps=[('preprocessor',\n",
       "                  Pipeline(steps=[('simpleImputer_num',\n",
       "                                   SimpleImputer(strategy='median'))])),\n",
       "                 ('lgbmr',\n",
       "                  LGBMRegressor(learning_rate=0.05, max_depth=5,\n",
       "                                n_estimators=150, num_leaves=20,\n",
       "                                random_state=42))]),\n",
       " Pipeline(steps=[('preprocessor',\n",
       "                  Pipeline(steps=[('simpleImputer_num',\n",
       "                                   SimpleImputer(strategy='median'))])),\n",
       "                 ('DecisionTreeRegressor',\n",
       "                  DecisionTreeRegressor(max_depth=13, min_samples_leaf=9,\n",
       "                                        min_samples_split=6, random_state=42))]),\n",
       " Pipeline(steps=[('preprocessor',\n",
       "                  Pipeline(steps=[('simpleImputer_num',\n",
       "                                   SimpleImputer(strategy='median'))])),\n",
       "                 ('CatBoostRegressor',\n",
       "                  <catboost.core.CatBoostRegressor object at 0x7fdfe5c70190>)])]"
      ]
     },
     "execution_count": 35,
     "metadata": {},
     "output_type": "execute_result"
    }
   ],
   "source": [
    "models"
   ]
  },
  {
   "cell_type": "code",
   "execution_count": 36,
   "metadata": {},
   "outputs": [
    {
     "data": {
      "text/html": [
       "<div>\n",
       "<style scoped>\n",
       "    .dataframe tbody tr th:only-of-type {\n",
       "        vertical-align: middle;\n",
       "    }\n",
       "\n",
       "    .dataframe tbody tr th {\n",
       "        vertical-align: top;\n",
       "    }\n",
       "\n",
       "    .dataframe thead th {\n",
       "        text-align: right;\n",
       "    }\n",
       "</style>\n",
       "<table border=\"1\" class=\"dataframe\">\n",
       "  <thead>\n",
       "    <tr style=\"text-align: right;\">\n",
       "      <th></th>\n",
       "      <th>Model</th>\n",
       "      <th>RMSE</th>\n",
       "    </tr>\n",
       "  </thead>\n",
       "  <tbody>\n",
       "    <tr>\n",
       "      <th>0</th>\n",
       "      <td>LGBMRegressor</td>\n",
       "      <td>27.407019</td>\n",
       "    </tr>\n",
       "    <tr>\n",
       "      <th>2</th>\n",
       "      <td>CatBoostRegressor</td>\n",
       "      <td>27.715056</td>\n",
       "    </tr>\n",
       "    <tr>\n",
       "      <th>1</th>\n",
       "      <td>DecisionTreeRegressor</td>\n",
       "      <td>29.374595</td>\n",
       "    </tr>\n",
       "  </tbody>\n",
       "</table>\n",
       "</div>"
      ],
      "text/plain": [
       "                   Model       RMSE\n",
       "0          LGBMRegressor  27.407019\n",
       "2      CatBoostRegressor  27.715056\n",
       "1  DecisionTreeRegressor  29.374595"
      ]
     },
     "execution_count": 36,
     "metadata": {},
     "output_type": "execute_result"
    }
   ],
   "source": [
    "results_df.sort_values(by='RMSE')"
   ]
  },
  {
   "cell_type": "markdown",
   "metadata": {},
   "source": [
    "На основании полученных результатов, **LGBMRegressor** продемонстрировал наилучший результат по метрике RMSE с ошибкой **27.41**, что делает его лидером среди рассмотренных моделей. Следующими по эффективности идут **CatBoostRegressor (27.72)** и **DecisionTreeRegressor (29.37).**\n",
    "\n",
    "Таким образом, с учётом полученных результатов, мы можем с уверенностью приступить к тестированию **LGBMRegressor** на тестовой выборке для более точной оценки её производительности."
   ]
  },
  {
   "cell_type": "markdown",
   "metadata": {},
   "source": [
    "## Тестирование"
   ]
  },
  {
   "cell_type": "markdown",
   "metadata": {},
   "source": [
    "Протестируем лучшую модель кросс-валидации на тестовой выборке."
   ]
  },
  {
   "cell_type": "code",
   "execution_count": 37,
   "metadata": {},
   "outputs": [
    {
     "name": "stdout",
     "output_type": "stream",
     "text": [
      "RMSE для LightGBM: 46.64206770766998\n"
     ]
    }
   ],
   "source": [
    "best_model_predictions = model_lgbm.predict(test_features)\n",
    "\n",
    "rmse_model = np.sqrt(mean_squared_error(test_target, best_model_predictions))\n",
    "\n",
    "print(f\"RMSE для LightGBM: {rmse_model}\")"
   ]
  },
  {
   "cell_type": "markdown",
   "metadata": {},
   "source": [
    "Вывод: по результатам исселедования лучшей моделью окаалсь **LGBMRegressor** с результатом в **46.64**"
   ]
  }
 ],
 "metadata": {
  "ExecuteTimeLog": [
   {
    "duration": 387,
    "start_time": "2025-01-24T01:35:18.881Z"
   },
   {
    "duration": 43,
    "start_time": "2025-01-24T01:35:20.172Z"
   },
   {
    "duration": 15,
    "start_time": "2025-01-24T01:35:25.332Z"
   },
   {
    "duration": 61,
    "start_time": "2025-01-24T01:35:43.563Z"
   },
   {
    "duration": 9,
    "start_time": "2025-01-24T01:35:43.998Z"
   },
   {
    "duration": 35,
    "start_time": "2025-01-24T01:36:52.860Z"
   },
   {
    "duration": 6,
    "start_time": "2025-01-24T01:37:06.731Z"
   },
   {
    "duration": 35,
    "start_time": "2025-01-24T01:37:25.540Z"
   },
   {
    "duration": 7,
    "start_time": "2025-01-24T01:37:25.711Z"
   },
   {
    "duration": 6,
    "start_time": "2025-01-24T01:38:34.965Z"
   },
   {
    "duration": 3,
    "start_time": "2025-01-24T01:38:41.111Z"
   },
   {
    "duration": 38846,
    "start_time": "2025-01-24T01:39:00.010Z"
   },
   {
    "duration": 9,
    "start_time": "2025-01-24T01:39:49.850Z"
   },
   {
    "duration": 37,
    "start_time": "2025-01-24T01:39:55.018Z"
   },
   {
    "duration": 7,
    "start_time": "2025-01-24T01:39:55.244Z"
   },
   {
    "duration": 302,
    "start_time": "2025-01-24T01:39:55.357Z"
   },
   {
    "duration": 220,
    "start_time": "2025-01-24T01:40:47.682Z"
   },
   {
    "duration": 7,
    "start_time": "2025-01-24T01:41:24.534Z"
   },
   {
    "duration": 380,
    "start_time": "2025-01-24T01:41:30.804Z"
   },
   {
    "duration": 40,
    "start_time": "2025-01-24T01:41:31.201Z"
   },
   {
    "duration": 7,
    "start_time": "2025-01-24T01:41:33.130Z"
   },
   {
    "duration": 6,
    "start_time": "2025-01-24T01:41:33.330Z"
   },
   {
    "duration": 199,
    "start_time": "2025-01-24T01:41:33.931Z"
   },
   {
    "duration": 35,
    "start_time": "2025-01-24T01:41:54.001Z"
   },
   {
    "duration": 833,
    "start_time": "2025-01-24T01:42:19.505Z"
   },
   {
    "duration": 783,
    "start_time": "2025-01-24T01:42:35.679Z"
   },
   {
    "duration": 880,
    "start_time": "2025-01-24T01:42:45.685Z"
   },
   {
    "duration": 118,
    "start_time": "2025-01-24T01:44:11.566Z"
   },
   {
    "duration": 553,
    "start_time": "2025-01-24T01:44:58.003Z"
   },
   {
    "duration": 16,
    "start_time": "2025-01-24T01:45:36.623Z"
   },
   {
    "duration": 580,
    "start_time": "2025-01-24T01:46:29.361Z"
   },
   {
    "duration": 564,
    "start_time": "2025-01-24T01:46:59.572Z"
   },
   {
    "duration": 584,
    "start_time": "2025-01-24T01:50:35.758Z"
   },
   {
    "duration": 8,
    "start_time": "2025-01-24T01:51:37.461Z"
   },
   {
    "duration": 8,
    "start_time": "2025-01-24T01:51:42.674Z"
   },
   {
    "duration": 1083,
    "start_time": "2025-01-24T01:54:56.759Z"
   },
   {
    "duration": 48,
    "start_time": "2025-01-24T01:54:57.844Z"
   },
   {
    "duration": 10,
    "start_time": "2025-01-24T01:54:57.893Z"
   },
   {
    "duration": 21,
    "start_time": "2025-01-24T01:54:57.904Z"
   },
   {
    "duration": 246,
    "start_time": "2025-01-24T01:54:57.926Z"
   },
   {
    "duration": 105,
    "start_time": "2025-01-24T01:54:58.173Z"
   },
   {
    "duration": 0,
    "start_time": "2025-01-24T01:54:58.279Z"
   },
   {
    "duration": 180,
    "start_time": "2025-01-24T01:55:48.827Z"
   },
   {
    "duration": 299,
    "start_time": "2025-01-24T01:56:53.655Z"
   },
   {
    "duration": 226,
    "start_time": "2025-01-24T01:57:10.990Z"
   },
   {
    "duration": 324,
    "start_time": "2025-01-24T01:57:14.142Z"
   },
   {
    "duration": 221,
    "start_time": "2025-01-24T01:57:24.025Z"
   },
   {
    "duration": 1101,
    "start_time": "2025-01-24T02:02:47.123Z"
   },
   {
    "duration": 49,
    "start_time": "2025-01-24T02:02:48.225Z"
   },
   {
    "duration": 9,
    "start_time": "2025-01-24T02:02:48.275Z"
   },
   {
    "duration": 7,
    "start_time": "2025-01-24T02:02:48.285Z"
   },
   {
    "duration": 267,
    "start_time": "2025-01-24T02:02:48.294Z"
   },
   {
    "duration": 105,
    "start_time": "2025-01-24T02:02:48.562Z"
   },
   {
    "duration": 0,
    "start_time": "2025-01-24T02:02:48.668Z"
   },
   {
    "duration": 1138,
    "start_time": "2025-01-24T02:03:29.687Z"
   },
   {
    "duration": 37,
    "start_time": "2025-01-24T02:03:30.827Z"
   },
   {
    "duration": 9,
    "start_time": "2025-01-24T02:03:30.866Z"
   },
   {
    "duration": 29,
    "start_time": "2025-01-24T02:03:30.877Z"
   },
   {
    "duration": 822,
    "start_time": "2025-01-24T02:03:30.908Z"
   },
   {
    "duration": 591,
    "start_time": "2025-01-24T02:03:31.732Z"
   },
   {
    "duration": 10,
    "start_time": "2025-01-24T02:06:18.320Z"
   },
   {
    "duration": 4,
    "start_time": "2025-01-24T02:06:45.149Z"
   },
   {
    "duration": 4,
    "start_time": "2025-01-24T02:07:20.768Z"
   },
   {
    "duration": 6,
    "start_time": "2025-01-24T02:07:45.095Z"
   },
   {
    "duration": 6,
    "start_time": "2025-01-24T02:08:19.591Z"
   },
   {
    "duration": 1099,
    "start_time": "2025-01-24T02:08:24.036Z"
   },
   {
    "duration": 47,
    "start_time": "2025-01-24T02:08:25.137Z"
   },
   {
    "duration": 10,
    "start_time": "2025-01-24T02:08:25.186Z"
   },
   {
    "duration": 9,
    "start_time": "2025-01-24T02:08:25.197Z"
   },
   {
    "duration": 49,
    "start_time": "2025-01-24T02:08:25.207Z"
   },
   {
    "duration": 12,
    "start_time": "2025-01-24T02:08:25.258Z"
   },
   {
    "duration": 11,
    "start_time": "2025-01-24T02:08:25.271Z"
   },
   {
    "duration": 803,
    "start_time": "2025-01-24T02:08:25.283Z"
   },
   {
    "duration": 537,
    "start_time": "2025-01-24T02:08:26.088Z"
   },
   {
    "duration": 5,
    "start_time": "2025-01-24T02:11:07.562Z"
   },
   {
    "duration": 6,
    "start_time": "2025-01-24T02:11:21.756Z"
   },
   {
    "duration": 95,
    "start_time": "2025-01-24T02:14:11.324Z"
   },
   {
    "duration": 52,
    "start_time": "2025-01-24T02:14:25.839Z"
   },
   {
    "duration": 19,
    "start_time": "2025-01-24T02:14:30.013Z"
   },
   {
    "duration": 4,
    "start_time": "2025-01-24T02:15:02.392Z"
   },
   {
    "duration": 14,
    "start_time": "2025-01-24T02:15:06.671Z"
   },
   {
    "duration": 4,
    "start_time": "2025-01-24T02:15:34.122Z"
   },
   {
    "duration": 200,
    "start_time": "2025-01-24T02:15:37.087Z"
   },
   {
    "duration": 3,
    "start_time": "2025-01-24T02:18:58.009Z"
   },
   {
    "duration": 3,
    "start_time": "2025-01-24T02:19:12.507Z"
   },
   {
    "duration": 4,
    "start_time": "2025-01-24T02:19:15.458Z"
   },
   {
    "duration": 350,
    "start_time": "2025-01-24T02:19:23.465Z"
   },
   {
    "duration": 271,
    "start_time": "2025-01-24T02:20:21.880Z"
   },
   {
    "duration": 252,
    "start_time": "2025-01-24T02:20:56.231Z"
   },
   {
    "duration": 252,
    "start_time": "2025-01-24T02:21:13.285Z"
   },
   {
    "duration": 270,
    "start_time": "2025-01-24T02:21:19.796Z"
   },
   {
    "duration": 334,
    "start_time": "2025-01-24T02:21:24.939Z"
   },
   {
    "duration": 258,
    "start_time": "2025-01-24T02:21:29.048Z"
   },
   {
    "duration": 263,
    "start_time": "2025-01-24T02:21:44.700Z"
   },
   {
    "duration": 252,
    "start_time": "2025-01-24T02:21:51.294Z"
   },
   {
    "duration": 277,
    "start_time": "2025-01-24T02:22:58.835Z"
   },
   {
    "duration": 297,
    "start_time": "2025-01-24T02:23:01.808Z"
   },
   {
    "duration": 347,
    "start_time": "2025-01-24T02:23:11.630Z"
   },
   {
    "duration": 308,
    "start_time": "2025-01-24T02:23:24.410Z"
   },
   {
    "duration": 146,
    "start_time": "2025-01-24T02:23:46.202Z"
   },
   {
    "duration": 346,
    "start_time": "2025-01-24T02:23:54.620Z"
   },
   {
    "duration": 172,
    "start_time": "2025-01-24T02:24:07.339Z"
   },
   {
    "duration": 175,
    "start_time": "2025-01-24T02:26:46.509Z"
   },
   {
    "duration": 189,
    "start_time": "2025-01-24T02:27:05.140Z"
   },
   {
    "duration": 156,
    "start_time": "2025-01-24T02:27:58.322Z"
   },
   {
    "duration": 196,
    "start_time": "2025-01-24T02:28:26.819Z"
   },
   {
    "duration": 157,
    "start_time": "2025-01-24T02:29:23.820Z"
   },
   {
    "duration": 1075,
    "start_time": "2025-01-24T02:30:39.207Z"
   },
   {
    "duration": 4,
    "start_time": "2025-01-24T02:30:40.283Z"
   },
   {
    "duration": 59,
    "start_time": "2025-01-24T02:30:40.289Z"
   },
   {
    "duration": 10,
    "start_time": "2025-01-24T02:30:40.349Z"
   },
   {
    "duration": 23,
    "start_time": "2025-01-24T02:30:40.361Z"
   },
   {
    "duration": 4,
    "start_time": "2025-01-24T02:30:40.385Z"
   },
   {
    "duration": 6,
    "start_time": "2025-01-24T02:30:40.391Z"
   },
   {
    "duration": 15,
    "start_time": "2025-01-24T02:30:40.398Z"
   },
   {
    "duration": 10,
    "start_time": "2025-01-24T02:30:40.414Z"
   },
   {
    "duration": 291,
    "start_time": "2025-01-24T02:30:40.425Z"
   },
   {
    "duration": 164,
    "start_time": "2025-01-24T02:30:40.718Z"
   },
   {
    "duration": 183,
    "start_time": "2025-01-24T02:30:40.883Z"
   },
   {
    "duration": 294,
    "start_time": "2025-01-24T02:30:41.068Z"
   },
   {
    "duration": 1103,
    "start_time": "2025-01-24T02:39:53.790Z"
   },
   {
    "duration": 4,
    "start_time": "2025-01-24T02:39:54.895Z"
   },
   {
    "duration": 6,
    "start_time": "2025-01-24T02:39:54.900Z"
   },
   {
    "duration": 49,
    "start_time": "2025-01-24T02:39:54.907Z"
   },
   {
    "duration": 12,
    "start_time": "2025-01-24T02:39:54.958Z"
   },
   {
    "duration": 15,
    "start_time": "2025-01-24T02:39:54.971Z"
   },
   {
    "duration": 3,
    "start_time": "2025-01-24T02:39:54.987Z"
   },
   {
    "duration": 5,
    "start_time": "2025-01-24T02:39:54.991Z"
   },
   {
    "duration": 7,
    "start_time": "2025-01-24T02:39:54.998Z"
   },
   {
    "duration": 7,
    "start_time": "2025-01-24T02:39:55.006Z"
   },
   {
    "duration": 320,
    "start_time": "2025-01-24T02:39:55.014Z"
   },
   {
    "duration": 166,
    "start_time": "2025-01-24T02:39:55.335Z"
   },
   {
    "duration": 179,
    "start_time": "2025-01-24T02:39:55.502Z"
   },
   {
    "duration": 295,
    "start_time": "2025-01-24T02:39:55.683Z"
   },
   {
    "duration": 32,
    "start_time": "2025-01-24T02:39:55.980Z"
   },
   {
    "duration": 1134,
    "start_time": "2025-01-24T02:42:43.626Z"
   },
   {
    "duration": 4,
    "start_time": "2025-01-24T02:42:44.762Z"
   },
   {
    "duration": 5,
    "start_time": "2025-01-24T02:42:44.767Z"
   },
   {
    "duration": 41,
    "start_time": "2025-01-24T02:42:44.773Z"
   },
   {
    "duration": 10,
    "start_time": "2025-01-24T02:42:44.816Z"
   },
   {
    "duration": 9,
    "start_time": "2025-01-24T02:42:44.827Z"
   },
   {
    "duration": 4,
    "start_time": "2025-01-24T02:42:44.837Z"
   },
   {
    "duration": 15,
    "start_time": "2025-01-24T02:42:44.842Z"
   },
   {
    "duration": 8,
    "start_time": "2025-01-24T02:42:44.858Z"
   },
   {
    "duration": 6,
    "start_time": "2025-01-24T02:42:44.867Z"
   },
   {
    "duration": 306,
    "start_time": "2025-01-24T02:42:44.875Z"
   },
   {
    "duration": 178,
    "start_time": "2025-01-24T02:42:45.182Z"
   },
   {
    "duration": 197,
    "start_time": "2025-01-24T02:42:45.362Z"
   },
   {
    "duration": 305,
    "start_time": "2025-01-24T02:42:45.561Z"
   },
   {
    "duration": 34,
    "start_time": "2025-01-24T02:42:45.868Z"
   },
   {
    "duration": 101,
    "start_time": "2025-01-24T02:44:02.522Z"
   },
   {
    "duration": 9,
    "start_time": "2025-01-24T02:45:00.432Z"
   },
   {
    "duration": 9,
    "start_time": "2025-01-24T02:46:08.769Z"
   },
   {
    "duration": 23,
    "start_time": "2025-01-24T02:46:50.197Z"
   },
   {
    "duration": 25,
    "start_time": "2025-01-24T02:46:57.358Z"
   },
   {
    "duration": 9,
    "start_time": "2025-01-24T02:47:13.759Z"
   },
   {
    "duration": 8,
    "start_time": "2025-01-24T02:47:15.006Z"
   },
   {
    "duration": 4,
    "start_time": "2025-01-24T02:47:41.582Z"
   },
   {
    "duration": 23,
    "start_time": "2025-01-24T02:47:50.045Z"
   },
   {
    "duration": 4,
    "start_time": "2025-01-24T02:47:55.168Z"
   },
   {
    "duration": 12,
    "start_time": "2025-01-24T02:48:17.896Z"
   },
   {
    "duration": 1090,
    "start_time": "2025-01-24T02:48:25.571Z"
   },
   {
    "duration": 4,
    "start_time": "2025-01-24T02:48:26.663Z"
   },
   {
    "duration": 6,
    "start_time": "2025-01-24T02:48:26.668Z"
   },
   {
    "duration": 38,
    "start_time": "2025-01-24T02:48:26.676Z"
   },
   {
    "duration": 9,
    "start_time": "2025-01-24T02:48:26.716Z"
   },
   {
    "duration": 15,
    "start_time": "2025-01-24T02:48:26.726Z"
   },
   {
    "duration": 3,
    "start_time": "2025-01-24T02:48:26.742Z"
   },
   {
    "duration": 13,
    "start_time": "2025-01-24T02:48:26.754Z"
   },
   {
    "duration": 8,
    "start_time": "2025-01-24T02:48:26.768Z"
   },
   {
    "duration": 6,
    "start_time": "2025-01-24T02:48:26.778Z"
   },
   {
    "duration": 302,
    "start_time": "2025-01-24T02:48:26.785Z"
   },
   {
    "duration": 165,
    "start_time": "2025-01-24T02:48:27.089Z"
   },
   {
    "duration": 177,
    "start_time": "2025-01-24T02:48:27.255Z"
   },
   {
    "duration": 289,
    "start_time": "2025-01-24T02:48:27.433Z"
   },
   {
    "duration": 13,
    "start_time": "2025-01-24T02:48:27.724Z"
   },
   {
    "duration": 23,
    "start_time": "2025-01-24T02:48:27.739Z"
   },
   {
    "duration": 7,
    "start_time": "2025-01-24T02:48:27.763Z"
   },
   {
    "duration": 3,
    "start_time": "2025-01-24T02:49:11.970Z"
   },
   {
    "duration": 100,
    "start_time": "2025-01-24T02:53:52.793Z"
   },
   {
    "duration": 9,
    "start_time": "2025-01-24T02:53:53.071Z"
   },
   {
    "duration": 335,
    "start_time": "2025-01-24T02:54:35.381Z"
   },
   {
    "duration": 4,
    "start_time": "2025-01-24T02:54:47.547Z"
   },
   {
    "duration": 4,
    "start_time": "2025-01-24T02:54:52.532Z"
   },
   {
    "duration": 5,
    "start_time": "2025-01-24T02:54:52.833Z"
   },
   {
    "duration": 3,
    "start_time": "2025-01-24T02:56:56.626Z"
   },
   {
    "duration": 1409,
    "start_time": "2025-01-24T02:59:59.924Z"
   },
   {
    "duration": 4,
    "start_time": "2025-01-24T03:00:01.335Z"
   },
   {
    "duration": 22,
    "start_time": "2025-01-24T03:00:01.340Z"
   },
   {
    "duration": 18,
    "start_time": "2025-01-24T03:00:01.364Z"
   },
   {
    "duration": 85,
    "start_time": "2025-01-24T03:00:01.384Z"
   },
   {
    "duration": 21,
    "start_time": "2025-01-24T03:00:01.471Z"
   },
   {
    "duration": 48,
    "start_time": "2025-01-24T03:00:01.493Z"
   },
   {
    "duration": 23,
    "start_time": "2025-01-24T03:00:01.542Z"
   },
   {
    "duration": 56,
    "start_time": "2025-01-24T03:00:01.567Z"
   },
   {
    "duration": 72,
    "start_time": "2025-01-24T03:00:01.624Z"
   },
   {
    "duration": 75,
    "start_time": "2025-01-24T03:00:01.697Z"
   },
   {
    "duration": 356,
    "start_time": "2025-01-24T03:00:01.773Z"
   },
   {
    "duration": 186,
    "start_time": "2025-01-24T03:00:02.130Z"
   },
   {
    "duration": 282,
    "start_time": "2025-01-24T03:00:02.320Z"
   },
   {
    "duration": 324,
    "start_time": "2025-01-24T03:00:02.603Z"
   },
   {
    "duration": 14,
    "start_time": "2025-01-24T03:00:02.929Z"
   },
   {
    "duration": 46,
    "start_time": "2025-01-24T03:00:02.953Z"
   },
   {
    "duration": 58,
    "start_time": "2025-01-24T03:00:03.000Z"
   },
   {
    "duration": 65,
    "start_time": "2025-01-24T03:00:03.060Z"
   },
   {
    "duration": 38,
    "start_time": "2025-01-24T03:00:03.126Z"
   },
   {
    "duration": 74,
    "start_time": "2025-01-24T03:00:03.165Z"
   },
   {
    "duration": 26,
    "start_time": "2025-01-24T03:00:03.241Z"
   },
   {
    "duration": 116,
    "start_time": "2025-01-24T03:00:03.268Z"
   },
   {
    "duration": 0,
    "start_time": "2025-01-24T03:00:03.385Z"
   },
   {
    "duration": 0,
    "start_time": "2025-01-24T03:00:03.386Z"
   },
   {
    "duration": 0,
    "start_time": "2025-01-24T03:00:03.387Z"
   },
   {
    "duration": 1348,
    "start_time": "2025-01-24T03:00:31.466Z"
   },
   {
    "duration": 3,
    "start_time": "2025-01-24T03:00:32.816Z"
   },
   {
    "duration": 20,
    "start_time": "2025-01-24T03:00:32.821Z"
   },
   {
    "duration": 10,
    "start_time": "2025-01-24T03:00:32.843Z"
   },
   {
    "duration": 39,
    "start_time": "2025-01-24T03:00:32.855Z"
   },
   {
    "duration": 9,
    "start_time": "2025-01-24T03:00:32.896Z"
   },
   {
    "duration": 51,
    "start_time": "2025-01-24T03:00:32.907Z"
   },
   {
    "duration": 7,
    "start_time": "2025-01-24T03:00:32.960Z"
   },
   {
    "duration": 11,
    "start_time": "2025-01-24T03:00:32.969Z"
   },
   {
    "duration": 11,
    "start_time": "2025-01-24T03:00:32.981Z"
   },
   {
    "duration": 18,
    "start_time": "2025-01-24T03:00:32.993Z"
   },
   {
    "duration": 296,
    "start_time": "2025-01-24T03:00:33.012Z"
   },
   {
    "duration": 172,
    "start_time": "2025-01-24T03:00:33.310Z"
   },
   {
    "duration": 248,
    "start_time": "2025-01-24T03:00:33.484Z"
   },
   {
    "duration": 291,
    "start_time": "2025-01-24T03:00:33.733Z"
   },
   {
    "duration": 14,
    "start_time": "2025-01-24T03:00:34.025Z"
   },
   {
    "duration": 18,
    "start_time": "2025-01-24T03:00:34.040Z"
   },
   {
    "duration": 18,
    "start_time": "2025-01-24T03:00:34.059Z"
   },
   {
    "duration": 5,
    "start_time": "2025-01-24T03:00:34.078Z"
   },
   {
    "duration": 6,
    "start_time": "2025-01-24T03:00:34.084Z"
   },
   {
    "duration": 18,
    "start_time": "2025-01-24T03:00:34.091Z"
   },
   {
    "duration": 10,
    "start_time": "2025-01-24T03:00:34.110Z"
   },
   {
    "duration": 121,
    "start_time": "2025-01-24T03:00:34.122Z"
   },
   {
    "duration": 0,
    "start_time": "2025-01-24T03:00:34.244Z"
   },
   {
    "duration": 0,
    "start_time": "2025-01-24T03:00:34.245Z"
   },
   {
    "duration": 0,
    "start_time": "2025-01-24T03:00:34.246Z"
   },
   {
    "duration": 1385,
    "start_time": "2025-01-24T03:02:12.142Z"
   },
   {
    "duration": 4,
    "start_time": "2025-01-24T03:02:13.528Z"
   },
   {
    "duration": 12,
    "start_time": "2025-01-24T03:02:13.533Z"
   },
   {
    "duration": 7,
    "start_time": "2025-01-24T03:02:13.547Z"
   },
   {
    "duration": 50,
    "start_time": "2025-01-24T03:02:13.556Z"
   },
   {
    "duration": 9,
    "start_time": "2025-01-24T03:02:13.607Z"
   },
   {
    "duration": 14,
    "start_time": "2025-01-24T03:02:13.618Z"
   },
   {
    "duration": 10,
    "start_time": "2025-01-24T03:02:13.633Z"
   },
   {
    "duration": 8,
    "start_time": "2025-01-24T03:02:13.645Z"
   },
   {
    "duration": 7,
    "start_time": "2025-01-24T03:02:13.655Z"
   },
   {
    "duration": 8,
    "start_time": "2025-01-24T03:02:13.663Z"
   },
   {
    "duration": 289,
    "start_time": "2025-01-24T03:02:13.673Z"
   },
   {
    "duration": 170,
    "start_time": "2025-01-24T03:02:13.964Z"
   },
   {
    "duration": 247,
    "start_time": "2025-01-24T03:02:14.137Z"
   },
   {
    "duration": 313,
    "start_time": "2025-01-24T03:02:14.387Z"
   },
   {
    "duration": 14,
    "start_time": "2025-01-24T03:02:14.702Z"
   },
   {
    "duration": 3,
    "start_time": "2025-01-24T03:02:14.717Z"
   },
   {
    "duration": 4,
    "start_time": "2025-01-24T03:02:14.721Z"
   },
   {
    "duration": 7,
    "start_time": "2025-01-24T03:02:14.726Z"
   },
   {
    "duration": 5,
    "start_time": "2025-01-24T03:02:14.753Z"
   },
   {
    "duration": 10,
    "start_time": "2025-01-24T03:02:14.759Z"
   },
   {
    "duration": 4,
    "start_time": "2025-01-24T03:02:14.770Z"
   },
   {
    "duration": 5792,
    "start_time": "2025-01-24T03:02:14.775Z"
   },
   {
    "duration": 134,
    "start_time": "2025-01-24T03:02:20.654Z"
   },
   {
    "duration": 0,
    "start_time": "2025-01-24T03:02:20.790Z"
   },
   {
    "duration": 0,
    "start_time": "2025-01-24T03:02:20.791Z"
   },
   {
    "duration": 5,
    "start_time": "2025-01-24T03:03:14.143Z"
   },
   {
    "duration": 1461,
    "start_time": "2025-01-24T03:03:25.093Z"
   },
   {
    "duration": 4,
    "start_time": "2025-01-24T03:03:26.555Z"
   },
   {
    "duration": 14,
    "start_time": "2025-01-24T03:03:26.560Z"
   },
   {
    "duration": 9,
    "start_time": "2025-01-24T03:03:26.575Z"
   },
   {
    "duration": 53,
    "start_time": "2025-01-24T03:03:26.585Z"
   },
   {
    "duration": 8,
    "start_time": "2025-01-24T03:03:26.640Z"
   },
   {
    "duration": 13,
    "start_time": "2025-01-24T03:03:26.649Z"
   },
   {
    "duration": 3,
    "start_time": "2025-01-24T03:03:26.663Z"
   },
   {
    "duration": 9,
    "start_time": "2025-01-24T03:03:26.667Z"
   },
   {
    "duration": 15,
    "start_time": "2025-01-24T03:03:26.678Z"
   },
   {
    "duration": 6,
    "start_time": "2025-01-24T03:03:26.695Z"
   },
   {
    "duration": 327,
    "start_time": "2025-01-24T03:03:26.703Z"
   },
   {
    "duration": 168,
    "start_time": "2025-01-24T03:03:27.032Z"
   },
   {
    "duration": 244,
    "start_time": "2025-01-24T03:03:27.202Z"
   },
   {
    "duration": 301,
    "start_time": "2025-01-24T03:03:27.447Z"
   },
   {
    "duration": 15,
    "start_time": "2025-01-24T03:03:27.753Z"
   },
   {
    "duration": 14,
    "start_time": "2025-01-24T03:03:27.770Z"
   },
   {
    "duration": 13,
    "start_time": "2025-01-24T03:03:27.785Z"
   },
   {
    "duration": 4,
    "start_time": "2025-01-24T03:03:27.799Z"
   },
   {
    "duration": 6,
    "start_time": "2025-01-24T03:03:27.805Z"
   },
   {
    "duration": 7,
    "start_time": "2025-01-24T03:03:27.812Z"
   },
   {
    "duration": 4,
    "start_time": "2025-01-24T03:03:27.820Z"
   },
   {
    "duration": 6131,
    "start_time": "2025-01-24T03:03:27.825Z"
   },
   {
    "duration": 4,
    "start_time": "2025-01-24T03:03:33.959Z"
   },
   {
    "duration": 405,
    "start_time": "2025-01-24T03:03:33.964Z"
   },
   {
    "duration": 8,
    "start_time": "2025-01-24T03:03:34.371Z"
   },
   {
    "duration": 1389,
    "start_time": "2025-01-24T03:03:50.560Z"
   },
   {
    "duration": 4,
    "start_time": "2025-01-24T03:03:51.953Z"
   },
   {
    "duration": 19,
    "start_time": "2025-01-24T03:03:51.958Z"
   },
   {
    "duration": 3,
    "start_time": "2025-01-24T03:03:51.979Z"
   },
   {
    "duration": 51,
    "start_time": "2025-01-24T03:03:51.983Z"
   },
   {
    "duration": 10,
    "start_time": "2025-01-24T03:03:52.036Z"
   },
   {
    "duration": 44,
    "start_time": "2025-01-24T03:03:52.047Z"
   },
   {
    "duration": 4,
    "start_time": "2025-01-24T03:03:52.092Z"
   },
   {
    "duration": 6,
    "start_time": "2025-01-24T03:03:52.098Z"
   },
   {
    "duration": 17,
    "start_time": "2025-01-24T03:03:52.106Z"
   },
   {
    "duration": 18,
    "start_time": "2025-01-24T03:03:52.124Z"
   },
   {
    "duration": 291,
    "start_time": "2025-01-24T03:03:52.143Z"
   },
   {
    "duration": 172,
    "start_time": "2025-01-24T03:03:52.436Z"
   },
   {
    "duration": 257,
    "start_time": "2025-01-24T03:03:52.610Z"
   },
   {
    "duration": 307,
    "start_time": "2025-01-24T03:03:52.869Z"
   },
   {
    "duration": 15,
    "start_time": "2025-01-24T03:03:53.178Z"
   },
   {
    "duration": 4,
    "start_time": "2025-01-24T03:03:53.194Z"
   },
   {
    "duration": 10,
    "start_time": "2025-01-24T03:03:53.200Z"
   },
   {
    "duration": 10,
    "start_time": "2025-01-24T03:03:53.211Z"
   },
   {
    "duration": 19,
    "start_time": "2025-01-24T03:03:53.222Z"
   },
   {
    "duration": 29,
    "start_time": "2025-01-24T03:03:53.242Z"
   },
   {
    "duration": 12,
    "start_time": "2025-01-24T03:03:53.272Z"
   },
   {
    "duration": 5885,
    "start_time": "2025-01-24T03:03:53.285Z"
   },
   {
    "duration": 5,
    "start_time": "2025-01-24T03:03:59.254Z"
   },
   {
    "duration": 373,
    "start_time": "2025-01-24T03:03:59.260Z"
   },
   {
    "duration": 9,
    "start_time": "2025-01-24T03:03:59.634Z"
   },
   {
    "duration": 1420,
    "start_time": "2025-01-24T03:06:15.690Z"
   },
   {
    "duration": 4,
    "start_time": "2025-01-24T03:06:17.112Z"
   },
   {
    "duration": 54,
    "start_time": "2025-01-24T03:06:17.118Z"
   },
   {
    "duration": 29,
    "start_time": "2025-01-24T03:06:17.174Z"
   },
   {
    "duration": 57,
    "start_time": "2025-01-24T03:06:17.205Z"
   },
   {
    "duration": 9,
    "start_time": "2025-01-24T03:06:17.264Z"
   },
   {
    "duration": 35,
    "start_time": "2025-01-24T03:06:17.274Z"
   },
   {
    "duration": 27,
    "start_time": "2025-01-24T03:06:17.311Z"
   },
   {
    "duration": 7,
    "start_time": "2025-01-24T03:06:17.339Z"
   },
   {
    "duration": 9,
    "start_time": "2025-01-24T03:06:17.348Z"
   },
   {
    "duration": 24,
    "start_time": "2025-01-24T03:06:17.359Z"
   },
   {
    "duration": 278,
    "start_time": "2025-01-24T03:06:17.385Z"
   },
   {
    "duration": 177,
    "start_time": "2025-01-24T03:06:17.665Z"
   },
   {
    "duration": 262,
    "start_time": "2025-01-24T03:06:17.844Z"
   },
   {
    "duration": 301,
    "start_time": "2025-01-24T03:06:18.107Z"
   },
   {
    "duration": 16,
    "start_time": "2025-01-24T03:06:18.409Z"
   },
   {
    "duration": 3,
    "start_time": "2025-01-24T03:06:18.426Z"
   },
   {
    "duration": 24,
    "start_time": "2025-01-24T03:06:18.431Z"
   },
   {
    "duration": 7,
    "start_time": "2025-01-24T03:06:18.456Z"
   },
   {
    "duration": 6,
    "start_time": "2025-01-24T03:06:18.465Z"
   },
   {
    "duration": 4,
    "start_time": "2025-01-24T03:06:18.473Z"
   },
   {
    "duration": 9,
    "start_time": "2025-01-24T03:06:18.478Z"
   },
   {
    "duration": 5974,
    "start_time": "2025-01-24T03:06:18.488Z"
   },
   {
    "duration": 4,
    "start_time": "2025-01-24T03:06:24.465Z"
   },
   {
    "duration": 429,
    "start_time": "2025-01-24T03:06:24.470Z"
   },
   {
    "duration": 8,
    "start_time": "2025-01-24T03:06:24.900Z"
   },
   {
    "duration": 6,
    "start_time": "2025-01-24T03:07:40.351Z"
   },
   {
    "duration": 16,
    "start_time": "2025-01-24T03:11:24.390Z"
   },
   {
    "duration": 1317,
    "start_time": "2025-01-24T03:16:07.007Z"
   },
   {
    "duration": 4,
    "start_time": "2025-01-24T03:16:08.326Z"
   },
   {
    "duration": 23,
    "start_time": "2025-01-24T03:16:08.331Z"
   },
   {
    "duration": 11,
    "start_time": "2025-01-24T03:16:08.355Z"
   },
   {
    "duration": 39,
    "start_time": "2025-01-24T03:16:08.367Z"
   },
   {
    "duration": 9,
    "start_time": "2025-01-24T03:16:08.407Z"
   },
   {
    "duration": 19,
    "start_time": "2025-01-24T03:16:08.418Z"
   },
   {
    "duration": 5,
    "start_time": "2025-01-24T03:16:08.438Z"
   },
   {
    "duration": 5,
    "start_time": "2025-01-24T03:16:08.445Z"
   },
   {
    "duration": 13,
    "start_time": "2025-01-24T03:16:08.451Z"
   },
   {
    "duration": 29,
    "start_time": "2025-01-24T03:16:08.465Z"
   },
   {
    "duration": 306,
    "start_time": "2025-01-24T03:16:08.495Z"
   },
   {
    "duration": 168,
    "start_time": "2025-01-24T03:16:08.802Z"
   },
   {
    "duration": 247,
    "start_time": "2025-01-24T03:16:08.973Z"
   },
   {
    "duration": 305,
    "start_time": "2025-01-24T03:16:09.222Z"
   },
   {
    "duration": 13,
    "start_time": "2025-01-24T03:16:09.529Z"
   },
   {
    "duration": 29,
    "start_time": "2025-01-24T03:16:09.553Z"
   },
   {
    "duration": 5,
    "start_time": "2025-01-24T03:16:09.584Z"
   },
   {
    "duration": 6,
    "start_time": "2025-01-24T03:16:09.590Z"
   },
   {
    "duration": 5,
    "start_time": "2025-01-24T03:16:09.597Z"
   },
   {
    "duration": 5,
    "start_time": "2025-01-24T03:16:09.603Z"
   },
   {
    "duration": 4,
    "start_time": "2025-01-24T03:16:09.609Z"
   },
   {
    "duration": 5850,
    "start_time": "2025-01-24T03:16:09.615Z"
   },
   {
    "duration": 4,
    "start_time": "2025-01-24T03:16:15.555Z"
   },
   {
    "duration": 373,
    "start_time": "2025-01-24T03:16:15.561Z"
   },
   {
    "duration": 9,
    "start_time": "2025-01-24T03:16:15.935Z"
   },
   {
    "duration": 6,
    "start_time": "2025-01-24T03:16:15.953Z"
   },
   {
    "duration": 4,
    "start_time": "2025-01-24T03:16:15.960Z"
   },
   {
    "duration": 0,
    "start_time": "2025-01-24T03:16:15.965Z"
   },
   {
    "duration": 1345,
    "start_time": "2025-01-24T03:16:29.973Z"
   },
   {
    "duration": 4,
    "start_time": "2025-01-24T03:16:31.319Z"
   },
   {
    "duration": 16,
    "start_time": "2025-01-24T03:16:31.325Z"
   },
   {
    "duration": 3,
    "start_time": "2025-01-24T03:16:31.343Z"
   },
   {
    "duration": 45,
    "start_time": "2025-01-24T03:16:31.348Z"
   },
   {
    "duration": 9,
    "start_time": "2025-01-24T03:16:31.394Z"
   },
   {
    "duration": 20,
    "start_time": "2025-01-24T03:16:31.404Z"
   },
   {
    "duration": 12,
    "start_time": "2025-01-24T03:16:31.426Z"
   },
   {
    "duration": 22,
    "start_time": "2025-01-24T03:16:31.439Z"
   },
   {
    "duration": 7,
    "start_time": "2025-01-24T03:16:31.463Z"
   },
   {
    "duration": 39,
    "start_time": "2025-01-24T03:16:31.472Z"
   },
   {
    "duration": 305,
    "start_time": "2025-01-24T03:16:31.512Z"
   },
   {
    "duration": 166,
    "start_time": "2025-01-24T03:16:31.819Z"
   },
   {
    "duration": 255,
    "start_time": "2025-01-24T03:16:31.988Z"
   },
   {
    "duration": 290,
    "start_time": "2025-01-24T03:16:32.244Z"
   },
   {
    "duration": 22,
    "start_time": "2025-01-24T03:16:32.535Z"
   },
   {
    "duration": 3,
    "start_time": "2025-01-24T03:16:32.559Z"
   },
   {
    "duration": 13,
    "start_time": "2025-01-24T03:16:32.564Z"
   },
   {
    "duration": 5,
    "start_time": "2025-01-24T03:16:32.578Z"
   },
   {
    "duration": 7,
    "start_time": "2025-01-24T03:16:32.584Z"
   },
   {
    "duration": 18,
    "start_time": "2025-01-24T03:16:32.592Z"
   },
   {
    "duration": 6,
    "start_time": "2025-01-24T03:16:32.611Z"
   },
   {
    "duration": 6137,
    "start_time": "2025-01-24T03:16:32.618Z"
   },
   {
    "duration": 4,
    "start_time": "2025-01-24T03:16:38.757Z"
   },
   {
    "duration": 382,
    "start_time": "2025-01-24T03:16:38.762Z"
   },
   {
    "duration": 9,
    "start_time": "2025-01-24T03:16:39.153Z"
   },
   {
    "duration": 18,
    "start_time": "2025-01-24T03:16:39.163Z"
   },
   {
    "duration": 173,
    "start_time": "2025-01-24T03:16:39.182Z"
   },
   {
    "duration": 0,
    "start_time": "2025-01-24T03:16:39.356Z"
   },
   {
    "duration": 1422,
    "start_time": "2025-01-24T03:17:13.321Z"
   },
   {
    "duration": 4,
    "start_time": "2025-01-24T03:17:14.745Z"
   },
   {
    "duration": 15,
    "start_time": "2025-01-24T03:17:14.754Z"
   },
   {
    "duration": 14,
    "start_time": "2025-01-24T03:17:14.771Z"
   },
   {
    "duration": 40,
    "start_time": "2025-01-24T03:17:14.786Z"
   },
   {
    "duration": 11,
    "start_time": "2025-01-24T03:17:14.827Z"
   },
   {
    "duration": 21,
    "start_time": "2025-01-24T03:17:14.840Z"
   },
   {
    "duration": 6,
    "start_time": "2025-01-24T03:17:14.863Z"
   },
   {
    "duration": 9,
    "start_time": "2025-01-24T03:17:14.870Z"
   },
   {
    "duration": 15,
    "start_time": "2025-01-24T03:17:14.882Z"
   },
   {
    "duration": 6,
    "start_time": "2025-01-24T03:17:14.899Z"
   },
   {
    "duration": 292,
    "start_time": "2025-01-24T03:17:14.906Z"
   },
   {
    "duration": 169,
    "start_time": "2025-01-24T03:17:15.200Z"
   },
   {
    "duration": 265,
    "start_time": "2025-01-24T03:17:15.370Z"
   },
   {
    "duration": 312,
    "start_time": "2025-01-24T03:17:15.637Z"
   },
   {
    "duration": 13,
    "start_time": "2025-01-24T03:17:15.953Z"
   },
   {
    "duration": 7,
    "start_time": "2025-01-24T03:17:15.968Z"
   },
   {
    "duration": 8,
    "start_time": "2025-01-24T03:17:15.976Z"
   },
   {
    "duration": 9,
    "start_time": "2025-01-24T03:17:15.985Z"
   },
   {
    "duration": 14,
    "start_time": "2025-01-24T03:17:15.995Z"
   },
   {
    "duration": 9,
    "start_time": "2025-01-24T03:17:16.011Z"
   },
   {
    "duration": 5,
    "start_time": "2025-01-24T03:17:16.022Z"
   },
   {
    "duration": 6825,
    "start_time": "2025-01-24T03:17:16.029Z"
   },
   {
    "duration": 4,
    "start_time": "2025-01-24T03:17:22.856Z"
   },
   {
    "duration": 379,
    "start_time": "2025-01-24T03:17:22.862Z"
   },
   {
    "duration": 12,
    "start_time": "2025-01-24T03:17:23.243Z"
   },
   {
    "duration": 19,
    "start_time": "2025-01-24T03:17:23.256Z"
   },
   {
    "duration": 132,
    "start_time": "2025-01-24T03:17:23.278Z"
   },
   {
    "duration": 0,
    "start_time": "2025-01-24T03:17:23.411Z"
   },
   {
    "duration": 1436,
    "start_time": "2025-01-24T03:18:16.593Z"
   },
   {
    "duration": 4,
    "start_time": "2025-01-24T03:18:18.031Z"
   },
   {
    "duration": 22,
    "start_time": "2025-01-24T03:18:18.036Z"
   },
   {
    "duration": 9,
    "start_time": "2025-01-24T03:18:18.060Z"
   },
   {
    "duration": 55,
    "start_time": "2025-01-24T03:18:18.071Z"
   },
   {
    "duration": 37,
    "start_time": "2025-01-24T03:18:18.128Z"
   },
   {
    "duration": 9,
    "start_time": "2025-01-24T03:18:18.166Z"
   },
   {
    "duration": 17,
    "start_time": "2025-01-24T03:18:18.176Z"
   },
   {
    "duration": 5,
    "start_time": "2025-01-24T03:18:18.194Z"
   },
   {
    "duration": 9,
    "start_time": "2025-01-24T03:18:18.200Z"
   },
   {
    "duration": 7,
    "start_time": "2025-01-24T03:18:18.210Z"
   },
   {
    "duration": 354,
    "start_time": "2025-01-24T03:18:18.218Z"
   },
   {
    "duration": 175,
    "start_time": "2025-01-24T03:18:18.573Z"
   },
   {
    "duration": 256,
    "start_time": "2025-01-24T03:18:18.751Z"
   },
   {
    "duration": 300,
    "start_time": "2025-01-24T03:18:19.008Z"
   },
   {
    "duration": 14,
    "start_time": "2025-01-24T03:18:19.310Z"
   },
   {
    "duration": 4,
    "start_time": "2025-01-24T03:18:19.325Z"
   },
   {
    "duration": 25,
    "start_time": "2025-01-24T03:18:19.330Z"
   },
   {
    "duration": 5,
    "start_time": "2025-01-24T03:18:19.356Z"
   },
   {
    "duration": 6,
    "start_time": "2025-01-24T03:18:19.363Z"
   },
   {
    "duration": 8,
    "start_time": "2025-01-24T03:18:19.370Z"
   },
   {
    "duration": 15,
    "start_time": "2025-01-24T03:18:19.379Z"
   },
   {
    "duration": 6064,
    "start_time": "2025-01-24T03:18:19.395Z"
   },
   {
    "duration": 5,
    "start_time": "2025-01-24T03:18:25.461Z"
   },
   {
    "duration": 425,
    "start_time": "2025-01-24T03:18:25.467Z"
   },
   {
    "duration": 8,
    "start_time": "2025-01-24T03:18:25.894Z"
   },
   {
    "duration": 31,
    "start_time": "2025-01-24T03:18:25.903Z"
   },
   {
    "duration": 37,
    "start_time": "2025-01-24T03:18:25.936Z"
   },
   {
    "duration": 128,
    "start_time": "2025-01-24T03:18:25.975Z"
   },
   {
    "duration": 1370,
    "start_time": "2025-01-24T03:19:06.775Z"
   },
   {
    "duration": 7,
    "start_time": "2025-01-24T03:19:08.147Z"
   },
   {
    "duration": 12,
    "start_time": "2025-01-24T03:19:08.155Z"
   },
   {
    "duration": 32,
    "start_time": "2025-01-24T03:19:08.168Z"
   },
   {
    "duration": 51,
    "start_time": "2025-01-24T03:19:08.202Z"
   },
   {
    "duration": 9,
    "start_time": "2025-01-24T03:19:08.255Z"
   },
   {
    "duration": 41,
    "start_time": "2025-01-24T03:19:08.265Z"
   },
   {
    "duration": 3,
    "start_time": "2025-01-24T03:19:08.308Z"
   },
   {
    "duration": 9,
    "start_time": "2025-01-24T03:19:08.312Z"
   },
   {
    "duration": 11,
    "start_time": "2025-01-24T03:19:08.323Z"
   },
   {
    "duration": 11,
    "start_time": "2025-01-24T03:19:08.336Z"
   },
   {
    "duration": 282,
    "start_time": "2025-01-24T03:19:08.349Z"
   },
   {
    "duration": 172,
    "start_time": "2025-01-24T03:19:08.633Z"
   },
   {
    "duration": 247,
    "start_time": "2025-01-24T03:19:08.806Z"
   },
   {
    "duration": 290,
    "start_time": "2025-01-24T03:19:09.054Z"
   },
   {
    "duration": 18,
    "start_time": "2025-01-24T03:19:09.346Z"
   },
   {
    "duration": 4,
    "start_time": "2025-01-24T03:19:09.365Z"
   },
   {
    "duration": 5,
    "start_time": "2025-01-24T03:19:09.371Z"
   },
   {
    "duration": 4,
    "start_time": "2025-01-24T03:19:09.378Z"
   },
   {
    "duration": 6,
    "start_time": "2025-01-24T03:19:09.384Z"
   },
   {
    "duration": 10,
    "start_time": "2025-01-24T03:19:09.392Z"
   },
   {
    "duration": 4,
    "start_time": "2025-01-24T03:19:09.404Z"
   },
   {
    "duration": 6045,
    "start_time": "2025-01-24T03:19:09.409Z"
   },
   {
    "duration": 4,
    "start_time": "2025-01-24T03:19:15.456Z"
   },
   {
    "duration": 396,
    "start_time": "2025-01-24T03:19:15.462Z"
   },
   {
    "duration": 9,
    "start_time": "2025-01-24T03:19:15.859Z"
   },
   {
    "duration": 41,
    "start_time": "2025-01-24T03:19:15.869Z"
   },
   {
    "duration": 8,
    "start_time": "2025-01-24T03:19:15.913Z"
   },
   {
    "duration": 14,
    "start_time": "2025-01-24T03:19:15.923Z"
   },
   {
    "duration": 1407,
    "start_time": "2025-01-24T03:21:39.067Z"
   },
   {
    "duration": 4,
    "start_time": "2025-01-24T03:21:40.476Z"
   },
   {
    "duration": 5,
    "start_time": "2025-01-24T03:21:40.482Z"
   },
   {
    "duration": 7,
    "start_time": "2025-01-24T03:21:40.488Z"
   },
   {
    "duration": 41,
    "start_time": "2025-01-24T03:21:40.496Z"
   },
   {
    "duration": 17,
    "start_time": "2025-01-24T03:21:40.538Z"
   },
   {
    "duration": 24,
    "start_time": "2025-01-24T03:21:40.557Z"
   },
   {
    "duration": 4,
    "start_time": "2025-01-24T03:21:40.584Z"
   },
   {
    "duration": 6,
    "start_time": "2025-01-24T03:21:40.589Z"
   },
   {
    "duration": 24,
    "start_time": "2025-01-24T03:21:40.597Z"
   },
   {
    "duration": 6,
    "start_time": "2025-01-24T03:21:40.622Z"
   },
   {
    "duration": 279,
    "start_time": "2025-01-24T03:21:40.630Z"
   },
   {
    "duration": 168,
    "start_time": "2025-01-24T03:21:40.911Z"
   },
   {
    "duration": 236,
    "start_time": "2025-01-24T03:21:41.081Z"
   },
   {
    "duration": 286,
    "start_time": "2025-01-24T03:21:41.318Z"
   },
   {
    "duration": 13,
    "start_time": "2025-01-24T03:21:41.606Z"
   },
   {
    "duration": 3,
    "start_time": "2025-01-24T03:21:41.621Z"
   },
   {
    "duration": 4,
    "start_time": "2025-01-24T03:21:41.625Z"
   },
   {
    "duration": 9,
    "start_time": "2025-01-24T03:21:41.630Z"
   },
   {
    "duration": 5,
    "start_time": "2025-01-24T03:21:41.653Z"
   },
   {
    "duration": 4,
    "start_time": "2025-01-24T03:21:41.659Z"
   },
   {
    "duration": 8,
    "start_time": "2025-01-24T03:21:41.664Z"
   },
   {
    "duration": 5881,
    "start_time": "2025-01-24T03:21:41.673Z"
   },
   {
    "duration": 5,
    "start_time": "2025-01-24T03:21:47.556Z"
   },
   {
    "duration": 417,
    "start_time": "2025-01-24T03:21:47.562Z"
   },
   {
    "duration": 8,
    "start_time": "2025-01-24T03:21:47.980Z"
   },
   {
    "duration": 64,
    "start_time": "2025-01-24T03:21:47.990Z"
   },
   {
    "duration": 6,
    "start_time": "2025-01-24T03:21:48.057Z"
   },
   {
    "duration": 21,
    "start_time": "2025-01-24T03:25:25.394Z"
   },
   {
    "duration": 115,
    "start_time": "2025-01-24T03:26:07.841Z"
   },
   {
    "duration": 5,
    "start_time": "2025-01-24T03:26:19.153Z"
   },
   {
    "duration": 151490,
    "start_time": "2025-01-24T03:26:33.302Z"
   },
   {
    "duration": 1409,
    "start_time": "2025-01-24T03:31:25.585Z"
   },
   {
    "duration": 4,
    "start_time": "2025-01-24T03:31:26.996Z"
   },
   {
    "duration": 8,
    "start_time": "2025-01-24T03:31:27.002Z"
   },
   {
    "duration": 3,
    "start_time": "2025-01-24T03:31:27.012Z"
   },
   {
    "duration": 50,
    "start_time": "2025-01-24T03:31:27.017Z"
   },
   {
    "duration": 9,
    "start_time": "2025-01-24T03:31:27.069Z"
   },
   {
    "duration": 17,
    "start_time": "2025-01-24T03:31:27.079Z"
   },
   {
    "duration": 8,
    "start_time": "2025-01-24T03:31:27.097Z"
   },
   {
    "duration": 26,
    "start_time": "2025-01-24T03:31:27.107Z"
   },
   {
    "duration": 19,
    "start_time": "2025-01-24T03:31:27.134Z"
   },
   {
    "duration": 22,
    "start_time": "2025-01-24T03:31:27.154Z"
   },
   {
    "duration": 298,
    "start_time": "2025-01-24T03:31:27.177Z"
   },
   {
    "duration": 245,
    "start_time": "2025-01-24T03:31:27.477Z"
   },
   {
    "duration": 191,
    "start_time": "2025-01-24T03:31:27.724Z"
   },
   {
    "duration": 294,
    "start_time": "2025-01-24T03:31:27.916Z"
   },
   {
    "duration": 15,
    "start_time": "2025-01-24T03:31:28.211Z"
   },
   {
    "duration": 4,
    "start_time": "2025-01-24T03:31:28.227Z"
   },
   {
    "duration": 22,
    "start_time": "2025-01-24T03:31:28.232Z"
   },
   {
    "duration": 3,
    "start_time": "2025-01-24T03:31:28.256Z"
   },
   {
    "duration": 41,
    "start_time": "2025-01-24T03:31:28.261Z"
   },
   {
    "duration": 5,
    "start_time": "2025-01-24T03:31:28.303Z"
   },
   {
    "duration": 4,
    "start_time": "2025-01-24T03:31:28.309Z"
   },
   {
    "duration": 5942,
    "start_time": "2025-01-24T03:31:28.314Z"
   },
   {
    "duration": 4,
    "start_time": "2025-01-24T03:31:34.258Z"
   },
   {
    "duration": 412,
    "start_time": "2025-01-24T03:31:34.264Z"
   },
   {
    "duration": 4,
    "start_time": "2025-01-24T03:31:34.678Z"
   },
   {
    "duration": 20748,
    "start_time": "2025-01-24T03:31:34.683Z"
   },
   {
    "duration": 9,
    "start_time": "2025-01-24T03:31:55.433Z"
   },
   {
    "duration": 14,
    "start_time": "2025-01-24T03:31:55.443Z"
   },
   {
    "duration": 9,
    "start_time": "2025-01-24T03:31:55.459Z"
   },
   {
    "duration": 7958,
    "start_time": "2025-01-24T03:38:26.860Z"
   },
   {
    "duration": 1348,
    "start_time": "2025-01-24T03:39:12.689Z"
   },
   {
    "duration": 4,
    "start_time": "2025-01-24T03:39:14.039Z"
   },
   {
    "duration": 10,
    "start_time": "2025-01-24T03:39:14.045Z"
   },
   {
    "duration": 11,
    "start_time": "2025-01-24T03:39:14.056Z"
   },
   {
    "duration": 48,
    "start_time": "2025-01-24T03:39:14.069Z"
   },
   {
    "duration": 9,
    "start_time": "2025-01-24T03:39:14.118Z"
   },
   {
    "duration": 13,
    "start_time": "2025-01-24T03:39:14.128Z"
   },
   {
    "duration": 3,
    "start_time": "2025-01-24T03:39:14.142Z"
   },
   {
    "duration": 5,
    "start_time": "2025-01-24T03:39:14.147Z"
   },
   {
    "duration": 8,
    "start_time": "2025-01-24T03:39:14.153Z"
   },
   {
    "duration": 9,
    "start_time": "2025-01-24T03:39:14.162Z"
   },
   {
    "duration": 309,
    "start_time": "2025-01-24T03:39:14.173Z"
   },
   {
    "duration": 242,
    "start_time": "2025-01-24T03:39:14.483Z"
   },
   {
    "duration": 180,
    "start_time": "2025-01-24T03:39:14.727Z"
   },
   {
    "duration": 295,
    "start_time": "2025-01-24T03:39:14.908Z"
   },
   {
    "duration": 14,
    "start_time": "2025-01-24T03:39:15.205Z"
   },
   {
    "duration": 77,
    "start_time": "2025-01-24T03:39:15.220Z"
   },
   {
    "duration": 45,
    "start_time": "2025-01-24T03:39:15.298Z"
   },
   {
    "duration": 27,
    "start_time": "2025-01-24T03:39:15.345Z"
   },
   {
    "duration": 37,
    "start_time": "2025-01-24T03:39:15.373Z"
   },
   {
    "duration": 46,
    "start_time": "2025-01-24T03:39:15.411Z"
   },
   {
    "duration": 25,
    "start_time": "2025-01-24T03:39:15.459Z"
   },
   {
    "duration": 5870,
    "start_time": "2025-01-24T03:39:15.485Z"
   },
   {
    "duration": 4,
    "start_time": "2025-01-24T03:39:21.357Z"
   },
   {
    "duration": 393,
    "start_time": "2025-01-24T03:39:21.362Z"
   },
   {
    "duration": 4,
    "start_time": "2025-01-24T03:39:21.756Z"
   },
   {
    "duration": 20824,
    "start_time": "2025-01-24T03:39:21.761Z"
   },
   {
    "duration": 8,
    "start_time": "2025-01-24T03:39:42.587Z"
   },
   {
    "duration": 17,
    "start_time": "2025-01-24T03:39:42.597Z"
   },
   {
    "duration": 16,
    "start_time": "2025-01-24T03:39:42.616Z"
   },
   {
    "duration": 1505,
    "start_time": "2025-01-24T03:40:44.548Z"
   },
   {
    "duration": 3,
    "start_time": "2025-01-24T03:40:46.056Z"
   },
   {
    "duration": 9,
    "start_time": "2025-01-24T03:40:46.061Z"
   },
   {
    "duration": 11,
    "start_time": "2025-01-24T03:40:46.071Z"
   },
   {
    "duration": 47,
    "start_time": "2025-01-24T03:40:46.084Z"
   },
   {
    "duration": 10,
    "start_time": "2025-01-24T03:40:46.133Z"
   },
   {
    "duration": 12,
    "start_time": "2025-01-24T03:40:46.145Z"
   },
   {
    "duration": 4,
    "start_time": "2025-01-24T03:40:46.158Z"
   },
   {
    "duration": 16,
    "start_time": "2025-01-24T03:40:46.163Z"
   },
   {
    "duration": 10,
    "start_time": "2025-01-24T03:40:46.182Z"
   },
   {
    "duration": 12,
    "start_time": "2025-01-24T03:40:46.194Z"
   },
   {
    "duration": 310,
    "start_time": "2025-01-24T03:40:46.208Z"
   },
   {
    "duration": 238,
    "start_time": "2025-01-24T03:40:46.520Z"
   },
   {
    "duration": 207,
    "start_time": "2025-01-24T03:40:46.760Z"
   },
   {
    "duration": 304,
    "start_time": "2025-01-24T03:40:46.969Z"
   },
   {
    "duration": 20,
    "start_time": "2025-01-24T03:40:47.274Z"
   },
   {
    "duration": 4,
    "start_time": "2025-01-24T03:40:47.296Z"
   },
   {
    "duration": 13,
    "start_time": "2025-01-24T03:40:47.302Z"
   },
   {
    "duration": 10,
    "start_time": "2025-01-24T03:40:47.317Z"
   },
   {
    "duration": 6,
    "start_time": "2025-01-24T03:40:47.329Z"
   },
   {
    "duration": 4,
    "start_time": "2025-01-24T03:40:47.354Z"
   },
   {
    "duration": 5,
    "start_time": "2025-01-24T03:40:47.359Z"
   },
   {
    "duration": 9095,
    "start_time": "2025-01-24T03:40:47.366Z"
   },
   {
    "duration": 4,
    "start_time": "2025-01-24T03:40:56.463Z"
   },
   {
    "duration": 404,
    "start_time": "2025-01-24T03:40:56.469Z"
   },
   {
    "duration": 4,
    "start_time": "2025-01-24T03:40:56.875Z"
   },
   {
    "duration": 1440,
    "start_time": "2025-01-24T03:41:13.270Z"
   },
   {
    "duration": 4,
    "start_time": "2025-01-24T03:41:14.713Z"
   },
   {
    "duration": 15,
    "start_time": "2025-01-24T03:41:14.718Z"
   },
   {
    "duration": 7,
    "start_time": "2025-01-24T03:41:14.734Z"
   },
   {
    "duration": 45,
    "start_time": "2025-01-24T03:41:14.743Z"
   },
   {
    "duration": 9,
    "start_time": "2025-01-24T03:41:14.789Z"
   },
   {
    "duration": 17,
    "start_time": "2025-01-24T03:41:14.799Z"
   },
   {
    "duration": 3,
    "start_time": "2025-01-24T03:41:14.818Z"
   },
   {
    "duration": 6,
    "start_time": "2025-01-24T03:41:14.822Z"
   },
   {
    "duration": 25,
    "start_time": "2025-01-24T03:41:14.829Z"
   },
   {
    "duration": 11,
    "start_time": "2025-01-24T03:41:14.855Z"
   },
   {
    "duration": 296,
    "start_time": "2025-01-24T03:41:14.868Z"
   },
   {
    "duration": 260,
    "start_time": "2025-01-24T03:41:15.166Z"
   },
   {
    "duration": 210,
    "start_time": "2025-01-24T03:41:15.429Z"
   },
   {
    "duration": 304,
    "start_time": "2025-01-24T03:41:15.641Z"
   },
   {
    "duration": 19,
    "start_time": "2025-01-24T03:41:15.947Z"
   },
   {
    "duration": 4,
    "start_time": "2025-01-24T03:41:15.967Z"
   },
   {
    "duration": 4,
    "start_time": "2025-01-24T03:41:15.972Z"
   },
   {
    "duration": 30,
    "start_time": "2025-01-24T03:41:15.978Z"
   },
   {
    "duration": 6,
    "start_time": "2025-01-24T03:41:16.010Z"
   },
   {
    "duration": 3,
    "start_time": "2025-01-24T03:41:16.017Z"
   },
   {
    "duration": 4,
    "start_time": "2025-01-24T03:41:16.022Z"
   },
   {
    "duration": 9138,
    "start_time": "2025-01-24T03:41:16.028Z"
   },
   {
    "duration": 5,
    "start_time": "2025-01-24T03:41:25.253Z"
   },
   {
    "duration": 342,
    "start_time": "2025-01-24T03:41:25.259Z"
   },
   {
    "duration": 5,
    "start_time": "2025-01-24T03:41:25.603Z"
   },
   {
    "duration": 19474,
    "start_time": "2025-01-24T03:41:25.609Z"
   },
   {
    "duration": 10,
    "start_time": "2025-01-24T03:41:45.084Z"
   },
   {
    "duration": 38,
    "start_time": "2025-01-24T03:41:45.096Z"
   },
   {
    "duration": 32,
    "start_time": "2025-01-24T03:41:45.136Z"
   },
   {
    "duration": 116,
    "start_time": "2025-01-24T03:45:11.724Z"
   },
   {
    "duration": 1455,
    "start_time": "2025-01-24T03:45:30.262Z"
   },
   {
    "duration": 5,
    "start_time": "2025-01-24T03:45:31.720Z"
   },
   {
    "duration": 39,
    "start_time": "2025-01-24T03:45:31.726Z"
   },
   {
    "duration": 9,
    "start_time": "2025-01-24T03:45:31.766Z"
   },
   {
    "duration": 42,
    "start_time": "2025-01-24T03:45:31.777Z"
   },
   {
    "duration": 9,
    "start_time": "2025-01-24T03:45:31.821Z"
   },
   {
    "duration": 17,
    "start_time": "2025-01-24T03:45:31.832Z"
   },
   {
    "duration": 10,
    "start_time": "2025-01-24T03:45:31.850Z"
   },
   {
    "duration": 6,
    "start_time": "2025-01-24T03:45:31.861Z"
   },
   {
    "duration": 7,
    "start_time": "2025-01-24T03:45:31.868Z"
   },
   {
    "duration": 7,
    "start_time": "2025-01-24T03:45:31.876Z"
   },
   {
    "duration": 295,
    "start_time": "2025-01-24T03:45:31.884Z"
   },
   {
    "duration": 228,
    "start_time": "2025-01-24T03:45:32.181Z"
   },
   {
    "duration": 180,
    "start_time": "2025-01-24T03:45:32.412Z"
   },
   {
    "duration": 293,
    "start_time": "2025-01-24T03:45:32.594Z"
   },
   {
    "duration": 14,
    "start_time": "2025-01-24T03:45:32.889Z"
   },
   {
    "duration": 9,
    "start_time": "2025-01-24T03:45:32.905Z"
   },
   {
    "duration": 7,
    "start_time": "2025-01-24T03:45:32.916Z"
   },
   {
    "duration": 20,
    "start_time": "2025-01-24T03:45:32.924Z"
   },
   {
    "duration": 16,
    "start_time": "2025-01-24T03:45:32.945Z"
   },
   {
    "duration": 16,
    "start_time": "2025-01-24T03:45:32.962Z"
   },
   {
    "duration": 9,
    "start_time": "2025-01-24T03:45:32.979Z"
   },
   {
    "duration": 8,
    "start_time": "2025-01-24T03:45:32.990Z"
   },
   {
    "duration": 5954,
    "start_time": "2025-01-24T03:45:33.000Z"
   },
   {
    "duration": 4,
    "start_time": "2025-01-24T03:45:38.956Z"
   },
   {
    "duration": 334,
    "start_time": "2025-01-24T03:45:38.961Z"
   },
   {
    "duration": 4,
    "start_time": "2025-01-24T03:45:39.297Z"
   },
   {
    "duration": 20115,
    "start_time": "2025-01-24T03:45:39.302Z"
   },
   {
    "duration": 9,
    "start_time": "2025-01-24T03:45:59.419Z"
   },
   {
    "duration": 113,
    "start_time": "2025-01-24T03:45:59.430Z"
   },
   {
    "duration": 0,
    "start_time": "2025-01-24T03:45:59.544Z"
   },
   {
    "duration": 645,
    "start_time": "2025-01-24T03:46:55.610Z"
   },
   {
    "duration": 312,
    "start_time": "2025-01-24T03:47:05.352Z"
   },
   {
    "duration": 139,
    "start_time": "2025-01-24T03:48:35.931Z"
   },
   {
    "duration": 266,
    "start_time": "2025-01-24T03:48:39.197Z"
   },
   {
    "duration": 1734,
    "start_time": "2025-01-24T03:49:07.500Z"
   },
   {
    "duration": 6,
    "start_time": "2025-01-24T03:49:12.522Z"
   },
   {
    "duration": 7,
    "start_time": "2025-01-24T03:49:37.236Z"
   },
   {
    "duration": 14,
    "start_time": "2025-01-24T03:49:47.524Z"
   },
   {
    "duration": 1840,
    "start_time": "2025-01-24T03:51:14.544Z"
   },
   {
    "duration": 7,
    "start_time": "2025-01-24T03:51:18.211Z"
   },
   {
    "duration": 1766,
    "start_time": "2025-01-24T03:51:32.062Z"
   },
   {
    "duration": 7,
    "start_time": "2025-01-24T03:51:34.588Z"
   },
   {
    "duration": 10,
    "start_time": "2025-01-24T03:53:03.492Z"
   },
   {
    "duration": 18,
    "start_time": "2025-01-24T03:53:11.311Z"
   },
   {
    "duration": 4,
    "start_time": "2025-01-24T03:53:24.272Z"
   },
   {
    "duration": 24,
    "start_time": "2025-01-24T03:53:24.662Z"
   },
   {
    "duration": 3,
    "start_time": "2025-01-24T03:53:37.654Z"
   },
   {
    "duration": 304,
    "start_time": "2025-01-24T03:53:37.986Z"
   },
   {
    "duration": 1417,
    "start_time": "2025-01-24T03:55:15.740Z"
   },
   {
    "duration": 3,
    "start_time": "2025-01-24T03:55:17.161Z"
   },
   {
    "duration": 26,
    "start_time": "2025-01-24T03:55:17.166Z"
   },
   {
    "duration": 22,
    "start_time": "2025-01-24T03:55:17.194Z"
   },
   {
    "duration": 50,
    "start_time": "2025-01-24T03:55:17.218Z"
   },
   {
    "duration": 10,
    "start_time": "2025-01-24T03:55:17.270Z"
   },
   {
    "duration": 12,
    "start_time": "2025-01-24T03:55:17.282Z"
   },
   {
    "duration": 5,
    "start_time": "2025-01-24T03:55:17.295Z"
   },
   {
    "duration": 27,
    "start_time": "2025-01-24T03:55:17.302Z"
   },
   {
    "duration": 11,
    "start_time": "2025-01-24T03:55:17.331Z"
   },
   {
    "duration": 12,
    "start_time": "2025-01-24T03:55:17.343Z"
   },
   {
    "duration": 285,
    "start_time": "2025-01-24T03:55:17.356Z"
   },
   {
    "duration": 251,
    "start_time": "2025-01-24T03:55:17.642Z"
   },
   {
    "duration": 180,
    "start_time": "2025-01-24T03:55:17.896Z"
   },
   {
    "duration": 296,
    "start_time": "2025-01-24T03:55:18.077Z"
   },
   {
    "duration": 14,
    "start_time": "2025-01-24T03:55:18.374Z"
   },
   {
    "duration": 55,
    "start_time": "2025-01-24T03:55:18.389Z"
   },
   {
    "duration": 4,
    "start_time": "2025-01-24T03:55:18.445Z"
   },
   {
    "duration": 10,
    "start_time": "2025-01-24T03:55:18.450Z"
   },
   {
    "duration": 5,
    "start_time": "2025-01-24T03:55:18.462Z"
   },
   {
    "duration": 12,
    "start_time": "2025-01-24T03:55:18.468Z"
   },
   {
    "duration": 3,
    "start_time": "2025-01-24T03:55:18.481Z"
   },
   {
    "duration": 76,
    "start_time": "2025-01-24T03:55:18.486Z"
   },
   {
    "duration": 0,
    "start_time": "2025-01-24T03:55:18.563Z"
   },
   {
    "duration": 0,
    "start_time": "2025-01-24T03:55:18.565Z"
   },
   {
    "duration": 0,
    "start_time": "2025-01-24T03:55:18.565Z"
   },
   {
    "duration": 0,
    "start_time": "2025-01-24T03:55:18.567Z"
   },
   {
    "duration": 0,
    "start_time": "2025-01-24T03:55:18.568Z"
   },
   {
    "duration": 0,
    "start_time": "2025-01-24T03:55:18.569Z"
   },
   {
    "duration": 0,
    "start_time": "2025-01-24T03:55:18.570Z"
   },
   {
    "duration": 0,
    "start_time": "2025-01-24T03:55:18.571Z"
   },
   {
    "duration": 0,
    "start_time": "2025-01-24T03:55:18.572Z"
   },
   {
    "duration": 0,
    "start_time": "2025-01-24T03:55:18.573Z"
   },
   {
    "duration": 1419,
    "start_time": "2025-01-24T03:55:32.438Z"
   },
   {
    "duration": 4,
    "start_time": "2025-01-24T03:55:33.859Z"
   },
   {
    "duration": 11,
    "start_time": "2025-01-24T03:55:33.865Z"
   },
   {
    "duration": 21,
    "start_time": "2025-01-24T03:55:33.877Z"
   },
   {
    "duration": 57,
    "start_time": "2025-01-24T03:55:33.899Z"
   },
   {
    "duration": 8,
    "start_time": "2025-01-24T03:55:33.958Z"
   },
   {
    "duration": 13,
    "start_time": "2025-01-24T03:55:33.968Z"
   },
   {
    "duration": 20,
    "start_time": "2025-01-24T03:55:33.982Z"
   },
   {
    "duration": 12,
    "start_time": "2025-01-24T03:55:34.003Z"
   },
   {
    "duration": 25,
    "start_time": "2025-01-24T03:55:34.017Z"
   },
   {
    "duration": 35,
    "start_time": "2025-01-24T03:55:34.043Z"
   },
   {
    "duration": 295,
    "start_time": "2025-01-24T03:55:34.080Z"
   },
   {
    "duration": 263,
    "start_time": "2025-01-24T03:55:34.376Z"
   },
   {
    "duration": 183,
    "start_time": "2025-01-24T03:55:34.641Z"
   },
   {
    "duration": 289,
    "start_time": "2025-01-24T03:55:34.825Z"
   },
   {
    "duration": 14,
    "start_time": "2025-01-24T03:55:35.115Z"
   },
   {
    "duration": 7,
    "start_time": "2025-01-24T03:55:35.130Z"
   },
   {
    "duration": 18,
    "start_time": "2025-01-24T03:55:35.138Z"
   },
   {
    "duration": 10,
    "start_time": "2025-01-24T03:55:35.157Z"
   },
   {
    "duration": 9,
    "start_time": "2025-01-24T03:55:35.168Z"
   },
   {
    "duration": 9,
    "start_time": "2025-01-24T03:55:35.179Z"
   },
   {
    "duration": 20,
    "start_time": "2025-01-24T03:55:35.189Z"
   },
   {
    "duration": 125,
    "start_time": "2025-01-24T03:55:35.210Z"
   },
   {
    "duration": 0,
    "start_time": "2025-01-24T03:55:35.336Z"
   },
   {
    "duration": 0,
    "start_time": "2025-01-24T03:55:35.337Z"
   },
   {
    "duration": 0,
    "start_time": "2025-01-24T03:55:35.338Z"
   },
   {
    "duration": 0,
    "start_time": "2025-01-24T03:55:35.339Z"
   },
   {
    "duration": 0,
    "start_time": "2025-01-24T03:55:35.340Z"
   },
   {
    "duration": 0,
    "start_time": "2025-01-24T03:55:35.341Z"
   },
   {
    "duration": 0,
    "start_time": "2025-01-24T03:55:35.342Z"
   },
   {
    "duration": 0,
    "start_time": "2025-01-24T03:55:35.343Z"
   },
   {
    "duration": 0,
    "start_time": "2025-01-24T03:55:35.344Z"
   },
   {
    "duration": 0,
    "start_time": "2025-01-24T03:55:35.345Z"
   },
   {
    "duration": 1370,
    "start_time": "2025-01-24T03:56:27.500Z"
   },
   {
    "duration": 3,
    "start_time": "2025-01-24T03:56:28.873Z"
   },
   {
    "duration": 7,
    "start_time": "2025-01-24T03:56:28.878Z"
   },
   {
    "duration": 22,
    "start_time": "2025-01-24T03:56:28.887Z"
   },
   {
    "duration": 38,
    "start_time": "2025-01-24T03:56:28.911Z"
   },
   {
    "duration": 9,
    "start_time": "2025-01-24T03:56:28.950Z"
   },
   {
    "duration": 12,
    "start_time": "2025-01-24T03:56:28.960Z"
   },
   {
    "duration": 7,
    "start_time": "2025-01-24T03:56:28.973Z"
   },
   {
    "duration": 24,
    "start_time": "2025-01-24T03:56:28.981Z"
   },
   {
    "duration": 19,
    "start_time": "2025-01-24T03:56:29.006Z"
   },
   {
    "duration": 7,
    "start_time": "2025-01-24T03:56:29.026Z"
   },
   {
    "duration": 281,
    "start_time": "2025-01-24T03:56:29.034Z"
   },
   {
    "duration": 233,
    "start_time": "2025-01-24T03:56:29.317Z"
   },
   {
    "duration": 168,
    "start_time": "2025-01-24T03:56:29.555Z"
   },
   {
    "duration": 288,
    "start_time": "2025-01-24T03:56:29.725Z"
   },
   {
    "duration": 14,
    "start_time": "2025-01-24T03:56:30.015Z"
   },
   {
    "duration": 39,
    "start_time": "2025-01-24T03:56:30.030Z"
   },
   {
    "duration": 32,
    "start_time": "2025-01-24T03:56:30.071Z"
   },
   {
    "duration": 40,
    "start_time": "2025-01-24T03:56:30.105Z"
   },
   {
    "duration": 24,
    "start_time": "2025-01-24T03:56:30.146Z"
   },
   {
    "duration": 16,
    "start_time": "2025-01-24T03:56:30.172Z"
   },
   {
    "duration": 14,
    "start_time": "2025-01-24T03:56:30.190Z"
   },
   {
    "duration": 55,
    "start_time": "2025-01-24T03:56:30.205Z"
   },
   {
    "duration": 5898,
    "start_time": "2025-01-24T03:56:30.261Z"
   },
   {
    "duration": 4,
    "start_time": "2025-01-24T03:56:36.161Z"
   },
   {
    "duration": 379,
    "start_time": "2025-01-24T03:56:36.166Z"
   },
   {
    "duration": 4,
    "start_time": "2025-01-24T03:56:36.554Z"
   },
   {
    "duration": 19344,
    "start_time": "2025-01-24T03:56:36.560Z"
   },
   {
    "duration": 10,
    "start_time": "2025-01-24T03:56:55.905Z"
   },
   {
    "duration": 18,
    "start_time": "2025-01-24T03:56:55.916Z"
   },
   {
    "duration": 3,
    "start_time": "2025-01-24T03:56:55.936Z"
   },
   {
    "duration": 120,
    "start_time": "2025-01-24T03:56:55.940Z"
   },
   {
    "duration": 0,
    "start_time": "2025-01-24T03:56:56.062Z"
   },
   {
    "duration": 814,
    "start_time": "2025-01-24T03:58:23.011Z"
   },
   {
    "duration": 10,
    "start_time": "2025-01-24T03:58:28.928Z"
   },
   {
    "duration": 17,
    "start_time": "2025-01-24T03:59:31.009Z"
   },
   {
    "duration": 7,
    "start_time": "2025-01-24T03:59:36.128Z"
   },
   {
    "duration": 5,
    "start_time": "2025-01-24T04:00:36.346Z"
   },
   {
    "duration": 8,
    "start_time": "2025-01-24T04:00:41.669Z"
   },
   {
    "duration": 9,
    "start_time": "2025-01-24T04:00:55.035Z"
   },
   {
    "duration": 1379,
    "start_time": "2025-01-24T04:02:28.612Z"
   },
   {
    "duration": 4,
    "start_time": "2025-01-24T04:02:29.994Z"
   },
   {
    "duration": 40,
    "start_time": "2025-01-24T04:02:30.000Z"
   },
   {
    "duration": 24,
    "start_time": "2025-01-24T04:02:30.042Z"
   },
   {
    "duration": 16,
    "start_time": "2025-01-24T04:02:30.068Z"
   },
   {
    "duration": 66,
    "start_time": "2025-01-24T04:02:30.085Z"
   },
   {
    "duration": 9,
    "start_time": "2025-01-24T04:02:30.153Z"
   },
   {
    "duration": 32,
    "start_time": "2025-01-24T04:02:30.163Z"
   },
   {
    "duration": 63,
    "start_time": "2025-01-24T04:02:30.197Z"
   },
   {
    "duration": 62,
    "start_time": "2025-01-24T04:02:30.262Z"
   },
   {
    "duration": 32,
    "start_time": "2025-01-24T04:02:30.326Z"
   },
   {
    "duration": 28,
    "start_time": "2025-01-24T04:02:30.360Z"
   },
   {
    "duration": 372,
    "start_time": "2025-01-24T04:02:30.390Z"
   },
   {
    "duration": 251,
    "start_time": "2025-01-24T04:02:30.765Z"
   },
   {
    "duration": 189,
    "start_time": "2025-01-24T04:02:31.017Z"
   },
   {
    "duration": 310,
    "start_time": "2025-01-24T04:02:31.208Z"
   },
   {
    "duration": 14,
    "start_time": "2025-01-24T04:02:31.519Z"
   },
   {
    "duration": 21,
    "start_time": "2025-01-24T04:02:31.534Z"
   },
   {
    "duration": 29,
    "start_time": "2025-01-24T04:02:31.556Z"
   },
   {
    "duration": 27,
    "start_time": "2025-01-24T04:02:31.587Z"
   },
   {
    "duration": 9,
    "start_time": "2025-01-24T04:02:31.616Z"
   },
   {
    "duration": 47,
    "start_time": "2025-01-24T04:02:31.627Z"
   },
   {
    "duration": 54,
    "start_time": "2025-01-24T04:02:31.675Z"
   },
   {
    "duration": 23,
    "start_time": "2025-01-24T04:02:31.731Z"
   },
   {
    "duration": 7005,
    "start_time": "2025-01-24T04:02:31.755Z"
   },
   {
    "duration": 4,
    "start_time": "2025-01-24T04:02:38.762Z"
   },
   {
    "duration": 396,
    "start_time": "2025-01-24T04:02:38.767Z"
   },
   {
    "duration": 4,
    "start_time": "2025-01-24T04:02:39.165Z"
   },
   {
    "duration": 19416,
    "start_time": "2025-01-24T04:02:39.171Z"
   },
   {
    "duration": 9,
    "start_time": "2025-01-24T04:02:58.589Z"
   },
   {
    "duration": 28,
    "start_time": "2025-01-24T04:02:58.600Z"
   },
   {
    "duration": 36,
    "start_time": "2025-01-24T04:02:58.629Z"
   },
   {
    "duration": 8,
    "start_time": "2025-01-24T04:02:58.666Z"
   },
   {
    "duration": 1348,
    "start_time": "2025-01-24T04:07:58.080Z"
   },
   {
    "duration": 4,
    "start_time": "2025-01-24T04:07:59.431Z"
   },
   {
    "duration": 12,
    "start_time": "2025-01-24T04:07:59.436Z"
   },
   {
    "duration": 7,
    "start_time": "2025-01-24T04:07:59.450Z"
   },
   {
    "duration": 30,
    "start_time": "2025-01-24T04:07:59.459Z"
   },
   {
    "duration": 42,
    "start_time": "2025-01-24T04:07:59.490Z"
   },
   {
    "duration": 9,
    "start_time": "2025-01-24T04:07:59.534Z"
   },
   {
    "duration": 8,
    "start_time": "2025-01-24T04:07:59.544Z"
   },
   {
    "duration": 7,
    "start_time": "2025-01-24T04:07:59.554Z"
   },
   {
    "duration": 5,
    "start_time": "2025-01-24T04:07:59.562Z"
   },
   {
    "duration": 7,
    "start_time": "2025-01-24T04:07:59.569Z"
   },
   {
    "duration": 7,
    "start_time": "2025-01-24T04:07:59.577Z"
   },
   {
    "duration": 300,
    "start_time": "2025-01-24T04:07:59.585Z"
   },
   {
    "duration": 240,
    "start_time": "2025-01-24T04:07:59.887Z"
   },
   {
    "duration": 178,
    "start_time": "2025-01-24T04:08:00.129Z"
   },
   {
    "duration": 293,
    "start_time": "2025-01-24T04:08:00.308Z"
   },
   {
    "duration": 14,
    "start_time": "2025-01-24T04:08:00.602Z"
   },
   {
    "duration": 11,
    "start_time": "2025-01-24T04:08:00.617Z"
   },
   {
    "duration": 31,
    "start_time": "2025-01-24T04:08:00.629Z"
   },
   {
    "duration": 27,
    "start_time": "2025-01-24T04:08:00.661Z"
   },
   {
    "duration": 5,
    "start_time": "2025-01-24T04:08:00.689Z"
   },
   {
    "duration": 16,
    "start_time": "2025-01-24T04:08:00.695Z"
   },
   {
    "duration": 27,
    "start_time": "2025-01-24T04:08:00.712Z"
   },
   {
    "duration": 123,
    "start_time": "2025-01-24T04:08:00.741Z"
   },
   {
    "duration": 0,
    "start_time": "2025-01-24T04:08:00.865Z"
   },
   {
    "duration": 0,
    "start_time": "2025-01-24T04:08:00.866Z"
   },
   {
    "duration": 0,
    "start_time": "2025-01-24T04:08:00.867Z"
   },
   {
    "duration": 0,
    "start_time": "2025-01-24T04:08:00.868Z"
   },
   {
    "duration": 0,
    "start_time": "2025-01-24T04:08:00.869Z"
   },
   {
    "duration": 0,
    "start_time": "2025-01-24T04:08:00.870Z"
   },
   {
    "duration": 0,
    "start_time": "2025-01-24T04:08:00.871Z"
   },
   {
    "duration": 1,
    "start_time": "2025-01-24T04:08:00.871Z"
   },
   {
    "duration": 0,
    "start_time": "2025-01-24T04:08:00.872Z"
   },
   {
    "duration": 1387,
    "start_time": "2025-01-24T04:08:48.404Z"
   },
   {
    "duration": 4,
    "start_time": "2025-01-24T04:08:49.794Z"
   },
   {
    "duration": 7,
    "start_time": "2025-01-24T04:08:49.800Z"
   },
   {
    "duration": 7,
    "start_time": "2025-01-24T04:08:49.808Z"
   },
   {
    "duration": 2,
    "start_time": "2025-01-24T04:08:49.818Z"
   },
   {
    "duration": 46,
    "start_time": "2025-01-24T04:08:49.822Z"
   },
   {
    "duration": 9,
    "start_time": "2025-01-24T04:08:49.870Z"
   },
   {
    "duration": 10,
    "start_time": "2025-01-24T04:08:49.881Z"
   },
   {
    "duration": 5,
    "start_time": "2025-01-24T04:08:49.892Z"
   },
   {
    "duration": 6,
    "start_time": "2025-01-24T04:08:49.898Z"
   },
   {
    "duration": 9,
    "start_time": "2025-01-24T04:08:49.905Z"
   },
   {
    "duration": 40,
    "start_time": "2025-01-24T04:08:49.916Z"
   },
   {
    "duration": 311,
    "start_time": "2025-01-24T04:08:49.957Z"
   },
   {
    "duration": 234,
    "start_time": "2025-01-24T04:08:50.270Z"
   },
   {
    "duration": 182,
    "start_time": "2025-01-24T04:08:50.506Z"
   },
   {
    "duration": 296,
    "start_time": "2025-01-24T04:08:50.690Z"
   },
   {
    "duration": 13,
    "start_time": "2025-01-24T04:08:50.987Z"
   },
   {
    "duration": 3,
    "start_time": "2025-01-24T04:08:51.002Z"
   },
   {
    "duration": 11,
    "start_time": "2025-01-24T04:08:51.006Z"
   },
   {
    "duration": 11,
    "start_time": "2025-01-24T04:08:51.018Z"
   },
   {
    "duration": 4,
    "start_time": "2025-01-24T04:08:51.030Z"
   },
   {
    "duration": 20,
    "start_time": "2025-01-24T04:08:51.035Z"
   },
   {
    "duration": 4,
    "start_time": "2025-01-24T04:08:51.057Z"
   },
   {
    "duration": 4,
    "start_time": "2025-01-24T04:08:51.062Z"
   },
   {
    "duration": 5995,
    "start_time": "2025-01-24T04:08:51.067Z"
   },
   {
    "duration": 102,
    "start_time": "2025-01-24T04:08:57.064Z"
   },
   {
    "duration": 0,
    "start_time": "2025-01-24T04:08:57.168Z"
   },
   {
    "duration": 0,
    "start_time": "2025-01-24T04:08:57.169Z"
   },
   {
    "duration": 0,
    "start_time": "2025-01-24T04:08:57.170Z"
   },
   {
    "duration": 0,
    "start_time": "2025-01-24T04:08:57.171Z"
   },
   {
    "duration": 0,
    "start_time": "2025-01-24T04:08:57.172Z"
   },
   {
    "duration": 0,
    "start_time": "2025-01-24T04:08:57.173Z"
   },
   {
    "duration": 0,
    "start_time": "2025-01-24T04:08:57.174Z"
   },
   {
    "duration": 4,
    "start_time": "2025-01-24T04:09:46.671Z"
   },
   {
    "duration": 1344,
    "start_time": "2025-01-24T04:09:51.699Z"
   },
   {
    "duration": 3,
    "start_time": "2025-01-24T04:09:53.046Z"
   },
   {
    "duration": 42,
    "start_time": "2025-01-24T04:09:53.050Z"
   },
   {
    "duration": 21,
    "start_time": "2025-01-24T04:09:53.094Z"
   },
   {
    "duration": 26,
    "start_time": "2025-01-24T04:09:53.117Z"
   },
   {
    "duration": 58,
    "start_time": "2025-01-24T04:09:53.145Z"
   },
   {
    "duration": 10,
    "start_time": "2025-01-24T04:09:53.205Z"
   },
   {
    "duration": 17,
    "start_time": "2025-01-24T04:09:53.216Z"
   },
   {
    "duration": 4,
    "start_time": "2025-01-24T04:09:53.234Z"
   },
   {
    "duration": 5,
    "start_time": "2025-01-24T04:09:53.239Z"
   },
   {
    "duration": 9,
    "start_time": "2025-01-24T04:09:53.245Z"
   },
   {
    "duration": 6,
    "start_time": "2025-01-24T04:09:53.256Z"
   },
   {
    "duration": 293,
    "start_time": "2025-01-24T04:09:53.263Z"
   },
   {
    "duration": 239,
    "start_time": "2025-01-24T04:09:53.559Z"
   },
   {
    "duration": 180,
    "start_time": "2025-01-24T04:09:53.799Z"
   },
   {
    "duration": 290,
    "start_time": "2025-01-24T04:09:53.980Z"
   },
   {
    "duration": 13,
    "start_time": "2025-01-24T04:09:54.271Z"
   },
   {
    "duration": 36,
    "start_time": "2025-01-24T04:09:54.285Z"
   },
   {
    "duration": 24,
    "start_time": "2025-01-24T04:09:54.323Z"
   },
   {
    "duration": 13,
    "start_time": "2025-01-24T04:09:54.348Z"
   },
   {
    "duration": 9,
    "start_time": "2025-01-24T04:09:54.362Z"
   },
   {
    "duration": 10,
    "start_time": "2025-01-24T04:09:54.372Z"
   },
   {
    "duration": 5,
    "start_time": "2025-01-24T04:09:54.393Z"
   },
   {
    "duration": 11,
    "start_time": "2025-01-24T04:09:54.399Z"
   },
   {
    "duration": 5947,
    "start_time": "2025-01-24T04:09:54.412Z"
   },
   {
    "duration": 5,
    "start_time": "2025-01-24T04:10:00.361Z"
   },
   {
    "duration": 372,
    "start_time": "2025-01-24T04:10:00.367Z"
   },
   {
    "duration": 87,
    "start_time": "2025-01-24T04:10:00.740Z"
   },
   {
    "duration": 0,
    "start_time": "2025-01-24T04:10:00.828Z"
   },
   {
    "duration": 0,
    "start_time": "2025-01-24T04:10:00.830Z"
   },
   {
    "duration": 0,
    "start_time": "2025-01-24T04:10:00.831Z"
   },
   {
    "duration": 0,
    "start_time": "2025-01-24T04:10:00.832Z"
   },
   {
    "duration": 0,
    "start_time": "2025-01-24T04:10:00.833Z"
   },
   {
    "duration": 1441,
    "start_time": "2025-01-24T04:10:32.048Z"
   },
   {
    "duration": 4,
    "start_time": "2025-01-24T04:10:33.491Z"
   },
   {
    "duration": 17,
    "start_time": "2025-01-24T04:10:33.496Z"
   },
   {
    "duration": 12,
    "start_time": "2025-01-24T04:10:33.515Z"
   },
   {
    "duration": 20,
    "start_time": "2025-01-24T04:10:33.529Z"
   },
   {
    "duration": 43,
    "start_time": "2025-01-24T04:10:33.551Z"
   },
   {
    "duration": 10,
    "start_time": "2025-01-24T04:10:33.595Z"
   },
   {
    "duration": 22,
    "start_time": "2025-01-24T04:10:33.607Z"
   },
   {
    "duration": 11,
    "start_time": "2025-01-24T04:10:33.631Z"
   },
   {
    "duration": 15,
    "start_time": "2025-01-24T04:10:33.643Z"
   },
   {
    "duration": 81,
    "start_time": "2025-01-24T04:10:33.659Z"
   },
   {
    "duration": 71,
    "start_time": "2025-01-24T04:10:33.741Z"
   },
   {
    "duration": 293,
    "start_time": "2025-01-24T04:10:33.814Z"
   },
   {
    "duration": 246,
    "start_time": "2025-01-24T04:10:34.110Z"
   },
   {
    "duration": 205,
    "start_time": "2025-01-24T04:10:34.357Z"
   },
   {
    "duration": 300,
    "start_time": "2025-01-24T04:10:34.563Z"
   },
   {
    "duration": 14,
    "start_time": "2025-01-24T04:10:34.864Z"
   },
   {
    "duration": 3,
    "start_time": "2025-01-24T04:10:34.879Z"
   },
   {
    "duration": 3,
    "start_time": "2025-01-24T04:10:34.884Z"
   },
   {
    "duration": 18,
    "start_time": "2025-01-24T04:10:34.888Z"
   },
   {
    "duration": 5,
    "start_time": "2025-01-24T04:10:34.908Z"
   },
   {
    "duration": 7,
    "start_time": "2025-01-24T04:10:34.914Z"
   },
   {
    "duration": 5,
    "start_time": "2025-01-24T04:10:34.922Z"
   },
   {
    "duration": 5,
    "start_time": "2025-01-24T04:10:34.928Z"
   },
   {
    "duration": 5925,
    "start_time": "2025-01-24T04:10:34.934Z"
   },
   {
    "duration": 4,
    "start_time": "2025-01-24T04:10:40.860Z"
   },
   {
    "duration": 352,
    "start_time": "2025-01-24T04:10:40.866Z"
   },
   {
    "duration": 3,
    "start_time": "2025-01-24T04:10:41.220Z"
   },
   {
    "duration": 19483,
    "start_time": "2025-01-24T04:10:41.225Z"
   },
   {
    "duration": 10,
    "start_time": "2025-01-24T04:11:00.709Z"
   },
   {
    "duration": 26,
    "start_time": "2025-01-24T04:11:00.720Z"
   },
   {
    "duration": 19,
    "start_time": "2025-01-24T04:11:00.747Z"
   },
   {
    "duration": 20,
    "start_time": "2025-01-24T04:11:00.767Z"
   },
   {
    "duration": 1407,
    "start_time": "2025-01-24T04:13:28.923Z"
   },
   {
    "duration": 4,
    "start_time": "2025-01-24T04:13:30.333Z"
   },
   {
    "duration": 14,
    "start_time": "2025-01-24T04:13:30.338Z"
   },
   {
    "duration": 23,
    "start_time": "2025-01-24T04:13:30.353Z"
   },
   {
    "duration": 39,
    "start_time": "2025-01-24T04:13:30.378Z"
   },
   {
    "duration": 91,
    "start_time": "2025-01-24T04:13:30.418Z"
   },
   {
    "duration": 9,
    "start_time": "2025-01-24T04:13:30.511Z"
   },
   {
    "duration": 23,
    "start_time": "2025-01-24T04:13:30.522Z"
   },
   {
    "duration": 17,
    "start_time": "2025-01-24T04:13:30.547Z"
   },
   {
    "duration": 18,
    "start_time": "2025-01-24T04:13:30.565Z"
   },
   {
    "duration": 17,
    "start_time": "2025-01-24T04:13:30.585Z"
   },
   {
    "duration": 8,
    "start_time": "2025-01-24T04:13:30.604Z"
   },
   {
    "duration": 283,
    "start_time": "2025-01-24T04:13:30.613Z"
   },
   {
    "duration": 236,
    "start_time": "2025-01-24T04:13:30.899Z"
   },
   {
    "duration": 177,
    "start_time": "2025-01-24T04:13:31.137Z"
   },
   {
    "duration": 302,
    "start_time": "2025-01-24T04:13:31.316Z"
   },
   {
    "duration": 14,
    "start_time": "2025-01-24T04:13:31.619Z"
   },
   {
    "duration": 3,
    "start_time": "2025-01-24T04:13:31.635Z"
   },
   {
    "duration": 4,
    "start_time": "2025-01-24T04:13:31.654Z"
   },
   {
    "duration": 11,
    "start_time": "2025-01-24T04:13:31.659Z"
   },
   {
    "duration": 7,
    "start_time": "2025-01-24T04:13:31.672Z"
   },
   {
    "duration": 66,
    "start_time": "2025-01-24T04:13:31.681Z"
   },
   {
    "duration": 68,
    "start_time": "2025-01-24T04:13:31.749Z"
   },
   {
    "duration": 22,
    "start_time": "2025-01-24T04:13:31.819Z"
   },
   {
    "duration": 5917,
    "start_time": "2025-01-24T04:13:31.842Z"
   },
   {
    "duration": 4,
    "start_time": "2025-01-24T04:13:37.761Z"
   },
   {
    "duration": 366,
    "start_time": "2025-01-24T04:13:37.766Z"
   },
   {
    "duration": 4,
    "start_time": "2025-01-24T04:13:38.134Z"
   },
   {
    "duration": 20314,
    "start_time": "2025-01-24T04:13:38.139Z"
   },
   {
    "duration": 120,
    "start_time": "2025-01-24T04:13:58.454Z"
   },
   {
    "duration": 0,
    "start_time": "2025-01-24T04:13:58.576Z"
   },
   {
    "duration": 0,
    "start_time": "2025-01-24T04:13:58.577Z"
   },
   {
    "duration": 0,
    "start_time": "2025-01-24T04:13:58.578Z"
   },
   {
    "duration": 0,
    "start_time": "2025-01-24T04:13:58.579Z"
   },
   {
    "duration": 0,
    "start_time": "2025-01-24T04:13:58.580Z"
   },
   {
    "duration": 1445,
    "start_time": "2025-01-24T04:14:21.016Z"
   },
   {
    "duration": 4,
    "start_time": "2025-01-24T04:14:22.463Z"
   },
   {
    "duration": 36,
    "start_time": "2025-01-24T04:14:22.468Z"
   },
   {
    "duration": 4,
    "start_time": "2025-01-24T04:14:22.506Z"
   },
   {
    "duration": 7,
    "start_time": "2025-01-24T04:14:22.511Z"
   },
   {
    "duration": 50,
    "start_time": "2025-01-24T04:14:22.519Z"
   },
   {
    "duration": 9,
    "start_time": "2025-01-24T04:14:22.570Z"
   },
   {
    "duration": 13,
    "start_time": "2025-01-24T04:14:22.580Z"
   },
   {
    "duration": 3,
    "start_time": "2025-01-24T04:14:22.594Z"
   },
   {
    "duration": 6,
    "start_time": "2025-01-24T04:14:22.599Z"
   },
   {
    "duration": 10,
    "start_time": "2025-01-24T04:14:22.606Z"
   },
   {
    "duration": 7,
    "start_time": "2025-01-24T04:14:22.617Z"
   },
   {
    "duration": 305,
    "start_time": "2025-01-24T04:14:22.625Z"
   },
   {
    "duration": 250,
    "start_time": "2025-01-24T04:14:22.932Z"
   },
   {
    "duration": 180,
    "start_time": "2025-01-24T04:14:23.183Z"
   },
   {
    "duration": 295,
    "start_time": "2025-01-24T04:14:23.364Z"
   },
   {
    "duration": 13,
    "start_time": "2025-01-24T04:14:23.661Z"
   },
   {
    "duration": 3,
    "start_time": "2025-01-24T04:14:23.676Z"
   },
   {
    "duration": 4,
    "start_time": "2025-01-24T04:14:23.680Z"
   },
   {
    "duration": 6,
    "start_time": "2025-01-24T04:14:23.686Z"
   },
   {
    "duration": 4,
    "start_time": "2025-01-24T04:14:23.693Z"
   },
   {
    "duration": 3,
    "start_time": "2025-01-24T04:14:23.698Z"
   },
   {
    "duration": 3,
    "start_time": "2025-01-24T04:14:23.702Z"
   },
   {
    "duration": 4,
    "start_time": "2025-01-24T04:14:23.706Z"
   },
   {
    "duration": 6448,
    "start_time": "2025-01-24T04:14:23.711Z"
   },
   {
    "duration": 4,
    "start_time": "2025-01-24T04:14:30.161Z"
   },
   {
    "duration": 363,
    "start_time": "2025-01-24T04:14:30.167Z"
   },
   {
    "duration": 5,
    "start_time": "2025-01-24T04:14:30.532Z"
   },
   {
    "duration": 21155,
    "start_time": "2025-01-24T04:14:30.538Z"
   },
   {
    "duration": 5,
    "start_time": "2025-01-24T04:14:51.694Z"
   },
   {
    "duration": 21344,
    "start_time": "2025-01-24T04:14:51.700Z"
   },
   {
    "duration": 14,
    "start_time": "2025-01-24T04:15:13.045Z"
   },
   {
    "duration": 18,
    "start_time": "2025-01-24T04:15:13.060Z"
   },
   {
    "duration": 78,
    "start_time": "2025-01-24T04:15:13.079Z"
   },
   {
    "duration": 7,
    "start_time": "2025-01-24T04:15:13.159Z"
   },
   {
    "duration": 1389,
    "start_time": "2025-01-24T04:21:02.961Z"
   },
   {
    "duration": 5,
    "start_time": "2025-01-24T04:21:04.352Z"
   },
   {
    "duration": 19,
    "start_time": "2025-01-24T04:21:04.358Z"
   },
   {
    "duration": 39,
    "start_time": "2025-01-24T04:21:04.379Z"
   },
   {
    "duration": 9,
    "start_time": "2025-01-24T04:21:04.420Z"
   },
   {
    "duration": 50,
    "start_time": "2025-01-24T04:21:04.431Z"
   },
   {
    "duration": 46,
    "start_time": "2025-01-24T04:21:04.483Z"
   },
   {
    "duration": 19,
    "start_time": "2025-01-24T04:21:04.531Z"
   },
   {
    "duration": 14,
    "start_time": "2025-01-24T04:21:04.551Z"
   },
   {
    "duration": 11,
    "start_time": "2025-01-24T04:21:04.568Z"
   },
   {
    "duration": 15,
    "start_time": "2025-01-24T04:21:04.580Z"
   },
   {
    "duration": 13,
    "start_time": "2025-01-24T04:21:04.597Z"
   },
   {
    "duration": 296,
    "start_time": "2025-01-24T04:21:04.611Z"
   },
   {
    "duration": 241,
    "start_time": "2025-01-24T04:21:04.909Z"
   },
   {
    "duration": 171,
    "start_time": "2025-01-24T04:21:05.153Z"
   },
   {
    "duration": 301,
    "start_time": "2025-01-24T04:21:05.326Z"
   },
   {
    "duration": 14,
    "start_time": "2025-01-24T04:21:05.628Z"
   },
   {
    "duration": 27,
    "start_time": "2025-01-24T04:21:05.643Z"
   },
   {
    "duration": 9,
    "start_time": "2025-01-24T04:21:05.671Z"
   },
   {
    "duration": 31,
    "start_time": "2025-01-24T04:21:05.681Z"
   },
   {
    "duration": 125,
    "start_time": "2025-01-24T04:21:05.714Z"
   },
   {
    "duration": 20,
    "start_time": "2025-01-24T04:21:05.841Z"
   },
   {
    "duration": 21,
    "start_time": "2025-01-24T04:21:05.862Z"
   },
   {
    "duration": 35,
    "start_time": "2025-01-24T04:21:05.885Z"
   },
   {
    "duration": 61489,
    "start_time": "2025-01-24T04:21:05.922Z"
   },
   {
    "duration": 0,
    "start_time": "2025-01-24T04:22:07.413Z"
   },
   {
    "duration": 0,
    "start_time": "2025-01-24T04:22:07.415Z"
   },
   {
    "duration": 0,
    "start_time": "2025-01-24T04:22:07.416Z"
   },
   {
    "duration": 0,
    "start_time": "2025-01-24T04:22:07.417Z"
   },
   {
    "duration": 0,
    "start_time": "2025-01-24T04:22:07.418Z"
   },
   {
    "duration": 0,
    "start_time": "2025-01-24T04:22:07.419Z"
   },
   {
    "duration": 0,
    "start_time": "2025-01-24T04:22:07.420Z"
   },
   {
    "duration": 0,
    "start_time": "2025-01-24T04:22:07.421Z"
   },
   {
    "duration": 0,
    "start_time": "2025-01-24T04:22:07.422Z"
   },
   {
    "duration": 0,
    "start_time": "2025-01-24T04:22:07.423Z"
   },
   {
    "duration": 1458,
    "start_time": "2025-01-24T04:23:04.748Z"
   },
   {
    "duration": 4,
    "start_time": "2025-01-24T04:23:06.208Z"
   },
   {
    "duration": 34,
    "start_time": "2025-01-24T04:23:06.213Z"
   },
   {
    "duration": 10,
    "start_time": "2025-01-24T04:23:06.248Z"
   },
   {
    "duration": 9,
    "start_time": "2025-01-24T04:23:06.260Z"
   },
   {
    "duration": 51,
    "start_time": "2025-01-24T04:23:06.271Z"
   },
   {
    "duration": 10,
    "start_time": "2025-01-24T04:23:06.323Z"
   },
   {
    "duration": 31,
    "start_time": "2025-01-24T04:23:06.334Z"
   },
   {
    "duration": 4,
    "start_time": "2025-01-24T04:23:06.366Z"
   },
   {
    "duration": 9,
    "start_time": "2025-01-24T04:23:06.372Z"
   },
   {
    "duration": 14,
    "start_time": "2025-01-24T04:23:06.383Z"
   },
   {
    "duration": 9,
    "start_time": "2025-01-24T04:23:06.399Z"
   },
   {
    "duration": 358,
    "start_time": "2025-01-24T04:23:06.410Z"
   },
   {
    "duration": 278,
    "start_time": "2025-01-24T04:23:06.772Z"
   },
   {
    "duration": 190,
    "start_time": "2025-01-24T04:23:07.053Z"
   },
   {
    "duration": 298,
    "start_time": "2025-01-24T04:23:07.245Z"
   },
   {
    "duration": 19,
    "start_time": "2025-01-24T04:23:07.545Z"
   },
   {
    "duration": 4,
    "start_time": "2025-01-24T04:23:07.566Z"
   },
   {
    "duration": 5,
    "start_time": "2025-01-24T04:23:07.573Z"
   },
   {
    "duration": 11,
    "start_time": "2025-01-24T04:23:07.580Z"
   },
   {
    "duration": 6,
    "start_time": "2025-01-24T04:23:07.594Z"
   },
   {
    "duration": 17,
    "start_time": "2025-01-24T04:23:07.602Z"
   },
   {
    "duration": 5,
    "start_time": "2025-01-24T04:23:07.621Z"
   },
   {
    "duration": 26,
    "start_time": "2025-01-24T04:23:07.628Z"
   },
   {
    "duration": 159738,
    "start_time": "2025-01-24T04:23:07.656Z"
   },
   {
    "duration": 0,
    "start_time": "2025-01-24T04:25:47.396Z"
   },
   {
    "duration": 0,
    "start_time": "2025-01-24T04:25:47.397Z"
   },
   {
    "duration": 0,
    "start_time": "2025-01-24T04:25:47.398Z"
   },
   {
    "duration": 0,
    "start_time": "2025-01-24T04:25:47.399Z"
   },
   {
    "duration": 0,
    "start_time": "2025-01-24T04:25:47.400Z"
   },
   {
    "duration": 0,
    "start_time": "2025-01-24T04:25:47.401Z"
   },
   {
    "duration": 0,
    "start_time": "2025-01-24T04:25:47.402Z"
   },
   {
    "duration": 0,
    "start_time": "2025-01-24T04:25:47.403Z"
   },
   {
    "duration": 0,
    "start_time": "2025-01-24T04:25:47.404Z"
   },
   {
    "duration": 0,
    "start_time": "2025-01-24T04:25:47.405Z"
   },
   {
    "duration": 1418,
    "start_time": "2025-01-24T04:28:30.268Z"
   },
   {
    "duration": 4,
    "start_time": "2025-01-24T04:28:31.688Z"
   },
   {
    "duration": 22,
    "start_time": "2025-01-24T04:28:31.693Z"
   },
   {
    "duration": 116,
    "start_time": "2025-01-24T04:28:31.717Z"
   },
   {
    "duration": 22,
    "start_time": "2025-01-24T04:28:31.835Z"
   },
   {
    "duration": 41,
    "start_time": "2025-01-24T04:28:31.858Z"
   },
   {
    "duration": 9,
    "start_time": "2025-01-24T04:28:31.900Z"
   },
   {
    "duration": 17,
    "start_time": "2025-01-24T04:28:31.911Z"
   },
   {
    "duration": 4,
    "start_time": "2025-01-24T04:28:31.929Z"
   },
   {
    "duration": 22,
    "start_time": "2025-01-24T04:28:31.934Z"
   },
   {
    "duration": 31,
    "start_time": "2025-01-24T04:28:31.957Z"
   },
   {
    "duration": 19,
    "start_time": "2025-01-24T04:28:31.990Z"
   },
   {
    "duration": 292,
    "start_time": "2025-01-24T04:28:32.011Z"
   },
   {
    "duration": 237,
    "start_time": "2025-01-24T04:28:32.305Z"
   },
   {
    "duration": 184,
    "start_time": "2025-01-24T04:28:32.543Z"
   },
   {
    "duration": 305,
    "start_time": "2025-01-24T04:28:32.728Z"
   },
   {
    "duration": 23,
    "start_time": "2025-01-24T04:28:33.034Z"
   },
   {
    "duration": 4,
    "start_time": "2025-01-24T04:28:33.058Z"
   },
   {
    "duration": 21,
    "start_time": "2025-01-24T04:28:33.063Z"
   },
   {
    "duration": 10,
    "start_time": "2025-01-24T04:28:33.086Z"
   },
   {
    "duration": 18,
    "start_time": "2025-01-24T04:28:33.098Z"
   },
   {
    "duration": 8,
    "start_time": "2025-01-24T04:28:33.117Z"
   },
   {
    "duration": 4,
    "start_time": "2025-01-24T04:28:33.126Z"
   },
   {
    "duration": 6,
    "start_time": "2025-01-24T04:28:33.131Z"
   },
   {
    "duration": 38621,
    "start_time": "2025-01-24T04:28:33.139Z"
   },
   {
    "duration": 4,
    "start_time": "2025-01-24T04:29:11.762Z"
   },
   {
    "duration": 378,
    "start_time": "2025-01-24T04:29:11.768Z"
   },
   {
    "duration": 4,
    "start_time": "2025-01-24T04:29:12.147Z"
   },
   {
    "duration": 19357,
    "start_time": "2025-01-24T04:29:12.152Z"
   },
   {
    "duration": 5,
    "start_time": "2025-01-24T04:29:31.511Z"
   },
   {
    "duration": 21351,
    "start_time": "2025-01-24T04:29:31.517Z"
   },
   {
    "duration": 128,
    "start_time": "2025-01-24T04:29:52.870Z"
   },
   {
    "duration": 0,
    "start_time": "2025-01-24T04:29:52.999Z"
   },
   {
    "duration": 0,
    "start_time": "2025-01-24T04:29:53.001Z"
   },
   {
    "duration": 0,
    "start_time": "2025-01-24T04:29:53.002Z"
   },
   {
    "duration": 0,
    "start_time": "2025-01-24T04:29:53.004Z"
   },
   {
    "duration": 1385,
    "start_time": "2025-01-24T04:30:56.100Z"
   },
   {
    "duration": 3,
    "start_time": "2025-01-24T04:30:57.487Z"
   },
   {
    "duration": 11,
    "start_time": "2025-01-24T04:30:57.492Z"
   },
   {
    "duration": 20,
    "start_time": "2025-01-24T04:30:57.504Z"
   },
   {
    "duration": 3,
    "start_time": "2025-01-24T04:30:57.526Z"
   },
   {
    "duration": 41,
    "start_time": "2025-01-24T04:30:57.530Z"
   },
   {
    "duration": 10,
    "start_time": "2025-01-24T04:30:57.572Z"
   },
   {
    "duration": 9,
    "start_time": "2025-01-24T04:30:57.583Z"
   },
   {
    "duration": 8,
    "start_time": "2025-01-24T04:30:57.594Z"
   },
   {
    "duration": 12,
    "start_time": "2025-01-24T04:30:57.603Z"
   },
   {
    "duration": 22,
    "start_time": "2025-01-24T04:30:57.616Z"
   },
   {
    "duration": 17,
    "start_time": "2025-01-24T04:30:57.640Z"
   },
   {
    "duration": 313,
    "start_time": "2025-01-24T04:30:57.659Z"
   },
   {
    "duration": 254,
    "start_time": "2025-01-24T04:30:57.977Z"
   },
   {
    "duration": 194,
    "start_time": "2025-01-24T04:30:58.233Z"
   },
   {
    "duration": 300,
    "start_time": "2025-01-24T04:30:58.428Z"
   },
   {
    "duration": 13,
    "start_time": "2025-01-24T04:30:58.729Z"
   },
   {
    "duration": 22,
    "start_time": "2025-01-24T04:30:58.753Z"
   },
   {
    "duration": 18,
    "start_time": "2025-01-24T04:30:58.777Z"
   },
   {
    "duration": 4,
    "start_time": "2025-01-24T04:30:58.797Z"
   },
   {
    "duration": 5,
    "start_time": "2025-01-24T04:30:58.802Z"
   },
   {
    "duration": 10,
    "start_time": "2025-01-24T04:30:58.809Z"
   },
   {
    "duration": 14,
    "start_time": "2025-01-24T04:30:58.820Z"
   },
   {
    "duration": 3,
    "start_time": "2025-01-24T04:30:58.836Z"
   },
   {
    "duration": 30423,
    "start_time": "2025-01-24T04:30:58.841Z"
   },
   {
    "duration": 4,
    "start_time": "2025-01-24T04:31:29.266Z"
   },
   {
    "duration": 411,
    "start_time": "2025-01-24T04:31:29.272Z"
   },
   {
    "duration": 5,
    "start_time": "2025-01-24T04:31:29.685Z"
   },
   {
    "duration": 19285,
    "start_time": "2025-01-24T04:31:29.692Z"
   },
   {
    "duration": 4,
    "start_time": "2025-01-24T04:31:48.978Z"
   },
   {
    "duration": 20978,
    "start_time": "2025-01-24T04:31:48.983Z"
   },
   {
    "duration": 4,
    "start_time": "2025-01-24T04:32:09.963Z"
   },
   {
    "duration": 18,
    "start_time": "2025-01-24T04:32:09.968Z"
   },
   {
    "duration": 104,
    "start_time": "2025-01-24T04:32:09.987Z"
   },
   {
    "duration": 14,
    "start_time": "2025-01-24T04:32:10.093Z"
   },
   {
    "duration": 154,
    "start_time": "2025-01-24T04:32:10.108Z"
   },
   {
    "duration": 1417,
    "start_time": "2025-01-24T04:33:49.967Z"
   },
   {
    "duration": 4,
    "start_time": "2025-01-24T04:33:51.386Z"
   },
   {
    "duration": 6,
    "start_time": "2025-01-24T04:33:51.391Z"
   },
   {
    "duration": 4,
    "start_time": "2025-01-24T04:33:51.398Z"
   },
   {
    "duration": 9,
    "start_time": "2025-01-24T04:33:51.404Z"
   },
   {
    "duration": 40,
    "start_time": "2025-01-24T04:33:51.414Z"
   },
   {
    "duration": 11,
    "start_time": "2025-01-24T04:33:51.456Z"
   },
   {
    "duration": 10,
    "start_time": "2025-01-24T04:33:51.468Z"
   },
   {
    "duration": 5,
    "start_time": "2025-01-24T04:33:51.480Z"
   },
   {
    "duration": 7,
    "start_time": "2025-01-24T04:33:51.487Z"
   },
   {
    "duration": 31,
    "start_time": "2025-01-24T04:33:51.495Z"
   },
   {
    "duration": 6,
    "start_time": "2025-01-24T04:33:51.528Z"
   },
   {
    "duration": 299,
    "start_time": "2025-01-24T04:33:51.535Z"
   },
   {
    "duration": 250,
    "start_time": "2025-01-24T04:33:51.835Z"
   },
   {
    "duration": 191,
    "start_time": "2025-01-24T04:33:52.086Z"
   },
   {
    "duration": 307,
    "start_time": "2025-01-24T04:33:52.279Z"
   },
   {
    "duration": 14,
    "start_time": "2025-01-24T04:33:52.587Z"
   },
   {
    "duration": 4,
    "start_time": "2025-01-24T04:33:52.602Z"
   },
   {
    "duration": 4,
    "start_time": "2025-01-24T04:33:52.607Z"
   },
   {
    "duration": 4,
    "start_time": "2025-01-24T04:33:52.612Z"
   },
   {
    "duration": 8,
    "start_time": "2025-01-24T04:33:52.617Z"
   },
   {
    "duration": 28,
    "start_time": "2025-01-24T04:33:52.626Z"
   },
   {
    "duration": 27,
    "start_time": "2025-01-24T04:33:52.656Z"
   },
   {
    "duration": 6,
    "start_time": "2025-01-24T04:33:52.685Z"
   },
   {
    "duration": 6568,
    "start_time": "2025-01-24T04:33:52.693Z"
   },
   {
    "duration": 3,
    "start_time": "2025-01-24T04:33:59.264Z"
   },
   {
    "duration": 380,
    "start_time": "2025-01-24T04:33:59.269Z"
   },
   {
    "duration": 4,
    "start_time": "2025-01-24T04:33:59.655Z"
   },
   {
    "duration": 19284,
    "start_time": "2025-01-24T04:33:59.660Z"
   },
   {
    "duration": 4,
    "start_time": "2025-01-24T04:34:18.946Z"
   },
   {
    "duration": 21348,
    "start_time": "2025-01-24T04:34:18.951Z"
   },
   {
    "duration": 5,
    "start_time": "2025-01-24T04:34:40.300Z"
   },
   {
    "duration": 31,
    "start_time": "2025-01-24T04:34:40.306Z"
   },
   {
    "duration": 53,
    "start_time": "2025-01-24T04:34:40.338Z"
   },
   {
    "duration": 8,
    "start_time": "2025-01-24T04:34:40.393Z"
   },
   {
    "duration": 178,
    "start_time": "2025-01-24T04:34:40.402Z"
   },
   {
    "duration": 1371,
    "start_time": "2025-01-24T04:48:05.398Z"
   },
   {
    "duration": 4,
    "start_time": "2025-01-24T04:48:06.771Z"
   },
   {
    "duration": 7,
    "start_time": "2025-01-24T04:48:06.777Z"
   },
   {
    "duration": 9,
    "start_time": "2025-01-24T04:48:06.785Z"
   },
   {
    "duration": 19,
    "start_time": "2025-01-24T04:48:06.796Z"
   },
   {
    "duration": 76,
    "start_time": "2025-01-24T04:48:06.816Z"
   },
   {
    "duration": 14,
    "start_time": "2025-01-24T04:48:06.895Z"
   },
   {
    "duration": 14,
    "start_time": "2025-01-24T04:48:06.910Z"
   },
   {
    "duration": 3,
    "start_time": "2025-01-24T04:48:06.925Z"
   },
   {
    "duration": 7,
    "start_time": "2025-01-24T04:48:06.930Z"
   },
   {
    "duration": 16,
    "start_time": "2025-01-24T04:48:06.938Z"
   },
   {
    "duration": 13,
    "start_time": "2025-01-24T04:48:06.955Z"
   },
   {
    "duration": 281,
    "start_time": "2025-01-24T04:48:06.970Z"
   },
   {
    "duration": 232,
    "start_time": "2025-01-24T04:48:07.254Z"
   },
   {
    "duration": 180,
    "start_time": "2025-01-24T04:48:07.488Z"
   },
   {
    "duration": 313,
    "start_time": "2025-01-24T04:48:07.670Z"
   },
   {
    "duration": 14,
    "start_time": "2025-01-24T04:48:07.985Z"
   },
   {
    "duration": 4,
    "start_time": "2025-01-24T04:48:08.000Z"
   },
   {
    "duration": 10,
    "start_time": "2025-01-24T04:48:08.005Z"
   },
   {
    "duration": 9,
    "start_time": "2025-01-24T04:48:08.016Z"
   },
   {
    "duration": 11,
    "start_time": "2025-01-24T04:48:08.026Z"
   },
   {
    "duration": 3,
    "start_time": "2025-01-24T04:48:08.053Z"
   },
   {
    "duration": 6,
    "start_time": "2025-01-24T04:48:08.057Z"
   },
   {
    "duration": 3,
    "start_time": "2025-01-24T04:48:08.064Z"
   },
   {
    "duration": 16187,
    "start_time": "2025-01-24T04:48:08.069Z"
   },
   {
    "duration": 3,
    "start_time": "2025-01-24T04:48:24.258Z"
   },
   {
    "duration": 355,
    "start_time": "2025-01-24T04:48:24.263Z"
   },
   {
    "duration": 4,
    "start_time": "2025-01-24T04:48:24.620Z"
   },
   {
    "duration": 19527,
    "start_time": "2025-01-24T04:48:24.625Z"
   },
   {
    "duration": 4,
    "start_time": "2025-01-24T04:48:44.154Z"
   },
   {
    "duration": 21182,
    "start_time": "2025-01-24T04:48:44.159Z"
   },
   {
    "duration": 12,
    "start_time": "2025-01-24T04:49:05.342Z"
   },
   {
    "duration": 25,
    "start_time": "2025-01-24T04:49:05.356Z"
   },
   {
    "duration": 74,
    "start_time": "2025-01-24T04:49:05.382Z"
   },
   {
    "duration": 8,
    "start_time": "2025-01-24T04:49:05.458Z"
   },
   {
    "duration": 1427,
    "start_time": "2025-01-24T04:51:38.833Z"
   },
   {
    "duration": 4,
    "start_time": "2025-01-24T04:51:40.262Z"
   },
   {
    "duration": 5,
    "start_time": "2025-01-24T04:51:40.267Z"
   },
   {
    "duration": 5,
    "start_time": "2025-01-24T04:51:40.273Z"
   },
   {
    "duration": 5,
    "start_time": "2025-01-24T04:51:40.280Z"
   },
   {
    "duration": 40,
    "start_time": "2025-01-24T04:51:40.286Z"
   },
   {
    "duration": 11,
    "start_time": "2025-01-24T04:51:40.327Z"
   },
   {
    "duration": 16,
    "start_time": "2025-01-24T04:51:40.339Z"
   },
   {
    "duration": 41,
    "start_time": "2025-01-24T04:51:40.357Z"
   },
   {
    "duration": 7,
    "start_time": "2025-01-24T04:51:40.399Z"
   },
   {
    "duration": 9,
    "start_time": "2025-01-24T04:51:40.408Z"
   },
   {
    "duration": 7,
    "start_time": "2025-01-24T04:51:40.418Z"
   },
   {
    "duration": 281,
    "start_time": "2025-01-24T04:51:40.426Z"
   },
   {
    "duration": 239,
    "start_time": "2025-01-24T04:51:40.710Z"
   },
   {
    "duration": 175,
    "start_time": "2025-01-24T04:51:40.953Z"
   },
   {
    "duration": 290,
    "start_time": "2025-01-24T04:51:41.130Z"
   },
   {
    "duration": 14,
    "start_time": "2025-01-24T04:51:41.421Z"
   },
   {
    "duration": 3,
    "start_time": "2025-01-24T04:51:41.436Z"
   },
   {
    "duration": 16,
    "start_time": "2025-01-24T04:51:41.441Z"
   },
   {
    "duration": 5,
    "start_time": "2025-01-24T04:51:41.458Z"
   },
   {
    "duration": 6,
    "start_time": "2025-01-24T04:51:41.464Z"
   },
   {
    "duration": 3,
    "start_time": "2025-01-24T04:51:41.471Z"
   },
   {
    "duration": 16,
    "start_time": "2025-01-24T04:51:41.475Z"
   },
   {
    "duration": 19,
    "start_time": "2025-01-24T04:51:41.492Z"
   },
   {
    "duration": 14052,
    "start_time": "2025-01-24T04:51:41.512Z"
   },
   {
    "duration": 5,
    "start_time": "2025-01-24T04:51:55.567Z"
   },
   {
    "duration": 330,
    "start_time": "2025-01-24T04:51:55.654Z"
   },
   {
    "duration": 4,
    "start_time": "2025-01-24T04:51:55.985Z"
   },
   {
    "duration": 19793,
    "start_time": "2025-01-24T04:51:55.991Z"
   },
   {
    "duration": 3,
    "start_time": "2025-01-24T04:52:15.786Z"
   },
   {
    "duration": 21381,
    "start_time": "2025-01-24T04:52:15.791Z"
   },
   {
    "duration": 4,
    "start_time": "2025-01-24T04:52:37.174Z"
   },
   {
    "duration": 17,
    "start_time": "2025-01-24T04:52:37.179Z"
   },
   {
    "duration": 80,
    "start_time": "2025-01-24T04:52:37.197Z"
   },
   {
    "duration": 8,
    "start_time": "2025-01-24T04:52:37.279Z"
   },
   {
    "duration": 1354,
    "start_time": "2025-01-24T04:55:44.811Z"
   },
   {
    "duration": 5,
    "start_time": "2025-01-24T04:55:46.167Z"
   },
   {
    "duration": 7,
    "start_time": "2025-01-24T04:55:46.174Z"
   },
   {
    "duration": 5,
    "start_time": "2025-01-24T04:55:46.183Z"
   },
   {
    "duration": 4,
    "start_time": "2025-01-24T04:55:46.189Z"
   },
   {
    "duration": 41,
    "start_time": "2025-01-24T04:55:46.194Z"
   },
   {
    "duration": 20,
    "start_time": "2025-01-24T04:55:46.237Z"
   },
   {
    "duration": 9,
    "start_time": "2025-01-24T04:55:46.259Z"
   },
   {
    "duration": 3,
    "start_time": "2025-01-24T04:55:46.270Z"
   },
   {
    "duration": 6,
    "start_time": "2025-01-24T04:55:46.276Z"
   },
   {
    "duration": 9,
    "start_time": "2025-01-24T04:55:46.283Z"
   },
   {
    "duration": 8,
    "start_time": "2025-01-24T04:55:46.293Z"
   },
   {
    "duration": 320,
    "start_time": "2025-01-24T04:55:46.302Z"
   },
   {
    "duration": 248,
    "start_time": "2025-01-24T04:55:46.624Z"
   },
   {
    "duration": 191,
    "start_time": "2025-01-24T04:55:46.874Z"
   },
   {
    "duration": 296,
    "start_time": "2025-01-24T04:55:47.066Z"
   },
   {
    "duration": 14,
    "start_time": "2025-01-24T04:55:47.363Z"
   },
   {
    "duration": 4,
    "start_time": "2025-01-24T04:55:47.378Z"
   },
   {
    "duration": 19,
    "start_time": "2025-01-24T04:55:47.384Z"
   },
   {
    "duration": 11,
    "start_time": "2025-01-24T04:55:47.404Z"
   },
   {
    "duration": 17,
    "start_time": "2025-01-24T04:55:47.417Z"
   },
   {
    "duration": 32,
    "start_time": "2025-01-24T04:55:47.436Z"
   },
   {
    "duration": 29,
    "start_time": "2025-01-24T04:55:47.469Z"
   },
   {
    "duration": 31,
    "start_time": "2025-01-24T04:55:47.499Z"
   },
   {
    "duration": 1316223,
    "start_time": "2025-01-24T04:55:47.532Z"
   },
   {
    "duration": 4,
    "start_time": "2025-01-24T05:17:43.757Z"
   },
   {
    "duration": 325,
    "start_time": "2025-01-24T05:17:43.762Z"
   },
   {
    "duration": 3,
    "start_time": "2025-01-24T05:17:44.090Z"
   },
   {
    "duration": 19617,
    "start_time": "2025-01-24T05:17:44.095Z"
   },
   {
    "duration": 4,
    "start_time": "2025-01-24T05:18:03.714Z"
   },
   {
    "duration": 21197,
    "start_time": "2025-01-24T05:18:03.719Z"
   },
   {
    "duration": 5,
    "start_time": "2025-01-24T05:18:24.917Z"
   },
   {
    "duration": 25,
    "start_time": "2025-01-24T05:18:24.923Z"
   },
   {
    "duration": 101,
    "start_time": "2025-01-24T05:18:24.954Z"
   },
   {
    "duration": 8,
    "start_time": "2025-01-24T05:18:25.056Z"
   },
   {
    "duration": 1890,
    "start_time": "2025-01-25T16:39:37.405Z"
   },
   {
    "duration": 5,
    "start_time": "2025-01-25T16:39:39.297Z"
   },
   {
    "duration": 56,
    "start_time": "2025-01-25T16:39:39.303Z"
   },
   {
    "duration": 6,
    "start_time": "2025-01-25T16:39:39.360Z"
   },
   {
    "duration": 4,
    "start_time": "2025-01-25T16:39:39.370Z"
   },
   {
    "duration": 81,
    "start_time": "2025-01-25T16:39:39.375Z"
   },
   {
    "duration": 12,
    "start_time": "2025-01-25T16:39:39.457Z"
   },
   {
    "duration": 10,
    "start_time": "2025-01-25T16:39:39.471Z"
   },
   {
    "duration": 4,
    "start_time": "2025-01-25T16:39:39.483Z"
   },
   {
    "duration": 5,
    "start_time": "2025-01-25T16:39:39.489Z"
   },
   {
    "duration": 9,
    "start_time": "2025-01-25T16:39:39.496Z"
   },
   {
    "duration": 8,
    "start_time": "2025-01-25T16:39:39.506Z"
   },
   {
    "duration": 366,
    "start_time": "2025-01-25T16:39:39.515Z"
   },
   {
    "duration": 296,
    "start_time": "2025-01-25T16:39:39.884Z"
   },
   {
    "duration": 241,
    "start_time": "2025-01-25T16:39:40.187Z"
   },
   {
    "duration": 375,
    "start_time": "2025-01-25T16:39:40.431Z"
   },
   {
    "duration": 162,
    "start_time": "2025-01-25T16:39:40.807Z"
   },
   {
    "duration": 0,
    "start_time": "2025-01-25T16:39:40.970Z"
   },
   {
    "duration": 0,
    "start_time": "2025-01-25T16:39:40.972Z"
   },
   {
    "duration": 0,
    "start_time": "2025-01-25T16:39:40.974Z"
   },
   {
    "duration": 0,
    "start_time": "2025-01-25T16:39:40.975Z"
   },
   {
    "duration": 0,
    "start_time": "2025-01-25T16:39:40.986Z"
   },
   {
    "duration": 0,
    "start_time": "2025-01-25T16:39:40.987Z"
   },
   {
    "duration": 0,
    "start_time": "2025-01-25T16:39:40.988Z"
   },
   {
    "duration": 0,
    "start_time": "2025-01-25T16:39:40.989Z"
   },
   {
    "duration": 0,
    "start_time": "2025-01-25T16:39:40.991Z"
   },
   {
    "duration": 0,
    "start_time": "2025-01-25T16:39:40.992Z"
   },
   {
    "duration": 0,
    "start_time": "2025-01-25T16:39:40.993Z"
   },
   {
    "duration": 0,
    "start_time": "2025-01-25T16:39:40.994Z"
   },
   {
    "duration": 0,
    "start_time": "2025-01-25T16:39:40.995Z"
   },
   {
    "duration": 0,
    "start_time": "2025-01-25T16:39:40.996Z"
   },
   {
    "duration": 0,
    "start_time": "2025-01-25T16:39:40.998Z"
   },
   {
    "duration": 0,
    "start_time": "2025-01-25T16:39:40.999Z"
   },
   {
    "duration": 0,
    "start_time": "2025-01-25T16:39:41.000Z"
   },
   {
    "duration": 0,
    "start_time": "2025-01-25T16:39:41.001Z"
   },
   {
    "duration": 0,
    "start_time": "2025-01-25T16:39:41.002Z"
   },
   {
    "duration": 0,
    "start_time": "2025-01-25T16:39:41.004Z"
   },
   {
    "duration": 0,
    "start_time": "2025-01-25T16:39:41.005Z"
   },
   {
    "duration": 0,
    "start_time": "2025-01-25T16:39:41.006Z"
   },
   {
    "duration": 1690,
    "start_time": "2025-01-25T16:40:57.457Z"
   },
   {
    "duration": 5,
    "start_time": "2025-01-25T16:40:59.149Z"
   },
   {
    "duration": 15,
    "start_time": "2025-01-25T16:40:59.155Z"
   },
   {
    "duration": 13,
    "start_time": "2025-01-25T16:40:59.173Z"
   },
   {
    "duration": 5,
    "start_time": "2025-01-25T16:40:59.188Z"
   },
   {
    "duration": 58,
    "start_time": "2025-01-25T16:40:59.194Z"
   },
   {
    "duration": 14,
    "start_time": "2025-01-25T16:40:59.253Z"
   },
   {
    "duration": 18,
    "start_time": "2025-01-25T16:40:59.269Z"
   },
   {
    "duration": 4,
    "start_time": "2025-01-25T16:40:59.289Z"
   },
   {
    "duration": 6,
    "start_time": "2025-01-25T16:40:59.296Z"
   },
   {
    "duration": 10,
    "start_time": "2025-01-25T16:40:59.304Z"
   },
   {
    "duration": 8,
    "start_time": "2025-01-25T16:40:59.315Z"
   },
   {
    "duration": 377,
    "start_time": "2025-01-25T16:40:59.325Z"
   },
   {
    "duration": 288,
    "start_time": "2025-01-25T16:40:59.704Z"
   },
   {
    "duration": 220,
    "start_time": "2025-01-25T16:40:59.994Z"
   },
   {
    "duration": 376,
    "start_time": "2025-01-25T16:41:00.216Z"
   },
   {
    "duration": 168,
    "start_time": "2025-01-25T16:41:00.594Z"
   },
   {
    "duration": 0,
    "start_time": "2025-01-25T16:41:00.765Z"
   },
   {
    "duration": 0,
    "start_time": "2025-01-25T16:41:00.766Z"
   },
   {
    "duration": 0,
    "start_time": "2025-01-25T16:41:00.768Z"
   },
   {
    "duration": 0,
    "start_time": "2025-01-25T16:41:00.769Z"
   },
   {
    "duration": 0,
    "start_time": "2025-01-25T16:41:00.771Z"
   },
   {
    "duration": 0,
    "start_time": "2025-01-25T16:41:00.785Z"
   },
   {
    "duration": 0,
    "start_time": "2025-01-25T16:41:00.787Z"
   },
   {
    "duration": 0,
    "start_time": "2025-01-25T16:41:00.788Z"
   },
   {
    "duration": 0,
    "start_time": "2025-01-25T16:41:00.790Z"
   },
   {
    "duration": 0,
    "start_time": "2025-01-25T16:41:00.791Z"
   },
   {
    "duration": 0,
    "start_time": "2025-01-25T16:41:00.793Z"
   },
   {
    "duration": 0,
    "start_time": "2025-01-25T16:41:00.794Z"
   },
   {
    "duration": 0,
    "start_time": "2025-01-25T16:41:00.797Z"
   },
   {
    "duration": 0,
    "start_time": "2025-01-25T16:41:00.798Z"
   },
   {
    "duration": 0,
    "start_time": "2025-01-25T16:41:00.800Z"
   },
   {
    "duration": 0,
    "start_time": "2025-01-25T16:41:00.801Z"
   },
   {
    "duration": 0,
    "start_time": "2025-01-25T16:41:00.803Z"
   },
   {
    "duration": 0,
    "start_time": "2025-01-25T16:41:00.804Z"
   },
   {
    "duration": 0,
    "start_time": "2025-01-25T16:41:00.806Z"
   },
   {
    "duration": 0,
    "start_time": "2025-01-25T16:41:00.807Z"
   },
   {
    "duration": 0,
    "start_time": "2025-01-25T16:41:00.809Z"
   },
   {
    "duration": 0,
    "start_time": "2025-01-25T16:41:00.810Z"
   },
   {
    "duration": 28,
    "start_time": "2025-01-25T16:42:12.651Z"
   },
   {
    "duration": 5,
    "start_time": "2025-01-25T16:43:08.309Z"
   },
   {
    "duration": 12,
    "start_time": "2025-01-25T16:43:22.968Z"
   },
   {
    "duration": 4,
    "start_time": "2025-01-25T16:43:28.321Z"
   },
   {
    "duration": 4,
    "start_time": "2025-01-25T16:43:53.391Z"
   },
   {
    "duration": 1780,
    "start_time": "2025-01-25T16:44:38.720Z"
   },
   {
    "duration": 5,
    "start_time": "2025-01-25T16:44:40.502Z"
   },
   {
    "duration": 10,
    "start_time": "2025-01-25T16:44:40.508Z"
   },
   {
    "duration": 7,
    "start_time": "2025-01-25T16:44:40.520Z"
   },
   {
    "duration": 5,
    "start_time": "2025-01-25T16:44:40.529Z"
   },
   {
    "duration": 50,
    "start_time": "2025-01-25T16:44:40.536Z"
   },
   {
    "duration": 11,
    "start_time": "2025-01-25T16:44:40.588Z"
   },
   {
    "duration": 11,
    "start_time": "2025-01-25T16:44:40.600Z"
   },
   {
    "duration": 8,
    "start_time": "2025-01-25T16:44:40.616Z"
   },
   {
    "duration": 17,
    "start_time": "2025-01-25T16:44:40.626Z"
   },
   {
    "duration": 23,
    "start_time": "2025-01-25T16:44:40.647Z"
   },
   {
    "duration": 18,
    "start_time": "2025-01-25T16:44:40.672Z"
   },
   {
    "duration": 347,
    "start_time": "2025-01-25T16:44:40.692Z"
   },
   {
    "duration": 273,
    "start_time": "2025-01-25T16:44:41.041Z"
   },
   {
    "duration": 218,
    "start_time": "2025-01-25T16:44:41.316Z"
   },
   {
    "duration": 383,
    "start_time": "2025-01-25T16:44:41.536Z"
   },
   {
    "duration": 10,
    "start_time": "2025-01-25T16:44:41.921Z"
   },
   {
    "duration": 7,
    "start_time": "2025-01-25T16:44:41.933Z"
   },
   {
    "duration": 108,
    "start_time": "2025-01-25T16:44:41.942Z"
   },
   {
    "duration": 0,
    "start_time": "2025-01-25T16:44:42.052Z"
   },
   {
    "duration": 0,
    "start_time": "2025-01-25T16:44:42.053Z"
   },
   {
    "duration": 0,
    "start_time": "2025-01-25T16:44:42.055Z"
   },
   {
    "duration": 0,
    "start_time": "2025-01-25T16:44:42.056Z"
   },
   {
    "duration": 0,
    "start_time": "2025-01-25T16:44:42.057Z"
   },
   {
    "duration": 0,
    "start_time": "2025-01-25T16:44:42.058Z"
   },
   {
    "duration": 0,
    "start_time": "2025-01-25T16:44:42.059Z"
   },
   {
    "duration": 0,
    "start_time": "2025-01-25T16:44:42.060Z"
   },
   {
    "duration": 0,
    "start_time": "2025-01-25T16:44:42.061Z"
   },
   {
    "duration": 0,
    "start_time": "2025-01-25T16:44:42.063Z"
   },
   {
    "duration": 0,
    "start_time": "2025-01-25T16:44:42.064Z"
   },
   {
    "duration": 0,
    "start_time": "2025-01-25T16:44:42.065Z"
   },
   {
    "duration": 0,
    "start_time": "2025-01-25T16:44:42.086Z"
   },
   {
    "duration": 0,
    "start_time": "2025-01-25T16:44:42.087Z"
   },
   {
    "duration": 0,
    "start_time": "2025-01-25T16:44:42.089Z"
   },
   {
    "duration": 0,
    "start_time": "2025-01-25T16:44:42.090Z"
   },
   {
    "duration": 0,
    "start_time": "2025-01-25T16:44:42.091Z"
   },
   {
    "duration": 0,
    "start_time": "2025-01-25T16:44:42.092Z"
   },
   {
    "duration": 0,
    "start_time": "2025-01-25T16:44:42.094Z"
   },
   {
    "duration": 0,
    "start_time": "2025-01-25T16:44:42.095Z"
   },
   {
    "duration": 0,
    "start_time": "2025-01-25T16:44:42.096Z"
   },
   {
    "duration": 330,
    "start_time": "2025-01-25T16:54:43.666Z"
   },
   {
    "duration": 205,
    "start_time": "2025-01-25T16:54:46.214Z"
   },
   {
    "duration": 343,
    "start_time": "2025-01-25T16:54:47.079Z"
   },
   {
    "duration": 208,
    "start_time": "2025-01-25T16:55:07.154Z"
   },
   {
    "duration": 298,
    "start_time": "2025-01-25T16:56:16.041Z"
   },
   {
    "duration": 504,
    "start_time": "2025-01-25T16:57:23.983Z"
   },
   {
    "duration": 219,
    "start_time": "2025-01-25T16:57:35.077Z"
   },
   {
    "duration": 311,
    "start_time": "2025-01-25T16:57:56.527Z"
   },
   {
    "duration": 324,
    "start_time": "2025-01-25T16:57:59.887Z"
   },
   {
    "duration": 337,
    "start_time": "2025-01-25T16:58:00.628Z"
   },
   {
    "duration": 346,
    "start_time": "2025-01-25T16:58:12.322Z"
   },
   {
    "duration": 17,
    "start_time": "2025-01-25T17:02:56.061Z"
   },
   {
    "duration": 1054,
    "start_time": "2025-01-25T17:03:06.871Z"
   },
   {
    "duration": 312,
    "start_time": "2025-01-25T17:03:25.714Z"
   },
   {
    "duration": 1568,
    "start_time": "2025-01-25T17:55:02.210Z"
   },
   {
    "duration": 5,
    "start_time": "2025-01-25T17:55:03.780Z"
   },
   {
    "duration": 21,
    "start_time": "2025-01-25T17:55:03.786Z"
   },
   {
    "duration": 70,
    "start_time": "2025-01-25T17:55:03.810Z"
   },
   {
    "duration": 31,
    "start_time": "2025-01-25T17:55:03.882Z"
   },
   {
    "duration": 49,
    "start_time": "2025-01-25T17:55:03.915Z"
   },
   {
    "duration": 10,
    "start_time": "2025-01-25T17:55:03.966Z"
   },
   {
    "duration": 23,
    "start_time": "2025-01-25T17:55:03.978Z"
   },
   {
    "duration": 7,
    "start_time": "2025-01-25T17:55:04.003Z"
   },
   {
    "duration": 13,
    "start_time": "2025-01-25T17:55:04.013Z"
   },
   {
    "duration": 25,
    "start_time": "2025-01-25T17:55:04.028Z"
   },
   {
    "duration": 30,
    "start_time": "2025-01-25T17:55:04.054Z"
   },
   {
    "duration": 363,
    "start_time": "2025-01-25T17:55:04.086Z"
   },
   {
    "duration": 289,
    "start_time": "2025-01-25T17:55:04.451Z"
   },
   {
    "duration": 227,
    "start_time": "2025-01-25T17:55:04.741Z"
   },
   {
    "duration": 370,
    "start_time": "2025-01-25T17:55:04.970Z"
   },
   {
    "duration": 5,
    "start_time": "2025-01-25T17:55:05.342Z"
   },
   {
    "duration": 329,
    "start_time": "2025-01-25T17:55:05.349Z"
   },
   {
    "duration": 371,
    "start_time": "2025-01-25T17:55:05.680Z"
   },
   {
    "duration": 317,
    "start_time": "2025-01-25T17:55:06.053Z"
   },
   {
    "duration": 24,
    "start_time": "2025-01-25T17:55:06.372Z"
   },
   {
    "duration": 8,
    "start_time": "2025-01-25T17:55:06.397Z"
   },
   {
    "duration": 17,
    "start_time": "2025-01-25T17:55:06.406Z"
   },
   {
    "duration": 160,
    "start_time": "2025-01-25T17:55:06.425Z"
   },
   {
    "duration": 0,
    "start_time": "2025-01-25T17:55:06.587Z"
   },
   {
    "duration": 0,
    "start_time": "2025-01-25T17:55:06.588Z"
   },
   {
    "duration": 0,
    "start_time": "2025-01-25T17:55:06.590Z"
   },
   {
    "duration": 0,
    "start_time": "2025-01-25T17:55:06.591Z"
   },
   {
    "duration": 0,
    "start_time": "2025-01-25T17:55:06.592Z"
   },
   {
    "duration": 0,
    "start_time": "2025-01-25T17:55:06.594Z"
   },
   {
    "duration": 0,
    "start_time": "2025-01-25T17:55:06.595Z"
   },
   {
    "duration": 0,
    "start_time": "2025-01-25T17:55:06.597Z"
   },
   {
    "duration": 0,
    "start_time": "2025-01-25T17:55:06.598Z"
   },
   {
    "duration": 0,
    "start_time": "2025-01-25T17:55:06.599Z"
   },
   {
    "duration": 0,
    "start_time": "2025-01-25T17:55:06.601Z"
   },
   {
    "duration": 0,
    "start_time": "2025-01-25T17:55:06.602Z"
   },
   {
    "duration": 0,
    "start_time": "2025-01-25T17:55:06.603Z"
   },
   {
    "duration": 0,
    "start_time": "2025-01-25T17:55:06.604Z"
   },
   {
    "duration": 0,
    "start_time": "2025-01-25T17:55:06.605Z"
   },
   {
    "duration": 1628,
    "start_time": "2025-01-25T17:57:24.979Z"
   },
   {
    "duration": 5,
    "start_time": "2025-01-25T17:57:26.609Z"
   },
   {
    "duration": 81,
    "start_time": "2025-01-25T17:57:26.615Z"
   },
   {
    "duration": 6,
    "start_time": "2025-01-25T17:57:26.699Z"
   },
   {
    "duration": 11,
    "start_time": "2025-01-25T17:57:26.707Z"
   },
   {
    "duration": 69,
    "start_time": "2025-01-25T17:57:26.720Z"
   },
   {
    "duration": 13,
    "start_time": "2025-01-25T17:57:26.791Z"
   },
   {
    "duration": 53,
    "start_time": "2025-01-25T17:57:26.805Z"
   },
   {
    "duration": 4,
    "start_time": "2025-01-25T17:57:26.860Z"
   },
   {
    "duration": 10,
    "start_time": "2025-01-25T17:57:26.868Z"
   },
   {
    "duration": 15,
    "start_time": "2025-01-25T17:57:26.880Z"
   },
   {
    "duration": 7,
    "start_time": "2025-01-25T17:57:26.896Z"
   },
   {
    "duration": 359,
    "start_time": "2025-01-25T17:57:26.905Z"
   },
   {
    "duration": 283,
    "start_time": "2025-01-25T17:57:27.266Z"
   },
   {
    "duration": 221,
    "start_time": "2025-01-25T17:57:27.551Z"
   },
   {
    "duration": 356,
    "start_time": "2025-01-25T17:57:27.774Z"
   },
   {
    "duration": 7,
    "start_time": "2025-01-25T17:57:28.132Z"
   },
   {
    "duration": 321,
    "start_time": "2025-01-25T17:57:28.140Z"
   },
   {
    "duration": 372,
    "start_time": "2025-01-25T17:57:28.463Z"
   },
   {
    "duration": 324,
    "start_time": "2025-01-25T17:57:28.837Z"
   },
   {
    "duration": 23,
    "start_time": "2025-01-25T17:57:29.163Z"
   },
   {
    "duration": 4,
    "start_time": "2025-01-25T17:57:29.188Z"
   },
   {
    "duration": 7,
    "start_time": "2025-01-25T17:57:29.194Z"
   },
   {
    "duration": 13,
    "start_time": "2025-01-25T17:57:29.202Z"
   },
   {
    "duration": 8,
    "start_time": "2025-01-25T17:57:29.217Z"
   },
   {
    "duration": 14,
    "start_time": "2025-01-25T17:57:29.227Z"
   },
   {
    "duration": 26,
    "start_time": "2025-01-25T17:57:29.243Z"
   },
   {
    "duration": 5,
    "start_time": "2025-01-25T17:57:29.273Z"
   },
   {
    "duration": 2533815,
    "start_time": "2025-01-25T17:57:29.279Z"
   },
   {
    "duration": 5,
    "start_time": "2025-01-25T18:39:43.095Z"
   },
   {
    "duration": 581,
    "start_time": "2025-01-25T18:39:43.101Z"
   },
   {
    "duration": 4,
    "start_time": "2025-01-25T18:39:43.686Z"
   },
   {
    "duration": 31943,
    "start_time": "2025-01-25T18:39:43.692Z"
   },
   {
    "duration": 5,
    "start_time": "2025-01-25T18:40:15.637Z"
   },
   {
    "duration": 29615,
    "start_time": "2025-01-25T18:40:15.644Z"
   },
   {
    "duration": 5,
    "start_time": "2025-01-25T18:40:45.261Z"
   },
   {
    "duration": 59,
    "start_time": "2025-01-25T18:40:45.268Z"
   },
   {
    "duration": 58,
    "start_time": "2025-01-25T18:40:45.328Z"
   },
   {
    "duration": 8,
    "start_time": "2025-01-25T18:40:45.388Z"
   },
   {
    "duration": 1582,
    "start_time": "2025-01-25T19:16:35.776Z"
   },
   {
    "duration": 5,
    "start_time": "2025-01-25T19:16:37.360Z"
   },
   {
    "duration": 56,
    "start_time": "2025-01-25T19:16:37.366Z"
   },
   {
    "duration": 12,
    "start_time": "2025-01-25T19:16:37.424Z"
   },
   {
    "duration": 27,
    "start_time": "2025-01-25T19:16:37.438Z"
   },
   {
    "duration": 67,
    "start_time": "2025-01-25T19:16:37.466Z"
   },
   {
    "duration": 11,
    "start_time": "2025-01-25T19:16:37.535Z"
   },
   {
    "duration": 22,
    "start_time": "2025-01-25T19:16:37.548Z"
   },
   {
    "duration": 36,
    "start_time": "2025-01-25T19:16:37.572Z"
   },
   {
    "duration": 31,
    "start_time": "2025-01-25T19:16:37.610Z"
   },
   {
    "duration": 22,
    "start_time": "2025-01-25T19:16:37.644Z"
   },
   {
    "duration": 26,
    "start_time": "2025-01-25T19:16:37.668Z"
   },
   {
    "duration": 377,
    "start_time": "2025-01-25T19:16:37.696Z"
   },
   {
    "duration": 286,
    "start_time": "2025-01-25T19:16:38.077Z"
   },
   {
    "duration": 220,
    "start_time": "2025-01-25T19:16:38.366Z"
   },
   {
    "duration": 352,
    "start_time": "2025-01-25T19:16:38.587Z"
   },
   {
    "duration": 6,
    "start_time": "2025-01-25T19:16:38.941Z"
   },
   {
    "duration": 350,
    "start_time": "2025-01-25T19:16:38.948Z"
   },
   {
    "duration": 371,
    "start_time": "2025-01-25T19:16:39.300Z"
   },
   {
    "duration": 332,
    "start_time": "2025-01-25T19:16:39.672Z"
   },
   {
    "duration": 15,
    "start_time": "2025-01-25T19:16:40.006Z"
   },
   {
    "duration": 10,
    "start_time": "2025-01-25T19:16:40.022Z"
   },
   {
    "duration": 5,
    "start_time": "2025-01-25T19:16:40.034Z"
   },
   {
    "duration": 51,
    "start_time": "2025-01-25T19:16:40.041Z"
   },
   {
    "duration": 12,
    "start_time": "2025-01-25T19:16:40.094Z"
   },
   {
    "duration": 22,
    "start_time": "2025-01-25T19:16:40.107Z"
   },
   {
    "duration": 5,
    "start_time": "2025-01-25T19:16:40.131Z"
   },
   {
    "duration": 17,
    "start_time": "2025-01-25T19:16:40.138Z"
   },
   {
    "duration": 588332,
    "start_time": "2025-01-25T19:16:40.157Z"
   },
   {
    "duration": 4,
    "start_time": "2025-01-25T19:26:28.491Z"
   },
   {
    "duration": 520,
    "start_time": "2025-01-25T19:26:28.497Z"
   },
   {
    "duration": 3,
    "start_time": "2025-01-25T19:26:29.019Z"
   },
   {
    "duration": 31097,
    "start_time": "2025-01-25T19:26:29.024Z"
   },
   {
    "duration": 4,
    "start_time": "2025-01-25T19:27:00.123Z"
   },
   {
    "duration": 29252,
    "start_time": "2025-01-25T19:27:00.130Z"
   },
   {
    "duration": 4,
    "start_time": "2025-01-25T19:27:29.386Z"
   },
   {
    "duration": 22,
    "start_time": "2025-01-25T19:27:29.392Z"
   },
   {
    "duration": 8,
    "start_time": "2025-01-25T19:27:29.416Z"
   },
   {
    "duration": 9,
    "start_time": "2025-01-25T19:38:45.061Z"
   },
   {
    "duration": 80,
    "start_time": "2025-01-25T20:14:53.656Z"
   },
   {
    "duration": 46,
    "start_time": "2025-01-25T20:14:57.079Z"
   },
   {
    "duration": 1566,
    "start_time": "2025-01-25T20:15:34.823Z"
   },
   {
    "duration": 5,
    "start_time": "2025-01-25T20:15:36.391Z"
   },
   {
    "duration": 35,
    "start_time": "2025-01-25T20:15:36.397Z"
   },
   {
    "duration": 42,
    "start_time": "2025-01-25T20:15:36.434Z"
   },
   {
    "duration": 17,
    "start_time": "2025-01-25T20:15:36.478Z"
   },
   {
    "duration": 56,
    "start_time": "2025-01-25T20:15:36.500Z"
   },
   {
    "duration": 10,
    "start_time": "2025-01-25T20:15:36.558Z"
   },
   {
    "duration": 18,
    "start_time": "2025-01-25T20:15:36.569Z"
   },
   {
    "duration": 12,
    "start_time": "2025-01-25T20:15:36.588Z"
   },
   {
    "duration": 11,
    "start_time": "2025-01-25T20:15:36.602Z"
   },
   {
    "duration": 12,
    "start_time": "2025-01-25T20:15:36.614Z"
   },
   {
    "duration": 7,
    "start_time": "2025-01-25T20:15:36.628Z"
   },
   {
    "duration": 341,
    "start_time": "2025-01-25T20:15:36.637Z"
   },
   {
    "duration": 282,
    "start_time": "2025-01-25T20:15:36.980Z"
   },
   {
    "duration": 223,
    "start_time": "2025-01-25T20:15:37.263Z"
   },
   {
    "duration": 346,
    "start_time": "2025-01-25T20:15:37.488Z"
   },
   {
    "duration": 6,
    "start_time": "2025-01-25T20:15:37.836Z"
   },
   {
    "duration": 321,
    "start_time": "2025-01-25T20:15:37.843Z"
   },
   {
    "duration": 357,
    "start_time": "2025-01-25T20:15:38.165Z"
   },
   {
    "duration": 309,
    "start_time": "2025-01-25T20:15:38.524Z"
   },
   {
    "duration": 14,
    "start_time": "2025-01-25T20:15:38.834Z"
   },
   {
    "duration": 4,
    "start_time": "2025-01-25T20:15:38.850Z"
   },
   {
    "duration": 6,
    "start_time": "2025-01-25T20:15:38.856Z"
   },
   {
    "duration": 25,
    "start_time": "2025-01-25T20:15:38.863Z"
   },
   {
    "duration": 10,
    "start_time": "2025-01-25T20:15:38.890Z"
   },
   {
    "duration": 15,
    "start_time": "2025-01-25T20:15:38.901Z"
   },
   {
    "duration": 3,
    "start_time": "2025-01-25T20:15:38.918Z"
   },
   {
    "duration": 7,
    "start_time": "2025-01-25T20:15:38.925Z"
   },
   {
    "duration": 1582,
    "start_time": "2025-01-25T20:18:08.887Z"
   },
   {
    "duration": 4,
    "start_time": "2025-01-25T20:18:10.471Z"
   },
   {
    "duration": 9,
    "start_time": "2025-01-25T20:18:10.477Z"
   },
   {
    "duration": 22,
    "start_time": "2025-01-25T20:18:10.488Z"
   },
   {
    "duration": 10,
    "start_time": "2025-01-25T20:18:10.512Z"
   },
   {
    "duration": 46,
    "start_time": "2025-01-25T20:18:10.524Z"
   },
   {
    "duration": 11,
    "start_time": "2025-01-25T20:18:10.572Z"
   },
   {
    "duration": 15,
    "start_time": "2025-01-25T20:18:10.585Z"
   },
   {
    "duration": 5,
    "start_time": "2025-01-25T20:18:10.601Z"
   },
   {
    "duration": 11,
    "start_time": "2025-01-25T20:18:10.608Z"
   },
   {
    "duration": 17,
    "start_time": "2025-01-25T20:18:10.620Z"
   },
   {
    "duration": 9,
    "start_time": "2025-01-25T20:18:10.639Z"
   },
   {
    "duration": 360,
    "start_time": "2025-01-25T20:18:10.649Z"
   },
   {
    "duration": 277,
    "start_time": "2025-01-25T20:18:11.011Z"
   },
   {
    "duration": 214,
    "start_time": "2025-01-25T20:18:11.290Z"
   },
   {
    "duration": 357,
    "start_time": "2025-01-25T20:18:11.506Z"
   },
   {
    "duration": 6,
    "start_time": "2025-01-25T20:18:11.865Z"
   },
   {
    "duration": 321,
    "start_time": "2025-01-25T20:18:11.874Z"
   },
   {
    "duration": 361,
    "start_time": "2025-01-25T20:18:12.197Z"
   },
   {
    "duration": 305,
    "start_time": "2025-01-25T20:18:12.561Z"
   },
   {
    "duration": 27,
    "start_time": "2025-01-25T20:18:12.868Z"
   },
   {
    "duration": 5,
    "start_time": "2025-01-25T20:18:12.897Z"
   },
   {
    "duration": 4,
    "start_time": "2025-01-25T20:18:12.904Z"
   },
   {
    "duration": 5,
    "start_time": "2025-01-25T20:18:12.910Z"
   },
   {
    "duration": 6,
    "start_time": "2025-01-25T20:18:12.917Z"
   },
   {
    "duration": 7,
    "start_time": "2025-01-25T20:18:12.925Z"
   },
   {
    "duration": 3,
    "start_time": "2025-01-25T20:18:12.934Z"
   },
   {
    "duration": 6,
    "start_time": "2025-01-25T20:18:12.940Z"
   },
   {
    "duration": 119542,
    "start_time": "2025-01-25T20:18:12.948Z"
   },
   {
    "duration": 4,
    "start_time": "2025-01-25T20:20:12.491Z"
   },
   {
    "duration": 523,
    "start_time": "2025-01-25T20:20:12.497Z"
   },
   {
    "duration": 4,
    "start_time": "2025-01-25T20:20:13.021Z"
   },
   {
    "duration": 30512,
    "start_time": "2025-01-25T20:20:13.027Z"
   },
   {
    "duration": 5,
    "start_time": "2025-01-25T20:20:43.540Z"
   },
   {
    "duration": 29303,
    "start_time": "2025-01-25T20:20:43.546Z"
   },
   {
    "duration": 4,
    "start_time": "2025-01-25T20:21:12.851Z"
   },
   {
    "duration": 30,
    "start_time": "2025-01-25T20:21:12.857Z"
   },
   {
    "duration": 9,
    "start_time": "2025-01-25T20:21:12.888Z"
   },
   {
    "duration": 67,
    "start_time": "2025-01-25T20:21:12.898Z"
   },
   {
    "duration": 129,
    "start_time": "2025-01-25T20:21:12.966Z"
   },
   {
    "duration": 15,
    "start_time": "2025-01-25T20:23:01.516Z"
   },
   {
    "duration": 8,
    "start_time": "2025-01-25T20:23:46.579Z"
   },
   {
    "duration": 1568,
    "start_time": "2025-01-26T00:04:17.314Z"
   },
   {
    "duration": 4,
    "start_time": "2025-01-26T00:04:18.884Z"
   },
   {
    "duration": 4,
    "start_time": "2025-01-26T00:04:18.890Z"
   },
   {
    "duration": 19,
    "start_time": "2025-01-26T00:04:18.896Z"
   },
   {
    "duration": 3,
    "start_time": "2025-01-26T00:04:18.917Z"
   },
   {
    "duration": 44,
    "start_time": "2025-01-26T00:04:18.921Z"
   },
   {
    "duration": 11,
    "start_time": "2025-01-26T00:04:18.967Z"
   },
   {
    "duration": 15,
    "start_time": "2025-01-26T00:04:18.980Z"
   },
   {
    "duration": 6,
    "start_time": "2025-01-26T00:04:18.996Z"
   },
   {
    "duration": 5,
    "start_time": "2025-01-26T00:04:19.005Z"
   },
   {
    "duration": 15,
    "start_time": "2025-01-26T00:04:19.011Z"
   },
   {
    "duration": 7,
    "start_time": "2025-01-26T00:04:19.028Z"
   },
   {
    "duration": 366,
    "start_time": "2025-01-26T00:04:19.036Z"
   },
   {
    "duration": 282,
    "start_time": "2025-01-26T00:04:19.403Z"
   },
   {
    "duration": 207,
    "start_time": "2025-01-26T00:04:19.687Z"
   },
   {
    "duration": 352,
    "start_time": "2025-01-26T00:04:19.896Z"
   },
   {
    "duration": 6,
    "start_time": "2025-01-26T00:04:20.250Z"
   },
   {
    "duration": 322,
    "start_time": "2025-01-26T00:04:20.257Z"
   },
   {
    "duration": 341,
    "start_time": "2025-01-26T00:04:20.581Z"
   },
   {
    "duration": 302,
    "start_time": "2025-01-26T00:04:20.924Z"
   },
   {
    "duration": 14,
    "start_time": "2025-01-26T00:04:21.228Z"
   },
   {
    "duration": 4,
    "start_time": "2025-01-26T00:04:21.244Z"
   },
   {
    "duration": 26,
    "start_time": "2025-01-26T00:04:21.249Z"
   },
   {
    "duration": 33,
    "start_time": "2025-01-26T00:04:21.277Z"
   },
   {
    "duration": 12,
    "start_time": "2025-01-26T00:04:21.311Z"
   },
   {
    "duration": 5,
    "start_time": "2025-01-26T00:04:21.325Z"
   },
   {
    "duration": 5,
    "start_time": "2025-01-26T00:04:21.331Z"
   },
   {
    "duration": 5,
    "start_time": "2025-01-26T00:04:21.339Z"
   },
   {
    "duration": 21851,
    "start_time": "2025-01-26T00:04:21.345Z"
   },
   {
    "duration": 88,
    "start_time": "2025-01-26T00:04:43.198Z"
   },
   {
    "duration": 507,
    "start_time": "2025-01-26T00:04:43.288Z"
   },
   {
    "duration": 4,
    "start_time": "2025-01-26T00:04:43.796Z"
   },
   {
    "duration": 32265,
    "start_time": "2025-01-26T00:04:43.802Z"
   },
   {
    "duration": 4,
    "start_time": "2025-01-26T00:05:16.069Z"
   },
   {
    "duration": 29185,
    "start_time": "2025-01-26T00:05:16.075Z"
   },
   {
    "duration": 4,
    "start_time": "2025-01-26T00:05:45.262Z"
   },
   {
    "duration": 50,
    "start_time": "2025-01-26T00:05:45.268Z"
   },
   {
    "duration": 19,
    "start_time": "2025-01-26T00:05:45.320Z"
   },
   {
    "duration": 67,
    "start_time": "2025-01-26T00:05:45.340Z"
   },
   {
    "duration": 16,
    "start_time": "2025-01-26T00:05:45.409Z"
   },
   {
    "duration": 8,
    "start_time": "2025-01-26T00:05:45.486Z"
   },
   {
    "duration": 1549,
    "start_time": "2025-01-26T00:20:36.507Z"
   },
   {
    "duration": 4,
    "start_time": "2025-01-26T00:20:38.059Z"
   },
   {
    "duration": 18,
    "start_time": "2025-01-26T00:20:38.069Z"
   },
   {
    "duration": 18,
    "start_time": "2025-01-26T00:20:38.089Z"
   },
   {
    "duration": 4,
    "start_time": "2025-01-26T00:20:38.108Z"
   },
   {
    "duration": 46,
    "start_time": "2025-01-26T00:20:38.114Z"
   },
   {
    "duration": 11,
    "start_time": "2025-01-26T00:20:38.162Z"
   },
   {
    "duration": 24,
    "start_time": "2025-01-26T00:20:38.175Z"
   },
   {
    "duration": 3,
    "start_time": "2025-01-26T00:20:38.202Z"
   },
   {
    "duration": 10,
    "start_time": "2025-01-26T00:20:38.207Z"
   },
   {
    "duration": 13,
    "start_time": "2025-01-26T00:20:38.219Z"
   },
   {
    "duration": 11,
    "start_time": "2025-01-26T00:20:38.234Z"
   },
   {
    "duration": 343,
    "start_time": "2025-01-26T00:20:38.246Z"
   },
   {
    "duration": 281,
    "start_time": "2025-01-26T00:20:38.591Z"
   },
   {
    "duration": 217,
    "start_time": "2025-01-26T00:20:38.874Z"
   },
   {
    "duration": 346,
    "start_time": "2025-01-26T00:20:39.092Z"
   },
   {
    "duration": 6,
    "start_time": "2025-01-26T00:20:39.440Z"
   },
   {
    "duration": 307,
    "start_time": "2025-01-26T00:20:39.447Z"
   },
   {
    "duration": 354,
    "start_time": "2025-01-26T00:20:39.756Z"
   },
   {
    "duration": 311,
    "start_time": "2025-01-26T00:20:40.112Z"
   },
   {
    "duration": 15,
    "start_time": "2025-01-26T00:20:40.425Z"
   },
   {
    "duration": 15,
    "start_time": "2025-01-26T00:20:40.442Z"
   },
   {
    "duration": 27,
    "start_time": "2025-01-26T00:20:40.459Z"
   },
   {
    "duration": 10,
    "start_time": "2025-01-26T00:20:40.488Z"
   },
   {
    "duration": 19,
    "start_time": "2025-01-26T00:20:40.500Z"
   },
   {
    "duration": 17,
    "start_time": "2025-01-26T00:20:40.520Z"
   },
   {
    "duration": 20,
    "start_time": "2025-01-26T00:20:40.540Z"
   },
   {
    "duration": 23,
    "start_time": "2025-01-26T00:20:40.561Z"
   },
   {
    "duration": 23106,
    "start_time": "2025-01-26T00:20:40.586Z"
   },
   {
    "duration": 4,
    "start_time": "2025-01-26T00:21:03.694Z"
   },
   {
    "duration": 610,
    "start_time": "2025-01-26T00:21:03.699Z"
   },
   {
    "duration": 4,
    "start_time": "2025-01-26T00:21:04.310Z"
   },
   {
    "duration": 34332,
    "start_time": "2025-01-26T00:21:04.316Z"
   },
   {
    "duration": 5,
    "start_time": "2025-01-26T00:21:38.650Z"
   },
   {
    "duration": 33583,
    "start_time": "2025-01-26T00:21:38.657Z"
   },
   {
    "duration": 4,
    "start_time": "2025-01-26T00:22:12.242Z"
   },
   {
    "duration": 22,
    "start_time": "2025-01-26T00:22:12.248Z"
   },
   {
    "duration": 21,
    "start_time": "2025-01-26T00:22:12.272Z"
   },
   {
    "duration": 39,
    "start_time": "2025-01-26T00:22:12.295Z"
   },
   {
    "duration": 10,
    "start_time": "2025-01-26T00:22:12.336Z"
   },
   {
    "duration": 8,
    "start_time": "2025-01-26T00:22:12.386Z"
   },
   {
    "duration": 1588,
    "start_time": "2025-01-26T00:27:20.046Z"
   },
   {
    "duration": 4,
    "start_time": "2025-01-26T00:27:21.636Z"
   },
   {
    "duration": 19,
    "start_time": "2025-01-26T00:27:21.642Z"
   },
   {
    "duration": 17,
    "start_time": "2025-01-26T00:27:21.663Z"
   },
   {
    "duration": 10,
    "start_time": "2025-01-26T00:27:21.681Z"
   },
   {
    "duration": 47,
    "start_time": "2025-01-26T00:27:21.692Z"
   },
   {
    "duration": 11,
    "start_time": "2025-01-26T00:27:21.741Z"
   },
   {
    "duration": 16,
    "start_time": "2025-01-26T00:27:21.753Z"
   },
   {
    "duration": 4,
    "start_time": "2025-01-26T00:27:21.771Z"
   },
   {
    "duration": 9,
    "start_time": "2025-01-26T00:27:21.778Z"
   },
   {
    "duration": 39,
    "start_time": "2025-01-26T00:27:21.788Z"
   },
   {
    "duration": 15,
    "start_time": "2025-01-26T00:27:21.829Z"
   },
   {
    "duration": 354,
    "start_time": "2025-01-26T00:27:21.846Z"
   },
   {
    "duration": 279,
    "start_time": "2025-01-26T00:27:22.201Z"
   },
   {
    "duration": 211,
    "start_time": "2025-01-26T00:27:22.485Z"
   },
   {
    "duration": 354,
    "start_time": "2025-01-26T00:27:22.698Z"
   },
   {
    "duration": 6,
    "start_time": "2025-01-26T00:27:23.053Z"
   },
   {
    "duration": 318,
    "start_time": "2025-01-26T00:27:23.061Z"
   },
   {
    "duration": 341,
    "start_time": "2025-01-26T00:27:23.385Z"
   },
   {
    "duration": 299,
    "start_time": "2025-01-26T00:27:23.728Z"
   },
   {
    "duration": 15,
    "start_time": "2025-01-26T00:27:24.029Z"
   },
   {
    "duration": 4,
    "start_time": "2025-01-26T00:27:24.046Z"
   },
   {
    "duration": 14,
    "start_time": "2025-01-26T00:27:24.051Z"
   },
   {
    "duration": 23,
    "start_time": "2025-01-26T00:27:24.066Z"
   },
   {
    "duration": 31,
    "start_time": "2025-01-26T00:27:24.090Z"
   },
   {
    "duration": 8,
    "start_time": "2025-01-26T00:27:24.122Z"
   },
   {
    "duration": 9,
    "start_time": "2025-01-26T00:27:24.131Z"
   },
   {
    "duration": 16,
    "start_time": "2025-01-26T00:27:24.144Z"
   },
   {
    "duration": 11234,
    "start_time": "2025-01-26T00:27:24.162Z"
   },
   {
    "duration": 89,
    "start_time": "2025-01-26T00:27:35.398Z"
   },
   {
    "duration": 285,
    "start_time": "2025-01-26T00:27:35.489Z"
   },
   {
    "duration": 4,
    "start_time": "2025-01-26T00:27:35.776Z"
   },
   {
    "duration": 20095,
    "start_time": "2025-01-26T00:27:35.785Z"
   },
   {
    "duration": 4,
    "start_time": "2025-01-26T00:27:55.882Z"
   },
   {
    "duration": 13248,
    "start_time": "2025-01-26T00:27:55.887Z"
   },
   {
    "duration": 5,
    "start_time": "2025-01-26T00:28:09.137Z"
   },
   {
    "duration": 29,
    "start_time": "2025-01-26T00:28:09.144Z"
   },
   {
    "duration": 32,
    "start_time": "2025-01-26T00:28:09.175Z"
   },
   {
    "duration": 54,
    "start_time": "2025-01-26T00:28:09.209Z"
   },
   {
    "duration": 23,
    "start_time": "2025-01-26T00:28:09.265Z"
   },
   {
    "duration": 22,
    "start_time": "2025-01-26T00:28:09.290Z"
   },
   {
    "duration": 1608,
    "start_time": "2025-01-26T03:43:47.882Z"
   },
   {
    "duration": 4,
    "start_time": "2025-01-26T03:43:49.493Z"
   },
   {
    "duration": 5,
    "start_time": "2025-01-26T03:43:49.499Z"
   },
   {
    "duration": 5,
    "start_time": "2025-01-26T03:43:49.505Z"
   },
   {
    "duration": 4,
    "start_time": "2025-01-26T03:43:49.512Z"
   },
   {
    "duration": 42,
    "start_time": "2025-01-26T03:43:49.518Z"
   },
   {
    "duration": 11,
    "start_time": "2025-01-26T03:43:49.562Z"
   },
   {
    "duration": 11,
    "start_time": "2025-01-26T03:43:49.586Z"
   },
   {
    "duration": 8,
    "start_time": "2025-01-26T03:43:49.598Z"
   },
   {
    "duration": 6,
    "start_time": "2025-01-26T03:43:49.608Z"
   },
   {
    "duration": 18,
    "start_time": "2025-01-26T03:43:49.616Z"
   },
   {
    "duration": 8,
    "start_time": "2025-01-26T03:43:49.635Z"
   },
   {
    "duration": 361,
    "start_time": "2025-01-26T03:43:49.645Z"
   },
   {
    "duration": 284,
    "start_time": "2025-01-26T03:43:50.008Z"
   },
   {
    "duration": 214,
    "start_time": "2025-01-26T03:43:50.293Z"
   },
   {
    "duration": 350,
    "start_time": "2025-01-26T03:43:50.509Z"
   },
   {
    "duration": 6,
    "start_time": "2025-01-26T03:43:50.861Z"
   },
   {
    "duration": 310,
    "start_time": "2025-01-26T03:43:50.869Z"
   },
   {
    "duration": 370,
    "start_time": "2025-01-26T03:43:51.181Z"
   },
   {
    "duration": 319,
    "start_time": "2025-01-26T03:43:51.553Z"
   },
   {
    "duration": 25,
    "start_time": "2025-01-26T03:43:51.875Z"
   },
   {
    "duration": 10,
    "start_time": "2025-01-26T03:43:51.901Z"
   },
   {
    "duration": 15,
    "start_time": "2025-01-26T03:43:51.913Z"
   },
   {
    "duration": 5,
    "start_time": "2025-01-26T03:43:51.930Z"
   },
   {
    "duration": 5,
    "start_time": "2025-01-26T03:43:51.937Z"
   },
   {
    "duration": 31,
    "start_time": "2025-01-26T03:43:51.944Z"
   },
   {
    "duration": 10,
    "start_time": "2025-01-26T03:43:51.977Z"
   },
   {
    "duration": 15,
    "start_time": "2025-01-26T03:43:51.991Z"
   },
   {
    "duration": 31385,
    "start_time": "2025-01-26T03:43:52.007Z"
   },
   {
    "duration": 4,
    "start_time": "2025-01-26T03:44:23.393Z"
   },
   {
    "duration": 292,
    "start_time": "2025-01-26T03:44:23.399Z"
   },
   {
    "duration": 4,
    "start_time": "2025-01-26T03:44:23.692Z"
   },
   {
    "duration": 20266,
    "start_time": "2025-01-26T03:44:23.698Z"
   },
   {
    "duration": 4,
    "start_time": "2025-01-26T03:44:43.966Z"
   },
   {
    "duration": 13364,
    "start_time": "2025-01-26T03:44:43.972Z"
   },
   {
    "duration": 4,
    "start_time": "2025-01-26T03:44:57.338Z"
   },
   {
    "duration": 30,
    "start_time": "2025-01-26T03:44:57.344Z"
   },
   {
    "duration": 13,
    "start_time": "2025-01-26T03:44:57.376Z"
   },
   {
    "duration": 44,
    "start_time": "2025-01-26T03:44:57.391Z"
   },
   {
    "duration": 55,
    "start_time": "2025-01-26T03:44:57.437Z"
   },
   {
    "duration": 7,
    "start_time": "2025-01-26T03:44:57.494Z"
   },
   {
    "duration": 1603,
    "start_time": "2025-01-26T03:48:23.477Z"
   },
   {
    "duration": 4,
    "start_time": "2025-01-26T03:48:25.082Z"
   },
   {
    "duration": 5,
    "start_time": "2025-01-26T03:48:25.087Z"
   },
   {
    "duration": 5,
    "start_time": "2025-01-26T03:48:25.094Z"
   },
   {
    "duration": 4,
    "start_time": "2025-01-26T03:48:25.100Z"
   },
   {
    "duration": 44,
    "start_time": "2025-01-26T03:48:25.106Z"
   },
   {
    "duration": 11,
    "start_time": "2025-01-26T03:48:25.151Z"
   },
   {
    "duration": 13,
    "start_time": "2025-01-26T03:48:25.163Z"
   },
   {
    "duration": 4,
    "start_time": "2025-01-26T03:48:25.186Z"
   },
   {
    "duration": 10,
    "start_time": "2025-01-26T03:48:25.192Z"
   },
   {
    "duration": 18,
    "start_time": "2025-01-26T03:48:25.203Z"
   },
   {
    "duration": 8,
    "start_time": "2025-01-26T03:48:25.222Z"
   },
   {
    "duration": 349,
    "start_time": "2025-01-26T03:48:25.231Z"
   },
   {
    "duration": 270,
    "start_time": "2025-01-26T03:48:25.585Z"
   },
   {
    "duration": 213,
    "start_time": "2025-01-26T03:48:25.856Z"
   },
   {
    "duration": 351,
    "start_time": "2025-01-26T03:48:26.071Z"
   },
   {
    "duration": 6,
    "start_time": "2025-01-26T03:48:26.424Z"
   },
   {
    "duration": 331,
    "start_time": "2025-01-26T03:48:26.431Z"
   },
   {
    "duration": 358,
    "start_time": "2025-01-26T03:48:26.764Z"
   },
   {
    "duration": 300,
    "start_time": "2025-01-26T03:48:27.124Z"
   },
   {
    "duration": 16,
    "start_time": "2025-01-26T03:48:27.425Z"
   },
   {
    "duration": 4,
    "start_time": "2025-01-26T03:48:27.443Z"
   },
   {
    "duration": 4,
    "start_time": "2025-01-26T03:48:27.448Z"
   },
   {
    "duration": 5,
    "start_time": "2025-01-26T03:48:27.454Z"
   },
   {
    "duration": 6,
    "start_time": "2025-01-26T03:48:27.485Z"
   },
   {
    "duration": 23,
    "start_time": "2025-01-26T03:48:27.492Z"
   },
   {
    "duration": 4,
    "start_time": "2025-01-26T03:48:27.517Z"
   },
   {
    "duration": 6,
    "start_time": "2025-01-26T03:48:27.524Z"
   },
   {
    "duration": 33055,
    "start_time": "2025-01-26T03:48:27.531Z"
   },
   {
    "duration": 4,
    "start_time": "2025-01-26T03:49:00.588Z"
   },
   {
    "duration": 292,
    "start_time": "2025-01-26T03:49:00.594Z"
   },
   {
    "duration": 3,
    "start_time": "2025-01-26T03:49:00.888Z"
   },
   {
    "duration": 20895,
    "start_time": "2025-01-26T03:49:00.893Z"
   },
   {
    "duration": 5,
    "start_time": "2025-01-26T03:49:21.789Z"
   },
   {
    "duration": 39983,
    "start_time": "2025-01-26T03:49:21.796Z"
   },
   {
    "duration": 8,
    "start_time": "2025-01-26T03:50:01.781Z"
   },
   {
    "duration": 31,
    "start_time": "2025-01-26T03:50:01.790Z"
   },
   {
    "duration": 26,
    "start_time": "2025-01-26T03:50:01.823Z"
   },
   {
    "duration": 84,
    "start_time": "2025-01-26T03:50:01.851Z"
   },
   {
    "duration": 52,
    "start_time": "2025-01-26T03:50:01.937Z"
   },
   {
    "duration": 20,
    "start_time": "2025-01-26T03:50:01.991Z"
   },
   {
    "duration": 1560,
    "start_time": "2025-01-26T03:52:58.031Z"
   },
   {
    "duration": 4,
    "start_time": "2025-01-26T03:52:59.593Z"
   },
   {
    "duration": 6,
    "start_time": "2025-01-26T03:52:59.599Z"
   },
   {
    "duration": 8,
    "start_time": "2025-01-26T03:52:59.606Z"
   },
   {
    "duration": 4,
    "start_time": "2025-01-26T03:52:59.616Z"
   },
   {
    "duration": 45,
    "start_time": "2025-01-26T03:52:59.621Z"
   },
   {
    "duration": 11,
    "start_time": "2025-01-26T03:52:59.667Z"
   },
   {
    "duration": 15,
    "start_time": "2025-01-26T03:52:59.679Z"
   },
   {
    "duration": 4,
    "start_time": "2025-01-26T03:52:59.695Z"
   },
   {
    "duration": 5,
    "start_time": "2025-01-26T03:52:59.701Z"
   },
   {
    "duration": 13,
    "start_time": "2025-01-26T03:52:59.708Z"
   },
   {
    "duration": 7,
    "start_time": "2025-01-26T03:52:59.722Z"
   },
   {
    "duration": 360,
    "start_time": "2025-01-26T03:52:59.731Z"
   },
   {
    "duration": 283,
    "start_time": "2025-01-26T03:53:00.094Z"
   },
   {
    "duration": 215,
    "start_time": "2025-01-26T03:53:00.378Z"
   },
   {
    "duration": 340,
    "start_time": "2025-01-26T03:53:00.595Z"
   },
   {
    "duration": 6,
    "start_time": "2025-01-26T03:53:00.937Z"
   },
   {
    "duration": 344,
    "start_time": "2025-01-26T03:53:00.944Z"
   },
   {
    "duration": 357,
    "start_time": "2025-01-26T03:53:01.289Z"
   },
   {
    "duration": 327,
    "start_time": "2025-01-26T03:53:01.648Z"
   },
   {
    "duration": 21,
    "start_time": "2025-01-26T03:53:01.977Z"
   },
   {
    "duration": 16,
    "start_time": "2025-01-26T03:53:01.999Z"
   },
   {
    "duration": 21,
    "start_time": "2025-01-26T03:53:02.017Z"
   },
   {
    "duration": 62,
    "start_time": "2025-01-26T03:53:02.040Z"
   },
   {
    "duration": 10,
    "start_time": "2025-01-26T03:53:02.103Z"
   },
   {
    "duration": 53,
    "start_time": "2025-01-26T03:53:02.114Z"
   },
   {
    "duration": 30,
    "start_time": "2025-01-26T03:53:02.169Z"
   },
   {
    "duration": 12,
    "start_time": "2025-01-26T03:53:02.201Z"
   },
   {
    "duration": 346271,
    "start_time": "2025-01-26T03:53:02.214Z"
   },
   {
    "duration": 0,
    "start_time": "2025-01-26T03:58:48.487Z"
   },
   {
    "duration": 0,
    "start_time": "2025-01-26T03:58:48.489Z"
   },
   {
    "duration": 0,
    "start_time": "2025-01-26T03:58:48.490Z"
   },
   {
    "duration": 0,
    "start_time": "2025-01-26T03:58:48.491Z"
   },
   {
    "duration": 0,
    "start_time": "2025-01-26T03:58:48.492Z"
   },
   {
    "duration": 0,
    "start_time": "2025-01-26T03:58:48.493Z"
   },
   {
    "duration": 0,
    "start_time": "2025-01-26T03:58:48.494Z"
   },
   {
    "duration": 0,
    "start_time": "2025-01-26T03:58:48.495Z"
   },
   {
    "duration": 0,
    "start_time": "2025-01-26T03:58:48.497Z"
   },
   {
    "duration": 0,
    "start_time": "2025-01-26T03:58:48.498Z"
   },
   {
    "duration": 0,
    "start_time": "2025-01-26T03:58:48.499Z"
   },
   {
    "duration": 0,
    "start_time": "2025-01-26T03:58:48.500Z"
   },
   {
    "duration": 1561,
    "start_time": "2025-01-26T04:01:41.889Z"
   },
   {
    "duration": 4,
    "start_time": "2025-01-26T04:01:43.452Z"
   },
   {
    "duration": 6,
    "start_time": "2025-01-26T04:01:43.457Z"
   },
   {
    "duration": 8,
    "start_time": "2025-01-26T04:01:43.464Z"
   },
   {
    "duration": 12,
    "start_time": "2025-01-26T04:01:43.474Z"
   },
   {
    "duration": 46,
    "start_time": "2025-01-26T04:01:43.487Z"
   },
   {
    "duration": 12,
    "start_time": "2025-01-26T04:01:43.535Z"
   },
   {
    "duration": 11,
    "start_time": "2025-01-26T04:01:43.549Z"
   },
   {
    "duration": 5,
    "start_time": "2025-01-26T04:01:43.562Z"
   },
   {
    "duration": 22,
    "start_time": "2025-01-26T04:01:43.568Z"
   },
   {
    "duration": 16,
    "start_time": "2025-01-26T04:01:43.591Z"
   },
   {
    "duration": 9,
    "start_time": "2025-01-26T04:01:43.608Z"
   },
   {
    "duration": 353,
    "start_time": "2025-01-26T04:01:43.618Z"
   },
   {
    "duration": 274,
    "start_time": "2025-01-26T04:01:43.985Z"
   },
   {
    "duration": 212,
    "start_time": "2025-01-26T04:01:44.261Z"
   },
   {
    "duration": 356,
    "start_time": "2025-01-26T04:01:44.475Z"
   },
   {
    "duration": 6,
    "start_time": "2025-01-26T04:01:44.833Z"
   },
   {
    "duration": 363,
    "start_time": "2025-01-26T04:01:44.840Z"
   },
   {
    "duration": 353,
    "start_time": "2025-01-26T04:01:45.205Z"
   },
   {
    "duration": 307,
    "start_time": "2025-01-26T04:01:45.560Z"
   },
   {
    "duration": 28,
    "start_time": "2025-01-26T04:01:45.869Z"
   },
   {
    "duration": 3,
    "start_time": "2025-01-26T04:01:45.899Z"
   },
   {
    "duration": 6,
    "start_time": "2025-01-26T04:01:45.904Z"
   },
   {
    "duration": 14,
    "start_time": "2025-01-26T04:01:45.912Z"
   },
   {
    "duration": 9,
    "start_time": "2025-01-26T04:01:45.928Z"
   },
   {
    "duration": 6,
    "start_time": "2025-01-26T04:01:45.938Z"
   },
   {
    "duration": 4,
    "start_time": "2025-01-26T04:01:45.946Z"
   },
   {
    "duration": 5,
    "start_time": "2025-01-26T04:01:45.951Z"
   },
   {
    "duration": 1572,
    "start_time": "2025-01-26T04:04:07.211Z"
   },
   {
    "duration": 4,
    "start_time": "2025-01-26T04:04:08.785Z"
   },
   {
    "duration": 9,
    "start_time": "2025-01-26T04:04:08.791Z"
   },
   {
    "duration": 14,
    "start_time": "2025-01-26T04:04:08.802Z"
   },
   {
    "duration": 6,
    "start_time": "2025-01-26T04:04:08.818Z"
   },
   {
    "duration": 43,
    "start_time": "2025-01-26T04:04:08.826Z"
   },
   {
    "duration": 11,
    "start_time": "2025-01-26T04:04:08.871Z"
   },
   {
    "duration": 11,
    "start_time": "2025-01-26T04:04:08.884Z"
   },
   {
    "duration": 4,
    "start_time": "2025-01-26T04:04:08.896Z"
   },
   {
    "duration": 10,
    "start_time": "2025-01-26T04:04:08.902Z"
   },
   {
    "duration": 13,
    "start_time": "2025-01-26T04:04:08.913Z"
   },
   {
    "duration": 8,
    "start_time": "2025-01-26T04:04:08.928Z"
   },
   {
    "duration": 362,
    "start_time": "2025-01-26T04:04:08.937Z"
   },
   {
    "duration": 276,
    "start_time": "2025-01-26T04:04:09.302Z"
   },
   {
    "duration": 209,
    "start_time": "2025-01-26T04:04:09.579Z"
   },
   {
    "duration": 346,
    "start_time": "2025-01-26T04:04:09.790Z"
   },
   {
    "duration": 6,
    "start_time": "2025-01-26T04:04:10.138Z"
   },
   {
    "duration": 311,
    "start_time": "2025-01-26T04:04:10.146Z"
   },
   {
    "duration": 336,
    "start_time": "2025-01-26T04:04:10.458Z"
   },
   {
    "duration": 298,
    "start_time": "2025-01-26T04:04:10.796Z"
   },
   {
    "duration": 17,
    "start_time": "2025-01-26T04:04:11.095Z"
   },
   {
    "duration": 4,
    "start_time": "2025-01-26T04:04:11.113Z"
   },
   {
    "duration": 4,
    "start_time": "2025-01-26T04:04:11.118Z"
   },
   {
    "duration": 7,
    "start_time": "2025-01-26T04:04:11.123Z"
   },
   {
    "duration": 18,
    "start_time": "2025-01-26T04:04:11.131Z"
   },
   {
    "duration": 7,
    "start_time": "2025-01-26T04:04:11.151Z"
   },
   {
    "duration": 27,
    "start_time": "2025-01-26T04:04:11.159Z"
   },
   {
    "duration": 15,
    "start_time": "2025-01-26T04:04:11.188Z"
   },
   {
    "duration": 717194,
    "start_time": "2025-01-26T04:04:11.205Z"
   },
   {
    "duration": 4,
    "start_time": "2025-01-26T04:16:08.400Z"
   },
   {
    "duration": 298,
    "start_time": "2025-01-26T04:16:08.406Z"
   },
   {
    "duration": 3,
    "start_time": "2025-01-26T04:16:08.706Z"
   },
   {
    "duration": 20567,
    "start_time": "2025-01-26T04:16:08.711Z"
   },
   {
    "duration": 4,
    "start_time": "2025-01-26T04:16:29.280Z"
   },
   {
    "duration": 39886,
    "start_time": "2025-01-26T04:16:29.286Z"
   },
   {
    "duration": 4,
    "start_time": "2025-01-26T04:17:09.174Z"
   },
   {
    "duration": 31,
    "start_time": "2025-01-26T04:17:09.179Z"
   },
   {
    "duration": 20,
    "start_time": "2025-01-26T04:17:09.212Z"
   },
   {
    "duration": 58,
    "start_time": "2025-01-26T04:17:09.235Z"
   },
   {
    "duration": 96,
    "start_time": "2025-01-26T04:17:09.295Z"
   },
   {
    "duration": 11,
    "start_time": "2025-01-26T04:17:09.395Z"
   },
   {
    "duration": 1572,
    "start_time": "2025-01-26T04:36:17.899Z"
   },
   {
    "duration": 4,
    "start_time": "2025-01-26T04:36:19.474Z"
   },
   {
    "duration": 11,
    "start_time": "2025-01-26T04:36:19.486Z"
   },
   {
    "duration": 35,
    "start_time": "2025-01-26T04:36:19.499Z"
   },
   {
    "duration": 8,
    "start_time": "2025-01-26T04:36:19.535Z"
   },
   {
    "duration": 58,
    "start_time": "2025-01-26T04:36:19.544Z"
   },
   {
    "duration": 12,
    "start_time": "2025-01-26T04:36:19.604Z"
   },
   {
    "duration": 12,
    "start_time": "2025-01-26T04:36:19.618Z"
   },
   {
    "duration": 4,
    "start_time": "2025-01-26T04:36:19.632Z"
   },
   {
    "duration": 9,
    "start_time": "2025-01-26T04:36:19.640Z"
   },
   {
    "duration": 46,
    "start_time": "2025-01-26T04:36:19.651Z"
   },
   {
    "duration": 9,
    "start_time": "2025-01-26T04:36:19.699Z"
   },
   {
    "duration": 348,
    "start_time": "2025-01-26T04:36:19.709Z"
   },
   {
    "duration": 278,
    "start_time": "2025-01-26T04:36:20.059Z"
   },
   {
    "duration": 219,
    "start_time": "2025-01-26T04:36:20.339Z"
   },
   {
    "duration": 352,
    "start_time": "2025-01-26T04:36:20.560Z"
   },
   {
    "duration": 6,
    "start_time": "2025-01-26T04:36:20.914Z"
   },
   {
    "duration": 317,
    "start_time": "2025-01-26T04:36:20.923Z"
   },
   {
    "duration": 361,
    "start_time": "2025-01-26T04:36:21.242Z"
   },
   {
    "duration": 322,
    "start_time": "2025-01-26T04:36:21.605Z"
   },
   {
    "duration": 16,
    "start_time": "2025-01-26T04:36:21.929Z"
   },
   {
    "duration": 4,
    "start_time": "2025-01-26T04:36:21.946Z"
   },
   {
    "duration": 13,
    "start_time": "2025-01-26T04:36:21.952Z"
   },
   {
    "duration": 20,
    "start_time": "2025-01-26T04:36:21.966Z"
   },
   {
    "duration": 13,
    "start_time": "2025-01-26T04:36:21.987Z"
   },
   {
    "duration": 5,
    "start_time": "2025-01-26T04:36:22.002Z"
   },
   {
    "duration": 5,
    "start_time": "2025-01-26T04:36:22.008Z"
   },
   {
    "duration": 4,
    "start_time": "2025-01-26T04:36:22.016Z"
   },
   {
    "duration": 1572,
    "start_time": "2025-01-26T04:43:14.595Z"
   },
   {
    "duration": 4,
    "start_time": "2025-01-26T04:43:16.169Z"
   },
   {
    "duration": 16,
    "start_time": "2025-01-26T04:43:16.175Z"
   },
   {
    "duration": 21,
    "start_time": "2025-01-26T04:43:16.193Z"
   },
   {
    "duration": 13,
    "start_time": "2025-01-26T04:43:16.216Z"
   },
   {
    "duration": 47,
    "start_time": "2025-01-26T04:43:16.231Z"
   },
   {
    "duration": 10,
    "start_time": "2025-01-26T04:43:16.280Z"
   },
   {
    "duration": 10,
    "start_time": "2025-01-26T04:43:16.292Z"
   },
   {
    "duration": 4,
    "start_time": "2025-01-26T04:43:16.303Z"
   },
   {
    "duration": 5,
    "start_time": "2025-01-26T04:43:16.309Z"
   },
   {
    "duration": 11,
    "start_time": "2025-01-26T04:43:16.316Z"
   },
   {
    "duration": 7,
    "start_time": "2025-01-26T04:43:16.329Z"
   },
   {
    "duration": 381,
    "start_time": "2025-01-26T04:43:16.338Z"
   },
   {
    "duration": 284,
    "start_time": "2025-01-26T04:43:16.721Z"
   },
   {
    "duration": 211,
    "start_time": "2025-01-26T04:43:17.006Z"
   },
   {
    "duration": 348,
    "start_time": "2025-01-26T04:43:17.219Z"
   },
   {
    "duration": 6,
    "start_time": "2025-01-26T04:43:17.569Z"
   },
   {
    "duration": 341,
    "start_time": "2025-01-26T04:43:17.576Z"
   },
   {
    "duration": 415,
    "start_time": "2025-01-26T04:43:17.919Z"
   },
   {
    "duration": 309,
    "start_time": "2025-01-26T04:43:18.336Z"
   },
   {
    "duration": 16,
    "start_time": "2025-01-26T04:43:18.646Z"
   },
   {
    "duration": 23,
    "start_time": "2025-01-26T04:43:18.664Z"
   },
   {
    "duration": 8,
    "start_time": "2025-01-26T04:43:18.688Z"
   },
   {
    "duration": 30,
    "start_time": "2025-01-26T04:43:18.697Z"
   },
   {
    "duration": 6,
    "start_time": "2025-01-26T04:43:18.728Z"
   },
   {
    "duration": 17,
    "start_time": "2025-01-26T04:43:18.735Z"
   },
   {
    "duration": 8,
    "start_time": "2025-01-26T04:43:18.753Z"
   },
   {
    "duration": 4,
    "start_time": "2025-01-26T04:43:18.764Z"
   },
   {
    "duration": 11125,
    "start_time": "2025-01-26T04:43:18.770Z"
   },
   {
    "duration": 4,
    "start_time": "2025-01-26T04:43:29.897Z"
   },
   {
    "duration": 269,
    "start_time": "2025-01-26T04:43:29.986Z"
   },
   {
    "duration": 4,
    "start_time": "2025-01-26T04:43:30.257Z"
   },
   {
    "duration": 20963,
    "start_time": "2025-01-26T04:43:30.262Z"
   },
   {
    "duration": 5,
    "start_time": "2025-01-26T04:43:51.227Z"
   },
   {
    "duration": 1556,
    "start_time": "2025-01-26T04:44:45.697Z"
   },
   {
    "duration": 4,
    "start_time": "2025-01-26T04:44:47.255Z"
   },
   {
    "duration": 44,
    "start_time": "2025-01-26T04:44:47.261Z"
   },
   {
    "duration": 5,
    "start_time": "2025-01-26T04:44:47.307Z"
   },
   {
    "duration": 10,
    "start_time": "2025-01-26T04:44:47.313Z"
   },
   {
    "duration": 42,
    "start_time": "2025-01-26T04:44:47.324Z"
   },
   {
    "duration": 11,
    "start_time": "2025-01-26T04:44:47.367Z"
   },
   {
    "duration": 23,
    "start_time": "2025-01-26T04:44:47.379Z"
   },
   {
    "duration": 3,
    "start_time": "2025-01-26T04:44:47.404Z"
   },
   {
    "duration": 5,
    "start_time": "2025-01-26T04:44:47.410Z"
   },
   {
    "duration": 17,
    "start_time": "2025-01-26T04:44:47.417Z"
   },
   {
    "duration": 8,
    "start_time": "2025-01-26T04:44:47.435Z"
   },
   {
    "duration": 352,
    "start_time": "2025-01-26T04:44:47.444Z"
   },
   {
    "duration": 278,
    "start_time": "2025-01-26T04:44:47.798Z"
   },
   {
    "duration": 205,
    "start_time": "2025-01-26T04:44:48.085Z"
   },
   {
    "duration": 351,
    "start_time": "2025-01-26T04:44:48.291Z"
   },
   {
    "duration": 6,
    "start_time": "2025-01-26T04:44:48.643Z"
   },
   {
    "duration": 312,
    "start_time": "2025-01-26T04:44:48.650Z"
   },
   {
    "duration": 362,
    "start_time": "2025-01-26T04:44:48.964Z"
   },
   {
    "duration": 302,
    "start_time": "2025-01-26T04:44:49.328Z"
   },
   {
    "duration": 17,
    "start_time": "2025-01-26T04:44:49.633Z"
   },
   {
    "duration": 5,
    "start_time": "2025-01-26T04:44:49.652Z"
   },
   {
    "duration": 28,
    "start_time": "2025-01-26T04:44:49.659Z"
   },
   {
    "duration": 6,
    "start_time": "2025-01-26T04:44:49.689Z"
   },
   {
    "duration": 6,
    "start_time": "2025-01-26T04:44:49.696Z"
   },
   {
    "duration": 3,
    "start_time": "2025-01-26T04:44:49.704Z"
   },
   {
    "duration": 4,
    "start_time": "2025-01-26T04:44:49.708Z"
   },
   {
    "duration": 4,
    "start_time": "2025-01-26T04:44:49.716Z"
   },
   {
    "duration": 1557,
    "start_time": "2025-01-26T04:45:02.300Z"
   },
   {
    "duration": 5,
    "start_time": "2025-01-26T04:45:03.859Z"
   },
   {
    "duration": 44,
    "start_time": "2025-01-26T04:45:03.865Z"
   },
   {
    "duration": 26,
    "start_time": "2025-01-26T04:45:03.911Z"
   },
   {
    "duration": 55,
    "start_time": "2025-01-26T04:45:03.939Z"
   },
   {
    "duration": 58,
    "start_time": "2025-01-26T04:45:03.996Z"
   },
   {
    "duration": 11,
    "start_time": "2025-01-26T04:45:04.056Z"
   },
   {
    "duration": 24,
    "start_time": "2025-01-26T04:45:04.069Z"
   },
   {
    "duration": 5,
    "start_time": "2025-01-26T04:45:04.094Z"
   },
   {
    "duration": 17,
    "start_time": "2025-01-26T04:45:04.101Z"
   },
   {
    "duration": 21,
    "start_time": "2025-01-26T04:45:04.119Z"
   },
   {
    "duration": 8,
    "start_time": "2025-01-26T04:45:04.141Z"
   },
   {
    "duration": 349,
    "start_time": "2025-01-26T04:45:04.150Z"
   },
   {
    "duration": 285,
    "start_time": "2025-01-26T04:45:04.501Z"
   },
   {
    "duration": 213,
    "start_time": "2025-01-26T04:45:04.789Z"
   },
   {
    "duration": 343,
    "start_time": "2025-01-26T04:45:05.003Z"
   },
   {
    "duration": 5,
    "start_time": "2025-01-26T04:45:05.348Z"
   },
   {
    "duration": 314,
    "start_time": "2025-01-26T04:45:05.354Z"
   },
   {
    "duration": 352,
    "start_time": "2025-01-26T04:45:05.670Z"
   },
   {
    "duration": 298,
    "start_time": "2025-01-26T04:45:06.024Z"
   },
   {
    "duration": 15,
    "start_time": "2025-01-26T04:45:06.324Z"
   },
   {
    "duration": 23,
    "start_time": "2025-01-26T04:45:06.341Z"
   },
   {
    "duration": 20,
    "start_time": "2025-01-26T04:45:06.366Z"
   },
   {
    "duration": 23,
    "start_time": "2025-01-26T04:45:06.387Z"
   },
   {
    "duration": 27,
    "start_time": "2025-01-26T04:45:06.412Z"
   },
   {
    "duration": 37,
    "start_time": "2025-01-26T04:45:06.441Z"
   },
   {
    "duration": 56,
    "start_time": "2025-01-26T04:45:06.480Z"
   },
   {
    "duration": 20,
    "start_time": "2025-01-26T04:45:06.540Z"
   },
   {
    "duration": 11428,
    "start_time": "2025-01-26T04:45:06.561Z"
   },
   {
    "duration": 4,
    "start_time": "2025-01-26T04:45:17.991Z"
   },
   {
    "duration": 289,
    "start_time": "2025-01-26T04:45:17.997Z"
   },
   {
    "duration": 4,
    "start_time": "2025-01-26T04:45:18.288Z"
   },
   {
    "duration": 20605,
    "start_time": "2025-01-26T04:45:18.294Z"
   },
   {
    "duration": 6,
    "start_time": "2025-01-26T04:45:38.901Z"
   },
   {
    "duration": 46987,
    "start_time": "2025-01-26T04:45:38.908Z"
   },
   {
    "duration": 5,
    "start_time": "2025-01-26T04:46:25.897Z"
   },
   {
    "duration": 29,
    "start_time": "2025-01-26T04:46:25.903Z"
   },
   {
    "duration": 8,
    "start_time": "2025-01-26T04:46:25.934Z"
   },
   {
    "duration": 75,
    "start_time": "2025-01-26T04:46:25.944Z"
   },
   {
    "duration": 13,
    "start_time": "2025-01-26T04:46:26.020Z"
   },
   {
    "duration": 8,
    "start_time": "2025-01-26T04:46:26.085Z"
   },
   {
    "duration": 1562,
    "start_time": "2025-01-26T04:48:51.620Z"
   },
   {
    "duration": 4,
    "start_time": "2025-01-26T04:48:53.184Z"
   },
   {
    "duration": 8,
    "start_time": "2025-01-26T04:48:53.189Z"
   },
   {
    "duration": 4,
    "start_time": "2025-01-26T04:48:53.199Z"
   },
   {
    "duration": 4,
    "start_time": "2025-01-26T04:48:53.204Z"
   },
   {
    "duration": 56,
    "start_time": "2025-01-26T04:48:53.210Z"
   },
   {
    "duration": 10,
    "start_time": "2025-01-26T04:48:53.268Z"
   },
   {
    "duration": 29,
    "start_time": "2025-01-26T04:48:53.280Z"
   },
   {
    "duration": 17,
    "start_time": "2025-01-26T04:48:53.310Z"
   },
   {
    "duration": 18,
    "start_time": "2025-01-26T04:48:53.329Z"
   },
   {
    "duration": 12,
    "start_time": "2025-01-26T04:48:53.349Z"
   },
   {
    "duration": 10,
    "start_time": "2025-01-26T04:48:53.362Z"
   },
   {
    "duration": 340,
    "start_time": "2025-01-26T04:48:53.373Z"
   },
   {
    "duration": 287,
    "start_time": "2025-01-26T04:48:53.715Z"
   },
   {
    "duration": 220,
    "start_time": "2025-01-26T04:48:54.004Z"
   },
   {
    "duration": 363,
    "start_time": "2025-01-26T04:48:54.226Z"
   },
   {
    "duration": 8,
    "start_time": "2025-01-26T04:48:54.591Z"
   },
   {
    "duration": 329,
    "start_time": "2025-01-26T04:48:54.601Z"
   },
   {
    "duration": 374,
    "start_time": "2025-01-26T04:48:54.932Z"
   },
   {
    "duration": 305,
    "start_time": "2025-01-26T04:48:55.309Z"
   },
   {
    "duration": 18,
    "start_time": "2025-01-26T04:48:55.616Z"
   },
   {
    "duration": 4,
    "start_time": "2025-01-26T04:48:55.636Z"
   },
   {
    "duration": 11,
    "start_time": "2025-01-26T04:48:55.642Z"
   },
   {
    "duration": 31,
    "start_time": "2025-01-26T04:48:55.655Z"
   },
   {
    "duration": 8,
    "start_time": "2025-01-26T04:48:55.688Z"
   },
   {
    "duration": 8,
    "start_time": "2025-01-26T04:48:55.698Z"
   },
   {
    "duration": 4,
    "start_time": "2025-01-26T04:48:55.708Z"
   },
   {
    "duration": 13,
    "start_time": "2025-01-26T04:48:55.716Z"
   },
   {
    "duration": 11656,
    "start_time": "2025-01-26T04:48:55.731Z"
   },
   {
    "duration": 4,
    "start_time": "2025-01-26T04:49:07.388Z"
   },
   {
    "duration": 280,
    "start_time": "2025-01-26T04:49:07.394Z"
   },
   {
    "duration": 11,
    "start_time": "2025-01-26T04:49:07.675Z"
   },
   {
    "duration": 20792,
    "start_time": "2025-01-26T04:49:07.688Z"
   },
   {
    "duration": 5,
    "start_time": "2025-01-26T04:49:28.481Z"
   },
   {
    "duration": 17,
    "start_time": "2025-01-26T04:49:28.487Z"
   },
   {
    "duration": 9,
    "start_time": "2025-01-26T04:49:28.506Z"
   },
   {
    "duration": 10,
    "start_time": "2025-01-26T04:49:28.516Z"
   }
  ],
  "kernelspec": {
   "display_name": "Python 3 (ipykernel)",
   "language": "python",
   "name": "python3"
  },
  "language_info": {
   "codemirror_mode": {
    "name": "ipython",
    "version": 3
   },
   "file_extension": ".py",
   "mimetype": "text/x-python",
   "name": "python",
   "nbconvert_exporter": "python",
   "pygments_lexer": "ipython3",
   "version": "3.9.5"
  },
  "toc": {
   "base_numbering": 1,
   "nav_menu": {},
   "number_sections": true,
   "sideBar": true,
   "skip_h1_title": true,
   "title_cell": "Содержание",
   "title_sidebar": "Contents",
   "toc_cell": true,
   "toc_position": {
    "height": "1061px",
    "left": "21px",
    "top": "111.125px",
    "width": "295px"
   },
   "toc_section_display": true,
   "toc_window_display": true
  }
 },
 "nbformat": 4,
 "nbformat_minor": 2
}
