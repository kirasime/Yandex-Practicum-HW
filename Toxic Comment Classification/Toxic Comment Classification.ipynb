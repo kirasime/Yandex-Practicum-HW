{
  "metadata": {
    "kernelspec": {
      "name": "python",
      "display_name": "Python (Pyodide)",
      "language": "python"
    },
    "language_info": {
      "codemirror_mode": {
        "name": "python",
        "version": 3
      },
      "file_extension": ".py",
      "mimetype": "text/x-python",
      "name": "python",
      "nbconvert_exporter": "python",
      "pygments_lexer": "ipython3",
      "version": "3.8"
    },
    "ExecuteTimeLog": [
      {
        "duration": 1318,
        "start_time": "2025-02-12T10:53:13.044Z"
      },
      {
        "duration": 102,
        "start_time": "2025-02-12T14:22:06.355Z"
      },
      {
        "duration": 944,
        "start_time": "2025-02-12T14:22:13.264Z"
      },
      {
        "duration": 11,
        "start_time": "2025-02-12T14:22:38.847Z"
      },
      {
        "duration": 33,
        "start_time": "2025-02-12T14:23:01.502Z"
      },
      {
        "duration": 7,
        "start_time": "2025-02-12T14:23:17.028Z"
      },
      {
        "duration": 11,
        "start_time": "2025-02-12T14:29:41.175Z"
      },
      {
        "duration": 12,
        "start_time": "2025-02-12T14:29:46.606Z"
      },
      {
        "duration": 95,
        "start_time": "2025-02-12T14:35:13.298Z"
      },
      {
        "duration": 80,
        "start_time": "2025-02-12T14:35:28.233Z"
      },
      {
        "duration": 75,
        "start_time": "2025-02-12T14:35:31.947Z"
      },
      {
        "duration": 70,
        "start_time": "2025-02-12T14:35:52.752Z"
      },
      {
        "duration": 81,
        "start_time": "2025-02-12T14:36:07.963Z"
      },
      {
        "duration": 76,
        "start_time": "2025-02-12T14:36:36.865Z"
      },
      {
        "duration": 74,
        "start_time": "2025-02-12T14:36:45.568Z"
      },
      {
        "duration": 78,
        "start_time": "2025-02-12T14:36:52.538Z"
      },
      {
        "duration": 73,
        "start_time": "2025-02-12T14:37:00.096Z"
      },
      {
        "duration": 89,
        "start_time": "2025-02-12T14:37:20.955Z"
      },
      {
        "duration": 90,
        "start_time": "2025-02-12T14:38:07.282Z"
      },
      {
        "duration": 173,
        "start_time": "2025-02-12T14:40:31.745Z"
      },
      {
        "duration": 94,
        "start_time": "2025-02-12T14:40:44.005Z"
      },
      {
        "duration": 103,
        "start_time": "2025-02-12T14:42:55.245Z"
      },
      {
        "duration": 10,
        "start_time": "2025-02-12T14:48:03.859Z"
      },
      {
        "duration": 2614,
        "start_time": "2025-02-12T15:06:17.702Z"
      },
      {
        "duration": 7,
        "start_time": "2025-02-12T15:06:20.319Z"
      },
      {
        "duration": 989,
        "start_time": "2025-02-12T15:06:20.328Z"
      },
      {
        "duration": 10,
        "start_time": "2025-02-12T15:06:21.319Z"
      },
      {
        "duration": 40,
        "start_time": "2025-02-12T15:06:21.331Z"
      },
      {
        "duration": 50,
        "start_time": "2025-02-12T15:06:21.372Z"
      },
      {
        "duration": 98,
        "start_time": "2025-02-12T15:06:21.424Z"
      },
      {
        "duration": 139,
        "start_time": "2025-02-12T15:06:21.524Z"
      },
      {
        "duration": 2,
        "start_time": "2025-02-12T15:06:21.665Z"
      },
      {
        "duration": 4135,
        "start_time": "2025-02-12T15:06:21.668Z"
      },
      {
        "duration": 687,
        "start_time": "2025-02-12T15:06:25.805Z"
      },
      {
        "duration": 4312,
        "start_time": "2025-02-12T17:39:30.344Z"
      },
      {
        "duration": 7,
        "start_time": "2025-02-12T17:39:34.658Z"
      },
      {
        "duration": 850,
        "start_time": "2025-02-12T17:39:34.666Z"
      },
      {
        "duration": 11,
        "start_time": "2025-02-12T17:39:35.518Z"
      },
      {
        "duration": 55,
        "start_time": "2025-02-12T17:39:35.531Z"
      },
      {
        "duration": 40,
        "start_time": "2025-02-12T17:39:35.588Z"
      },
      {
        "duration": 10,
        "start_time": "2025-02-12T17:39:35.630Z"
      },
      {
        "duration": 166,
        "start_time": "2025-02-12T17:39:35.642Z"
      },
      {
        "duration": 3,
        "start_time": "2025-02-12T17:39:35.811Z"
      },
      {
        "duration": 2368,
        "start_time": "2025-02-12T17:39:35.816Z"
      },
      {
        "duration": 347,
        "start_time": "2025-02-12T17:39:38.185Z"
      },
      {
        "duration": 4219,
        "start_time": "2025-02-12T17:41:23.575Z"
      },
      {
        "duration": 7,
        "start_time": "2025-02-12T17:41:27.797Z"
      },
      {
        "duration": 875,
        "start_time": "2025-02-12T17:41:27.806Z"
      },
      {
        "duration": 11,
        "start_time": "2025-02-12T17:41:28.683Z"
      },
      {
        "duration": 37,
        "start_time": "2025-02-12T17:41:28.696Z"
      },
      {
        "duration": 43,
        "start_time": "2025-02-12T17:41:28.734Z"
      },
      {
        "duration": 10,
        "start_time": "2025-02-12T17:41:28.779Z"
      },
      {
        "duration": 130,
        "start_time": "2025-02-12T17:41:28.790Z"
      },
      {
        "duration": 2,
        "start_time": "2025-02-12T17:41:28.922Z"
      },
      {
        "duration": 5165,
        "start_time": "2025-02-12T17:41:28.926Z"
      },
      {
        "duration": 381,
        "start_time": "2025-02-12T17:41:34.092Z"
      },
      {
        "duration": 4135,
        "start_time": "2025-02-12T17:42:16.465Z"
      },
      {
        "duration": 7,
        "start_time": "2025-02-12T17:42:20.602Z"
      },
      {
        "duration": 928,
        "start_time": "2025-02-12T17:42:20.610Z"
      },
      {
        "duration": 18,
        "start_time": "2025-02-12T17:42:21.539Z"
      },
      {
        "duration": 9,
        "start_time": "2025-02-12T17:42:21.559Z"
      },
      {
        "duration": 35,
        "start_time": "2025-02-12T17:42:21.570Z"
      },
      {
        "duration": 18,
        "start_time": "2025-02-12T17:42:21.607Z"
      },
      {
        "duration": 137,
        "start_time": "2025-02-12T17:42:21.626Z"
      },
      {
        "duration": 3,
        "start_time": "2025-02-12T17:42:21.765Z"
      },
      {
        "duration": 363,
        "start_time": "2025-02-12T17:42:21.769Z"
      },
      {
        "duration": 0,
        "start_time": "2025-02-12T17:42:22.133Z"
      }
    ],
    "accelerator": "GPU",
    "colab": {
      "gpuType": "T4",
      "provenance": []
    },
    "toc": {
      "base_numbering": 1,
      "nav_menu": {},
      "number_sections": true,
      "sideBar": true,
      "skip_h1_title": true,
      "title_cell": "Содержание",
      "title_sidebar": "Contents",
      "toc_cell": true,
      "toc_position": {
        "height": "calc(100% - 180px)",
        "left": "10px",
        "top": "150px",
        "width": "302.391px"
      },
      "toc_section_display": true,
      "toc_window_display": false
    }
  },
  "nbformat_minor": 4,
  "nbformat": 4,
  "cells": [
    {
      "cell_type": "markdown",
      "source": "<h1>Содержание<span class=\"tocSkip\"></span></h1>\n<div class=\"toc\"><ul class=\"toc-item\"><li><span><a href=\"#Подготовка\" data-toc-modified-id=\"Подготовка-1\"><span class=\"toc-item-num\">1&nbsp;&nbsp;</span>Подготовка</a></span></li><li><span><a href=\"#Обучение\" data-toc-modified-id=\"Обучение-2\"><span class=\"toc-item-num\">2&nbsp;&nbsp;</span>Обучение</a></span><ul class=\"toc-item\"><li><span><a href=\"#LogisticRegression\" data-toc-modified-id=\"LogisticRegression-2.1\"><span class=\"toc-item-num\">2.1&nbsp;&nbsp;</span>LogisticRegression</a></span></li><li><span><a href=\"#DecisionTreeClassifier\" data-toc-modified-id=\"DecisionTreeClassifier-2.2\"><span class=\"toc-item-num\">2.2&nbsp;&nbsp;</span>DecisionTreeClassifier</a></span></li><li><span><a href=\"#Результаты-на-кросс-валидации-и-выбор-лучшей-модели\" data-toc-modified-id=\"Результаты-на-кросс-валидации-и-выбор-лучшей-модели-2.3\"><span class=\"toc-item-num\">2.3&nbsp;&nbsp;</span>Результаты на кросс-валидации и выбор лучшей модели</a></span></li></ul></li><li><span><a href=\"#Тестирование\" data-toc-modified-id=\"Тестирование-3\"><span class=\"toc-item-num\">3&nbsp;&nbsp;</span>Тестирование</a></span></li><li><span><a href=\"#Выводы\" data-toc-modified-id=\"Выводы-4\"><span class=\"toc-item-num\">4&nbsp;&nbsp;</span>Выводы</a></span></li><li><span><a href=\"#Чек-лист-проверки\" data-toc-modified-id=\"Чек-лист-проверки-5\"><span class=\"toc-item-num\">5&nbsp;&nbsp;</span>Чек-лист проверки</a></span></li></ul></div>",
      "metadata": {
        "id": "ymeRhILTQnz-",
        "toc": true
      }
    },
    {
      "cell_type": "markdown",
      "source": "# Проект для «Викишоп» с BERT",
      "metadata": {
        "id": "8Aa_RnkxQn0A"
      }
    },
    {
      "cell_type": "markdown",
      "source": "\n# **Цель проекта**  \nИнтернет-магазин «Викишоп» запустил новый сервис, позволяющий пользователям редактировать описания товаров и комментировать правки. Однако возникает проблема — среди предложенных изменений могут встречаться токсичные комментарии.  \n\nЦель проекта — **разработать модель машинного обучения, способную классифицировать комментарии на позитивные и негативные**, чтобы отправлять токсичные сообщения на модерацию. Необходимо достичь значения метрики *F1* не менее **0.75**.  \n\n# **Описание данных**  \nВ нашем распоряжении набор данных `toxic_comments.csv`, который содержит:  \n- **text** — текст комментария, оставленного пользователем.  \n- **toxic** — целевой признак (1 — комментарий токсичный, 0 — нейтральный).  ",
      "metadata": {
        "id": "zk6NQIfPQn0A"
      }
    },
    {
      "cell_type": "markdown",
      "source": "**Инструкция по выполнению проекта**\n\n1. Загрузите и подготовьте данные.\n2. Обучите разные модели.\n3. Сделайте выводы.",
      "metadata": {
        "id": "iYxY2_liQn0A"
      }
    },
    {
      "cell_type": "markdown",
      "source": "# Используемые библиотеки",
      "metadata": {
        "id": "ALMI1Nr5Qn0B"
      }
    },
    {
      "cell_type": "code",
      "source": "!pip install -q catboost",
      "metadata": {
        "collapsed": true,
        "id": "xkz9uyJi6pIi",
        "jupyter": {
          "outputs_hidden": true
        }
      },
      "outputs": [],
      "execution_count": 1
    },
    {
      "cell_type": "code",
      "source": "import pandas as pd\nimport matplotlib.pyplot as plt\nimport seaborn as sns\nimport numpy as np\nimport torch\n\nfrom tqdm import tqdm\nfrom tqdm import notebook\n\nfrom transformers import AutoTokenizer, AutoModel, BertModel\n\nfrom sklearn.linear_model import LogisticRegression\nfrom sklearn.tree import DecisionTreeClassifier\nfrom catboost import CatBoostClassifier\n\nfrom sklearn.model_selection import train_test_split\nfrom sklearn.metrics import f1_score\nfrom sklearn.utils import resample\nfrom imblearn.pipeline import Pipeline\nfrom sklearn.model_selection import RandomizedSearchCV\nfrom imblearn.over_sampling import RandomOverSampler\n\nfrom google.colab import userdata\n\nuserdata.get('HF_TOKEN')\n\ntorch.cuda.empty_cache()",
      "metadata": {
        "collapsed": true,
        "id": "Es-IWRSRQn0B",
        "jupyter": {
          "outputs_hidden": true
        }
      },
      "outputs": [],
      "execution_count": 2
    },
    {
      "cell_type": "code",
      "source": "def generate_embeddings(dataframe, column_name, batch_size=100):\n    \"\"\"\n    Функция для генерации эмбеддингов для текстов в DataFrame с использованием модели BERT.\n\n    :param dataframe: pandas DataFrame с колонкой, содержащей текстовые данные.\n    :param column_name: имя столбца с текстовыми данными.\n    :param batch_size: размер батча для обработки данных (по умолчанию 100).\n\n    :return: NumPy массив с эмбеддингами.\n    \"\"\"\n    device = 'cuda' if torch.cuda.is_available() else 'cpu'\n    # Инициализация токенизатора и модели\n    tokenizer = AutoTokenizer.from_pretrained(\"unitary/toxic-bert\")\n    model = AutoModel.from_pretrained(\"unitary/toxic-bert\").to(device)\n\n    # Токенизация текстовых данных\n    texts = dataframe[column_name].dropna().tolist()  # Убираем пропущенные значения\n    texts = [str(text) for text in texts]  # Преобразуем все в строки\n\n    # Генерация токенов с использованием batch_encode_plus\n    encoding = tokenizer.batch_encode_plus(\n        texts,\n        add_special_tokens=True,      # Добавить специальные токены\n        padding=True,                 # Дополнить до одинаковой длины\n        truncation=True,              # Обрезать длинные последовательности\n        return_attention_mask=True,   # Вернуть маску внимания\n        return_tensors='pt',         # Вернуть тензоры PyTorch\n        max_length=128\n    )\n\n    input_ids = encoding['input_ids'].to(device)\n    attention_mask = encoding['attention_mask'].to(device)\n\n    # Генерация эмбеддингов партиями\n    embeddings = []\n    for i in tqdm(range(0, len(input_ids), batch_size)):\n      batch_input_ids = input_ids[i:i+batch_size]\n      batch_attention_mask = attention_mask[i:i+batch_size]\n\n      with torch.no_grad():\n          outputs = model(input_ids=batch_input_ids, attention_mask=batch_attention_mask)\n\n      batch_embeddings = outputs[0][:, 0, :].cpu()  # Переносим на CPU\n      embeddings.append(batch_embeddings)\n\n      # Удаляем ненужные переменные\n      del batch_input_ids, batch_attention_mask, outputs\n      torch.cuda.empty_cache()\n\n    # Объединяем эмбеддинги в один массив\n    embeddings = torch.cat(embeddings, dim=0)\n\n    return embeddings",
      "metadata": {
        "id": "ZZ8euBzdQn0B"
      },
      "outputs": [],
      "execution_count": 3
    },
    {
      "cell_type": "markdown",
      "source": "<div class=\"alert alert-success\">\n<font size=\"5\"><b>Комментарий ревьюера</b></font>\n\n\n\nУспех 👍:\n\n\n\n👍Здорово Что предусмотрено возможность использования GPU\n\n\n",
      "metadata": {
        "id": "m_UX50-NpFyT"
      }
    },
    {
      "cell_type": "code",
      "source": "RANDOM_STATE=43",
      "metadata": {
        "id": "7R_IUswW7aTJ"
      },
      "outputs": [],
      "execution_count": 4
    },
    {
      "cell_type": "markdown",
      "source": "## Подготовка",
      "metadata": {
        "id": "2XzabL0BQn0C"
      }
    },
    {
      "cell_type": "code",
      "source": "data = pd.read_csv('https://code.s3.yandex.net/datasets/toxic_comments.csv', index_col=0)",
      "metadata": {
        "id": "bN0UpNe2Qn0C"
      },
      "outputs": [],
      "execution_count": 5
    },
    {
      "cell_type": "markdown",
      "source": "<div class=\"alert alert-warning\">\n<font size=\"5\"><b>Комментарий ревьюера</b></font>\n\nСовет:\n\n\nЕсли не знаешь - чтобы не было столбца  `Unnamed: 0` при чтении файла можно так:\n\n\n    pd.read_csv(..., index_col=0)\n\n    \n(`Unnamed: 0` появляется при не совсем корректном сохранении файла)    \n\n\nUnnamed: 0 это \"след\" старых индексов. Если ты уберёшь первые 10 примеров и своего датасета, сохранишь его, а потом откроешь,  то появится столбец Unnamed: 0 начиная с цифры 9, и появится новый индексы начиная с нуля\n\n\nНо это мелочь,  даже не нужно ничего исправлять. Просто знай, чтобы увидев такое в чужом коде не удивляться что бы это могло означать",
      "metadata": {
        "id": "LXMkt-QFpFyV"
      }
    },
    {
      "cell_type": "code",
      "source": "data.head()",
      "metadata": {
        "colab": {
          "base_uri": "https://localhost:8080/",
          "height": 206
        },
        "id": "iOIkp6IdQn0C",
        "outputId": "81adb7f5-40f2-4886-af8d-13af1f19c8f1"
      },
      "outputs": [
        {
          "data": {
            "application/vnd.google.colaboratory.intrinsic+json": {
              "type": "dataframe",
              "variable_name": "data"
            },
            "text/html": [
              "\n",
              "  <div id=\"df-86db3461-f8b2-4550-8a8a-fd851ec1bbb6\" class=\"colab-df-container\">\n",
              "    <div>\n",
              "<style scoped>\n",
              "    .dataframe tbody tr th:only-of-type {\n",
              "        vertical-align: middle;\n",
              "    }\n",
              "\n",
              "    .dataframe tbody tr th {\n",
              "        vertical-align: top;\n",
              "    }\n",
              "\n",
              "    .dataframe thead th {\n",
              "        text-align: right;\n",
              "    }\n",
              "</style>\n",
              "<table border=\"1\" class=\"dataframe\">\n",
              "  <thead>\n",
              "    <tr style=\"text-align: right;\">\n",
              "      <th></th>\n",
              "      <th>text</th>\n",
              "      <th>toxic</th>\n",
              "    </tr>\n",
              "  </thead>\n",
              "  <tbody>\n",
              "    <tr>\n",
              "      <th>0</th>\n",
              "      <td>Explanation\\nWhy the edits made under my usern...</td>\n",
              "      <td>0</td>\n",
              "    </tr>\n",
              "    <tr>\n",
              "      <th>1</th>\n",
              "      <td>D'aww! He matches this background colour I'm s...</td>\n",
              "      <td>0</td>\n",
              "    </tr>\n",
              "    <tr>\n",
              "      <th>2</th>\n",
              "      <td>Hey man, I'm really not trying to edit war. It...</td>\n",
              "      <td>0</td>\n",
              "    </tr>\n",
              "    <tr>\n",
              "      <th>3</th>\n",
              "      <td>\"\\nMore\\nI can't make any real suggestions on ...</td>\n",
              "      <td>0</td>\n",
              "    </tr>\n",
              "    <tr>\n",
              "      <th>4</th>\n",
              "      <td>You, sir, are my hero. Any chance you remember...</td>\n",
              "      <td>0</td>\n",
              "    </tr>\n",
              "  </tbody>\n",
              "</table>\n",
              "</div>\n",
              "    <div class=\"colab-df-buttons\">\n",
              "\n",
              "  <div class=\"colab-df-container\">\n",
              "    <button class=\"colab-df-convert\" onclick=\"convertToInteractive('df-86db3461-f8b2-4550-8a8a-fd851ec1bbb6')\"\n",
              "            title=\"Convert this dataframe to an interactive table.\"\n",
              "            style=\"display:none;\">\n",
              "\n",
              "  <svg xmlns=\"http://www.w3.org/2000/svg\" height=\"24px\" viewBox=\"0 -960 960 960\">\n",
              "    <path d=\"M120-120v-720h720v720H120Zm60-500h600v-160H180v160Zm220 220h160v-160H400v160Zm0 220h160v-160H400v160ZM180-400h160v-160H180v160Zm440 0h160v-160H620v160ZM180-180h160v-160H180v160Zm440 0h160v-160H620v160Z\"/>\n",
              "  </svg>\n",
              "    </button>\n",
              "\n",
              "  <style>\n",
              "    .colab-df-container {\n",
              "      display:flex;\n",
              "      gap: 12px;\n",
              "    }\n",
              "\n",
              "    .colab-df-convert {\n",
              "      background-color: #E8F0FE;\n",
              "      border: none;\n",
              "      border-radius: 50%;\n",
              "      cursor: pointer;\n",
              "      display: none;\n",
              "      fill: #1967D2;\n",
              "      height: 32px;\n",
              "      padding: 0 0 0 0;\n",
              "      width: 32px;\n",
              "    }\n",
              "\n",
              "    .colab-df-convert:hover {\n",
              "      background-color: #E2EBFA;\n",
              "      box-shadow: 0px 1px 2px rgba(60, 64, 67, 0.3), 0px 1px 3px 1px rgba(60, 64, 67, 0.15);\n",
              "      fill: #174EA6;\n",
              "    }\n",
              "\n",
              "    .colab-df-buttons div {\n",
              "      margin-bottom: 4px;\n",
              "    }\n",
              "\n",
              "    [theme=dark] .colab-df-convert {\n",
              "      background-color: #3B4455;\n",
              "      fill: #D2E3FC;\n",
              "    }\n",
              "\n",
              "    [theme=dark] .colab-df-convert:hover {\n",
              "      background-color: #434B5C;\n",
              "      box-shadow: 0px 1px 3px 1px rgba(0, 0, 0, 0.15);\n",
              "      filter: drop-shadow(0px 1px 2px rgba(0, 0, 0, 0.3));\n",
              "      fill: #FFFFFF;\n",
              "    }\n",
              "  </style>\n",
              "\n",
              "    <script>\n",
              "      const buttonEl =\n",
              "        document.querySelector('#df-86db3461-f8b2-4550-8a8a-fd851ec1bbb6 button.colab-df-convert');\n",
              "      buttonEl.style.display =\n",
              "        google.colab.kernel.accessAllowed ? 'block' : 'none';\n",
              "\n",
              "      async function convertToInteractive(key) {\n",
              "        const element = document.querySelector('#df-86db3461-f8b2-4550-8a8a-fd851ec1bbb6');\n",
              "        const dataTable =\n",
              "          await google.colab.kernel.invokeFunction('convertToInteractive',\n",
              "                                                    [key], {});\n",
              "        if (!dataTable) return;\n",
              "\n",
              "        const docLinkHtml = 'Like what you see? Visit the ' +\n",
              "          '<a target=\"_blank\" href=https://colab.research.google.com/notebooks/data_table.ipynb>data table notebook</a>'\n",
              "          + ' to learn more about interactive tables.';\n",
              "        element.innerHTML = '';\n",
              "        dataTable['output_type'] = 'display_data';\n",
              "        await google.colab.output.renderOutput(dataTable, element);\n",
              "        const docLink = document.createElement('div');\n",
              "        docLink.innerHTML = docLinkHtml;\n",
              "        element.appendChild(docLink);\n",
              "      }\n",
              "    </script>\n",
              "  </div>\n",
              "\n",
              "\n",
              "<div id=\"df-f9ee0f63-a603-4cdc-a7a3-fdc15f4143d2\">\n",
              "  <button class=\"colab-df-quickchart\" onclick=\"quickchart('df-f9ee0f63-a603-4cdc-a7a3-fdc15f4143d2')\"\n",
              "            title=\"Suggest charts\"\n",
              "            style=\"display:none;\">\n",
              "\n",
              "<svg xmlns=\"http://www.w3.org/2000/svg\" height=\"24px\"viewBox=\"0 0 24 24\"\n",
              "     width=\"24px\">\n",
              "    <g>\n",
              "        <path d=\"M19 3H5c-1.1 0-2 .9-2 2v14c0 1.1.9 2 2 2h14c1.1 0 2-.9 2-2V5c0-1.1-.9-2-2-2zM9 17H7v-7h2v7zm4 0h-2V7h2v10zm4 0h-2v-4h2v4z\"/>\n",
              "    </g>\n",
              "</svg>\n",
              "  </button>\n",
              "\n",
              "<style>\n",
              "  .colab-df-quickchart {\n",
              "      --bg-color: #E8F0FE;\n",
              "      --fill-color: #1967D2;\n",
              "      --hover-bg-color: #E2EBFA;\n",
              "      --hover-fill-color: #174EA6;\n",
              "      --disabled-fill-color: #AAA;\n",
              "      --disabled-bg-color: #DDD;\n",
              "  }\n",
              "\n",
              "  [theme=dark] .colab-df-quickchart {\n",
              "      --bg-color: #3B4455;\n",
              "      --fill-color: #D2E3FC;\n",
              "      --hover-bg-color: #434B5C;\n",
              "      --hover-fill-color: #FFFFFF;\n",
              "      --disabled-bg-color: #3B4455;\n",
              "      --disabled-fill-color: #666;\n",
              "  }\n",
              "\n",
              "  .colab-df-quickchart {\n",
              "    background-color: var(--bg-color);\n",
              "    border: none;\n",
              "    border-radius: 50%;\n",
              "    cursor: pointer;\n",
              "    display: none;\n",
              "    fill: var(--fill-color);\n",
              "    height: 32px;\n",
              "    padding: 0;\n",
              "    width: 32px;\n",
              "  }\n",
              "\n",
              "  .colab-df-quickchart:hover {\n",
              "    background-color: var(--hover-bg-color);\n",
              "    box-shadow: 0 1px 2px rgba(60, 64, 67, 0.3), 0 1px 3px 1px rgba(60, 64, 67, 0.15);\n",
              "    fill: var(--button-hover-fill-color);\n",
              "  }\n",
              "\n",
              "  .colab-df-quickchart-complete:disabled,\n",
              "  .colab-df-quickchart-complete:disabled:hover {\n",
              "    background-color: var(--disabled-bg-color);\n",
              "    fill: var(--disabled-fill-color);\n",
              "    box-shadow: none;\n",
              "  }\n",
              "\n",
              "  .colab-df-spinner {\n",
              "    border: 2px solid var(--fill-color);\n",
              "    border-color: transparent;\n",
              "    border-bottom-color: var(--fill-color);\n",
              "    animation:\n",
              "      spin 1s steps(1) infinite;\n",
              "  }\n",
              "\n",
              "  @keyframes spin {\n",
              "    0% {\n",
              "      border-color: transparent;\n",
              "      border-bottom-color: var(--fill-color);\n",
              "      border-left-color: var(--fill-color);\n",
              "    }\n",
              "    20% {\n",
              "      border-color: transparent;\n",
              "      border-left-color: var(--fill-color);\n",
              "      border-top-color: var(--fill-color);\n",
              "    }\n",
              "    30% {\n",
              "      border-color: transparent;\n",
              "      border-left-color: var(--fill-color);\n",
              "      border-top-color: var(--fill-color);\n",
              "      border-right-color: var(--fill-color);\n",
              "    }\n",
              "    40% {\n",
              "      border-color: transparent;\n",
              "      border-right-color: var(--fill-color);\n",
              "      border-top-color: var(--fill-color);\n",
              "    }\n",
              "    60% {\n",
              "      border-color: transparent;\n",
              "      border-right-color: var(--fill-color);\n",
              "    }\n",
              "    80% {\n",
              "      border-color: transparent;\n",
              "      border-right-color: var(--fill-color);\n",
              "      border-bottom-color: var(--fill-color);\n",
              "    }\n",
              "    90% {\n",
              "      border-color: transparent;\n",
              "      border-bottom-color: var(--fill-color);\n",
              "    }\n",
              "  }\n",
              "</style>\n",
              "\n",
              "  <script>\n",
              "    async function quickchart(key) {\n",
              "      const quickchartButtonEl =\n",
              "        document.querySelector('#' + key + ' button');\n",
              "      quickchartButtonEl.disabled = true;  // To prevent multiple clicks.\n",
              "      quickchartButtonEl.classList.add('colab-df-spinner');\n",
              "      try {\n",
              "        const charts = await google.colab.kernel.invokeFunction(\n",
              "            'suggestCharts', [key], {});\n",
              "      } catch (error) {\n",
              "        console.error('Error during call to suggestCharts:', error);\n",
              "      }\n",
              "      quickchartButtonEl.classList.remove('colab-df-spinner');\n",
              "      quickchartButtonEl.classList.add('colab-df-quickchart-complete');\n",
              "    }\n",
              "    (() => {\n",
              "      let quickchartButtonEl =\n",
              "        document.querySelector('#df-f9ee0f63-a603-4cdc-a7a3-fdc15f4143d2 button');\n",
              "      quickchartButtonEl.style.display =\n",
              "        google.colab.kernel.accessAllowed ? 'block' : 'none';\n",
              "    })();\n",
              "  </script>\n",
              "</div>\n",
              "    </div>\n",
              "  </div>\n"
            ],
            "text/plain": [
              "                                                text  toxic\n",
              "0  Explanation\\nWhy the edits made under my usern...      0\n",
              "1  D'aww! He matches this background colour I'm s...      0\n",
              "2  Hey man, I'm really not trying to edit war. It...      0\n",
              "3  \"\\nMore\\nI can't make any real suggestions on ...      0\n",
              "4  You, sir, are my hero. Any chance you remember...      0"
            ]
          },
          "execution_count": 6,
          "metadata": {},
          "output_type": "execute_result"
        }
      ],
      "execution_count": 6
    },
    {
      "cell_type": "code",
      "source": "data.tail()",
      "metadata": {
        "colab": {
          "base_uri": "https://localhost:8080/",
          "height": 206
        },
        "id": "l_P1aS-zQn0C",
        "outputId": "bf6829da-b4cf-431a-f79b-db7924827971"
      },
      "outputs": [
        {
          "data": {
            "application/vnd.google.colaboratory.intrinsic+json": {
              "summary": "{\n  \"name\": \"data\",\n  \"rows\": 5,\n  \"fields\": [\n    {\n      \"column\": \"text\",\n      \"properties\": {\n        \"dtype\": \"string\",\n        \"num_unique_values\": 5,\n        \"samples\": [\n          \"You should be ashamed of yourself \\n\\nThat is a horrible thing you put on my talk page.  128.61.19.93\",\n          \"\\\"\\nAnd ... I really don't think you understand.  I came here and my idea was bad right away.  What kind of community goes \\\"\\\"you have bad ideas\\\"\\\" go away, instead of helping rewrite them.   \\\"\",\n          \"Spitzer \\n\\nUmm, theres no actual article for prostitution ring.  - Crunch Captain.\"\n        ],\n        \"semantic_type\": \"\",\n        \"description\": \"\"\n      }\n    },\n    {\n      \"column\": \"toxic\",\n      \"properties\": {\n        \"dtype\": \"number\",\n        \"std\": 0,\n        \"min\": 0,\n        \"max\": 0,\n        \"num_unique_values\": 1,\n        \"samples\": [\n          0\n        ],\n        \"semantic_type\": \"\",\n        \"description\": \"\"\n      }\n    }\n  ]\n}",
              "type": "dataframe"
            },
            "text/html": [
              "\n",
              "  <div id=\"df-f8efca69-6c83-48e2-97cf-af590ba94770\" class=\"colab-df-container\">\n",
              "    <div>\n",
              "<style scoped>\n",
              "    .dataframe tbody tr th:only-of-type {\n",
              "        vertical-align: middle;\n",
              "    }\n",
              "\n",
              "    .dataframe tbody tr th {\n",
              "        vertical-align: top;\n",
              "    }\n",
              "\n",
              "    .dataframe thead th {\n",
              "        text-align: right;\n",
              "    }\n",
              "</style>\n",
              "<table border=\"1\" class=\"dataframe\">\n",
              "  <thead>\n",
              "    <tr style=\"text-align: right;\">\n",
              "      <th></th>\n",
              "      <th>text</th>\n",
              "      <th>toxic</th>\n",
              "    </tr>\n",
              "  </thead>\n",
              "  <tbody>\n",
              "    <tr>\n",
              "      <th>159446</th>\n",
              "      <td>\":::::And for the second time of asking, when ...</td>\n",
              "      <td>0</td>\n",
              "    </tr>\n",
              "    <tr>\n",
              "      <th>159447</th>\n",
              "      <td>You should be ashamed of yourself \\n\\nThat is ...</td>\n",
              "      <td>0</td>\n",
              "    </tr>\n",
              "    <tr>\n",
              "      <th>159448</th>\n",
              "      <td>Spitzer \\n\\nUmm, theres no actual article for ...</td>\n",
              "      <td>0</td>\n",
              "    </tr>\n",
              "    <tr>\n",
              "      <th>159449</th>\n",
              "      <td>And it looks like it was actually you who put ...</td>\n",
              "      <td>0</td>\n",
              "    </tr>\n",
              "    <tr>\n",
              "      <th>159450</th>\n",
              "      <td>\"\\nAnd ... I really don't think you understand...</td>\n",
              "      <td>0</td>\n",
              "    </tr>\n",
              "  </tbody>\n",
              "</table>\n",
              "</div>\n",
              "    <div class=\"colab-df-buttons\">\n",
              "\n",
              "  <div class=\"colab-df-container\">\n",
              "    <button class=\"colab-df-convert\" onclick=\"convertToInteractive('df-f8efca69-6c83-48e2-97cf-af590ba94770')\"\n",
              "            title=\"Convert this dataframe to an interactive table.\"\n",
              "            style=\"display:none;\">\n",
              "\n",
              "  <svg xmlns=\"http://www.w3.org/2000/svg\" height=\"24px\" viewBox=\"0 -960 960 960\">\n",
              "    <path d=\"M120-120v-720h720v720H120Zm60-500h600v-160H180v160Zm220 220h160v-160H400v160Zm0 220h160v-160H400v160ZM180-400h160v-160H180v160Zm440 0h160v-160H620v160ZM180-180h160v-160H180v160Zm440 0h160v-160H620v160Z\"/>\n",
              "  </svg>\n",
              "    </button>\n",
              "\n",
              "  <style>\n",
              "    .colab-df-container {\n",
              "      display:flex;\n",
              "      gap: 12px;\n",
              "    }\n",
              "\n",
              "    .colab-df-convert {\n",
              "      background-color: #E8F0FE;\n",
              "      border: none;\n",
              "      border-radius: 50%;\n",
              "      cursor: pointer;\n",
              "      display: none;\n",
              "      fill: #1967D2;\n",
              "      height: 32px;\n",
              "      padding: 0 0 0 0;\n",
              "      width: 32px;\n",
              "    }\n",
              "\n",
              "    .colab-df-convert:hover {\n",
              "      background-color: #E2EBFA;\n",
              "      box-shadow: 0px 1px 2px rgba(60, 64, 67, 0.3), 0px 1px 3px 1px rgba(60, 64, 67, 0.15);\n",
              "      fill: #174EA6;\n",
              "    }\n",
              "\n",
              "    .colab-df-buttons div {\n",
              "      margin-bottom: 4px;\n",
              "    }\n",
              "\n",
              "    [theme=dark] .colab-df-convert {\n",
              "      background-color: #3B4455;\n",
              "      fill: #D2E3FC;\n",
              "    }\n",
              "\n",
              "    [theme=dark] .colab-df-convert:hover {\n",
              "      background-color: #434B5C;\n",
              "      box-shadow: 0px 1px 3px 1px rgba(0, 0, 0, 0.15);\n",
              "      filter: drop-shadow(0px 1px 2px rgba(0, 0, 0, 0.3));\n",
              "      fill: #FFFFFF;\n",
              "    }\n",
              "  </style>\n",
              "\n",
              "    <script>\n",
              "      const buttonEl =\n",
              "        document.querySelector('#df-f8efca69-6c83-48e2-97cf-af590ba94770 button.colab-df-convert');\n",
              "      buttonEl.style.display =\n",
              "        google.colab.kernel.accessAllowed ? 'block' : 'none';\n",
              "\n",
              "      async function convertToInteractive(key) {\n",
              "        const element = document.querySelector('#df-f8efca69-6c83-48e2-97cf-af590ba94770');\n",
              "        const dataTable =\n",
              "          await google.colab.kernel.invokeFunction('convertToInteractive',\n",
              "                                                    [key], {});\n",
              "        if (!dataTable) return;\n",
              "\n",
              "        const docLinkHtml = 'Like what you see? Visit the ' +\n",
              "          '<a target=\"_blank\" href=https://colab.research.google.com/notebooks/data_table.ipynb>data table notebook</a>'\n",
              "          + ' to learn more about interactive tables.';\n",
              "        element.innerHTML = '';\n",
              "        dataTable['output_type'] = 'display_data';\n",
              "        await google.colab.output.renderOutput(dataTable, element);\n",
              "        const docLink = document.createElement('div');\n",
              "        docLink.innerHTML = docLinkHtml;\n",
              "        element.appendChild(docLink);\n",
              "      }\n",
              "    </script>\n",
              "  </div>\n",
              "\n",
              "\n",
              "<div id=\"df-055967b0-6469-464d-b282-6967d310ca85\">\n",
              "  <button class=\"colab-df-quickchart\" onclick=\"quickchart('df-055967b0-6469-464d-b282-6967d310ca85')\"\n",
              "            title=\"Suggest charts\"\n",
              "            style=\"display:none;\">\n",
              "\n",
              "<svg xmlns=\"http://www.w3.org/2000/svg\" height=\"24px\"viewBox=\"0 0 24 24\"\n",
              "     width=\"24px\">\n",
              "    <g>\n",
              "        <path d=\"M19 3H5c-1.1 0-2 .9-2 2v14c0 1.1.9 2 2 2h14c1.1 0 2-.9 2-2V5c0-1.1-.9-2-2-2zM9 17H7v-7h2v7zm4 0h-2V7h2v10zm4 0h-2v-4h2v4z\"/>\n",
              "    </g>\n",
              "</svg>\n",
              "  </button>\n",
              "\n",
              "<style>\n",
              "  .colab-df-quickchart {\n",
              "      --bg-color: #E8F0FE;\n",
              "      --fill-color: #1967D2;\n",
              "      --hover-bg-color: #E2EBFA;\n",
              "      --hover-fill-color: #174EA6;\n",
              "      --disabled-fill-color: #AAA;\n",
              "      --disabled-bg-color: #DDD;\n",
              "  }\n",
              "\n",
              "  [theme=dark] .colab-df-quickchart {\n",
              "      --bg-color: #3B4455;\n",
              "      --fill-color: #D2E3FC;\n",
              "      --hover-bg-color: #434B5C;\n",
              "      --hover-fill-color: #FFFFFF;\n",
              "      --disabled-bg-color: #3B4455;\n",
              "      --disabled-fill-color: #666;\n",
              "  }\n",
              "\n",
              "  .colab-df-quickchart {\n",
              "    background-color: var(--bg-color);\n",
              "    border: none;\n",
              "    border-radius: 50%;\n",
              "    cursor: pointer;\n",
              "    display: none;\n",
              "    fill: var(--fill-color);\n",
              "    height: 32px;\n",
              "    padding: 0;\n",
              "    width: 32px;\n",
              "  }\n",
              "\n",
              "  .colab-df-quickchart:hover {\n",
              "    background-color: var(--hover-bg-color);\n",
              "    box-shadow: 0 1px 2px rgba(60, 64, 67, 0.3), 0 1px 3px 1px rgba(60, 64, 67, 0.15);\n",
              "    fill: var(--button-hover-fill-color);\n",
              "  }\n",
              "\n",
              "  .colab-df-quickchart-complete:disabled,\n",
              "  .colab-df-quickchart-complete:disabled:hover {\n",
              "    background-color: var(--disabled-bg-color);\n",
              "    fill: var(--disabled-fill-color);\n",
              "    box-shadow: none;\n",
              "  }\n",
              "\n",
              "  .colab-df-spinner {\n",
              "    border: 2px solid var(--fill-color);\n",
              "    border-color: transparent;\n",
              "    border-bottom-color: var(--fill-color);\n",
              "    animation:\n",
              "      spin 1s steps(1) infinite;\n",
              "  }\n",
              "\n",
              "  @keyframes spin {\n",
              "    0% {\n",
              "      border-color: transparent;\n",
              "      border-bottom-color: var(--fill-color);\n",
              "      border-left-color: var(--fill-color);\n",
              "    }\n",
              "    20% {\n",
              "      border-color: transparent;\n",
              "      border-left-color: var(--fill-color);\n",
              "      border-top-color: var(--fill-color);\n",
              "    }\n",
              "    30% {\n",
              "      border-color: transparent;\n",
              "      border-left-color: var(--fill-color);\n",
              "      border-top-color: var(--fill-color);\n",
              "      border-right-color: var(--fill-color);\n",
              "    }\n",
              "    40% {\n",
              "      border-color: transparent;\n",
              "      border-right-color: var(--fill-color);\n",
              "      border-top-color: var(--fill-color);\n",
              "    }\n",
              "    60% {\n",
              "      border-color: transparent;\n",
              "      border-right-color: var(--fill-color);\n",
              "    }\n",
              "    80% {\n",
              "      border-color: transparent;\n",
              "      border-right-color: var(--fill-color);\n",
              "      border-bottom-color: var(--fill-color);\n",
              "    }\n",
              "    90% {\n",
              "      border-color: transparent;\n",
              "      border-bottom-color: var(--fill-color);\n",
              "    }\n",
              "  }\n",
              "</style>\n",
              "\n",
              "  <script>\n",
              "    async function quickchart(key) {\n",
              "      const quickchartButtonEl =\n",
              "        document.querySelector('#' + key + ' button');\n",
              "      quickchartButtonEl.disabled = true;  // To prevent multiple clicks.\n",
              "      quickchartButtonEl.classList.add('colab-df-spinner');\n",
              "      try {\n",
              "        const charts = await google.colab.kernel.invokeFunction(\n",
              "            'suggestCharts', [key], {});\n",
              "      } catch (error) {\n",
              "        console.error('Error during call to suggestCharts:', error);\n",
              "      }\n",
              "      quickchartButtonEl.classList.remove('colab-df-spinner');\n",
              "      quickchartButtonEl.classList.add('colab-df-quickchart-complete');\n",
              "    }\n",
              "    (() => {\n",
              "      let quickchartButtonEl =\n",
              "        document.querySelector('#df-055967b0-6469-464d-b282-6967d310ca85 button');\n",
              "      quickchartButtonEl.style.display =\n",
              "        google.colab.kernel.accessAllowed ? 'block' : 'none';\n",
              "    })();\n",
              "  </script>\n",
              "</div>\n",
              "    </div>\n",
              "  </div>\n"
            ],
            "text/plain": [
              "                                                     text  toxic\n",
              "159446  \":::::And for the second time of asking, when ...      0\n",
              "159447  You should be ashamed of yourself \\n\\nThat is ...      0\n",
              "159448  Spitzer \\n\\nUmm, theres no actual article for ...      0\n",
              "159449  And it looks like it was actually you who put ...      0\n",
              "159450  \"\\nAnd ... I really don't think you understand...      0"
            ]
          },
          "execution_count": 7,
          "metadata": {},
          "output_type": "execute_result"
        }
      ],
      "execution_count": 7
    },
    {
      "cell_type": "code",
      "source": "data.info()",
      "metadata": {
        "colab": {
          "base_uri": "https://localhost:8080/"
        },
        "id": "b1kWh9XhQn0D",
        "outputId": "ebf4a821-13f9-40e7-d778-dd564f380f96"
      },
      "outputs": [
        {
          "name": "stdout",
          "output_type": "stream",
          "text": "<class 'pandas.core.frame.DataFrame'>\n,Index: 159292 entries, 0 to 159450\n,Data columns (total 2 columns):\n, #   Column  Non-Null Count   Dtype \n,---  ------  --------------   ----- \n, 0   text    159292 non-null  object\n, 1   toxic   159292 non-null  int64 \n,dtypes: int64(1), object(1)\n,memory usage: 3.6+ MB\n"
        }
      ],
      "execution_count": 8
    },
    {
      "cell_type": "markdown",
      "source": "Посмотрим на распределение классов",
      "metadata": {
        "id": "DvDfpLbBQn0D"
      }
    },
    {
      "cell_type": "code",
      "source": "data['toxic'].value_counts(normalize=True).plot(kind='pie',\n                                                figsize=[6,6],\n                                                autopct='%1.1f%%',\n                                                labels=['Отзыв токсичный [0]', 'Отзыв позитивный [1]']\n                                               )\n\nplt.title('Распределение классов комментариев')\nplt.ylabel('')\nplt.xlabel('')",
      "metadata": {
        "colab": {
          "base_uri": "https://localhost:8080/",
          "height": 538
        },
        "id": "l10PncnpQn0D",
        "outputId": "955e3be3-cffc-4864-f4fb-19443ce3aa6f"
      },
      "outputs": [
        {
          "data": {
            "text/plain": [
              "Text(0.5, 0, '')"
            ]
          },
          "execution_count": 9,
          "metadata": {},
          "output_type": "execute_result"
        },
        {
          "data": {
            "image/png": "[encoded data removed]",
            "text/plain": [
              "<Figure size 600x600 with 1 Axes>"
            ]
          },
          "metadata": {},
          "output_type": "display_data"
        }
      ],
      "execution_count": 9
    },
    {
      "cell_type": "markdown",
      "source": "Классы несбалансированы, для тренировочной выборки сделаем oversampling",
      "metadata": {
        "id": "sEdMhDuFQn0D"
      }
    },
    {
      "cell_type": "markdown",
      "source": "<div class=\"alert alert-success\">\n<font size=\"5\"><b>Комментарий ревьюера</b></font>\n\nУспех:\n\n\nПлюс за проверку на сбалансированность\n\n\n\n\n<div class=\"alert alert-warning\">\n\nСовет:\n\n\n\n\n- можно также посчитать количество слов в предложений,  длину слов в твите, опять же в разбивке по Таргету.  Если будут какие-то сильные отличия, возможно из-за этого стоит сгенерировать дополнительные признаки для наших моделей. Или например можно использовать библиотеку SentimentIntensityAnalyzer для оценки сантиментов, и посмотреть насколько хорошо ее оценки корелирует с нашими таргетами\n   \n   \n- когда мы работаем с текстами, describe итп описательные статистике не использовать, но можно провести частотный анализ текста.  Предлагаю для этого использовать [облако слов](https://habr.com/ru/post/517410/) - чтобы получить общее представление о тематике и о наиболее часто встречаемых словах в токсичных и нетоксичных твитах (в облаке уже автоматически будут убраны стоп слова). Кроме того графики, рисунки делают проект визуально интересней\n   \n   \nВ тренажере облако импортируем так\n\n    !pip install wordcloud\n\n\nили\n\n    !pip install wordcloud==1.8.2.2  \n\n\nИ возможно дополнительно надо будет сделать\n\n\n\n    !pip install --upgrade Pillow  (попробуй версию 9.5.0)\n",
      "metadata": {
        "id": "hFjodxLfpFyW"
      }
    },
    {
      "cell_type": "markdown",
      "source": "\n<div class=\"alert alert-danger\">\n<font size=\"5\"><b>Комментарий ревьюера</b></font>\n\n\n\nОшибка:  \n    \n    \n- валидационный датасет должен иметь первоначальный вид (я о пропорциях нулей и единичек), раз ты ниже используешь GridSearchCV/cross_val_score он будет oversample, в итоге, на валидационной будет завышенная метрика (чтобы это исправить нужно засунуть перебалансировщик в pipeline).   Если бы всё дело ограничилось этим, еще можно было поставить желтый комментарий. Но ты и тестовую выборку oversample, тем самым полностью исказив результаты (тут простая логика - реальные данные ведь будут содержать дисбаланс, а test это имитация реального прогноза, а после балансировки он уже не отражает реальность)\n\n<div class=\"alert alert-info\"> <b>Комментарии студентаV1:</b> Добавил семплирование в пайплайн обучения модели, дальнейшее тестирвоание идет на изначальном датасете </div>    \n    \n    \n",
      "metadata": {
        "id": "3OjZOXc_pFyX"
      }
    },
    {
      "cell_type": "markdown",
      "source": "<div class=\"alert alert-warning\">\n<font size=\"5\"><b>Комментарий ревьюераV2</b></font>\n\n\n\nСовет 🤔:\n\n\nRandomOverSampler Надо было засунуть прямо в pipeline, обрати внимание на огромную разницу между метрикой на кросс валидации и тестовой, это всё результат некорректно перебалансировки.  Но по крайней мере Теперь ты не балансируешь тестовую выборку, и благодаря toxic-bert получил корректную метрику на тестовой",
      "metadata": {}
    },
    {
      "cell_type": "code",
      "source": "data.info()",
      "metadata": {
        "colab": {
          "base_uri": "https://localhost:8080/"
        },
        "id": "s_TLZOqB_ci8",
        "outputId": "709f00c8-70c3-49d5-8f13-95471fe1446e"
      },
      "outputs": [
        {
          "name": "stdout",
          "output_type": "stream",
          "text": "<class 'pandas.core.frame.DataFrame'>\n,Index: 159292 entries, 0 to 159450\n,Data columns (total 2 columns):\n, #   Column  Non-Null Count   Dtype \n,---  ------  --------------   ----- \n, 0   text    159292 non-null  object\n, 1   toxic   159292 non-null  int64 \n,dtypes: int64(1), object(1)\n,memory usage: 3.6+ MB\n"
        }
      ],
      "execution_count": 10
    },
    {
      "cell_type": "markdown",
      "source": "Создадим эмбеддинги",
      "metadata": {
        "id": "ToljDipHQn0D"
      }
    },
    {
      "cell_type": "code",
      "source": "torch.cuda.empty_cache()\n\nfeatures = generate_embeddings(data, 'text', batch_size=30)\n\nfeatures = features.cpu().numpy()",
      "metadata": {
        "colab": {
          "base_uri": "https://localhost:8080/"
        },
        "id": "Px5nhhoeQn0E",
        "outputId": "05c24025-e1f3-4282-f166-1d20a41cce0b"
      },
      "outputs": [
        {
          "name": "stderr",
          "output_type": "stream",
          "text": "100%|██████████| 5310/5310 [17:10<00:00,  5.15it/s]\n"
        }
      ],
      "execution_count": 11
    },
    {
      "cell_type": "markdown",
      "source": "## Обучение",
      "metadata": {
        "id": "N8jpKDhVQn0E"
      }
    },
    {
      "cell_type": "markdown",
      "source": "Обучим две модели классификации, после чего по результатам кросс-валидации выберем лучшую для дальнейшего тестирования",
      "metadata": {
        "id": "Xyz8lzSxK17U"
      }
    },
    {
      "cell_type": "code",
      "source": "models = []\nf1_cross = []",
      "metadata": {
        "id": "aFqsWFD8K03a"
      },
      "outputs": [],
      "execution_count": 12
    },
    {
      "cell_type": "code",
      "source": "x_train, x_test, y_train, y_test = train_test_split(features,\n                                                    data['toxic'],\n                                                    test_size=0.5,\n                                                    random_state=RANDOM_STATE)\n\nros = RandomOverSampler(random_state=RANDOM_STATE)\n\nx_train_resampled, y_train_resampled = ros.fit_resample(x_train, y_train)",
      "metadata": {
        "id": "3U-l5v0YQn0E"
      },
      "outputs": [],
      "execution_count": 13
    },
    {
      "cell_type": "markdown",
      "source": "\n\n\n<div class=\"alert alert-warning\">\n<font size=\"5\"><b>Комментарий ревьюера</b></font>\n\n\n\n\nСовет:\n\n\n\n\n\n\n\n\n- обрати внимание на аргумент stratify, он позволит сохранить изначальное распределение таргетов во всех новых датасетах.  Существующий дисбаланс никуда не денется, но в каждом датасете он будет одинаковым. [Почитать](https://pythonru.com/baza-znanij/sklearn-train-test-split) можно тут\n\n\n",
      "metadata": {
        "id": "B7BrovvopFyY"
      }
    },
    {
      "cell_type": "markdown",
      "source": "### LogisticRegression",
      "metadata": {
        "id": "QPaM74gA8Tps"
      }
    },
    {
      "cell_type": "code",
      "source": "pipeline = Pipeline(steps=[\n    ('LogisticRegression', LogisticRegression(random_state=RANDOM_STATE))\n])\n\nparam_grid = {\n    'LogisticRegression__C': [0.1, 1, 5],\n    'LogisticRegression__solver': ['saga', 'newton-cg', 'lbfgs']\n}",
      "metadata": {
        "id": "2BbmFCRb0YSw"
      },
      "outputs": [],
      "execution_count": 14
    },
    {
      "cell_type": "code",
      "source": "lr = RandomizedSearchCV(pipeline,\n                                   param_distributions=param_grid,\n                                   n_iter=5,\n                                   cv=3,\n                                   scoring='f1',\n                                   random_state=RANDOM_STATE,\n                                   n_jobs=-1)\n\nlr.fit(x_train_resampled, y_train_resampled)\n\nf1_lr = lr.best_score_\nprint(\"Замеряем f1 на кросс-валидации:\", f1_lr)\n\nmodel_lr = lr.best_estimator_\n\nmodels.append(model_lr)\nf1_cross.append(f1_lr)",
      "metadata": {
        "colab": {
          "base_uri": "https://localhost:8080/"
        },
        "id": "Qj1tDcbH7MXs",
        "outputId": "c0e75959-3220-4bcc-d05e-afc665dea5a4"
      },
      "outputs": [
        {
          "name": "stdout",
          "output_type": "stream",
          "text": "Замеряем f1 на кросс-валидации: 0.9818603398383036\n"
        }
      ],
      "execution_count": 15
    },
    {
      "cell_type": "markdown",
      "source": "<div class=\"alert alert-success\">\n<font size=\"5\"><b>Комментарий ревьюера</b></font>\n\nУспех:\n\n\n\n\n\n\nКорректно использован RandomizedSearchCV. Есть и другие варианты, тюнинга гиперпараметров, можешь [ознакомиться](https://www.freecodecamp.org/news/hyperparameter-optimization-techniques-machine-learning/)\n  ",
      "metadata": {
        "id": "53MGXRkkpFyd"
      }
    },
    {
      "cell_type": "markdown",
      "source": "### DecisionTreeClassifier",
      "metadata": {
        "id": "S-G1n2mR8njG"
      }
    },
    {
      "cell_type": "code",
      "source": "pipeline = Pipeline(steps=[\n    ('DecisionTreeClassifier', DecisionTreeClassifier(random_state=RANDOM_STATE))\n])\n\nparam_grid = {\n    'DecisionTreeClassifier__max_depth': [3, 5, 10],\n    'DecisionTreeClassifier__min_samples_split': [2, 5, 10],\n    'DecisionTreeClassifier__criterion': ['gini', 'entropy']\n}",
      "metadata": {
        "id": "kSNwdt-h8phQ"
      },
      "outputs": [],
      "execution_count": 16
    },
    {
      "cell_type": "code",
      "source": "dtc = RandomizedSearchCV(pipeline,\n                         param_distributions=param_grid,\n                         cv=3,\n                         scoring='f1',\n                         random_state=RANDOM_STATE,\n                         n_jobs=-1)\n\ndtc.fit(x_train_resampled, y_train_resampled)\n\nf1_dtc = dtc.best_score_\nprint(\"Замеряем f1 на кросс-валидации:\", f1_dtc)\n\nmodel_dtc = dtc.best_estimator_\n\nmodels.append(model_dtc)\nf1_cross.append(f1_dtc)",
      "metadata": {
        "colab": {
          "base_uri": "https://localhost:8080/"
        },
        "id": "0gizFzaU8tDI",
        "outputId": "db99d3d2-d9b7-4e72-a4e7-1718be83b4ae"
      },
      "outputs": [
        {
          "name": "stdout",
          "output_type": "stream",
          "text": "Замеряем f1 на кросс-валидации: 0.9854177932678138\n"
        }
      ],
      "execution_count": 17
    },
    {
      "cell_type": "markdown",
      "source": "### Результаты на кросс-валидации и выбор лучшей модели",
      "metadata": {
        "id": "BwrX1tJf9Cx3"
      }
    },
    {
      "cell_type": "code",
      "source": "results = []\n\nfor model, f1 in zip(models, f1_cross):\n\n    model_name = type(model.steps[0][1]).__name__\n\n    results.append({\"Model\": model_name, \"f1\": f1})\n\nresults_df = pd.DataFrame(results)",
      "metadata": {
        "id": "9sGoO_Qs9KOU"
      },
      "outputs": [],
      "execution_count": 18
    },
    {
      "cell_type": "code",
      "source": "results_df",
      "metadata": {
        "colab": {
          "base_uri": "https://localhost:8080/",
          "height": 112
        },
        "id": "24xAKYMUElU3",
        "outputId": "137b4a89-773e-42fb-d354-5db14ab7fe6d"
      },
      "outputs": [
        {
          "data": {
            "application/vnd.google.colaboratory.intrinsic+json": {
              "summary": "{\n  \"name\": \"results_df\",\n  \"rows\": 2,\n  \"fields\": [\n    {\n      \"column\": \"Model\",\n      \"properties\": {\n        \"dtype\": \"string\",\n        \"num_unique_values\": 2,\n        \"samples\": [\n          \"DecisionTreeClassifier\",\n          \"LogisticRegression\"\n        ],\n        \"semantic_type\": \"\",\n        \"description\": \"\"\n      }\n    },\n    {\n      \"column\": \"f1\",\n      \"properties\": {\n        \"dtype\": \"number\",\n        \"std\": 0.0025154994437619972,\n        \"min\": 0.9818603398383036,\n        \"max\": 0.9854177932678138,\n        \"num_unique_values\": 2,\n        \"samples\": [\n          0.9854177932678138,\n          0.9818603398383036\n        ],\n        \"semantic_type\": \"\",\n        \"description\": \"\"\n      }\n    }\n  ]\n}",
              "type": "dataframe",
              "variable_name": "results_df"
            },
            "text/html": [
              "\n",
              "  <div id=\"df-491217b0-6f0b-48e4-afb3-cbacebdcf27f\" class=\"colab-df-container\">\n",
              "    <div>\n",
              "<style scoped>\n",
              "    .dataframe tbody tr th:only-of-type {\n",
              "        vertical-align: middle;\n",
              "    }\n",
              "\n",
              "    .dataframe tbody tr th {\n",
              "        vertical-align: top;\n",
              "    }\n",
              "\n",
              "    .dataframe thead th {\n",
              "        text-align: right;\n",
              "    }\n",
              "</style>\n",
              "<table border=\"1\" class=\"dataframe\">\n",
              "  <thead>\n",
              "    <tr style=\"text-align: right;\">\n",
              "      <th></th>\n",
              "      <th>Model</th>\n",
              "      <th>f1</th>\n",
              "    </tr>\n",
              "  </thead>\n",
              "  <tbody>\n",
              "    <tr>\n",
              "      <th>0</th>\n",
              "      <td>LogisticRegression</td>\n",
              "      <td>0.981860</td>\n",
              "    </tr>\n",
              "    <tr>\n",
              "      <th>1</th>\n",
              "      <td>DecisionTreeClassifier</td>\n",
              "      <td>0.985418</td>\n",
              "    </tr>\n",
              "  </tbody>\n",
              "</table>\n",
              "</div>\n",
              "    <div class=\"colab-df-buttons\">\n",
              "\n",
              "  <div class=\"colab-df-container\">\n",
              "    <button class=\"colab-df-convert\" onclick=\"convertToInteractive('df-491217b0-6f0b-48e4-afb3-cbacebdcf27f')\"\n",
              "            title=\"Convert this dataframe to an interactive table.\"\n",
              "            style=\"display:none;\">\n",
              "\n",
              "  <svg xmlns=\"http://www.w3.org/2000/svg\" height=\"24px\" viewBox=\"0 -960 960 960\">\n",
              "    <path d=\"M120-120v-720h720v720H120Zm60-500h600v-160H180v160Zm220 220h160v-160H400v160Zm0 220h160v-160H400v160ZM180-400h160v-160H180v160Zm440 0h160v-160H620v160ZM180-180h160v-160H180v160Zm440 0h160v-160H620v160Z\"/>\n",
              "  </svg>\n",
              "    </button>\n",
              "\n",
              "  <style>\n",
              "    .colab-df-container {\n",
              "      display:flex;\n",
              "      gap: 12px;\n",
              "    }\n",
              "\n",
              "    .colab-df-convert {\n",
              "      background-color: #E8F0FE;\n",
              "      border: none;\n",
              "      border-radius: 50%;\n",
              "      cursor: pointer;\n",
              "      display: none;\n",
              "      fill: #1967D2;\n",
              "      height: 32px;\n",
              "      padding: 0 0 0 0;\n",
              "      width: 32px;\n",
              "    }\n",
              "\n",
              "    .colab-df-convert:hover {\n",
              "      background-color: #E2EBFA;\n",
              "      box-shadow: 0px 1px 2px rgba(60, 64, 67, 0.3), 0px 1px 3px 1px rgba(60, 64, 67, 0.15);\n",
              "      fill: #174EA6;\n",
              "    }\n",
              "\n",
              "    .colab-df-buttons div {\n",
              "      margin-bottom: 4px;\n",
              "    }\n",
              "\n",
              "    [theme=dark] .colab-df-convert {\n",
              "      background-color: #3B4455;\n",
              "      fill: #D2E3FC;\n",
              "    }\n",
              "\n",
              "    [theme=dark] .colab-df-convert:hover {\n",
              "      background-color: #434B5C;\n",
              "      box-shadow: 0px 1px 3px 1px rgba(0, 0, 0, 0.15);\n",
              "      filter: drop-shadow(0px 1px 2px rgba(0, 0, 0, 0.3));\n",
              "      fill: #FFFFFF;\n",
              "    }\n",
              "  </style>\n",
              "\n",
              "    <script>\n",
              "      const buttonEl =\n",
              "        document.querySelector('#df-491217b0-6f0b-48e4-afb3-cbacebdcf27f button.colab-df-convert');\n",
              "      buttonEl.style.display =\n",
              "        google.colab.kernel.accessAllowed ? 'block' : 'none';\n",
              "\n",
              "      async function convertToInteractive(key) {\n",
              "        const element = document.querySelector('#df-491217b0-6f0b-48e4-afb3-cbacebdcf27f');\n",
              "        const dataTable =\n",
              "          await google.colab.kernel.invokeFunction('convertToInteractive',\n",
              "                                                    [key], {});\n",
              "        if (!dataTable) return;\n",
              "\n",
              "        const docLinkHtml = 'Like what you see? Visit the ' +\n",
              "          '<a target=\"_blank\" href=https://colab.research.google.com/notebooks/data_table.ipynb>data table notebook</a>'\n",
              "          + ' to learn more about interactive tables.';\n",
              "        element.innerHTML = '';\n",
              "        dataTable['output_type'] = 'display_data';\n",
              "        await google.colab.output.renderOutput(dataTable, element);\n",
              "        const docLink = document.createElement('div');\n",
              "        docLink.innerHTML = docLinkHtml;\n",
              "        element.appendChild(docLink);\n",
              "      }\n",
              "    </script>\n",
              "  </div>\n",
              "\n",
              "\n",
              "<div id=\"df-2ee28ebd-b562-44e1-976a-a4e219a52698\">\n",
              "  <button class=\"colab-df-quickchart\" onclick=\"quickchart('df-2ee28ebd-b562-44e1-976a-a4e219a52698')\"\n",
              "            title=\"Suggest charts\"\n",
              "            style=\"display:none;\">\n",
              "\n",
              "<svg xmlns=\"http://www.w3.org/2000/svg\" height=\"24px\"viewBox=\"0 0 24 24\"\n",
              "     width=\"24px\">\n",
              "    <g>\n",
              "        <path d=\"M19 3H5c-1.1 0-2 .9-2 2v14c0 1.1.9 2 2 2h14c1.1 0 2-.9 2-2V5c0-1.1-.9-2-2-2zM9 17H7v-7h2v7zm4 0h-2V7h2v10zm4 0h-2v-4h2v4z\"/>\n",
              "    </g>\n",
              "</svg>\n",
              "  </button>\n",
              "\n",
              "<style>\n",
              "  .colab-df-quickchart {\n",
              "      --bg-color: #E8F0FE;\n",
              "      --fill-color: #1967D2;\n",
              "      --hover-bg-color: #E2EBFA;\n",
              "      --hover-fill-color: #174EA6;\n",
              "      --disabled-fill-color: #AAA;\n",
              "      --disabled-bg-color: #DDD;\n",
              "  }\n",
              "\n",
              "  [theme=dark] .colab-df-quickchart {\n",
              "      --bg-color: #3B4455;\n",
              "      --fill-color: #D2E3FC;\n",
              "      --hover-bg-color: #434B5C;\n",
              "      --hover-fill-color: #FFFFFF;\n",
              "      --disabled-bg-color: #3B4455;\n",
              "      --disabled-fill-color: #666;\n",
              "  }\n",
              "\n",
              "  .colab-df-quickchart {\n",
              "    background-color: var(--bg-color);\n",
              "    border: none;\n",
              "    border-radius: 50%;\n",
              "    cursor: pointer;\n",
              "    display: none;\n",
              "    fill: var(--fill-color);\n",
              "    height: 32px;\n",
              "    padding: 0;\n",
              "    width: 32px;\n",
              "  }\n",
              "\n",
              "  .colab-df-quickchart:hover {\n",
              "    background-color: var(--hover-bg-color);\n",
              "    box-shadow: 0 1px 2px rgba(60, 64, 67, 0.3), 0 1px 3px 1px rgba(60, 64, 67, 0.15);\n",
              "    fill: var(--button-hover-fill-color);\n",
              "  }\n",
              "\n",
              "  .colab-df-quickchart-complete:disabled,\n",
              "  .colab-df-quickchart-complete:disabled:hover {\n",
              "    background-color: var(--disabled-bg-color);\n",
              "    fill: var(--disabled-fill-color);\n",
              "    box-shadow: none;\n",
              "  }\n",
              "\n",
              "  .colab-df-spinner {\n",
              "    border: 2px solid var(--fill-color);\n",
              "    border-color: transparent;\n",
              "    border-bottom-color: var(--fill-color);\n",
              "    animation:\n",
              "      spin 1s steps(1) infinite;\n",
              "  }\n",
              "\n",
              "  @keyframes spin {\n",
              "    0% {\n",
              "      border-color: transparent;\n",
              "      border-bottom-color: var(--fill-color);\n",
              "      border-left-color: var(--fill-color);\n",
              "    }\n",
              "    20% {\n",
              "      border-color: transparent;\n",
              "      border-left-color: var(--fill-color);\n",
              "      border-top-color: var(--fill-color);\n",
              "    }\n",
              "    30% {\n",
              "      border-color: transparent;\n",
              "      border-left-color: var(--fill-color);\n",
              "      border-top-color: var(--fill-color);\n",
              "      border-right-color: var(--fill-color);\n",
              "    }\n",
              "    40% {\n",
              "      border-color: transparent;\n",
              "      border-right-color: var(--fill-color);\n",
              "      border-top-color: var(--fill-color);\n",
              "    }\n",
              "    60% {\n",
              "      border-color: transparent;\n",
              "      border-right-color: var(--fill-color);\n",
              "    }\n",
              "    80% {\n",
              "      border-color: transparent;\n",
              "      border-right-color: var(--fill-color);\n",
              "      border-bottom-color: var(--fill-color);\n",
              "    }\n",
              "    90% {\n",
              "      border-color: transparent;\n",
              "      border-bottom-color: var(--fill-color);\n",
              "    }\n",
              "  }\n",
              "</style>\n",
              "\n",
              "  <script>\n",
              "    async function quickchart(key) {\n",
              "      const quickchartButtonEl =\n",
              "        document.querySelector('#' + key + ' button');\n",
              "      quickchartButtonEl.disabled = true;  // To prevent multiple clicks.\n",
              "      quickchartButtonEl.classList.add('colab-df-spinner');\n",
              "      try {\n",
              "        const charts = await google.colab.kernel.invokeFunction(\n",
              "            'suggestCharts', [key], {});\n",
              "      } catch (error) {\n",
              "        console.error('Error during call to suggestCharts:', error);\n",
              "      }\n",
              "      quickchartButtonEl.classList.remove('colab-df-spinner');\n",
              "      quickchartButtonEl.classList.add('colab-df-quickchart-complete');\n",
              "    }\n",
              "    (() => {\n",
              "      let quickchartButtonEl =\n",
              "        document.querySelector('#df-2ee28ebd-b562-44e1-976a-a4e219a52698 button');\n",
              "      quickchartButtonEl.style.display =\n",
              "        google.colab.kernel.accessAllowed ? 'block' : 'none';\n",
              "    })();\n",
              "  </script>\n",
              "</div>\n",
              "    </div>\n",
              "  </div>\n"
            ],
            "text/plain": [
              "                    Model        f1\n",
              "0      LogisticRegression  0.981860\n",
              "1  DecisionTreeClassifier  0.985418"
            ]
          },
          "execution_count": 19,
          "metadata": {},
          "output_type": "execute_result"
        }
      ],
      "execution_count": 19
    },
    {
      "cell_type": "markdown",
      "source": "На основании полученных результатов, DecisionTreeClassifier продемонстрировала наилучший результат по метрике F1 с значением 0.985, что делает её лидером среди рассмотренных моделей. Следующей по эффективности идёт LogisticRegression (0.981).\n\nТаким образом, с учётом полученных результатов, мы можем с уверенностью приступить к тестированию DecisionTreeClassifier на тестовой выборке для более точной оценки её производительности.",
      "metadata": {
        "id": "zoKSQY6KFouZ"
      }
    },
    {
      "cell_type": "markdown",
      "source": "## Тестирование",
      "metadata": {
        "id": "aL9oZeiYG_Yv"
      }
    },
    {
      "cell_type": "markdown",
      "source": "Протестируем лучшую модель кросс-валидации на тестовой выборке.",
      "metadata": {
        "id": "62Gyc3pjHQOI"
      }
    },
    {
      "cell_type": "code",
      "source": "best_model_predictions = model_dtc.predict(x_test)\n\nf1_model = f1_score(y_test, best_model_predictions)\n\nprint(f\"f1 для DecisionTreeClassifier: {f1_model}\")",
      "metadata": {
        "colab": {
          "base_uri": "https://localhost:8080/"
        },
        "id": "GsYE2Z_7HG7N",
        "outputId": "36dc1813-0359-41a5-f90c-74f19e917f64"
      },
      "outputs": [
        {
          "name": "stdout",
          "output_type": "stream",
          "text": "f1 для DecisionTreeClassifier: 0.9052188158202668\n"
        }
      ],
      "execution_count": 21
    },
    {
      "cell_type": "markdown",
      "source": "<div class=\"alert alert-success\">\n<font size=\"5\"><b>Комментарий ревьюера</b></font>\n\nУспех:\n\n- Все верно, логика моделирования не нарушена, тут тестируем только лучшую модель отобранную на валидации\n    \n    \n\n<div class=\"alert alert-warning\">\n\n\n\nСовет:\n\n  \n- Ты получил завышенную метрику за счёт некорректной перебалансировки. Есть модели обученных на специальных в текстах и предназначенные для специальных целей, их можно поискать на  на huggingface. Там авторы указывают,на каких данных учили и для каких целей, можно поискать. В частности для нашего датосета возможно будут интересна модель  toxic-bert. Судя по названию она самое то )\n\n\n\n    \nПодгрузить можно так\n    \n    \n    model = transformers.AutoModel.from_pretrained('unitary/toxic-bert')\n    tokenizer = transformers.AutoTokenizer.from_pretrained('unitary/toxic-bert')\n\n\nПредлагаю попробовать её\n\n   \n-  можно попробовать оценить важный слово с помощью библиотеки transformers-interpret\n    \n    \n    from transformers_interpret import SequenceClassificationExplainer\n    \n    cls_explainer = SequenceClassificationExplainer(model, tokenizer)\n    \n    word_attributions = cls_explainer(Тут какой-нибудь негативный твит)\n    cls_explainer.predicted_class_name\n    \n    \nword_attributions    список кортежей, где каждый кортеж содержит токен (слово или подслово) и его важность (значение SHAP) для предсказания модели. И вот так можно пробежаться по негативным твитам,  и собрать какую-то среднюю статистику по словам которые важны для  ",
      "metadata": {
        "id": "BOUKUr_6pFye"
      }
    },
    {
      "cell_type": "markdown",
      "source": "<div class=\"alert alert-warning\">\n<font size=\"5\"><b>Комментарий ревьюера</b></font>\n\nСовет:\n\n\n\n- Как мы можем еще использовать Берт?   Можно потюнить модель Берта,  можешь взять на основу [статью (там вообще все возможные варианты рассмотрены, причём с использованием разных библиотек)](https://habr.com/ru/articles/704592/) или этот [ролик](https://www.youtube.com/watch?v=Z1J3sTJYIcc&list=PLEwK9wdS5g0qksxWxtE5c2KuFkIfUXe3i&index=14), там прямо можно посмотреть процесс кодирования, и получше разобраться в практической релизации Берта (тут реализация сложнее, метрики я видел за 0,8). Если использовать [Trainer](https://pytorch.org/rl/reference/generated/torchrl.trainers.Trainer.html), будет всё гораздо проще.\n    \n     \n\n- Можно попробовать TFIDF, это устаревший подход, но зато есть возможность попрактиковаться в использовании связки pipeline+gridsearch и лемматизации (там есть свои тонкости). А в конце можно посмотреть какие слова модель считают наиболее важными\n\n",
      "metadata": {
        "id": "6jGNwYqIpFye"
      }
    },
    {
      "cell_type": "markdown",
      "source": "## Выводы",
      "metadata": {
        "id": "MosMBYFmQn0E"
      }
    },
    {
      "cell_type": "markdown",
      "source": "Вывод: по результатам исследования лучшей моделью оказалась DecisionTreeClassifier c метрикой f1 на тестовой выборке в размере 0.905, что удовлетворяет требуемому значению в 0.75\n\nИспользовалась самописная функция по извлечению эмбеддингов, которая использует предобученную модель toxic-bert. Выбор пал именно на toxic-bert из-за ограничений по памяти гп и потому, что эта модель была предобученна конкретно под эту задачу.",
      "metadata": {
        "id": "y3MYhHmHJxng"
      }
    },
    {
      "cell_type": "markdown",
      "source": "\n<div class=\"alert alert-info\">\n<font size=\"5\"><b>Комментарий ревьюера</b></font>\n\n\n\nНикита, у тебя старательно выполненная работа, все четко, осмысленно.\n\n\n\n\nВыводы присутствуют\n\n\nЛогика моделирования не нарушена, RS использован корректно, здорово что использовал продвинутый подход\n\n\n\nТак как число ошибок небольшое, можешь усложнить проект:\n\n\n\n- можно попробовать по-другому использовать Берт/Можно использовать устаревший подход с TFIDF. плюсы в том что потренируешься в леоматизации, и использование pipeline, чтобы не было утечки данных.  Кроме того когда использую TFIDF, можно получить яркие оценки важности слов (самым важным окажется слово fuck)\n\n\n- для красивой  визуализации можешь построить облако для токсичных и нетоксичных комментариев\n\n\n\n- чтобы заглянуть внутрь модели, можешь посмотреть какой из признаков является наиболее важный для логистической регресси (должно получиться слово fuck)   \n\n\n\n\nОбязательное к исправлению:\n\n\n\n\n- oversampling скользкая дорожка, в частности не забываем что для  валидационного (желательно) и тестового датасета (обязательно) мы не делаем oversamping. Иначе просто искусственное завышение метрики\n\n\n\n\n\n\n\nЖду исправлений, для принятия проекта. Если какие то вопросы, то сразу спрашивай )\n\n\n<font color='green'><b>Полезные (и просто интересные) материалы:</b> \\\nДля работы с текстами используют и другие подходы. Например, сейчас активно используются RNN (LSTM) и трансформеры (BERT и другие с улицы Сезам, например, ELMO). НО! Они не являются панацеей, не всегда они нужны, так как и TF-IDF или Word2Vec + модели из классического ML тоже могут справляться. \\\nBERT тяжелый, существует много его вариаций для разных задач, есть готовые модели, есть надстройки над библиотекой transformers. Если, обучать BERT на GPU (можно в Google Colab или Kaggle), то должно быть побыстрее.\\\nhttps://huggingface.co/transformers/model_doc/bert.html \\\nhttps://t.me/renat_alimbekov \\\nhttps://colah.github.io/posts/2015-08-Understanding-LSTMs/ - Про LSTM \\\nhttps://web.stanford.edu/~jurafsky/slp3/10.pdf - про энкодер-декодер модели, этеншены\\\nhttps://pytorch.org/tutorials/beginner/transformer_tutorial.html - официальный гайд\nпо трансформеру от создателей pytorch\\\nhttps://transformer.huggingface.co/ - поболтать с трансформером \\\nБиблиотеки: allennlp, fairseq, transformers, tensorflow-text — множествореализованных\nметодов для трансформеров методов NLP \\\nWord2Vec https://radimrehurek.com/gensim/models/word2vec.html\n\n\nЕсли понравилась работа с текстами, то можешь посмотреть очень интересный (но очень-очень сложный) курс лекций: https://github.com/yandexdataschool/nlp_course .\n\nЕсли нравится смотреть и слушать то есть целый курс на Ютубе https://www.youtube.com/watch?v=qDMwIQRQt-M&list=PLEwK9wdS5g0qksxWxtE5c2KuFkIfUXe3i&index=1\n",
      "metadata": {
        "id": "OCEMJu2MpFyf"
      }
    },
    {
      "cell_type": "markdown",
      "source": "\n<div class=\"alert alert-info\">\n<font size=\"5\"><b>Комментарий ревьюераV2</b></font>\n\nСпасибо за работу!    \n\n    \nКрасное исправлено,  но обрати внимание что из-за не совсем корректного использования перебалансировки ты получаешь  завышенную метрику на кросс валидации\n\n \n  \nА в остальном работа Никита. Желаю успехов в дальнейшей учебе!\n \n\n</div>",
      "metadata": {}
    },
    {
      "cell_type": "markdown",
      "source": "## Чек-лист проверки",
      "metadata": {
        "id": "ovjYOhavQn0E"
      }
    },
    {
      "cell_type": "markdown",
      "source": "- [x]  Jupyter Notebook открыт\n- [x]  Весь код выполняется без ошибок\n- [x]  Ячейки с кодом расположены в порядке исполнения\n- [x]  Данные загружены и подготовлены\n- [x]  Модели обучены\n- [x]  Значение метрики *F1* не меньше 0.75\n- [x]  Выводы написаны",
      "metadata": {
        "id": "IklG0hk8Qn0E"
      }
    }
  ]
}